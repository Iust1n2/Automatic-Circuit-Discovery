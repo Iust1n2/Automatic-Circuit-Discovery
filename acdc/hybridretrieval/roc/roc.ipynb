{
 "cells": [
  {
   "cell_type": "code",
   "execution_count": 1,
   "metadata": {},
   "outputs": [
    {
     "name": "stdout",
     "output_type": "stream",
     "text": [
      "The autoreload extension is already loaded. To reload it, use:\n",
      "  %reload_ext autoreload\n"
     ]
    },
    {
     "data": {
      "text/plain": [
       "<torch.autograd.grad_mode.set_grad_enabled at 0x7f397d614070>"
      ]
     },
     "execution_count": 1,
     "metadata": {},
     "output_type": "execute_result"
    }
   ],
   "source": [
    "import os \n",
    "\n",
    "os.chdir(\"/home/iustin/Mech-Interp/Automatic-Circuit-Discovery/acdc/\")\n",
    "\n",
    "import collections\n",
    "import IPython\n",
    "\n",
    "if IPython.get_ipython() is not None:\n",
    "    IPython.get_ipython().run_line_magic(\"load_ext\", \"autoreload\")  # type: ignore\n",
    "    IPython.get_ipython().run_line_magic(\"autoreload\", \"2\")  # type: ignore\n",
    "\n",
    "from copy import deepcopy\n",
    "from subnetwork_probing.train import iterative_correspondence_from_mask\n",
    "from acdc.acdc_utils import filter_nodes, get_edge_stats, get_node_stats, get_present_nodes, reset_network\n",
    "import pandas as pd\n",
    "import gc\n",
    "import math\n",
    "import sys\n",
    "import re\n",
    "from typing import (\n",
    "    List,\n",
    "    Tuple,\n",
    "    Dict,\n",
    "    Any,\n",
    "    Optional,\n",
    "    Union,\n",
    "    Callable,\n",
    "    TypeVar,\n",
    "    Iterable,\n",
    "    Set,\n",
    ")\n",
    "import requests\n",
    "from acdc.TLACDCInterpNode import parse_interpnode, heads_to_nodes_to_mask\n",
    "import pickle\n",
    "import wandb\n",
    "import IPython\n",
    "from tqdm import tqdm\n",
    "import random\n",
    "from functools import partial\n",
    "import json\n",
    "import pathlib\n",
    "import warnings\n",
    "import time\n",
    "import networkx as nx\n",
    "import os\n",
    "import torch\n",
    "import huggingface_hub\n",
    "import pygraphviz as pgv\n",
    "from enum import Enum\n",
    "from dataclasses import dataclass\n",
    "import torch.nn as nn\n",
    "import torch.nn.functional as F\n",
    "import torch.optim as optim\n",
    "import numpy as np\n",
    "import einops\n",
    "from tqdm import tqdm\n",
    "import yaml\n",
    "from transformers import AutoModelForCausalLM, AutoConfig, AutoTokenizer\n",
    "\n",
    "import matplotlib.pyplot as plt\n",
    "import plotly.express as px\n",
    "import plotly.io as pio\n",
    "from plotly.subplots import make_subplots\n",
    "import plotly.graph_objects as go\n",
    "\n",
    "from transformer_lens.hook_points import HookedRootModule, HookPoint\n",
    "from transformer_lens.HookedTransformer import (\n",
    "    HookedTransformer,\n",
    ")\n",
    "from acdc.acdc_utils import (\n",
    "    make_nd_dict,\n",
    "    shuffle_tensor,\n",
    "    cleanup,\n",
    "    ct,\n",
    ")\n",
    "\n",
    "from acdc.TLACDCEdge import (\n",
    "    TorchIndex,\n",
    "    Edge,\n",
    "    EdgeType,\n",
    ")  # these introduce several important classes !!!\n",
    "\n",
    "from acdc.TLACDCCorrespondence import TLACDCCorrespondence\n",
    "from acdc.TLACDCInterpNode import TLACDCInterpNode\n",
    "from acdc.TLACDCExperiment import TLACDCExperiment\n",
    "\n",
    "from collections import defaultdict, deque, OrderedDict\n",
    "from acdc.acdc_utils import (\n",
    "    kl_divergence,\n",
    ")\n",
    "\n",
    "from acdc.acdc_graphics import (\n",
    "    build_colorscheme,\n",
    "    get_node_name,\n",
    "    show,\n",
    ")\n",
    "\n",
    "from acdc.hybridretrieval.utils import ( \n",
    "    get_all_hybrid_retrieval_things,\n",
    "    get_gpt2_small\n",
    ")\n",
    "\n",
    "import argparse\n",
    "from pathlib import Path\n",
    "\n",
    "def get_col(df, col): # dumb util\n",
    "    non_null_entries = list(df.loc[df[col].notnull(), col])\n",
    "    return non_null_entries \n",
    "\n",
    "torch.autograd.set_grad_enabled(False)"
   ]
  },
  {
   "cell_type": "code",
   "execution_count": 6,
   "metadata": {},
   "outputs": [],
   "source": [
    "import IPython\n",
    "# from roc_plot_generator import get_acdc_runs, plot_roc_curve\n",
    "\n",
    "parser = argparse.ArgumentParser(description=\"Used to control ROC plot scripts (for standardisation with other files...)\")\n",
    "parser.add_argument('--task', type=str, required=True, choices=['ioi', 'docstring', 'induction', 'tracr-reverse', 'tracr-proportion', 'greaterthan', 'hybrid-retrieval'], help='Choose a task from the available options: ioi, docstring, induction, tracr-reverse, tracr-proportion, greaterthan')\n",
    "parser.add_argument(\"--mode\", type=str, required=False, choices=[\"edges\", \"nodes\"], help=\"Choose a mode from the available options: edges, nodes\", default=\"edges\") # TODO implement nodes\n",
    "parser.add_argument('--zero-ablation', action='store_true', help='Use zero ablation')\n",
    "parser.add_argument('--metric', type=str, default=\"kl_div\", help=\"Which metric to use for the experiment\")\n",
    "parser.add_argument('--reset-network', type=int, default=0, help=\"Whether to reset the network we're operating on before running interp on it\")\n",
    "parser.add_argument(\"--alg\", type=str, default=\"none\", choices=[\"none\", \"acdc\", \"sp\", \"16h\", \"canonical\"])\n",
    "parser.add_argument(\"--skip-sixteen-heads\", action=\"store_true\", help=\"Skip the 16 heads stuff\")\n",
    "parser.add_argument(\"--skip-sp\", action=\"store_true\", help=\"Skip the SP stuff\")\n",
    "parser.add_argument(\"--testing\", action=\"store_true\", help=\"Use testing data instead of validation data\")\n",
    "parser.add_argument(\"--device\", type=str, default=\"cpu\")\n",
    "parser.add_argument(\"--out-dir\", type=str, default=\"DEFAULT\")\n",
    "parser.add_argument('--torch-num-threads', type=int, default=0, help=\"How many threads to use for torch (0=all)\")\n",
    "parser.add_argument('--seed', type=int, default=42, help=\"Random seed\")\n",
    "parser.add_argument(\"--canonical-graph-save-dir\", type=str, default=\"DEFAULT\")\n",
    "parser.add_argument(\"--only-save-canonical\", action=\"store_true\", help=\"Only save the canonical graph\")\n",
    "parser.add_argument(\"--ignore-missing-score\", action=\"store_true\", help=\"Ignore runs that are missing score\")\n",
    "\n",
    "ipython = IPython.get_ipython()\n",
    "if ipython is not None:\n",
    "    # We are in a notebook\n",
    "    # you can put the command you would like to run as the ... in r\"\"\"...\"\"\"\n",
    "    args = parser.parse_args(\n",
    "        [line.strip() for line in r\"\"\"--task=hybrid-retrieval\\\n",
    "--task=hybrid-retrieval\\\n",
    "--metric=kl_div\\\n",
    "--device=cuda\\\n",
    "--reset-network=0\\\n",
    "--alg=acdc\"\"\".split(\"\\\\\\n\")]\n",
    "    )\n",
    "if not args.mode == \"edges\":\n",
    "    raise NotImplementedError(\"Only edges mode is implemented for now\")\n",
    "\n",
    "\n",
    "if args.torch_num_threads > 0:\n",
    "    torch.set_num_threads(args.torch_num_threads)\n",
    "torch.manual_seed(args.seed)\n",
    "\n",
    "TASK = args.task\n",
    "METRIC = args.metric\n",
    "DEVICE = args.device\n",
    "ZERO_ABLATION = True if args.zero_ablation else False\n",
    "RESET_NETWORK = 1 if args.reset_network else 0\n",
    "SKIP_ACDC = False\n",
    "SKIP_SP = True if args.skip_sp else False\n",
    "SKIP_SIXTEEN_HEADS = True if args.skip_sixteen_heads else False\n",
    "SKIP_CANONICAL = False\n",
    "TESTING = True if args.testing else False\n",
    "ONLY_SAVE_CANONICAL = True if args.only_save_canonical else False"
   ]
  },
  {
   "cell_type": "code",
   "execution_count": 7,
   "metadata": {},
   "outputs": [],
   "source": [
    "__file__ = \"/home/iustin/Mech-Interp/Automatic-Circuit-Discovery/acdc/hybridretrieval/roc/roc_plot_generator.py\"\n",
    "if args.out_dir == \"DEFAULT\":\n",
    "    OUT_DIR = Path(__file__).resolve().parent / \"roc_plots\" / \"plots_data\"\n",
    "    CANONICAL_OUT_DIR = Path(__file__).resolve().parent / \"results\" / \"canonical_circuits\"\n",
    "else:\n",
    "    OUT_DIR = Path(args.out_dir)\n",
    "    CANONICAL_OUT_DIR = Path(args.canonical_graph_save_dir)\n",
    "CANONICAL_OUT_DIR.mkdir(exist_ok=True, parents=True)"
   ]
  },
  {
   "cell_type": "code",
   "execution_count": 8,
   "metadata": {},
   "outputs": [
    {
     "name": "stdout",
     "output_type": "stream",
     "text": [
      "File already exists, skipping\n"
     ]
    }
   ],
   "source": [
    "if args.alg != \"none\":\n",
    "    SKIP_ACDC = False if args.alg == \"acdc\" else True\n",
    "    SKIP_SP = False if args.alg == \"sp\" else True\n",
    "    SKIP_SIXTEEN_HEADS = False if args.alg == \"16h\" else True\n",
    "    SKIP_CANONICAL = False if args.alg == \"canonical\" else True\n",
    "    OUT_FILE = OUT_DIR / f\"{args.alg}-{args.task}-{args.metric}-{args.zero_ablation}-{args.reset_network}.json\"\n",
    "\n",
    "    if OUT_FILE.exists():\n",
    "        print(\"File already exists, skipping\")\n",
    "        # sys.exit(0)\n",
    "else:\n",
    "    OUT_FILE = None"
   ]
  },
  {
   "cell_type": "code",
   "execution_count": 9,
   "metadata": {},
   "outputs": [
    {
     "name": "stdout",
     "output_type": "stream",
     "text": [
      "Loaded pretrained model gpt2 into HookedTransformer\n",
      "Moving model to device:  cuda\n",
      "Clean Prompts:\n",
      "Alice lives in France, Paris - Alice, John lives in Germany, Berlin - John, Peter lives in USA, Washington - Peter\n",
      "Lucy lives in Turkey, Ankara - Lucy, Sara lives in Italy, Rome - Sara, Bob lives in Spain, Madrid - Bob\n",
      "Tom lives in Canada, Toronto - Tom, Anna lives in Australia, Canberra - Anna, Michael lives in Japan, Tokyo - Michael\n",
      "David lives in Brazil, Rio de Janeiro - David, Alice lives in France, Paris - Alice, Peter lives in Germany, Berlin - Peter\n",
      "Sara lives in USA, Washington - Sara, Lucy lives in Turkey, Ankara - Lucy, Tom lives in Italy, Rome - Tom\n",
      "John lives in Spain, Madrid - John, Michael lives in Canada, Toronto - Michael, Anna lives in Australia, Canberra - Anna\n",
      "David lives in Japan, Tokyo - David, Sara lives in Brazil, Rio de Janeiro - Sara, Alice lives in France, Paris - Alice\n",
      "Bob lives in Germany, Berlin - Bob, Peter lives in USA, Washington - Peter, Tom lives in Turkey, Ankara - Tom\n",
      "Anna lives in Italy, Rome - Anna, Tom lives in Spain, Madrid - Tom, David lives in Canada, Toronto - David\n",
      "Michael lives in Australia, Canberra - Michael, John lives in Japan, Tokyo - John, John lives in Brazil, Rio de Janeiro - John\n",
      "Alice lives in France, Paris - Alice, Bob lives in Germany, Berlin - Bob, John lives in USA, Washington - John\n",
      "Peter lives in Turkey, Ankara - Peter, Alice lives in Italy, Rome - Alice, Bob lives in France, Paris - Bob\n",
      "Lucy lives in Spain, Madrid - Lucy, Michael lives in Canada, Toronto - Michael, Tom lives in Australia, Canberra - Tom\n",
      "Anna lives in Japan, Tokyo - Anna, Sara lives in Brazil, Rio de Janeiro - Sara, David lives in France, Paris - David\n",
      "John lives in Germany, Berlin - John, Peter lives in USA, Washington - Peter, Bob lives in Turkey, Ankara - Bob\n",
      "Tom lives in Italy, Rome - Tom, David lives in Spain, Madrid - David, Michael lives in Canada, Toronto - Michael\n",
      "Sara lives in Australia, Canberra - Sara, Alice lives in Japan, Tokyo - Alice, Bob lives in Brazil, Rio de Janeiro - Bob\n",
      "Peter lives in France, Paris - Peter, Lucy lives in Germany, Berlin - Lucy, Tom lives in USA, Washington - Tom\n",
      "David lives in Turkey, Ankara - David, Michael lives in Italy, Rome - Michael, Anna lives in Spain, Madrid - Anna\n",
      "John lives in Canada, Toronto - John, Sara lives in Australia, Canberra - Sara, Alice lives in Japan, Tokyo - Alice\n",
      "\n",
      "Corrupted Prompts:\n",
      "Alice lives in France, Paris - Alice, John lives in Germany, Berlin - John, Peter lives in Spain, Washington - Peter\n",
      "Lucy lives in Turkey, Ankara - Lucy, Sara lives in Italy, Rome - Sara, Bob lives in Spain, Ankara - Bob\n",
      "Tom lives in Canada, Toronto - Tom, Anna lives in Australia, Canberra - Anna, Michael lives in Australia, Tokyo - Michael\n",
      "David lives in Brazil, Rio de Janeiro - David, Alice lives in France, Paris - Alice, Peter lives in Germany, Bucharest - Peter\n",
      "Sara lives in USA, Washington - Sara, Lucy lives in Turkey, Ankara - Lucy, Tom lives in Canada, Rome - Tom\n",
      "John lives in Spain, Madrid - John, Michael lives in Canada, Toronto - Michael, Anna lives in Australia, Toronto - Anna\n",
      "David lives in Japan, Tokyo - David, Sara lives in Brazil, Rio de Janeiro - Sara, Alice lives in Brazil, Paris - Alice\n",
      "Bob lives in Germany, Berlin - Bob, Peter lives in USA, Washington - Peter, Tom lives in Turkey, Sofia - Tom\n",
      "Anna lives in Italy, Rome - Anna, Tom lives in Spain, Madrid - Tom, David lives in Spain, Toronto - David\n",
      "Michael lives in Australia, Canberra - Michael, John lives in Japan, Tokyo - John, John lives in Brazil, Tirana - John\n",
      "Alice lives in France, Paris - Alice, Bob lives in Germany, Berlin - Bob, John lives in Japan, Washington - John\n",
      "Peter lives in Turkey, Ankara - Peter, Alice lives in Italy, Rome - Alice, Bob lives in France, Milan - Bob\n",
      "Lucy lives in Spain, Madrid - Lucy, Michael lives in Canada, Toronto - Michael, Tom lives in Portugal, Canberra - Tom\n",
      "Anna lives in Japan, Tokyo - Anna, Sara lives in Brazil, Rio de Janeiro - Sara, David lives in France, Los Angeles - David\n",
      "John lives in Germany, Berlin - John, Peter lives in USA, Washington - Peter, Bob lives in Germany, Ankara - Bob\n",
      "Tom lives in Italy, Rome - Tom, David lives in Spain, Madrid - David, Michael lives in Canada, California - Michael\n",
      "Sara lives in Australia, Canberra - Sara, Alice lives in Japan, Tokyo - Alice, Bob lives in Venezuela, Rio de Janeiro - Bob\n",
      "Peter lives in France, Paris - Peter, Lucy lives in Germany, Berlin - Lucy, Tom lives in USA, Medellin - Tom\n",
      "David lives in Turkey, Ankara - David, Michael lives in Italy, Rome - Michael, Anna lives in Italy, Madrid - Anna\n",
      "John lives in Canada, Toronto - John, Sara lives in Australia, Canberra - Sara, Alice lives in Japan, Canberra - Alice\n",
      "Clean Data Datasets:\n",
      "torch.Size([20, 29])\n",
      "\n",
      "Corrupted Data Datasets:\n",
      "torch.Size([20, 29])\n",
      "\n",
      "Clean Labels shape:\n",
      "torch.Size([20, 1])\n",
      "\n",
      "Clean Wrong Labels shape:\n",
      "torch.Size([20, 1])\n",
      "Shape of validation_data: torch.Size([10, 29])\n",
      "Shape of validation_patch_data: torch.Size([10, 29])\n",
      "Shape of test_data: torch.Size([10, 29])\n",
      "Shape of test_patch_data: torch.Size([10, 29])\n"
     ]
    }
   ],
   "source": [
    "if TASK == \"hybrid-retrieval\":\n",
    "    num_examples = 20\n",
    "    things = get_all_hybrid_retrieval_things(num_examples, DEVICE, METRIC, True)\n",
    "\n",
    "else:\n",
    "    raise NotImplementedError(\"TODO \" + TASK)\n",
    "\n",
    "if RESET_NETWORK:\n",
    "    reset_network(TASK, DEVICE, things.tl_model)\n",
    "    gc.collect()\n",
    "    torch.cuda.empty_cache()"
   ]
  },
  {
   "cell_type": "code",
   "execution_count": 10,
   "metadata": {},
   "outputs": [
    {
     "name": "stderr",
     "output_type": "stream",
     "text": [
      "WARNING:root:cache_all is deprecated and will eventually be removed, use add_caching_hooks or run_with_cache\n",
      "WARNING:root:cache_all is deprecated and will eventually be removed, use add_caching_hooks or run_with_cache\n"
     ]
    },
    {
     "name": "stdout",
     "output_type": "stream",
     "text": [
      "dict_keys(['blocks.11.hook_resid_post', 'blocks.11.hook_mlp_out', 'blocks.11.hook_mlp_in', 'blocks.11.attn.hook_result', 'blocks.11.attn.hook_q', 'blocks.11.hook_q_input', 'blocks.11.attn.hook_k', 'blocks.11.hook_k_input', 'blocks.11.attn.hook_v', 'blocks.11.hook_v_input', 'blocks.10.hook_mlp_out', 'blocks.10.hook_mlp_in', 'blocks.10.attn.hook_result', 'blocks.10.attn.hook_q', 'blocks.10.hook_q_input', 'blocks.10.attn.hook_k', 'blocks.10.hook_k_input', 'blocks.10.attn.hook_v', 'blocks.10.hook_v_input', 'blocks.9.hook_mlp_out', 'blocks.9.hook_mlp_in', 'blocks.9.attn.hook_result', 'blocks.9.attn.hook_q', 'blocks.9.hook_q_input', 'blocks.9.attn.hook_k', 'blocks.9.hook_k_input', 'blocks.9.attn.hook_v', 'blocks.9.hook_v_input', 'blocks.8.hook_mlp_out', 'blocks.8.hook_mlp_in', 'blocks.8.attn.hook_result', 'blocks.8.attn.hook_q', 'blocks.8.hook_q_input', 'blocks.8.attn.hook_k', 'blocks.8.hook_k_input', 'blocks.8.attn.hook_v', 'blocks.8.hook_v_input', 'blocks.7.hook_mlp_out', 'blocks.7.hook_mlp_in', 'blocks.7.attn.hook_result', 'blocks.7.attn.hook_q', 'blocks.7.hook_q_input', 'blocks.7.attn.hook_k', 'blocks.7.hook_k_input', 'blocks.7.attn.hook_v', 'blocks.7.hook_v_input', 'blocks.6.hook_mlp_out', 'blocks.6.hook_mlp_in', 'blocks.6.attn.hook_result', 'blocks.6.attn.hook_q', 'blocks.6.hook_q_input', 'blocks.6.attn.hook_k', 'blocks.6.hook_k_input', 'blocks.6.attn.hook_v', 'blocks.6.hook_v_input', 'blocks.5.hook_mlp_out', 'blocks.5.hook_mlp_in', 'blocks.5.attn.hook_result', 'blocks.5.attn.hook_q', 'blocks.5.hook_q_input', 'blocks.5.attn.hook_k', 'blocks.5.hook_k_input', 'blocks.5.attn.hook_v', 'blocks.5.hook_v_input', 'blocks.4.hook_mlp_out', 'blocks.4.hook_mlp_in', 'blocks.4.attn.hook_result', 'blocks.4.attn.hook_q', 'blocks.4.hook_q_input', 'blocks.4.attn.hook_k', 'blocks.4.hook_k_input', 'blocks.4.attn.hook_v', 'blocks.4.hook_v_input', 'blocks.3.hook_mlp_out', 'blocks.3.hook_mlp_in', 'blocks.3.attn.hook_result', 'blocks.3.attn.hook_q', 'blocks.3.hook_q_input', 'blocks.3.attn.hook_k', 'blocks.3.hook_k_input', 'blocks.3.attn.hook_v', 'blocks.3.hook_v_input', 'blocks.2.hook_mlp_out', 'blocks.2.hook_mlp_in', 'blocks.2.attn.hook_result', 'blocks.2.attn.hook_q', 'blocks.2.hook_q_input', 'blocks.2.attn.hook_k', 'blocks.2.hook_k_input', 'blocks.2.attn.hook_v', 'blocks.2.hook_v_input', 'blocks.1.hook_mlp_out', 'blocks.1.hook_mlp_in', 'blocks.1.attn.hook_result', 'blocks.1.attn.hook_q', 'blocks.1.hook_q_input', 'blocks.1.attn.hook_k', 'blocks.1.hook_k_input', 'blocks.1.attn.hook_v', 'blocks.1.hook_v_input', 'blocks.0.hook_mlp_out', 'blocks.0.hook_mlp_in', 'blocks.0.attn.hook_result', 'blocks.0.attn.hook_q', 'blocks.0.hook_q_input', 'blocks.0.attn.hook_k', 'blocks.0.hook_k_input', 'blocks.0.attn.hook_v', 'blocks.0.hook_v_input', 'blocks.0.hook_resid_pre'])\n",
      "ln_final.hook_normalized\n",
      "ln_final.hook_scale\n",
      "blocks.11.hook_resid_post\n",
      "blocks.11.hook_mlp_out\n",
      "blocks.11.mlp.hook_post\n",
      "blocks.11.mlp.hook_pre\n",
      "blocks.11.ln2.hook_normalized\n",
      "blocks.11.ln2.hook_scale\n",
      "blocks.11.hook_mlp_in\n",
      "blocks.11.hook_resid_mid\n",
      "blocks.11.hook_attn_out\n",
      "blocks.11.attn.hook_result\n",
      "blocks.11.attn.hook_z\n",
      "blocks.11.attn.hook_pattern\n",
      "blocks.11.attn.hook_attn_scores\n",
      "blocks.11.attn.hook_v\n",
      "blocks.11.attn.hook_k\n",
      "blocks.11.attn.hook_q\n",
      "blocks.11.ln1.hook_normalized\n",
      "blocks.11.ln1.hook_scale\n",
      "blocks.11.hook_v_input\n",
      "blocks.11.hook_k_input\n",
      "blocks.11.hook_q_input\n",
      "blocks.11.hook_resid_pre\n",
      "blocks.10.hook_resid_post\n",
      "blocks.10.hook_mlp_out\n",
      "blocks.10.mlp.hook_post\n",
      "blocks.10.mlp.hook_pre\n",
      "blocks.10.ln2.hook_normalized\n",
      "blocks.10.ln2.hook_scale\n",
      "blocks.10.hook_mlp_in\n",
      "blocks.10.hook_resid_mid\n",
      "blocks.10.hook_attn_out\n",
      "blocks.10.attn.hook_result\n",
      "blocks.10.attn.hook_z\n",
      "blocks.10.attn.hook_pattern\n",
      "blocks.10.attn.hook_attn_scores\n",
      "blocks.10.attn.hook_v\n",
      "blocks.10.attn.hook_k\n",
      "blocks.10.attn.hook_q\n",
      "blocks.10.ln1.hook_normalized\n",
      "blocks.10.ln1.hook_scale\n",
      "blocks.10.hook_v_input\n",
      "blocks.10.hook_k_input\n",
      "blocks.10.hook_q_input\n",
      "blocks.10.hook_resid_pre\n",
      "blocks.9.hook_resid_post\n",
      "blocks.9.hook_mlp_out\n",
      "blocks.9.mlp.hook_post\n",
      "blocks.9.mlp.hook_pre\n",
      "blocks.9.ln2.hook_normalized\n",
      "blocks.9.ln2.hook_scale\n",
      "blocks.9.hook_mlp_in\n",
      "blocks.9.hook_resid_mid\n",
      "blocks.9.hook_attn_out\n",
      "blocks.9.attn.hook_result\n",
      "blocks.9.attn.hook_z\n",
      "blocks.9.attn.hook_pattern\n",
      "blocks.9.attn.hook_attn_scores\n",
      "blocks.9.attn.hook_v\n",
      "blocks.9.attn.hook_k\n",
      "blocks.9.attn.hook_q\n",
      "blocks.9.ln1.hook_normalized\n",
      "blocks.9.ln1.hook_scale\n",
      "blocks.9.hook_v_input\n",
      "blocks.9.hook_k_input\n",
      "blocks.9.hook_q_input\n",
      "blocks.9.hook_resid_pre\n",
      "blocks.8.hook_resid_post\n",
      "blocks.8.hook_mlp_out\n",
      "blocks.8.mlp.hook_post\n",
      "blocks.8.mlp.hook_pre\n",
      "blocks.8.ln2.hook_normalized\n",
      "blocks.8.ln2.hook_scale\n",
      "blocks.8.hook_mlp_in\n",
      "blocks.8.hook_resid_mid\n",
      "blocks.8.hook_attn_out\n",
      "blocks.8.attn.hook_result\n",
      "blocks.8.attn.hook_z\n",
      "blocks.8.attn.hook_pattern\n",
      "blocks.8.attn.hook_attn_scores\n",
      "blocks.8.attn.hook_v\n",
      "blocks.8.attn.hook_k\n",
      "blocks.8.attn.hook_q\n",
      "blocks.8.ln1.hook_normalized\n",
      "blocks.8.ln1.hook_scale\n",
      "blocks.8.hook_v_input\n",
      "blocks.8.hook_k_input\n",
      "blocks.8.hook_q_input\n",
      "blocks.8.hook_resid_pre\n",
      "blocks.7.hook_resid_post\n",
      "blocks.7.hook_mlp_out\n",
      "blocks.7.mlp.hook_post\n",
      "blocks.7.mlp.hook_pre\n",
      "blocks.7.ln2.hook_normalized\n",
      "blocks.7.ln2.hook_scale\n",
      "blocks.7.hook_mlp_in\n",
      "blocks.7.hook_resid_mid\n",
      "blocks.7.hook_attn_out\n",
      "blocks.7.attn.hook_result\n",
      "blocks.7.attn.hook_z\n",
      "blocks.7.attn.hook_pattern\n",
      "blocks.7.attn.hook_attn_scores\n",
      "blocks.7.attn.hook_v\n",
      "blocks.7.attn.hook_k\n",
      "blocks.7.attn.hook_q\n",
      "blocks.7.ln1.hook_normalized\n",
      "blocks.7.ln1.hook_scale\n",
      "blocks.7.hook_v_input\n",
      "blocks.7.hook_k_input\n",
      "blocks.7.hook_q_input\n",
      "blocks.7.hook_resid_pre\n",
      "blocks.6.hook_resid_post\n",
      "blocks.6.hook_mlp_out\n",
      "blocks.6.mlp.hook_post\n",
      "blocks.6.mlp.hook_pre\n",
      "blocks.6.ln2.hook_normalized\n",
      "blocks.6.ln2.hook_scale\n",
      "blocks.6.hook_mlp_in\n",
      "blocks.6.hook_resid_mid\n",
      "blocks.6.hook_attn_out\n",
      "blocks.6.attn.hook_result\n",
      "blocks.6.attn.hook_z\n",
      "blocks.6.attn.hook_pattern\n",
      "blocks.6.attn.hook_attn_scores\n",
      "blocks.6.attn.hook_v\n",
      "blocks.6.attn.hook_k\n",
      "blocks.6.attn.hook_q\n",
      "blocks.6.ln1.hook_normalized\n",
      "blocks.6.ln1.hook_scale\n",
      "blocks.6.hook_v_input\n",
      "blocks.6.hook_k_input\n",
      "blocks.6.hook_q_input\n",
      "blocks.6.hook_resid_pre\n",
      "blocks.5.hook_resid_post\n",
      "blocks.5.hook_mlp_out\n",
      "blocks.5.mlp.hook_post\n",
      "blocks.5.mlp.hook_pre\n",
      "blocks.5.ln2.hook_normalized\n",
      "blocks.5.ln2.hook_scale\n",
      "blocks.5.hook_mlp_in\n",
      "blocks.5.hook_resid_mid\n",
      "blocks.5.hook_attn_out\n",
      "blocks.5.attn.hook_result\n",
      "blocks.5.attn.hook_z\n",
      "blocks.5.attn.hook_pattern\n",
      "blocks.5.attn.hook_attn_scores\n",
      "blocks.5.attn.hook_v\n",
      "blocks.5.attn.hook_k\n",
      "blocks.5.attn.hook_q\n",
      "blocks.5.ln1.hook_normalized\n",
      "blocks.5.ln1.hook_scale\n",
      "blocks.5.hook_v_input\n",
      "blocks.5.hook_k_input\n",
      "blocks.5.hook_q_input\n",
      "blocks.5.hook_resid_pre\n",
      "blocks.4.hook_resid_post\n",
      "blocks.4.hook_mlp_out\n",
      "blocks.4.mlp.hook_post\n",
      "blocks.4.mlp.hook_pre\n",
      "blocks.4.ln2.hook_normalized\n",
      "blocks.4.ln2.hook_scale\n",
      "blocks.4.hook_mlp_in\n",
      "blocks.4.hook_resid_mid\n",
      "blocks.4.hook_attn_out\n",
      "blocks.4.attn.hook_result\n",
      "blocks.4.attn.hook_z\n",
      "blocks.4.attn.hook_pattern\n",
      "blocks.4.attn.hook_attn_scores\n",
      "blocks.4.attn.hook_v\n",
      "blocks.4.attn.hook_k\n",
      "blocks.4.attn.hook_q\n",
      "blocks.4.ln1.hook_normalized\n",
      "blocks.4.ln1.hook_scale\n",
      "blocks.4.hook_v_input\n",
      "blocks.4.hook_k_input\n",
      "blocks.4.hook_q_input\n",
      "blocks.4.hook_resid_pre\n",
      "blocks.3.hook_resid_post\n",
      "blocks.3.hook_mlp_out\n",
      "blocks.3.mlp.hook_post\n",
      "blocks.3.mlp.hook_pre\n",
      "blocks.3.ln2.hook_normalized\n",
      "blocks.3.ln2.hook_scale\n",
      "blocks.3.hook_mlp_in\n",
      "blocks.3.hook_resid_mid\n",
      "blocks.3.hook_attn_out\n",
      "blocks.3.attn.hook_result\n",
      "blocks.3.attn.hook_z\n",
      "blocks.3.attn.hook_pattern\n",
      "blocks.3.attn.hook_attn_scores\n",
      "blocks.3.attn.hook_v\n",
      "blocks.3.attn.hook_k\n",
      "blocks.3.attn.hook_q\n",
      "blocks.3.ln1.hook_normalized\n",
      "blocks.3.ln1.hook_scale\n",
      "blocks.3.hook_v_input\n",
      "blocks.3.hook_k_input\n",
      "blocks.3.hook_q_input\n",
      "blocks.3.hook_resid_pre\n",
      "blocks.2.hook_resid_post\n",
      "blocks.2.hook_mlp_out\n",
      "blocks.2.mlp.hook_post\n",
      "blocks.2.mlp.hook_pre\n",
      "blocks.2.ln2.hook_normalized\n",
      "blocks.2.ln2.hook_scale\n",
      "blocks.2.hook_mlp_in\n",
      "blocks.2.hook_resid_mid\n",
      "blocks.2.hook_attn_out\n",
      "blocks.2.attn.hook_result\n",
      "blocks.2.attn.hook_z\n",
      "blocks.2.attn.hook_pattern\n",
      "blocks.2.attn.hook_attn_scores\n",
      "blocks.2.attn.hook_v\n",
      "blocks.2.attn.hook_k\n",
      "blocks.2.attn.hook_q\n",
      "blocks.2.ln1.hook_normalized\n",
      "blocks.2.ln1.hook_scale\n",
      "blocks.2.hook_v_input\n",
      "blocks.2.hook_k_input\n",
      "blocks.2.hook_q_input\n",
      "blocks.2.hook_resid_pre\n",
      "blocks.1.hook_resid_post\n",
      "blocks.1.hook_mlp_out\n",
      "blocks.1.mlp.hook_post\n",
      "blocks.1.mlp.hook_pre\n",
      "blocks.1.ln2.hook_normalized\n",
      "blocks.1.ln2.hook_scale\n",
      "blocks.1.hook_mlp_in\n",
      "blocks.1.hook_resid_mid\n",
      "blocks.1.hook_attn_out\n",
      "blocks.1.attn.hook_result\n",
      "blocks.1.attn.hook_z\n",
      "blocks.1.attn.hook_pattern\n",
      "blocks.1.attn.hook_attn_scores\n",
      "blocks.1.attn.hook_v\n",
      "blocks.1.attn.hook_k\n",
      "blocks.1.attn.hook_q\n",
      "blocks.1.ln1.hook_normalized\n",
      "blocks.1.ln1.hook_scale\n",
      "blocks.1.hook_v_input\n",
      "blocks.1.hook_k_input\n",
      "blocks.1.hook_q_input\n",
      "blocks.1.hook_resid_pre\n",
      "blocks.0.hook_resid_post\n",
      "blocks.0.hook_mlp_out\n",
      "blocks.0.mlp.hook_post\n",
      "blocks.0.mlp.hook_pre\n",
      "blocks.0.ln2.hook_normalized\n",
      "blocks.0.ln2.hook_scale\n",
      "blocks.0.hook_mlp_in\n",
      "blocks.0.hook_resid_mid\n",
      "blocks.0.hook_attn_out\n",
      "blocks.0.attn.hook_result\n",
      "blocks.0.attn.hook_z\n",
      "blocks.0.attn.hook_pattern\n",
      "blocks.0.attn.hook_attn_scores\n",
      "blocks.0.attn.hook_v\n",
      "blocks.0.attn.hook_k\n",
      "blocks.0.attn.hook_q\n",
      "blocks.0.ln1.hook_normalized\n",
      "blocks.0.ln1.hook_scale\n",
      "blocks.0.hook_v_input\n",
      "blocks.0.hook_k_input\n",
      "blocks.0.hook_q_input\n",
      "blocks.0.hook_resid_pre\n",
      "hook_pos_embed\n",
      "hook_embed\n",
      "self.current_node=TLACDCInterpNode(blocks.11.hook_resid_post, [:])\n",
      "Adding sender hooks...\n",
      "Done corrupting things\n",
      "Adding sender hooks...\n"
     ]
    },
    {
     "name": "stderr",
     "output_type": "stream",
     "text": [
      "WARNING:root:cache_all is deprecated and will eventually be removed, use add_caching_hooks or run_with_cache\n"
     ]
    },
    {
     "name": "stdout",
     "output_type": "stream",
     "text": [
      "No edge 32923\n",
      "Adding sender hooks...\n",
      "Done corrupting things\n"
     ]
    }
   ],
   "source": [
    "import gc\n",
    "gc.collect()\n",
    "torch.cuda.empty_cache()\n",
    "\n",
    "USE_POS_EMBED = False\n",
    "\n",
    "things.tl_model.reset_hooks()\n",
    "exp = TLACDCExperiment(\n",
    "    model=things.tl_model,\n",
    "    threshold=0.05,\n",
    "    early_exit=SKIP_ACDC and SKIP_CANONICAL,\n",
    "    using_wandb=False,\n",
    "    zero_ablation=bool(ZERO_ABLATION),\n",
    "    # Process very little data if just building the canonical graph\n",
    "    ds=things.test_data[slice(1) if ONLY_SAVE_CANONICAL else slice(None)],\n",
    "    ref_ds=things.test_patch_data[slice(1) if ONLY_SAVE_CANONICAL else slice(None)],\n",
    "    metric=things.validation_metric,\n",
    "    second_metric=None,\n",
    "    verbose=True,\n",
    "    use_pos_embed=USE_POS_EMBED,\n",
    "    online_cache_cpu=False,\n",
    "    corrupted_cache_cpu=False,\n",
    ")\n",
    "if not SKIP_ACDC and not ONLY_SAVE_CANONICAL:\n",
    "    exp.setup_corrupted_cache()\n",
    "\n",
    "max_subgraph_size = exp.corr.count_no_edges()"
   ]
  },
  {
   "cell_type": "code",
   "execution_count": 11,
   "metadata": {},
   "outputs": [],
   "source": [
    "CIRCUIT = {\n",
    "    # These are the defined layers and heads for the new task based on your diagram and given task prompt\n",
    "    \"PEOPLE_LOC\": [(0, 2), (0, 6), (1, 10)],  # Example nodes for people and locations\n",
    "    \"INFO\": [(0, 4), (1, 1)],  # Example nodes for the information extracted\n",
    "    \"EARLY\": [(0, None), (1, None), (2, None), (3, None)],\n",
    "    \"MID\": [(5, 3), (6, 2), (7, 8), (8, 10), (9, 7)],\n",
    "    \"LATE\": [(10, None), (11, None)],\n",
    "}\n",
    "\n",
    "GROUP_COLORS = {\n",
    "    \"PEOPLE_LOC\": \"#d7f8ee\",\n",
    "    \"INFO\": \"#e7f2da\",\n",
    "    \"EARLY\": \"#fee7d5\",\n",
    "    \"MID\": \"#ececf5\",\n",
    "}\n",
    "\n",
    "MLP_COLOR = \"#f0f0f0\"\n",
    "\n",
    "def greaterthan_group_colorscheme():\n",
    "    assert set(GROUP_COLORS.keys()) == set(CIRCUIT.keys())\n",
    "\n",
    "    scheme = {\n",
    "        \"embed\": \"#cbd5e8\",\n",
    "        \"<resid_post>\": \"#fff2ae\",\n",
    "    }\n",
    "\n",
    "    for i in range(12):\n",
    "        scheme[f\"<m{i}>\"] = MLP_COLOR\n",
    "\n",
    "    for k, heads in CIRCUIT.items():\n",
    "        for (layer, head) in heads:\n",
    "            if head is None:\n",
    "                scheme[f\"<m{layer}>\"] = GROUP_COLORS[k]\n",
    "            else:\n",
    "                for qkv in [\"\", \"_q\", \"_k\", \"_v\"]:\n",
    "                    scheme[f\"<a{layer}.{head}{qkv}>\"] = GROUP_COLORS[k]\n",
    "    return scheme"
   ]
  },
  {
   "cell_type": "code",
   "execution_count": 12,
   "metadata": {},
   "outputs": [],
   "source": [
    "@dataclass(frozen=True)\n",
    "class Conn:\n",
    "    inp: str\n",
    "    out: str\n",
    "    qkv: tuple[str, ...]\n",
    "\n",
    "def get_kbicr_true_edges(model):\n",
    "    all_groups_of_nodes = [group for _, group in CIRCUIT.items()]\n",
    "    all_nodes = [node for group in all_groups_of_nodes for node in group]\n",
    "    assert len(all_nodes) == 16, len(all_nodes)\n",
    "\n",
    "    nodes_to_mask = [\n",
    "        TLACDCInterpNode(\n",
    "            name=f\"blocks.{layer_idx}.attn.hook_{letter}\",\n",
    "            index=TorchIndex([None, None, head_idx]),\n",
    "            incoming_edge_type=EdgeType.DIRECT_COMPUTATION\n",
    "        )\n",
    "        for layer_idx in range(12)\n",
    "        for head_idx in range(12)\n",
    "        if (layer_idx, head_idx) not in all_nodes\n",
    "        for letter in \"qkv\"\n",
    "    ]\n",
    "\n",
    "    from subnetwork_probing.train import iterative_correspondence_from_mask\n",
    "    corr, _ = iterative_correspondence_from_mask(nodes_to_mask=nodes_to_mask, model=model)\n",
    "\n",
    "    for layer_idx, head_idx in all_nodes:\n",
    "        for letter in \"qkv\":\n",
    "            edge_key = f\"blocks.{layer_idx}.hook_{letter}_input\"\n",
    "            torch_index = TorchIndex([None, None, head_idx])\n",
    "            if torch_index in corr.edges[edge_key]:\n",
    "                edge_to = corr.edges[edge_key][torch_index]\n",
    "\n",
    "                # Check and set presence of keys\n",
    "                pre_key = f\"blocks.0.hook_resid_pre\"\n",
    "                if TorchIndex([None]) in edge_to:\n",
    "                    edge_to[pre_key][TorchIndex([None])].present = False\n",
    "\n",
    "                for layer_from in range(layer_idx):\n",
    "                    for head_from in range(12):\n",
    "                        result_key = f\"blocks.{layer_from}.attn.hook_result\"\n",
    "                        if TorchIndex([None, None, head_from]) in edge_to:\n",
    "                            edge_to[result_key][TorchIndex([None, None, head_from])].present = False\n",
    "\n",
    "                post_key = \"blocks.11.hook_resid_post\"\n",
    "                result_key = f\"blocks.{layer_idx}.attn.hook_result\"\n",
    "                if TorchIndex([None]) in corr.edges[post_key]:\n",
    "                    corr.edges[post_key][TorchIndex([None])][result_key][torch_index].present = False\n",
    "\n",
    "    return OrderedDict({\n",
    "        (t[0], t[1].hashable_tuple, t[2], t[3].hashable_tuple): e.present\n",
    "        for t, e in corr.all_edges().items() if e.present\n",
    "    })"
   ]
  },
  {
   "cell_type": "code",
   "execution_count": 13,
   "metadata": {},
   "outputs": [
    {
     "name": "stdout",
     "output_type": "stream",
     "text": [
      "Editing all edges...\n",
      "Done!\n"
     ]
    }
   ],
   "source": [
    "COLORSCHEME_FOR = collections.defaultdict(lambda: (lambda: \"Pastel2\"), {\n",
    "    # \"ioi\": ioi_group_colorscheme,\n",
    "    # \"greaterthan\": greaterthan_group_colorscheme,\n",
    "    'hybridretrieval': greaterthan_group_colorscheme,\n",
    "})\n",
    "\n",
    "get_true_edges = partial(get_kbicr_true_edges, model=things.tl_model)\n",
    "\n",
    "if TASK != \"induction\":\n",
    "    d = {(d[0], d[1].hashable_tuple, d[2], d[3].hashable_tuple): False for d in exp.corr.all_edges()}\n",
    "    d_trues = get_true_edges()\n",
    "    # if ONLY_SAVE_CANONICAL and TASK == \"ioi\":\n",
    "    #     # Remove non-adjacent layer connections\n",
    "    #     def layer(name):\n",
    "    #         return int(name.split(\".\")[1])\n",
    "\n",
    "    #     for t in list(d_trues.keys()):\n",
    "    #         if abs(layer(t[0]) - layer(t[2])) > 1:\n",
    "    #             del d_trues[t]\n",
    "\n",
    "    for k in d_trues:\n",
    "        d[k] = True\n",
    "\n",
    "    exp.load_subgraph(d)\n",
    "    canonical_circuit_subgraph = deepcopy(exp.corr)\n",
    "    for t in exp.corr.all_edges().keys():\n",
    "        exp.corr.edges[t[0]][t[1]][t[2]][t[3]].present = True\n",
    "    canonical_circuit_subgraph_size = canonical_circuit_subgraph.count_no_edges()\n",
    "\n",
    "    # and reset the sugbgraph...\n",
    "    for t, e in exp.corr.all_edges().items():\n",
    "        exp.corr.edges[t[0]][t[1]][t[2]][t[3]].present = True\n",
    "\n",
    "    for edge in canonical_circuit_subgraph.all_edges().values():\n",
    "        edge.effect_size = 1.0  # make it visible\n",
    "\n",
    "    if ONLY_SAVE_CANONICAL:\n",
    "        colorscheme = COLORSCHEME_FOR[TASK]()\n",
    "        g: pgv.AGraph = show(\n",
    "            canonical_circuit_subgraph,\n",
    "            fname=CANONICAL_OUT_DIR / f\"{TASK}.gv\",\n",
    "            colorscheme=colorscheme,\n",
    "            show_full_index=False,\n",
    "            layout=\"neato\" if TASK in [\"ioi\", \"greaterthan\", \"hybrid-retrieval\"] else \"dot\",\n",
    "        )\n",
    "\n",
    "        show(\n",
    "            canonical_circuit_subgraph,\n",
    "            fname=CANONICAL_OUT_DIR / f\"{TASK}_mlp.gv\",\n",
    "            colorscheme=colorscheme,\n",
    "            show_full_index=False,\n",
    "            remove_qkv=True,\n",
    "        )\n",
    "\n",
    "        if TASK in [\"ioi\", \"greaterthan\", \"hybrid-retrieval\"]:\n",
    "            no_mlp = deepcopy(canonical_circuit_subgraph)\n",
    "            for (n_to, _, n_from, _), e in no_mlp.all_edges().items():\n",
    "                if \"mlp\" in n_to or \"mlp\" in n_from:\n",
    "                    e.present = False\n",
    "            show(\n",
    "                no_mlp,\n",
    "                fname=CANONICAL_OUT_DIR / f\"{TASK}_heads_qkv.gv\",\n",
    "                colorscheme=colorscheme,\n",
    "                show_full_index=False,\n",
    "                remove_self_loops=True,\n",
    "                remove_qkv=False,\n",
    "                layout=\"dot\",\n",
    "            )\n",
    "            show(\n",
    "                no_mlp,\n",
    "                fname=CANONICAL_OUT_DIR / f\"{TASK}_heads.gv\",\n",
    "                colorscheme=colorscheme,\n",
    "                show_full_index=False,\n",
    "                remove_self_loops=True,\n",
    "                remove_qkv=True,\n",
    "                layout=\"dot\",\n",
    "            )\n",
    "\n",
    "# if ONLY_SAVE_CANONICAL:\n",
    "#     sys.exit(0)"
   ]
  },
  {
   "cell_type": "code",
   "execution_count": 14,
   "metadata": {},
   "outputs": [],
   "source": [
    "import pygraphviz as pgv\n",
    "path = Path(CANONICAL_OUT_DIR / f\"{TASK}\" / f\"{TASK}.gv\")\n",
    "G = pgv.AGraph()\n",
    "G.draw(path=path ,prog=\"dot\")"
   ]
  },
  {
   "cell_type": "code",
   "execution_count": 15,
   "metadata": {},
   "outputs": [],
   "source": [
    "@dataclass(frozen=True)\n",
    "class AcdcRunCandidate:\n",
    "    threshold: float\n",
    "    steps: int\n",
    "    run: str\n",
    "    score_d: dict\n",
    "    corr: TLACDCCorrespondence"
   ]
  },
  {
   "cell_type": "code",
   "execution_count": null,
   "metadata": {},
   "outputs": [],
   "source": [
    "# import json\n",
    "# import os\n",
    "# from collections import defaultdict\n",
    "# from dataclasses import dataclass\n",
    "# from typing import Any, Callable, Optional, Dict\n",
    "# from tqdm import tqdm\n",
    "# from copy import deepcopy\n",
    "# import torch\n",
    "\n",
    "# @dataclass(frozen=True)\n",
    "# class AcdcRunCandidate:\n",
    "#     threshold: float\n",
    "#     steps: int\n",
    "#     score_d: dict\n",
    "#     corr: TLACDCCorrespondence  \n",
    "\n",
    "# def get_acdc_runs(\n",
    "#     exp,\n",
    "#     project_path: str,  # Local path to the project directory\n",
    "#     pre_run_filter: Optional[Callable[[str], bool]] = None,\n",
    "#     run_filter: Optional[Callable[[Dict[str, Any]], bool]] = None,\n",
    "#     clip: Optional[int] = None,\n",
    "#     return_ids: bool = False,\n",
    "# ):\n",
    "#     if clip is None:\n",
    "#         clip = 100_000\n",
    "\n",
    "#     # List all run directories, excluding known non-run directories like 'logs'\n",
    "#     run_dirs = [d for d in os.listdir(project_path) if os.path.isdir(os.path.join(project_path, d)) and d != 'logs']\n",
    "    \n",
    "#     if pre_run_filter is not None:\n",
    "#         run_dirs = list(filter(pre_run_filter, run_dirs))\n",
    "\n",
    "#     if run_filter is None:\n",
    "#         filtered_run_dirs = run_dirs[:clip]\n",
    "#     else:\n",
    "#         filtered_run_dirs = list(filter(run_filter, tqdm(run_dirs[:clip])))\n",
    "\n",
    "#     print(f\"Loading {len(filtered_run_dirs)} runs with filter {pre_run_filter} and {run_filter}\")\n",
    "\n",
    "#     threshold_to_run_map: Dict[float, AcdcRunCandidate] = {}\n",
    "\n",
    "#     def add_run_for_processing(candidate: AcdcRunCandidate):\n",
    "#         if candidate.threshold not in threshold_to_run_map:\n",
    "#             threshold_to_run_map[candidate.threshold] = candidate\n",
    "#         else:\n",
    "#             if candidate.steps > threshold_to_run_map[candidate.threshold].steps:\n",
    "#                 threshold_to_run_map[candidate.threshold] = candidate\n",
    "\n",
    "#     for run_dir in filtered_run_dirs:\n",
    "#         # run_path = os.path.join(project_path, run_dir)\n",
    "#         metrics_path = os.path.join(project_path, 'logs', 'metrics.json')\n",
    "        \n",
    "#         # Skip directories without the necessary files\n",
    "#         if not os.path.exists(metrics_path):\n",
    "#             print(f\"Metrics file not found for run {run_dir}\")\n",
    "#             continue\n",
    "\n",
    "#         try:\n",
    "#             with open(metrics_path, 'r') as f:\n",
    "#                 metrics_data = json.load(f)\n",
    "#                 parents = metrics_data[\"list_of_parents_evaluated\"]\n",
    "#                 children = metrics_data[\"list_of_children_evaluated\"]\n",
    "#                 results = metrics_data[\"results\"]\n",
    "#                 steps = metrics_data.get(\"steps\", [])\n",
    "#         except KeyError:\n",
    "#             print(f\"Required keys not found in metrics file for run {run_dir}\")\n",
    "#             continue\n",
    "#         try:\n",
    "#             log_path = os.path.join(project_path, 'logs', 'log.txt')\n",
    "#             with open(log_path) as f:\n",
    "#                 log_file = f.read()\n",
    "#             exp.load_from_local_run(log_file)\n",
    "#         except FileNotFoundError:\n",
    "#             print(f\"Log file not found for run {run_dir}\")\n",
    "#             continue\n",
    "\n",
    "#         threshold = 0.05  # Fixed threshold value\n",
    "#         corr = deepcopy(exp.corr)\n",
    "\n",
    "#         for parent, child, result in zip(parents, children, results):\n",
    "#             parent_node = parse_interpnode(parent)\n",
    "#             child_node = parse_interpnode(child)\n",
    "\n",
    "#             if result < threshold:\n",
    "#                 corr.edges[child_node.name][child_node.index][parent_node.name][parent_node.index].present = False\n",
    "#                 corr.remove_edge(child_node.name, child_node.index, parent_node.name, parent_node.index)\n",
    "#             else:\n",
    "#                 corr.edges[child_node.name][child_node.index][parent_node.name][parent_node.index].present = True\n",
    "\n",
    "#         # Use the number of steps in the results if available, otherwise default to length of results\n",
    "#         num_steps = steps[-1] if steps else len(results)\n",
    "#         score_d = {\"steps\": num_steps, \"score\": threshold}\n",
    "\n",
    "#         candidate = AcdcRunCandidate(\n",
    "#             threshold=threshold,\n",
    "#             steps=num_steps,\n",
    "#             score_d=score_d,\n",
    "#             corr=corr\n",
    "#         )\n",
    "#         add_run_for_processing(candidate)\n",
    "#         print(f\"Added candidate: {candidate}\")\n",
    "\n",
    "#     # Added to handle the test functions\n",
    "#     def all_test_fns(data: torch.Tensor) -> dict[str, float]:\n",
    "#         return {f\"test_{name}\": fn(data).item() for name, fn in things.test_metrics.items()}\n",
    "\n",
    "#     all_candidates = list(threshold_to_run_map.values())\n",
    "#     for candidate in all_candidates:\n",
    "#         test_metrics = exp.call_metric_with_corr(candidate.corr, all_test_fns, things.test_data)\n",
    "#         candidate.score_d.update(test_metrics)\n",
    "#         print(f\"Added run with threshold={candidate.threshold}, n_edges={candidate.corr.count_no_edges()}\")\n",
    "\n",
    "#     corrs = [(candidate.corr, candidate.score_d) for candidate in all_candidates]\n",
    "#     if return_ids:\n",
    "#         return corrs, [candidate.threshold for candidate in all_candidates]  # Corrected to return threshold\n",
    "#     return corrs"
   ]
  },
  {
   "cell_type": "markdown",
   "metadata": {},
   "source": [
    "# This works!!!"
   ]
  },
  {
   "cell_type": "code",
   "execution_count": null,
   "metadata": {},
   "outputs": [],
   "source": [
    "# import json\n",
    "# import os\n",
    "# from collections import defaultdict\n",
    "# from dataclasses import dataclass\n",
    "# from typing import Any, Callable, Optional, Dict\n",
    "# from tqdm import tqdm\n",
    "# from copy import deepcopy\n",
    "# import torch\n",
    "\n",
    "# @dataclass(frozen=True)\n",
    "# class AcdcRunCandidate:\n",
    "#     threshold: float\n",
    "#     steps: int\n",
    "#     score_d: dict\n",
    "#     corr: TLACDCCorrespondence  \n",
    "\n",
    "# def get_acdc_runs(\n",
    "#     exp,\n",
    "#     project_path: str,  # Local path to the project directory\n",
    "#     pre_run_filter: Optional[Callable[[str], bool]] = None,\n",
    "#     run_filter: Optional[Callable[[Dict[str, Any]], bool]] = None,\n",
    "#     clip: Optional[int] = None,\n",
    "#     return_ids: bool = False,\n",
    "# ):\n",
    "#     if clip is None:\n",
    "#         clip = 100_000\n",
    "\n",
    "#     # List all run directories, excluding known non-run directories like 'logs'\n",
    "#     run_dirs = [d for d in os.listdir(project_path) if os.path.isdir(os.path.join(project_path, d)) and d != 'logs']\n",
    "    \n",
    "#     if pre_run_filter is not None:\n",
    "#         run_dirs = list(filter(pre_run_filter, run_dirs))\n",
    "\n",
    "#     if run_filter is None:\n",
    "#         filtered_run_dirs = run_dirs[:clip]\n",
    "#     else:\n",
    "#         filtered_run_dirs = list(filter(run_filter, tqdm(run_dirs[:clip])))\n",
    "\n",
    "#     print(f\"Loading {len(filtered_run_dirs)} runs with filter {pre_run_filter} and {run_filter}\")\n",
    "\n",
    "#     threshold_to_run_map: Dict[float, AcdcRunCandidate] = {}\n",
    "\n",
    "#     def add_run_for_processing(candidate: AcdcRunCandidate):\n",
    "#         if candidate.threshold not in threshold_to_run_map:\n",
    "#             threshold_to_run_map[candidate.threshold] = candidate\n",
    "#         else:\n",
    "#             if candidate.steps > threshold_to_run_map[candidate.threshold].steps:\n",
    "#                 threshold_to_run_map[candidate.threshold] = candidate\n",
    "\n",
    "#     for run_dir in filtered_run_dirs:\n",
    "#         # run_path = os.path.join(project_path, run_dir)\n",
    "#         metrics_path = os.path.join(project_path, 'logs', 'metrics.json')\n",
    "        \n",
    "#         # Skip directories without the necessary files\n",
    "#         if not os.path.exists(metrics_path):\n",
    "#             print(f\"Metrics file not found for run {run_dir}\")\n",
    "#             continue\n",
    "\n",
    "#         try:\n",
    "#             with open(metrics_path, 'r') as f:\n",
    "#                 metrics_data = json.load(f)\n",
    "#                 parents = metrics_data[\"list_of_parents_evaluated\"]\n",
    "#                 children = metrics_data[\"list_of_children_evaluated\"]\n",
    "#                 results = metrics_data[\"results\"]\n",
    "#                 steps = metrics_data.get(\"steps\", [])\n",
    "#         except KeyError:\n",
    "#             print(f\"Required keys not found in metrics file for run {run_dir}\")\n",
    "#             continue\n",
    "#         # try:\n",
    "#         #     log_path = os.path.join(project_path, 'logs', 'log.txt')\n",
    "#         #     with open(log_path) as f:\n",
    "#         #         log_file = f.read()\n",
    "#         #     exp.load_from_local_run(log_file)\n",
    "#         # except FileNotFoundError:\n",
    "#         #     print(f\"Log file not found for run {run_dir}\")\n",
    "#         #     continue\n",
    "\n",
    "#         threshold = 0.05\n",
    "#         corr = deepcopy(exp.corr)\n",
    "#         all_edges = corr.all_edges()\n",
    "#         for edge in all_edges.values():\n",
    "#             edge.present = False\n",
    "#         edges_path = os.path.join(project_path, 'edges.pkl')\n",
    "#         try:\n",
    "#             with open(edges_path, \"rb\") as fopenb:\n",
    "#                 edges_pth = pickle.load(fopenb)\n",
    "#         except FileNotFoundError:\n",
    "#             print(f\"Edges.pkl file not found at {edges_path}\")\n",
    "#             continue\n",
    "\n",
    "#         for (n_to, idx_to, n_from, idx_from), _effect_size in edges_pth:\n",
    "#             n_to = n_to.replace(\"hook_resid_mid\", \"hook_mlp_in\")\n",
    "#             n_from = n_from.replace(\"hook_resid_mid\", \"hook_mlp_in\")\n",
    "#             all_edges[(n_to, idx_to, n_from, idx_from)].present = True\n",
    "\n",
    "#         num_steps = steps[-1] if steps else len(steps)\n",
    "#         score_d = {\"steps\": num_steps, \"score\": threshold}\n",
    "        \n",
    "#         candidate = AcdcRunCandidate(\n",
    "#             threshold=threshold,\n",
    "#             steps=num_steps,\n",
    "#             score_d=score_d,\n",
    "#             corr=corr\n",
    "#         )\n",
    "#         add_run_for_processing(candidate)\n",
    "#         print(f\"Added candidate: {candidate}\")\n",
    "\n",
    "#     # Added to handle the test functions\n",
    "#     def all_test_fns(data: torch.Tensor) -> dict[str, float]:\n",
    "#         return {f\"test_{name}\": fn(data).item() for name, fn in things.test_metrics.items()}\n",
    "\n",
    "#     all_candidates = list(threshold_to_run_map.values())\n",
    "#     for candidate in all_candidates:\n",
    "#         print(f\"Evaluating candidate: {candidate}\")\n",
    "#         print(f\"Candidate Correspondence: {candidate.corr}\")\n",
    "#         print(f\"Candidate Steps: {candidate.steps}\")\n",
    "#         print(f\"Candidate Score Dict: {candidate.score_d}\")\n",
    "#         test_metrics = exp.call_metric_with_corr(candidate.corr, all_test_fns, things.test_data)\n",
    "#         print(f\"Test Metrics: {test_metrics}\")\n",
    "#         if not isinstance(candidate.score_d, dict):\n",
    "#             print(f\"score_d is not a dictionary: {candidate.score_d}\")\n",
    "#         if not isinstance(test_metrics, dict):\n",
    "#             print(f\"test_metrics is not a dictionary: {test_metrics}\")\n",
    "#         candidate.score_d.update(test_metrics)\n",
    "#         print(f\"Added run with threshold={candidate.threshold}, n_edges={candidate.corr.count_no_edges()}\")\n",
    "\n",
    "#     corrs = [(candidate.corr, candidate.score_d) for candidate in all_candidates]\n",
    "#     if return_ids:\n",
    "#         return corrs, [candidate.threshold for candidate in all_candidates]\n",
    "#     return corrs"
   ]
  },
  {
   "cell_type": "markdown",
   "metadata": {},
   "source": [
    "# Trying again"
   ]
  },
  {
   "cell_type": "code",
   "execution_count": 20,
   "metadata": {},
   "outputs": [],
   "source": [
    "def get_acdc_runs(\n",
    "    exp,\n",
    "    project_path: str,\n",
    "    run_filter: Optional[Callable[[Any], bool]] = None,\n",
    "    clip: Optional[int] = None,\n",
    "    return_ids: bool = False,\n",
    "):\n",
    "    if clip is None:\n",
    "        clip = 100_000  # so we don't clip anything\n",
    "\n",
    "    all_candidates = []\n",
    "\n",
    "    # Load runs from the local directory\n",
    "    full_project_path = os.path.abspath(project_path)\n",
    "    try:\n",
    "        run_dirs = [d for d in os.listdir(full_project_path) if os.path.isdir(os.path.join(full_project_path, d))]\n",
    "    except FileNotFoundError as e:\n",
    "        print(f\"Error: {e}\")\n",
    "        return []\n",
    "\n",
    "    # Filter run directories based on the pattern 'kbicr_indirect_kl_div_{threshold}'\n",
    "    pattern = re.compile(r'kbicr_indirect_kl_div_(\\d+\\.\\d+)')\n",
    "    run_dirs = [d for d in run_dirs if pattern.search(d)]\n",
    "    \n",
    "    if run_filter:\n",
    "        run_dirs = list(filter(run_filter, run_dirs))\n",
    "    run_dirs = run_dirs[:clip]\n",
    "\n",
    "    print(f\"loading {len(run_dirs)} runs from local path {full_project_path}\")\n",
    "\n",
    "    threshold_to_run_map: dict[float, AcdcRunCandidate] = {}\n",
    "\n",
    "    def add_run_for_processing(candidate: AcdcRunCandidate):\n",
    "        if candidate.threshold not in threshold_to_run_map:\n",
    "            threshold_to_run_map[candidate.threshold] = candidate\n",
    "        else:\n",
    "            if candidate.steps > threshold_to_run_map[candidate.threshold].steps:\n",
    "                threshold_to_run_map[candidate.threshold] = candidate\n",
    "\n",
    "    for run_dir in run_dirs:\n",
    "        metrics_path = os.path.join(full_project_path, run_dir, 'logs/metrics.json')\n",
    "        if not os.path.exists(metrics_path):\n",
    "            print(f\"Metrics file not found for run {run_dir}\")\n",
    "            continue\n",
    "\n",
    "        with open(metrics_path, 'r') as f:\n",
    "            metrics_data = json.load(f)\n",
    "\n",
    "        parents = metrics_data[\"list_of_parents_evaluated\"]\n",
    "        children = metrics_data[\"list_of_children_evaluated\"]\n",
    "        results = metrics_data[\"results\"]\n",
    "        steps = metrics_data.get(\"steps\", [])\n",
    "\n",
    "        threshold = extract_threshold_from_path(run_dir)\n",
    "        if threshold is None:\n",
    "            continue\n",
    "\n",
    "        # Process the run and construct the corr object\n",
    "        corr = deepcopy(exp.corr)\n",
    "        for parent, child, result in zip(parents, children, results):\n",
    "            parent_node = parse_interpnode(parent)\n",
    "            child_node = parse_interpnode(child)\n",
    "            if result < threshold:\n",
    "                corr.edges[child_node.name][child_node.index][parent_node.name][parent_node.index].present = False\n",
    "                corr.remove_edge(child_node.name, child_node.index, parent_node.name, parent_node.index)\n",
    "            else:\n",
    "                corr.edges[child_node.name][child_node.index][parent_node.name][parent_node.index].present = True\n",
    "\n",
    "        corr_all_edges = corr.all_edges().items()\n",
    "\n",
    "        corr_to_copy = deepcopy(exp.corr)\n",
    "        new_all_edges = corr_to_copy.all_edges()\n",
    "        for edge in new_all_edges.values():\n",
    "            edge.present = False\n",
    "\n",
    "        for tupl, edge in corr_all_edges:\n",
    "            new_all_edges[tupl].present = edge.present\n",
    "\n",
    "        score_d = {\n",
    "            \"steps\": len(steps),\n",
    "            \"score\": threshold\n",
    "        }\n",
    "        add_run_for_processing(AcdcRunCandidate(\n",
    "            threshold=threshold,\n",
    "            steps=len(steps),\n",
    "            run=run_dir,\n",
    "            score_d=score_d,\n",
    "            corr=corr_to_copy,\n",
    "        ))\n",
    "\n",
    "    all_candidates.extend(list(threshold_to_run_map.values()))\n",
    "\n",
    "    for candidate in all_candidates:\n",
    "        test_metrics = exp.call_metric_with_corr(candidate.corr, all_test_fns, things.test_data)\n",
    "        candidate.score_d.update(test_metrics)\n",
    "        print(f\"Added run with threshold={candidate.threshold}, n_edges={candidate.corr.count_no_edges()}\")\n",
    "\n",
    "    corrs = [(candidate.corr, candidate.score_d) for candidate in all_candidates]\n",
    "    if return_ids:\n",
    "        return corrs, [candidate.run for candidate in all_candidates]\n",
    "    return corrs\n",
    "\n",
    "def extract_threshold_from_path(run_dir):\n",
    "    # Extract threshold from the directory name\n",
    "    match = re.search(r'kbicr_indirect_kl_div_(\\d+\\.\\d+)', run_dir)\n",
    "    if match:\n",
    "        return float(match.group(1))\n",
    "    return None\n",
    "\n",
    "# Placeholder function to call test metrics\n",
    "def all_test_fns(data: torch.Tensor) -> dict[str, float]:\n",
    "    return {f\"test_{name}\": fn(data).item() for name, fn in things.test_metrics.items()}"
   ]
  },
  {
   "cell_type": "code",
   "execution_count": 22,
   "metadata": {},
   "outputs": [
    {
     "name": "stdout",
     "output_type": "stream",
     "text": [
      "loading 12 runs from local path /home/iustin/Mech-Interp/Automatic-Circuit-Discovery/acdc/hybridretrieval/acdc_results\n",
      "n_edges=32371\n",
      "n_edges=32391\n",
      "n_edges=32538\n",
      "n_edges=32465\n"
     ]
    },
    {
     "name": "stderr",
     "output_type": "stream",
     "text": [
      "Exception ignored in: <function _xla_gc_callback at 0x7f38a5932290>\n",
      "Traceback (most recent call last):\n",
      "  File \"/home/iustin/.conda/envs/acdc/lib/python3.10/site-packages/jax/_src/lib/__init__.py\", line 103, in _xla_gc_callback\n",
      "    def _xla_gc_callback(*args):\n",
      "KeyboardInterrupt: \n"
     ]
    },
    {
     "name": "stdout",
     "output_type": "stream",
     "text": [
      "n_edges=31955\n",
      "n_edges=32430\n",
      "n_edges=27936\n",
      "n_edges=32466\n",
      "n_edges=32231\n",
      "n_edges=32231\n",
      "n_edges=31639\n",
      "n_edges=32465\n",
      "Adding sender hooks...\n",
      "Added run with threshold=0.2, n_edges=32371\n",
      "Adding sender hooks...\n",
      "Added run with threshold=0.05, n_edges=32391\n",
      "Adding sender hooks...\n"
     ]
    }
   ],
   "source": [
    "if not SKIP_ACDC:\n",
    "    project_path = \"/home/iustin/Mech-Interp/Automatic-Circuit-Discovery/acdc/hybridretrieval/acdc_results/\"\n",
    "    acdc_corrs = get_acdc_runs(None if things is None else exp, project_path, clip=1 if TESTING else None, return_ids=True)\n",
    "    assert len(acdc_corrs) != 1\n",
    "    print(\"acdc_corrs\", len(acdc_corrs), acdc_corrs)"
   ]
  },
  {
   "cell_type": "code",
   "execution_count": null,
   "metadata": {},
   "outputs": [],
   "source": [
    "from acdc.acdc_utils import extract_info\n",
    "\n",
    "def load_from_local_run(\n",
    "    self: TLACDCExperiment,\n",
    "    log_text: str,\n",
    ") -> None:\n",
    "    \"\"\"Set the current subgraph equal to one from a local run\"\"\"\n",
    "\n",
    "    # initialize by marking no edges as present\n",
    "    for _, edge in self.corr.all_edges().items():\n",
    "        edge.present = False\n",
    "\n",
    "    found_at_least_one_readable_line = False\n",
    "    lines = log_text.split(\"\\n\")\n",
    "\n",
    "    for i, line in enumerate(lines):\n",
    "        removing_connection = \"...so removing connection\" in line\n",
    "        keeping_connection = \"...so keeping connection\" in line\n",
    "\n",
    "        if removing_connection or keeping_connection:\n",
    "            # check that the readable line is well readable\n",
    "\n",
    "            found_at_least_one_readable_line = True\n",
    "            for back_index in range(6):\n",
    "                previous_line = lines[i-back_index] # magic number because of the formatting of the log lines\n",
    "                if previous_line.startswith(\"Node: \"):\n",
    "                    break\n",
    "            else:\n",
    "                raise ValueError(\"Didn't find corresponding node line\")\n",
    "            parent_name, parent_list, current_name, current_list = extract_info(previous_line)\n",
    "            parent_torch_index, current_torch_index = TorchIndex(parent_list), TorchIndex(current_list)\n",
    "            self.corr.edges[current_name][current_torch_index][parent_name][parent_torch_index].present = keeping_connection\n",
    "\n",
    "    assert found_at_least_one_readable_line, f\"No readable lines found in the log file. Is this formatted correctly ??? {lines=}\"\n",
    "    \n",
    "log_text = open(\"acdc/hybridretrieval/acdc_results/kbicr_indirect_kl_div_0.05/logs/log.txt\").read()\n",
    "\n",
    "load_from_local_run(exp, log_text)"
   ]
  },
  {
   "cell_type": "code",
   "execution_count": null,
   "metadata": {},
   "outputs": [
    {
     "name": "stdout",
     "output_type": "stream",
     "text": [
      "Parent Name: blocks.11.hook_mlp_out\n",
      "Parent List: [None]\n",
      "Current Name: blocks.11.hook_resid_post\n",
      "Current List: [None]\n"
     ]
    }
   ],
   "source": [
    "input_string = \"cur_parent=TLACDCInterpNode(blocks.11.hook_mlp_out, [:]) (self.current_node=TLACDCInterpNode(blocks.11.hook_resid_post, [:]))\"\n",
    "parent_name, parent_list, current_name, current_list = extract_info(input_string)\n",
    "\n",
    "print(f\"Parent Name: {parent_name}\")\n",
    "print(f\"Parent List: {parent_list}\")\n",
    "print(f\"Current Name: {current_name}\")\n",
    "print(f\"Current List: {current_list}\")"
   ]
  },
  {
   "cell_type": "code",
   "execution_count": null,
   "metadata": {},
   "outputs": [],
   "source": [
    "def get_canonical_corrs(exp):\n",
    "    all_present_corr = deepcopy(exp.corr)\n",
    "    for e in all_present_corr.all_edges().values():\n",
    "        e.present = True\n",
    "\n",
    "    none_present_corr = deepcopy(exp.corr)\n",
    "    for e in none_present_corr.all_edges().values():\n",
    "        e.present = False\n",
    "\n",
    "    output = [\n",
    "        (none_present_corr, {\"score\": 0.0}),\n",
    "        (all_present_corr, {\"score\": 1.0}),\n",
    "    ]\n",
    "\n",
    "    if TASK != \"induction\":\n",
    "        output.insert(1, (deepcopy(canonical_circuit_subgraph), {\"score\": 0.5}))\n",
    "\n",
    "    for corr, score_d in output:\n",
    "        old_exp_corr = exp.corr\n",
    "        try:\n",
    "            exp.corr = corr\n",
    "            exp.model.reset_hooks()\n",
    "            exp.setup_model_hooks(\n",
    "                add_sender_hooks=True,\n",
    "                add_receiver_hooks=True,\n",
    "                doing_acdc_runs=False,\n",
    "            )\n",
    "            for name, fn in things.test_metrics.items():\n",
    "                score_d[\"test_\"+name] = fn(exp.model(things.test_data)).item()\n",
    "        finally:\n",
    "            exp.corr = old_exp_corr\n",
    "    return output\n",
    "\n",
    "\n",
    "if not SKIP_CANONICAL:\n",
    "    canonical_corrs = get_canonical_corrs(exp)\n",
    "   "
   ]
  },
  {
   "cell_type": "code",
   "execution_count": null,
   "metadata": {},
   "outputs": [
    {
     "name": "stdout",
     "output_type": "stream",
     "text": [
      "Adding sender hooks...\n",
      "Adding sender hooks...\n",
      "Adding sender hooks...\n"
     ]
    },
    {
     "data": {
      "text/plain": [
       "[(<acdc.TLACDCCorrespondence.TLACDCCorrespondence at 0x7f2d6bd1e200>,\n",
       "  {'score': 0.0,\n",
       "   'test_kl_div': 3.8358445167541504,\n",
       "   'test_logit_diff': -1.2688409090042114}),\n",
       " (<acdc.TLACDCCorrespondence.TLACDCCorrespondence at 0x7f2d6be80e20>,\n",
       "  {'score': 0.5,\n",
       "   'test_kl_div': 1.9013360738754272,\n",
       "   'test_logit_diff': -1.1509408950805664}),\n",
       " (<acdc.TLACDCCorrespondence.TLACDCCorrespondence at 0x7f2d9882d3f0>,\n",
       "  {'score': 1.0,\n",
       "   'test_kl_div': -1.1095268348526588e-07,\n",
       "   'test_logit_diff': -0.7404470443725586})]"
      ]
     },
     "execution_count": 36,
     "metadata": {},
     "output_type": "execute_result"
    }
   ],
   "source": [
    "canonical_corrs = get_canonical_corrs(exp)\n",
    "canonical_corrs "
   ]
  },
  {
   "cell_type": "code",
   "execution_count": null,
   "metadata": {},
   "outputs": [
    {
     "data": {
      "text/plain": [
       "['ACDC']"
      ]
     },
     "execution_count": 37,
     "metadata": {},
     "output_type": "execute_result"
    }
   ],
   "source": [
    "methods = []\n",
    "\n",
    "# methods.append(\"CANONICAL\")\n",
    "if not SKIP_ACDC: methods.append(\"ACDC\") \n",
    "\n",
    "methods"
   ]
  },
  {
   "cell_type": "code",
   "execution_count": null,
   "metadata": {},
   "outputs": [],
   "source": [
    "def get_points(corrs_and_scores, decreasing=True):\n",
    "    # Print the input data to inspect its structure\n",
    "    print(\"Input corrs_and_scores:\")\n",
    "    for item in corrs_and_scores:\n",
    "        print(item)\n",
    "\n",
    "    keys = set()\n",
    "    for _, s in corrs_and_scores:\n",
    "        keys.update(s.keys())\n",
    "\n",
    "    init_point = {k: math.inf for k in keys}\n",
    "    for prefix in [\"edge\", \"node\"]:\n",
    "        if TASK != \"induction\":\n",
    "            init_point[f\"{prefix}_fpr\"] = 0.0\n",
    "            init_point[f\"{prefix}_tpr\"] = 0.0\n",
    "            init_point[f\"{prefix}_precision\"] = 1.0\n",
    "        init_point[f\"n_{prefix}s\"] = math.nan\n",
    "\n",
    "    end_point = {k: -math.inf for k in keys}\n",
    "    for prefix in [\"edge\", \"node\"]:\n",
    "        if TASK != \"induction\":\n",
    "            end_point[f\"{prefix}_fpr\"] = 1.0\n",
    "            end_point[f\"{prefix}_tpr\"] = 1.0\n",
    "            end_point[f\"{prefix}_precision\"] = 0.0\n",
    "        end_point[f\"n_{prefix}s\"] = math.nan\n",
    "\n",
    "    if not decreasing:\n",
    "        init_point, end_point = end_point, init_point\n",
    "\n",
    "    points = [init_point]\n",
    "\n",
    "    n_skipped = 0\n",
    "\n",
    "    for idx, (corr, score) in tqdm(enumerate(sorted(corrs_and_scores, key=lambda x: x[1][\"score\"], reverse=decreasing))):\n",
    "        if not isinstance(corr, object) or not isinstance(score, dict):\n",
    "            n_skipped += 1\n",
    "            continue\n",
    "\n",
    "        if set(score.keys()) != keys:\n",
    "            a = init_point.copy()\n",
    "            a.update(score)\n",
    "            score = a\n",
    "\n",
    "        n_edges = corr.count_no_edges()\n",
    "        n_nodes = len(filter_nodes(get_present_nodes(corr)[0]))\n",
    "\n",
    "        score.update({\"n_edges\": n_edges, \"n_nodes\": n_nodes})\n",
    "\n",
    "        if TASK != \"induction\":\n",
    "            edge_stats = get_edge_stats(ground_truth=canonical_circuit_subgraph, recovered=corr)\n",
    "            node_stats = get_node_stats(ground_truth=canonical_circuit_subgraph, recovered=corr)\n",
    "\n",
    "            assert n_edges == edge_stats[\"recovered\"]\n",
    "            assert n_nodes == node_stats[\"recovered\"]\n",
    "\n",
    "            assert edge_stats[\"all\"] == max_subgraph_size\n",
    "            assert edge_stats[\"ground truth\"] == canonical_circuit_subgraph_size\n",
    "            assert edge_stats[\"recovered\"] == n_edges\n",
    "\n",
    "            for prefix, stats in [(\"edge\", edge_stats), (\"node\", node_stats)]:\n",
    "                assert (stats[\"all\"] - stats[\"ground truth\"]) == stats[\"false positive\"] + stats[\"true negative\"]\n",
    "                assert stats[\"ground truth\"] == stats[\"true positive\"] + stats[\"false negative\"]\n",
    "                assert stats[\"recovered\"] == stats[\"true positive\"] + stats[\"false positive\"]\n",
    "\n",
    "                score.update(\n",
    "                    {\n",
    "                        f\"{prefix}_tpr\": stats[\"true positive\"] / (stats[\"true positive\"] + stats[\"false negative\"]),\n",
    "                        f\"{prefix}_fpr\": stats[\"false positive\"] / (stats[\"false positive\"] + stats[\"true negative\"]),\n",
    "                        f\"{prefix}_precision\": 1\n",
    "                        if stats[\"recovered\"] == 0\n",
    "                        else stats[\"true positive\"] / (stats[\"recovered\"]),\n",
    "                    }\n",
    "                )\n",
    "\n",
    "        points.append(score)\n",
    "\n",
    "    assert n_skipped <= 2\n",
    "\n",
    "    points.append(end_point)\n",
    "    print(points)\n",
    "    assert all((\"n_edges\" in p) for p in points)\n",
    "    assert len(points) > 3\n",
    "    return points\n",
    "\n",
    "points = {}"
   ]
  },
  {
   "cell_type": "code",
   "execution_count": null,
   "metadata": {},
   "outputs": [
    {
     "data": {
      "text/plain": [
       "([(<acdc.TLACDCCorrespondence.TLACDCCorrespondence at 0x7f2d912f3b50>,\n",
       "   {'steps': 47,\n",
       "    'score': 0.2,\n",
       "    'test_kl_div': 2.0586097240448,\n",
       "    'test_logit_diff': -1.5986902713775635}),\n",
       "  (<acdc.TLACDCCorrespondence.TLACDCCorrespondence at 0x7f2d911285e0>,\n",
       "   {'steps': 48,\n",
       "    'score': 0.05,\n",
       "    'test_kl_div': 0.6618806719779968,\n",
       "    'test_logit_diff': -1.0569868087768555}),\n",
       "  (<acdc.TLACDCCorrespondence.TLACDCCorrespondence at 0x7f2d896486a0>,\n",
       "   {'steps': 24,\n",
       "    'score': 0.1,\n",
       "    'test_kl_div': 0.8513802886009216,\n",
       "    'test_logit_diff': -0.5358800888061523}),\n",
       "  (<acdc.TLACDCCorrespondence.TLACDCCorrespondence at 0x7f2d88ba1480>,\n",
       "   {'steps': 30,\n",
       "    'score': 0.3,\n",
       "    'test_kl_div': 2.233921527862549,\n",
       "    'test_logit_diff': -1.0155984163284302}),\n",
       "  (<acdc.TLACDCCorrespondence.TLACDCCorrespondence at 0x7f2d6be80df0>,\n",
       "   {'steps': 92,\n",
       "    'score': 0.01,\n",
       "    'test_kl_div': 0.5642789602279663,\n",
       "    'test_logit_diff': -1.579477310180664}),\n",
       "  (<acdc.TLACDCCorrespondence.TLACDCCorrespondence at 0x7f2d6b3709a0>,\n",
       "   {'steps': 32,\n",
       "    'score': 0.07,\n",
       "    'test_kl_div': 1.0638236999511719,\n",
       "    'test_logit_diff': -0.5215740203857422}),\n",
       "  (<acdc.TLACDCCorrespondence.TLACDCCorrespondence at 0x7f2d6a7a4760>,\n",
       "   {'steps': 15,\n",
       "    'score': 0.5,\n",
       "    'test_kl_div': 3.82218337059021,\n",
       "    'test_logit_diff': -1.4874942302703857}),\n",
       "  (<acdc.TLACDCCorrespondence.TLACDCCorrespondence at 0x7f2d57df29e0>,\n",
       "   {'steps': 71,\n",
       "    'score': 0.12,\n",
       "    'test_kl_div': 0.9157752990722656,\n",
       "    'test_logit_diff': -1.007197618484497}),\n",
       "  (<acdc.TLACDCCorrespondence.TLACDCCorrespondence at 0x7f2d56f34f10>,\n",
       "   {'steps': 68,\n",
       "    'score': 0.15,\n",
       "    'test_kl_div': 1.13951575756073,\n",
       "    'test_logit_diff': -0.7499744892120361}),\n",
       "  (<acdc.TLACDCCorrespondence.TLACDCCorrespondence at 0x7f2d563cc040>,\n",
       "   {'steps': 138,\n",
       "    'score': 0.005,\n",
       "    'test_kl_div': 0.3888920247554779,\n",
       "    'test_logit_diff': -0.7022600173950195}),\n",
       "  (<acdc.TLACDCCorrespondence.TLACDCCorrespondence at 0x7f2ce196be50>,\n",
       "   {'steps': 25,\n",
       "    'score': 0.4,\n",
       "    'test_kl_div': 3.501207113265991,\n",
       "    'test_logit_diff': -1.4992949962615967})],\n",
       " ['kbicr_indirect_kl_div_0.2',\n",
       "  'kbicr_indirect_kl_div_0.05',\n",
       "  'kbicr_indirect_kl_div_0.1',\n",
       "  'kbicr_indirect_kl_div_0.3',\n",
       "  'kbicr_indirect_kl_div_0.01',\n",
       "  'kbicr_indirect_kl_div_0.07',\n",
       "  'kbicr_indirect_kl_div_0.5',\n",
       "  'kbicr_indirect_kl_div_0.12',\n",
       "  'kbicr_indirect_kl_div_0.15',\n",
       "  'kbicr_indirect_kl_div_0.005',\n",
       "  'kbicr_indirect_kl_div_0.4'])"
      ]
     },
     "execution_count": 39,
     "metadata": {},
     "output_type": "execute_result"
    }
   ],
   "source": [
    "acdc_corrs"
   ]
  },
  {
   "cell_type": "code",
   "execution_count": null,
   "metadata": {},
   "outputs": [
    {
     "data": {
      "text/plain": [
       "[(<acdc.TLACDCCorrespondence.TLACDCCorrespondence at 0x7f2d912f3b50>,\n",
       "  {'steps': 47,\n",
       "   'score': 0.2,\n",
       "   'test_kl_div': 2.0586097240448,\n",
       "   'test_logit_diff': -1.5986902713775635}),\n",
       " (<acdc.TLACDCCorrespondence.TLACDCCorrespondence at 0x7f2d911285e0>,\n",
       "  {'steps': 48,\n",
       "   'score': 0.05,\n",
       "   'test_kl_div': 0.6618806719779968,\n",
       "   'test_logit_diff': -1.0569868087768555}),\n",
       " (<acdc.TLACDCCorrespondence.TLACDCCorrespondence at 0x7f2d896486a0>,\n",
       "  {'steps': 24,\n",
       "   'score': 0.1,\n",
       "   'test_kl_div': 0.8513802886009216,\n",
       "   'test_logit_diff': -0.5358800888061523}),\n",
       " (<acdc.TLACDCCorrespondence.TLACDCCorrespondence at 0x7f2d88ba1480>,\n",
       "  {'steps': 30,\n",
       "   'score': 0.3,\n",
       "   'test_kl_div': 2.233921527862549,\n",
       "   'test_logit_diff': -1.0155984163284302}),\n",
       " (<acdc.TLACDCCorrespondence.TLACDCCorrespondence at 0x7f2d6be80df0>,\n",
       "  {'steps': 92,\n",
       "   'score': 0.01,\n",
       "   'test_kl_div': 0.5642789602279663,\n",
       "   'test_logit_diff': -1.579477310180664}),\n",
       " (<acdc.TLACDCCorrespondence.TLACDCCorrespondence at 0x7f2d6b3709a0>,\n",
       "  {'steps': 32,\n",
       "   'score': 0.07,\n",
       "   'test_kl_div': 1.0638236999511719,\n",
       "   'test_logit_diff': -0.5215740203857422}),\n",
       " (<acdc.TLACDCCorrespondence.TLACDCCorrespondence at 0x7f2d6a7a4760>,\n",
       "  {'steps': 15,\n",
       "   'score': 0.5,\n",
       "   'test_kl_div': 3.82218337059021,\n",
       "   'test_logit_diff': -1.4874942302703857}),\n",
       " (<acdc.TLACDCCorrespondence.TLACDCCorrespondence at 0x7f2d57df29e0>,\n",
       "  {'steps': 71,\n",
       "   'score': 0.12,\n",
       "   'test_kl_div': 0.9157752990722656,\n",
       "   'test_logit_diff': -1.007197618484497}),\n",
       " (<acdc.TLACDCCorrespondence.TLACDCCorrespondence at 0x7f2d56f34f10>,\n",
       "  {'steps': 68,\n",
       "   'score': 0.15,\n",
       "   'test_kl_div': 1.13951575756073,\n",
       "   'test_logit_diff': -0.7499744892120361}),\n",
       " (<acdc.TLACDCCorrespondence.TLACDCCorrespondence at 0x7f2d563cc040>,\n",
       "  {'steps': 138,\n",
       "   'score': 0.005,\n",
       "   'test_kl_div': 0.3888920247554779,\n",
       "   'test_logit_diff': -0.7022600173950195}),\n",
       " (<acdc.TLACDCCorrespondence.TLACDCCorrespondence at 0x7f2ce196be50>,\n",
       "  {'steps': 25,\n",
       "   'score': 0.4,\n",
       "   'test_kl_div': 3.501207113265991,\n",
       "   'test_logit_diff': -1.4992949962615967})]"
      ]
     },
     "execution_count": 40,
     "metadata": {},
     "output_type": "execute_result"
    }
   ],
   "source": [
    "acdc_corrs = acdc_corrs[0]\n",
    "acdc_corrs"
   ]
  },
  {
   "cell_type": "code",
   "execution_count": null,
   "metadata": {},
   "outputs": [],
   "source": [
    "# acdc_corrs = [(correspondence, {key: value for key, value in details.items() if key != 'steps'})\n",
    "#                 for correspondence, details in acdc_corrs]\n",
    "# acdc_corrs"
   ]
  },
  {
   "cell_type": "code",
   "execution_count": null,
   "metadata": {},
   "outputs": [
    {
     "data": {
      "text/plain": [
       "[(<acdc.TLACDCCorrespondence.TLACDCCorrespondence at 0x7f2d6bd1e200>,\n",
       "  {'score': 0.0,\n",
       "   'test_kl_div': 3.8358445167541504,\n",
       "   'test_logit_diff': -1.2688409090042114}),\n",
       " (<acdc.TLACDCCorrespondence.TLACDCCorrespondence at 0x7f2d6be80e20>,\n",
       "  {'score': 0.5,\n",
       "   'test_kl_div': 1.9013360738754272,\n",
       "   'test_logit_diff': -1.1509408950805664}),\n",
       " (<acdc.TLACDCCorrespondence.TLACDCCorrespondence at 0x7f2d9882d3f0>,\n",
       "  {'score': 1.0,\n",
       "   'test_kl_div': -1.1095268348526588e-07,\n",
       "   'test_logit_diff': -0.7404470443725586})]"
      ]
     },
     "execution_count": 41,
     "metadata": {},
     "output_type": "execute_result"
    }
   ],
   "source": [
    "canonical_corrs"
   ]
  },
  {
   "cell_type": "code",
   "execution_count": null,
   "metadata": {},
   "outputs": [
    {
     "data": {
      "text/plain": [
       "11"
      ]
     },
     "execution_count": 42,
     "metadata": {},
     "output_type": "execute_result"
    }
   ],
   "source": [
    "len(acdc_corrs)"
   ]
  },
  {
   "cell_type": "code",
   "execution_count": null,
   "metadata": {},
   "outputs": [
    {
     "name": "stdout",
     "output_type": "stream",
     "text": [
      "Input corrs_and_scores:\n",
      "(<acdc.TLACDCCorrespondence.TLACDCCorrespondence object at 0x7f2d912f3b50>, {'steps': 47, 'score': 0.2, 'test_kl_div': 2.0586097240448, 'test_logit_diff': -1.5986902713775635})\n",
      "(<acdc.TLACDCCorrespondence.TLACDCCorrespondence object at 0x7f2d911285e0>, {'steps': 48, 'score': 0.05, 'test_kl_div': 0.6618806719779968, 'test_logit_diff': -1.0569868087768555})\n",
      "(<acdc.TLACDCCorrespondence.TLACDCCorrespondence object at 0x7f2d896486a0>, {'steps': 24, 'score': 0.1, 'test_kl_div': 0.8513802886009216, 'test_logit_diff': -0.5358800888061523})\n",
      "(<acdc.TLACDCCorrespondence.TLACDCCorrespondence object at 0x7f2d88ba1480>, {'steps': 30, 'score': 0.3, 'test_kl_div': 2.233921527862549, 'test_logit_diff': -1.0155984163284302})\n",
      "(<acdc.TLACDCCorrespondence.TLACDCCorrespondence object at 0x7f2d6be80df0>, {'steps': 92, 'score': 0.01, 'test_kl_div': 0.5642789602279663, 'test_logit_diff': -1.579477310180664})\n",
      "(<acdc.TLACDCCorrespondence.TLACDCCorrespondence object at 0x7f2d6b3709a0>, {'steps': 32, 'score': 0.07, 'test_kl_div': 1.0638236999511719, 'test_logit_diff': -0.5215740203857422})\n",
      "(<acdc.TLACDCCorrespondence.TLACDCCorrespondence object at 0x7f2d6a7a4760>, {'steps': 15, 'score': 0.5, 'test_kl_div': 3.82218337059021, 'test_logit_diff': -1.4874942302703857})\n",
      "(<acdc.TLACDCCorrespondence.TLACDCCorrespondence object at 0x7f2d57df29e0>, {'steps': 71, 'score': 0.12, 'test_kl_div': 0.9157752990722656, 'test_logit_diff': -1.007197618484497})\n",
      "(<acdc.TLACDCCorrespondence.TLACDCCorrespondence object at 0x7f2d56f34f10>, {'steps': 68, 'score': 0.15, 'test_kl_div': 1.13951575756073, 'test_logit_diff': -0.7499744892120361})\n",
      "(<acdc.TLACDCCorrespondence.TLACDCCorrespondence object at 0x7f2d563cc040>, {'steps': 138, 'score': 0.005, 'test_kl_div': 0.3888920247554779, 'test_logit_diff': -0.7022600173950195})\n",
      "(<acdc.TLACDCCorrespondence.TLACDCCorrespondence object at 0x7f2ce196be50>, {'steps': 25, 'score': 0.4, 'test_kl_div': 3.501207113265991, 'test_logit_diff': -1.4992949962615967})\n"
     ]
    },
    {
     "name": "stderr",
     "output_type": "stream",
     "text": [
      "11it [00:05,  2.04it/s]"
     ]
    },
    {
     "name": "stdout",
     "output_type": "stream",
     "text": [
      "[{'score': inf, 'test_logit_diff': inf, 'steps': inf, 'test_kl_div': inf, 'edge_fpr': 0.0, 'edge_tpr': 0.0, 'edge_precision': 1.0, 'n_edges': nan, 'node_fpr': 0.0, 'node_tpr': 0.0, 'node_precision': 1.0, 'n_nodes': nan}, {'steps': 15, 'score': 0.5, 'test_kl_div': 3.82218337059021, 'test_logit_diff': -1.4874942302703857, 'n_edges': 29, 'n_nodes': 27, 'edge_tpr': 0.023504273504273504, 'edge_fpr': 0.0005546140810352797, 'edge_precision': 0.3793103448275862, 'node_tpr': 0.11904761904761904, 'node_fpr': 0.01812366737739872, 'node_precision': 0.37037037037037035}, {'steps': 25, 'score': 0.4, 'test_kl_div': 3.501207113265991, 'test_logit_diff': -1.4992949962615967, 'n_edges': 27, 'n_nodes': 23, 'edge_tpr': 0.027777777777777776, 'edge_fpr': 0.00043136650747188415, 'edge_precision': 0.48148148148148145, 'node_tpr': 0.11904761904761904, 'node_fpr': 0.013859275053304905, 'node_precision': 0.43478260869565216}, {'steps': 30, 'score': 0.3, 'test_kl_div': 2.233921527862549, 'test_logit_diff': -1.0155984163284302, 'n_edges': 29, 'n_nodes': 24, 'edge_tpr': 0.029914529914529916, 'edge_fpr': 0.00046217840086273303, 'edge_precision': 0.4827586206896552, 'node_tpr': 0.11904761904761904, 'node_fpr': 0.014925373134328358, 'node_precision': 0.4166666666666667}, {'steps': 47, 'score': 0.2, 'test_kl_div': 2.0586097240448, 'test_logit_diff': -1.5986902713775635, 'n_edges': 31, 'n_nodes': 28, 'edge_tpr': 0.02564102564102564, 'edge_fpr': 0.0005854259744261285, 'edge_precision': 0.3870967741935484, 'node_tpr': 0.14285714285714285, 'node_fpr': 0.017057569296375266, 'node_precision': 0.42857142857142855}, {'steps': 68, 'score': 0.15, 'test_kl_div': 1.13951575756073, 'test_logit_diff': -0.7499744892120361, 'n_edges': 48, 'n_nodes': 38, 'edge_tpr': 0.049145299145299144, 'edge_fpr': 0.0007702973347712217, 'edge_precision': 0.4791666666666667, 'node_tpr': 0.21428571428571427, 'node_fpr': 0.021321961620469083, 'node_precision': 0.47368421052631576}, {'steps': 71, 'score': 0.12, 'test_kl_div': 0.9157752990722656, 'test_logit_diff': -1.007197618484497, 'n_edges': 50, 'n_nodes': 37, 'edge_tpr': 0.042735042735042736, 'edge_fpr': 0.0009243568017254661, 'edge_precision': 0.4, 'node_tpr': 0.19047619047619047, 'node_fpr': 0.022388059701492536, 'node_precision': 0.43243243243243246}, {'steps': 24, 'score': 0.1, 'test_kl_div': 0.8513802886009216, 'test_logit_diff': -0.5358800888061523, 'n_edges': 28, 'n_nodes': 24, 'edge_tpr': 0.03205128205128205, 'edge_fpr': 0.0004005546140810353, 'edge_precision': 0.5357142857142857, 'node_tpr': 0.13095238095238096, 'node_fpr': 0.013859275053304905, 'node_precision': 0.4583333333333333}, {'steps': 32, 'score': 0.07, 'test_kl_div': 1.0638236999511719, 'test_logit_diff': -0.5215740203857422, 'n_edges': 32, 'n_nodes': 24, 'edge_tpr': 0.027777777777777776, 'edge_fpr': 0.0005854259744261285, 'edge_precision': 0.40625, 'node_tpr': 0.09523809523809523, 'node_fpr': 0.017057569296375266, 'node_precision': 0.3333333333333333}, {'steps': 48, 'score': 0.05, 'test_kl_div': 0.6618806719779968, 'test_logit_diff': -1.0569868087768555, 'n_edges': 32, 'n_nodes': 26, 'edge_tpr': 0.027777777777777776, 'edge_fpr': 0.0005854259744261285, 'edge_precision': 0.40625, 'node_tpr': 0.11904761904761904, 'node_fpr': 0.017057569296375266, 'node_precision': 0.38461538461538464}, {'steps': 92, 'score': 0.01, 'test_kl_div': 0.5642789602279663, 'test_logit_diff': -1.579477310180664, 'n_edges': 69, 'n_nodes': 51, 'edge_tpr': 0.05555555555555555, 'edge_fpr': 0.0013249114158065012, 'edge_precision': 0.37681159420289856, 'node_tpr': 0.19047619047619047, 'node_fpr': 0.03731343283582089, 'node_precision': 0.3137254901960784}, {'steps': 138, 'score': 0.005, 'test_kl_div': 0.3888920247554779, 'test_logit_diff': -0.7022600173950195, 'n_edges': 111, 'n_nodes': 68, 'edge_tpr': 0.08547008547008547, 'edge_fpr': 0.0021876444307502695, 'edge_precision': 0.36036036036036034, 'node_tpr': 0.2619047619047619, 'node_fpr': 0.04904051172707889, 'node_precision': 0.3235294117647059}, {'score': -inf, 'test_logit_diff': -inf, 'steps': -inf, 'test_kl_div': -inf, 'edge_fpr': 1.0, 'edge_tpr': 1.0, 'edge_precision': 0.0, 'n_edges': nan, 'node_fpr': 1.0, 'node_tpr': 1.0, 'node_precision': 0.0, 'n_nodes': nan}]\n"
     ]
    },
    {
     "name": "stderr",
     "output_type": "stream",
     "text": [
      "\n"
     ]
    }
   ],
   "source": [
    "if \"ACDC\" in methods:\n",
    "    if \"ACDC\" not in points: points[\"ACDC\"] = []\n",
    "    points[\"ACDC\"].extend(get_points(acdc_corrs))"
   ]
  },
  {
   "cell_type": "code",
   "execution_count": null,
   "metadata": {},
   "outputs": [],
   "source": [
    "if \"CANONICAL\" in methods:\n",
    "    if \"CANONICAL\" not in points: points[\"CANONICAL\"] = []\n",
    "    points[\"CANONICAL\"].extend(get_points(canonical_corrs))"
   ]
  },
  {
   "cell_type": "code",
   "execution_count": null,
   "metadata": {},
   "outputs": [
    {
     "data": {
      "application/vnd.plotly.v1+json": {
       "config": {
        "plotlyServerURL": "https://plot.ly"
       },
       "data": [
        {
         "line": {
          "shape": "hv"
         },
         "mode": "lines",
         "name": "ACDC",
         "type": "scatter",
         "x": [
          0,
          0.01812366737739872,
          0.013859275053304905,
          0.014925373134328358,
          0.017057569296375266,
          0.021321961620469083,
          0.022388059701492536,
          0.013859275053304905,
          0.017057569296375266,
          0.017057569296375266,
          0.03731343283582089,
          0.04904051172707889,
          1
         ],
         "y": [
          0,
          0.11904761904761904,
          0.11904761904761904,
          0.11904761904761904,
          0.14285714285714285,
          0.21428571428571427,
          0.19047619047619047,
          0.13095238095238096,
          0.09523809523809523,
          0.11904761904761904,
          0.19047619047619047,
          0.2619047619047619,
          1
         ]
        }
       ],
       "layout": {
        "template": {
         "data": {
          "bar": [
           {
            "error_x": {
             "color": "#2a3f5f"
            },
            "error_y": {
             "color": "#2a3f5f"
            },
            "marker": {
             "line": {
              "color": "#E5ECF6",
              "width": 0.5
             },
             "pattern": {
              "fillmode": "overlay",
              "size": 10,
              "solidity": 0.2
             }
            },
            "type": "bar"
           }
          ],
          "barpolar": [
           {
            "marker": {
             "line": {
              "color": "#E5ECF6",
              "width": 0.5
             },
             "pattern": {
              "fillmode": "overlay",
              "size": 10,
              "solidity": 0.2
             }
            },
            "type": "barpolar"
           }
          ],
          "carpet": [
           {
            "aaxis": {
             "endlinecolor": "#2a3f5f",
             "gridcolor": "white",
             "linecolor": "white",
             "minorgridcolor": "white",
             "startlinecolor": "#2a3f5f"
            },
            "baxis": {
             "endlinecolor": "#2a3f5f",
             "gridcolor": "white",
             "linecolor": "white",
             "minorgridcolor": "white",
             "startlinecolor": "#2a3f5f"
            },
            "type": "carpet"
           }
          ],
          "choropleth": [
           {
            "colorbar": {
             "outlinewidth": 0,
             "ticks": ""
            },
            "type": "choropleth"
           }
          ],
          "contour": [
           {
            "colorbar": {
             "outlinewidth": 0,
             "ticks": ""
            },
            "colorscale": [
             [
              0,
              "#0d0887"
             ],
             [
              0.1111111111111111,
              "#46039f"
             ],
             [
              0.2222222222222222,
              "#7201a8"
             ],
             [
              0.3333333333333333,
              "#9c179e"
             ],
             [
              0.4444444444444444,
              "#bd3786"
             ],
             [
              0.5555555555555556,
              "#d8576b"
             ],
             [
              0.6666666666666666,
              "#ed7953"
             ],
             [
              0.7777777777777778,
              "#fb9f3a"
             ],
             [
              0.8888888888888888,
              "#fdca26"
             ],
             [
              1,
              "#f0f921"
             ]
            ],
            "type": "contour"
           }
          ],
          "contourcarpet": [
           {
            "colorbar": {
             "outlinewidth": 0,
             "ticks": ""
            },
            "type": "contourcarpet"
           }
          ],
          "heatmap": [
           {
            "colorbar": {
             "outlinewidth": 0,
             "ticks": ""
            },
            "colorscale": [
             [
              0,
              "#0d0887"
             ],
             [
              0.1111111111111111,
              "#46039f"
             ],
             [
              0.2222222222222222,
              "#7201a8"
             ],
             [
              0.3333333333333333,
              "#9c179e"
             ],
             [
              0.4444444444444444,
              "#bd3786"
             ],
             [
              0.5555555555555556,
              "#d8576b"
             ],
             [
              0.6666666666666666,
              "#ed7953"
             ],
             [
              0.7777777777777778,
              "#fb9f3a"
             ],
             [
              0.8888888888888888,
              "#fdca26"
             ],
             [
              1,
              "#f0f921"
             ]
            ],
            "type": "heatmap"
           }
          ],
          "heatmapgl": [
           {
            "colorbar": {
             "outlinewidth": 0,
             "ticks": ""
            },
            "colorscale": [
             [
              0,
              "#0d0887"
             ],
             [
              0.1111111111111111,
              "#46039f"
             ],
             [
              0.2222222222222222,
              "#7201a8"
             ],
             [
              0.3333333333333333,
              "#9c179e"
             ],
             [
              0.4444444444444444,
              "#bd3786"
             ],
             [
              0.5555555555555556,
              "#d8576b"
             ],
             [
              0.6666666666666666,
              "#ed7953"
             ],
             [
              0.7777777777777778,
              "#fb9f3a"
             ],
             [
              0.8888888888888888,
              "#fdca26"
             ],
             [
              1,
              "#f0f921"
             ]
            ],
            "type": "heatmapgl"
           }
          ],
          "histogram": [
           {
            "marker": {
             "pattern": {
              "fillmode": "overlay",
              "size": 10,
              "solidity": 0.2
             }
            },
            "type": "histogram"
           }
          ],
          "histogram2d": [
           {
            "colorbar": {
             "outlinewidth": 0,
             "ticks": ""
            },
            "colorscale": [
             [
              0,
              "#0d0887"
             ],
             [
              0.1111111111111111,
              "#46039f"
             ],
             [
              0.2222222222222222,
              "#7201a8"
             ],
             [
              0.3333333333333333,
              "#9c179e"
             ],
             [
              0.4444444444444444,
              "#bd3786"
             ],
             [
              0.5555555555555556,
              "#d8576b"
             ],
             [
              0.6666666666666666,
              "#ed7953"
             ],
             [
              0.7777777777777778,
              "#fb9f3a"
             ],
             [
              0.8888888888888888,
              "#fdca26"
             ],
             [
              1,
              "#f0f921"
             ]
            ],
            "type": "histogram2d"
           }
          ],
          "histogram2dcontour": [
           {
            "colorbar": {
             "outlinewidth": 0,
             "ticks": ""
            },
            "colorscale": [
             [
              0,
              "#0d0887"
             ],
             [
              0.1111111111111111,
              "#46039f"
             ],
             [
              0.2222222222222222,
              "#7201a8"
             ],
             [
              0.3333333333333333,
              "#9c179e"
             ],
             [
              0.4444444444444444,
              "#bd3786"
             ],
             [
              0.5555555555555556,
              "#d8576b"
             ],
             [
              0.6666666666666666,
              "#ed7953"
             ],
             [
              0.7777777777777778,
              "#fb9f3a"
             ],
             [
              0.8888888888888888,
              "#fdca26"
             ],
             [
              1,
              "#f0f921"
             ]
            ],
            "type": "histogram2dcontour"
           }
          ],
          "mesh3d": [
           {
            "colorbar": {
             "outlinewidth": 0,
             "ticks": ""
            },
            "type": "mesh3d"
           }
          ],
          "parcoords": [
           {
            "line": {
             "colorbar": {
              "outlinewidth": 0,
              "ticks": ""
             }
            },
            "type": "parcoords"
           }
          ],
          "pie": [
           {
            "automargin": true,
            "type": "pie"
           }
          ],
          "scatter": [
           {
            "fillpattern": {
             "fillmode": "overlay",
             "size": 10,
             "solidity": 0.2
            },
            "type": "scatter"
           }
          ],
          "scatter3d": [
           {
            "line": {
             "colorbar": {
              "outlinewidth": 0,
              "ticks": ""
             }
            },
            "marker": {
             "colorbar": {
              "outlinewidth": 0,
              "ticks": ""
             }
            },
            "type": "scatter3d"
           }
          ],
          "scattercarpet": [
           {
            "marker": {
             "colorbar": {
              "outlinewidth": 0,
              "ticks": ""
             }
            },
            "type": "scattercarpet"
           }
          ],
          "scattergeo": [
           {
            "marker": {
             "colorbar": {
              "outlinewidth": 0,
              "ticks": ""
             }
            },
            "type": "scattergeo"
           }
          ],
          "scattergl": [
           {
            "marker": {
             "colorbar": {
              "outlinewidth": 0,
              "ticks": ""
             }
            },
            "type": "scattergl"
           }
          ],
          "scattermapbox": [
           {
            "marker": {
             "colorbar": {
              "outlinewidth": 0,
              "ticks": ""
             }
            },
            "type": "scattermapbox"
           }
          ],
          "scatterpolar": [
           {
            "marker": {
             "colorbar": {
              "outlinewidth": 0,
              "ticks": ""
             }
            },
            "type": "scatterpolar"
           }
          ],
          "scatterpolargl": [
           {
            "marker": {
             "colorbar": {
              "outlinewidth": 0,
              "ticks": ""
             }
            },
            "type": "scatterpolargl"
           }
          ],
          "scatterternary": [
           {
            "marker": {
             "colorbar": {
              "outlinewidth": 0,
              "ticks": ""
             }
            },
            "type": "scatterternary"
           }
          ],
          "surface": [
           {
            "colorbar": {
             "outlinewidth": 0,
             "ticks": ""
            },
            "colorscale": [
             [
              0,
              "#0d0887"
             ],
             [
              0.1111111111111111,
              "#46039f"
             ],
             [
              0.2222222222222222,
              "#7201a8"
             ],
             [
              0.3333333333333333,
              "#9c179e"
             ],
             [
              0.4444444444444444,
              "#bd3786"
             ],
             [
              0.5555555555555556,
              "#d8576b"
             ],
             [
              0.6666666666666666,
              "#ed7953"
             ],
             [
              0.7777777777777778,
              "#fb9f3a"
             ],
             [
              0.8888888888888888,
              "#fdca26"
             ],
             [
              1,
              "#f0f921"
             ]
            ],
            "type": "surface"
           }
          ],
          "table": [
           {
            "cells": {
             "fill": {
              "color": "#EBF0F8"
             },
             "line": {
              "color": "white"
             }
            },
            "header": {
             "fill": {
              "color": "#C8D4E3"
             },
             "line": {
              "color": "white"
             }
            },
            "type": "table"
           }
          ]
         },
         "layout": {
          "annotationdefaults": {
           "arrowcolor": "#2a3f5f",
           "arrowhead": 0,
           "arrowwidth": 1
          },
          "autotypenumbers": "strict",
          "coloraxis": {
           "colorbar": {
            "outlinewidth": 0,
            "ticks": ""
           }
          },
          "colorscale": {
           "diverging": [
            [
             0,
             "#8e0152"
            ],
            [
             0.1,
             "#c51b7d"
            ],
            [
             0.2,
             "#de77ae"
            ],
            [
             0.3,
             "#f1b6da"
            ],
            [
             0.4,
             "#fde0ef"
            ],
            [
             0.5,
             "#f7f7f7"
            ],
            [
             0.6,
             "#e6f5d0"
            ],
            [
             0.7,
             "#b8e186"
            ],
            [
             0.8,
             "#7fbc41"
            ],
            [
             0.9,
             "#4d9221"
            ],
            [
             1,
             "#276419"
            ]
           ],
           "sequential": [
            [
             0,
             "#0d0887"
            ],
            [
             0.1111111111111111,
             "#46039f"
            ],
            [
             0.2222222222222222,
             "#7201a8"
            ],
            [
             0.3333333333333333,
             "#9c179e"
            ],
            [
             0.4444444444444444,
             "#bd3786"
            ],
            [
             0.5555555555555556,
             "#d8576b"
            ],
            [
             0.6666666666666666,
             "#ed7953"
            ],
            [
             0.7777777777777778,
             "#fb9f3a"
            ],
            [
             0.8888888888888888,
             "#fdca26"
            ],
            [
             1,
             "#f0f921"
            ]
           ],
           "sequentialminus": [
            [
             0,
             "#0d0887"
            ],
            [
             0.1111111111111111,
             "#46039f"
            ],
            [
             0.2222222222222222,
             "#7201a8"
            ],
            [
             0.3333333333333333,
             "#9c179e"
            ],
            [
             0.4444444444444444,
             "#bd3786"
            ],
            [
             0.5555555555555556,
             "#d8576b"
            ],
            [
             0.6666666666666666,
             "#ed7953"
            ],
            [
             0.7777777777777778,
             "#fb9f3a"
            ],
            [
             0.8888888888888888,
             "#fdca26"
            ],
            [
             1,
             "#f0f921"
            ]
           ]
          },
          "colorway": [
           "#636efa",
           "#EF553B",
           "#00cc96",
           "#ab63fa",
           "#FFA15A",
           "#19d3f3",
           "#FF6692",
           "#B6E880",
           "#FF97FF",
           "#FECB52"
          ],
          "font": {
           "color": "#2a3f5f"
          },
          "geo": {
           "bgcolor": "white",
           "lakecolor": "white",
           "landcolor": "#E5ECF6",
           "showlakes": true,
           "showland": true,
           "subunitcolor": "white"
          },
          "hoverlabel": {
           "align": "left"
          },
          "hovermode": "closest",
          "mapbox": {
           "style": "light"
          },
          "paper_bgcolor": "white",
          "plot_bgcolor": "#E5ECF6",
          "polar": {
           "angularaxis": {
            "gridcolor": "white",
            "linecolor": "white",
            "ticks": ""
           },
           "bgcolor": "#E5ECF6",
           "radialaxis": {
            "gridcolor": "white",
            "linecolor": "white",
            "ticks": ""
           }
          },
          "scene": {
           "xaxis": {
            "backgroundcolor": "#E5ECF6",
            "gridcolor": "white",
            "gridwidth": 2,
            "linecolor": "white",
            "showbackground": true,
            "ticks": "",
            "zerolinecolor": "white"
           },
           "yaxis": {
            "backgroundcolor": "#E5ECF6",
            "gridcolor": "white",
            "gridwidth": 2,
            "linecolor": "white",
            "showbackground": true,
            "ticks": "",
            "zerolinecolor": "white"
           },
           "zaxis": {
            "backgroundcolor": "#E5ECF6",
            "gridcolor": "white",
            "gridwidth": 2,
            "linecolor": "white",
            "showbackground": true,
            "ticks": "",
            "zerolinecolor": "white"
           }
          },
          "shapedefaults": {
           "line": {
            "color": "#2a3f5f"
           }
          },
          "ternary": {
           "aaxis": {
            "gridcolor": "white",
            "linecolor": "white",
            "ticks": ""
           },
           "baxis": {
            "gridcolor": "white",
            "linecolor": "white",
            "ticks": ""
           },
           "bgcolor": "#E5ECF6",
           "caxis": {
            "gridcolor": "white",
            "linecolor": "white",
            "ticks": ""
           }
          },
          "title": {
           "x": 0.05
          },
          "xaxis": {
           "automargin": true,
           "gridcolor": "white",
           "linecolor": "white",
           "ticks": "",
           "title": {
            "standoff": 15
           },
           "zerolinecolor": "white",
           "zerolinewidth": 2
          },
          "yaxis": {
           "automargin": true,
           "gridcolor": "white",
           "linecolor": "white",
           "ticks": "",
           "title": {
            "standoff": 15
           },
           "zerolinecolor": "white",
           "zerolinewidth": 2
          }
         }
        },
        "xaxis": {
         "title": {
          "text": "False Positive Rate"
         }
        },
        "yaxis": {
         "title": {
          "text": "True Positive Rate"
         }
        }
       }
      },
      "text/html": [
       "<div>                            <div id=\"ccbe927b-8f10-4091-bb4a-6523a7c04e6c\" class=\"plotly-graph-div\" style=\"height:525px; width:100%;\"></div>            <script type=\"text/javascript\">                require([\"plotly\"], function(Plotly) {                    window.PLOTLYENV=window.PLOTLYENV || {};                                    if (document.getElementById(\"ccbe927b-8f10-4091-bb4a-6523a7c04e6c\")) {                    Plotly.newPlot(                        \"ccbe927b-8f10-4091-bb4a-6523a7c04e6c\",                        [{\"line\":{\"shape\":\"hv\"},\"mode\":\"lines\",\"name\":\"ACDC\",\"x\":[0.0,0.01812366737739872,0.013859275053304905,0.014925373134328358,0.017057569296375266,0.021321961620469083,0.022388059701492536,0.013859275053304905,0.017057569296375266,0.017057569296375266,0.03731343283582089,0.04904051172707889,1.0],\"y\":[0.0,0.11904761904761904,0.11904761904761904,0.11904761904761904,0.14285714285714285,0.21428571428571427,0.19047619047619047,0.13095238095238096,0.09523809523809523,0.11904761904761904,0.19047619047619047,0.2619047619047619,1.0],\"type\":\"scatter\"}],                        {\"template\":{\"data\":{\"histogram2dcontour\":[{\"type\":\"histogram2dcontour\",\"colorbar\":{\"outlinewidth\":0,\"ticks\":\"\"},\"colorscale\":[[0.0,\"#0d0887\"],[0.1111111111111111,\"#46039f\"],[0.2222222222222222,\"#7201a8\"],[0.3333333333333333,\"#9c179e\"],[0.4444444444444444,\"#bd3786\"],[0.5555555555555556,\"#d8576b\"],[0.6666666666666666,\"#ed7953\"],[0.7777777777777778,\"#fb9f3a\"],[0.8888888888888888,\"#fdca26\"],[1.0,\"#f0f921\"]]}],\"choropleth\":[{\"type\":\"choropleth\",\"colorbar\":{\"outlinewidth\":0,\"ticks\":\"\"}}],\"histogram2d\":[{\"type\":\"histogram2d\",\"colorbar\":{\"outlinewidth\":0,\"ticks\":\"\"},\"colorscale\":[[0.0,\"#0d0887\"],[0.1111111111111111,\"#46039f\"],[0.2222222222222222,\"#7201a8\"],[0.3333333333333333,\"#9c179e\"],[0.4444444444444444,\"#bd3786\"],[0.5555555555555556,\"#d8576b\"],[0.6666666666666666,\"#ed7953\"],[0.7777777777777778,\"#fb9f3a\"],[0.8888888888888888,\"#fdca26\"],[1.0,\"#f0f921\"]]}],\"heatmap\":[{\"type\":\"heatmap\",\"colorbar\":{\"outlinewidth\":0,\"ticks\":\"\"},\"colorscale\":[[0.0,\"#0d0887\"],[0.1111111111111111,\"#46039f\"],[0.2222222222222222,\"#7201a8\"],[0.3333333333333333,\"#9c179e\"],[0.4444444444444444,\"#bd3786\"],[0.5555555555555556,\"#d8576b\"],[0.6666666666666666,\"#ed7953\"],[0.7777777777777778,\"#fb9f3a\"],[0.8888888888888888,\"#fdca26\"],[1.0,\"#f0f921\"]]}],\"heatmapgl\":[{\"type\":\"heatmapgl\",\"colorbar\":{\"outlinewidth\":0,\"ticks\":\"\"},\"colorscale\":[[0.0,\"#0d0887\"],[0.1111111111111111,\"#46039f\"],[0.2222222222222222,\"#7201a8\"],[0.3333333333333333,\"#9c179e\"],[0.4444444444444444,\"#bd3786\"],[0.5555555555555556,\"#d8576b\"],[0.6666666666666666,\"#ed7953\"],[0.7777777777777778,\"#fb9f3a\"],[0.8888888888888888,\"#fdca26\"],[1.0,\"#f0f921\"]]}],\"contourcarpet\":[{\"type\":\"contourcarpet\",\"colorbar\":{\"outlinewidth\":0,\"ticks\":\"\"}}],\"contour\":[{\"type\":\"contour\",\"colorbar\":{\"outlinewidth\":0,\"ticks\":\"\"},\"colorscale\":[[0.0,\"#0d0887\"],[0.1111111111111111,\"#46039f\"],[0.2222222222222222,\"#7201a8\"],[0.3333333333333333,\"#9c179e\"],[0.4444444444444444,\"#bd3786\"],[0.5555555555555556,\"#d8576b\"],[0.6666666666666666,\"#ed7953\"],[0.7777777777777778,\"#fb9f3a\"],[0.8888888888888888,\"#fdca26\"],[1.0,\"#f0f921\"]]}],\"surface\":[{\"type\":\"surface\",\"colorbar\":{\"outlinewidth\":0,\"ticks\":\"\"},\"colorscale\":[[0.0,\"#0d0887\"],[0.1111111111111111,\"#46039f\"],[0.2222222222222222,\"#7201a8\"],[0.3333333333333333,\"#9c179e\"],[0.4444444444444444,\"#bd3786\"],[0.5555555555555556,\"#d8576b\"],[0.6666666666666666,\"#ed7953\"],[0.7777777777777778,\"#fb9f3a\"],[0.8888888888888888,\"#fdca26\"],[1.0,\"#f0f921\"]]}],\"mesh3d\":[{\"type\":\"mesh3d\",\"colorbar\":{\"outlinewidth\":0,\"ticks\":\"\"}}],\"scatter\":[{\"fillpattern\":{\"fillmode\":\"overlay\",\"size\":10,\"solidity\":0.2},\"type\":\"scatter\"}],\"parcoords\":[{\"type\":\"parcoords\",\"line\":{\"colorbar\":{\"outlinewidth\":0,\"ticks\":\"\"}}}],\"scatterpolargl\":[{\"type\":\"scatterpolargl\",\"marker\":{\"colorbar\":{\"outlinewidth\":0,\"ticks\":\"\"}}}],\"bar\":[{\"error_x\":{\"color\":\"#2a3f5f\"},\"error_y\":{\"color\":\"#2a3f5f\"},\"marker\":{\"line\":{\"color\":\"#E5ECF6\",\"width\":0.5},\"pattern\":{\"fillmode\":\"overlay\",\"size\":10,\"solidity\":0.2}},\"type\":\"bar\"}],\"scattergeo\":[{\"type\":\"scattergeo\",\"marker\":{\"colorbar\":{\"outlinewidth\":0,\"ticks\":\"\"}}}],\"scatterpolar\":[{\"type\":\"scatterpolar\",\"marker\":{\"colorbar\":{\"outlinewidth\":0,\"ticks\":\"\"}}}],\"histogram\":[{\"marker\":{\"pattern\":{\"fillmode\":\"overlay\",\"size\":10,\"solidity\":0.2}},\"type\":\"histogram\"}],\"scattergl\":[{\"type\":\"scattergl\",\"marker\":{\"colorbar\":{\"outlinewidth\":0,\"ticks\":\"\"}}}],\"scatter3d\":[{\"type\":\"scatter3d\",\"line\":{\"colorbar\":{\"outlinewidth\":0,\"ticks\":\"\"}},\"marker\":{\"colorbar\":{\"outlinewidth\":0,\"ticks\":\"\"}}}],\"scattermapbox\":[{\"type\":\"scattermapbox\",\"marker\":{\"colorbar\":{\"outlinewidth\":0,\"ticks\":\"\"}}}],\"scatterternary\":[{\"type\":\"scatterternary\",\"marker\":{\"colorbar\":{\"outlinewidth\":0,\"ticks\":\"\"}}}],\"scattercarpet\":[{\"type\":\"scattercarpet\",\"marker\":{\"colorbar\":{\"outlinewidth\":0,\"ticks\":\"\"}}}],\"carpet\":[{\"aaxis\":{\"endlinecolor\":\"#2a3f5f\",\"gridcolor\":\"white\",\"linecolor\":\"white\",\"minorgridcolor\":\"white\",\"startlinecolor\":\"#2a3f5f\"},\"baxis\":{\"endlinecolor\":\"#2a3f5f\",\"gridcolor\":\"white\",\"linecolor\":\"white\",\"minorgridcolor\":\"white\",\"startlinecolor\":\"#2a3f5f\"},\"type\":\"carpet\"}],\"table\":[{\"cells\":{\"fill\":{\"color\":\"#EBF0F8\"},\"line\":{\"color\":\"white\"}},\"header\":{\"fill\":{\"color\":\"#C8D4E3\"},\"line\":{\"color\":\"white\"}},\"type\":\"table\"}],\"barpolar\":[{\"marker\":{\"line\":{\"color\":\"#E5ECF6\",\"width\":0.5},\"pattern\":{\"fillmode\":\"overlay\",\"size\":10,\"solidity\":0.2}},\"type\":\"barpolar\"}],\"pie\":[{\"automargin\":true,\"type\":\"pie\"}]},\"layout\":{\"autotypenumbers\":\"strict\",\"colorway\":[\"#636efa\",\"#EF553B\",\"#00cc96\",\"#ab63fa\",\"#FFA15A\",\"#19d3f3\",\"#FF6692\",\"#B6E880\",\"#FF97FF\",\"#FECB52\"],\"font\":{\"color\":\"#2a3f5f\"},\"hovermode\":\"closest\",\"hoverlabel\":{\"align\":\"left\"},\"paper_bgcolor\":\"white\",\"plot_bgcolor\":\"#E5ECF6\",\"polar\":{\"bgcolor\":\"#E5ECF6\",\"angularaxis\":{\"gridcolor\":\"white\",\"linecolor\":\"white\",\"ticks\":\"\"},\"radialaxis\":{\"gridcolor\":\"white\",\"linecolor\":\"white\",\"ticks\":\"\"}},\"ternary\":{\"bgcolor\":\"#E5ECF6\",\"aaxis\":{\"gridcolor\":\"white\",\"linecolor\":\"white\",\"ticks\":\"\"},\"baxis\":{\"gridcolor\":\"white\",\"linecolor\":\"white\",\"ticks\":\"\"},\"caxis\":{\"gridcolor\":\"white\",\"linecolor\":\"white\",\"ticks\":\"\"}},\"coloraxis\":{\"colorbar\":{\"outlinewidth\":0,\"ticks\":\"\"}},\"colorscale\":{\"sequential\":[[0.0,\"#0d0887\"],[0.1111111111111111,\"#46039f\"],[0.2222222222222222,\"#7201a8\"],[0.3333333333333333,\"#9c179e\"],[0.4444444444444444,\"#bd3786\"],[0.5555555555555556,\"#d8576b\"],[0.6666666666666666,\"#ed7953\"],[0.7777777777777778,\"#fb9f3a\"],[0.8888888888888888,\"#fdca26\"],[1.0,\"#f0f921\"]],\"sequentialminus\":[[0.0,\"#0d0887\"],[0.1111111111111111,\"#46039f\"],[0.2222222222222222,\"#7201a8\"],[0.3333333333333333,\"#9c179e\"],[0.4444444444444444,\"#bd3786\"],[0.5555555555555556,\"#d8576b\"],[0.6666666666666666,\"#ed7953\"],[0.7777777777777778,\"#fb9f3a\"],[0.8888888888888888,\"#fdca26\"],[1.0,\"#f0f921\"]],\"diverging\":[[0,\"#8e0152\"],[0.1,\"#c51b7d\"],[0.2,\"#de77ae\"],[0.3,\"#f1b6da\"],[0.4,\"#fde0ef\"],[0.5,\"#f7f7f7\"],[0.6,\"#e6f5d0\"],[0.7,\"#b8e186\"],[0.8,\"#7fbc41\"],[0.9,\"#4d9221\"],[1,\"#276419\"]]},\"xaxis\":{\"gridcolor\":\"white\",\"linecolor\":\"white\",\"ticks\":\"\",\"title\":{\"standoff\":15},\"zerolinecolor\":\"white\",\"automargin\":true,\"zerolinewidth\":2},\"yaxis\":{\"gridcolor\":\"white\",\"linecolor\":\"white\",\"ticks\":\"\",\"title\":{\"standoff\":15},\"zerolinecolor\":\"white\",\"automargin\":true,\"zerolinewidth\":2},\"scene\":{\"xaxis\":{\"backgroundcolor\":\"#E5ECF6\",\"gridcolor\":\"white\",\"linecolor\":\"white\",\"showbackground\":true,\"ticks\":\"\",\"zerolinecolor\":\"white\",\"gridwidth\":2},\"yaxis\":{\"backgroundcolor\":\"#E5ECF6\",\"gridcolor\":\"white\",\"linecolor\":\"white\",\"showbackground\":true,\"ticks\":\"\",\"zerolinecolor\":\"white\",\"gridwidth\":2},\"zaxis\":{\"backgroundcolor\":\"#E5ECF6\",\"gridcolor\":\"white\",\"linecolor\":\"white\",\"showbackground\":true,\"ticks\":\"\",\"zerolinecolor\":\"white\",\"gridwidth\":2}},\"shapedefaults\":{\"line\":{\"color\":\"#2a3f5f\"}},\"annotationdefaults\":{\"arrowcolor\":\"#2a3f5f\",\"arrowhead\":0,\"arrowwidth\":1},\"geo\":{\"bgcolor\":\"white\",\"landcolor\":\"#E5ECF6\",\"subunitcolor\":\"white\",\"showland\":true,\"showlakes\":true,\"lakecolor\":\"white\"},\"title\":{\"x\":0.05},\"mapbox\":{\"style\":\"light\"}}},\"xaxis\":{\"title\":{\"text\":\"False Positive Rate\"}},\"yaxis\":{\"title\":{\"text\":\"True Positive Rate\"}}},                        {\"responsive\": true}                    ).then(function(){\n",
       "                            \n",
       "var gd = document.getElementById('ccbe927b-8f10-4091-bb4a-6523a7c04e6c');\n",
       "var x = new MutationObserver(function (mutations, observer) {{\n",
       "        var display = window.getComputedStyle(gd).display;\n",
       "        if (!display || display === 'none') {{\n",
       "            console.log([gd, 'removed!']);\n",
       "            Plotly.purge(gd);\n",
       "            observer.disconnect();\n",
       "        }}\n",
       "}});\n",
       "\n",
       "// Listen for the removal of the full notebook cells\n",
       "var notebookContainer = gd.closest('#notebook-container');\n",
       "if (notebookContainer) {{\n",
       "    x.observe(notebookContainer, {childList: true});\n",
       "}}\n",
       "\n",
       "// Listen for the clearing of the current output cell\n",
       "var outputEl = gd.closest('.output');\n",
       "if (outputEl) {{\n",
       "    x.observe(outputEl, {childList: true});\n",
       "}}\n",
       "\n",
       "                        })                };                });            </script>        </div>"
      ]
     },
     "metadata": {},
     "output_type": "display_data"
    }
   ],
   "source": [
    "import plotly.graph_objects as go\n",
    "\n",
    "def get_roc_figure(all_points, names): \n",
    "    \"\"\"Points are (false positive rate, true positive rate)\"\"\"\n",
    "    roc_figure = go.Figure()\n",
    "    for points, name in zip(all_points, names):\n",
    "        try: \n",
    "            points[0].keys()     \n",
    "        except AttributeError:  # Catching specific error for better readability\n",
    "            x = [p[0] for p in points]\n",
    "            y = [p[1] for p in points]\n",
    "        else:\n",
    "            x, y = None, None\n",
    "            for key in points[0].keys():\n",
    "                if \"fpr\" in key:\n",
    "                    x = [p[key] for p in points]\n",
    "                if \"tpr\" in key:\n",
    "                    y = [p[key] for p in points]\n",
    "            assert x is not None and y is not None, \"Could not process with either indices or keys\"\n",
    "        \n",
    "        roc_figure.add_trace(\n",
    "            go.Scatter(\n",
    "                x=x,\n",
    "                y=y,\n",
    "                mode=\"lines\",\n",
    "                line=dict(shape='hv'),  # Adding this line will make the curve stepped.\n",
    "                name=name,\n",
    "            )\n",
    "        )\n",
    "    roc_figure.update_xaxes(title_text=\"False Positive Rate\")\n",
    "    roc_figure.update_yaxes(title_text=\"True Positive Rate\")\n",
    "    return roc_figure\n",
    "\n",
    "# Generating the ROC figure\n",
    "fig = get_roc_figure(list(points.values()), names=list(points.keys()))\n",
    "\n",
    "# Display the figure inline in the notebook\n",
    "fig.show()"
   ]
  },
  {
   "cell_type": "code",
   "execution_count": null,
   "metadata": {},
   "outputs": [],
   "source": [
    "ALG = 'ACDC'\n",
    "\n",
    "os.makedirs(OUT_FILE.parent, exist_ok=True)\n",
    "\n",
    "ablation = \"zero_ablation\" if ZERO_ABLATION else \"random_ablation\"\n",
    "weights = \"reset\" if RESET_NETWORK else \"trained\"\n",
    "\n",
    "assert len(points[ALG]) > 4\n",
    "\n",
    "out_dict = {\n",
    "    weights: {\n",
    "        ablation: {\n",
    "            args.task: {\n",
    "                args.metric: {\n",
    "                    ALG: {k: [p[k] for p in points[ALG]] for k in points[ALG][0].keys()},\n",
    "                },\n",
    "            },\n",
    "        },\n",
    "    },\n",
    "}\n",
    "\n",
    "with open(OUT_FILE, \"w\") as f:\n",
    "    json.dump(out_dict, f, indent=2)"
   ]
  },
  {
   "cell_type": "code",
   "execution_count": null,
   "metadata": {},
   "outputs": [],
   "source": [
    "import plotly\n",
    "import os\n",
    "import numpy as np\n",
    "import json\n",
    "import wandb\n",
    "import time\n",
    "from plotly.subplots import make_subplots\n",
    "import plotly.graph_objects as go\n",
    "from pathlib import Path\n",
    "import plotly.express as px\n",
    "import pandas as pd\n",
    "import argparse\n",
    "import plotly.colors as pc\n",
    "from acdc.acdc_graphics import dict_merge, pessimistic_auc\n",
    "\n",
    "import os\n",
    "from pathlib import Path\n",
    "\n",
    "# # Use the full path\n",
    "# # DATA_DIR = Path(\"/home/iustin/Mech-Interp/Automatic-Circuit-Discovery/experiments/results/plots_data\")\n",
    "\n",
    "# # Alternatively, if your script is in the Automatic-Circuit-Discovery directory, you can use a relative path:\n",
    "# DATA_DIR = Path.cwd() / \"experiments\" / \"results\" / \"plots_data\"\n",
    "\n",
    "# all_data = {}\n",
    "\n",
    "# for fname in os.listdir(DATA_DIR):\n",
    "#     if fname.endswith(\".json\"):\n",
    "#         with open(DATA_DIR / fname, \"r\") as f:\n",
    "#             data = json.load(f)\n",
    "#         dict_merge(all_data, data)\n",
    "\n",
    "dir1 = \"acdc/hybridretrieval/roc/roc_plots/plots_data/acdc-hybrid-retrieval-kl_div-True-0.json\"\n",
    "dir2 = \"acdc/hybridretrieval/roc/roc_plots/plots_data/acdc-hybrid-retrieval-kl_div-False-0.json\"\n",
    "\n",
    "with open (dir1, \"r\") as f:\n",
    "    all_data1 = json.load(f)\n",
    "\n",
    "with open (dir2, \"r\") as f:\n",
    "    all_data2 = json.load(f)"
   ]
  },
  {
   "cell_type": "code",
   "execution_count": null,
   "metadata": {},
   "outputs": [
    {
     "name": "stderr",
     "output_type": "stream",
     "text": [
      "/tmp/ipykernel_165710/3447575210.py:29: RuntimeWarning:\n",
      "\n",
      "invalid value encountered in log10\n",
      "\n"
     ]
    },
    {
     "data": {
      "image/png": "[encoded data removed]",
      "text/plain": [
       "<Figure size 1500x600 with 3 Axes>"
      ]
     },
     "metadata": {},
     "output_type": "display_data"
    }
   ],
   "source": [
    "import matplotlib.pyplot as plt\n",
    "import numpy as np\n",
    "from matplotlib.colors import LinearSegmentedColormap\n",
    "\n",
    "def discard_non_pareto_optimal(points, cmp=\"gt\"):\n",
    "    ret = []\n",
    "    for x, y in points:\n",
    "        for x1, y1 in points:\n",
    "            if x1 < x and getattr(y1, f\"__{cmp}__\")(y) and (x1, y1) != (x, y):\n",
    "                break\n",
    "        else:\n",
    "            ret.append((x, y))\n",
    "    return list(sorted(ret))\n",
    "\n",
    "# Create figure and axes\n",
    "fig, (ax1, ax2) = plt.subplots(1, 2, figsize=(15, 6), gridspec_kw={'width_ratios': [3, 1]})\n",
    "fig.suptitle(\"ROC Curves\", fontsize=16)\n",
    "\n",
    "colorscales = {\n",
    "    \"ACDC\": \"Blues\",\n",
    "}\n",
    "\n",
    "for i, alg in enumerate([\"ACDC\"]):\n",
    "    this_data1 = all_data1[\"trained\"][\"zero_ablation\"][\"hybrid-retrieval\"][\"kl_div\"][alg]\n",
    "    x_data = this_data1[\"edge_fpr\"]\n",
    "    y_data = this_data1[\"edge_tpr\"]\n",
    "    scores = this_data1[\"score\"]\n",
    "\n",
    "    log_scores = np.log10(scores)\n",
    "    log_scores = np.nan_to_num(log_scores, nan=0.0, neginf=0.0, posinf=0.0)\n",
    "\n",
    "    min_score = np.min(log_scores)\n",
    "    max_score = np.max(log_scores)\n",
    "\n",
    "    normalized_scores = (log_scores - min_score) / (max_score - min_score)\n",
    "    normalized_scores[~np.isfinite(normalized_scores)] = 0.0\n",
    "\n",
    "    points = list(zip(x_data, y_data))\n",
    "    pareto_optimal = discard_non_pareto_optimal(points)\n",
    "\n",
    "    methodof = \"acdc\"\n",
    "\n",
    "    pareto_x_data, pareto_y_data = zip(*pareto_optimal)\n",
    "    \n",
    "    # Plot Pareto optimal line\n",
    "    ax1.step(pareto_x_data, pareto_y_data, where='post', label=methodof, color='blue', alpha=0.7)\n",
    "\n",
    "    # Plot scatter points\n",
    "    scatter = ax1.scatter(x_data, y_data, c=normalized_scores, cmap=colorscales[alg], s=30, alpha=0.7)\n",
    "\n",
    "    # Color bar\n",
    "    plt.colorbar(scatter, ax=ax1, label='KL div scores')\n",
    "\n",
    "# Configure main plot\n",
    "ax1.set_xlabel('False Positive Rate')\n",
    "ax1.set_ylabel('True Positive Rate')\n",
    "ax1.set_title('ROC Curve')\n",
    "ax1.legend()\n",
    "ax1.grid(True, linestyle='--', alpha=0.7)\n",
    "\n",
    "# Create heatmap in the second subplot\n",
    "nums = np.arange(200).reshape(2, 100).T.astype(float)\n",
    "nums[:20, :20] = np.nan\n",
    "heatmap = ax2.imshow(nums, cmap='viridis')\n",
    "ax2.axis('off')\n",
    "\n",
    "# Adjust layout\n",
    "plt.tight_layout()\n",
    "plt.show()"
   ]
  },
  {
   "cell_type": "code",
   "execution_count": null,
   "metadata": {},
   "outputs": [
    {
     "data": {
      "image/png": "[encoded data removed]",
      "text/plain": [
       "<Figure size 800x600 with 1 Axes>"
      ]
     },
     "metadata": {},
     "output_type": "display_data"
    }
   ],
   "source": [
    "edge_fpr = this_data1['edge_fpr']\n",
    "edge_tpr = this_data1['edge_tpr']\n",
    "\n",
    "# Plotting the ROC curve\n",
    "plt.figure(figsize=(8, 6))\n",
    "plt.plot(edge_fpr, edge_tpr, marker='o', linestyle='-', color='b')\n",
    "plt.title('Edge Level ROC Curve')\n",
    "plt.xlabel('False Positive Rate (FPR)')\n",
    "plt.ylabel('True Positive Rate (TPR)')\n",
    "plt.grid(True)\n",
    "plt.show()"
   ]
  },
  {
   "cell_type": "code",
   "execution_count": null,
   "metadata": {},
   "outputs": [
    {
     "data": {
      "image/png": "[encoded data removed]",
      "text/plain": [
       "<Figure size 800x600 with 1 Axes>"
      ]
     },
     "metadata": {},
     "output_type": "display_data"
    }
   ],
   "source": [
    "edge_precision = this_data1['edge_precision']\n",
    "edge_recall = this_data1['edge_tpr']\n",
    "\n",
    "# Plotting the Precision-Recall curve\n",
    "plt.figure(figsize=(8, 6))\n",
    "plt.plot(edge_recall, edge_precision, marker='o', linestyle='-', color='b')\n",
    "plt.title('Precision-Recall Curve')\n",
    "plt.xlabel('Recall (TPR)')\n",
    "plt.ylabel('Precision')\n",
    "plt.grid(True)\n",
    "plt.show()"
   ]
  },
  {
   "cell_type": "code",
   "execution_count": null,
   "metadata": {},
   "outputs": [],
   "source": [
    "this_data2 = all_data2[\"trained\"][\"random_ablation\"][\"hybrid-retrieval\"][\"kl_div\"][\"ACDC\"]"
   ]
  },
  {
   "cell_type": "code",
   "execution_count": null,
   "metadata": {},
   "outputs": [],
   "source": [
    "n_edges1 = this_data1['n_edges']\n",
    "n_nodes1 = this_data1['n_nodes']\n",
    "steps1 = this_data1['steps']\n",
    "kl_div_threshold1 = this_data1['score']\n",
    "test_kl_div1 = this_data1['test_kl_div']\n",
    "\n",
    "n_edges2 = this_data2['n_edges']\n",
    "n_nodes2 = this_data2['n_nodes']\n",
    "steps2 = this_data2['steps']\n",
    "kl_div_threshold2 = this_data2['score']\n",
    "test_kl_div2 = this_data2['test_kl_div']"
   ]
  },
  {
   "cell_type": "code",
   "execution_count": null,
   "metadata": {},
   "outputs": [
    {
     "data": {
      "image/png": "[encoded data removed]",
      "text/plain": [
       "<Figure size 1000x600 with 2 Axes>"
      ]
     },
     "metadata": {},
     "output_type": "display_data"
    }
   ],
   "source": [
    "# Remove Infinity and NaN values for plotting\n",
    "cleaned_test_kl_div = [x for x in test_kl_div1 if np.isfinite(x)]\n",
    "cleaned_n_edges = [n_edges1[i] for i in range(len(n_edges1)) if np.isfinite(test_kl_div1[i]) and not np.isnan(n_edges1[i])]\n",
    "cleaned_kl_div = [test_kl_div1[i] for i in range(len(test_kl_div1)) if np.isfinite(test_kl_div1[i]) and not np.isnan(n_edges1[i])]\n",
    "\n",
    "# Create scatter plot with colorbar\n",
    "plt.figure(figsize=(10, 6))\n",
    "sc = plt.scatter(cleaned_n_edges, cleaned_test_kl_div, c=cleaned_kl_div, cmap='viridis', marker='o')\n",
    "plt.title('KL Divergence vs Number of Edges')\n",
    "plt.xlabel('Number of Edges')\n",
    "plt.ylabel('KL Divergence')\n",
    "plt.colorbar(sc, label='KL Divergence')\n",
    "plt.grid(True)\n",
    "plt.show()"
   ]
  },
  {
   "cell_type": "code",
   "execution_count": null,
   "metadata": {},
   "outputs": [
    {
     "name": "stderr",
     "output_type": "stream",
     "text": [
      "/tmp/ipykernel_165710/3501809723.py:40: UserWarning:\n",
      "\n",
      "This figure includes Axes that are not compatible with tight_layout, so results might be incorrect.\n",
      "\n"
     ]
    },
    {
     "data": {
      "image/png": "[encoded data removed]",
      "text/plain": [
       "<Figure size 1500x600 with 3 Axes>"
      ]
     },
     "metadata": {},
     "output_type": "display_data"
    }
   ],
   "source": [
    "from matplotlib.colors import LogNorm\n",
    "\n",
    "# Create figure with extra space on the right for the colorbar\n",
    "fig, (ax1, ax2) = plt.subplots(1, 2, figsize=(15, 6), sharey=True)\n",
    "\n",
    "def plot_data(ax, n_edges, test_kl_div, kl_div_threshold, title):\n",
    "    scatter = ax.scatter(n_edges, test_kl_div, c=kl_div_threshold, \n",
    "                         cmap='viridis', norm=LogNorm(), \n",
    "                         marker='o', edgecolors='black', linewidth=0.5)\n",
    "    # ax.set_xscale('log')\n",
    "    # ax.set_yscale('log')\n",
    "    ax.set_xlabel('Number of edges')\n",
    "    ax.set_ylabel('KL (model, ablated)')\n",
    "    ax.set_title(title)\n",
    "    ax.grid(True, which=\"both\", ls=\"-\", alpha=0.2)\n",
    "    return scatter\n",
    "\n",
    "# Plot for the first dataset (zero input)\n",
    "scatter1 = plot_data(ax1, n_edges1, test_kl_div1, kl_div_threshold1, 'a) Induction (zero)')\n",
    "\n",
    "# Plot for the second dataset (corrupted)\n",
    "scatter2 = plot_data(ax2, n_edges2, test_kl_div2, kl_div_threshold2, 'b) Induction (corrupted)')\n",
    "\n",
    "# Add a colorbar to the right of both plots\n",
    "cbar_ax = fig.add_axes([0.92, 0.15, 0.02, 0.7])  # [left, bottom, width, height]\n",
    "cbar = fig.colorbar(scatter1, cax=cbar_ax, extend='both')\n",
    "cbar.ax.set_yscale('logit')\n",
    "\n",
    "# Set colorbar label on top\n",
    "cbar.ax.xaxis.set_label_position('top')\n",
    "cbar.ax.set_xlabel(r'$\\tau\\%$', labelpad=25)\n",
    "\n",
    "\n",
    "# # Add legend with only ACDC\n",
    "# legend_elements = [plt.Line2D([0], [0], marker='o', color='w', label='ACDC')]\n",
    "\n",
    "# fig.legend(handles=legend_elements, loc='upper center', bbox_to_anchor=(0.5, 0.05),\n",
    "#            ncol=1, fancybox=True, shadow=True)\n",
    "\n",
    "plt.tight_layout()\n",
    "plt.subplots_adjust(bottom=0.15, right=0.9)  # Adjust right to make room for colorbar\n",
    "plt.show()"
   ]
  }
 ],
 "metadata": {
  "kernelspec": {
   "display_name": "acdc",
   "language": "python",
   "name": "python3"
  },
  "language_info": {
   "codemirror_mode": {
    "name": "ipython",
    "version": 3
   },
   "file_extension": ".py",
   "mimetype": "text/x-python",
   "name": "python",
   "nbconvert_exporter": "python",
   "pygments_lexer": "ipython3",
   "version": "3.10.0"
  }
 },
 "nbformat": 4,
 "nbformat_minor": 2
}
