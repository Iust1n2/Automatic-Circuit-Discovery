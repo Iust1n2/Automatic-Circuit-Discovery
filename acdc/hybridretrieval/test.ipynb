{
 "cells": [
  {
   "cell_type": "code",
   "execution_count": 1,
   "metadata": {},
   "outputs": [],
   "source": [
    "from transformers import AutoModelForCausalLM, AutoTokenizer, pipeline, set_seed, GPT2Model, GPT2LMHeadModel, GPT2Tokenizer"
   ]
  },
  {
   "cell_type": "code",
   "execution_count": 2,
   "metadata": {},
   "outputs": [
    {
     "data": {
      "text/plain": [
       "device(type='cuda')"
      ]
     },
     "execution_count": 2,
     "metadata": {},
     "output_type": "execute_result"
    }
   ],
   "source": [
    "import torch\n",
    "\n",
    "device = torch.device('cuda' if torch.cuda.is_available() else 'cpu')\n",
    "device"
   ]
  },
  {
   "cell_type": "code",
   "execution_count": 3,
   "metadata": {},
   "outputs": [
    {
     "name": "stdout",
     "output_type": "stream",
     "text": [
      "/home/iustin/Mech-Interp/Automatic-Circuit-Discovery\n"
     ]
    }
   ],
   "source": [
    "import os \n",
    "os.chdir(\"/home/iustin/Mech-Interp/Automatic-Circuit-Discovery\")\n",
    "!pwd"
   ]
  },
  {
   "cell_type": "code",
   "execution_count": 4,
   "metadata": {},
   "outputs": [],
   "source": [
    "model_name = 'gpt2'  # 137M parameters\n",
    "\n",
    "# Redownload the model and tokenizer\n",
    "model1 = AutoModelForCausalLM.from_pretrained(model_name).to(device)\n",
    "tokenizer = AutoTokenizer.from_pretrained(model_name)"
   ]
  },
  {
   "cell_type": "code",
   "execution_count": 5,
   "metadata": {},
   "outputs": [
    {
     "name": "stdout",
     "output_type": "stream",
     "text": [
      "Loaded pretrained model gpt2 into HookedTransformer\n",
      "Moving model to device:  cuda\n",
      "Clean Prompts:\n",
      "Alice lives in France, Paris - Alice, John lives in Germany, Berlin - John, Peter lives in USA, Washington - Peter\n",
      "Lucy lives in Turkey, Ankara - Lucy, Sara lives in Italy, Rome - Sara, Bob lives in Spain, Madrid - Bob\n",
      "Tom lives in Canada, Toronto - Tom, Anna lives in Australia, Canberra - Anna, Michael lives in Japan, Tokyo - Michael\n",
      "David lives in Brazil, Rio de Janeiro - David, Alice lives in France, Paris - Alice, Peter lives in Germany, Berlin - Peter\n",
      "Sara lives in USA, Washington - Sara, Lucy lives in Turkey, Ankara - Lucy, Tom lives in Italy, Rome - Tom\n",
      "John lives in Spain, Madrid - John, Michael lives in Canada, Toronto - Michael, Anna lives in Australia, Canberra - Anna\n",
      "David lives in Japan, Tokyo - David, Sara lives in Brazil, Rio de Janeiro - Sara, Alice lives in France, Paris - Alice\n",
      "Bob lives in Germany, Berlin - Bob, Peter lives in USA, Washington - Peter, Lucy lives in Turkey, Ankara - Lucy\n",
      "Anna lives in Italy, Rome - Anna, Tom lives in Spain, Madrid - Tom, David lives in Canada, Toronto - David\n",
      "Michael lives in Australia, Canberra - Michael, John lives in Japan, Tokyo - John, Sara lives in Brazil, Rio de Janeiro - Sara\n",
      "Alice lives in France, Paris - Alice, Bob lives in Germany, Berlin - Bob, John lives in USA, Washington - John\n",
      "Peter lives in Turkey, Ankara - Peter, Alice lives in Italy, Rome - Alice, Bob lives in France, Paris - Bob\n",
      "Lucy lives in Spain, Madrid - Lucy, Michael lives in Canada, Toronto - Michael, Tom lives in Australia, Canberra - Tom\n",
      "Anna lives in Japan, Tokyo - Anna, Sara lives in Brazil, Rio de Janeiro - Sara, David lives in France, Paris - David\n",
      "John lives in Germany, Berlin - John, Peter lives in USA, Washington - Peter, Lucy lives in Turkey, Ankara - Lucy\n",
      "Tom lives in Italy, Rome - Tom, David lives in Spain, Madrid - David, Michael lives in Canada, Toronto - Michael\n",
      "Sara lives in Australia, Canberra - Sara, Alice lives in Japan, Tokyo - Alice, Bob lives in Brazil, Rio de Janeiro - Bob\n",
      "Peter lives in France, Paris - Peter, Lucy lives in Germany, Berlin - Lucy, Tom lives in USA, Washington - Tom\n",
      "David lives in Turkey, Ankara - David, Michael lives in Italy, Rome - Michael, Anna lives in Spain, Madrid - Anna\n",
      "John lives in Canada, Toronto - John, Sara lives in Australia, Canberra - Sara, Alice lives in Japan, Tokyo - Alice\n",
      "\n",
      "Corrupted Prompts:\n",
      "Alice lives in France, Paris - Alice, John lives in Germany, Berlin - John, Peter lives in Italy, Paris - Sara\n",
      "Lucy lives in Turkey, Ankara - Lucy, Sara lives in Italy, Rome - Sara, Bob lives in Canada, Berlin - Alice\n",
      "Tom lives in Canada, Toronto - Tom, Anna lives in Australia, Canberra - Anna, Michael lives in Brazil, Washington - Bob\n",
      "David lives in Brazil, Rio de Janeiro - David, Alice lives in France, Paris - Alice, Peter lives in Japan, Rome - Lucy\n",
      "Sara lives in USA, Washington - Sara, Lucy lives in Turkey, Ankara - Lucy, Tom lives in Spain, Madrid - Alice\n",
      "John lives in Spain, Madrid - John, Michael lives in Canada, Toronto - Michael, Anna lives in France, Berlin - Peter\n",
      "David lives in Japan, Tokyo - David, Sara lives in Brazil, Rio de Janeiro - Sara, Alice lives in Turkey, Madrid - Tom\n",
      "Bob lives in Germany, Berlin - Bob, Peter lives in USA, Washington - Peter, Lucy lives in Italy, Tokyo - Anna\n",
      "Anna lives in Italy, Rome - Anna, Tom lives in Spain, Madrid - Tom, David lives in Germany, Canberra - Michael\n",
      "Michael lives in Australia, Canberra - Michael, John lives in Japan, Tokyo - John, Sara lives in France, Berlin - David\n",
      "Alice lives in France, Paris - Alice, Bob lives in Germany, Berlin - Bob, John lives in Spain, Madrid - Peter\n",
      "Peter lives in Turkey, Ankara - Peter, Alice lives in Italy, Rome - Alice, Bob lives in Canada, Tokyo - Lucy\n",
      "Lucy lives in Spain, Madrid - Lucy, Michael lives in Canada, Toronto - Michael, Tom lives in Japan, Washington - John\n",
      "Anna lives in Japan, Tokyo - Anna, Sara lives in Brazil, Rio de Janeiro - Sara, David lives in Germany, Berlin - Bob\n",
      "John lives in Germany, Berlin - John, Peter lives in USA, Washington - Peter, Lucy lives in Spain, Madrid - Michael\n",
      "Tom lives in Italy, Rome - Tom, David lives in Spain, Madrid - David, Michael lives in Japan, Canberra - John\n",
      "Sara lives in Australia, Canberra - Sara, Alice lives in Japan, Tokyo - Alice, Bob lives in Turkey, Paris - David\n",
      "Peter lives in France, Paris - Peter, Lucy lives in Germany, Berlin - Lucy, Tom lives in Canada, Rome - Sara\n",
      "David lives in Turkey, Ankara - David, Michael lives in Italy, Rome - Michael, Anna lives in Germany, Berlin - Bob\n",
      "John lives in Canada, Toronto - John, Sara lives in Australia, Canberra - Sara, Alice lives in Turkey, Washington - Peter\n",
      "Clean Data Datasets:\n",
      "tensor([[44484,  3160,   287,  4881,    11,  6342,   532, 14862,    11,  1757,\n",
      "          3160,   287,  4486,    11, 11307,   532,  1757,    11,  5613,  3160,\n",
      "           287,  4916,    11,  2669,   532,  5613, 50256, 50256, 50256],\n",
      "        [25596,   948,  3160,   287,  7137,    11, 28760,   532, 22162,    11,\n",
      "         24799,  3160,   287,  8031,    11, 10598,   532, 24799,    11,  5811,\n",
      "          3160,   287,  8602,    11, 14708,   532,  5811, 50256, 50256],\n",
      "        [13787,  3160,   287,  3340,    11,  6586,   532,  4186,    11, 11735,\n",
      "          3160,   287,  4505,    11, 33452,   532, 11735,    11,  3899,  3160,\n",
      "           287,  2869,    11, 11790,   532,  3899, 50256, 50256, 50256],\n",
      "        [11006,  3160,   287,  7595,    11, 15338,   390, 42799,   532,  3271,\n",
      "            11, 14862,  3160,   287,  4881,    11,  6342,   532, 14862,    11,\n",
      "          5613,  3160,   287,  4486,    11, 11307,   532,  5613, 50256],\n",
      "        [   50,  3301,  3160,   287,  4916,    11,  2669,   532, 24799,    11,\n",
      "         22162,  3160,   287,  7137,    11, 28760,   532, 22162,    11,  4186,\n",
      "          3160,   287,  8031,    11, 10598,   532,  4186, 50256, 50256],\n",
      "        [ 7554,  3160,   287,  8602,    11, 14708,   532,  1757,    11,  3899,\n",
      "          3160,   287,  3340,    11,  6586,   532,  3899,    11, 11735,  3160,\n",
      "           287,  4505,    11, 33452,   532, 11735, 50256, 50256, 50256],\n",
      "        [11006,  3160,   287,  2869,    11, 11790,   532,  3271,    11, 24799,\n",
      "          3160,   287,  7595,    11, 15338,   390, 42799,   532, 24799,    11,\n",
      "         14862,  3160,   287,  4881,    11,  6342,   532, 14862, 50256],\n",
      "        [18861,  3160,   287,  4486,    11, 11307,   532,  5811,    11,  5613,\n",
      "          3160,   287,  4916,    11,  2669,   532,  5613,    11, 22162,  3160,\n",
      "           287,  7137,    11, 28760,   532, 22162, 50256, 50256, 50256],\n",
      "        [31160,  3160,   287,  8031,    11, 10598,   532, 11735,    11,  4186,\n",
      "          3160,   287,  8602,    11, 14708,   532,  4186,    11,  3271,  3160,\n",
      "           287,  3340,    11,  6586,   532,  3271, 50256, 50256, 50256],\n",
      "        [13256,  3160,   287,  4505,    11, 33452,   532,  3899,    11,  1757,\n",
      "          3160,   287,  2869,    11, 11790,   532,  1757,    11, 24799,  3160,\n",
      "           287,  7595,    11, 15338,   390, 42799,   532, 24799, 50256],\n",
      "        [44484,  3160,   287,  4881,    11,  6342,   532, 14862,    11,  5811,\n",
      "          3160,   287,  4486,    11, 11307,   532,  5811,    11,  1757,  3160,\n",
      "           287,  4916,    11,  2669,   532,  1757, 50256, 50256, 50256],\n",
      "        [19727,  3160,   287,  7137,    11, 28760,   532,  5613,    11, 14862,\n",
      "          3160,   287,  8031,    11, 10598,   532, 14862,    11,  5811,  3160,\n",
      "           287,  4881,    11,  6342,   532,  5811, 50256, 50256, 50256],\n",
      "        [25596,   948,  3160,   287,  8602,    11, 14708,   532, 22162,    11,\n",
      "          3899,  3160,   287,  3340,    11,  6586,   532,  3899,    11,  4186,\n",
      "          3160,   287,  4505,    11, 33452,   532,  4186, 50256, 50256],\n",
      "        [31160,  3160,   287,  2869,    11, 11790,   532, 11735,    11, 24799,\n",
      "          3160,   287,  7595,    11, 15338,   390, 42799,   532, 24799,    11,\n",
      "          3271,  3160,   287,  4881,    11,  6342,   532,  3271, 50256],\n",
      "        [ 7554,  3160,   287,  4486,    11, 11307,   532,  1757,    11,  5613,\n",
      "          3160,   287,  4916,    11,  2669,   532,  5613,    11, 22162,  3160,\n",
      "           287,  7137,    11, 28760,   532, 22162, 50256, 50256, 50256],\n",
      "        [13787,  3160,   287,  8031,    11, 10598,   532,  4186,    11,  3271,\n",
      "          3160,   287,  8602,    11, 14708,   532,  3271,    11,  3899,  3160,\n",
      "           287,  3340,    11,  6586,   532,  3899, 50256, 50256, 50256],\n",
      "        [   50,  3301,  3160,   287,  4505,    11, 33452,   532, 24799,    11,\n",
      "         14862,  3160,   287,  2869,    11, 11790,   532, 14862,    11,  5811,\n",
      "          3160,   287,  7595,    11, 15338,   390, 42799,   532,  5811],\n",
      "        [19727,  3160,   287,  4881,    11,  6342,   532,  5613,    11, 22162,\n",
      "          3160,   287,  4486,    11, 11307,   532, 22162,    11,  4186,  3160,\n",
      "           287,  4916,    11,  2669,   532,  4186, 50256, 50256, 50256],\n",
      "        [11006,  3160,   287,  7137,    11, 28760,   532,  3271,    11,  3899,\n",
      "          3160,   287,  8031,    11, 10598,   532,  3899,    11, 11735,  3160,\n",
      "           287,  8602,    11, 14708,   532, 11735, 50256, 50256, 50256],\n",
      "        [ 7554,  3160,   287,  3340,    11,  6586,   532,  1757,    11, 24799,\n",
      "          3160,   287,  4505,    11, 33452,   532, 24799,    11, 14862,  3160,\n",
      "           287,  2869,    11, 11790,   532, 14862, 50256, 50256, 50256]],\n",
      "       device='cuda:0')\n",
      "\n",
      "Corrupted Data Datasets:\n",
      "tensor([[44484,  3160,   287,  4881,    11,  6342,   532, 14862,    11,  1757,\n",
      "          3160,   287,  4486,    11, 11307,   532,  1757,    11,  5613,  3160,\n",
      "           287,  8031,    11,  6342,   532, 24799, 50256, 50256],\n",
      "        [25596,   948,  3160,   287,  7137,    11, 28760,   532, 22162,    11,\n",
      "         24799,  3160,   287,  8031,    11, 10598,   532, 24799,    11,  5811,\n",
      "          3160,   287,  3340,    11, 11307,   532, 14862, 50256],\n",
      "        [13787,  3160,   287,  3340,    11,  6586,   532,  4186,    11, 11735,\n",
      "          3160,   287,  4505,    11, 33452,   532, 11735,    11,  3899,  3160,\n",
      "           287,  7595,    11,  2669,   532,  5811, 50256, 50256],\n",
      "        [11006,  3160,   287,  7595,    11, 15338,   390, 42799,   532,  3271,\n",
      "            11, 14862,  3160,   287,  4881,    11,  6342,   532, 14862,    11,\n",
      "          5613,  3160,   287,  2869,    11, 10598,   532, 22162],\n",
      "        [   50,  3301,  3160,   287,  4916,    11,  2669,   532, 24799,    11,\n",
      "         22162,  3160,   287,  7137,    11, 28760,   532, 22162,    11,  4186,\n",
      "          3160,   287,  8602,    11, 14708,   532, 14862, 50256],\n",
      "        [ 7554,  3160,   287,  8602,    11, 14708,   532,  1757,    11,  3899,\n",
      "          3160,   287,  3340,    11,  6586,   532,  3899,    11, 11735,  3160,\n",
      "           287,  4881,    11, 11307,   532,  5613, 50256, 50256],\n",
      "        [11006,  3160,   287,  2869,    11, 11790,   532,  3271,    11, 24799,\n",
      "          3160,   287,  7595,    11, 15338,   390, 42799,   532, 24799,    11,\n",
      "         14862,  3160,   287,  7137,    11, 14708,   532,  4186],\n",
      "        [18861,  3160,   287,  4486,    11, 11307,   532,  5811,    11,  5613,\n",
      "          3160,   287,  4916,    11,  2669,   532,  5613,    11, 22162,  3160,\n",
      "           287,  8031,    11, 11790,   532, 11735, 50256, 50256],\n",
      "        [31160,  3160,   287,  8031,    11, 10598,   532, 11735,    11,  4186,\n",
      "          3160,   287,  8602,    11, 14708,   532,  4186,    11,  3271,  3160,\n",
      "           287,  4486,    11, 33452,   532,  3899, 50256, 50256],\n",
      "        [13256,  3160,   287,  4505,    11, 33452,   532,  3899,    11,  1757,\n",
      "          3160,   287,  2869,    11, 11790,   532,  1757,    11, 24799,  3160,\n",
      "           287,  4881,    11, 11307,   532,  3271, 50256, 50256],\n",
      "        [44484,  3160,   287,  4881,    11,  6342,   532, 14862,    11,  5811,\n",
      "          3160,   287,  4486,    11, 11307,   532,  5811,    11,  1757,  3160,\n",
      "           287,  8602,    11, 14708,   532,  5613, 50256, 50256],\n",
      "        [19727,  3160,   287,  7137,    11, 28760,   532,  5613,    11, 14862,\n",
      "          3160,   287,  8031,    11, 10598,   532, 14862,    11,  5811,  3160,\n",
      "           287,  3340,    11, 11790,   532, 22162, 50256, 50256],\n",
      "        [25596,   948,  3160,   287,  8602,    11, 14708,   532, 22162,    11,\n",
      "          3899,  3160,   287,  3340,    11,  6586,   532,  3899,    11,  4186,\n",
      "          3160,   287,  2869,    11,  2669,   532,  1757, 50256],\n",
      "        [31160,  3160,   287,  2869,    11, 11790,   532, 11735,    11, 24799,\n",
      "          3160,   287,  7595,    11, 15338,   390, 42799,   532, 24799,    11,\n",
      "          3271,  3160,   287,  4486,    11, 11307,   532,  5811],\n",
      "        [ 7554,  3160,   287,  4486,    11, 11307,   532,  1757,    11,  5613,\n",
      "          3160,   287,  4916,    11,  2669,   532,  5613,    11, 22162,  3160,\n",
      "           287,  8602,    11, 14708,   532,  3899, 50256, 50256],\n",
      "        [13787,  3160,   287,  8031,    11, 10598,   532,  4186,    11,  3271,\n",
      "          3160,   287,  8602,    11, 14708,   532,  3271,    11,  3899,  3160,\n",
      "           287,  2869,    11, 33452,   532,  1757, 50256, 50256],\n",
      "        [   50,  3301,  3160,   287,  4505,    11, 33452,   532, 24799,    11,\n",
      "         14862,  3160,   287,  2869,    11, 11790,   532, 14862,    11,  5811,\n",
      "          3160,   287,  7137,    11,  6342,   532,  3271, 50256],\n",
      "        [19727,  3160,   287,  4881,    11,  6342,   532,  5613,    11, 22162,\n",
      "          3160,   287,  4486,    11, 11307,   532, 22162,    11,  4186,  3160,\n",
      "           287,  3340,    11, 10598,   532, 24799, 50256, 50256],\n",
      "        [11006,  3160,   287,  7137,    11, 28760,   532,  3271,    11,  3899,\n",
      "          3160,   287,  8031,    11, 10598,   532,  3899,    11, 11735,  3160,\n",
      "           287,  4486,    11, 11307,   532,  5811, 50256, 50256],\n",
      "        [ 7554,  3160,   287,  3340,    11,  6586,   532,  1757,    11, 24799,\n",
      "          3160,   287,  4505,    11, 33452,   532, 24799,    11, 14862,  3160,\n",
      "           287,  7137,    11,  2669,   532,  5613, 50256, 50256]],\n",
      "       device='cuda:0')\n",
      "Shape of validation_data: torch.Size([20, 24])\n",
      "Shape of validation_patch_data: torch.Size([20, 24])\n",
      "Shape of validation_labels: torch.Size([20])\n",
      "Shape of validation_wrong_labels: torch.Size([20])\n",
      "Shape of test_data: torch.Size([20, 24])\n",
      "Shape of test_patch_data: torch.Size([20, 24])\n",
      "Shape of test_labels: torch.Size([20])\n",
      "Shape of test_wrong_labels: torch.Size([20])\n"
     ]
    }
   ],
   "source": [
    "from acdc.hybridretrieval.utils import (\n",
    "    get_all_hybrid_retrieval_things,\n",
    "    get_gpt2_small\n",
    ")\n",
    "\n",
    "num_examples = 20\n",
    "things = get_all_hybrid_retrieval_things(\n",
    "    num_examples = num_examples, device=device, metric_name='logit_diff'\n",
    ")"
   ]
  },
  {
   "cell_type": "code",
   "execution_count": 6,
   "metadata": {},
   "outputs": [
    {
     "name": "stdout",
     "output_type": "stream",
     "text": [
      "Clean Prompts:\n",
      "Alice lives in France, Paris - Alice, John lives in Germany, Berlin - John, Peter lives in USA, Washington - Peter\n",
      "Lucy lives in Turkey, Ankara - Lucy, Sara lives in Italy, Rome - Sara, Bob lives in Spain, Madrid - Bob\n",
      "Tom lives in Canada, Toronto - Tom, Anna lives in Australia, Canberra - Anna, Michael lives in Japan, Tokyo - Michael\n",
      "David lives in Brazil, Rio de Janeiro - David, Alice lives in France, Paris - Alice, Peter lives in Germany, Berlin - Peter\n",
      "Sara lives in USA, Washington - Sara, Lucy lives in Turkey, Ankara - Lucy, Tom lives in Italy, Rome - Tom\n",
      "John lives in Spain, Madrid - John, Michael lives in Canada, Toronto - Michael, Anna lives in Australia, Canberra - Anna\n",
      "David lives in Japan, Tokyo - David, Sara lives in Brazil, Rio de Janeiro - Sara, Alice lives in France, Paris - Alice\n",
      "Bob lives in Germany, Berlin - Bob, Peter lives in USA, Washington - Peter, Lucy lives in Turkey, Ankara - Lucy\n",
      "Anna lives in Italy, Rome - Anna, Tom lives in Spain, Madrid - Tom, David lives in Canada, Toronto - David\n",
      "Michael lives in Australia, Canberra - Michael, John lives in Japan, Tokyo - John, Sara lives in Brazil, Rio de Janeiro - Sara\n",
      "Alice lives in France, Paris - Alice, Bob lives in Germany, Berlin - Bob, John lives in USA, Washington - John\n",
      "Peter lives in Turkey, Ankara - Peter, Alice lives in Italy, Rome - Alice, Bob lives in France, Paris - Bob\n",
      "Lucy lives in Spain, Madrid - Lucy, Michael lives in Canada, Toronto - Michael, Tom lives in Australia, Canberra - Tom\n",
      "Anna lives in Japan, Tokyo - Anna, Sara lives in Brazil, Rio de Janeiro - Sara, David lives in France, Paris - David\n",
      "John lives in Germany, Berlin - John, Peter lives in USA, Washington - Peter, Lucy lives in Turkey, Ankara - Lucy\n",
      "Tom lives in Italy, Rome - Tom, David lives in Spain, Madrid - David, Michael lives in Canada, Toronto - Michael\n",
      "Sara lives in Australia, Canberra - Sara, Alice lives in Japan, Tokyo - Alice, Bob lives in Brazil, Rio de Janeiro - Bob\n",
      "Peter lives in France, Paris - Peter, Lucy lives in Germany, Berlin - Lucy, Tom lives in USA, Washington - Tom\n",
      "David lives in Turkey, Ankara - David, Michael lives in Italy, Rome - Michael, Anna lives in Spain, Madrid - Anna\n",
      "John lives in Canada, Toronto - John, Sara lives in Australia, Canberra - Sara, Alice lives in Japan, Tokyo - Alice\n",
      "\n",
      "Corrupted Prompts:\n",
      "Alice lives in France, Paris - Alice, John lives in Germany, Berlin - John, Peter lives in Italy, Paris - Sara\n",
      "Lucy lives in Turkey, Ankara - Lucy, Sara lives in Italy, Rome - Sara, Bob lives in Canada, Berlin - Alice\n",
      "Tom lives in Canada, Toronto - Tom, Anna lives in Australia, Canberra - Anna, Michael lives in Brazil, Washington - Bob\n",
      "David lives in Brazil, Rio de Janeiro - David, Alice lives in France, Paris - Alice, Peter lives in Japan, Rome - Lucy\n",
      "Sara lives in USA, Washington - Sara, Lucy lives in Turkey, Ankara - Lucy, Tom lives in Spain, Madrid - Alice\n",
      "John lives in Spain, Madrid - John, Michael lives in Canada, Toronto - Michael, Anna lives in France, Berlin - Peter\n",
      "David lives in Japan, Tokyo - David, Sara lives in Brazil, Rio de Janeiro - Sara, Alice lives in Turkey, Madrid - Tom\n",
      "Bob lives in Germany, Berlin - Bob, Peter lives in USA, Washington - Peter, Lucy lives in Italy, Tokyo - Anna\n",
      "Anna lives in Italy, Rome - Anna, Tom lives in Spain, Madrid - Tom, David lives in Germany, Canberra - Michael\n",
      "Michael lives in Australia, Canberra - Michael, John lives in Japan, Tokyo - John, Sara lives in France, Berlin - David\n",
      "Alice lives in France, Paris - Alice, Bob lives in Germany, Berlin - Bob, John lives in Spain, Madrid - Peter\n",
      "Peter lives in Turkey, Ankara - Peter, Alice lives in Italy, Rome - Alice, Bob lives in Canada, Tokyo - Lucy\n",
      "Lucy lives in Spain, Madrid - Lucy, Michael lives in Canada, Toronto - Michael, Tom lives in Japan, Washington - John\n",
      "Anna lives in Japan, Tokyo - Anna, Sara lives in Brazil, Rio de Janeiro - Sara, David lives in Germany, Berlin - Bob\n",
      "John lives in Germany, Berlin - John, Peter lives in USA, Washington - Peter, Lucy lives in Spain, Madrid - Michael\n",
      "Tom lives in Italy, Rome - Tom, David lives in Spain, Madrid - David, Michael lives in Japan, Canberra - John\n",
      "Sara lives in Australia, Canberra - Sara, Alice lives in Japan, Tokyo - Alice, Bob lives in Turkey, Paris - David\n",
      "Peter lives in France, Paris - Peter, Lucy lives in Germany, Berlin - Lucy, Tom lives in Canada, Rome - Sara\n",
      "David lives in Turkey, Ankara - David, Michael lives in Italy, Rome - Michael, Anna lives in Germany, Berlin - Bob\n",
      "John lives in Canada, Toronto - John, Sara lives in Australia, Canberra - Sara, Alice lives in Turkey, Washington - Peter\n"
     ]
    },
    {
     "data": {
      "text/plain": [
       "(torch.Size([20, 29]), torch.Size([20, 28]))"
      ]
     },
     "execution_count": 6,
     "metadata": {},
     "output_type": "execute_result"
    }
   ],
   "source": [
    "from hybrid_retrieval_dataset4 import HybridRetrievalDataset\n",
    "\n",
    "hybrid_retrieval_dataset = HybridRetrievalDataset()\n",
    "\n",
    "# Get factual prompts\n",
    "clean_data, patch_data = hybrid_retrieval_dataset.get_dataset()\n",
    "\n",
    "clean_data.shape, patch_data.shape"
   ]
  },
  {
   "cell_type": "code",
   "execution_count": 9,
   "metadata": {},
   "outputs": [
    {
     "data": {
      "text/plain": [
       "(20, 20)"
      ]
     },
     "execution_count": 9,
     "metadata": {},
     "output_type": "execute_result"
    }
   ],
   "source": [
    "clean_prompts = [\n",
    "            \"Alice lives in France, Paris - Alice, John lives in Germany, Berlin - John, Peter lives in USA, Washington - Peter\",\n",
    "            \"Lucy lives in Turkey, Ankara - Lucy, Sara lives in Italy, Rome - Sara, Bob lives in Spain, Madrid - Bob\",\n",
    "            \"Tom lives in Canada, Toronto - Tom, Anna lives in Australia, Canberra - Anna, Michael lives in Japan, Tokyo - Michael\",\n",
    "            \"David lives in Brazil, Rio de Janeiro - David, Alice lives in France, Paris - Alice, Peter lives in Germany, Berlin - Peter\",\n",
    "            \"Sara lives in USA, Washington - Sara, Lucy lives in Turkey, Ankara - Lucy, Tom lives in Italy, Rome - Tom\",\n",
    "            \"John lives in Spain, Madrid - John, Michael lives in Canada, Toronto - Michael, Anna lives in Australia, Canberra - Anna\",\n",
    "            \"David lives in Japan, Tokyo - David, Sara lives in Brazil, Rio de Janeiro - Sara, Alice lives in France, Paris - Alice\",\n",
    "            \"Bob lives in Germany, Berlin - Bob, Peter lives in USA, Washington - Peter, Lucy lives in Turkey, Ankara - Lucy\",\n",
    "            \"Anna lives in Italy, Rome - Anna, Tom lives in Spain, Madrid - Tom, David lives in Canada, Toronto - David\",\n",
    "            \"Michael lives in Australia, Canberra - Michael, John lives in Japan, Tokyo - John, Sara lives in Brazil, Rio de Janeiro - Sara\",\n",
    "            \"Alice lives in France, Paris - Alice, Bob lives in Germany, Berlin - Bob, John lives in USA, Washington - John\",\n",
    "            \"Peter lives in Turkey, Ankara - Peter, Alice lives in Italy, Rome - Alice, Bob lives in France, Paris - Bob\",\n",
    "            \"Lucy lives in Spain, Madrid - Lucy, Michael lives in Canada, Toronto - Michael, Tom lives in Australia, Canberra - Tom\",\n",
    "            \"Anna lives in Japan, Tokyo - Anna, Sara lives in Brazil, Rio de Janeiro - Sara, David lives in France, Paris - David\",\n",
    "            \"John lives in Germany, Berlin - John, Peter lives in USA, Washington - Peter, Lucy lives in Turkey, Ankara - Lucy\",\n",
    "            \"Tom lives in Italy, Rome - Tom, David lives in Spain, Madrid - David, Michael lives in Canada, Toronto - Michael\",\n",
    "            \"Sara lives in Australia, Canberra - Sara, Alice lives in Japan, Tokyo - Alice, Bob lives in Brazil, Rio de Janeiro - Bob\",\n",
    "            \"Peter lives in France, Paris - Peter, Lucy lives in Germany, Berlin - Lucy, Tom lives in USA, Washington - Tom\",\n",
    "            \"David lives in Turkey, Ankara - David, Michael lives in Italy, Rome - Michael, Anna lives in Spain, Madrid - Anna\",\n",
    "            \"John lives in Canada, Toronto - John, Sara lives in Australia, Canberra - Sara, Alice lives in Japan, Tokyo - Alice\"\n",
    "        ]\n",
    "        \n",
    "# Counterfactual prompts\n",
    "corrupted_prompts = [\n",
    "    \"Alice lives in France, Paris - Alice, John lives in Germany, Berlin - John, Peter lives in Italy, Paris - Sara\",\n",
    "    \"Lucy lives in Turkey, Ankara - Lucy, Sara lives in Italy, Rome - Sara, Bob lives in Canada, Berlin - Alice\",\n",
    "    \"Tom lives in Canada, Toronto - Tom, Anna lives in Australia, Canberra - Anna, Michael lives in Brazil, Washington - Bob\",\n",
    "    \"David lives in Brazil, Rio de Janeiro - David, Alice lives in France, Paris - Alice, Peter lives in Japan, Rome - Lucy\",\n",
    "    \"Sara lives in USA, Washington - Sara, Lucy lives in Turkey, Ankara - Lucy, Tom lives in Spain, Madrid - Alice\",\n",
    "    \"John lives in Spain, Madrid - John, Michael lives in Canada, Toronto - Michael, Anna lives in France, Berlin - Peter\",\n",
    "    \"David lives in Japan, Tokyo - David, Sara lives in Brazil, Rio de Janeiro - Sara, Alice lives in Turkey, Madrid - Tom\",\n",
    "    \"Bob lives in Germany, Berlin - Bob, Peter lives in USA, Washington - Peter, Lucy lives in Italy, Tokyo - Anna\",\n",
    "    \"Anna lives in Italy, Rome - Anna, Tom lives in Spain, Madrid - Tom, David lives in Germany, Canberra - Michael\",\n",
    "    \"Michael lives in Australia, Canberra - Michael, John lives in Japan, Tokyo - John, Sara lives in France, Berlin - David\",\n",
    "    \"Alice lives in France, Paris - Alice, Bob lives in Germany, Berlin - Bob, John lives in Spain, Madrid - Peter\",\n",
    "    \"Peter lives in Turkey, Ankara - Peter, Alice lives in Italy, Rome - Alice, Bob lives in Canada, Tokyo - Lucy\",\n",
    "    \"Lucy lives in Spain, Madrid - Lucy, Michael lives in Canada, Toronto - Michael, Tom lives in Japan, Washington - John\",\n",
    "    \"Anna lives in Japan, Tokyo - Anna, Sara lives in Brazil, Rio de Janeiro - Sara, David lives in Germany, Berlin - Bob\",\n",
    "    \"John lives in Germany, Berlin - John, Peter lives in USA, Washington - Peter, Lucy lives in Spain, Madrid - Michael\",\n",
    "    \"Tom lives in Italy, Rome - Tom, David lives in Spain, Madrid - David, Michael lives in Japan, Canberra - John\",\n",
    "    \"Sara lives in Australia, Canberra - Sara, Alice lives in Japan, Tokyo - Alice, Bob lives in Turkey, Paris - David\",\n",
    "    \"Peter lives in France, Paris - Peter, Lucy lives in Germany, Berlin - Lucy, Tom lives in Canada, Rome - Sara\",\n",
    "    \"David lives in Turkey, Ankara - David, Michael lives in Italy, Rome - Michael, Anna lives in Germany, Berlin - Bob\",\n",
    "    \"John lives in Canada, Toronto - John, Sara lives in Australia, Canberra - Sara, Alice lives in Turkey, Washington - Peter\"\n",
    "]   \n",
    "\n",
    "len(clean_prompts), len(corrupted_prompts)"
   ]
  },
  {
   "cell_type": "code",
   "execution_count": 7,
   "metadata": {},
   "outputs": [
    {
     "name": "stdout",
     "output_type": "stream",
     "text": [
      "Loaded pretrained model gpt2 into HookedTransformer\n",
      "Moving model to device:  cuda\n"
     ]
    },
    {
     "name": "stderr",
     "output_type": "stream",
     "text": [
      "/home/iustin/Mech-Interp/Automatic-Circuit-Discovery/acdc/ioi/ioi_dataset.py:514: UserWarning: S2 index has been computed as the same for S and S2\n",
      "  warnings.warn(\"S2 index has been computed as the same for S and S2\")\n"
     ]
    }
   ],
   "source": [
    "from acdc.ioi.utils import (\n",
    "    get_all_ioi_things,\n",
    "    get_gpt2_small,\n",
    ")\n",
    "\n",
    "from acdc.ioi.ioi_dataset import IOIDataset\n",
    "num_examples = 100\n",
    "things = get_all_ioi_things( \n",
    "    num_examples=num_examples, device=device, metric_name=\"kl_div\"\n",
    ")\n",
    "\n",
    "ioi_dataset = IOIDataset(\n",
    "        prompt_type=\"ABBA\",\n",
    "        N=num_examples*2,\n",
    "        nb_templates=1,\n",
    "        seed = 0,\n",
    "    )\n",
    "\n",
    "abc_dataset = abc_dataset = (\n",
    "        ioi_dataset.gen_flipped_prompts((\"IO\", \"RAND\"), seed=1)\n",
    "        .gen_flipped_prompts((\"S\", \"RAND\"), seed=2)\n",
    "        .gen_flipped_prompts((\"S1\", \"RAND\"), seed=3)\n",
    "    )\n",
    "seq_len = ioi_dataset.toks.shape[1]\n",
    "assert seq_len == 16, f\"Well, I thought ABBA #1 was 16 not {seq_len} tokens long...\""
   ]
  },
  {
   "cell_type": "code",
   "execution_count": 8,
   "metadata": {},
   "outputs": [],
   "source": [
    "clean_examples = ioi_dataset.tokenized_prompts\n",
    "\n",
    "folder_path = \"acdc/ioi/\"\n",
    "if not os.path.exists(folder_path):\n",
    "    os.makedirs(folder_path)\n",
    "\n",
    "# Save the examples as a text file\n",
    "file_path = os.path.join(folder_path, \"clean_prompts.txt\")\n",
    "with open(file_path, \"w\") as file:\n",
    "    for example in clean_examples:\n",
    "        file.write(str(example) + \"\\n\")"
   ]
  },
  {
   "cell_type": "code",
   "execution_count": 9,
   "metadata": {},
   "outputs": [],
   "source": [
    "corrupted_examples = abc_dataset.tokenized_prompts\n",
    "\n",
    "folder_path = \"acdc/ioi/\"\n",
    "if not os.path.exists(folder_path):\n",
    "    os.makedirs(folder_path)\n",
    "\n",
    "# Save the examples as a text file\n",
    "file_path = os.path.join(folder_path, \"corrupted_prompts.txt\")\n",
    "with open(file_path, \"w\") as file:\n",
    "    for example in corrupted_examples:\n",
    "        file.write(str(example) + \"\\n\")"
   ]
  },
  {
   "cell_type": "code",
   "execution_count": 10,
   "metadata": {},
   "outputs": [],
   "source": [
    "default_data = ioi_dataset.toks.long()[:num_examples*2, : seq_len - 1].to(device)\n",
    "patch_data = abc_dataset.toks.long()[:num_examples*2, : seq_len - 1].to(device)\n",
    "labels = ioi_dataset.toks.long()[:num_examples*2, seq_len-1]\n",
    "wrong_labels = torch.as_tensor(ioi_dataset.s_tokenIDs[:num_examples*2], dtype=torch.long, device=device)\n",
    "\n",
    "assert torch.equal(labels, torch.as_tensor(ioi_dataset.io_tokenIDs, dtype=torch.long))\n",
    "labels = labels.to(device)\n",
    "\n",
    "validation_data = default_data[:num_examples, :]\n",
    "validation_patch_data = patch_data[:num_examples, :]\n",
    "validation_labels = labels[:num_examples]\n",
    "validation_wrong_labels = wrong_labels[:num_examples]\n",
    "\n",
    "test_data = default_data[num_examples:, :]\n",
    "test_patch_data = patch_data[num_examples:, :]\n",
    "test_labels = labels[num_examples:]\n",
    "test_wrong_labels = wrong_labels[num_examples:]"
   ]
  },
  {
   "cell_type": "code",
   "execution_count": 11,
   "metadata": {},
   "outputs": [
    {
     "data": {
      "text/plain": [
       "(torch.Size([100, 15]),\n",
       " torch.Size([100, 15]),\n",
       " torch.Size([100]),\n",
       " torch.Size([100]))"
      ]
     },
     "execution_count": 11,
     "metadata": {},
     "output_type": "execute_result"
    }
   ],
   "source": [
    "test_data.shape, test_patch_data.shape, test_labels.shape, test_wrong_labels.shape"
   ]
  },
  {
   "cell_type": "code",
   "execution_count": 12,
   "metadata": {},
   "outputs": [
    {
     "data": {
      "text/plain": [
       "(torch.Size([100, 15]),\n",
       " torch.Size([100, 15]),\n",
       " torch.Size([100]),\n",
       " torch.Size([100]))"
      ]
     },
     "execution_count": 12,
     "metadata": {},
     "output_type": "execute_result"
    },
    {
     "ename": "",
     "evalue": "",
     "output_type": "error",
     "traceback": [
      "\u001b[1;31mThe Kernel crashed while executing code in the current cell or a previous cell. \n",
      "\u001b[1;31mPlease review the code in the cell(s) to identify a possible cause of the failure. \n",
      "\u001b[1;31mClick <a href='https://aka.ms/vscodeJupyterKernelCrash'>here</a> for more info. \n",
      "\u001b[1;31mView Jupyter <a href='command:jupyter.viewOutput'>log</a> for further details."
     ]
    }
   ],
   "source": [
    "validation_data.shape, validation_patch_data.shape, validation_labels.shape, validation_wrong_labels.shape"
   ]
  }
 ],
 "metadata": {
  "kernelspec": {
   "display_name": "acdc",
   "language": "python",
   "name": "python3"
  },
  "language_info": {
   "codemirror_mode": {
    "name": "ipython",
    "version": 3
   },
   "file_extension": ".py",
   "mimetype": "text/x-python",
   "name": "python",
   "nbconvert_exporter": "python",
   "pygments_lexer": "ipython3",
   "version": "3.10.0"
  }
 },
 "nbformat": 4,
 "nbformat_minor": 2
}
