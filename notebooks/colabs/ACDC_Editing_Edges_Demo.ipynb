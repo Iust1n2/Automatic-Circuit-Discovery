{
 "cells": [
  {
   "cell_type": "markdown",
   "id": "53827ca9",
   "metadata": {
    "papermill": {
     "duration": 0.007788,
     "end_time": "2023-06-06T20:28:35.650778",
     "exception": false,
     "start_time": "2023-06-06T20:28:35.642990",
     "status": "completed"
    },
    "tags": []
   },
   "source": [
    "<h1>ACDC Editing Edges Demo</h1>\n",
    "\n",
    "<p>This notebook gives a high-level overview of the main abstractions used in the ACDC codebase.</p>\n",
    "\n",
    "<p>If you are interested in models that are >10x the size of GPT-2 small, this library currently may be too slow and we would recommend you look at the path patching implementations in `TransformerLens` (forthcoming)</p>\n",
    "\n",
    "<h3>Setup</h2>\n",
    "\n",
    "<p>Janky code to do different setup when run in a Colab notebook vs VSCode (adapted from e.g <a href=\"https://github.com/neelnanda-io/TransformerLens/blob/5c89b7583e73ce96db5e46ef86a14b15f303dde6/demos/Activation_Patching_in_TL_Demo.ipynb\">this notebook</a>)</p>"
   ]
  },
  {
   "cell_type": "code",
   "execution_count": 1,
   "id": "dfb3a5c8",
   "metadata": {
    "execution": {
     "iopub.execute_input": "2023-06-06T20:28:35.662406Z",
     "iopub.status.busy": "2023-06-06T20:28:35.661371Z",
     "iopub.status.idle": "2023-06-06T20:28:35.867977Z",
     "shell.execute_reply": "2023-06-06T20:28:35.867089Z"
    },
    "lines_to_next_cell": 2,
    "papermill": {
     "duration": 0.213971,
     "end_time": "2023-06-06T20:28:35.870524",
     "exception": false,
     "start_time": "2023-06-06T20:28:35.656553",
     "status": "completed"
    },
    "tags": []
   },
   "outputs": [
    {
     "name": "stdout",
     "output_type": "stream",
     "text": [
      "Running as a Jupyter notebook - intended for development only! (This is also used for automatically generating notebook outputs)\n"
     ]
    }
   ],
   "source": [
    "\n",
    "try:\n",
    "    import google.colab\n",
    "\n",
    "    IN_COLAB = True\n",
    "    print(\"Running as a Colab notebook\")\n",
    "\n",
    "    from IPython import get_ipython\n",
    "\n",
    "    ipython = get_ipython()\n",
    "    ipython.run_line_magic(\n",
    "        \"pip\",\n",
    "        \"install git+https://github.com/neelnanda-io/TransformerLens.git\", \n",
    "    )\n",
    "    ipython.run_line_magic(\n",
    "        \"pip\",\n",
    "        \"install git+https://github.com/ArthurConmy/Automatic-Circuit-Discovery.git\", # install ACDC\n",
    "    )\n",
    "    ipython.run_line_magic(\"pip\", \"install torchtyping cmapy\")\n",
    "\n",
    "except Exception as e:\n",
    "    IN_COLAB = False\n",
    "    print(\n",
    "        \"Running as a Jupyter notebook - intended for development only! (This is also used for automatically generating notebook outputs)\"\n",
    "    )\n",
    "\n",
    "    import numpy # crucial to not get cursed error\n",
    "    import plotly\n",
    "\n",
    "    plotly.io.renderers.default = \"colab\"  # added by Arthur so running as a .py notebook with #%% generates .ipynb notebooks that display in colab\n",
    "    # disable this option when developing rather than generating notebook outputs\n",
    "\n",
    "    from IPython import get_ipython\n",
    "\n",
    "    ipython = get_ipython()\n",
    "    if ipython is not None:\n",
    "        ipython.run_line_magic(\"load_ext\", \"autoreload\")  # type: ignore\n",
    "        ipython.run_line_magic(\"autoreload\", \"2\")  # type: ignore"
   ]
  },
  {
   "cell_type": "markdown",
   "id": "18caeada",
   "metadata": {
    "papermill": {
     "duration": 0.006027,
     "end_time": "2023-06-06T20:28:35.883970",
     "exception": false,
     "start_time": "2023-06-06T20:28:35.877943",
     "status": "completed"
    },
    "tags": []
   },
   "source": [
    "<h2>Imports etc</h2>"
   ]
  },
  {
   "cell_type": "code",
   "execution_count": 2,
   "id": "f4263eea",
   "metadata": {
    "execution": {
     "iopub.execute_input": "2023-06-06T20:28:35.891465Z",
     "iopub.status.busy": "2023-06-06T20:28:35.891160Z",
     "iopub.status.idle": "2023-06-06T20:28:38.405039Z",
     "shell.execute_reply": "2023-06-06T20:28:38.403975Z"
    },
    "papermill": {
     "duration": 2.520605,
     "end_time": "2023-06-06T20:28:38.407733",
     "exception": false,
     "start_time": "2023-06-06T20:28:35.887128",
     "status": "completed"
    },
    "tags": []
   },
   "outputs": [
    {
     "name": "stderr",
     "output_type": "stream",
     "text": [
      "WARNING:root:Are you sure you have an up-to-date TransformerLens installed? As of 6th June 2023, `select_compatible_kwargs` should be importable (this was added at the same time as the functionality needed for ACDC) but there is an error e=ImportError(\"cannot import name 'select_compatible_kwargs' from 'transformer_lens.utils' (/opt/conda/lib/python3.10/site-packages/transformer_lens/utils.py)\")\n"
     ]
    }
   ],
   "source": [
    "\n",
    "from transformer_lens.HookedTransformer import HookedTransformer\n",
    "from acdc.TLACDCExperiment import TLACDCExperiment\n",
    "from acdc.induction.utils import get_all_induction_things\n",
    "from acdc.acdc_utils import TorchIndex\n",
    "import torch\n",
    "import gc"
   ]
  },
  {
   "cell_type": "markdown",
   "id": "f415dc51",
   "metadata": {
    "papermill": {
     "duration": 0.004131,
     "end_time": "2023-06-06T20:28:38.424232",
     "exception": false,
     "start_time": "2023-06-06T20:28:38.420101",
     "status": "completed"
    },
    "tags": []
   },
   "source": [
    "<h2>Load in the model and data for the induction task"
   ]
  },
  {
   "cell_type": "code",
   "execution_count": 3,
   "id": "52e17e65",
   "metadata": {
    "execution": {
     "iopub.execute_input": "2023-06-06T20:28:38.435075Z",
     "iopub.status.busy": "2023-06-06T20:28:38.434451Z",
     "iopub.status.idle": "2023-06-06T20:28:43.844615Z",
     "shell.execute_reply": "2023-06-06T20:28:43.843674Z"
    },
    "papermill": {
     "duration": 5.418487,
     "end_time": "2023-06-06T20:28:43.847165",
     "exception": false,
     "start_time": "2023-06-06T20:28:38.428678",
     "status": "completed"
    },
    "tags": []
   },
   "outputs": [
    {
     "name": "stderr",
     "output_type": "stream",
     "text": [
      "Special tokens have been added in the vocabulary, make sure the associated word embeddings are fine-tuned or trained.\n"
     ]
    },
    {
     "name": "stdout",
     "output_type": "stream",
     "text": [
      "Loaded pretrained model redwood_attn_2l into HookedTransformer\n"
     ]
    }
   ],
   "source": [
    "num_examples = 40\n",
    "seq_len = 300\n",
    "\n",
    "# load in a tl_model and grab some data\n",
    "all_induction_things = get_all_induction_things(\n",
    "    num_examples=num_examples,\n",
    "    seq_len=seq_len,\n",
    "    device=\"cuda\",\n",
    ")\n",
    "\n",
    "tl_model, toks_int_values, toks_int_values_other, metric, mask_rep = (\n",
    "    all_induction_things.tl_model,\n",
    "    all_induction_things.validation_data,\n",
    "    all_induction_things.validation_patch_data,\n",
    "    all_induction_things.validation_metric,\n",
    "    all_induction_things.validation_mask,\n",
    ")\n",
    "\n",
    "# You should read the get_model function from that file to see what the tl_model is : )"
   ]
  },
  {
   "cell_type": "markdown",
   "id": "42488dea",
   "metadata": {
    "papermill": {
     "duration": 0.004624,
     "end_time": "2023-06-06T20:28:43.859567",
     "exception": false,
     "start_time": "2023-06-06T20:28:43.854943",
     "status": "completed"
    },
    "tags": []
   },
   "source": [
    "<p>Ensure we stay under mem limit on small machines</p>"
   ]
  },
  {
   "cell_type": "code",
   "execution_count": 4,
   "id": "d6d2f909",
   "metadata": {
    "execution": {
     "iopub.execute_input": "2023-06-06T20:28:43.867373Z",
     "iopub.status.busy": "2023-06-06T20:28:43.867203Z",
     "iopub.status.idle": "2023-06-06T20:28:44.122074Z",
     "shell.execute_reply": "2023-06-06T20:28:44.120975Z"
    },
    "papermill": {
     "duration": 0.261566,
     "end_time": "2023-06-06T20:28:44.124704",
     "exception": false,
     "start_time": "2023-06-06T20:28:43.863138",
     "status": "completed"
    },
    "tags": []
   },
   "outputs": [],
   "source": [
    "gc.collect()\n",
    "torch.cuda.empty_cache()"
   ]
  },
  {
   "cell_type": "markdown",
   "id": "3ed2c946",
   "metadata": {
    "papermill": {
     "duration": 0.003292,
     "end_time": "2023-06-06T20:28:44.135819",
     "exception": false,
     "start_time": "2023-06-06T20:28:44.132527",
     "status": "completed"
    },
    "tags": []
   },
   "source": [
    "<p>Let's see an example from the dataset.</p>\n",
    "<p> `|` separates tokens </p>"
   ]
  },
  {
   "cell_type": "code",
   "execution_count": 5,
   "id": "2307adde",
   "metadata": {
    "execution": {
     "iopub.execute_input": "2023-06-06T20:28:44.143700Z",
     "iopub.status.busy": "2023-06-06T20:28:44.143459Z",
     "iopub.status.idle": "2023-06-06T20:28:44.182250Z",
     "shell.execute_reply": "2023-06-06T20:28:44.181324Z"
    },
    "papermill": {
     "duration": 0.045357,
     "end_time": "2023-06-06T20:28:44.184547",
     "exception": false,
     "start_time": "2023-06-06T20:28:44.139190",
     "status": "completed"
    },
    "tags": []
   },
   "outputs": [
    {
     "name": "stdout",
     "output_type": "stream",
     "text": [
      "[END]| State|ful| comput|ations| in| F|#| with| update| mon|ads|\n",
      "|\n",
      "|Most| discussions| about| mon|ads|,| even| in| F|#|,| start| by| looking| at| the| well|-|known| standard| mon|ads\n"
     ]
    }
   ],
   "source": [
    "EXAMPLE_NO = 33\n",
    "EXAMPLE_LENGTH = 36\n",
    "\n",
    "print(\n",
    "    \"|\".join(tl_model.to_str_tokens(toks_int_values[EXAMPLE_NO, :EXAMPLE_LENGTH])),\n",
    ")"
   ]
  },
  {
   "cell_type": "markdown",
   "id": "a64cd909",
   "metadata": {
    "papermill": {
     "duration": 0.00341,
     "end_time": "2023-06-06T20:28:44.195231",
     "exception": false,
     "start_time": "2023-06-06T20:28:44.191821",
     "status": "completed"
    },
    "tags": []
   },
   "source": [
    "<p>This dataset has several examples of induction! F -> #, mon -> ads</p>\n",
    "<p>The `mask_rep` mask is a boolean mask of shape `(num_examples, seq_len)` that indicates where induction is present in the dataset</p>\n",
    "<p> Let's see "
   ]
  },
  {
   "cell_type": "code",
   "execution_count": 6,
   "id": "e8e78a30",
   "metadata": {
    "execution": {
     "iopub.execute_input": "2023-06-06T20:28:44.203103Z",
     "iopub.status.busy": "2023-06-06T20:28:44.202817Z",
     "iopub.status.idle": "2023-06-06T20:28:44.232001Z",
     "shell.execute_reply": "2023-06-06T20:28:44.231179Z"
    },
    "lines_to_next_cell": 1,
    "papermill": {
     "duration": 0.035435,
     "end_time": "2023-06-06T20:28:44.234070",
     "exception": false,
     "start_time": "2023-06-06T20:28:44.198635",
     "status": "completed"
    },
    "tags": []
   },
   "outputs": [
    {
     "name": "stdout",
     "output_type": "stream",
     "text": [
      "At position 17 there is induction\n",
      "[' mon']\n",
      "At position 22 there is induction\n",
      "[' F']\n",
      "At position 34 there is induction\n",
      "[' mon']\n"
     ]
    }
   ],
   "source": [
    "for i in range(EXAMPLE_LENGTH):\n",
    "    if mask_rep[EXAMPLE_NO, i]:\n",
    "        print(f\"At position {i} there is induction\")\n",
    "        print(tl_model.to_str_tokens(toks_int_values[EXAMPLE_NO:EXAMPLE_NO+1, i : i + 1]))"
   ]
  },
  {
   "cell_type": "markdown",
   "id": "1cda9629",
   "metadata": {
    "papermill": {
     "duration": 0.003536,
     "end_time": "2023-06-06T20:28:44.243909",
     "exception": false,
     "start_time": "2023-06-06T20:28:44.240373",
     "status": "completed"
    },
    "tags": []
   },
   "source": [
    "<p>Let's get the initial loss on the induction examples</p>"
   ]
  },
  {
   "cell_type": "code",
   "execution_count": 7,
   "id": "f174a204",
   "metadata": {
    "execution": {
     "iopub.execute_input": "2023-06-06T20:28:44.252638Z",
     "iopub.status.busy": "2023-06-06T20:28:44.251911Z",
     "iopub.status.idle": "2023-06-06T20:28:44.325675Z",
     "shell.execute_reply": "2023-06-06T20:28:44.324676Z"
    },
    "papermill": {
     "duration": 0.080564,
     "end_time": "2023-06-06T20:28:44.327905",
     "exception": false,
     "start_time": "2023-06-06T20:28:44.247341",
     "status": "completed"
    },
    "tags": []
   },
   "outputs": [
    {
     "name": "stdout",
     "output_type": "stream",
     "text": [
      "Loss: 0.8858892917633057\n"
     ]
    }
   ],
   "source": [
    "def get_loss(model, data, mask):\n",
    "    loss = model(\n",
    "        data,\n",
    "        return_type=\"loss\",\n",
    "        loss_per_token=True,\n",
    "    )\n",
    "    return (loss * mask[:, :-1].int()).sum() / mask[:, :-1].int().sum()\n",
    "\n",
    "\n",
    "print(f\"Loss: {get_loss(tl_model, toks_int_values, mask_rep)}\")"
   ]
  },
  {
   "cell_type": "markdown",
   "id": "a76ea125",
   "metadata": {
    "papermill": {
     "duration": 0.003528,
     "end_time": "2023-06-06T20:28:44.338245",
     "exception": false,
     "start_time": "2023-06-06T20:28:44.334717",
     "status": "completed"
    },
    "tags": []
   },
   "source": [
    "<p>We will now wrap ACDC things inside an `experiment`for further experiments</p>\n",
    "<p>For more advanced usage of the `TLACDCExperiment` object (the main object in this codebase), see the README for links to the `main.py` and its demos</p>"
   ]
  },
  {
   "cell_type": "code",
   "execution_count": 8,
   "id": "5a0cff52",
   "metadata": {
    "execution": {
     "iopub.execute_input": "2023-06-06T20:28:44.347164Z",
     "iopub.status.busy": "2023-06-06T20:28:44.346691Z",
     "iopub.status.idle": "2023-06-06T20:29:21.479998Z",
     "shell.execute_reply": "2023-06-06T20:29:21.478934Z"
    },
    "papermill": {
     "duration": 37.141037,
     "end_time": "2023-06-06T20:29:21.483024",
     "exception": false,
     "start_time": "2023-06-06T20:28:44.341987",
     "status": "completed"
    },
    "tags": []
   },
   "outputs": [
    {
     "name": "stderr",
     "output_type": "stream",
     "text": [
      "WARNING:root:cache_all is deprecated and will eventually be removed, use add_caching_hooks or run_with_cache\n",
      "WARNING:root:cache_all is deprecated and will eventually be removed, use add_caching_hooks or run_with_cache\n"
     ]
    },
    {
     "name": "stdout",
     "output_type": "stream",
     "text": [
      "ln_final.hook_normalized\n",
      "ln_final.hook_scale\n",
      "blocks.1.hook_resid_post\n",
      "blocks.1.hook_attn_out\n",
      "blocks.1.attn.hook_result\n",
      "blocks.1.attn.hook_z\n",
      "blocks.1.attn.hook_pattern\n",
      "blocks.1.attn.hook_attn_scores\n",
      "blocks.1.attn.hook_v\n",
      "blocks.1.attn.hook_k\n",
      "blocks.1.attn.hook_q\n",
      "blocks.1.ln1.hook_normalized\n",
      "blocks.1.ln1.hook_scale\n",
      "blocks.1.hook_v_input\n",
      "blocks.1.hook_k_input\n",
      "blocks.1.hook_q_input\n",
      "blocks.1.hook_resid_pre\n",
      "blocks.0.hook_resid_post\n",
      "blocks.0.hook_attn_out\n",
      "blocks.0.attn.hook_result\n",
      "blocks.0.attn.hook_z\n",
      "blocks.0.attn.hook_pattern\n",
      "blocks.0.attn.hook_attn_scores\n",
      "blocks.0.attn.hook_v\n",
      "blocks.0.attn.hook_k\n",
      "blocks.0.attn.hook_q\n",
      "blocks.0.ln1.hook_normalized\n",
      "blocks.0.ln1.hook_scale\n",
      "blocks.0.hook_v_input\n",
      "blocks.0.hook_k_input\n",
      "blocks.0.hook_q_input\n",
      "blocks.0.hook_resid_pre\n",
      "hook_pos_embed\n",
      "hook_embed\n",
      "self.current_node=TLACDCInterpNode(blocks.1.hook_resid_post, [:])\n"
     ]
    }
   ],
   "source": [
    "experiment = TLACDCExperiment(\n",
    "    model=tl_model,\n",
    "    threshold=0.0,\n",
    "    ds=toks_int_values,\n",
    "    ref_ds=None,  # This argument is the corrupted dataset from the ACDC paper. We're going to do zero ablation here so we omit this\n",
    "    metric=metric,\n",
    "    zero_ablation=True,\n",
    "    hook_verbose=False,\n",
    ")"
   ]
  },
  {
   "cell_type": "markdown",
   "id": "ac9135b3",
   "metadata": {
    "papermill": {
     "duration": 0.005497,
     "end_time": "2023-06-06T20:29:21.496297",
     "exception": false,
     "start_time": "2023-06-06T20:29:21.490800",
     "status": "completed"
    },
    "tags": []
   },
   "source": [
    "\n",
    "<p>Usually, the `TLACDCExperiment` efficiently add hooks to the model in order to do ACDC runs fast.</p>\n",
    "<p>For this tutorial, we'll add <b>ALL</b> the hooks so you can edit connections in the model as easily as possible.</p>"
   ]
  },
  {
   "cell_type": "code",
   "execution_count": 9,
   "id": "1922d81f",
   "metadata": {
    "execution": {
     "iopub.execute_input": "2023-06-06T20:29:21.514002Z",
     "iopub.status.busy": "2023-06-06T20:29:21.513642Z",
     "iopub.status.idle": "2023-06-06T20:29:21.556760Z",
     "shell.execute_reply": "2023-06-06T20:29:21.555881Z"
    },
    "papermill": {
     "duration": 0.054031,
     "end_time": "2023-06-06T20:29:21.558886",
     "exception": false,
     "start_time": "2023-06-06T20:29:21.504855",
     "status": "completed"
    },
    "tags": []
   },
   "outputs": [],
   "source": [
    "experiment.model.reset_hooks()\n",
    "experiment.setup_model_hooks(\n",
    "    add_sender_hooks=True,\n",
    "    add_receiver_hooks=True,\n",
    "    doing_acdc_runs=False,\n",
    ")"
   ]
  },
  {
   "cell_type": "markdown",
   "id": "5c819aa7",
   "metadata": {
    "papermill": {
     "duration": 0.006206,
     "end_time": "2023-06-06T20:29:21.573563",
     "exception": false,
     "start_time": "2023-06-06T20:29:21.567357",
     "status": "completed"
    },
    "tags": []
   },
   "source": [
    "Let's take a look at the edges"
   ]
  },
  {
   "cell_type": "code",
   "execution_count": 10,
   "id": "dd0ba8ba",
   "metadata": {
    "execution": {
     "iopub.execute_input": "2023-06-06T20:29:21.583054Z",
     "iopub.status.busy": "2023-06-06T20:29:21.582283Z",
     "iopub.status.idle": "2023-06-06T20:29:21.613876Z",
     "shell.execute_reply": "2023-06-06T20:29:21.613022Z"
    },
    "lines_to_next_cell": 1,
    "papermill": {
     "duration": 0.038811,
     "end_time": "2023-06-06T20:29:21.616141",
     "exception": false,
     "start_time": "2023-06-06T20:29:21.577330",
     "status": "completed"
    },
    "tags": []
   },
   "outputs": [],
   "source": [
    "for edge_indices, edge in experiment.corr.all_edges().items():\n",
    "    # here's what's inside the edge\n",
    "    receiver_name, receiver_index, sender_name, sender_index = edge_indices\n",
    "\n",
    "    # for now, all edges should be present\n",
    "    assert edge.present, edge_indices"
   ]
  },
  {
   "cell_type": "markdown",
   "id": "71930e4d",
   "metadata": {
    "papermill": {
     "duration": 0.003794,
     "end_time": "2023-06-06T20:29:21.627808",
     "exception": false,
     "start_time": "2023-06-06T20:29:21.624014",
     "status": "completed"
    },
    "tags": []
   },
   "source": [
    "<p>Let's make a function that's able to turn off all the connections from the nodes to the output, except the induction head (1.5 and 1.6)</p>\n",
    "<p>(we'll later turn ON all connections EXCEPT the induction heads)</p>"
   ]
  },
  {
   "cell_type": "code",
   "execution_count": 11,
   "id": "aa096f11",
   "metadata": {
    "execution": {
     "iopub.execute_input": "2023-06-06T20:29:21.636271Z",
     "iopub.status.busy": "2023-06-06T20:29:21.636114Z",
     "iopub.status.idle": "2023-06-06T20:29:22.286816Z",
     "shell.execute_reply": "2023-06-06T20:29:22.285848Z"
    },
    "papermill": {
     "duration": 0.657549,
     "end_time": "2023-06-06T20:29:22.289214",
     "exception": false,
     "start_time": "2023-06-06T20:29:21.631665",
     "status": "completed"
    },
    "tags": []
   },
   "outputs": [
    {
     "name": "stdout",
     "output_type": "stream",
     "text": [
      "Adding edge from blocks.1.attn.hook_result [:, :, 7] to blocks.1.hook_resid_post [:]\n",
      "Removing edge from blocks.1.attn.hook_result [:, :, 6] to blocks.1.hook_resid_post [:]\n",
      "Removing edge from blocks.1.attn.hook_result [:, :, 5] to blocks.1.hook_resid_post [:]\n",
      "Adding edge from blocks.1.attn.hook_result [:, :, 4] to blocks.1.hook_resid_post [:]\n",
      "Adding edge from blocks.1.attn.hook_result [:, :, 3] to blocks.1.hook_resid_post [:]\n",
      "Adding edge from blocks.1.attn.hook_result [:, :, 2] to blocks.1.hook_resid_post [:]\n",
      "Adding edge from blocks.1.attn.hook_result [:, :, 1] to blocks.1.hook_resid_post [:]\n",
      "Adding edge from blocks.1.attn.hook_result [:, :, 0] to blocks.1.hook_resid_post [:]\n",
      "Adding edge from blocks.0.attn.hook_result [:, :, 7] to blocks.1.hook_resid_post [:]\n",
      "Adding edge from blocks.0.attn.hook_result [:, :, 6] to blocks.1.hook_resid_post [:]\n",
      "Adding edge from blocks.0.attn.hook_result [:, :, 5] to blocks.1.hook_resid_post [:]\n",
      "Adding edge from blocks.0.attn.hook_result [:, :, 4] to blocks.1.hook_resid_post [:]\n",
      "Adding edge from blocks.0.attn.hook_result [:, :, 3] to blocks.1.hook_resid_post [:]\n",
      "Adding edge from blocks.0.attn.hook_result [:, :, 2] to blocks.1.hook_resid_post [:]\n",
      "Adding edge from blocks.0.attn.hook_result [:, :, 1] to blocks.1.hook_resid_post [:]\n",
      "Adding edge from blocks.0.attn.hook_result [:, :, 0] to blocks.1.hook_resid_post [:]\n",
      "Adding edge from blocks.0.hook_resid_pre [:] to blocks.1.hook_resid_post [:]\n",
      "Loss with only the induction head direct connections: 1.779373049736023\n"
     ]
    }
   ],
   "source": [
    "def change_direct_output_connections(exp, invert=False):\n",
    "    residual_stream_end_name = \"blocks.1.hook_resid_post\"\n",
    "    residual_stream_end_index = TorchIndex([None])\n",
    "    induction_heads = [\n",
    "        (\"blocks.1.attn.hook_result\", TorchIndex([None, None, 5])),\n",
    "        (\"blocks.1.attn.hook_result\", TorchIndex([None, None, 6])),\n",
    "    ]\n",
    "\n",
    "    inputs_to_residual_stream_end = exp.corr.edges[residual_stream_end_name][\n",
    "        residual_stream_end_index\n",
    "    ]\n",
    "    for sender_name in inputs_to_residual_stream_end:\n",
    "        for sender_index in inputs_to_residual_stream_end[sender_name]:\n",
    "            edge = inputs_to_residual_stream_end[sender_name][sender_index]\n",
    "            is_induction_head = (sender_name, sender_index) in induction_heads\n",
    "\n",
    "            if is_induction_head:\n",
    "                edge.present = not invert\n",
    "\n",
    "            else:\n",
    "                edge.present = invert\n",
    "\n",
    "            print(\n",
    "                f\"{'Adding' if (invert == is_induction_head) else 'Removing'} edge from {sender_name} {sender_index} to {residual_stream_end_name} {residual_stream_end_index}\"\n",
    "            )\n",
    "\n",
    "\n",
    "change_direct_output_connections(experiment)\n",
    "print(\n",
    "    \"Loss with only the induction head direct connections:\",\n",
    "    get_loss(experiment.model, toks_int_values, mask_rep).item(),\n",
    ")"
   ]
  },
  {
   "cell_type": "markdown",
   "id": "0a3012bb",
   "metadata": {
    "papermill": {
     "duration": 0.005448,
     "end_time": "2023-06-06T20:29:22.302086",
     "exception": false,
     "start_time": "2023-06-06T20:29:22.296638",
     "status": "completed"
    },
    "tags": []
   },
   "source": [
    "<p>Let's turn ON all the connections EXCEPT the induction heads</p>"
   ]
  },
  {
   "cell_type": "code",
   "execution_count": 13,
   "id": "28f16d93",
   "metadata": {
    "execution": {
     "iopub.execute_input": "2023-06-06T20:29:22.314736Z",
     "iopub.status.busy": "2023-06-06T20:29:22.314360Z",
     "iopub.status.idle": "2023-06-06T20:29:22.966638Z",
     "shell.execute_reply": "2023-06-06T20:29:22.965667Z"
    },
    "papermill": {
     "duration": 0.661638,
     "end_time": "2023-06-06T20:29:22.969063",
     "exception": false,
     "start_time": "2023-06-06T20:29:22.307425",
     "status": "completed"
    },
    "tags": []
   },
   "outputs": [
    {
     "name": "stdout",
     "output_type": "stream",
     "text": [
      "Removing edge from blocks.1.attn.hook_result [:, :, 7] to blocks.1.hook_resid_post [:]\n",
      "Adding edge from blocks.1.attn.hook_result [:, :, 6] to blocks.1.hook_resid_post [:]\n",
      "Adding edge from blocks.1.attn.hook_result [:, :, 5] to blocks.1.hook_resid_post [:]\n",
      "Removing edge from blocks.1.attn.hook_result [:, :, 4] to blocks.1.hook_resid_post [:]\n",
      "Removing edge from blocks.1.attn.hook_result [:, :, 3] to blocks.1.hook_resid_post [:]\n",
      "Removing edge from blocks.1.attn.hook_result [:, :, 2] to blocks.1.hook_resid_post [:]\n",
      "Removing edge from blocks.1.attn.hook_result [:, :, 1] to blocks.1.hook_resid_post [:]\n",
      "Removing edge from blocks.1.attn.hook_result [:, :, 0] to blocks.1.hook_resid_post [:]\n",
      "Removing edge from blocks.0.attn.hook_result [:, :, 7] to blocks.1.hook_resid_post [:]\n",
      "Removing edge from blocks.0.attn.hook_result [:, :, 6] to blocks.1.hook_resid_post [:]\n",
      "Removing edge from blocks.0.attn.hook_result [:, :, 5] to blocks.1.hook_resid_post [:]\n",
      "Removing edge from blocks.0.attn.hook_result [:, :, 4] to blocks.1.hook_resid_post [:]\n",
      "Removing edge from blocks.0.attn.hook_result [:, :, 3] to blocks.1.hook_resid_post [:]\n",
      "Removing edge from blocks.0.attn.hook_result [:, :, 2] to blocks.1.hook_resid_post [:]\n",
      "Removing edge from blocks.0.attn.hook_result [:, :, 1] to blocks.1.hook_resid_post [:]\n",
      "Removing edge from blocks.0.attn.hook_result [:, :, 0] to blocks.1.hook_resid_post [:]\n",
      "Removing edge from blocks.0.hook_resid_pre [:] to blocks.1.hook_resid_post [:]\n",
      "Loss without the induction head direct connections: 4.3982253074646\n"
     ]
    }
   ],
   "source": [
    "change_direct_output_connections(experiment, invert=True)\n",
    "print(\n",
    "    \"Loss without the induction head direct connections:\",\n",
    "    get_loss(experiment.model, toks_int_values, mask_rep).item(),\n",
    ")"
   ]
  },
  {
   "cell_type": "markdown",
   "id": "509b8019",
   "metadata": {
    "papermill": {
     "duration": 0.005463,
     "end_time": "2023-06-06T20:29:22.982344",
     "exception": false,
     "start_time": "2023-06-06T20:29:22.976881",
     "status": "completed"
    },
    "tags": []
   },
   "source": [
    "<p>That's much larger!</p>\n",
    "<p>See acdc/main.py for how to run ACDC experiments; try `python acdc/main.py --help` or check the README for the links to this file</p>"
   ]
  }
 ],
 "metadata": {
  "jupytext": {
   "cell_metadata_filter": "-all",
   "main_language": "python",
   "notebook_metadata_filter": "-all"
  },
  "kernelspec": {
   "display_name": "Python 3.10.11 ('base')",
   "language": "python",
   "name": "python3"
  },
  "language_info": {
   "codemirror_mode": {
    "name": "ipython",
    "version": 3
   },
   "file_extension": ".py",
   "mimetype": "text/x-python",
   "name": "python",
   "nbconvert_exporter": "python",
   "pygments_lexer": "ipython3",
   "version": "3.10.11"
  },
  "papermill": {
   "default_parameters": {},
   "duration": 50.182924,
   "end_time": "2023-06-06T20:29:24.509963",
   "environment_variables": {},
   "exception": null,
   "input_path": "notebooks/_converted/editing_edges.ipynb",
   "output_path": "notebooks/colabs/ACDC_Editing_Edges_Demo.ipynb",
   "parameters": {},
   "start_time": "2023-06-06T20:28:34.327039",
   "version": "2.4.0"
  },
  "vscode": {
   "interpreter": {
    "hash": "d4d1e4263499bec80672ea0156c357c1ee493ec2b1c70f0acce89fc37c4a6abe"
   }
  }
 },
 "nbformat": 4,
 "nbformat_minor": 5
}
