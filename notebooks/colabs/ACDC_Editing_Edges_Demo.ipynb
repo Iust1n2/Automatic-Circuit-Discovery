{
 "cells": [
  {
   "cell_type": "markdown",
   "id": "65fdc191",
   "metadata": {
    "papermill": {
     "duration": 0.011595,
     "end_time": "2023-06-08T20:07:21.713239",
     "exception": false,
     "start_time": "2023-06-08T20:07:21.701644",
     "status": "completed"
    },
    "tags": []
   },
   "source": [
    "<h1>ACDC Editing Edges Demo</h1>\n",
    "\n",
    "<p>This notebook gives a high-level overview of the main abstractions used in the ACDC codebase.</p>\n",
    "\n",
    "<p>If you are interested in models that are >10x the size of GPT-2 small, this library currently may be too slow and we would recommend you look at the path patching implementations in `TransformerLens` (forthcoming)</p>\n",
    "\n",
    "<h3>Setup</h2>\n",
    "\n",
    "<p>Janky code to do different setup when run in a Colab notebook vs VSCode (adapted from e.g <a href=\"https://github.com/neelnanda-io/TransformerLens/blob/5c89b7583e73ce96db5e46ef86a14b15f303dde6/demos/Activation_Patching_in_TL_Demo.ipynb\">this notebook</a>)</p> . You can ignore warnings that \"packages were previously imported in this runtime\""
   ]
  },
  {
   "cell_type": "code",
   "execution_count": 1,
   "id": "a0d7eb7d",
   "metadata": {
    "execution": {
     "iopub.execute_input": "2023-06-08T20:07:21.726513Z",
     "iopub.status.busy": "2023-06-08T20:07:21.725411Z",
     "iopub.status.idle": "2023-06-08T20:07:22.014645Z",
     "shell.execute_reply": "2023-06-08T20:07:22.013961Z"
    },
    "lines_to_next_cell": 2,
    "papermill": {
     "duration": 0.299659,
     "end_time": "2023-06-08T20:07:22.018157",
     "exception": false,
     "start_time": "2023-06-08T20:07:21.718498",
     "status": "completed"
    },
    "tags": []
   },
   "outputs": [
    {
     "name": "stdout",
     "output_type": "stream",
     "text": [
      "Running as a Jupyter notebook - intended for development only! (This is also used for automatically generating notebook outputs)\n"
     ]
    }
   ],
   "source": [
    "try:\n",
    "    import google.colab\n",
    "\n",
    "    IN_COLAB = True\n",
    "    print(\"Running as a Colab notebook. WARNING: you should switch to a High-RAM A100 (you can buy $10 of credits for this)\")\n",
    "\n",
    "    import subprocess # to install graphviz dependencies\n",
    "    command = ['apt-get', 'install', 'graphviz-dev']\n",
    "    subprocess.run(command, check=True)\n",
    "\n",
    "    import os # make images folder\n",
    "    os.mkdir(\"ims/\")\n",
    "\n",
    "    from IPython import get_ipython\n",
    "    ipython = get_ipython()\n",
    "\n",
    "    ipython.run_line_magic( # install ACDC\n",
    "        \"pip\",\n",
    "        \"install git+https://github.com/ArthurConmy/Automatic-Circuit-Discovery.git@3aebc1c59\",\n",
    "    )\n",
    "\n",
    "except Exception as e:\n",
    "    IN_COLAB = False\n",
    "    print(\n",
    "        \"Running as a Jupyter notebook - intended for development only! (This is also used for automatically generating notebook outputs)\"\n",
    "    )\n",
    "\n",
    "    import numpy # crucial to not get cursed error\n",
    "    import plotly\n",
    "\n",
    "    plotly.io.renderers.default = \"colab\"  # added by Arthur so running as a .py notebook with #%% generates .ipynb notebooks that display in colab\n",
    "    # disable this option when developing rather than generating notebook outputs\n",
    "\n",
    "    from IPython import get_ipython\n",
    "\n",
    "    ipython = get_ipython()\n",
    "    if ipython is not None:\n",
    "        ipython.run_line_magic(\"load_ext\", \"autoreload\")  # type: ignore\n",
    "        ipython.run_line_magic(\"autoreload\", \"2\")  # type: ignore"
   ]
  },
  {
   "cell_type": "markdown",
   "id": "2226a2cf",
   "metadata": {
    "papermill": {
     "duration": 0.006597,
     "end_time": "2023-06-08T20:07:22.037406",
     "exception": false,
     "start_time": "2023-06-08T20:07:22.030809",
     "status": "completed"
    },
    "tags": []
   },
   "source": [
    "<h2>Imports etc</h2>"
   ]
  },
  {
   "cell_type": "code",
   "execution_count": 2,
   "id": "8491d114",
   "metadata": {
    "execution": {
     "iopub.execute_input": "2023-06-08T20:07:22.052318Z",
     "iopub.status.busy": "2023-06-08T20:07:22.051915Z",
     "iopub.status.idle": "2023-06-08T20:07:26.871737Z",
     "shell.execute_reply": "2023-06-08T20:07:26.870748Z"
    },
    "papermill": {
     "duration": 4.831724,
     "end_time": "2023-06-08T20:07:26.875825",
     "exception": false,
     "start_time": "2023-06-08T20:07:22.044101",
     "status": "completed"
    },
    "tags": []
   },
   "outputs": [],
   "source": [
    "\n",
    "from transformer_lens.HookedTransformer import HookedTransformer\n",
    "from acdc.TLACDCExperiment import TLACDCExperiment\n",
    "from acdc.induction.utils import get_all_induction_things\n",
    "from acdc.acdc_utils import TorchIndex\n",
    "import torch\n",
    "import gc"
   ]
  },
  {
   "cell_type": "markdown",
   "id": "979cd580",
   "metadata": {
    "papermill": {
     "duration": 0.006717,
     "end_time": "2023-06-08T20:07:26.919088",
     "exception": false,
     "start_time": "2023-06-08T20:07:26.912371",
     "status": "completed"
    },
    "tags": []
   },
   "source": [
    "<h2>Load in the model and data for the induction task"
   ]
  },
  {
   "cell_type": "code",
   "execution_count": 3,
   "id": "fdafce13",
   "metadata": {
    "execution": {
     "iopub.execute_input": "2023-06-08T20:07:26.934980Z",
     "iopub.status.busy": "2023-06-08T20:07:26.934267Z",
     "iopub.status.idle": "2023-06-08T20:07:28.532980Z",
     "shell.execute_reply": "2023-06-08T20:07:28.532014Z"
    },
    "papermill": {
     "duration": 1.610975,
     "end_time": "2023-06-08T20:07:28.536820",
     "exception": false,
     "start_time": "2023-06-08T20:07:26.925845",
     "status": "completed"
    },
    "tags": []
   },
   "outputs": [
    {
     "name": "stderr",
     "output_type": "stream",
     "text": [
      "Special tokens have been added in the vocabulary, make sure the associated word embeddings are fine-tuned or trained.\n"
     ]
    },
    {
     "name": "stdout",
     "output_type": "stream",
     "text": [
      "Loaded pretrained model redwood_attn_2l into HookedTransformer\n"
     ]
    }
   ],
   "source": [
    "DEVICE = \"cuda\" if torch.cuda.is_available() else \"cpu\"\n",
    "num_examples = 40\n",
    "seq_len = 50\n",
    "\n",
    "# load in a tl_model and grab some data\n",
    "all_induction_things = get_all_induction_things(\n",
    "    num_examples=num_examples,\n",
    "    seq_len=seq_len,\n",
    "    device=DEVICE,\n",
    ")\n",
    "\n",
    "tl_model, toks_int_values, toks_int_values_other, metric, mask_rep = (\n",
    "    all_induction_things.tl_model,\n",
    "    all_induction_things.validation_data,\n",
    "    all_induction_things.validation_patch_data,\n",
    "    all_induction_things.validation_metric,\n",
    "    all_induction_things.validation_mask,\n",
    ")\n",
    "\n",
    "# You should read the get_model function from that file to see what the tl_model is : )"
   ]
  },
  {
   "cell_type": "markdown",
   "id": "e171f1d1",
   "metadata": {
    "papermill": {
     "duration": 0.007207,
     "end_time": "2023-06-08T20:07:28.553462",
     "exception": false,
     "start_time": "2023-06-08T20:07:28.546255",
     "status": "completed"
    },
    "tags": []
   },
   "source": [
    "<p>Ensure we stay under mem limit on small machines</p>"
   ]
  },
  {
   "cell_type": "code",
   "execution_count": 4,
   "id": "d29e0a78",
   "metadata": {
    "execution": {
     "iopub.execute_input": "2023-06-08T20:07:28.569132Z",
     "iopub.status.busy": "2023-06-08T20:07:28.568765Z",
     "iopub.status.idle": "2023-06-08T20:07:28.750870Z",
     "shell.execute_reply": "2023-06-08T20:07:28.749730Z"
    },
    "papermill": {
     "duration": 0.194127,
     "end_time": "2023-06-08T20:07:28.754705",
     "exception": false,
     "start_time": "2023-06-08T20:07:28.560578",
     "status": "completed"
    },
    "tags": []
   },
   "outputs": [],
   "source": [
    "gc.collect()\n",
    "torch.cuda.empty_cache()"
   ]
  },
  {
   "cell_type": "markdown",
   "id": "3fb015fc",
   "metadata": {
    "papermill": {
     "duration": 0.007138,
     "end_time": "2023-06-08T20:07:28.773568",
     "exception": false,
     "start_time": "2023-06-08T20:07:28.766430",
     "status": "completed"
    },
    "tags": []
   },
   "source": [
    "<p>Let's see an example from the dataset.</p>\n",
    "<p> `|` separates tokens </p>"
   ]
  },
  {
   "cell_type": "code",
   "execution_count": 5,
   "id": "784d321b",
   "metadata": {
    "execution": {
     "iopub.execute_input": "2023-06-08T20:07:28.789156Z",
     "iopub.status.busy": "2023-06-08T20:07:28.788897Z",
     "iopub.status.idle": "2023-06-08T20:07:28.838543Z",
     "shell.execute_reply": "2023-06-08T20:07:28.837662Z"
    },
    "papermill": {
     "duration": 0.061374,
     "end_time": "2023-06-08T20:07:28.842047",
     "exception": false,
     "start_time": "2023-06-08T20:07:28.780673",
     "status": "completed"
    },
    "tags": []
   },
   "outputs": [
    {
     "name": "stdout",
     "output_type": "stream",
     "text": [
      "[END]| State|ful| comput|ations| in| F|#| with| update| mon|ads|\n",
      "|\n",
      "|Most| discussions| about| mon|ads|,| even| in| F|#|,| start| by| looking| at| the| well|-|known| standard| mon|ads\n"
     ]
    }
   ],
   "source": [
    "EXAMPLE_NO = 33\n",
    "EXAMPLE_LENGTH = 36\n",
    "\n",
    "print(\n",
    "    \"|\".join(tl_model.to_str_tokens(toks_int_values[EXAMPLE_NO, :EXAMPLE_LENGTH])),\n",
    ")"
   ]
  },
  {
   "cell_type": "markdown",
   "id": "1050ed0a",
   "metadata": {
    "papermill": {
     "duration": 0.007216,
     "end_time": "2023-06-08T20:07:28.859368",
     "exception": false,
     "start_time": "2023-06-08T20:07:28.852152",
     "status": "completed"
    },
    "tags": []
   },
   "source": [
    "<p>This dataset has several examples of induction! F -> #, mon -> ads</p>\n",
    "<p>The `mask_rep` mask is a boolean mask of shape `(num_examples, seq_len)` that indicates where induction is present in the dataset</p>\n",
    "<p> Let's see "
   ]
  },
  {
   "cell_type": "code",
   "execution_count": 6,
   "id": "ab040a48",
   "metadata": {
    "execution": {
     "iopub.execute_input": "2023-06-08T20:07:28.875664Z",
     "iopub.status.busy": "2023-06-08T20:07:28.875309Z",
     "iopub.status.idle": "2023-06-08T20:07:28.919743Z",
     "shell.execute_reply": "2023-06-08T20:07:28.918974Z"
    },
    "lines_to_next_cell": 1,
    "papermill": {
     "duration": 0.056269,
     "end_time": "2023-06-08T20:07:28.923237",
     "exception": false,
     "start_time": "2023-06-08T20:07:28.866968",
     "status": "completed"
    },
    "tags": []
   },
   "outputs": [
    {
     "name": "stdout",
     "output_type": "stream",
     "text": [
      "At position 17 there is induction\n",
      "[' mon']\n",
      "At position 22 there is induction\n",
      "[' F']\n",
      "At position 34 there is induction\n",
      "[' mon']\n"
     ]
    }
   ],
   "source": [
    "for i in range(EXAMPLE_LENGTH):\n",
    "    if mask_rep[EXAMPLE_NO, i]:\n",
    "        print(f\"At position {i} there is induction\")\n",
    "        print(tl_model.to_str_tokens(toks_int_values[EXAMPLE_NO:EXAMPLE_NO+1, i : i + 1]))"
   ]
  },
  {
   "cell_type": "markdown",
   "id": "da70679e",
   "metadata": {
    "papermill": {
     "duration": 0.007394,
     "end_time": "2023-06-08T20:07:28.942013",
     "exception": false,
     "start_time": "2023-06-08T20:07:28.934619",
     "status": "completed"
    },
    "tags": []
   },
   "source": [
    "<p>Let's get the initial loss on the induction examples</p>"
   ]
  },
  {
   "cell_type": "code",
   "execution_count": 7,
   "id": "c97802b7",
   "metadata": {
    "execution": {
     "iopub.execute_input": "2023-06-08T20:07:28.958842Z",
     "iopub.status.busy": "2023-06-08T20:07:28.958396Z",
     "iopub.status.idle": "2023-06-08T20:07:29.022350Z",
     "shell.execute_reply": "2023-06-08T20:07:29.021475Z"
    },
    "papermill": {
     "duration": 0.076298,
     "end_time": "2023-06-08T20:07:29.025839",
     "exception": false,
     "start_time": "2023-06-08T20:07:28.949541",
     "status": "completed"
    },
    "tags": []
   },
   "outputs": [
    {
     "name": "stdout",
     "output_type": "stream",
     "text": [
      "Loss: 0.44509872794151306\n"
     ]
    }
   ],
   "source": [
    "def get_loss(model, data, mask):\n",
    "    loss = model(\n",
    "        data,\n",
    "        return_type=\"loss\",\n",
    "        loss_per_token=True,\n",
    "    )\n",
    "    return (loss * mask[:, :-1].int()).sum() / mask[:, :-1].int().sum()\n",
    "\n",
    "\n",
    "print(f\"Loss: {get_loss(tl_model, toks_int_values, mask_rep)}\")"
   ]
  },
  {
   "cell_type": "markdown",
   "id": "6e03cc7d",
   "metadata": {
    "papermill": {
     "duration": 0.007701,
     "end_time": "2023-06-08T20:07:29.045953",
     "exception": false,
     "start_time": "2023-06-08T20:07:29.038252",
     "status": "completed"
    },
    "tags": []
   },
   "source": [
    "<p>We will now wrap ACDC things inside an `experiment`for further experiments</p>\n",
    "<p>For more advanced usage of the `TLACDCExperiment` object (the main object in this codebase), see the README for links to the `main.py` and its demos</p>"
   ]
  },
  {
   "cell_type": "code",
   "execution_count": 8,
   "id": "7a60441d",
   "metadata": {
    "execution": {
     "iopub.execute_input": "2023-06-08T20:07:29.063031Z",
     "iopub.status.busy": "2023-06-08T20:07:29.062625Z",
     "iopub.status.idle": "2023-06-08T20:07:30.751969Z",
     "shell.execute_reply": "2023-06-08T20:07:30.750888Z"
    },
    "papermill": {
     "duration": 1.702119,
     "end_time": "2023-06-08T20:07:30.755724",
     "exception": false,
     "start_time": "2023-06-08T20:07:29.053605",
     "status": "completed"
    },
    "tags": []
   },
   "outputs": [
    {
     "name": "stderr",
     "output_type": "stream",
     "text": [
      "WARNING:root:cache_all is deprecated and will eventually be removed, use add_caching_hooks or run_with_cache\n"
     ]
    },
    {
     "name": "stderr",
     "output_type": "stream",
     "text": [
      "WARNING:root:cache_all is deprecated and will eventually be removed, use add_caching_hooks or run_with_cache\n"
     ]
    },
    {
     "name": "stdout",
     "output_type": "stream",
     "text": [
      "ln_final.hook_normalized\n",
      "ln_final.hook_scale\n",
      "blocks.1.hook_resid_post\n",
      "blocks.1.hook_attn_out\n",
      "blocks.1.attn.hook_result\n",
      "blocks.1.attn.hook_z\n",
      "blocks.1.attn.hook_pattern\n",
      "blocks.1.attn.hook_attn_scores\n",
      "blocks.1.attn.hook_v\n",
      "blocks.1.attn.hook_k\n",
      "blocks.1.attn.hook_q\n",
      "blocks.1.ln1.hook_normalized\n",
      "blocks.1.ln1.hook_scale\n",
      "blocks.1.hook_v_input\n",
      "blocks.1.hook_k_input\n",
      "blocks.1.hook_q_input\n",
      "blocks.1.hook_resid_pre\n",
      "blocks.0.hook_resid_post\n",
      "blocks.0.hook_attn_out\n",
      "blocks.0.attn.hook_result\n",
      "blocks.0.attn.hook_z\n",
      "blocks.0.attn.hook_pattern\n",
      "blocks.0.attn.hook_attn_scores\n",
      "blocks.0.attn.hook_v\n",
      "blocks.0.attn.hook_k\n",
      "blocks.0.attn.hook_q\n",
      "blocks.0.ln1.hook_normalized\n",
      "blocks.0.ln1.hook_scale\n",
      "blocks.0.hook_v_input\n",
      "blocks.0.hook_k_input\n",
      "blocks.0.hook_q_input\n",
      "blocks.0.hook_resid_pre\n",
      "hook_pos_embed\n",
      "hook_embed\n",
      "self.current_node=TLACDCInterpNode(blocks.1.hook_resid_post, [:])\n"
     ]
    }
   ],
   "source": [
    "experiment = TLACDCExperiment(\n",
    "    model=tl_model,\n",
    "    threshold=0.0,\n",
    "    ds=toks_int_values,\n",
    "    ref_ds=None,  # This argument is the corrupted dataset from the ACDC paper. We're going to do zero ablation here so we omit this\n",
    "    metric=metric,\n",
    "    zero_ablation=True,\n",
    "    hook_verbose=False,\n",
    ")"
   ]
  },
  {
   "cell_type": "markdown",
   "id": "7adcd3c5",
   "metadata": {
    "papermill": {
     "duration": 0.008126,
     "end_time": "2023-06-08T20:07:30.778324",
     "exception": false,
     "start_time": "2023-06-08T20:07:30.770198",
     "status": "completed"
    },
    "tags": []
   },
   "source": [
    "\n",
    "<p>Usually, the `TLACDCExperiment` efficiently add hooks to the model in order to do ACDC runs fast.</p>\n",
    "<p>For this tutorial, we'll add <b>ALL</b> the hooks so you can edit connections in the model as easily as possible.</p>"
   ]
  },
  {
   "cell_type": "code",
   "execution_count": 9,
   "id": "73a89d6f",
   "metadata": {
    "execution": {
     "iopub.execute_input": "2023-06-08T20:07:30.795737Z",
     "iopub.status.busy": "2023-06-08T20:07:30.795477Z",
     "iopub.status.idle": "2023-06-08T20:07:30.844920Z",
     "shell.execute_reply": "2023-06-08T20:07:30.843811Z"
    },
    "papermill": {
     "duration": 0.061795,
     "end_time": "2023-06-08T20:07:30.848201",
     "exception": false,
     "start_time": "2023-06-08T20:07:30.786406",
     "status": "completed"
    },
    "tags": []
   },
   "outputs": [],
   "source": [
    "experiment.model.reset_hooks()\n",
    "experiment.setup_model_hooks(\n",
    "    add_sender_hooks=True,\n",
    "    add_receiver_hooks=True,\n",
    "    doing_acdc_runs=False,\n",
    ")"
   ]
  },
  {
   "cell_type": "markdown",
   "id": "edab0604",
   "metadata": {
    "papermill": {
     "duration": 0.008058,
     "end_time": "2023-06-08T20:07:30.869575",
     "exception": false,
     "start_time": "2023-06-08T20:07:30.861517",
     "status": "completed"
    },
    "tags": []
   },
   "source": [
    "Let's take a look at the edges"
   ]
  },
  {
   "cell_type": "code",
   "execution_count": 10,
   "id": "58910d31",
   "metadata": {
    "execution": {
     "iopub.execute_input": "2023-06-08T20:07:30.888031Z",
     "iopub.status.busy": "2023-06-08T20:07:30.887588Z",
     "iopub.status.idle": "2023-06-08T20:07:30.933276Z",
     "shell.execute_reply": "2023-06-08T20:07:30.932424Z"
    },
    "lines_to_next_cell": 1,
    "papermill": {
     "duration": 0.05892,
     "end_time": "2023-06-08T20:07:30.937027",
     "exception": false,
     "start_time": "2023-06-08T20:07:30.878107",
     "status": "completed"
    },
    "tags": []
   },
   "outputs": [],
   "source": [
    "for edge_indices, edge in experiment.corr.all_edges().items():\n",
    "    # here's what's inside the edge\n",
    "    receiver_name, receiver_index, sender_name, sender_index = edge_indices\n",
    "\n",
    "    # for now, all edges should be present\n",
    "    assert edge.present, edge_indices"
   ]
  },
  {
   "cell_type": "markdown",
   "id": "aefc0e58",
   "metadata": {
    "papermill": {
     "duration": 0.008096,
     "end_time": "2023-06-08T20:07:30.958725",
     "exception": false,
     "start_time": "2023-06-08T20:07:30.950629",
     "status": "completed"
    },
    "tags": []
   },
   "source": [
    "<p>Let's make a function that's able to turn off all the connections from the nodes to the output, except the induction head (1.5 and 1.6)</p>\n",
    "<p>(we'll later turn ON all connections EXCEPT the induction heads)</p>"
   ]
  },
  {
   "cell_type": "code",
   "execution_count": 11,
   "id": "9dc6afee",
   "metadata": {
    "execution": {
     "iopub.execute_input": "2023-06-08T20:07:30.976930Z",
     "iopub.status.busy": "2023-06-08T20:07:30.976462Z",
     "iopub.status.idle": "2023-06-08T20:07:31.236419Z",
     "shell.execute_reply": "2023-06-08T20:07:31.235412Z"
    },
    "papermill": {
     "duration": 0.27332,
     "end_time": "2023-06-08T20:07:31.240164",
     "exception": false,
     "start_time": "2023-06-08T20:07:30.966844",
     "status": "completed"
    },
    "tags": []
   },
   "outputs": [
    {
     "name": "stdout",
     "output_type": "stream",
     "text": [
      "Adding edge from blocks.1.attn.hook_result [:, :, 7] to blocks.1.hook_resid_post [:]\n",
      "Removing edge from blocks.1.attn.hook_result [:, :, 6] to blocks.1.hook_resid_post [:]\n",
      "Removing edge from blocks.1.attn.hook_result [:, :, 5] to blocks.1.hook_resid_post [:]\n",
      "Adding edge from blocks.1.attn.hook_result [:, :, 4] to blocks.1.hook_resid_post [:]\n",
      "Adding edge from blocks.1.attn.hook_result [:, :, 3] to blocks.1.hook_resid_post [:]\n",
      "Adding edge from blocks.1.attn.hook_result [:, :, 2] to blocks.1.hook_resid_post [:]\n",
      "Adding edge from blocks.1.attn.hook_result [:, :, 1] to blocks.1.hook_resid_post [:]\n",
      "Adding edge from blocks.1.attn.hook_result [:, :, 0] to blocks.1.hook_resid_post [:]\n",
      "Adding edge from blocks.0.attn.hook_result [:, :, 7] to blocks.1.hook_resid_post [:]\n",
      "Adding edge from blocks.0.attn.hook_result [:, :, 6] to blocks.1.hook_resid_post [:]\n",
      "Adding edge from blocks.0.attn.hook_result [:, :, 5] to blocks.1.hook_resid_post [:]\n",
      "Adding edge from blocks.0.attn.hook_result [:, :, 4] to blocks.1.hook_resid_post [:]\n",
      "Adding edge from blocks.0.attn.hook_result [:, :, 3] to blocks.1.hook_resid_post [:]\n",
      "Adding edge from blocks.0.attn.hook_result [:, :, 2] to blocks.1.hook_resid_post [:]\n",
      "Adding edge from blocks.0.attn.hook_result [:, :, 1] to blocks.1.hook_resid_post [:]\n",
      "Adding edge from blocks.0.attn.hook_result [:, :, 0] to blocks.1.hook_resid_post [:]\n",
      "Adding edge from blocks.0.hook_resid_pre [:] to blocks.1.hook_resid_post [:]\n"
     ]
    },
    {
     "name": "stdout",
     "output_type": "stream",
     "text": [
      "Loss with only the induction head direct connections: 0.7248066067695618\n"
     ]
    }
   ],
   "source": [
    "def change_direct_output_connections(exp, invert=False):\n",
    "    residual_stream_end_name = \"blocks.1.hook_resid_post\"\n",
    "    residual_stream_end_index = TorchIndex([None])\n",
    "    induction_heads = [\n",
    "        (\"blocks.1.attn.hook_result\", TorchIndex([None, None, 5])),\n",
    "        (\"blocks.1.attn.hook_result\", TorchIndex([None, None, 6])),\n",
    "    ]\n",
    "\n",
    "    inputs_to_residual_stream_end = exp.corr.edges[residual_stream_end_name][\n",
    "        residual_stream_end_index\n",
    "    ]\n",
    "    for sender_name in inputs_to_residual_stream_end:\n",
    "        for sender_index in inputs_to_residual_stream_end[sender_name]:\n",
    "            edge = inputs_to_residual_stream_end[sender_name][sender_index]\n",
    "            is_induction_head = (sender_name, sender_index) in induction_heads\n",
    "\n",
    "            if is_induction_head:\n",
    "                edge.present = not invert\n",
    "\n",
    "            else:\n",
    "                edge.present = invert\n",
    "\n",
    "            print(\n",
    "                f\"{'Adding' if (invert == is_induction_head) else 'Removing'} edge from {sender_name} {sender_index} to {residual_stream_end_name} {residual_stream_end_index}\"\n",
    "            )\n",
    "\n",
    "\n",
    "change_direct_output_connections(experiment)\n",
    "print(\n",
    "    \"Loss with only the induction head direct connections:\",\n",
    "    get_loss(experiment.model, toks_int_values, mask_rep).item(),\n",
    ")"
   ]
  },
  {
   "cell_type": "markdown",
   "id": "84efaef8",
   "metadata": {
    "papermill": {
     "duration": 0.008373,
     "end_time": "2023-06-08T20:07:31.261292",
     "exception": false,
     "start_time": "2023-06-08T20:07:31.252919",
     "status": "completed"
    },
    "tags": []
   },
   "source": [
    "<p>Let's turn ON all the connections EXCEPT the induction heads</p>"
   ]
  },
  {
   "cell_type": "code",
   "execution_count": 12,
   "id": "e22ec685",
   "metadata": {
    "execution": {
     "iopub.execute_input": "2023-06-08T20:07:31.279721Z",
     "iopub.status.busy": "2023-06-08T20:07:31.279439Z",
     "iopub.status.idle": "2023-06-08T20:07:31.559514Z",
     "shell.execute_reply": "2023-06-08T20:07:31.558587Z"
    },
    "papermill": {
     "duration": 0.293543,
     "end_time": "2023-06-08T20:07:31.563335",
     "exception": false,
     "start_time": "2023-06-08T20:07:31.269792",
     "status": "completed"
    },
    "tags": []
   },
   "outputs": [
    {
     "name": "stdout",
     "output_type": "stream",
     "text": [
      "Removing edge from blocks.1.attn.hook_result [:, :, 7] to blocks.1.hook_resid_post [:]\n",
      "Adding edge from blocks.1.attn.hook_result [:, :, 6] to blocks.1.hook_resid_post [:]\n",
      "Adding edge from blocks.1.attn.hook_result [:, :, 5] to blocks.1.hook_resid_post [:]\n",
      "Removing edge from blocks.1.attn.hook_result [:, :, 4] to blocks.1.hook_resid_post [:]\n",
      "Removing edge from blocks.1.attn.hook_result [:, :, 3] to blocks.1.hook_resid_post [:]\n",
      "Removing edge from blocks.1.attn.hook_result [:, :, 2] to blocks.1.hook_resid_post [:]\n",
      "Removing edge from blocks.1.attn.hook_result [:, :, 1] to blocks.1.hook_resid_post [:]\n",
      "Removing edge from blocks.1.attn.hook_result [:, :, 0] to blocks.1.hook_resid_post [:]\n",
      "Removing edge from blocks.0.attn.hook_result [:, :, 7] to blocks.1.hook_resid_post [:]\n",
      "Removing edge from blocks.0.attn.hook_result [:, :, 6] to blocks.1.hook_resid_post [:]\n",
      "Removing edge from blocks.0.attn.hook_result [:, :, 5] to blocks.1.hook_resid_post [:]\n",
      "Removing edge from blocks.0.attn.hook_result [:, :, 4] to blocks.1.hook_resid_post [:]\n",
      "Removing edge from blocks.0.attn.hook_result [:, :, 3] to blocks.1.hook_resid_post [:]\n",
      "Removing edge from blocks.0.attn.hook_result [:, :, 2] to blocks.1.hook_resid_post [:]\n",
      "Removing edge from blocks.0.attn.hook_result [:, :, 1] to blocks.1.hook_resid_post [:]\n",
      "Removing edge from blocks.0.attn.hook_result [:, :, 0] to blocks.1.hook_resid_post [:]\n",
      "Removing edge from blocks.0.hook_resid_pre [:] to blocks.1.hook_resid_post [:]\n"
     ]
    },
    {
     "name": "stdout",
     "output_type": "stream",
     "text": [
      "Loss without the induction head direct connections: 3.719449281692505\n"
     ]
    }
   ],
   "source": [
    "change_direct_output_connections(experiment, invert=True)\n",
    "print(\n",
    "    \"Loss without the induction head direct connections:\",\n",
    "    get_loss(experiment.model, toks_int_values, mask_rep).item(),\n",
    ")"
   ]
  },
  {
   "cell_type": "markdown",
   "id": "66df8403",
   "metadata": {
    "papermill": {
     "duration": 0.008677,
     "end_time": "2023-06-08T20:07:31.585765",
     "exception": false,
     "start_time": "2023-06-08T20:07:31.577088",
     "status": "completed"
    },
    "tags": []
   },
   "source": [
    "<p>That's much larger!</p>\n",
    "<p>See acdc/main.py for how to run ACDC experiments; try `python acdc/main.py --help` or check the README for the links to this file</p>"
   ]
  }
 ],
 "metadata": {
  "jupytext": {
   "cell_metadata_filter": "-all",
   "main_language": "python",
   "notebook_metadata_filter": "-all"
  },
  "kernelspec": {
   "display_name": "Python 3.10.6 64-bit",
   "language": "python",
   "name": "python3"
  },
  "language_info": {
   "codemirror_mode": {
    "name": "ipython",
    "version": 3
   },
   "file_extension": ".py",
   "mimetype": "text/x-python",
   "name": "python",
   "nbconvert_exporter": "python",
   "pygments_lexer": "ipython3",
   "version": "3.8.10"
  },
  "papermill": {
   "default_parameters": {},
   "duration": 12.448349,
   "end_time": "2023-06-08T20:07:32.718443",
   "environment_variables": {},
   "exception": null,
   "input_path": "notebooks/_converted/editing_edges.ipynb",
   "output_path": "notebooks/colabs/ACDC_Editing_Edges_Demo.ipynb",
   "parameters": {},
   "start_time": "2023-06-08T20:07:20.270094",
   "version": "2.4.0"
  },
  "vscode": {
   "interpreter": {
    "hash": "31f2aee4e71d21fbe5cf8b01ff0e069b9275f58929596ceb00d14d90e3e16cd6"
   }
  }
 },
 "nbformat": 4,
 "nbformat_minor": 5
}
