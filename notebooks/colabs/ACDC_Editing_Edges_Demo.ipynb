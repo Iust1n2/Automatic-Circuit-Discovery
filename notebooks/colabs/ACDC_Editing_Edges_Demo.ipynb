{
 "cells": [
  {
   "cell_type": "markdown",
   "id": "a84bf037",
   "metadata": {
    "papermill": {
     "duration": 0.003784,
     "end_time": "2023-06-06T21:39:45.862167",
     "exception": false,
     "start_time": "2023-06-06T21:39:45.858383",
     "status": "completed"
    },
    "tags": []
   },
   "source": [
    "<h1>ACDC Editing Edges Demo</h1>\n",
    "\n",
    "<p>This notebook gives a high-level overview of the main abstractions used in the ACDC codebase.</p>\n",
    "\n",
    "<p>If you are interested in models that are >10x the size of GPT-2 small, this library currently may be too slow and we would recommend you look at the path patching implementations in `TransformerLens` (forthcoming)</p>\n",
    "\n",
    "<h3>Setup</h2>\n",
    "\n",
    "<p>Janky code to do different setup when run in a Colab notebook vs VSCode (adapted from e.g <a href=\"https://github.com/neelnanda-io/TransformerLens/blob/5c89b7583e73ce96db5e46ef86a14b15f303dde6/demos/Activation_Patching_in_TL_Demo.ipynb\">this notebook</a>)</p>"
   ]
  },
  {
   "cell_type": "code",
   "execution_count": 1,
   "id": "c3e2b41a",
   "metadata": {
    "execution": {
     "iopub.execute_input": "2023-06-06T21:39:45.876408Z",
     "iopub.status.busy": "2023-06-06T21:39:45.876157Z",
     "iopub.status.idle": "2023-06-06T21:39:46.078834Z",
     "shell.execute_reply": "2023-06-06T21:39:46.078022Z"
    },
    "lines_to_next_cell": 2,
    "papermill": {
     "duration": 0.213361,
     "end_time": "2023-06-06T21:39:46.081369",
     "exception": false,
     "start_time": "2023-06-06T21:39:45.868008",
     "status": "completed"
    },
    "tags": []
   },
   "outputs": [
    {
     "name": "stdout",
     "output_type": "stream",
     "text": [
      "Running as a Jupyter notebook - intended for development only! (This is also used for automatically generating notebook outputs)\n"
     ]
    }
   ],
   "source": [
    "\n",
    "try:\n",
    "    import google.colab\n",
    "\n",
    "    IN_COLAB = True\n",
    "    print(\"Running as a Colab notebook. WARNING: you may need to switch to a High-RAM good machine (you can buy $10 of credits for this)\")\n",
    "\n",
    "    from IPython import get_ipython\n",
    "\n",
    "    ipython = get_ipython()\n",
    "    ipython.run_line_magic(\n",
    "        \"pip\",\n",
    "        \"install git+https://github.com/neelnanda-io/TransformerLens.git@6983358\", \n",
    "    )\n",
    "    ipython.run_line_magic(\n",
    "        \"pip\",\n",
    "        \"install git+https://github.com/ArthurConmy/Automatic-Circuit-Discovery.git@44629216\",\n",
    "    )\n",
    "    ipython.run_line_magic(\"pip\", \"install torchtyping cmapy\")\n",
    "\n",
    "except Exception as e:\n",
    "    IN_COLAB = False\n",
    "    print(\n",
    "        \"Running as a Jupyter notebook - intended for development only! (This is also used for automatically generating notebook outputs)\"\n",
    "    )\n",
    "\n",
    "    import numpy # crucial to not get cursed error\n",
    "    import plotly\n",
    "\n",
    "    plotly.io.renderers.default = \"colab\"  # added by Arthur so running as a .py notebook with #%% generates .ipynb notebooks that display in colab\n",
    "    # disable this option when developing rather than generating notebook outputs\n",
    "\n",
    "    from IPython import get_ipython\n",
    "\n",
    "    ipython = get_ipython()\n",
    "    if ipython is not None:\n",
    "        ipython.run_line_magic(\"load_ext\", \"autoreload\")  # type: ignore\n",
    "        ipython.run_line_magic(\"autoreload\", \"2\")  # type: ignore"
   ]
  },
  {
   "cell_type": "markdown",
   "id": "6f3867f8",
   "metadata": {
    "papermill": {
     "duration": 0.003065,
     "end_time": "2023-06-06T21:39:46.090819",
     "exception": false,
     "start_time": "2023-06-06T21:39:46.087754",
     "status": "completed"
    },
    "tags": []
   },
   "source": [
    "<h2>Imports etc</h2>"
   ]
  },
  {
   "cell_type": "code",
   "execution_count": 2,
   "id": "a177aad9",
   "metadata": {
    "execution": {
     "iopub.execute_input": "2023-06-06T21:39:46.099173Z",
     "iopub.status.busy": "2023-06-06T21:39:46.098274Z",
     "iopub.status.idle": "2023-06-06T21:39:48.600366Z",
     "shell.execute_reply": "2023-06-06T21:39:48.599334Z"
    },
    "papermill": {
     "duration": 2.509342,
     "end_time": "2023-06-06T21:39:48.603302",
     "exception": false,
     "start_time": "2023-06-06T21:39:46.093960",
     "status": "completed"
    },
    "tags": []
   },
   "outputs": [],
   "source": [
    "\n",
    "from transformer_lens.HookedTransformer import HookedTransformer\n",
    "from acdc.TLACDCExperiment import TLACDCExperiment\n",
    "from acdc.induction.utils import get_all_induction_things\n",
    "from acdc.acdc_utils import TorchIndex\n",
    "import torch\n",
    "import gc"
   ]
  },
  {
   "cell_type": "markdown",
   "id": "e93bb59c",
   "metadata": {
    "papermill": {
     "duration": 0.005325,
     "end_time": "2023-06-06T21:39:48.616310",
     "exception": false,
     "start_time": "2023-06-06T21:39:48.610985",
     "status": "completed"
    },
    "tags": []
   },
   "source": [
    "<h2>Load in the model and data for the induction task"
   ]
  },
  {
   "cell_type": "code",
   "execution_count": 3,
   "id": "9e12ac39",
   "metadata": {
    "execution": {
     "iopub.execute_input": "2023-06-06T21:39:48.631986Z",
     "iopub.status.busy": "2023-06-06T21:39:48.631450Z",
     "iopub.status.idle": "2023-06-06T21:39:54.570639Z",
     "shell.execute_reply": "2023-06-06T21:39:54.569681Z"
    },
    "papermill": {
     "duration": 5.949939,
     "end_time": "2023-06-06T21:39:54.573325",
     "exception": false,
     "start_time": "2023-06-06T21:39:48.623386",
     "status": "completed"
    },
    "tags": []
   },
   "outputs": [
    {
     "name": "stderr",
     "output_type": "stream",
     "text": [
      "Special tokens have been added in the vocabulary, make sure the associated word embeddings are fine-tuned or trained.\n"
     ]
    },
    {
     "name": "stdout",
     "output_type": "stream",
     "text": [
      "Loaded pretrained model redwood_attn_2l into HookedTransformer\n"
     ]
    }
   ],
   "source": [
    "num_examples = 40\n",
    "seq_len = 300\n",
    "\n",
    "# load in a tl_model and grab some data\n",
    "all_induction_things = get_all_induction_things(\n",
    "    num_examples=num_examples,\n",
    "    seq_len=seq_len,\n",
    "    device=\"cuda\",\n",
    ")\n",
    "\n",
    "tl_model, toks_int_values, toks_int_values_other, metric, mask_rep = (\n",
    "    all_induction_things.tl_model,\n",
    "    all_induction_things.validation_data,\n",
    "    all_induction_things.validation_patch_data,\n",
    "    all_induction_things.validation_metric,\n",
    "    all_induction_things.validation_mask,\n",
    ")\n",
    "\n",
    "# You should read the get_model function from that file to see what the tl_model is : )"
   ]
  },
  {
   "cell_type": "markdown",
   "id": "556dfc10",
   "metadata": {
    "papermill": {
     "duration": 0.005305,
     "end_time": "2023-06-06T21:39:54.587846",
     "exception": false,
     "start_time": "2023-06-06T21:39:54.582541",
     "status": "completed"
    },
    "tags": []
   },
   "source": [
    "<p>Ensure we stay under mem limit on small machines</p>"
   ]
  },
  {
   "cell_type": "code",
   "execution_count": 4,
   "id": "1f0497e9",
   "metadata": {
    "execution": {
     "iopub.execute_input": "2023-06-06T21:39:54.604276Z",
     "iopub.status.busy": "2023-06-06T21:39:54.603784Z",
     "iopub.status.idle": "2023-06-06T21:39:54.856323Z",
     "shell.execute_reply": "2023-06-06T21:39:54.855227Z"
    },
    "papermill": {
     "duration": 0.263756,
     "end_time": "2023-06-06T21:39:54.858932",
     "exception": false,
     "start_time": "2023-06-06T21:39:54.595176",
     "status": "completed"
    },
    "tags": []
   },
   "outputs": [],
   "source": [
    "gc.collect()\n",
    "torch.cuda.empty_cache()"
   ]
  },
  {
   "cell_type": "markdown",
   "id": "f00b6bc5",
   "metadata": {
    "papermill": {
     "duration": 0.003818,
     "end_time": "2023-06-06T21:39:54.870356",
     "exception": false,
     "start_time": "2023-06-06T21:39:54.866538",
     "status": "completed"
    },
    "tags": []
   },
   "source": [
    "<p>Let's see an example from the dataset.</p>\n",
    "<p> `|` separates tokens </p>"
   ]
  },
  {
   "cell_type": "code",
   "execution_count": 5,
   "id": "7147ae37",
   "metadata": {
    "execution": {
     "iopub.execute_input": "2023-06-06T21:39:54.878454Z",
     "iopub.status.busy": "2023-06-06T21:39:54.878066Z",
     "iopub.status.idle": "2023-06-06T21:39:54.920582Z",
     "shell.execute_reply": "2023-06-06T21:39:54.919651Z"
    },
    "papermill": {
     "duration": 0.049208,
     "end_time": "2023-06-06T21:39:54.922836",
     "exception": false,
     "start_time": "2023-06-06T21:39:54.873628",
     "status": "completed"
    },
    "tags": []
   },
   "outputs": [
    {
     "name": "stdout",
     "output_type": "stream",
     "text": [
      "[END]| State|ful| comput|ations| in| F|#| with| update| mon|ads|\n",
      "|\n",
      "|Most| discussions| about| mon|ads|,| even| in| F|#|,| start| by| looking| at| the| well|-|known| standard| mon|ads\n"
     ]
    }
   ],
   "source": [
    "EXAMPLE_NO = 33\n",
    "EXAMPLE_LENGTH = 36\n",
    "\n",
    "print(\n",
    "    \"|\".join(tl_model.to_str_tokens(toks_int_values[EXAMPLE_NO, :EXAMPLE_LENGTH])),\n",
    ")"
   ]
  },
  {
   "cell_type": "markdown",
   "id": "b71a893f",
   "metadata": {
    "papermill": {
     "duration": 0.004086,
     "end_time": "2023-06-06T21:39:54.934339",
     "exception": false,
     "start_time": "2023-06-06T21:39:54.930253",
     "status": "completed"
    },
    "tags": []
   },
   "source": [
    "<p>This dataset has several examples of induction! F -> #, mon -> ads</p>\n",
    "<p>The `mask_rep` mask is a boolean mask of shape `(num_examples, seq_len)` that indicates where induction is present in the dataset</p>\n",
    "<p> Let's see "
   ]
  },
  {
   "cell_type": "code",
   "execution_count": 6,
   "id": "f044b955",
   "metadata": {
    "execution": {
     "iopub.execute_input": "2023-06-06T21:39:54.942235Z",
     "iopub.status.busy": "2023-06-06T21:39:54.941895Z",
     "iopub.status.idle": "2023-06-06T21:39:54.978032Z",
     "shell.execute_reply": "2023-06-06T21:39:54.977100Z"
    },
    "lines_to_next_cell": 1,
    "papermill": {
     "duration": 0.042732,
     "end_time": "2023-06-06T21:39:54.980325",
     "exception": false,
     "start_time": "2023-06-06T21:39:54.937593",
     "status": "completed"
    },
    "tags": []
   },
   "outputs": [
    {
     "name": "stdout",
     "output_type": "stream",
     "text": [
      "At position 17 there is induction\n",
      "[' mon']\n",
      "At position 22 there is induction\n",
      "[' F']\n",
      "At position 34 there is induction\n",
      "[' mon']\n"
     ]
    }
   ],
   "source": [
    "for i in range(EXAMPLE_LENGTH):\n",
    "    if mask_rep[EXAMPLE_NO, i]:\n",
    "        print(f\"At position {i} there is induction\")\n",
    "        print(tl_model.to_str_tokens(toks_int_values[EXAMPLE_NO:EXAMPLE_NO+1, i : i + 1]))"
   ]
  },
  {
   "cell_type": "markdown",
   "id": "31e25fac",
   "metadata": {
    "papermill": {
     "duration": 0.003343,
     "end_time": "2023-06-06T21:39:54.991276",
     "exception": false,
     "start_time": "2023-06-06T21:39:54.987933",
     "status": "completed"
    },
    "tags": []
   },
   "source": [
    "<p>Let's get the initial loss on the induction examples</p>"
   ]
  },
  {
   "cell_type": "code",
   "execution_count": 7,
   "id": "7da2bdf8",
   "metadata": {
    "execution": {
     "iopub.execute_input": "2023-06-06T21:39:54.998992Z",
     "iopub.status.busy": "2023-06-06T21:39:54.998754Z",
     "iopub.status.idle": "2023-06-06T21:39:55.069293Z",
     "shell.execute_reply": "2023-06-06T21:39:55.068290Z"
    },
    "papermill": {
     "duration": 0.076755,
     "end_time": "2023-06-06T21:39:55.071370",
     "exception": false,
     "start_time": "2023-06-06T21:39:54.994615",
     "status": "completed"
    },
    "tags": []
   },
   "outputs": [
    {
     "name": "stdout",
     "output_type": "stream",
     "text": [
      "Loss: 0.8858892917633057\n"
     ]
    }
   ],
   "source": [
    "def get_loss(model, data, mask):\n",
    "    loss = model(\n",
    "        data,\n",
    "        return_type=\"loss\",\n",
    "        loss_per_token=True,\n",
    "    )\n",
    "    return (loss * mask[:, :-1].int()).sum() / mask[:, :-1].int().sum()\n",
    "\n",
    "\n",
    "print(f\"Loss: {get_loss(tl_model, toks_int_values, mask_rep)}\")"
   ]
  },
  {
   "cell_type": "markdown",
   "id": "bf4f0a85",
   "metadata": {
    "papermill": {
     "duration": 0.003794,
     "end_time": "2023-06-06T21:39:55.082911",
     "exception": false,
     "start_time": "2023-06-06T21:39:55.079117",
     "status": "completed"
    },
    "tags": []
   },
   "source": [
    "<p>We will now wrap ACDC things inside an `experiment`for further experiments</p>\n",
    "<p>For more advanced usage of the `TLACDCExperiment` object (the main object in this codebase), see the README for links to the `main.py` and its demos</p>"
   ]
  },
  {
   "cell_type": "code",
   "execution_count": 8,
   "id": "6b269724",
   "metadata": {
    "execution": {
     "iopub.execute_input": "2023-06-06T21:39:55.090904Z",
     "iopub.status.busy": "2023-06-06T21:39:55.090662Z",
     "iopub.status.idle": "2023-06-06T21:40:32.269699Z",
     "shell.execute_reply": "2023-06-06T21:40:32.268615Z"
    },
    "papermill": {
     "duration": 37.186362,
     "end_time": "2023-06-06T21:40:32.272679",
     "exception": false,
     "start_time": "2023-06-06T21:39:55.086317",
     "status": "completed"
    },
    "tags": []
   },
   "outputs": [
    {
     "name": "stderr",
     "output_type": "stream",
     "text": [
      "WARNING:root:cache_all is deprecated and will eventually be removed, use add_caching_hooks or run_with_cache\n"
     ]
    },
    {
     "name": "stderr",
     "output_type": "stream",
     "text": [
      "WARNING:root:cache_all is deprecated and will eventually be removed, use add_caching_hooks or run_with_cache\n"
     ]
    },
    {
     "name": "stdout",
     "output_type": "stream",
     "text": [
      "ln_final.hook_normalized\n",
      "ln_final.hook_scale\n",
      "blocks.1.hook_resid_post\n",
      "blocks.1.hook_attn_out\n",
      "blocks.1.attn.hook_result\n",
      "blocks.1.attn.hook_z\n",
      "blocks.1.attn.hook_pattern\n",
      "blocks.1.attn.hook_attn_scores\n",
      "blocks.1.attn.hook_v\n",
      "blocks.1.attn.hook_k\n",
      "blocks.1.attn.hook_q\n",
      "blocks.1.ln1.hook_normalized\n",
      "blocks.1.ln1.hook_scale\n",
      "blocks.1.hook_v_input\n",
      "blocks.1.hook_k_input\n",
      "blocks.1.hook_q_input\n",
      "blocks.1.hook_resid_pre\n",
      "blocks.0.hook_resid_post\n",
      "blocks.0.hook_attn_out\n",
      "blocks.0.attn.hook_result\n",
      "blocks.0.attn.hook_z\n",
      "blocks.0.attn.hook_pattern\n",
      "blocks.0.attn.hook_attn_scores\n",
      "blocks.0.attn.hook_v\n",
      "blocks.0.attn.hook_k\n",
      "blocks.0.attn.hook_q\n",
      "blocks.0.ln1.hook_normalized\n",
      "blocks.0.ln1.hook_scale\n",
      "blocks.0.hook_v_input\n",
      "blocks.0.hook_k_input\n",
      "blocks.0.hook_q_input\n",
      "blocks.0.hook_resid_pre\n",
      "hook_pos_embed\n",
      "hook_embed\n",
      "self.current_node=TLACDCInterpNode(blocks.1.hook_resid_post, [:])\n"
     ]
    }
   ],
   "source": [
    "experiment = TLACDCExperiment(\n",
    "    model=tl_model,\n",
    "    threshold=0.0,\n",
    "    ds=toks_int_values,\n",
    "    ref_ds=None,  # This argument is the corrupted dataset from the ACDC paper. We're going to do zero ablation here so we omit this\n",
    "    metric=metric,\n",
    "    zero_ablation=True,\n",
    "    hook_verbose=False,\n",
    ")"
   ]
  },
  {
   "cell_type": "markdown",
   "id": "88e72748",
   "metadata": {
    "papermill": {
     "duration": 0.003649,
     "end_time": "2023-06-06T21:40:32.284259",
     "exception": false,
     "start_time": "2023-06-06T21:40:32.280610",
     "status": "completed"
    },
    "tags": []
   },
   "source": [
    "\n",
    "<p>Usually, the `TLACDCExperiment` efficiently add hooks to the model in order to do ACDC runs fast.</p>\n",
    "<p>For this tutorial, we'll add <b>ALL</b> the hooks so you can edit connections in the model as easily as possible.</p>"
   ]
  },
  {
   "cell_type": "code",
   "execution_count": 9,
   "id": "a2aeb9c2",
   "metadata": {
    "execution": {
     "iopub.execute_input": "2023-06-06T21:40:32.292566Z",
     "iopub.status.busy": "2023-06-06T21:40:32.292384Z",
     "iopub.status.idle": "2023-06-06T21:40:32.330646Z",
     "shell.execute_reply": "2023-06-06T21:40:32.329749Z"
    },
    "papermill": {
     "duration": 0.045041,
     "end_time": "2023-06-06T21:40:32.332896",
     "exception": false,
     "start_time": "2023-06-06T21:40:32.287855",
     "status": "completed"
    },
    "tags": []
   },
   "outputs": [],
   "source": [
    "experiment.model.reset_hooks()\n",
    "experiment.setup_model_hooks(\n",
    "    add_sender_hooks=True,\n",
    "    add_receiver_hooks=True,\n",
    "    doing_acdc_runs=False,\n",
    ")"
   ]
  },
  {
   "cell_type": "markdown",
   "id": "1f0e14f1",
   "metadata": {
    "papermill": {
     "duration": 0.004864,
     "end_time": "2023-06-06T21:40:32.345983",
     "exception": false,
     "start_time": "2023-06-06T21:40:32.341119",
     "status": "completed"
    },
    "tags": []
   },
   "source": [
    "Let's take a look at the edges"
   ]
  },
  {
   "cell_type": "code",
   "execution_count": 10,
   "id": "305d9825",
   "metadata": {
    "execution": {
     "iopub.execute_input": "2023-06-06T21:40:32.355108Z",
     "iopub.status.busy": "2023-06-06T21:40:32.354333Z",
     "iopub.status.idle": "2023-06-06T21:40:32.388381Z",
     "shell.execute_reply": "2023-06-06T21:40:32.387504Z"
    },
    "lines_to_next_cell": 1,
    "papermill": {
     "duration": 0.04105,
     "end_time": "2023-06-06T21:40:32.390670",
     "exception": false,
     "start_time": "2023-06-06T21:40:32.349620",
     "status": "completed"
    },
    "tags": []
   },
   "outputs": [],
   "source": [
    "for edge_indices, edge in experiment.corr.all_edges().items():\n",
    "    # here's what's inside the edge\n",
    "    receiver_name, receiver_index, sender_name, sender_index = edge_indices\n",
    "\n",
    "    # for now, all edges should be present\n",
    "    assert edge.present, edge_indices"
   ]
  },
  {
   "cell_type": "markdown",
   "id": "76fefa3b",
   "metadata": {
    "papermill": {
     "duration": 0.003682,
     "end_time": "2023-06-06T21:40:32.403057",
     "exception": false,
     "start_time": "2023-06-06T21:40:32.399375",
     "status": "completed"
    },
    "tags": []
   },
   "source": [
    "<p>Let's make a function that's able to turn off all the connections from the nodes to the output, except the induction head (1.5 and 1.6)</p>\n",
    "<p>(we'll later turn ON all connections EXCEPT the induction heads)</p>"
   ]
  },
  {
   "cell_type": "code",
   "execution_count": 11,
   "id": "d6298ccd",
   "metadata": {
    "execution": {
     "iopub.execute_input": "2023-06-06T21:40:32.412089Z",
     "iopub.status.busy": "2023-06-06T21:40:32.411441Z",
     "iopub.status.idle": "2023-06-06T21:40:33.058717Z",
     "shell.execute_reply": "2023-06-06T21:40:33.057811Z"
    },
    "papermill": {
     "duration": 0.654298,
     "end_time": "2023-06-06T21:40:33.061073",
     "exception": false,
     "start_time": "2023-06-06T21:40:32.406775",
     "status": "completed"
    },
    "tags": []
   },
   "outputs": [
    {
     "name": "stdout",
     "output_type": "stream",
     "text": [
      "Adding edge from blocks.1.attn.hook_result [:, :, 7] to blocks.1.hook_resid_post [:]\n",
      "Removing edge from blocks.1.attn.hook_result [:, :, 6] to blocks.1.hook_resid_post [:]\n",
      "Removing edge from blocks.1.attn.hook_result [:, :, 5] to blocks.1.hook_resid_post [:]\n",
      "Adding edge from blocks.1.attn.hook_result [:, :, 4] to blocks.1.hook_resid_post [:]\n",
      "Adding edge from blocks.1.attn.hook_result [:, :, 3] to blocks.1.hook_resid_post [:]\n",
      "Adding edge from blocks.1.attn.hook_result [:, :, 2] to blocks.1.hook_resid_post [:]\n",
      "Adding edge from blocks.1.attn.hook_result [:, :, 1] to blocks.1.hook_resid_post [:]\n",
      "Adding edge from blocks.1.attn.hook_result [:, :, 0] to blocks.1.hook_resid_post [:]\n",
      "Adding edge from blocks.0.attn.hook_result [:, :, 7] to blocks.1.hook_resid_post [:]\n",
      "Adding edge from blocks.0.attn.hook_result [:, :, 6] to blocks.1.hook_resid_post [:]\n",
      "Adding edge from blocks.0.attn.hook_result [:, :, 5] to blocks.1.hook_resid_post [:]\n",
      "Adding edge from blocks.0.attn.hook_result [:, :, 4] to blocks.1.hook_resid_post [:]\n",
      "Adding edge from blocks.0.attn.hook_result [:, :, 3] to blocks.1.hook_resid_post [:]\n",
      "Adding edge from blocks.0.attn.hook_result [:, :, 2] to blocks.1.hook_resid_post [:]\n",
      "Adding edge from blocks.0.attn.hook_result [:, :, 1] to blocks.1.hook_resid_post [:]\n",
      "Adding edge from blocks.0.attn.hook_result [:, :, 0] to blocks.1.hook_resid_post [:]\n",
      "Adding edge from blocks.0.hook_resid_pre [:] to blocks.1.hook_resid_post [:]\n"
     ]
    },
    {
     "name": "stdout",
     "output_type": "stream",
     "text": [
      "Loss with only the induction head direct connections: 1.779373049736023\n"
     ]
    }
   ],
   "source": [
    "def change_direct_output_connections(exp, invert=False):\n",
    "    residual_stream_end_name = \"blocks.1.hook_resid_post\"\n",
    "    residual_stream_end_index = TorchIndex([None])\n",
    "    induction_heads = [\n",
    "        (\"blocks.1.attn.hook_result\", TorchIndex([None, None, 5])),\n",
    "        (\"blocks.1.attn.hook_result\", TorchIndex([None, None, 6])),\n",
    "    ]\n",
    "\n",
    "    inputs_to_residual_stream_end = exp.corr.edges[residual_stream_end_name][\n",
    "        residual_stream_end_index\n",
    "    ]\n",
    "    for sender_name in inputs_to_residual_stream_end:\n",
    "        for sender_index in inputs_to_residual_stream_end[sender_name]:\n",
    "            edge = inputs_to_residual_stream_end[sender_name][sender_index]\n",
    "            is_induction_head = (sender_name, sender_index) in induction_heads\n",
    "\n",
    "            if is_induction_head:\n",
    "                edge.present = not invert\n",
    "\n",
    "            else:\n",
    "                edge.present = invert\n",
    "\n",
    "            print(\n",
    "                f\"{'Adding' if (invert == is_induction_head) else 'Removing'} edge from {sender_name} {sender_index} to {residual_stream_end_name} {residual_stream_end_index}\"\n",
    "            )\n",
    "\n",
    "\n",
    "change_direct_output_connections(experiment)\n",
    "print(\n",
    "    \"Loss with only the induction head direct connections:\",\n",
    "    get_loss(experiment.model, toks_int_values, mask_rep).item(),\n",
    ")"
   ]
  },
  {
   "cell_type": "markdown",
   "id": "bfa43618",
   "metadata": {
    "papermill": {
     "duration": 0.005445,
     "end_time": "2023-06-06T21:40:33.073873",
     "exception": false,
     "start_time": "2023-06-06T21:40:33.068428",
     "status": "completed"
    },
    "tags": []
   },
   "source": [
    "<p>Let's turn ON all the connections EXCEPT the induction heads</p>"
   ]
  },
  {
   "cell_type": "code",
   "execution_count": 12,
   "id": "b2f37593",
   "metadata": {
    "execution": {
     "iopub.execute_input": "2023-06-06T21:40:33.085891Z",
     "iopub.status.busy": "2023-06-06T21:40:33.085550Z",
     "iopub.status.idle": "2023-06-06T21:40:33.730118Z",
     "shell.execute_reply": "2023-06-06T21:40:33.729225Z"
    },
    "papermill": {
     "duration": 0.653581,
     "end_time": "2023-06-06T21:40:33.732574",
     "exception": false,
     "start_time": "2023-06-06T21:40:33.078993",
     "status": "completed"
    },
    "tags": []
   },
   "outputs": [
    {
     "name": "stdout",
     "output_type": "stream",
     "text": [
      "Removing edge from blocks.1.attn.hook_result [:, :, 7] to blocks.1.hook_resid_post [:]\n",
      "Adding edge from blocks.1.attn.hook_result [:, :, 6] to blocks.1.hook_resid_post [:]\n",
      "Adding edge from blocks.1.attn.hook_result [:, :, 5] to blocks.1.hook_resid_post [:]\n",
      "Removing edge from blocks.1.attn.hook_result [:, :, 4] to blocks.1.hook_resid_post [:]\n",
      "Removing edge from blocks.1.attn.hook_result [:, :, 3] to blocks.1.hook_resid_post [:]\n",
      "Removing edge from blocks.1.attn.hook_result [:, :, 2] to blocks.1.hook_resid_post [:]\n",
      "Removing edge from blocks.1.attn.hook_result [:, :, 1] to blocks.1.hook_resid_post [:]\n",
      "Removing edge from blocks.1.attn.hook_result [:, :, 0] to blocks.1.hook_resid_post [:]\n",
      "Removing edge from blocks.0.attn.hook_result [:, :, 7] to blocks.1.hook_resid_post [:]\n",
      "Removing edge from blocks.0.attn.hook_result [:, :, 6] to blocks.1.hook_resid_post [:]\n",
      "Removing edge from blocks.0.attn.hook_result [:, :, 5] to blocks.1.hook_resid_post [:]\n",
      "Removing edge from blocks.0.attn.hook_result [:, :, 4] to blocks.1.hook_resid_post [:]\n",
      "Removing edge from blocks.0.attn.hook_result [:, :, 3] to blocks.1.hook_resid_post [:]\n",
      "Removing edge from blocks.0.attn.hook_result [:, :, 2] to blocks.1.hook_resid_post [:]\n",
      "Removing edge from blocks.0.attn.hook_result [:, :, 1] to blocks.1.hook_resid_post [:]\n",
      "Removing edge from blocks.0.attn.hook_result [:, :, 0] to blocks.1.hook_resid_post [:]\n",
      "Removing edge from blocks.0.hook_resid_pre [:] to blocks.1.hook_resid_post [:]\n"
     ]
    },
    {
     "name": "stdout",
     "output_type": "stream",
     "text": [
      "Loss without the induction head direct connections: 4.3982253074646\n"
     ]
    }
   ],
   "source": [
    "change_direct_output_connections(experiment, invert=True)\n",
    "print(\n",
    "    \"Loss without the induction head direct connections:\",\n",
    "    get_loss(experiment.model, toks_int_values, mask_rep).item(),\n",
    ")"
   ]
  },
  {
   "cell_type": "markdown",
   "id": "de7786af",
   "metadata": {
    "papermill": {
     "duration": 0.003996,
     "end_time": "2023-06-06T21:40:33.744393",
     "exception": false,
     "start_time": "2023-06-06T21:40:33.740397",
     "status": "completed"
    },
    "tags": []
   },
   "source": [
    "<p>That's much larger!</p>\n",
    "<p>See acdc/main.py for how to run ACDC experiments; try `python acdc/main.py --help` or check the README for the links to this file</p>"
   ]
  }
 ],
 "metadata": {
  "jupytext": {
   "cell_metadata_filter": "-all",
   "main_language": "python",
   "notebook_metadata_filter": "-all"
  },
  "language_info": {
   "codemirror_mode": {
    "name": "ipython",
    "version": 3
   },
   "file_extension": ".py",
   "mimetype": "text/x-python",
   "name": "python",
   "nbconvert_exporter": "python",
   "pygments_lexer": "ipython3",
   "version": "3.10.11"
  },
  "papermill": {
   "default_parameters": {},
   "duration": 51.420709,
   "end_time": "2023-06-06T21:40:36.040861",
   "environment_variables": {},
   "exception": null,
   "input_path": "notebooks/_converted/editing_edges.ipynb",
   "output_path": "notebooks/colabs/ACDC_Editing_Edges_Demo.ipynb",
   "parameters": {},
   "start_time": "2023-06-06T21:39:44.620152",
   "version": "2.4.0"
  }
 },
 "nbformat": 4,
 "nbformat_minor": 5
}
