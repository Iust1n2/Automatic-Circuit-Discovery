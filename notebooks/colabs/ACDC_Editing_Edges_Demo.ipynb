{
 "cells": [
  {
   "cell_type": "markdown",
   "id": "62fc4fd6",
   "metadata": {
    "papermill": {
     "duration": 0.00261,
     "end_time": "2023-08-14T00:34:24.559990",
     "exception": false,
     "start_time": "2023-08-14T00:34:24.557380",
     "status": "completed"
    },
    "tags": []
   },
   "source": [
    "<h1>ACDC Editing Edges Demo</h1>\n",
    "\n",
    "<p>This notebook gives a high-level overview of the main abstractions used in the ACDC codebase.</p>\n",
    "\n",
    "<p>If you are interested in models that are >=1B parameters, this library currently may be too slow and we would recommend you look at the path patching implementations in `TransformerLens` (for example, see <a href=\"https://colab.research.google.com/drive/15CJ1WAf8AWm6emI3t2nVfnO85-hxwyJU\">this</a> notebook)</p>\n",
    "\n",
    "<h3>Setup</h2>\n",
    "\n",
    "<p>Janky code to do different setup when run in a Colab notebook vs VSCode (adapted from e.g <a href=\"https://github.com/neelnanda-io/TransformerLens/blob/5c89b7583e73ce96db5e46ef86a14b15f303dde6/demos/Activation_Patching_in_TL_Demo.ipynb\">this notebook</a>)</p>\n",
    "\n",
    "<p>You can ignore warnings that \"packages were previously imported in this runtime\"</p>"
   ]
  },
  {
   "cell_type": "code",
   "execution_count": 1,
   "id": "5a6ff86e",
   "metadata": {
    "execution": {
     "iopub.execute_input": "2023-08-14T00:34:24.569777Z",
     "iopub.status.busy": "2023-08-14T00:34:24.569521Z",
     "iopub.status.idle": "2023-08-14T00:34:24.684430Z",
     "shell.execute_reply": "2023-08-14T00:34:24.684143Z"
    },
    "papermill": {
     "duration": 0.118898,
     "end_time": "2023-08-14T00:34:24.685247",
     "exception": false,
     "start_time": "2023-08-14T00:34:24.566349",
     "status": "completed"
    },
    "tags": []
   },
   "outputs": [
    {
     "name": "stdout",
     "output_type": "stream",
     "text": [
      "Running outside of Colab notebook\n",
      "Running as a notebook\n"
     ]
    }
   ],
   "source": [
    "\n",
    "try:\n",
    "    import google.colab\n",
    "\n",
    "    IN_COLAB = True\n",
    "    print(\"Running as a Colab notebook\")\n",
    "\n",
    "    import subprocess # to install graphviz dependencies\n",
    "    command = ['apt-get', 'install', 'graphviz-dev']\n",
    "    subprocess.run(command, check=True)\n",
    "\n",
    "    from IPython import get_ipython\n",
    "    ipython = get_ipython()\n",
    "\n",
    "    ipython.run_line_magic( # install ACDC\n",
    "        \"pip\",\n",
    "        \"install git+https://github.com/ArthurConmy/Automatic-Circuit-Discovery.git@3a34f19cc3cb1f198483d02097fd7a1b6e61b946\",\n",
    "    )\n",
    "\n",
    "except Exception as e:\n",
    "    IN_COLAB = False\n",
    "    print(\"Running outside of Colab notebook\")\n",
    "\n",
    "    import numpy # crucial to not get cursed error\n",
    "    import plotly\n",
    "\n",
    "    plotly.io.renderers.default = \"colab\"  # added by Arthur so running as a .py notebook with #%% generates .ipynb notebooks that display in colab\n",
    "    # disable this option when developing rather than generating notebook outputs\n",
    "\n",
    "    from IPython import get_ipython\n",
    "\n",
    "    ipython = get_ipython()\n",
    "    if ipython is not None:\n",
    "        print(\"Running as a notebook\")\n",
    "        ipython.run_line_magic(\"load_ext\", \"autoreload\")  # type: ignore\n",
    "        ipython.run_line_magic(\"autoreload\", \"2\")  # type: ignore\n",
    "    else:\n",
    "        print(\"Running as a .py script\")"
   ]
  },
  {
   "cell_type": "markdown",
   "id": "e51b974f",
   "metadata": {
    "papermill": {
     "duration": 0.006305,
     "end_time": "2023-08-14T00:34:24.693896",
     "exception": false,
     "start_time": "2023-08-14T00:34:24.687591",
     "status": "completed"
    },
    "tags": []
   },
   "source": [
    "<h2>Imports etc</h2>"
   ]
  },
  {
   "cell_type": "code",
   "execution_count": 2,
   "id": "6cdf21fb",
   "metadata": {
    "execution": {
     "iopub.execute_input": "2023-08-14T00:34:24.698582Z",
     "iopub.status.busy": "2023-08-14T00:34:24.698456Z",
     "iopub.status.idle": "2023-08-14T00:34:26.660592Z",
     "shell.execute_reply": "2023-08-14T00:34:26.660115Z"
    },
    "papermill": {
     "duration": 1.965633,
     "end_time": "2023-08-14T00:34:26.661625",
     "exception": false,
     "start_time": "2023-08-14T00:34:24.695992",
     "status": "completed"
    },
    "tags": []
   },
   "outputs": [],
   "source": [
    "\n",
    "from transformer_lens.HookedTransformer import HookedTransformer\n",
    "from acdc.TLACDCExperiment import TLACDCExperiment\n",
    "from acdc.induction.utils import get_all_induction_things\n",
    "from acdc.acdc_utils import TorchIndex\n",
    "import torch\n",
    "import gc"
   ]
  },
  {
   "cell_type": "markdown",
   "id": "7af97eb7",
   "metadata": {
    "papermill": {
     "duration": 0.006153,
     "end_time": "2023-08-14T00:34:26.670141",
     "exception": false,
     "start_time": "2023-08-14T00:34:26.663988",
     "status": "completed"
    },
    "tags": []
   },
   "source": [
    "<h2>Load in the model and data for the induction task"
   ]
  },
  {
   "cell_type": "code",
   "execution_count": 3,
   "id": "63c2f0fb",
   "metadata": {
    "execution": {
     "iopub.execute_input": "2023-08-14T00:34:26.679820Z",
     "iopub.status.busy": "2023-08-14T00:34:26.679367Z",
     "iopub.status.idle": "2023-08-14T00:34:29.201360Z",
     "shell.execute_reply": "2023-08-14T00:34:29.200882Z"
    },
    "papermill": {
     "duration": 2.526584,
     "end_time": "2023-08-14T00:34:29.203065",
     "exception": false,
     "start_time": "2023-08-14T00:34:26.676481",
     "status": "completed"
    },
    "tags": []
   },
   "outputs": [
    {
     "name": "stderr",
     "output_type": "stream",
     "text": [
      "Special tokens have been added in the vocabulary, make sure the associated word embeddings are fine-tuned or trained.\n"
     ]
    },
    {
     "name": "stdout",
     "output_type": "stream",
     "text": [
      "Loaded pretrained model redwood_attn_2l into HookedTransformer\n"
     ]
    }
   ],
   "source": [
    "DEVICE = \"cuda\" if torch.cuda.is_available() else \"cpu\"\n",
    "num_examples = 40\n",
    "seq_len = 50\n",
    "\n",
    "# load in a tl_model and grab some data\n",
    "all_induction_things = get_all_induction_things(\n",
    "    num_examples=num_examples,\n",
    "    seq_len=seq_len,\n",
    "    device=DEVICE,\n",
    ")\n",
    "\n",
    "tl_model, toks_int_values, toks_int_values_other, metric, mask_rep = (\n",
    "    all_induction_things.tl_model,\n",
    "    all_induction_things.validation_data,\n",
    "    all_induction_things.validation_patch_data,\n",
    "    all_induction_things.validation_metric,\n",
    "    all_induction_things.validation_mask,\n",
    ")\n",
    "\n",
    "# You should read the get_model function from that file to see what the tl_model is : )"
   ]
  },
  {
   "cell_type": "markdown",
   "id": "679c31a1",
   "metadata": {
    "papermill": {
     "duration": 0.006104,
     "end_time": "2023-08-14T00:34:29.213697",
     "exception": false,
     "start_time": "2023-08-14T00:34:29.207593",
     "status": "completed"
    },
    "tags": []
   },
   "source": [
    "<p>Ensure we stay under mem limit on small machines</p>"
   ]
  },
  {
   "cell_type": "code",
   "execution_count": 4,
   "id": "311a6884",
   "metadata": {
    "execution": {
     "iopub.execute_input": "2023-08-14T00:34:29.218723Z",
     "iopub.status.busy": "2023-08-14T00:34:29.218528Z",
     "iopub.status.idle": "2023-08-14T00:34:29.331361Z",
     "shell.execute_reply": "2023-08-14T00:34:29.330881Z"
    },
    "papermill": {
     "duration": 0.117202,
     "end_time": "2023-08-14T00:34:29.333020",
     "exception": false,
     "start_time": "2023-08-14T00:34:29.215818",
     "status": "completed"
    },
    "tags": []
   },
   "outputs": [],
   "source": [
    "gc.collect()\n",
    "torch.cuda.empty_cache()"
   ]
  },
  {
   "cell_type": "markdown",
   "id": "a356f2cf",
   "metadata": {
    "papermill": {
     "duration": 0.006447,
     "end_time": "2023-08-14T00:34:29.343928",
     "exception": false,
     "start_time": "2023-08-14T00:34:29.337481",
     "status": "completed"
    },
    "tags": []
   },
   "source": [
    "<p>Let's see an example from the dataset.</p>\n",
    "<p> `|` separates tokens </p>"
   ]
  },
  {
   "cell_type": "code",
   "execution_count": 5,
   "id": "bd7c0466",
   "metadata": {
    "execution": {
     "iopub.execute_input": "2023-08-14T00:34:29.354093Z",
     "iopub.status.busy": "2023-08-14T00:34:29.353836Z",
     "iopub.status.idle": "2023-08-14T00:34:29.379282Z",
     "shell.execute_reply": "2023-08-14T00:34:29.378849Z"
    },
    "papermill": {
     "duration": 0.030397,
     "end_time": "2023-08-14T00:34:29.380539",
     "exception": false,
     "start_time": "2023-08-14T00:34:29.350142",
     "status": "completed"
    },
    "tags": []
   },
   "outputs": [
    {
     "name": "stdout",
     "output_type": "stream",
     "text": [
      "[END]| State|ful| comput|ations| in| F|#| with| update| mon|ads|\n",
      "|\n",
      "|Most| discussions| about| mon|ads|,| even| in| F|#|,| start| by| looking| at| the| well|-|known| standard| mon|ads\n"
     ]
    }
   ],
   "source": [
    "EXAMPLE_NO = 33\n",
    "EXAMPLE_LENGTH = 36\n",
    "\n",
    "print(\n",
    "    \"|\".join(tl_model.to_str_tokens(toks_int_values[EXAMPLE_NO, :EXAMPLE_LENGTH])),\n",
    ")"
   ]
  },
  {
   "cell_type": "markdown",
   "id": "d135c372",
   "metadata": {
    "papermill": {
     "duration": 0.002635,
     "end_time": "2023-08-14T00:34:29.387357",
     "exception": false,
     "start_time": "2023-08-14T00:34:29.384722",
     "status": "completed"
    },
    "tags": []
   },
   "source": [
    "<p>This dataset has several examples of induction! F -> #, mon -> ads</p>\n",
    "<p>The `mask_rep` mask is a boolean mask of shape `(num_examples, seq_len)` that indicates where induction is present in the dataset</p>\n",
    "<p> Let's see "
   ]
  },
  {
   "cell_type": "code",
   "execution_count": 6,
   "id": "9afadcda",
   "metadata": {
    "execution": {
     "iopub.execute_input": "2023-08-14T00:34:29.392401Z",
     "iopub.status.busy": "2023-08-14T00:34:29.392207Z",
     "iopub.status.idle": "2023-08-14T00:34:29.414177Z",
     "shell.execute_reply": "2023-08-14T00:34:29.413752Z"
    },
    "lines_to_next_cell": 1,
    "papermill": {
     "duration": 0.025914,
     "end_time": "2023-08-14T00:34:29.415421",
     "exception": false,
     "start_time": "2023-08-14T00:34:29.389507",
     "status": "completed"
    },
    "tags": []
   },
   "outputs": [
    {
     "name": "stdout",
     "output_type": "stream",
     "text": [
      "At position 17 there is induction\n",
      "[' mon']\n",
      "At position 22 there is induction\n",
      "[' F']\n",
      "At position 34 there is induction\n",
      "[' mon']\n"
     ]
    }
   ],
   "source": [
    "for i in range(EXAMPLE_LENGTH):\n",
    "    if mask_rep[EXAMPLE_NO, i]:\n",
    "        print(f\"At position {i} there is induction\")\n",
    "        print(tl_model.to_str_tokens(toks_int_values[EXAMPLE_NO:EXAMPLE_NO+1, i : i + 1]))"
   ]
  },
  {
   "cell_type": "markdown",
   "id": "1f25c844",
   "metadata": {
    "papermill": {
     "duration": 0.002253,
     "end_time": "2023-08-14T00:34:29.437485",
     "exception": false,
     "start_time": "2023-08-14T00:34:29.435232",
     "status": "completed"
    },
    "tags": []
   },
   "source": [
    "<p>Let's get the initial loss on the induction examples</p>"
   ]
  },
  {
   "cell_type": "code",
   "execution_count": 7,
   "id": "2fafb1fd",
   "metadata": {
    "execution": {
     "iopub.execute_input": "2023-08-14T00:34:29.443287Z",
     "iopub.status.busy": "2023-08-14T00:34:29.443033Z",
     "iopub.status.idle": "2023-08-14T00:34:29.476692Z",
     "shell.execute_reply": "2023-08-14T00:34:29.476246Z"
    },
    "papermill": {
     "duration": 0.03807,
     "end_time": "2023-08-14T00:34:29.477953",
     "exception": false,
     "start_time": "2023-08-14T00:34:29.439883",
     "status": "completed"
    },
    "tags": []
   },
   "outputs": [
    {
     "name": "stdout",
     "output_type": "stream",
     "text": [
      "Loss: 0.44509872794151306\n"
     ]
    }
   ],
   "source": [
    "def get_loss(model, data, mask):\n",
    "    loss = model(\n",
    "        data,\n",
    "        return_type=\"loss\",\n",
    "        loss_per_token=True,\n",
    "    )\n",
    "    return (loss * mask[:, :-1].int()).sum() / mask[:, :-1].int().sum()\n",
    "\n",
    "\n",
    "print(f\"Loss: {get_loss(tl_model, toks_int_values, mask_rep)}\")"
   ]
  },
  {
   "cell_type": "markdown",
   "id": "58bbb3b9",
   "metadata": {
    "papermill": {
     "duration": 0.002236,
     "end_time": "2023-08-14T00:34:29.484269",
     "exception": false,
     "start_time": "2023-08-14T00:34:29.482033",
     "status": "completed"
    },
    "tags": []
   },
   "source": [
    "<p>We will now wrap ACDC things inside an `experiment`for further experiments</p>\n",
    "<p>For more advanced usage of the `TLACDCExperiment` object (the main object in this codebase), see the README for links to the `main.py` and its demos</p>"
   ]
  },
  {
   "cell_type": "code",
   "execution_count": 8,
   "id": "1d978315",
   "metadata": {
    "execution": {
     "iopub.execute_input": "2023-08-14T00:34:29.489652Z",
     "iopub.status.busy": "2023-08-14T00:34:29.489459Z",
     "iopub.status.idle": "2023-08-14T00:34:30.512247Z",
     "shell.execute_reply": "2023-08-14T00:34:30.511817Z"
    },
    "papermill": {
     "duration": 1.027031,
     "end_time": "2023-08-14T00:34:30.513622",
     "exception": false,
     "start_time": "2023-08-14T00:34:29.486591",
     "status": "completed"
    },
    "tags": []
   },
   "outputs": [
    {
     "name": "stderr",
     "output_type": "stream",
     "text": [
      "WARNING:root:cache_all is deprecated and will eventually be removed, use add_caching_hooks or run_with_cache\n"
     ]
    },
    {
     "name": "stderr",
     "output_type": "stream",
     "text": [
      "WARNING:root:cache_all is deprecated and will eventually be removed, use add_caching_hooks or run_with_cache\n"
     ]
    },
    {
     "name": "stdout",
     "output_type": "stream",
     "text": [
      "ln_final.hook_normalized\n",
      "ln_final.hook_scale\n",
      "blocks.1.hook_resid_post\n",
      "blocks.1.hook_attn_out\n",
      "blocks.1.attn.hook_result\n",
      "blocks.1.attn.hook_z\n",
      "blocks.1.attn.hook_pattern\n",
      "blocks.1.attn.hook_attn_scores\n",
      "blocks.1.attn.hook_v\n",
      "blocks.1.attn.hook_k\n",
      "blocks.1.attn.hook_q\n",
      "blocks.1.ln1.hook_normalized\n",
      "blocks.1.ln1.hook_scale\n",
      "blocks.1.hook_v_input\n",
      "blocks.1.hook_k_input\n",
      "blocks.1.hook_q_input\n",
      "blocks.1.hook_resid_pre\n",
      "blocks.0.hook_resid_post\n",
      "blocks.0.hook_attn_out\n",
      "blocks.0.attn.hook_result\n",
      "blocks.0.attn.hook_z\n",
      "blocks.0.attn.hook_pattern\n",
      "blocks.0.attn.hook_attn_scores\n",
      "blocks.0.attn.hook_v\n",
      "blocks.0.attn.hook_k\n",
      "blocks.0.attn.hook_q\n",
      "blocks.0.ln1.hook_normalized\n",
      "blocks.0.ln1.hook_scale\n",
      "blocks.0.hook_v_input\n",
      "blocks.0.hook_k_input\n",
      "blocks.0.hook_q_input\n",
      "blocks.0.hook_resid_pre\n",
      "hook_pos_embed\n",
      "hook_embed\n",
      "self.current_node=TLACDCInterpNode(blocks.1.hook_resid_post, [:])\n"
     ]
    }
   ],
   "source": [
    "experiment = TLACDCExperiment(\n",
    "    model=tl_model,\n",
    "    threshold=0.0,\n",
    "    ds=toks_int_values,\n",
    "    ref_ds=None,  # This argument is the corrupted dataset from the ACDC paper. We're going to do zero ablation here so we omit this\n",
    "    metric=metric,\n",
    "    zero_ablation=True,\n",
    "    hook_verbose=False,\n",
    ")"
   ]
  },
  {
   "cell_type": "markdown",
   "id": "1e6fede1",
   "metadata": {
    "papermill": {
     "duration": 0.006064,
     "end_time": "2023-08-14T00:34:30.524570",
     "exception": false,
     "start_time": "2023-08-14T00:34:30.518506",
     "status": "completed"
    },
    "tags": []
   },
   "source": [
    "\n",
    "<p>Usually, the `TLACDCExperiment` efficiently add hooks to the model in order to do ACDC runs fast.</p>\n",
    "<p>For this tutorial, we'll add <b>ALL</b> the hooks so you can edit connections in the model as easily as possible.</p>"
   ]
  },
  {
   "cell_type": "code",
   "execution_count": 9,
   "id": "c6709977",
   "metadata": {
    "execution": {
     "iopub.execute_input": "2023-08-14T00:34:30.534408Z",
     "iopub.status.busy": "2023-08-14T00:34:30.534204Z",
     "iopub.status.idle": "2023-08-14T00:34:30.562548Z",
     "shell.execute_reply": "2023-08-14T00:34:30.562128Z"
    },
    "papermill": {
     "duration": 0.036507,
     "end_time": "2023-08-14T00:34:30.563763",
     "exception": false,
     "start_time": "2023-08-14T00:34:30.527256",
     "status": "completed"
    },
    "tags": []
   },
   "outputs": [],
   "source": [
    "experiment.model.reset_hooks()\n",
    "experiment.setup_model_hooks(\n",
    "    add_sender_hooks=True,\n",
    "    add_receiver_hooks=True,\n",
    "    doing_acdc_runs=False,\n",
    ")"
   ]
  },
  {
   "cell_type": "markdown",
   "id": "3a4fe737",
   "metadata": {
    "papermill": {
     "duration": 0.002777,
     "end_time": "2023-08-14T00:34:30.571465",
     "exception": false,
     "start_time": "2023-08-14T00:34:30.568688",
     "status": "completed"
    },
    "tags": []
   },
   "source": [
    "Let's take a look at the edges"
   ]
  },
  {
   "cell_type": "code",
   "execution_count": 10,
   "id": "8ac25a78",
   "metadata": {
    "execution": {
     "iopub.execute_input": "2023-08-14T00:34:30.577104Z",
     "iopub.status.busy": "2023-08-14T00:34:30.576929Z",
     "iopub.status.idle": "2023-08-14T00:34:30.600476Z",
     "shell.execute_reply": "2023-08-14T00:34:30.600077Z"
    },
    "lines_to_next_cell": 1,
    "papermill": {
     "duration": 0.027828,
     "end_time": "2023-08-14T00:34:30.601701",
     "exception": false,
     "start_time": "2023-08-14T00:34:30.573873",
     "status": "completed"
    },
    "tags": []
   },
   "outputs": [],
   "source": [
    "for edge_indices, edge in experiment.corr.all_edges().items():\n",
    "    # here's what's inside the edge\n",
    "    receiver_name, receiver_index, sender_name, sender_index = edge_indices\n",
    "\n",
    "    # for now, all edges should be present\n",
    "    assert edge.present, edge_indices"
   ]
  },
  {
   "cell_type": "markdown",
   "id": "8d0bf72f",
   "metadata": {
    "papermill": {
     "duration": 0.004041,
     "end_time": "2023-08-14T00:34:30.610387",
     "exception": false,
     "start_time": "2023-08-14T00:34:30.606346",
     "status": "completed"
    },
    "tags": []
   },
   "source": [
    "<p>Let's make a function that's able to turn off all the connections from the nodes to the output, except the induction head (1.5 and 1.6)</p>\n",
    "<p>(we'll later turn ON all connections EXCEPT the induction heads)</p>"
   ]
  },
  {
   "cell_type": "code",
   "execution_count": 11,
   "id": "948404a8",
   "metadata": {
    "execution": {
     "iopub.execute_input": "2023-08-14T00:34:30.616076Z",
     "iopub.status.busy": "2023-08-14T00:34:30.615874Z",
     "iopub.status.idle": "2023-08-14T00:34:31.332645Z",
     "shell.execute_reply": "2023-08-14T00:34:31.332177Z"
    },
    "papermill": {
     "duration": 0.721124,
     "end_time": "2023-08-14T00:34:31.333952",
     "exception": false,
     "start_time": "2023-08-14T00:34:30.612828",
     "status": "completed"
    },
    "tags": []
   },
   "outputs": [
    {
     "name": "stdout",
     "output_type": "stream",
     "text": [
      "Adding edge from blocks.1.attn.hook_result [:, :, 7] to blocks.1.hook_resid_post [:]\n",
      "Removing edge from blocks.1.attn.hook_result [:, :, 6] to blocks.1.hook_resid_post [:]\n",
      "Removing edge from blocks.1.attn.hook_result [:, :, 5] to blocks.1.hook_resid_post [:]\n",
      "Adding edge from blocks.1.attn.hook_result [:, :, 4] to blocks.1.hook_resid_post [:]\n",
      "Adding edge from blocks.1.attn.hook_result [:, :, 3] to blocks.1.hook_resid_post [:]\n",
      "Adding edge from blocks.1.attn.hook_result [:, :, 2] to blocks.1.hook_resid_post [:]\n",
      "Adding edge from blocks.1.attn.hook_result [:, :, 1] to blocks.1.hook_resid_post [:]\n",
      "Adding edge from blocks.1.attn.hook_result [:, :, 0] to blocks.1.hook_resid_post [:]\n",
      "Adding edge from blocks.0.attn.hook_result [:, :, 7] to blocks.1.hook_resid_post [:]\n",
      "Adding edge from blocks.0.attn.hook_result [:, :, 6] to blocks.1.hook_resid_post [:]\n",
      "Adding edge from blocks.0.attn.hook_result [:, :, 5] to blocks.1.hook_resid_post [:]\n",
      "Adding edge from blocks.0.attn.hook_result [:, :, 4] to blocks.1.hook_resid_post [:]\n",
      "Adding edge from blocks.0.attn.hook_result [:, :, 3] to blocks.1.hook_resid_post [:]\n",
      "Adding edge from blocks.0.attn.hook_result [:, :, 2] to blocks.1.hook_resid_post [:]\n",
      "Adding edge from blocks.0.attn.hook_result [:, :, 1] to blocks.1.hook_resid_post [:]\n",
      "Adding edge from blocks.0.attn.hook_result [:, :, 0] to blocks.1.hook_resid_post [:]\n",
      "Adding edge from blocks.0.hook_resid_pre [:] to blocks.1.hook_resid_post [:]\n"
     ]
    },
    {
     "name": "stdout",
     "output_type": "stream",
     "text": [
      "Loss with only the induction head direct connections: 0.7248066067695618\n"
     ]
    }
   ],
   "source": [
    "def change_direct_output_connections(exp, invert=False):\n",
    "    residual_stream_end_name = \"blocks.1.hook_resid_post\"\n",
    "    residual_stream_end_index = TorchIndex([None])\n",
    "    induction_heads = [\n",
    "        (\"blocks.1.attn.hook_result\", TorchIndex([None, None, 5])),\n",
    "        (\"blocks.1.attn.hook_result\", TorchIndex([None, None, 6])),\n",
    "    ]\n",
    "\n",
    "    inputs_to_residual_stream_end = exp.corr.edges[residual_stream_end_name][\n",
    "        residual_stream_end_index\n",
    "    ]\n",
    "    for sender_name in inputs_to_residual_stream_end:\n",
    "        for sender_index in inputs_to_residual_stream_end[sender_name]:\n",
    "            edge = inputs_to_residual_stream_end[sender_name][sender_index]\n",
    "            is_induction_head = (sender_name, sender_index) in induction_heads\n",
    "\n",
    "            if is_induction_head:\n",
    "                edge.present = not invert\n",
    "\n",
    "            else:\n",
    "                edge.present = invert\n",
    "\n",
    "            print(\n",
    "                f\"{'Adding' if (invert == is_induction_head) else 'Removing'} edge from {sender_name} {sender_index} to {residual_stream_end_name} {residual_stream_end_index}\"\n",
    "            )\n",
    "\n",
    "\n",
    "change_direct_output_connections(experiment)\n",
    "print(\n",
    "    \"Loss with only the induction head direct connections:\",\n",
    "    get_loss(experiment.model, toks_int_values, mask_rep).item(),\n",
    ")"
   ]
  },
  {
   "cell_type": "markdown",
   "id": "de351960",
   "metadata": {
    "papermill": {
     "duration": 0.006002,
     "end_time": "2023-08-14T00:34:31.345148",
     "exception": false,
     "start_time": "2023-08-14T00:34:31.339146",
     "status": "completed"
    },
    "tags": []
   },
   "source": [
    "<p>Let's turn ON all the connections EXCEPT the induction heads</p>"
   ]
  },
  {
   "cell_type": "code",
   "execution_count": 12,
   "id": "a5ca348d",
   "metadata": {
    "execution": {
     "iopub.execute_input": "2023-08-14T00:34:31.355041Z",
     "iopub.status.busy": "2023-08-14T00:34:31.354835Z",
     "iopub.status.idle": "2023-08-14T00:34:31.909627Z",
     "shell.execute_reply": "2023-08-14T00:34:31.909142Z"
    },
    "papermill": {
     "duration": 0.563006,
     "end_time": "2023-08-14T00:34:31.910943",
     "exception": false,
     "start_time": "2023-08-14T00:34:31.347937",
     "status": "completed"
    },
    "tags": []
   },
   "outputs": [
    {
     "name": "stdout",
     "output_type": "stream",
     "text": [
      "Removing edge from blocks.1.attn.hook_result [:, :, 7] to blocks.1.hook_resid_post [:]\n",
      "Adding edge from blocks.1.attn.hook_result [:, :, 6] to blocks.1.hook_resid_post [:]\n",
      "Adding edge from blocks.1.attn.hook_result [:, :, 5] to blocks.1.hook_resid_post [:]\n",
      "Removing edge from blocks.1.attn.hook_result [:, :, 4] to blocks.1.hook_resid_post [:]\n",
      "Removing edge from blocks.1.attn.hook_result [:, :, 3] to blocks.1.hook_resid_post [:]\n",
      "Removing edge from blocks.1.attn.hook_result [:, :, 2] to blocks.1.hook_resid_post [:]\n",
      "Removing edge from blocks.1.attn.hook_result [:, :, 1] to blocks.1.hook_resid_post [:]\n",
      "Removing edge from blocks.1.attn.hook_result [:, :, 0] to blocks.1.hook_resid_post [:]\n",
      "Removing edge from blocks.0.attn.hook_result [:, :, 7] to blocks.1.hook_resid_post [:]\n",
      "Removing edge from blocks.0.attn.hook_result [:, :, 6] to blocks.1.hook_resid_post [:]\n",
      "Removing edge from blocks.0.attn.hook_result [:, :, 5] to blocks.1.hook_resid_post [:]\n",
      "Removing edge from blocks.0.attn.hook_result [:, :, 4] to blocks.1.hook_resid_post [:]\n",
      "Removing edge from blocks.0.attn.hook_result [:, :, 3] to blocks.1.hook_resid_post [:]\n",
      "Removing edge from blocks.0.attn.hook_result [:, :, 2] to blocks.1.hook_resid_post [:]\n",
      "Removing edge from blocks.0.attn.hook_result [:, :, 1] to blocks.1.hook_resid_post [:]\n",
      "Removing edge from blocks.0.attn.hook_result [:, :, 0] to blocks.1.hook_resid_post [:]\n",
      "Removing edge from blocks.0.hook_resid_pre [:] to blocks.1.hook_resid_post [:]\n"
     ]
    },
    {
     "name": "stdout",
     "output_type": "stream",
     "text": [
      "Loss without the induction head direct connections: 3.719449281692505\n"
     ]
    }
   ],
   "source": [
    "change_direct_output_connections(experiment, invert=True)\n",
    "print(\n",
    "    \"Loss without the induction head direct connections:\",\n",
    "    get_loss(experiment.model, toks_int_values, mask_rep).item(),\n",
    ")"
   ]
  },
  {
   "cell_type": "markdown",
   "id": "3d630fed",
   "metadata": {
    "papermill": {
     "duration": 0.006155,
     "end_time": "2023-08-14T00:34:31.922527",
     "exception": false,
     "start_time": "2023-08-14T00:34:31.916372",
     "status": "completed"
    },
    "tags": []
   },
   "source": [
    "<p>That's much larger!</p>\n",
    "<p>See acdc/main.py for how to run ACDC experiments; try `python acdc/main.py --help` or check the README for the links to this file</p>"
   ]
  }
 ],
 "metadata": {
  "jupytext": {
   "cell_metadata_filter": "-all",
   "main_language": "python",
   "notebook_metadata_filter": "-all"
  },
  "language_info": {
   "codemirror_mode": {
    "name": "ipython",
    "version": 3
   },
   "file_extension": ".py",
   "mimetype": "text/x-python",
   "name": "python",
   "nbconvert_exporter": "python",
   "pygments_lexer": "ipython3",
   "version": "3.10.12"
  },
  "papermill": {
   "default_parameters": {},
   "duration": 8.755509,
   "end_time": "2023-08-14T00:34:32.641667",
   "environment_variables": {},
   "exception": null,
   "input_path": "notebooks/_converted/editing_edges.ipynb",
   "output_path": "notebooks/colabs/ACDC_Editing_Edges_Demo.ipynb",
   "parameters": {},
   "start_time": "2023-08-14T00:34:23.886158",
   "version": "2.4.0"
  }
 },
 "nbformat": 4,
 "nbformat_minor": 5
}