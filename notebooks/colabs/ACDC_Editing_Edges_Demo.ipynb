{
 "cells": [
  {
   "cell_type": "markdown",
   "id": "e4049872",
   "metadata": {
    "papermill": {
     "duration": 0.007685,
     "end_time": "2023-06-06T21:11:45.271702",
     "exception": false,
     "start_time": "2023-06-06T21:11:45.264017",
     "status": "completed"
    },
    "tags": []
   },
   "source": [
    "<h1>ACDC Editing Edges Demo</h1>\n",
    "\n",
    "<p>This notebook gives a high-level overview of the main abstractions used in the ACDC codebase.</p>\n",
    "\n",
    "<p>If you are interested in models that are >10x the size of GPT-2 small, this library currently may be too slow and we would recommend you look at the path patching implementations in `TransformerLens` (forthcoming)</p>\n",
    "\n",
    "<h3>Setup</h2>\n",
    "\n",
    "<p>Janky code to do different setup when run in a Colab notebook vs VSCode (adapted from e.g <a href=\"https://github.com/neelnanda-io/TransformerLens/blob/5c89b7583e73ce96db5e46ef86a14b15f303dde6/demos/Activation_Patching_in_TL_Demo.ipynb\">this notebook</a>)</p>"
   ]
  },
  {
   "cell_type": "code",
   "execution_count": 1,
   "id": "c7354b8b",
   "metadata": {
    "execution": {
     "iopub.execute_input": "2023-06-06T21:11:45.282870Z",
     "iopub.status.busy": "2023-06-06T21:11:45.282243Z",
     "iopub.status.idle": "2023-06-06T21:11:45.494948Z",
     "shell.execute_reply": "2023-06-06T21:11:45.494007Z"
    },
    "lines_to_next_cell": 2,
    "papermill": {
     "duration": 0.21911,
     "end_time": "2023-06-06T21:11:45.496235",
     "exception": false,
     "start_time": "2023-06-06T21:11:45.277125",
     "status": "completed"
    },
    "tags": []
   },
   "outputs": [
    {
     "name": "stdout",
     "output_type": "stream",
     "text": [
      "Running as a Jupyter notebook - intended for development only! (This is also used for automatically generating notebook outputs)\n"
     ]
    }
   ],
   "source": [
    "\n",
    "try:\n",
    "    import google.colab\n",
    "\n",
    "    IN_COLAB = True\n",
    "    print(\"Running as a Colab notebook\")\n",
    "\n",
    "    from IPython import get_ipython\n",
    "\n",
    "    ipython = get_ipython()\n",
    "    ipython.run_line_magic(\n",
    "        \"pip\",\n",
    "        \"install git+https://github.com/neelnanda-io/TransformerLens.git\", \n",
    "    )\n",
    "    ipython.run_line_magic(\n",
    "        \"pip\",\n",
    "        \"install git+https://github.com/ArthurConmy/Automatic-Circuit-Discovery.git\", # install ACDC\n",
    "    )\n",
    "    ipython.run_line_magic(\"pip\", \"install torchtyping cmapy\")\n",
    "\n",
    "except Exception as e:\n",
    "    IN_COLAB = False\n",
    "    print(\n",
    "        \"Running as a Jupyter notebook - intended for development only! (This is also used for automatically generating notebook outputs)\"\n",
    "    )\n",
    "\n",
    "    import numpy # crucial to not get cursed error\n",
    "    import plotly\n",
    "\n",
    "    plotly.io.renderers.default = \"colab\"  # added by Arthur so running as a .py notebook with #%% generates .ipynb notebooks that display in colab\n",
    "    # disable this option when developing rather than generating notebook outputs\n",
    "\n",
    "    from IPython import get_ipython\n",
    "\n",
    "    ipython = get_ipython()\n",
    "    if ipython is not None:\n",
    "        ipython.run_line_magic(\"load_ext\", \"autoreload\")  # type: ignore\n",
    "        ipython.run_line_magic(\"autoreload\", \"2\")  # type: ignore"
   ]
  },
  {
   "cell_type": "markdown",
   "id": "1dc9b124",
   "metadata": {
    "papermill": {
     "duration": 0.003074,
     "end_time": "2023-06-06T21:11:45.502929",
     "exception": false,
     "start_time": "2023-06-06T21:11:45.499855",
     "status": "completed"
    },
    "tags": []
   },
   "source": [
    "<h2>Imports etc</h2>"
   ]
  },
  {
   "cell_type": "code",
   "execution_count": 2,
   "id": "32346eff",
   "metadata": {
    "execution": {
     "iopub.execute_input": "2023-06-06T21:11:45.511046Z",
     "iopub.status.busy": "2023-06-06T21:11:45.510605Z",
     "iopub.status.idle": "2023-06-06T21:11:48.029892Z",
     "shell.execute_reply": "2023-06-06T21:11:48.028847Z"
    },
    "papermill": {
     "duration": 2.526397,
     "end_time": "2023-06-06T21:11:48.032451",
     "exception": false,
     "start_time": "2023-06-06T21:11:45.506054",
     "status": "completed"
    },
    "tags": []
   },
   "outputs": [],
   "source": [
    "\n",
    "from transformer_lens.HookedTransformer import HookedTransformer\n",
    "from acdc.TLACDCExperiment import TLACDCExperiment\n",
    "from acdc.induction.utils import get_all_induction_things\n",
    "from acdc.acdc_utils import TorchIndex\n",
    "import torch\n",
    "import gc"
   ]
  },
  {
   "cell_type": "markdown",
   "id": "6bd5073c",
   "metadata": {
    "papermill": {
     "duration": 0.00527,
     "end_time": "2023-06-06T21:11:48.044890",
     "exception": false,
     "start_time": "2023-06-06T21:11:48.039620",
     "status": "completed"
    },
    "tags": []
   },
   "source": [
    "<h2>Load in the model and data for the induction task"
   ]
  },
  {
   "cell_type": "code",
   "execution_count": 3,
   "id": "38266fd3",
   "metadata": {
    "execution": {
     "iopub.execute_input": "2023-06-06T21:11:48.054203Z",
     "iopub.status.busy": "2023-06-06T21:11:48.053792Z",
     "iopub.status.idle": "2023-06-06T21:11:52.174769Z",
     "shell.execute_reply": "2023-06-06T21:11:52.173795Z"
    },
    "papermill": {
     "duration": 4.128842,
     "end_time": "2023-06-06T21:11:52.177281",
     "exception": false,
     "start_time": "2023-06-06T21:11:48.048439",
     "status": "completed"
    },
    "tags": []
   },
   "outputs": [
    {
     "name": "stderr",
     "output_type": "stream",
     "text": [
      "Special tokens have been added in the vocabulary, make sure the associated word embeddings are fine-tuned or trained.\n"
     ]
    },
    {
     "name": "stdout",
     "output_type": "stream",
     "text": [
      "Loaded pretrained model redwood_attn_2l into HookedTransformer\n"
     ]
    }
   ],
   "source": [
    "num_examples = 40\n",
    "seq_len = 300\n",
    "\n",
    "# load in a tl_model and grab some data\n",
    "all_induction_things = get_all_induction_things(\n",
    "    num_examples=num_examples,\n",
    "    seq_len=seq_len,\n",
    "    device=\"cuda\",\n",
    ")\n",
    "\n",
    "tl_model, toks_int_values, toks_int_values_other, metric, mask_rep = (\n",
    "    all_induction_things.tl_model,\n",
    "    all_induction_things.validation_data,\n",
    "    all_induction_things.validation_patch_data,\n",
    "    all_induction_things.validation_metric,\n",
    "    all_induction_things.validation_mask,\n",
    ")\n",
    "\n",
    "# You should read the get_model function from that file to see what the tl_model is : )"
   ]
  },
  {
   "cell_type": "markdown",
   "id": "2cd905f5",
   "metadata": {
    "papermill": {
     "duration": 0.005017,
     "end_time": "2023-06-06T21:11:52.191483",
     "exception": false,
     "start_time": "2023-06-06T21:11:52.186466",
     "status": "completed"
    },
    "tags": []
   },
   "source": [
    "<p>Ensure we stay under mem limit on small machines</p>"
   ]
  },
  {
   "cell_type": "code",
   "execution_count": 4,
   "id": "52ff87f2",
   "metadata": {
    "execution": {
     "iopub.execute_input": "2023-06-06T21:11:52.199444Z",
     "iopub.status.busy": "2023-06-06T21:11:52.199096Z",
     "iopub.status.idle": "2023-06-06T21:11:52.446842Z",
     "shell.execute_reply": "2023-06-06T21:11:52.445687Z"
    },
    "papermill": {
     "duration": 0.254718,
     "end_time": "2023-06-06T21:11:52.449396",
     "exception": false,
     "start_time": "2023-06-06T21:11:52.194678",
     "status": "completed"
    },
    "tags": []
   },
   "outputs": [],
   "source": [
    "gc.collect()\n",
    "torch.cuda.empty_cache()"
   ]
  },
  {
   "cell_type": "markdown",
   "id": "ef7a9e0c",
   "metadata": {
    "papermill": {
     "duration": 0.004647,
     "end_time": "2023-06-06T21:11:52.461870",
     "exception": false,
     "start_time": "2023-06-06T21:11:52.457223",
     "status": "completed"
    },
    "tags": []
   },
   "source": [
    "<p>Let's see an example from the dataset.</p>\n",
    "<p> `|` separates tokens </p>"
   ]
  },
  {
   "cell_type": "code",
   "execution_count": 5,
   "id": "0f2a9dd3",
   "metadata": {
    "execution": {
     "iopub.execute_input": "2023-06-06T21:11:52.470528Z",
     "iopub.status.busy": "2023-06-06T21:11:52.469659Z",
     "iopub.status.idle": "2023-06-06T21:11:52.510195Z",
     "shell.execute_reply": "2023-06-06T21:11:52.509279Z"
    },
    "papermill": {
     "duration": 0.047355,
     "end_time": "2023-06-06T21:11:52.512534",
     "exception": false,
     "start_time": "2023-06-06T21:11:52.465179",
     "status": "completed"
    },
    "tags": []
   },
   "outputs": [
    {
     "name": "stdout",
     "output_type": "stream",
     "text": [
      "[END]| State|ful| comput|ations| in| F|#| with| update| mon|ads|\n",
      "|\n",
      "|Most| discussions| about| mon|ads|,| even| in| F|#|,| start| by| looking| at| the| well|-|known| standard| mon|ads\n"
     ]
    }
   ],
   "source": [
    "EXAMPLE_NO = 33\n",
    "EXAMPLE_LENGTH = 36\n",
    "\n",
    "print(\n",
    "    \"|\".join(tl_model.to_str_tokens(toks_int_values[EXAMPLE_NO, :EXAMPLE_LENGTH])),\n",
    ")"
   ]
  },
  {
   "cell_type": "markdown",
   "id": "8fa2d917",
   "metadata": {
    "papermill": {
     "duration": 0.003379,
     "end_time": "2023-06-06T21:11:52.523081",
     "exception": false,
     "start_time": "2023-06-06T21:11:52.519702",
     "status": "completed"
    },
    "tags": []
   },
   "source": [
    "<p>This dataset has several examples of induction! F -> #, mon -> ads</p>\n",
    "<p>The `mask_rep` mask is a boolean mask of shape `(num_examples, seq_len)` that indicates where induction is present in the dataset</p>\n",
    "<p> Let's see "
   ]
  },
  {
   "cell_type": "code",
   "execution_count": 6,
   "id": "1b4193de",
   "metadata": {
    "execution": {
     "iopub.execute_input": "2023-06-06T21:11:52.530845Z",
     "iopub.status.busy": "2023-06-06T21:11:52.530618Z",
     "iopub.status.idle": "2023-06-06T21:11:52.562330Z",
     "shell.execute_reply": "2023-06-06T21:11:52.561421Z"
    },
    "lines_to_next_cell": 1,
    "papermill": {
     "duration": 0.038195,
     "end_time": "2023-06-06T21:11:52.564591",
     "exception": false,
     "start_time": "2023-06-06T21:11:52.526396",
     "status": "completed"
    },
    "tags": []
   },
   "outputs": [
    {
     "name": "stdout",
     "output_type": "stream",
     "text": [
      "At position 17 there is induction\n",
      "[' mon']\n",
      "At position 22 there is induction\n",
      "[' F']\n",
      "At position 34 there is induction\n",
      "[' mon']\n"
     ]
    }
   ],
   "source": [
    "for i in range(EXAMPLE_LENGTH):\n",
    "    if mask_rep[EXAMPLE_NO, i]:\n",
    "        print(f\"At position {i} there is induction\")\n",
    "        print(tl_model.to_str_tokens(toks_int_values[EXAMPLE_NO:EXAMPLE_NO+1, i : i + 1]))"
   ]
  },
  {
   "cell_type": "markdown",
   "id": "9431dd9b",
   "metadata": {
    "papermill": {
     "duration": 0.004838,
     "end_time": "2023-06-06T21:11:52.577534",
     "exception": false,
     "start_time": "2023-06-06T21:11:52.572696",
     "status": "completed"
    },
    "tags": []
   },
   "source": [
    "<p>Let's get the initial loss on the induction examples</p>"
   ]
  },
  {
   "cell_type": "code",
   "execution_count": 7,
   "id": "be5a97c3",
   "metadata": {
    "execution": {
     "iopub.execute_input": "2023-06-06T21:11:52.586007Z",
     "iopub.status.busy": "2023-06-06T21:11:52.585356Z",
     "iopub.status.idle": "2023-06-06T21:11:52.656801Z",
     "shell.execute_reply": "2023-06-06T21:11:52.655906Z"
    },
    "papermill": {
     "duration": 0.078158,
     "end_time": "2023-06-06T21:11:52.659083",
     "exception": false,
     "start_time": "2023-06-06T21:11:52.580925",
     "status": "completed"
    },
    "tags": []
   },
   "outputs": [
    {
     "name": "stdout",
     "output_type": "stream",
     "text": [
      "Loss: 0.8858892917633057\n"
     ]
    }
   ],
   "source": [
    "def get_loss(model, data, mask):\n",
    "    loss = model(\n",
    "        data,\n",
    "        return_type=\"loss\",\n",
    "        loss_per_token=True,\n",
    "    )\n",
    "    return (loss * mask[:, :-1].int()).sum() / mask[:, :-1].int().sum()\n",
    "\n",
    "\n",
    "print(f\"Loss: {get_loss(tl_model, toks_int_values, mask_rep)}\")"
   ]
  },
  {
   "cell_type": "markdown",
   "id": "27d0d0c9",
   "metadata": {
    "papermill": {
     "duration": 0.003762,
     "end_time": "2023-06-06T21:11:52.670688",
     "exception": false,
     "start_time": "2023-06-06T21:11:52.666926",
     "status": "completed"
    },
    "tags": []
   },
   "source": [
    "<p>We will now wrap ACDC things inside an `experiment`for further experiments</p>\n",
    "<p>For more advanced usage of the `TLACDCExperiment` object (the main object in this codebase), see the README for links to the `main.py` and its demos</p>"
   ]
  },
  {
   "cell_type": "code",
   "execution_count": 8,
   "id": "c5580919",
   "metadata": {
    "execution": {
     "iopub.execute_input": "2023-06-06T21:11:52.678864Z",
     "iopub.status.busy": "2023-06-06T21:11:52.678630Z",
     "iopub.status.idle": "2023-06-06T21:12:29.982720Z",
     "shell.execute_reply": "2023-06-06T21:12:29.981621Z"
    },
    "papermill": {
     "duration": 37.311294,
     "end_time": "2023-06-06T21:12:29.985574",
     "exception": false,
     "start_time": "2023-06-06T21:11:52.674280",
     "status": "completed"
    },
    "tags": []
   },
   "outputs": [
    {
     "name": "stderr",
     "output_type": "stream",
     "text": [
      "WARNING:root:cache_all is deprecated and will eventually be removed, use add_caching_hooks or run_with_cache\n"
     ]
    },
    {
     "name": "stderr",
     "output_type": "stream",
     "text": [
      "WARNING:root:cache_all is deprecated and will eventually be removed, use add_caching_hooks or run_with_cache\n"
     ]
    },
    {
     "name": "stdout",
     "output_type": "stream",
     "text": [
      "ln_final.hook_normalized\n",
      "ln_final.hook_scale\n",
      "blocks.1.hook_resid_post\n",
      "blocks.1.hook_attn_out\n",
      "blocks.1.attn.hook_result\n",
      "blocks.1.attn.hook_z\n",
      "blocks.1.attn.hook_pattern\n",
      "blocks.1.attn.hook_attn_scores\n",
      "blocks.1.attn.hook_v\n",
      "blocks.1.attn.hook_k\n",
      "blocks.1.attn.hook_q\n",
      "blocks.1.ln1.hook_normalized\n",
      "blocks.1.ln1.hook_scale\n",
      "blocks.1.hook_v_input\n",
      "blocks.1.hook_k_input\n",
      "blocks.1.hook_q_input\n",
      "blocks.1.hook_resid_pre\n",
      "blocks.0.hook_resid_post\n",
      "blocks.0.hook_attn_out\n",
      "blocks.0.attn.hook_result\n",
      "blocks.0.attn.hook_z\n",
      "blocks.0.attn.hook_pattern\n",
      "blocks.0.attn.hook_attn_scores\n",
      "blocks.0.attn.hook_v\n",
      "blocks.0.attn.hook_k\n",
      "blocks.0.attn.hook_q\n",
      "blocks.0.ln1.hook_normalized\n",
      "blocks.0.ln1.hook_scale\n",
      "blocks.0.hook_v_input\n",
      "blocks.0.hook_k_input\n",
      "blocks.0.hook_q_input\n",
      "blocks.0.hook_resid_pre\n",
      "hook_pos_embed\n",
      "hook_embed\n",
      "self.current_node=TLACDCInterpNode(blocks.1.hook_resid_post, [:])\n"
     ]
    }
   ],
   "source": [
    "experiment = TLACDCExperiment(\n",
    "    model=tl_model,\n",
    "    threshold=0.0,\n",
    "    ds=toks_int_values,\n",
    "    ref_ds=None,  # This argument is the corrupted dataset from the ACDC paper. We're going to do zero ablation here so we omit this\n",
    "    metric=metric,\n",
    "    zero_ablation=True,\n",
    "    hook_verbose=False,\n",
    ")"
   ]
  },
  {
   "cell_type": "markdown",
   "id": "8f7dc5e5",
   "metadata": {
    "papermill": {
     "duration": 0.003617,
     "end_time": "2023-06-06T21:12:30.000321",
     "exception": false,
     "start_time": "2023-06-06T21:12:29.996704",
     "status": "completed"
    },
    "tags": []
   },
   "source": [
    "\n",
    "<p>Usually, the `TLACDCExperiment` efficiently add hooks to the model in order to do ACDC runs fast.</p>\n",
    "<p>For this tutorial, we'll add <b>ALL</b> the hooks so you can edit connections in the model as easily as possible.</p>"
   ]
  },
  {
   "cell_type": "code",
   "execution_count": 9,
   "id": "1fe52b89",
   "metadata": {
    "execution": {
     "iopub.execute_input": "2023-06-06T21:12:30.008841Z",
     "iopub.status.busy": "2023-06-06T21:12:30.008599Z",
     "iopub.status.idle": "2023-06-06T21:12:30.048485Z",
     "shell.execute_reply": "2023-06-06T21:12:30.047591Z"
    },
    "papermill": {
     "duration": 0.046862,
     "end_time": "2023-06-06T21:12:30.050788",
     "exception": false,
     "start_time": "2023-06-06T21:12:30.003926",
     "status": "completed"
    },
    "tags": []
   },
   "outputs": [],
   "source": [
    "experiment.model.reset_hooks()\n",
    "experiment.setup_model_hooks(\n",
    "    add_sender_hooks=True,\n",
    "    add_receiver_hooks=True,\n",
    "    doing_acdc_runs=False,\n",
    ")"
   ]
  },
  {
   "cell_type": "markdown",
   "id": "71062bdf",
   "metadata": {
    "papermill": {
     "duration": 0.003857,
     "end_time": "2023-06-06T21:12:30.062916",
     "exception": false,
     "start_time": "2023-06-06T21:12:30.059059",
     "status": "completed"
    },
    "tags": []
   },
   "source": [
    "Let's take a look at the edges"
   ]
  },
  {
   "cell_type": "code",
   "execution_count": 10,
   "id": "8f587be5",
   "metadata": {
    "execution": {
     "iopub.execute_input": "2023-06-06T21:12:30.071840Z",
     "iopub.status.busy": "2023-06-06T21:12:30.070989Z",
     "iopub.status.idle": "2023-06-06T21:12:30.100328Z",
     "shell.execute_reply": "2023-06-06T21:12:30.099461Z"
    },
    "lines_to_next_cell": 1,
    "papermill": {
     "duration": 0.036115,
     "end_time": "2023-06-06T21:12:30.102656",
     "exception": false,
     "start_time": "2023-06-06T21:12:30.066541",
     "status": "completed"
    },
    "tags": []
   },
   "outputs": [],
   "source": [
    "for edge_indices, edge in experiment.corr.all_edges().items():\n",
    "    # here's what's inside the edge\n",
    "    receiver_name, receiver_index, sender_name, sender_index = edge_indices\n",
    "\n",
    "    # for now, all edges should be present\n",
    "    assert edge.present, edge_indices"
   ]
  },
  {
   "cell_type": "markdown",
   "id": "c73ad995",
   "metadata": {
    "papermill": {
     "duration": 0.005658,
     "end_time": "2023-06-06T21:12:30.117081",
     "exception": false,
     "start_time": "2023-06-06T21:12:30.111423",
     "status": "completed"
    },
    "tags": []
   },
   "source": [
    "<p>Let's make a function that's able to turn off all the connections from the nodes to the output, except the induction head (1.5 and 1.6)</p>\n",
    "<p>(we'll later turn ON all connections EXCEPT the induction heads)</p>"
   ]
  },
  {
   "cell_type": "code",
   "execution_count": 11,
   "id": "69a112f8",
   "metadata": {
    "execution": {
     "iopub.execute_input": "2023-06-06T21:12:30.125504Z",
     "iopub.status.busy": "2023-06-06T21:12:30.125220Z",
     "iopub.status.idle": "2023-06-06T21:12:30.765965Z",
     "shell.execute_reply": "2023-06-06T21:12:30.764998Z"
    },
    "papermill": {
     "duration": 0.647343,
     "end_time": "2023-06-06T21:12:30.768121",
     "exception": false,
     "start_time": "2023-06-06T21:12:30.120778",
     "status": "completed"
    },
    "tags": []
   },
   "outputs": [
    {
     "name": "stdout",
     "output_type": "stream",
     "text": [
      "Adding edge from blocks.1.attn.hook_result [:, :, 7] to blocks.1.hook_resid_post [:]\n",
      "Removing edge from blocks.1.attn.hook_result [:, :, 6] to blocks.1.hook_resid_post [:]\n",
      "Removing edge from blocks.1.attn.hook_result [:, :, 5] to blocks.1.hook_resid_post [:]\n",
      "Adding edge from blocks.1.attn.hook_result [:, :, 4] to blocks.1.hook_resid_post [:]\n",
      "Adding edge from blocks.1.attn.hook_result [:, :, 3] to blocks.1.hook_resid_post [:]\n",
      "Adding edge from blocks.1.attn.hook_result [:, :, 2] to blocks.1.hook_resid_post [:]\n",
      "Adding edge from blocks.1.attn.hook_result [:, :, 1] to blocks.1.hook_resid_post [:]\n",
      "Adding edge from blocks.1.attn.hook_result [:, :, 0] to blocks.1.hook_resid_post [:]\n",
      "Adding edge from blocks.0.attn.hook_result [:, :, 7] to blocks.1.hook_resid_post [:]\n",
      "Adding edge from blocks.0.attn.hook_result [:, :, 6] to blocks.1.hook_resid_post [:]\n",
      "Adding edge from blocks.0.attn.hook_result [:, :, 5] to blocks.1.hook_resid_post [:]\n",
      "Adding edge from blocks.0.attn.hook_result [:, :, 4] to blocks.1.hook_resid_post [:]\n",
      "Adding edge from blocks.0.attn.hook_result [:, :, 3] to blocks.1.hook_resid_post [:]\n",
      "Adding edge from blocks.0.attn.hook_result [:, :, 2] to blocks.1.hook_resid_post [:]\n",
      "Adding edge from blocks.0.attn.hook_result [:, :, 1] to blocks.1.hook_resid_post [:]\n",
      "Adding edge from blocks.0.attn.hook_result [:, :, 0] to blocks.1.hook_resid_post [:]\n",
      "Adding edge from blocks.0.hook_resid_pre [:] to blocks.1.hook_resid_post [:]\n"
     ]
    },
    {
     "name": "stdout",
     "output_type": "stream",
     "text": [
      "Loss with only the induction head direct connections: 1.779373049736023\n"
     ]
    }
   ],
   "source": [
    "def change_direct_output_connections(exp, invert=False):\n",
    "    residual_stream_end_name = \"blocks.1.hook_resid_post\"\n",
    "    residual_stream_end_index = TorchIndex([None])\n",
    "    induction_heads = [\n",
    "        (\"blocks.1.attn.hook_result\", TorchIndex([None, None, 5])),\n",
    "        (\"blocks.1.attn.hook_result\", TorchIndex([None, None, 6])),\n",
    "    ]\n",
    "\n",
    "    inputs_to_residual_stream_end = exp.corr.edges[residual_stream_end_name][\n",
    "        residual_stream_end_index\n",
    "    ]\n",
    "    for sender_name in inputs_to_residual_stream_end:\n",
    "        for sender_index in inputs_to_residual_stream_end[sender_name]:\n",
    "            edge = inputs_to_residual_stream_end[sender_name][sender_index]\n",
    "            is_induction_head = (sender_name, sender_index) in induction_heads\n",
    "\n",
    "            if is_induction_head:\n",
    "                edge.present = not invert\n",
    "\n",
    "            else:\n",
    "                edge.present = invert\n",
    "\n",
    "            print(\n",
    "                f\"{'Adding' if (invert == is_induction_head) else 'Removing'} edge from {sender_name} {sender_index} to {residual_stream_end_name} {residual_stream_end_index}\"\n",
    "            )\n",
    "\n",
    "\n",
    "change_direct_output_connections(experiment)\n",
    "print(\n",
    "    \"Loss with only the induction head direct connections:\",\n",
    "    get_loss(experiment.model, toks_int_values, mask_rep).item(),\n",
    ")"
   ]
  },
  {
   "cell_type": "markdown",
   "id": "f7e50406",
   "metadata": {
    "papermill": {
     "duration": 0.005576,
     "end_time": "2023-06-06T21:12:30.781366",
     "exception": false,
     "start_time": "2023-06-06T21:12:30.775790",
     "status": "completed"
    },
    "tags": []
   },
   "source": [
    "<p>Let's turn ON all the connections EXCEPT the induction heads</p>"
   ]
  },
  {
   "cell_type": "code",
   "execution_count": 12,
   "id": "25c4d633",
   "metadata": {
    "execution": {
     "iopub.execute_input": "2023-06-06T21:12:30.793968Z",
     "iopub.status.busy": "2023-06-06T21:12:30.793331Z",
     "iopub.status.idle": "2023-06-06T21:12:31.455306Z",
     "shell.execute_reply": "2023-06-06T21:12:31.454321Z"
    },
    "papermill": {
     "duration": 0.671049,
     "end_time": "2023-06-06T21:12:31.457765",
     "exception": false,
     "start_time": "2023-06-06T21:12:30.786716",
     "status": "completed"
    },
    "tags": []
   },
   "outputs": [
    {
     "name": "stdout",
     "output_type": "stream",
     "text": [
      "Removing edge from blocks.1.attn.hook_result [:, :, 7] to blocks.1.hook_resid_post [:]\n",
      "Adding edge from blocks.1.attn.hook_result [:, :, 6] to blocks.1.hook_resid_post [:]\n",
      "Adding edge from blocks.1.attn.hook_result [:, :, 5] to blocks.1.hook_resid_post [:]\n",
      "Removing edge from blocks.1.attn.hook_result [:, :, 4] to blocks.1.hook_resid_post [:]\n",
      "Removing edge from blocks.1.attn.hook_result [:, :, 3] to blocks.1.hook_resid_post [:]\n",
      "Removing edge from blocks.1.attn.hook_result [:, :, 2] to blocks.1.hook_resid_post [:]\n",
      "Removing edge from blocks.1.attn.hook_result [:, :, 1] to blocks.1.hook_resid_post [:]\n",
      "Removing edge from blocks.1.attn.hook_result [:, :, 0] to blocks.1.hook_resid_post [:]\n",
      "Removing edge from blocks.0.attn.hook_result [:, :, 7] to blocks.1.hook_resid_post [:]\n",
      "Removing edge from blocks.0.attn.hook_result [:, :, 6] to blocks.1.hook_resid_post [:]\n",
      "Removing edge from blocks.0.attn.hook_result [:, :, 5] to blocks.1.hook_resid_post [:]\n",
      "Removing edge from blocks.0.attn.hook_result [:, :, 4] to blocks.1.hook_resid_post [:]\n",
      "Removing edge from blocks.0.attn.hook_result [:, :, 3] to blocks.1.hook_resid_post [:]\n",
      "Removing edge from blocks.0.attn.hook_result [:, :, 2] to blocks.1.hook_resid_post [:]\n",
      "Removing edge from blocks.0.attn.hook_result [:, :, 1] to blocks.1.hook_resid_post [:]\n",
      "Removing edge from blocks.0.attn.hook_result [:, :, 0] to blocks.1.hook_resid_post [:]\n",
      "Removing edge from blocks.0.hook_resid_pre [:] to blocks.1.hook_resid_post [:]\n"
     ]
    },
    {
     "name": "stdout",
     "output_type": "stream",
     "text": [
      "Loss without the induction head direct connections: 4.3982253074646\n"
     ]
    }
   ],
   "source": [
    "change_direct_output_connections(experiment, invert=True)\n",
    "print(\n",
    "    \"Loss without the induction head direct connections:\",\n",
    "    get_loss(experiment.model, toks_int_values, mask_rep).item(),\n",
    ")"
   ]
  },
  {
   "cell_type": "markdown",
   "id": "4348208a",
   "metadata": {
    "papermill": {
     "duration": 0.005449,
     "end_time": "2023-06-06T21:12:31.470141",
     "exception": false,
     "start_time": "2023-06-06T21:12:31.464692",
     "status": "completed"
    },
    "tags": []
   },
   "source": [
    "<p>That's much larger!</p>\n",
    "<p>See acdc/main.py for how to run ACDC experiments; try `python acdc/main.py --help` or check the README for the links to this file</p>"
   ]
  }
 ],
 "metadata": {
  "jupytext": {
   "cell_metadata_filter": "-all",
   "main_language": "python",
   "notebook_metadata_filter": "-all"
  },
  "language_info": {
   "codemirror_mode": {
    "name": "ipython",
    "version": 3
   },
   "file_extension": ".py",
   "mimetype": "text/x-python",
   "name": "python",
   "nbconvert_exporter": "python",
   "pygments_lexer": "ipython3",
   "version": "3.10.11"
  },
  "papermill": {
   "default_parameters": {},
   "duration": 48.96631,
   "end_time": "2023-06-06T21:12:32.998074",
   "environment_variables": {},
   "exception": null,
   "input_path": "notebooks/_converted/editing_edges.ipynb",
   "output_path": "notebooks/colabs/ACDC_Editing_Edges_Demo.ipynb",
   "parameters": {},
   "start_time": "2023-06-06T21:11:44.031764",
   "version": "2.4.0"
  }
 },
 "nbformat": 4,
 "nbformat_minor": 5
}