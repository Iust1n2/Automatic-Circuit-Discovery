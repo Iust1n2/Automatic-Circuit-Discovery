{
 "cells": [
  {
   "cell_type": "markdown",
   "id": "f228a850",
   "metadata": {
    "papermill": {
     "duration": 0.005705,
     "end_time": "2023-06-06T20:29:27.196289",
     "exception": false,
     "start_time": "2023-06-06T20:29:27.190584",
     "status": "completed"
    },
    "tags": []
   },
   "source": [
    "<h1>ACDC Main Demo</h1>\n",
    "\n",
    "<p>This notebook (which doubles as a script) shows several use cases of ACDC</p>\n",
    "\n",
    "<p>This codebase is a fork of https://github.com/neelnanda-io/TransformerLens with changes that will hopefully be merged soon</p>\n",
    "\n",
    "<h3>Setup:</h3>\n",
    "<p>Janky code to do different setup when run in a Colab notebook vs VSCode (adapted from e.g <a href=\"https://github.com/neelnanda-io/TransformerLens/blob/5c89b7583e73ce96db5e46ef86a14b15f303dde6/demos/Activation_Patching_in_TL_Demo.ipynb\">this notebook</a>)</p>"
   ]
  },
  {
   "cell_type": "code",
   "execution_count": 1,
   "id": "8c292858",
   "metadata": {
    "execution": {
     "iopub.execute_input": "2023-06-06T20:29:27.203862Z",
     "iopub.status.busy": "2023-06-06T20:29:27.203499Z",
     "iopub.status.idle": "2023-06-06T20:29:27.406355Z",
     "shell.execute_reply": "2023-06-06T20:29:27.405585Z"
    },
    "papermill": {
     "duration": 0.209217,
     "end_time": "2023-06-06T20:29:27.409580",
     "exception": false,
     "start_time": "2023-06-06T20:29:27.200363",
     "status": "completed"
    },
    "tags": []
   },
   "outputs": [
    {
     "name": "stdout",
     "output_type": "stream",
     "text": [
      "Running as a Jupyter notebook - intended for development only! (This is also used for automatically generating notebook outputs)\n"
     ]
    }
   ],
   "source": [
    "try:\n",
    "    import google.colab\n",
    "\n",
    "    IN_COLAB = True\n",
    "    print(\"Running as a Colab notebook\")\n",
    "\n",
    "    from IPython import get_ipython\n",
    "\n",
    "    ipython = get_ipython()\n",
    "    ipython.run_line_magic(\n",
    "        \"pip\",\n",
    "        \"install git+https://github.com/neelnanda-io/TransformerLens.git\", \n",
    "    )\n",
    "    ipython.run_line_magic(\n",
    "        \"pip\",\n",
    "        \"install git+https://github.com/ArthurConmy/Automatic-Circuit-Discovery.git\", # install ACDC\n",
    "    )\n",
    "    ipython.run_line_magic(\"pip\", \"install torchtyping\")\n",
    "    ipython.run_line_magic(\"pip\", \"install cmapy\")\n",
    "    try:\n",
    "        ipython.run_line_magic(\n",
    "            \"pip\",\n",
    "            \"install git+https://github.com/deepmind/tracr.git@e75ecdaec12bf2d831a60e54d4270e8fa31fb537#egg=tracr\",\n",
    "        )\n",
    "    except Exception as e:\n",
    "        print(f\"Could not import `tracr` because {e}; the rest of the file should work but you cannot use the tracr tasks\")\n",
    "\n",
    "\n",
    "except Exception as e:\n",
    "    IN_COLAB = False\n",
    "    print(\n",
    "        \"Running as a Jupyter notebook - intended for development only! (This is also used for automatically generating notebook outputs)\"\n",
    "    )\n",
    "\n",
    "    import numpy # crucial to not get cursed error\n",
    "    import plotly\n",
    "\n",
    "    plotly.io.renderers.default = \"colab\"  # added by Arthur so running as a .py notebook with #%% generates .ipynb notebooks that display in colab\n",
    "    # disable this option when developing rather than generating notebook outputs\n",
    "\n",
    "    from IPython import get_ipython\n",
    "\n",
    "    ipython = get_ipython()\n",
    "    if ipython is not None:\n",
    "        ipython.run_line_magic(\"load_ext\", \"autoreload\")  # type: ignore\n",
    "        ipython.run_line_magic(\"autoreload\", \"2\")  # type: ignore"
   ]
  },
  {
   "cell_type": "markdown",
   "id": "c071c499",
   "metadata": {
    "papermill": {
     "duration": 0.002078,
     "end_time": "2023-06-06T20:29:27.417465",
     "exception": false,
     "start_time": "2023-06-06T20:29:27.415387",
     "status": "completed"
    },
    "tags": []
   },
   "source": [
    "<h2>Imports etc</h2>"
   ]
  },
  {
   "cell_type": "code",
   "execution_count": 2,
   "id": "81825fcb",
   "metadata": {
    "execution": {
     "iopub.execute_input": "2023-06-06T20:29:27.423572Z",
     "iopub.status.busy": "2023-06-06T20:29:27.423141Z",
     "iopub.status.idle": "2023-06-06T20:29:30.615661Z",
     "shell.execute_reply": "2023-06-06T20:29:30.614859Z"
    },
    "papermill": {
     "duration": 3.198579,
     "end_time": "2023-06-06T20:29:30.618128",
     "exception": false,
     "start_time": "2023-06-06T20:29:27.419549",
     "status": "completed"
    },
    "tags": []
   },
   "outputs": [
    {
     "name": "stderr",
     "output_type": "stream",
     "text": [
      "WARNING:root:Are you sure you have an up-to-date TransformerLens installed? As of 6th June 2023, `select_compatible_kwargs` should be importable (this was added at the same time as the functionality needed for ACDC) but there is an error e=ImportError(\"cannot import name 'select_compatible_kwargs' from 'transformer_lens.utils' (/opt/conda/lib/python3.10/site-packages/transformer_lens/utils.py)\")\n"
     ]
    },
    {
     "name": "stdout",
     "output_type": "stream",
     "text": [
      "The autoreload extension is already loaded. To reload it, use:\n",
      "  %reload_ext autoreload\n"
     ]
    },
    {
     "data": {
      "text/plain": [
       "<torch.autograd.grad_mode.set_grad_enabled at 0x7f3da884e380>"
      ]
     },
     "execution_count": 2,
     "metadata": {},
     "output_type": "execute_result"
    }
   ],
   "source": [
    "import wandb\n",
    "import IPython\n",
    "from IPython.display import Image, display\n",
    "import torch\n",
    "import gc\n",
    "from tqdm import tqdm\n",
    "import networkx as nx\n",
    "import os\n",
    "import torch\n",
    "import huggingface_hub\n",
    "import graphviz\n",
    "import torch.nn as nn\n",
    "import torch.nn.functional as F\n",
    "import torch.optim as optim\n",
    "import numpy as np\n",
    "import einops\n",
    "from tqdm import tqdm\n",
    "import yaml\n",
    "from transformers import AutoModelForCausalLM, AutoConfig, AutoTokenizer\n",
    "\n",
    "import matplotlib.pyplot as plt\n",
    "import plotly.express as px\n",
    "import plotly.io as pio\n",
    "from plotly.subplots import make_subplots\n",
    "import plotly.graph_objects as go\n",
    "\n",
    "from transformer_lens.hook_points import HookedRootModule, HookPoint\n",
    "from acdc.acdc_graphics import show\n",
    "from transformer_lens.HookedTransformer import (\n",
    "    HookedTransformer,\n",
    ")\n",
    "try:\n",
    "    from acdc.tracr_task.utils import (\n",
    "        get_all_tracr_things,\n",
    "        get_tracr_model_input_and_tl_model,\n",
    "    )\n",
    "except Exception as e:\n",
    "    print(f\"Could not import `tracr` because {e}; the rest of the file should work but you cannot use the tracr tasks\")\n",
    "from acdc.docstring.utils import get_all_docstring_things\n",
    "from acdc.acdc_utils import (\n",
    "    make_nd_dict,\n",
    "    reset_network,\n",
    "    shuffle_tensor,\n",
    "    cleanup,\n",
    "    ct,\n",
    "    TorchIndex,\n",
    "    Edge,\n",
    "    EdgeType,\n",
    ")  # these introduce several important classes !!!\n",
    "\n",
    "from acdc.TLACDCCorrespondence import TLACDCCorrespondence\n",
    "from acdc.TLACDCInterpNode import TLACDCInterpNode\n",
    "from acdc.TLACDCExperiment import TLACDCExperiment\n",
    "\n",
    "from acdc.acdc_utils import (\n",
    "    kl_divergence,\n",
    ")\n",
    "from acdc.ioi.utils import (\n",
    "    get_all_ioi_things,\n",
    "    get_gpt2_small,\n",
    ")\n",
    "from acdc.induction.utils import (\n",
    "    get_all_induction_things,\n",
    "    get_validation_data,\n",
    "    get_good_induction_candidates,\n",
    "    get_mask_repeat_candidates,\n",
    ")\n",
    "from acdc.greaterthan.utils import get_all_greaterthan_things\n",
    "from acdc.acdc_graphics import (\n",
    "    build_colorscheme,\n",
    "    show,\n",
    ")\n",
    "import argparse\n",
    "\n",
    "torch.autograd.set_grad_enabled(False)"
   ]
  },
  {
   "cell_type": "markdown",
   "id": "12e47edd",
   "metadata": {
    "papermill": {
     "duration": 0.005349,
     "end_time": "2023-06-06T20:29:30.629474",
     "exception": false,
     "start_time": "2023-06-06T20:29:30.624125",
     "status": "completed"
    },
    "tags": []
   },
   "source": [
    "<h2>ACDC Experiment Setup</h2>\n",
    "<p>We use a `parser to set all the options for the ACDC experiment.\n",
    "This is still usable in notebooks! We can pass a string to the parser, see below.\n",
    "We'll reproduce </p>"
   ]
  },
  {
   "cell_type": "code",
   "execution_count": 3,
   "id": "8adae636",
   "metadata": {
    "execution": {
     "iopub.execute_input": "2023-06-06T20:29:30.641374Z",
     "iopub.status.busy": "2023-06-06T20:29:30.640953Z",
     "iopub.status.idle": "2023-06-06T20:29:30.681756Z",
     "shell.execute_reply": "2023-06-06T20:29:30.681039Z"
    },
    "papermill": {
     "duration": 0.049347,
     "end_time": "2023-06-06T20:29:30.684240",
     "exception": false,
     "start_time": "2023-06-06T20:29:30.634893",
     "status": "completed"
    },
    "tags": []
   },
   "outputs": [],
   "source": [
    "parser = argparse.ArgumentParser(description=\"Used to launch ACDC runs. Only task and threshold are required\")\n",
    "\n",
    "task_choices = ['ioi', 'docstring', 'induction', 'tracr-reverse', 'tracr-proportion', 'greaterthan']\n",
    "parser.add_argument('--task', type=str, required=True, choices=task_choices, help=f'Choose a task from the available options: {task_choices}')\n",
    "parser.add_argument('--threshold', type=float, required=True, help='Value for THRESHOLD')\n",
    "parser.add_argument('--first-cache-cpu', type=bool, required=False, default=True, help='Value for FIRST_CACHE_CPU')\n",
    "parser.add_argument('--second-cache-cpu', type=bool, required=False, default=True, help='Value for SECOND_CACHE_CPU')\n",
    "parser.add_argument('--zero-ablation', action='store_true', help='Use zero ablation')\n",
    "parser.add_argument('--using-wandb', action='store_true', help='Use wandb')\n",
    "parser.add_argument('--wandb-entity-name', type=str, required=False, default=\"remix_school-of-rock\", help='Value for WANDB_ENTITY_NAME')\n",
    "parser.add_argument('--wandb-group-name', type=str, required=False, default=\"default\", help='Value for WANDB_GROUP_NAME')\n",
    "parser.add_argument('--wandb-project-name', type=str, required=False, default=\"acdc\", help='Value for WANDB_PROJECT_NAME')\n",
    "parser.add_argument('--wandb-run-name', type=str, required=False, default=None, help='Value for WANDB_RUN_NAME')\n",
    "parser.add_argument(\"--wandb-dir\", type=str, default=\"/tmp/wandb\")\n",
    "parser.add_argument(\"--wandb-mode\", type=str, default=\"online\")\n",
    "parser.add_argument('--indices-mode', type=str, default=\"normal\")\n",
    "parser.add_argument('--names-mode', type=str, default=\"normal\")\n",
    "parser.add_argument('--device', type=str, default=\"cuda\")\n",
    "parser.add_argument('--reset-network', type=int, default=0, help=\"Whether to reset the network we're operating on before running interp on it\")\n",
    "parser.add_argument('--metric', type=str, default=\"kl_div\", help=\"Which metric to use for the experiment\")\n",
    "parser.add_argument('--torch-num-threads', type=int, default=0, help=\"How many threads to use for torch (0=all)\")\n",
    "parser.add_argument('--seed', type=int, default=1234)\n",
    "parser.add_argument(\"--max-num-epochs\",type=int, default=100_000)\n",
    "parser.add_argument('--single-step', action='store_true', help='Use single step, mostly for testing')\n",
    "\n",
    "if ipython is not None:\n",
    "    # we are in a notebook\n",
    "    # you can put the command you would like to run as the ... in r\"\"\"...\"\"\"\n",
    "    args = parser.parse_args( # TODO add back zero ablation\n",
    "        [line.strip() for line in r\"\"\"--task=induction\\\n",
    "--zero-ablation\\\n",
    "--threshold=0.5623\\\n",
    "--indices-mode=reverse\\\n",
    "--first-cache-cpu=False\\\n",
    "--second-cache-cpu=False\\\n",
    "--max-num-epochs=100000\"\"\".split(\"\\\\\\n\")]\n",
    "    )\n",
    "else:\n",
    "    # read from command line\n",
    "    args = parser.parse_args()\n",
    "\n",
    "# process args\n",
    "\n",
    "if args.torch_num_threads > 0:\n",
    "    torch.set_num_threads(args.torch_num_threads)\n",
    "torch.manual_seed(args.seed)\n",
    "\n",
    "TASK = args.task\n",
    "FIRST_CACHE_CPU = args.first_cache_cpu\n",
    "SECOND_CACHE_CPU = args.second_cache_cpu\n",
    "THRESHOLD = args.threshold  # only used if >= 0.0\n",
    "ZERO_ABLATION = True if args.zero_ablation else False\n",
    "USING_WANDB = True if args.using_wandb else False\n",
    "WANDB_ENTITY_NAME = args.wandb_entity_name\n",
    "WANDB_PROJECT_NAME = args.wandb_project_name\n",
    "WANDB_RUN_NAME = args.wandb_run_name\n",
    "WANDB_GROUP_NAME = args.wandb_group_name\n",
    "INDICES_MODE = args.indices_mode\n",
    "NAMES_MODE = args.names_mode\n",
    "DEVICE = args.device\n",
    "RESET_NETWORK = args.reset_network\n",
    "SINGLE_STEP = True if args.single_step else False"
   ]
  },
  {
   "cell_type": "markdown",
   "id": "57e98179",
   "metadata": {
    "papermill": {
     "duration": 0.005261,
     "end_time": "2023-06-06T20:29:30.694893",
     "exception": false,
     "start_time": "2023-06-06T20:29:30.689632",
     "status": "completed"
    },
    "tags": []
   },
   "source": [
    "<h2>Setup Task</h2>"
   ]
  },
  {
   "cell_type": "code",
   "execution_count": 4,
   "id": "625a7dd9",
   "metadata": {
    "execution": {
     "iopub.execute_input": "2023-06-06T20:29:30.703942Z",
     "iopub.status.busy": "2023-06-06T20:29:30.703589Z",
     "iopub.status.idle": "2023-06-06T20:29:36.755088Z",
     "shell.execute_reply": "2023-06-06T20:29:36.754159Z"
    },
    "papermill": {
     "duration": 6.057492,
     "end_time": "2023-06-06T20:29:36.757613",
     "exception": false,
     "start_time": "2023-06-06T20:29:30.700121",
     "status": "completed"
    },
    "tags": []
   },
   "outputs": [
    {
     "name": "stderr",
     "output_type": "stream",
     "text": [
      "Special tokens have been added in the vocabulary, make sure the associated word embeddings are fine-tuned or trained.\n"
     ]
    },
    {
     "name": "stdout",
     "output_type": "stream",
     "text": [
      "Loaded pretrained model redwood_attn_2l into HookedTransformer\n"
     ]
    }
   ],
   "source": [
    "second_metric = None  # some tasks only have one metric\n",
    "use_pos_embed = TASK.startswith(\"tracr\")\n",
    "\n",
    "if TASK == \"ioi\":\n",
    "    num_examples = 100\n",
    "    things = get_all_ioi_things(\n",
    "        num_examples=num_examples, device=DEVICE, metric_name=args.metric\n",
    "    )\n",
    "elif TASK == \"tracr-reverse\":\n",
    "    num_examples = 6\n",
    "    things = get_all_tracr_things(\n",
    "        task=\"reverse\",\n",
    "        metric_name=args.metric,\n",
    "        num_examples=num_examples,\n",
    "        device=DEVICE,\n",
    "    )\n",
    "elif TASK == \"tracr-proportion\":\n",
    "    num_examples = 50\n",
    "    things = get_all_tracr_things(\n",
    "        task=\"proportion\",\n",
    "        metric_name=args.metric,\n",
    "        num_examples=num_examples,\n",
    "        device=DEVICE,\n",
    "    )\n",
    "elif TASK == \"induction\":\n",
    "    num_examples = 50\n",
    "    seq_len = 300\n",
    "    # TODO initialize the `tl_model` with the right model\n",
    "    things = get_all_induction_things(\n",
    "        num_examples=num_examples, seq_len=seq_len, device=DEVICE, metric=args.metric\n",
    "    )\n",
    "elif TASK == \"docstring\":\n",
    "    num_examples = 50\n",
    "    seq_len = 41\n",
    "    things = get_all_docstring_things(\n",
    "        num_examples=num_examples,\n",
    "        seq_len=seq_len,\n",
    "        device=DEVICE,\n",
    "        metric_name=args.metric,\n",
    "        correct_incorrect_wandb=True,\n",
    "    )\n",
    "elif TASK == \"greaterthan\":\n",
    "    num_examples = 100\n",
    "    things = get_all_greaterthan_things(\n",
    "        num_examples=num_examples, metric_name=args.metric, device=DEVICE\n",
    "    )\n",
    "else:\n",
    "    raise ValueError(f\"Unknown task {TASK}\")\n",
    "\n",
    "\n",
    "validation_metric = things.validation_metric\n",
    "\n",
    "toks_int_values = things.validation_data\n",
    "toks_int_values_other = things.validation_patch_data\n",
    "\n",
    "tl_model = things.tl_model\n",
    "\n",
    "if RESET_NETWORK:\n",
    "    reset_network(TASK, DEVICE, tl_model)"
   ]
  },
  {
   "cell_type": "markdown",
   "id": "be1e926c",
   "metadata": {
    "papermill": {
     "duration": 0.005344,
     "end_time": "2023-06-06T20:29:36.769251",
     "exception": false,
     "start_time": "2023-06-06T20:29:36.763907",
     "status": "completed"
    },
    "tags": []
   },
   "source": [
    "<h2>Setup ACDC Experiment</h2>"
   ]
  },
  {
   "cell_type": "code",
   "execution_count": 5,
   "id": "b1bbc3b2",
   "metadata": {
    "execution": {
     "iopub.execute_input": "2023-06-06T20:29:36.782877Z",
     "iopub.status.busy": "2023-06-06T20:29:36.782710Z",
     "iopub.status.idle": "2023-06-06T20:30:24.809598Z",
     "shell.execute_reply": "2023-06-06T20:30:24.808838Z"
    },
    "papermill": {
     "duration": 48.037037,
     "end_time": "2023-06-06T20:30:24.812010",
     "exception": false,
     "start_time": "2023-06-06T20:29:36.774973",
     "status": "completed"
    },
    "tags": []
   },
   "outputs": [
    {
     "name": "stderr",
     "output_type": "stream",
     "text": [
      "WARNING:root:cache_all is deprecated and will eventually be removed, use add_caching_hooks or run_with_cache\n"
     ]
    },
    {
     "name": "stderr",
     "output_type": "stream",
     "text": [
      "/root/Automatic-Circuit-Discovery/acdc/TLACDCExperiment.py:128: UserWarning:\n",
      "\n",
      "We shall overwrite the ref_ds with zeros.\n",
      "\n",
      "WARNING:root:cache_all is deprecated and will eventually be removed, use add_caching_hooks or run_with_cache\n"
     ]
    },
    {
     "name": "stdout",
     "output_type": "stream",
     "text": [
      "dict_keys(['blocks.1.hook_resid_post', 'blocks.1.attn.hook_result', 'blocks.1.attn.hook_q', 'blocks.1.hook_q_input', 'blocks.1.attn.hook_k', 'blocks.1.hook_k_input', 'blocks.1.attn.hook_v', 'blocks.1.hook_v_input', 'blocks.0.attn.hook_result', 'blocks.0.attn.hook_q', 'blocks.0.hook_q_input', 'blocks.0.attn.hook_k', 'blocks.0.hook_k_input', 'blocks.0.attn.hook_v', 'blocks.0.hook_v_input', 'blocks.0.hook_resid_pre'])\n",
      "ln_final.hook_normalized\n",
      "ln_final.hook_scale\n",
      "blocks.1.hook_resid_post\n",
      "blocks.1.hook_attn_out\n",
      "blocks.1.attn.hook_result\n",
      "blocks.1.attn.hook_z\n",
      "blocks.1.attn.hook_pattern\n",
      "blocks.1.attn.hook_attn_scores\n",
      "blocks.1.attn.hook_v\n",
      "blocks.1.attn.hook_k\n",
      "blocks.1.attn.hook_q\n",
      "blocks.1.ln1.hook_normalized\n",
      "blocks.1.ln1.hook_scale\n",
      "blocks.1.hook_v_input\n",
      "blocks.1.hook_k_input\n",
      "blocks.1.hook_q_input\n",
      "blocks.1.hook_resid_pre\n",
      "blocks.0.hook_resid_post\n",
      "blocks.0.hook_attn_out\n",
      "blocks.0.attn.hook_result\n",
      "blocks.0.attn.hook_z\n",
      "blocks.0.attn.hook_pattern\n",
      "blocks.0.attn.hook_attn_scores\n",
      "blocks.0.attn.hook_v\n",
      "blocks.0.attn.hook_k\n",
      "blocks.0.attn.hook_q\n",
      "blocks.0.ln1.hook_normalized\n",
      "blocks.0.ln1.hook_scale\n",
      "blocks.0.hook_v_input\n",
      "blocks.0.hook_k_input\n",
      "blocks.0.hook_q_input\n",
      "blocks.0.hook_resid_pre\n",
      "hook_pos_embed\n",
      "hook_embed\n",
      "self.current_node=TLACDCInterpNode(blocks.1.hook_resid_post, [:])\n",
      "Adding sender hooks...\n",
      "Now corrupting things..\n",
      "Done corrupting things\n"
     ]
    },
    {
     "name": "stdout",
     "output_type": "stream",
     "text": [
      "Adding sender hooks...\n"
     ]
    },
    {
     "name": "stdout",
     "output_type": "stream",
     "text": [
      "No edge 305\n"
     ]
    }
   ],
   "source": [
    "# Make notes for potential wandb run\n",
    "try:\n",
    "    with open(__file__, \"r\") as f:\n",
    "        notes = f.read()\n",
    "except:\n",
    "    notes = \"No notes generated, expected when running in an .ipynb file\"\n",
    "\n",
    "tl_model.reset_hooks()\n",
    "\n",
    "# Save some mem\n",
    "gc.collect()\n",
    "torch.cuda.empty_cache()\n",
    "\n",
    "# Setup wandb if needed\n",
    "if WANDB_RUN_NAME is None or IPython.get_ipython() is not None:\n",
    "    WANDB_RUN_NAME = f\"{ct()}{'_randomindices' if INDICES_MODE=='random' else ''}_{THRESHOLD}{'_zero' if ZERO_ABLATION else ''}\"\n",
    "else:\n",
    "    assert WANDB_RUN_NAME is not None, \"I want named runs, always\"\n",
    "\n",
    "tl_model.reset_hooks()\n",
    "exp = TLACDCExperiment(\n",
    "    model=tl_model,\n",
    "    threshold=THRESHOLD,\n",
    "    using_wandb=USING_WANDB,\n",
    "    wandb_entity_name=WANDB_ENTITY_NAME,\n",
    "    wandb_project_name=WANDB_PROJECT_NAME,\n",
    "    wandb_run_name=WANDB_RUN_NAME,\n",
    "    wandb_group_name=WANDB_GROUP_NAME,\n",
    "    wandb_notes=notes,\n",
    "    wandb_dir=args.wandb_dir,\n",
    "    wandb_mode=args.wandb_mode,\n",
    "    wandb_config=args,\n",
    "    zero_ablation=ZERO_ABLATION,\n",
    "    ds=toks_int_values,\n",
    "    ref_ds=toks_int_values_other,\n",
    "    metric=validation_metric,\n",
    "    second_metric=second_metric,\n",
    "    verbose=True,\n",
    "    indices_mode=INDICES_MODE,\n",
    "    names_mode=NAMES_MODE,\n",
    "    second_cache_cpu=SECOND_CACHE_CPU,\n",
    "    hook_verbose=False,\n",
    "    first_cache_cpu=FIRST_CACHE_CPU,\n",
    "    add_sender_hooks=True,\n",
    "    use_pos_embed=use_pos_embed,\n",
    "    add_receiver_hooks=False,\n",
    "    remove_redundant=False,\n",
    "    show_full_index=use_pos_embed,\n",
    ")"
   ]
  },
  {
   "cell_type": "markdown",
   "id": "aa285c44",
   "metadata": {
    "papermill": {
     "duration": 0.00304,
     "end_time": "2023-06-06T20:30:24.821753",
     "exception": false,
     "start_time": "2023-06-06T20:30:24.818713",
     "status": "completed"
    },
    "tags": []
   },
   "source": [
    "<h2>Run steps of ACDC: iterate over a NODE in the model's computational graph</h2>\n",
    "<p>WARNING! This will take a few minutes to run, but there should be rolling nice pictures too : )</p>"
   ]
  },
  {
   "cell_type": "code",
   "execution_count": 6,
   "id": "539f5950",
   "metadata": {
    "execution": {
     "iopub.execute_input": "2023-06-06T20:30:24.828113Z",
     "iopub.status.busy": "2023-06-06T20:30:24.827952Z",
     "iopub.status.idle": "2023-06-06T20:32:56.745267Z",
     "shell.execute_reply": "2023-06-06T20:32:56.744218Z"
    },
    "papermill": {
     "duration": 151.922491,
     "end_time": "2023-06-06T20:32:56.747029",
     "exception": false,
     "start_time": "2023-06-06T20:30:24.824538",
     "status": "completed"
    },
    "tags": []
   },
   "outputs": [
    {
     "name": "stdout",
     "output_type": "stream",
     "text": [
      "No edge 305\n",
      "New metric: 0.0\n",
      "\n",
      "Node: cur_parent=TLACDCInterpNode(blocks.1.attn.hook_result, [:, :, 0]) (self.current_node=TLACDCInterpNode(blocks.1.hook_resid_post, [:]))\n",
      "\n"
     ]
    },
    {
     "name": "stdout",
     "output_type": "stream",
     "text": [
      "Metric after removing connection to blocks.1.attn.hook_result [:, :, 0] is 0.02112928219139576 (and current metric 0.0)\n",
      "Result is 0.02112928219139576...so removing connection\n",
      "\n",
      "Node: cur_parent=TLACDCInterpNode(blocks.1.attn.hook_result, [:, :, 1]) (self.current_node=TLACDCInterpNode(blocks.1.hook_resid_post, [:]))\n",
      "\n"
     ]
    },
    {
     "name": "stdout",
     "output_type": "stream",
     "text": [
      "Metric after removing connection to blocks.1.attn.hook_result [:, :, 1] is 0.02879844233393669 (and current metric 0.02112928219139576)\n",
      "Result is 0.007669160142540932...so removing connection\n",
      "\n",
      "Node: cur_parent=TLACDCInterpNode(blocks.1.attn.hook_result, [:, :, 2]) (self.current_node=TLACDCInterpNode(blocks.1.hook_resid_post, [:]))\n",
      "\n"
     ]
    },
    {
     "name": "stdout",
     "output_type": "stream",
     "text": [
      "Metric after removing connection to blocks.1.attn.hook_result [:, :, 2] is 0.033654600381851196 (and current metric 0.02879844233393669)\n",
      "Result is 0.004856158047914505...so removing connection\n",
      "\n",
      "Node: cur_parent=TLACDCInterpNode(blocks.1.attn.hook_result, [:, :, 3]) (self.current_node=TLACDCInterpNode(blocks.1.hook_resid_post, [:]))\n",
      "\n"
     ]
    },
    {
     "name": "stdout",
     "output_type": "stream",
     "text": [
      "Metric after removing connection to blocks.1.attn.hook_result [:, :, 3] is 0.11638946086168289 (and current metric 0.033654600381851196)\n",
      "Result is 0.0827348604798317...so removing connection\n",
      "\n",
      "Node: cur_parent=TLACDCInterpNode(blocks.1.attn.hook_result, [:, :, 4]) (self.current_node=TLACDCInterpNode(blocks.1.hook_resid_post, [:]))\n",
      "\n"
     ]
    },
    {
     "name": "stdout",
     "output_type": "stream",
     "text": [
      "Metric after removing connection to blocks.1.attn.hook_result [:, :, 4] is 0.14580880105495453 (and current metric 0.11638946086168289)\n",
      "Result is 0.029419340193271637...so removing connection\n",
      "\n",
      "Node: cur_parent=TLACDCInterpNode(blocks.1.attn.hook_result, [:, :, 5]) (self.current_node=TLACDCInterpNode(blocks.1.hook_resid_post, [:]))\n",
      "\n"
     ]
    },
    {
     "name": "stdout",
     "output_type": "stream",
     "text": [
      "Metric after removing connection to blocks.1.attn.hook_result [:, :, 5] is 0.7056594491004944 (and current metric 0.14580880105495453)\n",
      "Result is 0.5598506480455399...so removing connection\n",
      "\n",
      "Node: cur_parent=TLACDCInterpNode(blocks.1.attn.hook_result, [:, :, 6]) (self.current_node=TLACDCInterpNode(blocks.1.hook_resid_post, [:]))\n",
      "\n"
     ]
    },
    {
     "name": "stdout",
     "output_type": "stream",
     "text": [
      "Metric after removing connection to blocks.1.attn.hook_result [:, :, 6] is 4.472975254058838 (and current metric 0.7056594491004944)\n",
      "Result is 3.7673158049583435...so keeping connection\n",
      "\n",
      "Node: cur_parent=TLACDCInterpNode(blocks.1.attn.hook_result, [:, :, 7]) (self.current_node=TLACDCInterpNode(blocks.1.hook_resid_post, [:]))\n",
      "\n"
     ]
    },
    {
     "name": "stdout",
     "output_type": "stream",
     "text": [
      "Metric after removing connection to blocks.1.attn.hook_result [:, :, 7] is 0.7544040679931641 (and current metric 0.7056594491004944)\n",
      "Result is 0.04874461889266968...so removing connection\n"
     ]
    },
    {
     "name": "stdout",
     "output_type": "stream",
     "text": [
      "No edge 298\n",
      "\n",
      "Node: cur_parent=TLACDCInterpNode(blocks.0.attn.hook_result, [:, :, 0]) (self.current_node=TLACDCInterpNode(blocks.1.hook_resid_post, [:]))\n",
      "\n"
     ]
    },
    {
     "name": "stdout",
     "output_type": "stream",
     "text": [
      "Metric after removing connection to blocks.0.attn.hook_result [:, :, 0] is 0.7616735696792603 (and current metric 0.7544040679931641)\n",
      "Result is 0.007269501686096191...so removing connection\n",
      "\n",
      "Node: cur_parent=TLACDCInterpNode(blocks.0.attn.hook_result, [:, :, 1]) (self.current_node=TLACDCInterpNode(blocks.1.hook_resid_post, [:]))\n",
      "\n"
     ]
    },
    {
     "name": "stdout",
     "output_type": "stream",
     "text": [
      "Metric after removing connection to blocks.0.attn.hook_result [:, :, 1] is 0.7465713024139404 (and current metric 0.7616735696792603)\n",
      "Result is -0.015102267265319824...so removing connection\n",
      "\n",
      "Node: cur_parent=TLACDCInterpNode(blocks.0.attn.hook_result, [:, :, 2]) (self.current_node=TLACDCInterpNode(blocks.1.hook_resid_post, [:]))\n",
      "\n"
     ]
    },
    {
     "name": "stdout",
     "output_type": "stream",
     "text": [
      "Metric after removing connection to blocks.0.attn.hook_result [:, :, 2] is 0.7753313779830933 (and current metric 0.7465713024139404)\n",
      "Result is 0.028760075569152832...so removing connection\n",
      "\n",
      "Node: cur_parent=TLACDCInterpNode(blocks.0.attn.hook_result, [:, :, 3]) (self.current_node=TLACDCInterpNode(blocks.1.hook_resid_post, [:]))\n",
      "\n"
     ]
    },
    {
     "name": "stdout",
     "output_type": "stream",
     "text": [
      "Metric after removing connection to blocks.0.attn.hook_result [:, :, 3] is 0.8016431331634521 (and current metric 0.7753313779830933)\n",
      "Result is 0.026311755180358887...so removing connection\n",
      "\n",
      "Node: cur_parent=TLACDCInterpNode(blocks.0.attn.hook_result, [:, :, 4]) (self.current_node=TLACDCInterpNode(blocks.1.hook_resid_post, [:]))\n",
      "\n"
     ]
    },
    {
     "name": "stdout",
     "output_type": "stream",
     "text": [
      "Metric after removing connection to blocks.0.attn.hook_result [:, :, 4] is 0.800994873046875 (and current metric 0.8016431331634521)\n",
      "Result is -0.0006482601165771484...so removing connection\n",
      "\n",
      "Node: cur_parent=TLACDCInterpNode(blocks.0.attn.hook_result, [:, :, 5]) (self.current_node=TLACDCInterpNode(blocks.1.hook_resid_post, [:]))\n",
      "\n"
     ]
    },
    {
     "name": "stdout",
     "output_type": "stream",
     "text": [
      "Metric after removing connection to blocks.0.attn.hook_result [:, :, 5] is 0.9094583988189697 (and current metric 0.800994873046875)\n",
      "Result is 0.10846352577209473...so removing connection\n",
      "\n",
      "Node: cur_parent=TLACDCInterpNode(blocks.0.attn.hook_result, [:, :, 6]) (self.current_node=TLACDCInterpNode(blocks.1.hook_resid_post, [:]))\n",
      "\n"
     ]
    },
    {
     "name": "stdout",
     "output_type": "stream",
     "text": [
      "Metric after removing connection to blocks.0.attn.hook_result [:, :, 6] is 0.9589419960975647 (and current metric 0.9094583988189697)\n",
      "Result is 0.04948359727859497...so removing connection\n",
      "\n",
      "Node: cur_parent=TLACDCInterpNode(blocks.0.attn.hook_result, [:, :, 7]) (self.current_node=TLACDCInterpNode(blocks.1.hook_resid_post, [:]))\n",
      "\n"
     ]
    },
    {
     "name": "stdout",
     "output_type": "stream",
     "text": [
      "Metric after removing connection to blocks.0.attn.hook_result [:, :, 7] is 1.1767313480377197 (and current metric 0.9589419960975647)\n",
      "Result is 0.21778935194015503...so removing connection\n"
     ]
    },
    {
     "name": "stdout",
     "output_type": "stream",
     "text": [
      "No edge 290\n",
      "\n",
      "Node: cur_parent=TLACDCInterpNode(blocks.0.hook_resid_pre, [:]) (self.current_node=TLACDCInterpNode(blocks.1.hook_resid_post, [:]))\n",
      "\n"
     ]
    },
    {
     "name": "stdout",
     "output_type": "stream",
     "text": [
      "Metric after removing connection to blocks.0.hook_resid_pre [:] is 2.4478158950805664 (and current metric 1.1767313480377197)\n",
      "Result is 1.2710845470428467...so keeping connection\n"
     ]
    },
    {
     "name": "stdout",
     "output_type": "stream",
     "text": [
      "No edge 290\n",
      "We moved to  blocks.1.attn.hook_result[:, :, 7]\n"
     ]
    },
    {
     "name": "stdout",
     "output_type": "stream",
     "text": [
      "No edge 290\n"
     ]
    },
    {
     "name": "stdout",
     "output_type": "stream",
     "text": [
      "No edge 290\n",
      "But it's bad\n",
      "We moved to  blocks.1.attn.hook_result[:, :, 6]\n"
     ]
    },
    {
     "name": "stdout",
     "output_type": "stream",
     "text": [
      "No edge 290\n"
     ]
    },
    {
     "data": {
      "image/png": "[encoded data removed]",
      "text/plain": [
       "<IPython.core.display.Image object>"
      ]
     },
     "metadata": {},
     "output_type": "display_data"
    },
    {
     "name": "stdout",
     "output_type": "stream",
     "text": [
      "0 --------------------------------------------------\n",
      "No edge 290\n",
      "290\n"
     ]
    },
    {
     "name": "stdout",
     "output_type": "stream",
     "text": [
      "No edge 290\n",
      "New metric: 1.1767313480377197\n"
     ]
    },
    {
     "name": "stdout",
     "output_type": "stream",
     "text": [
      "No edge 290\n"
     ]
    },
    {
     "name": "stdout",
     "output_type": "stream",
     "text": [
      "No edge 290\n"
     ]
    },
    {
     "name": "stdout",
     "output_type": "stream",
     "text": [
      "No edge 290\n",
      "We moved to  blocks.1.attn.hook_result[:, :, 5]\n"
     ]
    },
    {
     "name": "stdout",
     "output_type": "stream",
     "text": [
      "No edge 290\n"
     ]
    },
    {
     "name": "stdout",
     "output_type": "stream",
     "text": [
      "No edge 290\n",
      "But it's bad\n",
      "We moved to  blocks.1.attn.hook_result[:, :, 4]\n"
     ]
    },
    {
     "name": "stdout",
     "output_type": "stream",
     "text": [
      "No edge 290\n"
     ]
    },
    {
     "name": "stdout",
     "output_type": "stream",
     "text": [
      "No edge 290\n",
      "But it's bad\n",
      "We moved to  blocks.1.attn.hook_result[:, :, 3]\n"
     ]
    },
    {
     "name": "stdout",
     "output_type": "stream",
     "text": [
      "No edge 290\n"
     ]
    },
    {
     "name": "stdout",
     "output_type": "stream",
     "text": [
      "No edge 290\n",
      "But it's bad\n",
      "We moved to  blocks.1.attn.hook_result[:, :, 2]\n"
     ]
    },
    {
     "name": "stdout",
     "output_type": "stream",
     "text": [
      "No edge 290\n"
     ]
    },
    {
     "name": "stdout",
     "output_type": "stream",
     "text": [
      "No edge 290\n",
      "But it's bad\n",
      "We moved to  blocks.1.attn.hook_result[:, :, 1]\n"
     ]
    },
    {
     "name": "stdout",
     "output_type": "stream",
     "text": [
      "No edge 290\n"
     ]
    },
    {
     "name": "stdout",
     "output_type": "stream",
     "text": [
      "No edge 290\n",
      "But it's bad\n",
      "We moved to  blocks.1.attn.hook_result[:, :, 0]\n"
     ]
    },
    {
     "name": "stdout",
     "output_type": "stream",
     "text": [
      "No edge 290\n"
     ]
    },
    {
     "name": "stdout",
     "output_type": "stream",
     "text": [
      "No edge 290\n",
      "But it's bad\n",
      "We moved to  blocks.1.attn.hook_v[:, :, 7]\n"
     ]
    },
    {
     "name": "stdout",
     "output_type": "stream",
     "text": [
      "No edge 290\n"
     ]
    },
    {
     "name": "stdout",
     "output_type": "stream",
     "text": [
      "No edge 289\n",
      "But it's bad\n",
      "We moved to  blocks.1.attn.hook_v[:, :, 6]\n"
     ]
    },
    {
     "name": "stdout",
     "output_type": "stream",
     "text": [
      "No edge 289\n"
     ]
    },
    {
     "data": {
      "image/png": "[encoded data removed]",
      "text/plain": [
       "<IPython.core.display.Image object>"
      ]
     },
     "metadata": {},
     "output_type": "display_data"
    },
    {
     "name": "stdout",
     "output_type": "stream",
     "text": [
      "1 --------------------------------------------------\n",
      "No edge 289\n",
      "289\n"
     ]
    },
    {
     "name": "stdout",
     "output_type": "stream",
     "text": [
      "No edge 289\n",
      "New metric: 1.1767313480377197\n",
      "\n",
      "Node: cur_parent=TLACDCInterpNode(blocks.1.hook_v_input, [:, :, 6]) (self.current_node=TLACDCInterpNode(blocks.1.attn.hook_v, [:, :, 6]))\n",
      "\n"
     ]
    },
    {
     "name": "stdout",
     "output_type": "stream",
     "text": [
      "Metric after removing connection to blocks.1.hook_v_input [:, :, 6] is 11.01777172088623 (and current metric 1.1767313480377197)\n",
      "Result is 9.84104037284851...so keeping connection\n"
     ]
    },
    {
     "name": "stdout",
     "output_type": "stream",
     "text": [
      "No edge 289\n",
      "We moved to  blocks.1.attn.hook_v[:, :, 5]\n"
     ]
    },
    {
     "name": "stdout",
     "output_type": "stream",
     "text": [
      "No edge 289\n"
     ]
    },
    {
     "name": "stdout",
     "output_type": "stream",
     "text": [
      "No edge 288\n",
      "But it's bad\n",
      "We moved to  blocks.1.attn.hook_v[:, :, 4]\n"
     ]
    },
    {
     "name": "stdout",
     "output_type": "stream",
     "text": [
      "No edge 288\n"
     ]
    },
    {
     "name": "stdout",
     "output_type": "stream",
     "text": [
      "No edge 287\n",
      "But it's bad\n",
      "We moved to  blocks.1.attn.hook_v[:, :, 3]\n"
     ]
    },
    {
     "name": "stdout",
     "output_type": "stream",
     "text": [
      "No edge 287\n"
     ]
    },
    {
     "name": "stdout",
     "output_type": "stream",
     "text": [
      "No edge 286\n",
      "But it's bad\n",
      "We moved to  blocks.1.attn.hook_v[:, :, 2]\n"
     ]
    },
    {
     "name": "stdout",
     "output_type": "stream",
     "text": [
      "No edge 286\n"
     ]
    },
    {
     "name": "stdout",
     "output_type": "stream",
     "text": [
      "No edge 285\n",
      "But it's bad\n",
      "We moved to  blocks.1.attn.hook_v[:, :, 1]\n"
     ]
    },
    {
     "name": "stdout",
     "output_type": "stream",
     "text": [
      "No edge 285\n"
     ]
    },
    {
     "name": "stdout",
     "output_type": "stream",
     "text": [
      "No edge 284\n",
      "But it's bad\n",
      "We moved to  blocks.1.attn.hook_v[:, :, 0]\n"
     ]
    },
    {
     "name": "stdout",
     "output_type": "stream",
     "text": [
      "No edge 284\n"
     ]
    },
    {
     "name": "stdout",
     "output_type": "stream",
     "text": [
      "No edge 283\n",
      "But it's bad\n",
      "We moved to  blocks.1.attn.hook_k[:, :, 7]\n"
     ]
    },
    {
     "name": "stdout",
     "output_type": "stream",
     "text": [
      "No edge 283\n"
     ]
    },
    {
     "name": "stdout",
     "output_type": "stream",
     "text": [
      "No edge 282\n",
      "But it's bad\n",
      "We moved to  blocks.1.attn.hook_k[:, :, 6]\n"
     ]
    },
    {
     "name": "stdout",
     "output_type": "stream",
     "text": [
      "No edge 282\n"
     ]
    },
    {
     "data": {
      "image/png": "[encoded data removed]",
      "text/plain": [
       "<IPython.core.display.Image object>"
      ]
     },
     "metadata": {},
     "output_type": "display_data"
    },
    {
     "name": "stdout",
     "output_type": "stream",
     "text": [
      "2 --------------------------------------------------\n",
      "No edge 282\n",
      "282\n"
     ]
    },
    {
     "name": "stdout",
     "output_type": "stream",
     "text": [
      "No edge 282\n",
      "New metric: 1.1767313480377197\n",
      "\n",
      "Node: cur_parent=TLACDCInterpNode(blocks.1.hook_k_input, [:, :, 6]) (self.current_node=TLACDCInterpNode(blocks.1.attn.hook_k, [:, :, 6]))\n",
      "\n"
     ]
    },
    {
     "name": "stdout",
     "output_type": "stream",
     "text": [
      "Metric after removing connection to blocks.1.hook_k_input [:, :, 6] is 7.622519493103027 (and current metric 1.1767313480377197)\n",
      "Result is 6.445788145065308...so keeping connection\n"
     ]
    },
    {
     "name": "stdout",
     "output_type": "stream",
     "text": [
      "No edge 282\n",
      "We moved to  blocks.1.attn.hook_k[:, :, 5]\n"
     ]
    },
    {
     "name": "stdout",
     "output_type": "stream",
     "text": [
      "No edge 282\n"
     ]
    },
    {
     "name": "stdout",
     "output_type": "stream",
     "text": [
      "No edge 281\n",
      "But it's bad\n",
      "We moved to  blocks.1.attn.hook_k[:, :, 4]\n"
     ]
    },
    {
     "name": "stdout",
     "output_type": "stream",
     "text": [
      "No edge 281\n"
     ]
    },
    {
     "name": "stdout",
     "output_type": "stream",
     "text": [
      "No edge 280\n",
      "But it's bad\n",
      "We moved to  blocks.1.attn.hook_k[:, :, 3]\n"
     ]
    },
    {
     "name": "stdout",
     "output_type": "stream",
     "text": [
      "No edge 280\n"
     ]
    },
    {
     "name": "stdout",
     "output_type": "stream",
     "text": [
      "No edge 279\n",
      "But it's bad\n",
      "We moved to  blocks.1.attn.hook_k[:, :, 2]\n"
     ]
    },
    {
     "name": "stdout",
     "output_type": "stream",
     "text": [
      "No edge 279\n"
     ]
    },
    {
     "name": "stdout",
     "output_type": "stream",
     "text": [
      "No edge 278\n",
      "But it's bad\n",
      "We moved to  blocks.1.attn.hook_k[:, :, 1]\n"
     ]
    },
    {
     "name": "stdout",
     "output_type": "stream",
     "text": [
      "No edge 278\n"
     ]
    },
    {
     "name": "stdout",
     "output_type": "stream",
     "text": [
      "No edge 277\n",
      "But it's bad\n",
      "We moved to  blocks.1.attn.hook_k[:, :, 0]\n"
     ]
    },
    {
     "name": "stdout",
     "output_type": "stream",
     "text": [
      "No edge 277\n"
     ]
    },
    {
     "name": "stdout",
     "output_type": "stream",
     "text": [
      "No edge 276\n",
      "But it's bad\n",
      "We moved to  blocks.1.attn.hook_q[:, :, 7]\n"
     ]
    },
    {
     "name": "stdout",
     "output_type": "stream",
     "text": [
      "No edge 276\n"
     ]
    },
    {
     "name": "stdout",
     "output_type": "stream",
     "text": [
      "No edge 275\n",
      "But it's bad\n",
      "We moved to  blocks.1.attn.hook_q[:, :, 6]\n"
     ]
    },
    {
     "name": "stdout",
     "output_type": "stream",
     "text": [
      "No edge 275\n"
     ]
    },
    {
     "data": {
      "image/png": "[encoded data removed]",
      "text/plain": [
       "<IPython.core.display.Image object>"
      ]
     },
     "metadata": {},
     "output_type": "display_data"
    },
    {
     "name": "stdout",
     "output_type": "stream",
     "text": [
      "3 --------------------------------------------------\n",
      "No edge 275\n",
      "275\n"
     ]
    },
    {
     "name": "stdout",
     "output_type": "stream",
     "text": [
      "No edge 275\n",
      "New metric: 1.1767313480377197\n",
      "\n",
      "Node: cur_parent=TLACDCInterpNode(blocks.1.hook_q_input, [:, :, 6]) (self.current_node=TLACDCInterpNode(blocks.1.attn.hook_q, [:, :, 6]))\n",
      "\n"
     ]
    },
    {
     "name": "stdout",
     "output_type": "stream",
     "text": [
      "Metric after removing connection to blocks.1.hook_q_input [:, :, 6] is 7.622519493103027 (and current metric 1.1767313480377197)\n",
      "Result is 6.445788145065308...so keeping connection\n"
     ]
    },
    {
     "name": "stdout",
     "output_type": "stream",
     "text": [
      "No edge 275\n",
      "We moved to  blocks.1.attn.hook_q[:, :, 5]\n"
     ]
    },
    {
     "name": "stdout",
     "output_type": "stream",
     "text": [
      "No edge 275\n"
     ]
    },
    {
     "name": "stdout",
     "output_type": "stream",
     "text": [
      "No edge 274\n",
      "But it's bad\n",
      "We moved to  blocks.1.attn.hook_q[:, :, 4]\n"
     ]
    },
    {
     "name": "stdout",
     "output_type": "stream",
     "text": [
      "No edge 274\n"
     ]
    },
    {
     "name": "stdout",
     "output_type": "stream",
     "text": [
      "No edge 273\n",
      "But it's bad\n",
      "We moved to  blocks.1.attn.hook_q[:, :, 3]\n"
     ]
    },
    {
     "name": "stdout",
     "output_type": "stream",
     "text": [
      "No edge 273\n"
     ]
    },
    {
     "name": "stdout",
     "output_type": "stream",
     "text": [
      "No edge 272\n",
      "But it's bad\n",
      "We moved to  blocks.1.attn.hook_q[:, :, 2]\n"
     ]
    },
    {
     "name": "stdout",
     "output_type": "stream",
     "text": [
      "No edge 272\n"
     ]
    },
    {
     "name": "stdout",
     "output_type": "stream",
     "text": [
      "No edge 271\n",
      "But it's bad\n",
      "We moved to  blocks.1.attn.hook_q[:, :, 1]\n"
     ]
    },
    {
     "name": "stdout",
     "output_type": "stream",
     "text": [
      "No edge 271\n"
     ]
    },
    {
     "name": "stdout",
     "output_type": "stream",
     "text": [
      "No edge 270\n",
      "But it's bad\n",
      "We moved to  blocks.1.attn.hook_q[:, :, 0]\n"
     ]
    },
    {
     "name": "stdout",
     "output_type": "stream",
     "text": [
      "No edge 270\n"
     ]
    },
    {
     "name": "stdout",
     "output_type": "stream",
     "text": [
      "No edge 269\n",
      "But it's bad\n",
      "We moved to  blocks.1.hook_v_input[:, :, 7]\n"
     ]
    },
    {
     "name": "stdout",
     "output_type": "stream",
     "text": [
      "No edge 269\n"
     ]
    },
    {
     "name": "stdout",
     "output_type": "stream",
     "text": [
      "No edge 260\n",
      "But it's bad\n",
      "We moved to  blocks.1.hook_v_input[:, :, 6]\n"
     ]
    },
    {
     "name": "stdout",
     "output_type": "stream",
     "text": [
      "No edge 260\n"
     ]
    },
    {
     "data": {
      "image/png": "[encoded data removed]",
      "text/plain": [
       "<IPython.core.display.Image object>"
      ]
     },
     "metadata": {},
     "output_type": "display_data"
    },
    {
     "name": "stdout",
     "output_type": "stream",
     "text": [
      "4 --------------------------------------------------\n",
      "No edge 260\n",
      "260\n"
     ]
    },
    {
     "name": "stdout",
     "output_type": "stream",
     "text": [
      "No edge 260\n",
      "New metric: 1.1767313480377197\n",
      "\n",
      "Node: cur_parent=TLACDCInterpNode(blocks.0.attn.hook_result, [:, :, 0]) (self.current_node=TLACDCInterpNode(blocks.1.hook_v_input, [:, :, 6]))\n",
      "\n"
     ]
    },
    {
     "name": "stdout",
     "output_type": "stream",
     "text": [
      "Metric after removing connection to blocks.0.attn.hook_result [:, :, 0] is 1.4033045768737793 (and current metric 1.1767313480377197)\n",
      "Result is 0.22657322883605957...so removing connection\n",
      "\n",
      "Node: cur_parent=TLACDCInterpNode(blocks.0.attn.hook_result, [:, :, 1]) (self.current_node=TLACDCInterpNode(blocks.1.hook_v_input, [:, :, 6]))\n",
      "\n"
     ]
    },
    {
     "name": "stdout",
     "output_type": "stream",
     "text": [
      "Metric after removing connection to blocks.0.attn.hook_result [:, :, 1] is 1.5534440279006958 (and current metric 1.4033045768737793)\n",
      "Result is 0.1501394510269165...so removing connection\n",
      "\n",
      "Node: cur_parent=TLACDCInterpNode(blocks.0.attn.hook_result, [:, :, 2]) (self.current_node=TLACDCInterpNode(blocks.1.hook_v_input, [:, :, 6]))\n",
      "\n"
     ]
    },
    {
     "name": "stdout",
     "output_type": "stream",
     "text": [
      "Metric after removing connection to blocks.0.attn.hook_result [:, :, 2] is 1.717336893081665 (and current metric 1.5534440279006958)\n",
      "Result is 0.16389286518096924...so removing connection\n",
      "\n",
      "Node: cur_parent=TLACDCInterpNode(blocks.0.attn.hook_result, [:, :, 3]) (self.current_node=TLACDCInterpNode(blocks.1.hook_v_input, [:, :, 6]))\n",
      "\n"
     ]
    },
    {
     "name": "stdout",
     "output_type": "stream",
     "text": [
      "Metric after removing connection to blocks.0.attn.hook_result [:, :, 3] is 1.8117953538894653 (and current metric 1.717336893081665)\n",
      "Result is 0.09445846080780029...so removing connection\n",
      "\n",
      "Node: cur_parent=TLACDCInterpNode(blocks.0.attn.hook_result, [:, :, 4]) (self.current_node=TLACDCInterpNode(blocks.1.hook_v_input, [:, :, 6]))\n",
      "\n"
     ]
    },
    {
     "name": "stdout",
     "output_type": "stream",
     "text": [
      "Metric after removing connection to blocks.0.attn.hook_result [:, :, 4] is 1.8273440599441528 (and current metric 1.8117953538894653)\n",
      "Result is 0.0155487060546875...so removing connection\n",
      "\n",
      "Node: cur_parent=TLACDCInterpNode(blocks.0.attn.hook_result, [:, :, 5]) (self.current_node=TLACDCInterpNode(blocks.1.hook_v_input, [:, :, 6]))\n",
      "\n"
     ]
    },
    {
     "name": "stdout",
     "output_type": "stream",
     "text": [
      "Metric after removing connection to blocks.0.attn.hook_result [:, :, 5] is 2.005063772201538 (and current metric 1.8273440599441528)\n",
      "Result is 0.17771971225738525...so removing connection\n",
      "\n",
      "Node: cur_parent=TLACDCInterpNode(blocks.0.attn.hook_result, [:, :, 6]) (self.current_node=TLACDCInterpNode(blocks.1.hook_v_input, [:, :, 6]))\n",
      "\n"
     ]
    },
    {
     "name": "stdout",
     "output_type": "stream",
     "text": [
      "Metric after removing connection to blocks.0.attn.hook_result [:, :, 6] is 2.1209938526153564 (and current metric 2.005063772201538)\n",
      "Result is 0.11593008041381836...so removing connection\n",
      "\n",
      "Node: cur_parent=TLACDCInterpNode(blocks.0.attn.hook_result, [:, :, 7]) (self.current_node=TLACDCInterpNode(blocks.1.hook_v_input, [:, :, 6]))\n",
      "\n"
     ]
    },
    {
     "name": "stdout",
     "output_type": "stream",
     "text": [
      "Metric after removing connection to blocks.0.attn.hook_result [:, :, 7] is 2.098189353942871 (and current metric 2.1209938526153564)\n",
      "Result is -0.02280449867248535...so removing connection\n"
     ]
    },
    {
     "name": "stdout",
     "output_type": "stream",
     "text": [
      "No edge 252\n",
      "\n",
      "Node: cur_parent=TLACDCInterpNode(blocks.0.hook_resid_pre, [:]) (self.current_node=TLACDCInterpNode(blocks.1.hook_v_input, [:, :, 6]))\n",
      "\n"
     ]
    },
    {
     "name": "stdout",
     "output_type": "stream",
     "text": [
      "Metric after removing connection to blocks.0.hook_resid_pre [:] is 7.41469669342041 (and current metric 2.098189353942871)\n",
      "Result is 5.316507339477539...so keeping connection\n"
     ]
    },
    {
     "name": "stdout",
     "output_type": "stream",
     "text": [
      "No edge 252\n",
      "We moved to  blocks.1.hook_v_input[:, :, 5]\n"
     ]
    },
    {
     "name": "stdout",
     "output_type": "stream",
     "text": [
      "No edge 252\n"
     ]
    },
    {
     "name": "stdout",
     "output_type": "stream",
     "text": [
      "No edge 243\n",
      "But it's bad\n",
      "We moved to  blocks.1.hook_v_input[:, :, 4]\n"
     ]
    },
    {
     "name": "stdout",
     "output_type": "stream",
     "text": [
      "No edge 243\n"
     ]
    },
    {
     "name": "stdout",
     "output_type": "stream",
     "text": [
      "No edge 234\n",
      "But it's bad\n",
      "We moved to  blocks.1.hook_v_input[:, :, 3]\n"
     ]
    },
    {
     "name": "stdout",
     "output_type": "stream",
     "text": [
      "No edge 234\n"
     ]
    },
    {
     "name": "stdout",
     "output_type": "stream",
     "text": [
      "No edge 225\n",
      "But it's bad\n",
      "We moved to  blocks.1.hook_v_input[:, :, 2]\n"
     ]
    },
    {
     "name": "stdout",
     "output_type": "stream",
     "text": [
      "No edge 225\n"
     ]
    },
    {
     "name": "stdout",
     "output_type": "stream",
     "text": [
      "No edge 216\n",
      "But it's bad\n",
      "We moved to  blocks.1.hook_v_input[:, :, 1]\n"
     ]
    },
    {
     "name": "stdout",
     "output_type": "stream",
     "text": [
      "No edge 216\n"
     ]
    },
    {
     "name": "stdout",
     "output_type": "stream",
     "text": [
      "No edge 207\n",
      "But it's bad\n",
      "We moved to  blocks.1.hook_v_input[:, :, 0]\n"
     ]
    },
    {
     "name": "stdout",
     "output_type": "stream",
     "text": [
      "No edge 207\n"
     ]
    },
    {
     "name": "stdout",
     "output_type": "stream",
     "text": [
      "No edge 198\n",
      "But it's bad\n",
      "We moved to  blocks.1.hook_k_input[:, :, 7]\n"
     ]
    },
    {
     "name": "stdout",
     "output_type": "stream",
     "text": [
      "No edge 198\n"
     ]
    },
    {
     "name": "stdout",
     "output_type": "stream",
     "text": [
      "No edge 189\n",
      "But it's bad\n",
      "We moved to  blocks.1.hook_k_input[:, :, 6]\n"
     ]
    },
    {
     "name": "stdout",
     "output_type": "stream",
     "text": [
      "No edge 189\n"
     ]
    },
    {
     "data": {
      "image/png": "[encoded data removed]",
      "text/plain": [
       "<IPython.core.display.Image object>"
      ]
     },
     "metadata": {},
     "output_type": "display_data"
    },
    {
     "name": "stdout",
     "output_type": "stream",
     "text": [
      "5 --------------------------------------------------\n",
      "No edge 189\n",
      "189\n"
     ]
    },
    {
     "name": "stdout",
     "output_type": "stream",
     "text": [
      "No edge 189\n",
      "New metric: 2.098189353942871\n",
      "\n",
      "Node: cur_parent=TLACDCInterpNode(blocks.0.attn.hook_result, [:, :, 0]) (self.current_node=TLACDCInterpNode(blocks.1.hook_k_input, [:, :, 6]))\n",
      "\n"
     ]
    },
    {
     "name": "stdout",
     "output_type": "stream",
     "text": [
      "Metric after removing connection to blocks.0.attn.hook_result [:, :, 0] is 7.630985260009766 (and current metric 2.098189353942871)\n",
      "Result is 5.5327959060668945...so keeping connection\n",
      "\n",
      "Node: cur_parent=TLACDCInterpNode(blocks.0.attn.hook_result, [:, :, 1]) (self.current_node=TLACDCInterpNode(blocks.1.hook_k_input, [:, :, 6]))\n",
      "\n"
     ]
    },
    {
     "name": "stdout",
     "output_type": "stream",
     "text": [
      "Metric after removing connection to blocks.0.attn.hook_result [:, :, 1] is 2.1668386459350586 (and current metric 2.098189353942871)\n",
      "Result is 0.0686492919921875...so removing connection\n",
      "\n",
      "Node: cur_parent=TLACDCInterpNode(blocks.0.attn.hook_result, [:, :, 2]) (self.current_node=TLACDCInterpNode(blocks.1.hook_k_input, [:, :, 6]))\n",
      "\n"
     ]
    },
    {
     "name": "stdout",
     "output_type": "stream",
     "text": [
      "Metric after removing connection to blocks.0.attn.hook_result [:, :, 2] is 2.1790554523468018 (and current metric 2.1668386459350586)\n",
      "Result is 0.012216806411743164...so removing connection\n",
      "\n",
      "Node: cur_parent=TLACDCInterpNode(blocks.0.attn.hook_result, [:, :, 3]) (self.current_node=TLACDCInterpNode(blocks.1.hook_k_input, [:, :, 6]))\n",
      "\n"
     ]
    },
    {
     "name": "stdout",
     "output_type": "stream",
     "text": [
      "Metric after removing connection to blocks.0.attn.hook_result [:, :, 3] is 2.200322389602661 (and current metric 2.1790554523468018)\n",
      "Result is 0.021266937255859375...so removing connection\n",
      "\n",
      "Node: cur_parent=TLACDCInterpNode(blocks.0.attn.hook_result, [:, :, 4]) (self.current_node=TLACDCInterpNode(blocks.1.hook_k_input, [:, :, 6]))\n",
      "\n"
     ]
    },
    {
     "name": "stdout",
     "output_type": "stream",
     "text": [
      "Metric after removing connection to blocks.0.attn.hook_result [:, :, 4] is 2.213092803955078 (and current metric 2.200322389602661)\n",
      "Result is 0.012770414352416992...so removing connection\n",
      "\n",
      "Node: cur_parent=TLACDCInterpNode(blocks.0.attn.hook_result, [:, :, 5]) (self.current_node=TLACDCInterpNode(blocks.1.hook_k_input, [:, :, 6]))\n",
      "\n"
     ]
    },
    {
     "name": "stdout",
     "output_type": "stream",
     "text": [
      "Metric after removing connection to blocks.0.attn.hook_result [:, :, 5] is 2.2304043769836426 (and current metric 2.213092803955078)\n",
      "Result is 0.017311573028564453...so removing connection\n",
      "\n",
      "Node: cur_parent=TLACDCInterpNode(blocks.0.attn.hook_result, [:, :, 6]) (self.current_node=TLACDCInterpNode(blocks.1.hook_k_input, [:, :, 6]))\n",
      "\n"
     ]
    },
    {
     "name": "stdout",
     "output_type": "stream",
     "text": [
      "Metric after removing connection to blocks.0.attn.hook_result [:, :, 6] is 2.4252943992614746 (and current metric 2.2304043769836426)\n",
      "Result is 0.19489002227783203...so removing connection\n",
      "\n",
      "Node: cur_parent=TLACDCInterpNode(blocks.0.attn.hook_result, [:, :, 7]) (self.current_node=TLACDCInterpNode(blocks.1.hook_k_input, [:, :, 6]))\n",
      "\n"
     ]
    },
    {
     "name": "stdout",
     "output_type": "stream",
     "text": [
      "Metric after removing connection to blocks.0.attn.hook_result [:, :, 7] is 2.5407471656799316 (and current metric 2.4252943992614746)\n",
      "Result is 0.11545276641845703...so removing connection\n"
     ]
    },
    {
     "name": "stdout",
     "output_type": "stream",
     "text": [
      "No edge 182\n",
      "\n",
      "Node: cur_parent=TLACDCInterpNode(blocks.0.hook_resid_pre, [:]) (self.current_node=TLACDCInterpNode(blocks.1.hook_k_input, [:, :, 6]))\n",
      "\n"
     ]
    },
    {
     "name": "stdout",
     "output_type": "stream",
     "text": [
      "Metric after removing connection to blocks.0.hook_resid_pre [:] is 2.506512403488159 (and current metric 2.5407471656799316)\n",
      "Result is -0.03423476219177246...so removing connection\n"
     ]
    },
    {
     "name": "stdout",
     "output_type": "stream",
     "text": [
      "No edge 181\n",
      "We moved to  blocks.1.hook_k_input[:, :, 5]\n"
     ]
    },
    {
     "name": "stdout",
     "output_type": "stream",
     "text": [
      "No edge 181\n"
     ]
    },
    {
     "name": "stdout",
     "output_type": "stream",
     "text": [
      "No edge 172\n",
      "But it's bad\n",
      "We moved to  blocks.1.hook_k_input[:, :, 4]\n"
     ]
    },
    {
     "name": "stdout",
     "output_type": "stream",
     "text": [
      "No edge 172\n"
     ]
    },
    {
     "name": "stdout",
     "output_type": "stream",
     "text": [
      "No edge 163\n",
      "But it's bad\n",
      "We moved to  blocks.1.hook_k_input[:, :, 3]\n"
     ]
    },
    {
     "name": "stdout",
     "output_type": "stream",
     "text": [
      "No edge 163\n"
     ]
    },
    {
     "name": "stdout",
     "output_type": "stream",
     "text": [
      "No edge 154\n",
      "But it's bad\n",
      "We moved to  blocks.1.hook_k_input[:, :, 2]\n"
     ]
    },
    {
     "name": "stdout",
     "output_type": "stream",
     "text": [
      "No edge 154\n"
     ]
    },
    {
     "name": "stdout",
     "output_type": "stream",
     "text": [
      "No edge 145\n",
      "But it's bad\n",
      "We moved to  blocks.1.hook_k_input[:, :, 1]\n"
     ]
    },
    {
     "name": "stdout",
     "output_type": "stream",
     "text": [
      "No edge 145\n"
     ]
    },
    {
     "name": "stdout",
     "output_type": "stream",
     "text": [
      "No edge 136\n",
      "But it's bad\n",
      "We moved to  blocks.1.hook_k_input[:, :, 0]\n"
     ]
    },
    {
     "name": "stdout",
     "output_type": "stream",
     "text": [
      "No edge 136\n"
     ]
    },
    {
     "name": "stdout",
     "output_type": "stream",
     "text": [
      "No edge 127\n",
      "But it's bad\n",
      "We moved to  blocks.1.hook_q_input[:, :, 7]\n"
     ]
    },
    {
     "name": "stdout",
     "output_type": "stream",
     "text": [
      "No edge 127\n"
     ]
    },
    {
     "name": "stdout",
     "output_type": "stream",
     "text": [
      "No edge 118\n",
      "But it's bad\n",
      "We moved to  blocks.1.hook_q_input[:, :, 6]\n"
     ]
    },
    {
     "name": "stdout",
     "output_type": "stream",
     "text": [
      "No edge 118\n"
     ]
    },
    {
     "data": {
      "image/png": "[encoded data removed]",
      "text/plain": [
       "<IPython.core.display.Image object>"
      ]
     },
     "metadata": {},
     "output_type": "display_data"
    },
    {
     "name": "stdout",
     "output_type": "stream",
     "text": [
      "6 --------------------------------------------------\n",
      "No edge 118\n",
      "118\n"
     ]
    },
    {
     "name": "stdout",
     "output_type": "stream",
     "text": [
      "No edge 118\n",
      "New metric: 2.506512403488159\n",
      "\n",
      "Node: cur_parent=TLACDCInterpNode(blocks.0.attn.hook_result, [:, :, 0]) (self.current_node=TLACDCInterpNode(blocks.1.hook_q_input, [:, :, 6]))\n",
      "\n"
     ]
    },
    {
     "name": "stdout",
     "output_type": "stream",
     "text": [
      "Metric after removing connection to blocks.0.attn.hook_result [:, :, 0] is 2.5183959007263184 (and current metric 2.506512403488159)\n",
      "Result is 0.01188349723815918...so removing connection\n",
      "\n",
      "Node: cur_parent=TLACDCInterpNode(blocks.0.attn.hook_result, [:, :, 1]) (self.current_node=TLACDCInterpNode(blocks.1.hook_q_input, [:, :, 6]))\n",
      "\n"
     ]
    },
    {
     "name": "stdout",
     "output_type": "stream",
     "text": [
      "Metric after removing connection to blocks.0.attn.hook_result [:, :, 1] is 2.506959915161133 (and current metric 2.5183959007263184)\n",
      "Result is -0.011435985565185547...so removing connection\n",
      "\n",
      "Node: cur_parent=TLACDCInterpNode(blocks.0.attn.hook_result, [:, :, 2]) (self.current_node=TLACDCInterpNode(blocks.1.hook_q_input, [:, :, 6]))\n",
      "\n"
     ]
    },
    {
     "name": "stdout",
     "output_type": "stream",
     "text": [
      "Metric after removing connection to blocks.0.attn.hook_result [:, :, 2] is 2.4838063716888428 (and current metric 2.506959915161133)\n",
      "Result is -0.02315354347229004...so removing connection\n",
      "\n",
      "Node: cur_parent=TLACDCInterpNode(blocks.0.attn.hook_result, [:, :, 3]) (self.current_node=TLACDCInterpNode(blocks.1.hook_q_input, [:, :, 6]))\n",
      "\n"
     ]
    },
    {
     "name": "stdout",
     "output_type": "stream",
     "text": [
      "Metric after removing connection to blocks.0.attn.hook_result [:, :, 3] is 2.4825820922851562 (and current metric 2.4838063716888428)\n",
      "Result is -0.0012242794036865234...so removing connection\n",
      "\n",
      "Node: cur_parent=TLACDCInterpNode(blocks.0.attn.hook_result, [:, :, 4]) (self.current_node=TLACDCInterpNode(blocks.1.hook_q_input, [:, :, 6]))\n",
      "\n"
     ]
    },
    {
     "name": "stdout",
     "output_type": "stream",
     "text": [
      "Metric after removing connection to blocks.0.attn.hook_result [:, :, 4] is 2.5089821815490723 (and current metric 2.4825820922851562)\n",
      "Result is 0.026400089263916016...so removing connection\n",
      "\n",
      "Node: cur_parent=TLACDCInterpNode(blocks.0.attn.hook_result, [:, :, 5]) (self.current_node=TLACDCInterpNode(blocks.1.hook_q_input, [:, :, 6]))\n",
      "\n"
     ]
    },
    {
     "name": "stdout",
     "output_type": "stream",
     "text": [
      "Metric after removing connection to blocks.0.attn.hook_result [:, :, 5] is 2.5202736854553223 (and current metric 2.5089821815490723)\n",
      "Result is 0.01129150390625...so removing connection\n",
      "\n",
      "Node: cur_parent=TLACDCInterpNode(blocks.0.attn.hook_result, [:, :, 6]) (self.current_node=TLACDCInterpNode(blocks.1.hook_q_input, [:, :, 6]))\n",
      "\n"
     ]
    },
    {
     "name": "stdout",
     "output_type": "stream",
     "text": [
      "Metric after removing connection to blocks.0.attn.hook_result [:, :, 6] is 2.5185937881469727 (and current metric 2.5202736854553223)\n",
      "Result is -0.0016798973083496094...so removing connection\n",
      "\n",
      "Node: cur_parent=TLACDCInterpNode(blocks.0.attn.hook_result, [:, :, 7]) (self.current_node=TLACDCInterpNode(blocks.1.hook_q_input, [:, :, 6]))\n",
      "\n"
     ]
    },
    {
     "name": "stdout",
     "output_type": "stream",
     "text": [
      "Metric after removing connection to blocks.0.attn.hook_result [:, :, 7] is 2.5276412963867188 (and current metric 2.5185937881469727)\n",
      "Result is 0.009047508239746094...so removing connection\n"
     ]
    },
    {
     "name": "stdout",
     "output_type": "stream",
     "text": [
      "No edge 110\n",
      "\n",
      "Node: cur_parent=TLACDCInterpNode(blocks.0.hook_resid_pre, [:]) (self.current_node=TLACDCInterpNode(blocks.1.hook_q_input, [:, :, 6]))\n",
      "\n"
     ]
    },
    {
     "name": "stdout",
     "output_type": "stream",
     "text": [
      "Metric after removing connection to blocks.0.hook_resid_pre [:] is 10.830307960510254 (and current metric 2.5276412963867188)\n",
      "Result is 8.302666664123535...so keeping connection\n"
     ]
    },
    {
     "name": "stdout",
     "output_type": "stream",
     "text": [
      "No edge 110\n",
      "We moved to  blocks.1.hook_q_input[:, :, 5]\n"
     ]
    },
    {
     "name": "stdout",
     "output_type": "stream",
     "text": [
      "No edge 110\n"
     ]
    },
    {
     "name": "stdout",
     "output_type": "stream",
     "text": [
      "No edge 101\n",
      "But it's bad\n",
      "We moved to  blocks.1.hook_q_input[:, :, 4]\n"
     ]
    },
    {
     "name": "stdout",
     "output_type": "stream",
     "text": [
      "No edge 101\n"
     ]
    },
    {
     "name": "stdout",
     "output_type": "stream",
     "text": [
      "No edge 92\n",
      "But it's bad\n",
      "We moved to  blocks.1.hook_q_input[:, :, 3]\n"
     ]
    },
    {
     "name": "stdout",
     "output_type": "stream",
     "text": [
      "No edge 92\n"
     ]
    },
    {
     "name": "stdout",
     "output_type": "stream",
     "text": [
      "No edge 83\n",
      "But it's bad\n",
      "We moved to  blocks.1.hook_q_input[:, :, 2]\n"
     ]
    },
    {
     "name": "stdout",
     "output_type": "stream",
     "text": [
      "No edge 83\n"
     ]
    },
    {
     "name": "stdout",
     "output_type": "stream",
     "text": [
      "No edge 74\n",
      "But it's bad\n",
      "We moved to  blocks.1.hook_q_input[:, :, 1]\n"
     ]
    },
    {
     "name": "stdout",
     "output_type": "stream",
     "text": [
      "No edge 74\n"
     ]
    },
    {
     "name": "stdout",
     "output_type": "stream",
     "text": [
      "No edge 65\n",
      "But it's bad\n",
      "We moved to  blocks.1.hook_q_input[:, :, 0]\n"
     ]
    },
    {
     "name": "stdout",
     "output_type": "stream",
     "text": [
      "No edge 65\n"
     ]
    },
    {
     "name": "stdout",
     "output_type": "stream",
     "text": [
      "No edge 56\n",
      "But it's bad\n",
      "We moved to  blocks.0.attn.hook_result[:, :, 7]\n"
     ]
    },
    {
     "name": "stdout",
     "output_type": "stream",
     "text": [
      "No edge 56\n"
     ]
    },
    {
     "name": "stdout",
     "output_type": "stream",
     "text": [
      "No edge 56\n",
      "But it's bad\n",
      "We moved to  blocks.0.attn.hook_result[:, :, 6]\n"
     ]
    },
    {
     "name": "stdout",
     "output_type": "stream",
     "text": [
      "No edge 56\n"
     ]
    },
    {
     "name": "stdout",
     "output_type": "stream",
     "text": [
      "No edge 56\n",
      "But it's bad\n",
      "We moved to  blocks.0.attn.hook_result[:, :, 5]\n"
     ]
    },
    {
     "name": "stdout",
     "output_type": "stream",
     "text": [
      "No edge 56\n"
     ]
    },
    {
     "name": "stdout",
     "output_type": "stream",
     "text": [
      "No edge 56\n",
      "But it's bad\n",
      "We moved to  blocks.0.attn.hook_result[:, :, 4]\n"
     ]
    },
    {
     "name": "stdout",
     "output_type": "stream",
     "text": [
      "No edge 56\n"
     ]
    },
    {
     "name": "stdout",
     "output_type": "stream",
     "text": [
      "No edge 56\n",
      "But it's bad\n",
      "We moved to  blocks.0.attn.hook_result[:, :, 3]\n"
     ]
    },
    {
     "name": "stdout",
     "output_type": "stream",
     "text": [
      "No edge 56\n"
     ]
    },
    {
     "name": "stdout",
     "output_type": "stream",
     "text": [
      "No edge 56\n",
      "But it's bad\n",
      "We moved to  blocks.0.attn.hook_result[:, :, 2]\n"
     ]
    },
    {
     "name": "stdout",
     "output_type": "stream",
     "text": [
      "No edge 56\n"
     ]
    },
    {
     "name": "stdout",
     "output_type": "stream",
     "text": [
      "No edge 56\n",
      "But it's bad\n",
      "We moved to  blocks.0.attn.hook_result[:, :, 1]\n"
     ]
    },
    {
     "name": "stdout",
     "output_type": "stream",
     "text": [
      "No edge 56\n"
     ]
    },
    {
     "name": "stdout",
     "output_type": "stream",
     "text": [
      "No edge 56\n",
      "But it's bad\n",
      "We moved to  blocks.0.attn.hook_result[:, :, 0]\n"
     ]
    },
    {
     "name": "stdout",
     "output_type": "stream",
     "text": [
      "No edge 56\n"
     ]
    },
    {
     "data": {
      "image/png": "[encoded data removed]",
      "text/plain": [
       "<IPython.core.display.Image object>"
      ]
     },
     "metadata": {},
     "output_type": "display_data"
    },
    {
     "name": "stdout",
     "output_type": "stream",
     "text": [
      "7 --------------------------------------------------\n",
      "No edge 56\n",
      "56\n"
     ]
    },
    {
     "name": "stdout",
     "output_type": "stream",
     "text": [
      "No edge 56\n",
      "New metric: 2.5276412963867188\n"
     ]
    },
    {
     "name": "stdout",
     "output_type": "stream",
     "text": [
      "No edge 56\n"
     ]
    },
    {
     "name": "stdout",
     "output_type": "stream",
     "text": [
      "No edge 56\n"
     ]
    },
    {
     "name": "stdout",
     "output_type": "stream",
     "text": [
      "No edge 56\n",
      "We moved to  blocks.0.attn.hook_v[:, :, 7]\n"
     ]
    },
    {
     "name": "stdout",
     "output_type": "stream",
     "text": [
      "No edge 56\n"
     ]
    },
    {
     "name": "stdout",
     "output_type": "stream",
     "text": [
      "No edge 55\n",
      "But it's bad\n",
      "We moved to  blocks.0.attn.hook_v[:, :, 6]\n"
     ]
    },
    {
     "name": "stdout",
     "output_type": "stream",
     "text": [
      "No edge 55\n"
     ]
    },
    {
     "name": "stdout",
     "output_type": "stream",
     "text": [
      "No edge 54\n",
      "But it's bad\n",
      "We moved to  blocks.0.attn.hook_v[:, :, 5]\n"
     ]
    },
    {
     "name": "stdout",
     "output_type": "stream",
     "text": [
      "No edge 54\n"
     ]
    },
    {
     "name": "stdout",
     "output_type": "stream",
     "text": [
      "No edge 53\n",
      "But it's bad\n",
      "We moved to  blocks.0.attn.hook_v[:, :, 4]\n"
     ]
    },
    {
     "name": "stdout",
     "output_type": "stream",
     "text": [
      "No edge 53\n"
     ]
    },
    {
     "name": "stdout",
     "output_type": "stream",
     "text": [
      "No edge 52\n",
      "But it's bad\n",
      "We moved to  blocks.0.attn.hook_v[:, :, 3]\n"
     ]
    },
    {
     "name": "stdout",
     "output_type": "stream",
     "text": [
      "No edge 52\n"
     ]
    },
    {
     "name": "stdout",
     "output_type": "stream",
     "text": [
      "No edge 51\n",
      "But it's bad\n",
      "We moved to  blocks.0.attn.hook_v[:, :, 2]\n"
     ]
    },
    {
     "name": "stdout",
     "output_type": "stream",
     "text": [
      "No edge 51\n"
     ]
    },
    {
     "name": "stdout",
     "output_type": "stream",
     "text": [
      "No edge 50\n",
      "But it's bad\n",
      "We moved to  blocks.0.attn.hook_v[:, :, 1]\n"
     ]
    },
    {
     "name": "stdout",
     "output_type": "stream",
     "text": [
      "No edge 50\n"
     ]
    },
    {
     "name": "stdout",
     "output_type": "stream",
     "text": [
      "No edge 49\n",
      "But it's bad\n",
      "We moved to  blocks.0.attn.hook_v[:, :, 0]\n"
     ]
    },
    {
     "name": "stdout",
     "output_type": "stream",
     "text": [
      "No edge 49\n"
     ]
    },
    {
     "data": {
      "image/png": "[encoded data removed]",
      "text/plain": [
       "<IPython.core.display.Image object>"
      ]
     },
     "metadata": {},
     "output_type": "display_data"
    },
    {
     "name": "stdout",
     "output_type": "stream",
     "text": [
      "8 --------------------------------------------------\n",
      "No edge 49\n",
      "49\n"
     ]
    },
    {
     "name": "stdout",
     "output_type": "stream",
     "text": [
      "No edge 49\n",
      "New metric: 2.5276412963867188\n",
      "\n",
      "Node: cur_parent=TLACDCInterpNode(blocks.0.hook_v_input, [:, :, 0]) (self.current_node=TLACDCInterpNode(blocks.0.attn.hook_v, [:, :, 0]))\n",
      "\n"
     ]
    },
    {
     "name": "stdout",
     "output_type": "stream",
     "text": [
      "Metric after removing connection to blocks.0.hook_v_input [:, :, 0] is 10.483281135559082 (and current metric 2.5276412963867188)\n",
      "Result is 7.955639839172363...so keeping connection\n"
     ]
    },
    {
     "name": "stdout",
     "output_type": "stream",
     "text": [
      "No edge 49\n",
      "We moved to  blocks.0.attn.hook_k[:, :, 7]\n"
     ]
    },
    {
     "name": "stdout",
     "output_type": "stream",
     "text": [
      "No edge 49\n"
     ]
    },
    {
     "name": "stdout",
     "output_type": "stream",
     "text": [
      "No edge 48\n",
      "But it's bad\n",
      "We moved to  blocks.0.attn.hook_k[:, :, 6]\n"
     ]
    },
    {
     "name": "stdout",
     "output_type": "stream",
     "text": [
      "No edge 48\n"
     ]
    },
    {
     "name": "stdout",
     "output_type": "stream",
     "text": [
      "No edge 47\n",
      "But it's bad\n",
      "We moved to  blocks.0.attn.hook_k[:, :, 5]\n"
     ]
    },
    {
     "name": "stdout",
     "output_type": "stream",
     "text": [
      "No edge 47\n"
     ]
    },
    {
     "name": "stdout",
     "output_type": "stream",
     "text": [
      "No edge 46\n",
      "But it's bad\n",
      "We moved to  blocks.0.attn.hook_k[:, :, 4]\n"
     ]
    },
    {
     "name": "stdout",
     "output_type": "stream",
     "text": [
      "No edge 46\n"
     ]
    },
    {
     "name": "stdout",
     "output_type": "stream",
     "text": [
      "No edge 45\n",
      "But it's bad\n",
      "We moved to  blocks.0.attn.hook_k[:, :, 3]\n"
     ]
    },
    {
     "name": "stdout",
     "output_type": "stream",
     "text": [
      "No edge 45\n"
     ]
    },
    {
     "name": "stdout",
     "output_type": "stream",
     "text": [
      "No edge 44\n",
      "But it's bad\n",
      "We moved to  blocks.0.attn.hook_k[:, :, 2]\n"
     ]
    },
    {
     "name": "stdout",
     "output_type": "stream",
     "text": [
      "No edge 44\n"
     ]
    },
    {
     "name": "stdout",
     "output_type": "stream",
     "text": [
      "No edge 43\n",
      "But it's bad\n",
      "We moved to  blocks.0.attn.hook_k[:, :, 1]\n"
     ]
    },
    {
     "name": "stdout",
     "output_type": "stream",
     "text": [
      "No edge 43\n"
     ]
    },
    {
     "name": "stdout",
     "output_type": "stream",
     "text": [
      "No edge 42\n",
      "But it's bad\n",
      "We moved to  blocks.0.attn.hook_k[:, :, 0]\n"
     ]
    },
    {
     "name": "stdout",
     "output_type": "stream",
     "text": [
      "No edge 42\n"
     ]
    },
    {
     "data": {
      "image/png": "[encoded data removed]",
      "text/plain": [
       "<IPython.core.display.Image object>"
      ]
     },
     "metadata": {},
     "output_type": "display_data"
    },
    {
     "name": "stdout",
     "output_type": "stream",
     "text": [
      "9 --------------------------------------------------\n",
      "No edge 42\n",
      "42\n"
     ]
    },
    {
     "name": "stdout",
     "output_type": "stream",
     "text": [
      "No edge 42\n",
      "New metric: 2.5276412963867188\n",
      "\n",
      "Node: cur_parent=TLACDCInterpNode(blocks.0.hook_k_input, [:, :, 0]) (self.current_node=TLACDCInterpNode(blocks.0.attn.hook_k, [:, :, 0]))\n",
      "\n"
     ]
    },
    {
     "name": "stdout",
     "output_type": "stream",
     "text": [
      "Metric after removing connection to blocks.0.hook_k_input [:, :, 0] is 10.687694549560547 (and current metric 2.5276412963867188)\n",
      "Result is 8.160053253173828...so keeping connection\n"
     ]
    },
    {
     "name": "stdout",
     "output_type": "stream",
     "text": [
      "No edge 42\n",
      "We moved to  blocks.0.attn.hook_q[:, :, 7]\n"
     ]
    },
    {
     "name": "stdout",
     "output_type": "stream",
     "text": [
      "No edge 42\n"
     ]
    },
    {
     "name": "stdout",
     "output_type": "stream",
     "text": [
      "No edge 41\n",
      "But it's bad\n",
      "We moved to  blocks.0.attn.hook_q[:, :, 6]\n"
     ]
    },
    {
     "name": "stdout",
     "output_type": "stream",
     "text": [
      "No edge 41\n"
     ]
    },
    {
     "name": "stdout",
     "output_type": "stream",
     "text": [
      "No edge 40\n",
      "But it's bad\n",
      "We moved to  blocks.0.attn.hook_q[:, :, 5]\n"
     ]
    },
    {
     "name": "stdout",
     "output_type": "stream",
     "text": [
      "No edge 40\n"
     ]
    },
    {
     "name": "stdout",
     "output_type": "stream",
     "text": [
      "No edge 39\n",
      "But it's bad\n",
      "We moved to  blocks.0.attn.hook_q[:, :, 4]\n"
     ]
    },
    {
     "name": "stdout",
     "output_type": "stream",
     "text": [
      "No edge 39\n"
     ]
    },
    {
     "name": "stdout",
     "output_type": "stream",
     "text": [
      "No edge 38\n",
      "But it's bad\n",
      "We moved to  blocks.0.attn.hook_q[:, :, 3]\n"
     ]
    },
    {
     "name": "stdout",
     "output_type": "stream",
     "text": [
      "No edge 38\n"
     ]
    },
    {
     "name": "stdout",
     "output_type": "stream",
     "text": [
      "No edge 37\n",
      "But it's bad\n",
      "We moved to  blocks.0.attn.hook_q[:, :, 2]\n"
     ]
    },
    {
     "name": "stdout",
     "output_type": "stream",
     "text": [
      "No edge 37\n"
     ]
    },
    {
     "name": "stdout",
     "output_type": "stream",
     "text": [
      "No edge 36\n",
      "But it's bad\n",
      "We moved to  blocks.0.attn.hook_q[:, :, 1]\n"
     ]
    },
    {
     "name": "stdout",
     "output_type": "stream",
     "text": [
      "No edge 36\n"
     ]
    },
    {
     "name": "stdout",
     "output_type": "stream",
     "text": [
      "No edge 35\n",
      "But it's bad\n",
      "We moved to  blocks.0.attn.hook_q[:, :, 0]\n"
     ]
    },
    {
     "name": "stdout",
     "output_type": "stream",
     "text": [
      "No edge 35\n"
     ]
    },
    {
     "data": {
      "image/png": "[encoded data removed]",
      "text/plain": [
       "<IPython.core.display.Image object>"
      ]
     },
     "metadata": {},
     "output_type": "display_data"
    },
    {
     "name": "stdout",
     "output_type": "stream",
     "text": [
      "10 --------------------------------------------------\n",
      "No edge 35\n",
      "35\n"
     ]
    },
    {
     "name": "stdout",
     "output_type": "stream",
     "text": [
      "No edge 35\n",
      "New metric: 2.5276412963867188\n",
      "\n",
      "Node: cur_parent=TLACDCInterpNode(blocks.0.hook_q_input, [:, :, 0]) (self.current_node=TLACDCInterpNode(blocks.0.attn.hook_q, [:, :, 0]))\n",
      "\n"
     ]
    },
    {
     "name": "stdout",
     "output_type": "stream",
     "text": [
      "Metric after removing connection to blocks.0.hook_q_input [:, :, 0] is 10.687694549560547 (and current metric 2.5276412963867188)\n",
      "Result is 8.160053253173828...so keeping connection\n"
     ]
    },
    {
     "name": "stdout",
     "output_type": "stream",
     "text": [
      "No edge 35\n",
      "We moved to  blocks.0.hook_v_input[:, :, 7]\n"
     ]
    },
    {
     "name": "stdout",
     "output_type": "stream",
     "text": [
      "No edge 35\n"
     ]
    },
    {
     "name": "stdout",
     "output_type": "stream",
     "text": [
      "No edge 34\n",
      "But it's bad\n",
      "We moved to  blocks.0.hook_v_input[:, :, 6]\n"
     ]
    },
    {
     "name": "stdout",
     "output_type": "stream",
     "text": [
      "No edge 34\n"
     ]
    },
    {
     "name": "stdout",
     "output_type": "stream",
     "text": [
      "No edge 33\n",
      "But it's bad\n",
      "We moved to  blocks.0.hook_v_input[:, :, 5]\n"
     ]
    },
    {
     "name": "stdout",
     "output_type": "stream",
     "text": [
      "No edge 33\n"
     ]
    },
    {
     "name": "stdout",
     "output_type": "stream",
     "text": [
      "No edge 32\n",
      "But it's bad\n",
      "We moved to  blocks.0.hook_v_input[:, :, 4]\n"
     ]
    },
    {
     "name": "stdout",
     "output_type": "stream",
     "text": [
      "No edge 32\n"
     ]
    },
    {
     "name": "stdout",
     "output_type": "stream",
     "text": [
      "No edge 31\n",
      "But it's bad\n",
      "We moved to  blocks.0.hook_v_input[:, :, 3]\n"
     ]
    },
    {
     "name": "stdout",
     "output_type": "stream",
     "text": [
      "No edge 31\n"
     ]
    },
    {
     "name": "stdout",
     "output_type": "stream",
     "text": [
      "No edge 30\n",
      "But it's bad\n",
      "We moved to  blocks.0.hook_v_input[:, :, 2]\n"
     ]
    },
    {
     "name": "stdout",
     "output_type": "stream",
     "text": [
      "No edge 30\n"
     ]
    },
    {
     "name": "stdout",
     "output_type": "stream",
     "text": [
      "No edge 29\n",
      "But it's bad\n",
      "We moved to  blocks.0.hook_v_input[:, :, 1]\n"
     ]
    },
    {
     "name": "stdout",
     "output_type": "stream",
     "text": [
      "No edge 29\n"
     ]
    },
    {
     "name": "stdout",
     "output_type": "stream",
     "text": [
      "No edge 28\n",
      "But it's bad\n",
      "We moved to  blocks.0.hook_v_input[:, :, 0]\n"
     ]
    },
    {
     "name": "stdout",
     "output_type": "stream",
     "text": [
      "No edge 28\n"
     ]
    },
    {
     "data": {
      "image/png": "[encoded data removed]",
      "text/plain": [
       "<IPython.core.display.Image object>"
      ]
     },
     "metadata": {},
     "output_type": "display_data"
    },
    {
     "name": "stdout",
     "output_type": "stream",
     "text": [
      "11 --------------------------------------------------\n",
      "No edge 28\n",
      "28\n"
     ]
    },
    {
     "name": "stdout",
     "output_type": "stream",
     "text": [
      "No edge 28\n",
      "New metric: 2.5276412963867188\n",
      "\n",
      "Node: cur_parent=TLACDCInterpNode(blocks.0.hook_resid_pre, [:]) (self.current_node=TLACDCInterpNode(blocks.0.hook_v_input, [:, :, 0]))\n",
      "\n"
     ]
    },
    {
     "name": "stdout",
     "output_type": "stream",
     "text": [
      "Metric after removing connection to blocks.0.hook_resid_pre [:] is 10.483282089233398 (and current metric 2.5276412963867188)\n",
      "Result is 7.95564079284668...so keeping connection\n"
     ]
    },
    {
     "name": "stdout",
     "output_type": "stream",
     "text": [
      "No edge 28\n",
      "We moved to  blocks.0.hook_k_input[:, :, 7]\n"
     ]
    },
    {
     "name": "stdout",
     "output_type": "stream",
     "text": [
      "No edge 28\n"
     ]
    },
    {
     "name": "stdout",
     "output_type": "stream",
     "text": [
      "No edge 27\n",
      "But it's bad\n",
      "We moved to  blocks.0.hook_k_input[:, :, 6]\n"
     ]
    },
    {
     "name": "stdout",
     "output_type": "stream",
     "text": [
      "No edge 27\n"
     ]
    },
    {
     "name": "stdout",
     "output_type": "stream",
     "text": [
      "No edge 26\n",
      "But it's bad\n",
      "We moved to  blocks.0.hook_k_input[:, :, 5]\n"
     ]
    },
    {
     "name": "stdout",
     "output_type": "stream",
     "text": [
      "No edge 26\n"
     ]
    },
    {
     "name": "stdout",
     "output_type": "stream",
     "text": [
      "No edge 25\n",
      "But it's bad\n",
      "We moved to  blocks.0.hook_k_input[:, :, 4]\n"
     ]
    },
    {
     "name": "stdout",
     "output_type": "stream",
     "text": [
      "No edge 25\n"
     ]
    },
    {
     "name": "stdout",
     "output_type": "stream",
     "text": [
      "No edge 24\n",
      "But it's bad\n",
      "We moved to  blocks.0.hook_k_input[:, :, 3]\n"
     ]
    },
    {
     "name": "stdout",
     "output_type": "stream",
     "text": [
      "No edge 24\n"
     ]
    },
    {
     "name": "stdout",
     "output_type": "stream",
     "text": [
      "No edge 23\n",
      "But it's bad\n",
      "We moved to  blocks.0.hook_k_input[:, :, 2]\n"
     ]
    },
    {
     "name": "stdout",
     "output_type": "stream",
     "text": [
      "No edge 23\n"
     ]
    },
    {
     "name": "stdout",
     "output_type": "stream",
     "text": [
      "No edge 22\n",
      "But it's bad\n",
      "We moved to  blocks.0.hook_k_input[:, :, 1]\n"
     ]
    },
    {
     "name": "stdout",
     "output_type": "stream",
     "text": [
      "No edge 22\n"
     ]
    },
    {
     "name": "stdout",
     "output_type": "stream",
     "text": [
      "No edge 21\n",
      "But it's bad\n",
      "We moved to  blocks.0.hook_k_input[:, :, 0]\n"
     ]
    },
    {
     "name": "stdout",
     "output_type": "stream",
     "text": [
      "No edge 21\n"
     ]
    },
    {
     "data": {
      "image/png": "[encoded data removed]",
      "text/plain": [
       "<IPython.core.display.Image object>"
      ]
     },
     "metadata": {},
     "output_type": "display_data"
    },
    {
     "name": "stdout",
     "output_type": "stream",
     "text": [
      "12 --------------------------------------------------\n",
      "No edge 21\n",
      "21\n"
     ]
    },
    {
     "name": "stdout",
     "output_type": "stream",
     "text": [
      "No edge 21\n",
      "New metric: 2.5276412963867188\n",
      "\n",
      "Node: cur_parent=TLACDCInterpNode(blocks.0.hook_resid_pre, [:]) (self.current_node=TLACDCInterpNode(blocks.0.hook_k_input, [:, :, 0]))\n",
      "\n"
     ]
    },
    {
     "name": "stdout",
     "output_type": "stream",
     "text": [
      "Metric after removing connection to blocks.0.hook_resid_pre [:] is 2.4865338802337646 (and current metric 2.5276412963867188)\n",
      "Result is -0.0411074161529541...so removing connection\n"
     ]
    },
    {
     "name": "stdout",
     "output_type": "stream",
     "text": [
      "No edge 20\n",
      "We moved to  blocks.0.hook_q_input[:, :, 7]\n"
     ]
    },
    {
     "name": "stdout",
     "output_type": "stream",
     "text": [
      "No edge 20\n"
     ]
    },
    {
     "name": "stdout",
     "output_type": "stream",
     "text": [
      "No edge 19\n",
      "But it's bad\n",
      "We moved to  blocks.0.hook_q_input[:, :, 6]\n"
     ]
    },
    {
     "name": "stdout",
     "output_type": "stream",
     "text": [
      "No edge 19\n"
     ]
    },
    {
     "name": "stdout",
     "output_type": "stream",
     "text": [
      "No edge 18\n",
      "But it's bad\n",
      "We moved to  blocks.0.hook_q_input[:, :, 5]\n"
     ]
    },
    {
     "name": "stdout",
     "output_type": "stream",
     "text": [
      "No edge 18\n"
     ]
    },
    {
     "name": "stdout",
     "output_type": "stream",
     "text": [
      "No edge 17\n",
      "But it's bad\n",
      "We moved to  blocks.0.hook_q_input[:, :, 4]\n"
     ]
    },
    {
     "name": "stdout",
     "output_type": "stream",
     "text": [
      "No edge 17\n"
     ]
    },
    {
     "name": "stdout",
     "output_type": "stream",
     "text": [
      "No edge 16\n",
      "But it's bad\n",
      "We moved to  blocks.0.hook_q_input[:, :, 3]\n"
     ]
    },
    {
     "name": "stdout",
     "output_type": "stream",
     "text": [
      "No edge 16\n"
     ]
    },
    {
     "name": "stdout",
     "output_type": "stream",
     "text": [
      "No edge 15\n",
      "But it's bad\n",
      "We moved to  blocks.0.hook_q_input[:, :, 2]\n"
     ]
    },
    {
     "name": "stdout",
     "output_type": "stream",
     "text": [
      "No edge 15\n"
     ]
    },
    {
     "name": "stdout",
     "output_type": "stream",
     "text": [
      "No edge 14\n",
      "But it's bad\n",
      "We moved to  blocks.0.hook_q_input[:, :, 1]\n"
     ]
    },
    {
     "name": "stdout",
     "output_type": "stream",
     "text": [
      "No edge 14\n"
     ]
    },
    {
     "name": "stdout",
     "output_type": "stream",
     "text": [
      "No edge 13\n",
      "But it's bad\n",
      "We moved to  blocks.0.hook_q_input[:, :, 0]\n"
     ]
    },
    {
     "name": "stdout",
     "output_type": "stream",
     "text": [
      "No edge 13\n"
     ]
    },
    {
     "data": {
      "image/png": "[encoded data removed]",
      "text/plain": [
       "<IPython.core.display.Image object>"
      ]
     },
     "metadata": {},
     "output_type": "display_data"
    },
    {
     "name": "stdout",
     "output_type": "stream",
     "text": [
      "13 --------------------------------------------------\n",
      "No edge 13\n",
      "13\n"
     ]
    },
    {
     "name": "stdout",
     "output_type": "stream",
     "text": [
      "No edge 13\n",
      "New metric: 2.4865338802337646\n",
      "\n",
      "Node: cur_parent=TLACDCInterpNode(blocks.0.hook_resid_pre, [:]) (self.current_node=TLACDCInterpNode(blocks.0.hook_q_input, [:, :, 0]))\n",
      "\n"
     ]
    },
    {
     "name": "stdout",
     "output_type": "stream",
     "text": [
      "Metric after removing connection to blocks.0.hook_resid_pre [:] is 2.4794909954071045 (and current metric 2.4865338802337646)\n",
      "Result is -0.007042884826660156...so removing connection\n"
     ]
    },
    {
     "name": "stdout",
     "output_type": "stream",
     "text": [
      "No edge 12\n",
      "We moved to  blocks.0.hook_resid_pre[:]\n"
     ]
    },
    {
     "name": "stdout",
     "output_type": "stream",
     "text": [
      "No edge 12\n"
     ]
    },
    {
     "data": {
      "image/png": "[encoded data removed]",
      "text/plain": [
       "<IPython.core.display.Image object>"
      ]
     },
     "metadata": {},
     "output_type": "display_data"
    },
    {
     "name": "stdout",
     "output_type": "stream",
     "text": [
      "14 --------------------------------------------------\n",
      "No edge 12\n",
      "12\n"
     ]
    },
    {
     "name": "stdout",
     "output_type": "stream",
     "text": [
      "No edge 12\n",
      "New metric: 2.4794909954071045\n",
      "We moved to  None\n"
     ]
    },
    {
     "name": "stderr",
     "output_type": "stream",
     "text": [
      "/root/Automatic-Circuit-Discovery/acdc/TLACDCExperiment.py:716: UserWarning:\n",
      "\n",
      "Finished iterating\n",
      "\n"
     ]
    },
    {
     "name": "stdout",
     "output_type": "stream",
     "text": [
      "No edge 12\n"
     ]
    },
    {
     "data": {
      "image/png": "[encoded data removed]",
      "text/plain": [
       "<IPython.core.display.Image object>"
      ]
     },
     "metadata": {},
     "output_type": "display_data"
    },
    {
     "name": "stdout",
     "output_type": "stream",
     "text": [
      "15 --------------------------------------------------\n",
      "No edge 12\n",
      "12\n"
     ]
    }
   ],
   "source": [
    "for i in range(args.max_num_epochs):\n",
    "    exp.step(testing=False)\n",
    "\n",
    "    show(\n",
    "        exp.corr,\n",
    "        f\"ims/img_new_{i+1}.png\",\n",
    "        show_full_index=use_pos_embed,\n",
    "    )\n",
    "\n",
    "    if IN_COLAB or ipython is not None:\n",
    "        # so long as we're not running this as a script, show the image!\n",
    "        display(Image(f\"ims/img_new_{i+1}.png\"))\n",
    "\n",
    "    print(i, \"-\" * 50)\n",
    "    print(exp.count_no_edges())\n",
    "\n",
    "    if i == 0:\n",
    "        exp.save_edges(\"edges.pkl\")\n",
    "\n",
    "    if exp.current_node is None or SINGLE_STEP:\n",
    "        break\n",
    "\n",
    "exp.save_edges(\"another_final_edges.pkl\")\n",
    "\n",
    "if USING_WANDB:\n",
    "    edges_fname = f\"edges.pth\"\n",
    "    exp.save_edges(edges_fname)\n",
    "    artifact = wandb.Artifact(edges_fname, type=\"dataset\")\n",
    "    artifact.add_file(edges_fname)\n",
    "    wandb.log_artifact(artifact)\n",
    "    os.remove(edges_fname)\n",
    "    wandb.finish()"
   ]
  },
  {
   "cell_type": "markdown",
   "id": "0fc3beaa",
   "metadata": {
    "papermill": {
     "duration": 0.021659,
     "end_time": "2023-06-06T20:32:56.793047",
     "exception": false,
     "start_time": "2023-06-06T20:32:56.771388",
     "status": "completed"
    },
    "tags": []
   },
   "source": [
    "<h2>Save the final subgraph of the model</h2>\n",
    "<p>There are more than `exp.count_no_edges()` here because we include some \"placeholder\" edges needed to make ACDC work that don't actually matter</p>\n",
    "<p>Also note that the final image has more than 12 edges, because the edges from a0.0_q and a0.0_k are not connected to the input</p>\n",
    "<p>We recover minimal induction machinery! `embed -> a0.0_v -> a1.6k`</p>"
   ]
  },
  {
   "cell_type": "code",
   "execution_count": 7,
   "id": "b758d40e",
   "metadata": {
    "execution": {
     "iopub.execute_input": "2023-06-06T20:32:56.837720Z",
     "iopub.status.busy": "2023-06-06T20:32:56.837367Z",
     "iopub.status.idle": "2023-06-06T20:32:56.882904Z",
     "shell.execute_reply": "2023-06-06T20:32:56.882278Z"
    },
    "papermill": {
     "duration": 0.070492,
     "end_time": "2023-06-06T20:32:56.885002",
     "exception": false,
     "start_time": "2023-06-06T20:32:56.814510",
     "status": "completed"
    },
    "tags": []
   },
   "outputs": [
    {
     "data": {
      "text/plain": [
       "OrderedDict([(('blocks.1.hook_resid_post',\n",
       "               (None,),\n",
       "               'blocks.1.attn.hook_result',\n",
       "               (None, None, 6)),\n",
       "              True),\n",
       "             (('blocks.1.hook_resid_post',\n",
       "               (None,),\n",
       "               'blocks.0.hook_resid_pre',\n",
       "               (None,)),\n",
       "              True),\n",
       "             (('blocks.1.attn.hook_result',\n",
       "               (None, None, 6),\n",
       "               'blocks.1.attn.hook_q',\n",
       "               (None, None, 6)),\n",
       "              True),\n",
       "             (('blocks.1.attn.hook_result',\n",
       "               (None, None, 6),\n",
       "               'blocks.1.attn.hook_k',\n",
       "               (None, None, 6)),\n",
       "              True),\n",
       "             (('blocks.1.attn.hook_result',\n",
       "               (None, None, 6),\n",
       "               'blocks.1.attn.hook_v',\n",
       "               (None, None, 6)),\n",
       "              True),\n",
       "             (('blocks.1.attn.hook_q',\n",
       "               (None, None, 6),\n",
       "               'blocks.1.hook_q_input',\n",
       "               (None, None, 6)),\n",
       "              True),\n",
       "             (('blocks.1.attn.hook_k',\n",
       "               (None, None, 6),\n",
       "               'blocks.1.hook_k_input',\n",
       "               (None, None, 6)),\n",
       "              True),\n",
       "             (('blocks.1.attn.hook_v',\n",
       "               (None, None, 6),\n",
       "               'blocks.1.hook_v_input',\n",
       "               (None, None, 6)),\n",
       "              True),\n",
       "             (('blocks.1.hook_q_input',\n",
       "               (None, None, 6),\n",
       "               'blocks.0.hook_resid_pre',\n",
       "               (None,)),\n",
       "              True),\n",
       "             (('blocks.1.hook_k_input',\n",
       "               (None, None, 6),\n",
       "               'blocks.0.attn.hook_result',\n",
       "               (None, None, 0)),\n",
       "              True),\n",
       "             (('blocks.1.hook_v_input',\n",
       "               (None, None, 6),\n",
       "               'blocks.0.hook_resid_pre',\n",
       "               (None,)),\n",
       "              True),\n",
       "             (('blocks.0.attn.hook_result',\n",
       "               (None, None, 0),\n",
       "               'blocks.0.attn.hook_q',\n",
       "               (None, None, 0)),\n",
       "              True),\n",
       "             (('blocks.0.attn.hook_result',\n",
       "               (None, None, 0),\n",
       "               'blocks.0.attn.hook_k',\n",
       "               (None, None, 0)),\n",
       "              True),\n",
       "             (('blocks.0.attn.hook_result',\n",
       "               (None, None, 0),\n",
       "               'blocks.0.attn.hook_v',\n",
       "               (None, None, 0)),\n",
       "              True),\n",
       "             (('blocks.0.attn.hook_q',\n",
       "               (None, None, 0),\n",
       "               'blocks.0.hook_q_input',\n",
       "               (None, None, 0)),\n",
       "              True),\n",
       "             (('blocks.0.attn.hook_k',\n",
       "               (None, None, 0),\n",
       "               'blocks.0.hook_k_input',\n",
       "               (None, None, 0)),\n",
       "              True),\n",
       "             (('blocks.0.attn.hook_v',\n",
       "               (None, None, 0),\n",
       "               'blocks.0.hook_v_input',\n",
       "               (None, None, 0)),\n",
       "              True),\n",
       "             (('blocks.0.hook_v_input',\n",
       "               (None, None, 0),\n",
       "               'blocks.0.hook_resid_pre',\n",
       "               (None,)),\n",
       "              True)])"
      ]
     },
     "execution_count": 7,
     "metadata": {},
     "output_type": "execute_result"
    }
   ],
   "source": [
    "exp.save_subgraph(\n",
    "    return_it=True,\n",
    ") "
   ]
  }
 ],
 "metadata": {
  "jupytext": {
   "cell_metadata_filter": "-all",
   "main_language": "python",
   "notebook_metadata_filter": "-all"
  },
  "language_info": {
   "codemirror_mode": {
    "name": "ipython",
    "version": 3
   },
   "file_extension": ".py",
   "mimetype": "text/x-python",
   "name": "python",
   "nbconvert_exporter": "python",
   "pygments_lexer": "ipython3",
   "version": "3.10.11"
  },
  "papermill": {
   "default_parameters": {},
   "duration": 213.475896,
   "end_time": "2023-06-06T20:32:59.427731",
   "environment_variables": {},
   "exception": null,
   "input_path": "notebooks/_converted/main_demo.ipynb",
   "output_path": "notebooks/colabs/ACDC_Main_Demo.ipynb",
   "parameters": {},
   "start_time": "2023-06-06T20:29:25.951835",
   "version": "2.4.0"
  }
 },
 "nbformat": 4,
 "nbformat_minor": 5
}