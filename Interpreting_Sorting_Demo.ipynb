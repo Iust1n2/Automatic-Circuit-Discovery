{
 "cells": [
  {
   "cell_type": "markdown",
   "metadata": {},
   "source": [
    "# Interpreting a Sorting Model\n",
    "\n",
    "In this notebook we train a 1L Attn-Only model to sort sequences of fixed length, and show how to use EasyTransformer to both initialise and train the model, and to then interpret the trained model."
   ]
  },
  {
   "cell_type": "markdown",
   "metadata": {},
   "source": [
    "## Setup"
   ]
  },
  {
   "cell_type": "code",
   "execution_count": null,
   "metadata": {},
   "outputs": [
    {
     "name": "stdout",
     "output_type": "stream",
     "text": [
      "Running as a Jupyter notebook - intended for development only!\n"
     ]
    }
   ],
   "source": [
    "try:\n",
    "  import google.colab\n",
    "  IN_COLAB = True\n",
    "  print(\"Running as a Colab notebook\")\n",
    "  import plotly.io as pio\n",
    "  pio.renderers.default = \"colab\"\n",
    "except:\n",
    "  IN_COLAB = False\n",
    "  print(\"Running as a Jupyter notebook - intended for development only!\")\n",
    "  from IPython import get_ipython\n",
    "  ipython = get_ipython()\n",
    "  # Code to automatically update the EasyTransformer code as its edited without restarting the kernel\n",
    "  ipython.magic(\"load_ext autoreload\")\n",
    "  ipython.magic(\"autoreload 2\")\n",
    "  import plotly.io as pio\n",
    "  pio.renderers.default = \"vscode\"\n",
    "  "
   ]
  },
  {
   "cell_type": "code",
   "execution_count": null,
   "metadata": {},
   "outputs": [],
   "source": [
    "import os\n",
    "if IN_COLAB:\n",
    "    os.system('pip install git+https://github.com/neelnanda-io/Easy-Transformer.git')"
   ]
  },
  {
   "cell_type": "code",
   "execution_count": null,
   "metadata": {},
   "outputs": [],
   "source": [
    "# Import stuff\n",
    "import torch\n",
    "import torch.nn as nn\n",
    "import torch.nn.functional as F\n",
    "import torch.optim as optim\n",
    "import numpy as np\n",
    "import einops\n",
    "import tqdm.notebook as tqdm\n",
    "\n",
    "import random\n",
    "import time\n",
    "\n",
    "# from google.colab import drive\n",
    "from pathlib import Path\n",
    "import pickle\n",
    "import os\n",
    "\n",
    "\n",
    "import matplotlib.pyplot as plt\n",
    "%matplotlib inline\n",
    "import plotly.express as px\n",
    "import plotly.graph_objects as go\n",
    "\n",
    "from torch.utils.data import DataLoader\n",
    "\n",
    "from functools import *\n",
    "import pandas as pd\n",
    "import gc\n",
    "import collections\n",
    "import copy\n",
    "\n",
    "# import comet_ml\n",
    "import itertools\n",
    "from transformers import AutoModelForCausalLM, AutoConfig, AutoTokenizer\n",
    "import dataclasses\n",
    "import datasets\n",
    "\n",
    "import ipywidgets as wg"
   ]
  },
  {
   "cell_type": "code",
   "execution_count": null,
   "metadata": {},
   "outputs": [],
   "source": [
    "from easy_transformer.utils import gelu_new, to_numpy, get_corner # Helper functions\n",
    "from easy_transformer.hook_points import HookedRootModule, HookPoint\n",
    "from easy_transformer.EasyTransformer import EasyTransformer,TransformerBlock, MLP, Attention, LayerNormPre, PosEmbed, Unembed, Embed\n",
    "from easy_transformer.experiments import ExperimentMetric, AblationConfig, EasyAblation, EasyPatching, PatchingConfig\n",
    "from easy_transformer.EasyTransformerConfig import EasyTransformerConfig\n",
    "import easy_transformer\n"
   ]
  },
  {
   "cell_type": "code",
   "execution_count": null,
   "metadata": {},
   "outputs": [],
   "source": [
    "device = 'cuda' if torch.cuda.is_available() else 'cpu'"
   ]
  },
  {
   "cell_type": "markdown",
   "metadata": {},
   "source": [
    "## Training an Algorithmic Model\n"
   ]
  },
  {
   "cell_type": "code",
   "execution_count": null,
   "metadata": {},
   "outputs": [],
   "source": [
    "\n",
    "sorting_cfg = EasyTransformerConfig(\n",
    "    d_model = 32,\n",
    "    d_head = 32,\n",
    "    n_heads = 1,\n",
    "    n_layers=1,\n",
    "    n_ctx = 42,\n",
    "    d_vocab=32,\n",
    "    normalization_type=None,\n",
    "    attn_only=True,\n",
    "    use_attn_result=True,\n",
    "    )\n",
    "batch_size = 16\n",
    "num_epochs = 50001\n",
    "lr = 1e-3\n",
    "seed = 123\n",
    "torch.manual_seed(seed)\n",
    "np.random.seed(seed)\n",
    "sorting_model = EasyTransformer.from_config(sorting_cfg).to(device)\n",
    "sorting_optimizer = torch.optim.Adam(sorting_model.parameters(), lr=lr)"
   ]
  },
  {
   "cell_type": "code",
   "execution_count": null,
   "metadata": {},
   "outputs": [
    {
     "name": "stdout",
     "output_type": "stream",
     "text": [
      "Sanity check our training data:\n",
      "tensor([[30, 22, 19, 12,  0, 10,  2,  6, 17, 29,  4, 11,  1,  6,  1, 22,  9, 24,\n",
      "         21, 13, 10, 31,  0,  1,  1,  2,  4,  6,  6,  9, 10, 10, 11, 12, 13, 17,\n",
      "         19, 21, 22, 22, 24, 29],\n",
      "        [30, 10, 16, 25, 27, 19, 12, 21,  6, 20,  6,  6, 25,  3, 19, 24, 16, 11,\n",
      "         18, 10,  5, 31,  3,  5,  6,  6,  6, 10, 10, 11, 12, 16, 16, 18, 19, 19,\n",
      "         20, 21, 24, 25, 25, 27]], device='cuda:0')\n"
     ]
    }
   ],
   "source": [
    "def data_generator(batch_size, n_ctx, d_vocab):\n",
    "    # We learn to sort sequences, of the form START 3 6 2 15 23 0 3 2 STOP 0 2 2 3 3 6 15 23\n",
    "    # We evaluate the model's performance by taking the log loss of predicting the next token \n",
    "    # in the second half of the sequence\n",
    "    # We use tokens d_vocab - 1 to be STOP and d_vocab - 2 to be START\n",
    "    seq_len = (n_ctx-2)//2\n",
    "    START = torch.zeros(batch_size, 1, dtype=torch.long).to(device) + d_vocab - 2\n",
    "    STOP = torch.zeros(batch_size, 1, dtype=torch.long).to(device) + d_vocab - 1\n",
    "    max_token = d_vocab - 2 # The maximum token value we can use\n",
    "    while True:\n",
    "        data = torch.randint(0, max_token, (batch_size, seq_len)).to(device)\n",
    "        sorted_data = torch.sort(data, dim=1).values\n",
    "        yield torch.concat([START, data, STOP, sorted_data], dim=1)\n",
    "data_gen = data_generator(batch_size, sorting_model.cfg.n_ctx, sorting_model.cfg.d_vocab)\n",
    "example_tokens = (next(data_gen))\n",
    "print(\"Sanity check our training data:\")\n",
    "print(example_tokens[:2])"
   ]
  },
  {
   "cell_type": "code",
   "execution_count": null,
   "metadata": {},
   "outputs": [],
   "source": [
    "def lm_cross_entropy(logits, tokens, return_per_token=False):\n",
    "    # We offset by 1 because we're predicting the NEXT token\n",
    "    log_probs = F.log_softmax(logits[:, :-1], dim=-1)\n",
    "    correct_log_probs = log_probs.gather(-1, tokens[:, 1:, None]).squeeze(-1)\n",
    "    if return_per_token:\n",
    "        return correct_log_probs\n",
    "    else:\n",
    "        return -correct_log_probs.mean()\n",
    "\n",
    "def lm_accuracy(logits, tokens, return_per_token=False):\n",
    "    top_prediction = logits.argmax(dim=-1)\n",
    "    correct_matches = top_prediction[:, :-1] == tokens[:, 1:]\n",
    "    if return_per_token:\n",
    "        return correct_matches\n",
    "    else:\n",
    "        return correct_matches.sum()/correct_matches.numel()"
   ]
  },
  {
   "cell_type": "code",
   "execution_count": null,
   "metadata": {},
   "outputs": [],
   "source": [
    "def sorting_loss(logits, tokens, n_ctx=sorting_model.cfg.n_ctx):\n",
    "    # We only care about the loss of predicting the second half of the sequence\n",
    "    offset = (n_ctx-2)//2 + 1\n",
    "    return lm_cross_entropy(logits[:, offset:, :], tokens[:, offset:])\n",
    "\n",
    "def sorting_acc(logits, tokens, n_ctx=sorting_model.cfg.n_ctx):\n",
    "    offset = (n_ctx-2)//2 + 1\n",
    "    return lm_accuracy(logits[:, offset:, :], tokens[:, offset:])\n"
   ]
  },
  {
   "cell_type": "code",
   "execution_count": null,
   "metadata": {},
   "outputs": [
    {
     "data": {
      "application/vnd.jupyter.widget-view+json": {
       "model_id": "2871f881b35c4f33a9628bfead8a9973",
       "version_major": 2,
       "version_minor": 0
      },
      "text/plain": [
       "  0%|          | 0/50001 [00:00<?, ?it/s]"
      ]
     },
     "metadata": {},
     "output_type": "display_data"
    },
    {
     "name": "stdout",
     "output_type": "stream",
     "text": [
      "Epoch: 0. Loss: 3.4684. Accuracy: 4.69%\n",
      "Epoch: 100. Loss: 2.8659. Accuracy: 24.38%\n",
      "Epoch: 200. Loss: 1.9344. Accuracy: 31.56%\n",
      "Epoch: 300. Loss: 1.7086. Accuracy: 38.12%\n",
      "Epoch: 400. Loss: 1.5999. Accuracy: 40.94%\n",
      "Epoch: 500. Loss: 1.6157. Accuracy: 37.19%\n",
      "Epoch: 600. Loss: 1.5636. Accuracy: 34.38%\n",
      "Epoch: 700. Loss: 1.4924. Accuracy: 38.75%\n",
      "Epoch: 800. Loss: 1.4309. Accuracy: 38.75%\n",
      "Epoch: 900. Loss: 1.3987. Accuracy: 45.31%\n",
      "Epoch: 1000. Loss: 1.3399. Accuracy: 41.88%\n",
      "Epoch: 1100. Loss: 1.3521. Accuracy: 47.81%\n",
      "Epoch: 1200. Loss: 1.2868. Accuracy: 53.75%\n",
      "Epoch: 1300. Loss: 1.2665. Accuracy: 45.94%\n",
      "Epoch: 1400. Loss: 1.2239. Accuracy: 51.56%\n",
      "Epoch: 1500. Loss: 1.1769. Accuracy: 52.50%\n",
      "Epoch: 1600. Loss: 1.1026. Accuracy: 58.44%\n",
      "Epoch: 1700. Loss: 1.1249. Accuracy: 54.37%\n",
      "Epoch: 1800. Loss: 1.0538. Accuracy: 57.50%\n",
      "Epoch: 1900. Loss: 0.9979. Accuracy: 55.31%\n",
      "Epoch: 2000. Loss: 0.9683. Accuracy: 57.81%\n",
      "Epoch: 2100. Loss: 1.0160. Accuracy: 59.06%\n",
      "Epoch: 2200. Loss: 0.9005. Accuracy: 64.38%\n",
      "Epoch: 2300. Loss: 0.9580. Accuracy: 58.44%\n",
      "Epoch: 2400. Loss: 0.9552. Accuracy: 61.88%\n",
      "Epoch: 2500. Loss: 0.9112. Accuracy: 61.88%\n",
      "Epoch: 2600. Loss: 0.9023. Accuracy: 65.31%\n",
      "Epoch: 2700. Loss: 0.8345. Accuracy: 64.69%\n",
      "Epoch: 2800. Loss: 0.8356. Accuracy: 65.62%\n",
      "Epoch: 2900. Loss: 0.8376. Accuracy: 64.06%\n",
      "Epoch: 3000. Loss: 0.8544. Accuracy: 66.87%\n",
      "Epoch: 3100. Loss: 0.8334. Accuracy: 65.31%\n",
      "Epoch: 3200. Loss: 0.8054. Accuracy: 67.50%\n",
      "Epoch: 3300. Loss: 0.8323. Accuracy: 65.62%\n",
      "Epoch: 3400. Loss: 0.8917. Accuracy: 63.13%\n",
      "Epoch: 3500. Loss: 0.8378. Accuracy: 66.25%\n",
      "Epoch: 3600. Loss: 0.8163. Accuracy: 68.13%\n",
      "Epoch: 3700. Loss: 0.8207. Accuracy: 66.56%\n",
      "Epoch: 3800. Loss: 0.8129. Accuracy: 65.00%\n",
      "Epoch: 3900. Loss: 0.7716. Accuracy: 65.94%\n",
      "Epoch: 4000. Loss: 0.7923. Accuracy: 67.19%\n",
      "Epoch: 4100. Loss: 0.7796. Accuracy: 65.00%\n",
      "Epoch: 4200. Loss: 0.8609. Accuracy: 67.50%\n",
      "Epoch: 4300. Loss: 0.7788. Accuracy: 71.88%\n",
      "Epoch: 4400. Loss: 0.6969. Accuracy: 71.56%\n",
      "Epoch: 4500. Loss: 0.7161. Accuracy: 68.13%\n",
      "Epoch: 4600. Loss: 0.6477. Accuracy: 74.38%\n",
      "Epoch: 4700. Loss: 0.7101. Accuracy: 67.19%\n",
      "Epoch: 4800. Loss: 0.6328. Accuracy: 76.56%\n",
      "Epoch: 4900. Loss: 0.6190. Accuracy: 73.44%\n",
      "Epoch: 5000. Loss: 0.6103. Accuracy: 73.44%\n",
      "Epoch: 5100. Loss: 0.7039. Accuracy: 73.44%\n",
      "Epoch: 5200. Loss: 0.6063. Accuracy: 74.69%\n",
      "Epoch: 5300. Loss: 0.6225. Accuracy: 75.63%\n",
      "Epoch: 5400. Loss: 0.6055. Accuracy: 75.00%\n",
      "Epoch: 5500. Loss: 0.6387. Accuracy: 76.25%\n",
      "Epoch: 5600. Loss: 0.6278. Accuracy: 72.50%\n",
      "Epoch: 5700. Loss: 0.6615. Accuracy: 73.75%\n",
      "Epoch: 5800. Loss: 0.7133. Accuracy: 77.19%\n",
      "Epoch: 5900. Loss: 0.5901. Accuracy: 75.94%\n",
      "Epoch: 6000. Loss: 0.5744. Accuracy: 76.25%\n",
      "Epoch: 6100. Loss: 0.5716. Accuracy: 77.81%\n",
      "Epoch: 6200. Loss: 0.6018. Accuracy: 77.19%\n",
      "Epoch: 6300. Loss: 0.6015. Accuracy: 75.00%\n",
      "Epoch: 6400. Loss: 0.5848. Accuracy: 78.75%\n",
      "Epoch: 6500. Loss: 0.5918. Accuracy: 72.50%\n",
      "Epoch: 6600. Loss: 0.5573. Accuracy: 77.50%\n",
      "Epoch: 6700. Loss: 0.5572. Accuracy: 75.00%\n",
      "Epoch: 6800. Loss: 0.5709. Accuracy: 77.81%\n",
      "Epoch: 6900. Loss: 0.5254. Accuracy: 77.81%\n",
      "Epoch: 7000. Loss: 0.5398. Accuracy: 79.06%\n",
      "Epoch: 7100. Loss: 0.4977. Accuracy: 79.37%\n",
      "Epoch: 7200. Loss: 0.5137. Accuracy: 78.12%\n",
      "Epoch: 7300. Loss: 0.4995. Accuracy: 79.06%\n",
      "Epoch: 7400. Loss: 0.5011. Accuracy: 78.44%\n",
      "Epoch: 7500. Loss: 0.5690. Accuracy: 80.31%\n",
      "Epoch: 7600. Loss: 0.5238. Accuracy: 76.56%\n",
      "Epoch: 7700. Loss: 0.5090. Accuracy: 80.94%\n",
      "Epoch: 7800. Loss: 0.4970. Accuracy: 79.37%\n",
      "Epoch: 7900. Loss: 0.4877. Accuracy: 81.25%\n",
      "Epoch: 8000. Loss: 0.4793. Accuracy: 80.94%\n",
      "Epoch: 8100. Loss: 0.4911. Accuracy: 79.06%\n",
      "Epoch: 8200. Loss: 0.5313. Accuracy: 81.25%\n",
      "Epoch: 8300. Loss: 0.4648. Accuracy: 80.00%\n",
      "Epoch: 8400. Loss: 0.5109. Accuracy: 78.12%\n",
      "Epoch: 8500. Loss: 0.4664. Accuracy: 82.50%\n",
      "Epoch: 8600. Loss: 0.4556. Accuracy: 80.94%\n",
      "Epoch: 8700. Loss: 0.4990. Accuracy: 79.06%\n",
      "Epoch: 8800. Loss: 0.5016. Accuracy: 80.94%\n",
      "Epoch: 8900. Loss: 0.4525. Accuracy: 84.06%\n",
      "Epoch: 9000. Loss: 0.5115. Accuracy: 80.00%\n",
      "Epoch: 9100. Loss: 0.4557. Accuracy: 80.31%\n",
      "Epoch: 9200. Loss: 0.4455. Accuracy: 81.56%\n",
      "Epoch: 9300. Loss: 0.4417. Accuracy: 82.50%\n",
      "Epoch: 9400. Loss: 0.4604. Accuracy: 80.94%\n",
      "Epoch: 9500. Loss: 0.4881. Accuracy: 79.37%\n",
      "Epoch: 9600. Loss: 0.4171. Accuracy: 83.75%\n",
      "Epoch: 9700. Loss: 0.4560. Accuracy: 80.63%\n",
      "Epoch: 9800. Loss: 0.5002. Accuracy: 79.06%\n",
      "Epoch: 9900. Loss: 0.4114. Accuracy: 82.19%\n",
      "Epoch: 10000. Loss: 0.3926. Accuracy: 83.75%\n",
      "Epoch: 10100. Loss: 0.4218. Accuracy: 81.56%\n",
      "Epoch: 10200. Loss: 0.4142. Accuracy: 81.25%\n",
      "Epoch: 10300. Loss: 0.3673. Accuracy: 85.94%\n",
      "Epoch: 10400. Loss: 0.4252. Accuracy: 82.50%\n",
      "Epoch: 10500. Loss: 0.4522. Accuracy: 80.63%\n",
      "Epoch: 10600. Loss: 0.4461. Accuracy: 80.94%\n",
      "Epoch: 10700. Loss: 0.4410. Accuracy: 83.75%\n",
      "Epoch: 10800. Loss: 0.4658. Accuracy: 81.88%\n",
      "Epoch: 10900. Loss: 0.4233. Accuracy: 80.94%\n",
      "Epoch: 11000. Loss: 0.4357. Accuracy: 82.50%\n",
      "Epoch: 11100. Loss: 0.3906. Accuracy: 83.75%\n",
      "Epoch: 11200. Loss: 0.3721. Accuracy: 84.69%\n",
      "Epoch: 11300. Loss: 0.3928. Accuracy: 84.69%\n",
      "Epoch: 11400. Loss: 0.4348. Accuracy: 81.88%\n",
      "Epoch: 11500. Loss: 0.3452. Accuracy: 85.94%\n",
      "Epoch: 11600. Loss: 0.3853. Accuracy: 83.13%\n",
      "Epoch: 11700. Loss: 0.3664. Accuracy: 86.25%\n",
      "Epoch: 11800. Loss: 0.3585. Accuracy: 84.06%\n",
      "Epoch: 11900. Loss: 0.3988. Accuracy: 85.31%\n",
      "Epoch: 12000. Loss: 0.3376. Accuracy: 86.56%\n",
      "Epoch: 12100. Loss: 0.3488. Accuracy: 86.56%\n",
      "Epoch: 12200. Loss: 0.3440. Accuracy: 86.56%\n",
      "Epoch: 12300. Loss: 0.3311. Accuracy: 87.19%\n",
      "Epoch: 12400. Loss: 0.3355. Accuracy: 85.94%\n",
      "Epoch: 12500. Loss: 0.3635. Accuracy: 87.19%\n",
      "Epoch: 12600. Loss: 0.3303. Accuracy: 87.81%\n",
      "Epoch: 12700. Loss: 0.3535. Accuracy: 87.19%\n",
      "Epoch: 12800. Loss: 0.3446. Accuracy: 85.62%\n",
      "Epoch: 12900. Loss: 0.3621. Accuracy: 88.44%\n",
      "Epoch: 13000. Loss: 0.3266. Accuracy: 86.25%\n",
      "Epoch: 13100. Loss: 0.2882. Accuracy: 87.50%\n",
      "Epoch: 13200. Loss: 0.3738. Accuracy: 88.13%\n",
      "Epoch: 13300. Loss: 0.3238. Accuracy: 88.44%\n",
      "Epoch: 13400. Loss: 0.3066. Accuracy: 90.62%\n",
      "Epoch: 13500. Loss: 0.3240. Accuracy: 87.19%\n",
      "Epoch: 13600. Loss: 0.2444. Accuracy: 90.00%\n",
      "Epoch: 13700. Loss: 0.2426. Accuracy: 90.94%\n",
      "Epoch: 13800. Loss: 0.2683. Accuracy: 91.56%\n",
      "Epoch: 13900. Loss: 0.2519. Accuracy: 90.62%\n",
      "Epoch: 14000. Loss: 0.2118. Accuracy: 93.44%\n",
      "Epoch: 14100. Loss: 0.2608. Accuracy: 93.44%\n",
      "Epoch: 14200. Loss: 0.2405. Accuracy: 90.94%\n",
      "Epoch: 14300. Loss: 0.2171. Accuracy: 94.69%\n",
      "Epoch: 14400. Loss: 0.1974. Accuracy: 92.19%\n",
      "Epoch: 14500. Loss: 0.1951. Accuracy: 92.81%\n",
      "Epoch: 14600. Loss: 0.1934. Accuracy: 93.44%\n",
      "Epoch: 14700. Loss: 0.1369. Accuracy: 96.88%\n",
      "Epoch: 14800. Loss: 0.1396. Accuracy: 95.63%\n",
      "Epoch: 14900. Loss: 0.1642. Accuracy: 96.25%\n",
      "Epoch: 15000. Loss: 0.1544. Accuracy: 95.63%\n",
      "Epoch: 15100. Loss: 0.1741. Accuracy: 95.31%\n",
      "Epoch: 15200. Loss: 0.1203. Accuracy: 96.88%\n",
      "Epoch: 15300. Loss: 0.1036. Accuracy: 98.12%\n",
      "Epoch: 15400. Loss: 0.1779. Accuracy: 93.44%\n",
      "Epoch: 15500. Loss: 0.1175. Accuracy: 96.56%\n",
      "Epoch: 15600. Loss: 0.1084. Accuracy: 97.19%\n",
      "Epoch: 15700. Loss: 0.1271. Accuracy: 97.81%\n",
      "Epoch: 15800. Loss: 0.1560. Accuracy: 95.31%\n",
      "Epoch: 15900. Loss: 0.1011. Accuracy: 97.19%\n",
      "Epoch: 16000. Loss: 0.1749. Accuracy: 96.56%\n",
      "Epoch: 16100. Loss: 0.0919. Accuracy: 98.12%\n",
      "Epoch: 16200. Loss: 0.1545. Accuracy: 94.69%\n",
      "Epoch: 16300. Loss: 0.1011. Accuracy: 97.19%\n",
      "Epoch: 16400. Loss: 0.0896. Accuracy: 97.81%\n",
      "Epoch: 16500. Loss: 0.1298. Accuracy: 97.50%\n",
      "Epoch: 16600. Loss: 0.0802. Accuracy: 98.44%\n",
      "Epoch: 16700. Loss: 0.1341. Accuracy: 95.94%\n",
      "Epoch: 16800. Loss: 0.1091. Accuracy: 97.19%\n",
      "Epoch: 16900. Loss: 0.1058. Accuracy: 97.19%\n",
      "Epoch: 17000. Loss: 0.0766. Accuracy: 99.06%\n",
      "Epoch: 17100. Loss: 0.0831. Accuracy: 98.44%\n",
      "Epoch: 17200. Loss: 0.1356. Accuracy: 95.94%\n",
      "Epoch: 17300. Loss: 0.1009. Accuracy: 97.50%\n",
      "Epoch: 17400. Loss: 0.0832. Accuracy: 97.81%\n",
      "Epoch: 17500. Loss: 0.1229. Accuracy: 97.19%\n",
      "Epoch: 17600. Loss: 0.0977. Accuracy: 97.81%\n",
      "Epoch: 17700. Loss: 0.1100. Accuracy: 97.50%\n",
      "Epoch: 17800. Loss: 0.0602. Accuracy: 99.06%\n",
      "Epoch: 17900. Loss: 0.0668. Accuracy: 98.75%\n",
      "Epoch: 18000. Loss: 0.0954. Accuracy: 97.19%\n",
      "Epoch: 18100. Loss: 0.0892. Accuracy: 98.75%\n",
      "Epoch: 18200. Loss: 0.0649. Accuracy: 98.44%\n",
      "Epoch: 18300. Loss: 0.1544. Accuracy: 96.88%\n",
      "Epoch: 18400. Loss: 0.0810. Accuracy: 98.12%\n",
      "Epoch: 18500. Loss: 0.1051. Accuracy: 97.50%\n",
      "Epoch: 18600. Loss: 0.0800. Accuracy: 97.19%\n",
      "Epoch: 18700. Loss: 0.0894. Accuracy: 97.81%\n",
      "Epoch: 18800. Loss: 0.0771. Accuracy: 98.75%\n",
      "Epoch: 18900. Loss: 0.0568. Accuracy: 99.06%\n",
      "Epoch: 19000. Loss: 0.0849. Accuracy: 97.19%\n",
      "Epoch: 19100. Loss: 0.1466. Accuracy: 98.44%\n",
      "Epoch: 19200. Loss: 0.0743. Accuracy: 98.75%\n",
      "Epoch: 19300. Loss: 0.0411. Accuracy: 99.69%\n",
      "Epoch: 19400. Loss: 0.0767. Accuracy: 97.81%\n",
      "Epoch: 19500. Loss: 0.0595. Accuracy: 98.75%\n",
      "Epoch: 19600. Loss: 0.0664. Accuracy: 98.75%\n",
      "Epoch: 19700. Loss: 0.0690. Accuracy: 98.12%\n",
      "Epoch: 19800. Loss: 0.0449. Accuracy: 99.06%\n",
      "Epoch: 19900. Loss: 0.1011. Accuracy: 97.81%\n",
      "Epoch: 20000. Loss: 0.1030. Accuracy: 97.50%\n",
      "Epoch: 20100. Loss: 0.0542. Accuracy: 98.75%\n",
      "Epoch: 20200. Loss: 0.0814. Accuracy: 97.19%\n",
      "Epoch: 20300. Loss: 0.0581. Accuracy: 98.44%\n",
      "Epoch: 20400. Loss: 0.0515. Accuracy: 99.38%\n",
      "Epoch: 20500. Loss: 0.0754. Accuracy: 98.75%\n",
      "Epoch: 20600. Loss: 0.0641. Accuracy: 98.44%\n",
      "Epoch: 20700. Loss: 0.0683. Accuracy: 97.81%\n",
      "Epoch: 20800. Loss: 0.0638. Accuracy: 98.44%\n",
      "Epoch: 20900. Loss: 0.0555. Accuracy: 99.06%\n",
      "Epoch: 21000. Loss: 0.0618. Accuracy: 99.06%\n",
      "Epoch: 21100. Loss: 0.0553. Accuracy: 98.44%\n",
      "Epoch: 21200. Loss: 0.0640. Accuracy: 97.81%\n",
      "Epoch: 21300. Loss: 0.0374. Accuracy: 98.75%\n",
      "Epoch: 21400. Loss: 0.0607. Accuracy: 98.75%\n",
      "Epoch: 21500. Loss: 0.0525. Accuracy: 98.12%\n",
      "Epoch: 21600. Loss: 0.0553. Accuracy: 97.81%\n",
      "Epoch: 21700. Loss: 0.0726. Accuracy: 98.12%\n",
      "Epoch: 21800. Loss: 0.0494. Accuracy: 99.38%\n",
      "Epoch: 21900. Loss: 0.0372. Accuracy: 98.75%\n",
      "Epoch: 22000. Loss: 0.0370. Accuracy: 99.38%\n",
      "Epoch: 22100. Loss: 0.0325. Accuracy: 99.38%\n",
      "Epoch: 22200. Loss: 0.0436. Accuracy: 99.06%\n",
      "Epoch: 22300. Loss: 0.0575. Accuracy: 98.44%\n",
      "Epoch: 22400. Loss: 0.0509. Accuracy: 98.75%\n",
      "Epoch: 22500. Loss: 0.0676. Accuracy: 98.44%\n",
      "Epoch: 22600. Loss: 0.0455. Accuracy: 98.44%\n",
      "Epoch: 22700. Loss: 0.1413. Accuracy: 98.12%\n",
      "Epoch: 22800. Loss: 0.0512. Accuracy: 99.06%\n",
      "Epoch: 22900. Loss: 0.0190. Accuracy: 100.00%\n",
      "Epoch: 23000. Loss: 0.0630. Accuracy: 98.44%\n",
      "Epoch: 23100. Loss: 0.0460. Accuracy: 99.06%\n",
      "Epoch: 23200. Loss: 0.0314. Accuracy: 99.69%\n",
      "Epoch: 23300. Loss: 0.0296. Accuracy: 99.69%\n",
      "Epoch: 23400. Loss: 0.0492. Accuracy: 99.06%\n",
      "Epoch: 23500. Loss: 0.0411. Accuracy: 98.75%\n",
      "Epoch: 23600. Loss: 0.0559. Accuracy: 98.44%\n",
      "Epoch: 23700. Loss: 0.0566. Accuracy: 97.81%\n",
      "Epoch: 23800. Loss: 0.1441. Accuracy: 96.56%\n",
      "Epoch: 23900. Loss: 0.0288. Accuracy: 99.38%\n",
      "Epoch: 24000. Loss: 0.0170. Accuracy: 100.00%\n",
      "Epoch: 24100. Loss: 0.0612. Accuracy: 99.38%\n",
      "Epoch: 24200. Loss: 0.0619. Accuracy: 97.81%\n",
      "Epoch: 24300. Loss: 0.0501. Accuracy: 98.75%\n",
      "Epoch: 24400. Loss: 0.0171. Accuracy: 100.00%\n",
      "Epoch: 24500. Loss: 0.1274. Accuracy: 99.06%\n",
      "Epoch: 24600. Loss: 0.0349. Accuracy: 99.06%\n",
      "Epoch: 24700. Loss: 0.0410. Accuracy: 98.44%\n",
      "Epoch: 24800. Loss: 0.0233. Accuracy: 99.38%\n",
      "Epoch: 24900. Loss: 0.0423. Accuracy: 99.06%\n",
      "Epoch: 25000. Loss: 0.0861. Accuracy: 98.12%\n",
      "Epoch: 25100. Loss: 0.0469. Accuracy: 98.75%\n",
      "Epoch: 25200. Loss: 0.0269. Accuracy: 99.69%\n",
      "Epoch: 25300. Loss: 0.0398. Accuracy: 99.06%\n",
      "Epoch: 25400. Loss: 0.0725. Accuracy: 99.06%\n",
      "Epoch: 25500. Loss: 0.0155. Accuracy: 100.00%\n",
      "Epoch: 25600. Loss: 0.0440. Accuracy: 99.06%\n",
      "Epoch: 25700. Loss: 0.0415. Accuracy: 98.44%\n",
      "Epoch: 25800. Loss: 0.0403. Accuracy: 99.06%\n",
      "Epoch: 25900. Loss: 0.0227. Accuracy: 99.38%\n",
      "Epoch: 26000. Loss: 0.0340. Accuracy: 99.06%\n",
      "Epoch: 26100. Loss: 0.0444. Accuracy: 99.06%\n",
      "Epoch: 26200. Loss: 0.0313. Accuracy: 99.06%\n",
      "Epoch: 26300. Loss: 0.0619. Accuracy: 99.38%\n",
      "Epoch: 26400. Loss: 0.0201. Accuracy: 100.00%\n",
      "Epoch: 26500. Loss: 0.0217. Accuracy: 99.38%\n",
      "Epoch: 26600. Loss: 0.0396. Accuracy: 99.06%\n",
      "Epoch: 26700. Loss: 0.0228. Accuracy: 99.38%\n",
      "Epoch: 26800. Loss: 0.0398. Accuracy: 99.06%\n",
      "Epoch: 26900. Loss: 0.0340. Accuracy: 99.38%\n",
      "Epoch: 27000. Loss: 0.0372. Accuracy: 98.75%\n",
      "Epoch: 27100. Loss: 0.0219. Accuracy: 100.00%\n",
      "Epoch: 27200. Loss: 0.0659. Accuracy: 99.38%\n",
      "Epoch: 27300. Loss: 0.0217. Accuracy: 99.69%\n",
      "Epoch: 27400. Loss: 0.0141. Accuracy: 100.00%\n",
      "Epoch: 27500. Loss: 0.0164. Accuracy: 99.69%\n",
      "Epoch: 27600. Loss: 0.0264. Accuracy: 99.06%\n",
      "Epoch: 27700. Loss: 0.0273. Accuracy: 99.69%\n",
      "Epoch: 27800. Loss: 0.0309. Accuracy: 99.38%\n",
      "Epoch: 27900. Loss: 0.0244. Accuracy: 99.69%\n",
      "Epoch: 28000. Loss: 0.0193. Accuracy: 100.00%\n",
      "Epoch: 28100. Loss: 0.0279. Accuracy: 99.38%\n",
      "Epoch: 28200. Loss: 0.0642. Accuracy: 98.12%\n",
      "Epoch: 28300. Loss: 0.0365. Accuracy: 99.06%\n",
      "Epoch: 28400. Loss: 0.0316. Accuracy: 98.75%\n",
      "Epoch: 28500. Loss: 0.0489. Accuracy: 99.38%\n",
      "Epoch: 28600. Loss: 0.0272. Accuracy: 99.06%\n",
      "Epoch: 28700. Loss: 0.1103. Accuracy: 98.44%\n",
      "Epoch: 28800. Loss: 0.0204. Accuracy: 100.00%\n",
      "Epoch: 28900. Loss: 0.0230. Accuracy: 99.38%\n",
      "Epoch: 29000. Loss: 0.0250. Accuracy: 99.38%\n",
      "Epoch: 29100. Loss: 0.0135. Accuracy: 100.00%\n",
      "Epoch: 29200. Loss: 0.0154. Accuracy: 100.00%\n",
      "Epoch: 29300. Loss: 0.0427. Accuracy: 99.38%\n",
      "Epoch: 29400. Loss: 0.0058. Accuracy: 100.00%\n",
      "Epoch: 29500. Loss: 0.0452. Accuracy: 99.06%\n",
      "Epoch: 29600. Loss: 0.0162. Accuracy: 100.00%\n",
      "Epoch: 29700. Loss: 0.0310. Accuracy: 99.38%\n",
      "Epoch: 29800. Loss: 0.0127. Accuracy: 99.69%\n",
      "Epoch: 29900. Loss: 0.0202. Accuracy: 99.69%\n",
      "Epoch: 30000. Loss: 0.0278. Accuracy: 99.69%\n",
      "Epoch: 30100. Loss: 0.0234. Accuracy: 99.38%\n",
      "Epoch: 30200. Loss: 0.0316. Accuracy: 98.75%\n",
      "Epoch: 30300. Loss: 0.0109. Accuracy: 100.00%\n",
      "Epoch: 30400. Loss: 0.0480. Accuracy: 99.06%\n",
      "Epoch: 30500. Loss: 0.0624. Accuracy: 99.38%\n",
      "Epoch: 30600. Loss: 0.0279. Accuracy: 99.69%\n",
      "Epoch: 30700. Loss: 0.0217. Accuracy: 99.06%\n",
      "Epoch: 30800. Loss: 0.0110. Accuracy: 100.00%\n",
      "Epoch: 30900. Loss: 0.0352. Accuracy: 99.06%\n",
      "Epoch: 31000. Loss: 0.0552. Accuracy: 99.06%\n",
      "Epoch: 31100. Loss: 0.0188. Accuracy: 99.69%\n",
      "Epoch: 31200. Loss: 0.0286. Accuracy: 99.69%\n",
      "Epoch: 31300. Loss: 0.0512. Accuracy: 99.06%\n",
      "Epoch: 31400. Loss: 0.0120. Accuracy: 99.69%\n",
      "Epoch: 31500. Loss: 0.0178. Accuracy: 99.69%\n",
      "Epoch: 31600. Loss: 0.0213. Accuracy: 98.75%\n",
      "Epoch: 31700. Loss: 0.0358. Accuracy: 99.06%\n",
      "Epoch: 31800. Loss: 0.1617. Accuracy: 99.69%\n",
      "Epoch: 31900. Loss: 0.0210. Accuracy: 99.69%\n",
      "Epoch: 32000. Loss: 0.0291. Accuracy: 99.06%\n",
      "Epoch: 32100. Loss: 0.0419. Accuracy: 98.75%\n",
      "Epoch: 32200. Loss: 0.1441. Accuracy: 99.69%\n",
      "Epoch: 32300. Loss: 0.0156. Accuracy: 100.00%\n",
      "Epoch: 32400. Loss: 0.0237. Accuracy: 99.06%\n",
      "Epoch: 32500. Loss: 0.0122. Accuracy: 100.00%\n",
      "Epoch: 32600. Loss: 0.0163. Accuracy: 100.00%\n",
      "Epoch: 32700. Loss: 0.0099. Accuracy: 100.00%\n",
      "Epoch: 32800. Loss: 0.0174. Accuracy: 99.69%\n",
      "Epoch: 32900. Loss: 0.0147. Accuracy: 99.69%\n",
      "Epoch: 33000. Loss: 0.0356. Accuracy: 99.06%\n",
      "Epoch: 33100. Loss: 0.0098. Accuracy: 100.00%\n",
      "Epoch: 33200. Loss: 0.0554. Accuracy: 98.44%\n",
      "Epoch: 33300. Loss: 0.0164. Accuracy: 99.69%\n",
      "Epoch: 33400. Loss: 0.0079. Accuracy: 100.00%\n",
      "Epoch: 33500. Loss: 0.0454. Accuracy: 99.06%\n",
      "Epoch: 33600. Loss: 0.0473. Accuracy: 98.75%\n",
      "Epoch: 33700. Loss: 0.0109. Accuracy: 100.00%\n",
      "Epoch: 33800. Loss: 0.0201. Accuracy: 99.38%\n",
      "Epoch: 33900. Loss: 0.0346. Accuracy: 98.44%\n",
      "Epoch: 34000. Loss: 0.0247. Accuracy: 99.38%\n",
      "Epoch: 34100. Loss: 0.0237. Accuracy: 99.38%\n",
      "Epoch: 34200. Loss: 0.0124. Accuracy: 99.69%\n",
      "Epoch: 34300. Loss: 0.0103. Accuracy: 100.00%\n",
      "Epoch: 34400. Loss: 0.0366. Accuracy: 99.69%\n",
      "Epoch: 34500. Loss: 0.0117. Accuracy: 100.00%\n",
      "Epoch: 34600. Loss: 0.0187. Accuracy: 99.69%\n",
      "Epoch: 34700. Loss: 0.0122. Accuracy: 99.69%\n",
      "Epoch: 34800. Loss: 0.0278. Accuracy: 99.06%\n",
      "Epoch: 34900. Loss: 0.0082. Accuracy: 100.00%\n",
      "Epoch: 35000. Loss: 0.0632. Accuracy: 99.69%\n",
      "Epoch: 35100. Loss: 0.0257. Accuracy: 99.38%\n",
      "Epoch: 35200. Loss: 0.0154. Accuracy: 99.69%\n",
      "Epoch: 35300. Loss: 0.0171. Accuracy: 99.69%\n",
      "Epoch: 35400. Loss: 0.0131. Accuracy: 99.69%\n",
      "Epoch: 35500. Loss: 0.0273. Accuracy: 99.69%\n",
      "Epoch: 35600. Loss: 0.0399. Accuracy: 99.06%\n",
      "Epoch: 35700. Loss: 0.0076. Accuracy: 100.00%\n",
      "Epoch: 35800. Loss: 0.0605. Accuracy: 98.44%\n",
      "Epoch: 35900. Loss: 0.0053. Accuracy: 100.00%\n",
      "Epoch: 36000. Loss: 0.0413. Accuracy: 99.38%\n",
      "Epoch: 36100. Loss: 0.0056. Accuracy: 100.00%\n",
      "Epoch: 36200. Loss: 0.0829. Accuracy: 99.06%\n",
      "Epoch: 36300. Loss: 0.0083. Accuracy: 100.00%\n",
      "Epoch: 36400. Loss: 0.0078. Accuracy: 100.00%\n",
      "Epoch: 36500. Loss: 0.0187. Accuracy: 99.69%\n",
      "Epoch: 36600. Loss: 0.0751. Accuracy: 99.06%\n",
      "Epoch: 36700. Loss: 0.0128. Accuracy: 99.69%\n",
      "Epoch: 36800. Loss: 0.0130. Accuracy: 100.00%\n",
      "Epoch: 36900. Loss: 0.0438. Accuracy: 99.69%\n",
      "Epoch: 37000. Loss: 0.0322. Accuracy: 99.38%\n",
      "Epoch: 37100. Loss: 0.0341. Accuracy: 98.44%\n",
      "Epoch: 37200. Loss: 0.0120. Accuracy: 100.00%\n",
      "Epoch: 37300. Loss: 0.0206. Accuracy: 99.38%\n",
      "Epoch: 37400. Loss: 0.0176. Accuracy: 99.69%\n",
      "Epoch: 37500. Loss: 0.0089. Accuracy: 99.69%\n",
      "Epoch: 37600. Loss: 0.0278. Accuracy: 98.44%\n",
      "Epoch: 37700. Loss: 0.0462. Accuracy: 99.06%\n",
      "Epoch: 37800. Loss: 0.0573. Accuracy: 98.75%\n",
      "Epoch: 37900. Loss: 0.0104. Accuracy: 100.00%\n",
      "Epoch: 38000. Loss: 0.0047. Accuracy: 100.00%\n",
      "Epoch: 38100. Loss: 0.0111. Accuracy: 99.69%\n",
      "Epoch: 38200. Loss: 0.0271. Accuracy: 99.38%\n",
      "Epoch: 38300. Loss: 0.0544. Accuracy: 98.75%\n",
      "Epoch: 38400. Loss: 0.0073. Accuracy: 100.00%\n",
      "Epoch: 38500. Loss: 0.0074. Accuracy: 100.00%\n",
      "Epoch: 38600. Loss: 0.0070. Accuracy: 100.00%\n",
      "Epoch: 38700. Loss: 0.0053. Accuracy: 100.00%\n",
      "Epoch: 38800. Loss: 0.0122. Accuracy: 99.69%\n",
      "Epoch: 38900. Loss: 0.0405. Accuracy: 99.06%\n",
      "Epoch: 39000. Loss: 0.1247. Accuracy: 97.50%\n",
      "Epoch: 39100. Loss: 0.0096. Accuracy: 100.00%\n",
      "Epoch: 39200. Loss: 0.0151. Accuracy: 99.69%\n",
      "Epoch: 39300. Loss: 0.0107. Accuracy: 100.00%\n",
      "Epoch: 39400. Loss: 0.0288. Accuracy: 99.38%\n",
      "Epoch: 39500. Loss: 0.0329. Accuracy: 98.75%\n",
      "Epoch: 39600. Loss: 0.0248. Accuracy: 99.38%\n",
      "Epoch: 39700. Loss: 0.0179. Accuracy: 99.38%\n",
      "Epoch: 39800. Loss: 0.0615. Accuracy: 99.06%\n",
      "Epoch: 39900. Loss: 0.0171. Accuracy: 99.38%\n",
      "Epoch: 40000. Loss: 0.0049. Accuracy: 100.00%\n",
      "Epoch: 40100. Loss: 0.0075. Accuracy: 100.00%\n",
      "Epoch: 40200. Loss: 0.0068. Accuracy: 100.00%\n",
      "Epoch: 40300. Loss: 0.0230. Accuracy: 99.38%\n",
      "Epoch: 40400. Loss: 0.0441. Accuracy: 99.69%\n",
      "Epoch: 40500. Loss: 0.0080. Accuracy: 100.00%\n",
      "Epoch: 40600. Loss: 0.0069. Accuracy: 100.00%\n",
      "Epoch: 40700. Loss: 0.0182. Accuracy: 99.38%\n",
      "Epoch: 40800. Loss: 0.0070. Accuracy: 100.00%\n",
      "Epoch: 40900. Loss: 0.0102. Accuracy: 99.69%\n",
      "Epoch: 41000. Loss: 0.0186. Accuracy: 99.69%\n",
      "Epoch: 41100. Loss: 0.0069. Accuracy: 99.69%\n",
      "Epoch: 41200. Loss: 0.0379. Accuracy: 98.44%\n",
      "Epoch: 41300. Loss: 0.0177. Accuracy: 99.38%\n",
      "Epoch: 41400. Loss: 0.0130. Accuracy: 99.69%\n",
      "Epoch: 41500. Loss: 0.0094. Accuracy: 99.69%\n",
      "Epoch: 41600. Loss: 0.0530. Accuracy: 98.12%\n",
      "Epoch: 41700. Loss: 0.0107. Accuracy: 100.00%\n",
      "Epoch: 41800. Loss: 0.0113. Accuracy: 99.69%\n",
      "Epoch: 41900. Loss: 0.0237. Accuracy: 99.38%\n",
      "Epoch: 42000. Loss: 0.0661. Accuracy: 99.06%\n",
      "Epoch: 42100. Loss: 0.0072. Accuracy: 100.00%\n",
      "Epoch: 42200. Loss: 0.0122. Accuracy: 99.69%\n",
      "Epoch: 42300. Loss: 0.0460. Accuracy: 97.50%\n",
      "Epoch: 42400. Loss: 0.0516. Accuracy: 99.06%\n",
      "Epoch: 42500. Loss: 0.0169. Accuracy: 99.69%\n",
      "Epoch: 42600. Loss: 0.0117. Accuracy: 99.38%\n",
      "Epoch: 42700. Loss: 0.0113. Accuracy: 99.69%\n",
      "Epoch: 42800. Loss: 0.0311. Accuracy: 99.69%\n",
      "Epoch: 42900. Loss: 0.0220. Accuracy: 99.06%\n",
      "Epoch: 43000. Loss: 0.0258. Accuracy: 98.75%\n",
      "Epoch: 43100. Loss: 0.0046. Accuracy: 100.00%\n",
      "Epoch: 43200. Loss: 0.0197. Accuracy: 99.38%\n",
      "Epoch: 43300. Loss: 0.0033. Accuracy: 100.00%\n",
      "Epoch: 43400. Loss: 0.0092. Accuracy: 99.69%\n",
      "Epoch: 43500. Loss: 0.0225. Accuracy: 99.38%\n",
      "Epoch: 43600. Loss: 0.0332. Accuracy: 98.44%\n",
      "Epoch: 43700. Loss: 0.0120. Accuracy: 99.69%\n",
      "Epoch: 43800. Loss: 0.0059. Accuracy: 100.00%\n",
      "Epoch: 43900. Loss: 0.0081. Accuracy: 100.00%\n",
      "Epoch: 44000. Loss: 0.0387. Accuracy: 99.38%\n",
      "Epoch: 44100. Loss: 0.0069. Accuracy: 99.69%\n",
      "Epoch: 44200. Loss: 0.0168. Accuracy: 99.38%\n",
      "Epoch: 44300. Loss: 0.0098. Accuracy: 99.69%\n",
      "Epoch: 44400. Loss: 0.0615. Accuracy: 98.44%\n",
      "Epoch: 44500. Loss: 0.0291. Accuracy: 99.38%\n",
      "Epoch: 44600. Loss: 0.0091. Accuracy: 99.69%\n",
      "Epoch: 44700. Loss: 0.0145. Accuracy: 99.38%\n",
      "Epoch: 44800. Loss: 0.0219. Accuracy: 99.69%\n",
      "Epoch: 44900. Loss: 0.0361. Accuracy: 99.38%\n",
      "Epoch: 45000. Loss: 0.0232. Accuracy: 99.69%\n",
      "Epoch: 45100. Loss: 0.0062. Accuracy: 100.00%\n",
      "Epoch: 45200. Loss: 0.0041. Accuracy: 100.00%\n",
      "Epoch: 45300. Loss: 0.0089. Accuracy: 99.69%\n",
      "Epoch: 45400. Loss: 0.0061. Accuracy: 100.00%\n",
      "Epoch: 45500. Loss: 0.0063. Accuracy: 100.00%\n",
      "Epoch: 45600. Loss: 0.0074. Accuracy: 100.00%\n",
      "Epoch: 45700. Loss: 0.0041. Accuracy: 100.00%\n",
      "Epoch: 45800. Loss: 0.0168. Accuracy: 99.38%\n",
      "Epoch: 45900. Loss: 0.0706. Accuracy: 97.81%\n",
      "Epoch: 46000. Loss: 0.0080. Accuracy: 100.00%\n",
      "Epoch: 46100. Loss: 0.0266. Accuracy: 99.69%\n",
      "Epoch: 46200. Loss: 0.0191. Accuracy: 99.69%\n",
      "Epoch: 46300. Loss: 0.0084. Accuracy: 99.69%\n",
      "Epoch: 46400. Loss: 0.0124. Accuracy: 99.69%\n",
      "Epoch: 46500. Loss: 0.0085. Accuracy: 99.69%\n",
      "Epoch: 46600. Loss: 0.0155. Accuracy: 99.69%\n",
      "Epoch: 46700. Loss: 0.0060. Accuracy: 100.00%\n",
      "Epoch: 46800. Loss: 0.0093. Accuracy: 99.69%\n",
      "Epoch: 46900. Loss: 0.0913. Accuracy: 99.69%\n",
      "Epoch: 47000. Loss: 0.0311. Accuracy: 99.06%\n",
      "Epoch: 47100. Loss: 0.0688. Accuracy: 98.44%\n",
      "Epoch: 47200. Loss: 0.0088. Accuracy: 100.00%\n",
      "Epoch: 47300. Loss: 0.0106. Accuracy: 99.69%\n",
      "Epoch: 47400. Loss: 0.0041. Accuracy: 100.00%\n",
      "Epoch: 47500. Loss: 0.0212. Accuracy: 99.38%\n",
      "Epoch: 47600. Loss: 0.0392. Accuracy: 99.38%\n",
      "Epoch: 47700. Loss: 0.0113. Accuracy: 100.00%\n",
      "Epoch: 47800. Loss: 0.0054. Accuracy: 100.00%\n",
      "Epoch: 47900. Loss: 0.0063. Accuracy: 100.00%\n",
      "Epoch: 48000. Loss: 0.0122. Accuracy: 99.69%\n",
      "Epoch: 48100. Loss: 0.0101. Accuracy: 99.69%\n",
      "Epoch: 48200. Loss: 0.0100. Accuracy: 100.00%\n",
      "Epoch: 48300. Loss: 0.0039. Accuracy: 100.00%\n",
      "Epoch: 48400. Loss: 0.0075. Accuracy: 99.69%\n",
      "Epoch: 48500. Loss: 0.0166. Accuracy: 99.69%\n",
      "Epoch: 48600. Loss: 0.0203. Accuracy: 99.69%\n",
      "Epoch: 48700. Loss: 0.0168. Accuracy: 99.38%\n",
      "Epoch: 48800. Loss: 0.0107. Accuracy: 99.69%\n",
      "Epoch: 48900. Loss: 0.0593. Accuracy: 99.06%\n",
      "Epoch: 49000. Loss: 0.0123. Accuracy: 99.69%\n",
      "Epoch: 49100. Loss: 0.0130. Accuracy: 99.69%\n",
      "Epoch: 49200. Loss: 0.0037. Accuracy: 100.00%\n",
      "Epoch: 49300. Loss: 0.0085. Accuracy: 99.69%\n",
      "Epoch: 49400. Loss: 0.0100. Accuracy: 100.00%\n",
      "Epoch: 49500. Loss: 0.0079. Accuracy: 99.69%\n",
      "Epoch: 49600. Loss: 0.0045. Accuracy: 100.00%\n",
      "Epoch: 49700. Loss: 0.0055. Accuracy: 99.69%\n",
      "Epoch: 49800. Loss: 0.0044. Accuracy: 100.00%\n",
      "Epoch: 49900. Loss: 0.0155. Accuracy: 99.06%\n",
      "Epoch: 50000. Loss: 0.0105. Accuracy: 99.38%\n"
     ]
    },
    {
     "data": {
      "application/vnd.plotly.v1+json": {
       "config": {
        "plotlyServerURL": "https://plot.ly"
       },
       "data": [
        {
         "hovertemplate": "Epoch=%{x}<br>Loss=%{y}<extra></extra>",
         "legendgroup": "",
         "line": {
          "color": "#636efa",
          "dash": "solid"
         },
         "marker": {
          "symbol": "circle"
         },
         "mode": "lines",
         "name": "",
         "orientation": "h",
         "showlegend": false,
         "type": "scatter",
         "x": [
          0,
          100,
          200,
          300,
          400,
          500,
          600,
          700,
          800,
          900,
          1000,
          1100,
          1200,
          1300,
          1400,
          1500,
          1600,
          1700,
          1800,
          1900,
          2000,
          2100,
          2200,
          2300,
          2400,
          2500,
          2600,
          2700,
          2800,
          2900,
          3000,
          3100,
          3200,
          3300,
          3400,
          3500,
          3600,
          3700,
          3800,
          3900,
          4000,
          4100,
          4200,
          4300,
          4400,
          4500,
          4600,
          4700,
          4800,
          4900,
          5000,
          5100,
          5200,
          5300,
          5400,
          5500,
          5600,
          5700,
          5800,
          5900,
          6000,
          6100,
          6200,
          6300,
          6400,
          6500,
          6600,
          6700,
          6800,
          6900,
          7000,
          7100,
          7200,
          7300,
          7400,
          7500,
          7600,
          7700,
          7800,
          7900,
          8000,
          8100,
          8200,
          8300,
          8400,
          8500,
          8600,
          8700,
          8800,
          8900,
          9000,
          9100,
          9200,
          9300,
          9400,
          9500,
          9600,
          9700,
          9800,
          9900,
          10000,
          10100,
          10200,
          10300,
          10400,
          10500,
          10600,
          10700,
          10800,
          10900,
          11000,
          11100,
          11200,
          11300,
          11400,
          11500,
          11600,
          11700,
          11800,
          11900,
          12000,
          12100,
          12200,
          12300,
          12400,
          12500,
          12600,
          12700,
          12800,
          12900,
          13000,
          13100,
          13200,
          13300,
          13400,
          13500,
          13600,
          13700,
          13800,
          13900,
          14000,
          14100,
          14200,
          14300,
          14400,
          14500,
          14600,
          14700,
          14800,
          14900,
          15000,
          15100,
          15200,
          15300,
          15400,
          15500,
          15600,
          15700,
          15800,
          15900,
          16000,
          16100,
          16200,
          16300,
          16400,
          16500,
          16600,
          16700,
          16800,
          16900,
          17000,
          17100,
          17200,
          17300,
          17400,
          17500,
          17600,
          17700,
          17800,
          17900,
          18000,
          18100,
          18200,
          18300,
          18400,
          18500,
          18600,
          18700,
          18800,
          18900,
          19000,
          19100,
          19200,
          19300,
          19400,
          19500,
          19600,
          19700,
          19800,
          19900,
          20000,
          20100,
          20200,
          20300,
          20400,
          20500,
          20600,
          20700,
          20800,
          20900,
          21000,
          21100,
          21200,
          21300,
          21400,
          21500,
          21600,
          21700,
          21800,
          21900,
          22000,
          22100,
          22200,
          22300,
          22400,
          22500,
          22600,
          22700,
          22800,
          22900,
          23000,
          23100,
          23200,
          23300,
          23400,
          23500,
          23600,
          23700,
          23800,
          23900,
          24000,
          24100,
          24200,
          24300,
          24400,
          24500,
          24600,
          24700,
          24800,
          24900,
          25000,
          25100,
          25200,
          25300,
          25400,
          25500,
          25600,
          25700,
          25800,
          25900,
          26000,
          26100,
          26200,
          26300,
          26400,
          26500,
          26600,
          26700,
          26800,
          26900,
          27000,
          27100,
          27200,
          27300,
          27400,
          27500,
          27600,
          27700,
          27800,
          27900,
          28000,
          28100,
          28200,
          28300,
          28400,
          28500,
          28600,
          28700,
          28800,
          28900,
          29000,
          29100,
          29200,
          29300,
          29400,
          29500,
          29600,
          29700,
          29800,
          29900,
          30000,
          30100,
          30200,
          30300,
          30400,
          30500,
          30600,
          30700,
          30800,
          30900,
          31000,
          31100,
          31200,
          31300,
          31400,
          31500,
          31600,
          31700,
          31800,
          31900,
          32000,
          32100,
          32200,
          32300,
          32400,
          32500,
          32600,
          32700,
          32800,
          32900,
          33000,
          33100,
          33200,
          33300,
          33400,
          33500,
          33600,
          33700,
          33800,
          33900,
          34000,
          34100,
          34200,
          34300,
          34400,
          34500,
          34600,
          34700,
          34800,
          34900,
          35000,
          35100,
          35200,
          35300,
          35400,
          35500,
          35600,
          35700,
          35800,
          35900,
          36000,
          36100,
          36200,
          36300,
          36400,
          36500,
          36600,
          36700,
          36800,
          36900,
          37000,
          37100,
          37200,
          37300,
          37400,
          37500,
          37600,
          37700,
          37800,
          37900,
          38000,
          38100,
          38200,
          38300,
          38400,
          38500,
          38600,
          38700,
          38800,
          38900,
          39000,
          39100,
          39200,
          39300,
          39400,
          39500,
          39600,
          39700,
          39800,
          39900,
          40000,
          40100,
          40200,
          40300,
          40400,
          40500,
          40600,
          40700,
          40800,
          40900,
          41000,
          41100,
          41200,
          41300,
          41400,
          41500,
          41600,
          41700,
          41800,
          41900,
          42000,
          42100,
          42200,
          42300,
          42400,
          42500,
          42600,
          42700,
          42800,
          42900,
          43000,
          43100,
          43200,
          43300,
          43400,
          43500,
          43600,
          43700,
          43800,
          43900,
          44000,
          44100,
          44200,
          44300,
          44400,
          44500,
          44600,
          44700,
          44800,
          44900,
          45000,
          45100,
          45200,
          45300,
          45400,
          45500,
          45600,
          45700,
          45800,
          45900,
          46000,
          46100,
          46200,
          46300,
          46400,
          46500,
          46600,
          46700,
          46800,
          46900,
          47000,
          47100,
          47200,
          47300,
          47400,
          47500,
          47600,
          47700,
          47800,
          47900,
          48000,
          48100,
          48200,
          48300,
          48400,
          48500,
          48600,
          48700,
          48800,
          48900,
          49000,
          49100,
          49200,
          49300,
          49400,
          49500,
          49600,
          49700,
          49800,
          49900,
          50000
         ],
         "xaxis": "x",
         "y": [
          3.468372344970703,
          2.865863561630249,
          1.9343845844268799,
          1.708612322807312,
          1.5999410152435303,
          1.615748643875122,
          1.5636285543441772,
          1.4924252033233643,
          1.430887222290039,
          1.3986812829971313,
          1.3399475812911987,
          1.352089762687683,
          1.2868378162384033,
          1.2664860486984253,
          1.2238988876342773,
          1.1769119501113892,
          1.1026225090026855,
          1.1248573064804077,
          1.0538276433944702,
          0.9978906512260437,
          0.9682950973510742,
          1.016036868095398,
          0.9005393385887146,
          0.958044171333313,
          0.9552000164985657,
          0.9112288355827332,
          0.9022729992866516,
          0.8344957232475281,
          0.8356108069419861,
          0.8376243710517883,
          0.8543868064880371,
          0.8334034085273743,
          0.8054322600364685,
          0.8323158621788025,
          0.8917360305786133,
          0.8378204703330994,
          0.8163403868675232,
          0.8207492232322693,
          0.8129026293754578,
          0.7716416716575623,
          0.7923493385314941,
          0.7795680165290833,
          0.8608675003051758,
          0.7788382172584534,
          0.6969167590141296,
          0.7160804867744446,
          0.6477025747299194,
          0.7100757956504822,
          0.6327912211418152,
          0.6190417408943176,
          0.6102684140205383,
          0.7038936614990234,
          0.6063190698623657,
          0.622509777545929,
          0.6054560542106628,
          0.6387290358543396,
          0.6278401613235474,
          0.6614605188369751,
          0.7132723331451416,
          0.5900538563728333,
          0.5743858814239502,
          0.571640133857727,
          0.6018086671829224,
          0.6015047430992126,
          0.5847967267036438,
          0.591794490814209,
          0.5572896003723145,
          0.5572259426116943,
          0.5709198713302612,
          0.5254115462303162,
          0.5397698283195496,
          0.49765902757644653,
          0.513732373714447,
          0.4994560778141022,
          0.5010957717895508,
          0.5689865946769714,
          0.5238197445869446,
          0.5090085864067078,
          0.49702104926109314,
          0.48768582940101624,
          0.4792696535587311,
          0.491100549697876,
          0.5313461422920227,
          0.46477094292640686,
          0.5109124779701233,
          0.46636149287223816,
          0.4555720388889313,
          0.49902698397636414,
          0.501562237739563,
          0.45251160860061646,
          0.5115347504615784,
          0.45570412278175354,
          0.44550949335098267,
          0.4417193830013275,
          0.46035099029541016,
          0.48806658387184143,
          0.4170845150947571,
          0.456019788980484,
          0.5002142190933228,
          0.4114130437374115,
          0.3926452100276947,
          0.42180004715919495,
          0.4141925871372223,
          0.36725756525993347,
          0.42522937059402466,
          0.4522012770175934,
          0.4460761249065399,
          0.44098028540611267,
          0.4658149182796478,
          0.4232826232910156,
          0.43570786714553833,
          0.3905576169490814,
          0.37205058336257935,
          0.39282742142677307,
          0.434772789478302,
          0.3452483117580414,
          0.3852759599685669,
          0.36635822057724,
          0.35854998230934143,
          0.3987973630428314,
          0.3376027047634125,
          0.34883400797843933,
          0.34404444694519043,
          0.3310675024986267,
          0.33546310663223267,
          0.3634943664073944,
          0.3302939534187317,
          0.35353875160217285,
          0.3446025550365448,
          0.36212021112442017,
          0.3266133964061737,
          0.2881808280944824,
          0.373778760433197,
          0.32384321093559265,
          0.30658623576164246,
          0.3239595592021942,
          0.2443753033876419,
          0.24255409836769104,
          0.26831719279289246,
          0.2519061267375946,
          0.2117696851491928,
          0.2608327865600586,
          0.240494966506958,
          0.21709394454956055,
          0.19738081097602844,
          0.19512693583965302,
          0.1933666616678238,
          0.13690081238746643,
          0.1395539492368698,
          0.1642111986875534,
          0.1543685793876648,
          0.17409780621528625,
          0.1203170195221901,
          0.10358796268701553,
          0.1778956949710846,
          0.11745965480804443,
          0.10840486735105515,
          0.1270832121372223,
          0.1560332179069519,
          0.10109732300043106,
          0.17486929893493652,
          0.0918663740158081,
          0.15454137325286865,
          0.10107629746198654,
          0.08958112448453903,
          0.1297975480556488,
          0.08017615228891373,
          0.13410572707653046,
          0.10905767977237701,
          0.10579037666320801,
          0.0765809416770935,
          0.08305425941944122,
          0.13555292785167694,
          0.10089664906263351,
          0.08316322416067123,
          0.12289363145828247,
          0.09770288318395615,
          0.10998840630054474,
          0.060216184705495834,
          0.06677553057670593,
          0.09535294026136398,
          0.0892447754740715,
          0.06485581398010254,
          0.15440142154693604,
          0.0809972882270813,
          0.10510481894016266,
          0.08000947535037994,
          0.0893658921122551,
          0.07706981897354126,
          0.05682237818837166,
          0.08494403213262558,
          0.14660966396331787,
          0.07430248707532883,
          0.04114798456430435,
          0.0767083540558815,
          0.059452157467603683,
          0.06643032282590866,
          0.06896921992301941,
          0.04488903284072876,
          0.10111849755048752,
          0.10298202186822891,
          0.05418180301785469,
          0.08138316869735718,
          0.05809474736452103,
          0.051495522260665894,
          0.07540885359048843,
          0.06414144486188889,
          0.06825374811887741,
          0.06383959949016571,
          0.055527281016111374,
          0.06175366789102554,
          0.055306632071733475,
          0.06404222548007965,
          0.03736170381307602,
          0.060652196407318115,
          0.05248793959617615,
          0.055343519896268845,
          0.07263442128896713,
          0.049396585673093796,
          0.037177663296461105,
          0.0369696319103241,
          0.032506950199604034,
          0.04361993074417114,
          0.05752522870898247,
          0.0509130023419857,
          0.0676424503326416,
          0.04553759843111038,
          0.14132873713970184,
          0.051220327615737915,
          0.018987542018294334,
          0.06303098052740097,
          0.04597941413521767,
          0.0313924141228199,
          0.029628848657011986,
          0.04917934909462929,
          0.04107470065355301,
          0.055883076041936874,
          0.05660729482769966,
          0.1441154032945633,
          0.02879536710679531,
          0.017010068520903587,
          0.06121274456381798,
          0.0618683397769928,
          0.050103988498449326,
          0.01714840531349182,
          0.12741965055465698,
          0.034858278930187225,
          0.04096439480781555,
          0.023273497819900513,
          0.04234185814857483,
          0.08605800569057465,
          0.04686495289206505,
          0.026933252811431885,
          0.039769019931554794,
          0.07251634448766708,
          0.015510991215705872,
          0.04399747774004936,
          0.041471295058727264,
          0.04027369245886803,
          0.02272690087556839,
          0.033997792750597,
          0.04438294842839241,
          0.03131004050374031,
          0.06188324838876724,
          0.020058924332261086,
          0.0217266995459795,
          0.03963347151875496,
          0.02284657023847103,
          0.0398341566324234,
          0.03396358713507652,
          0.03723810985684395,
          0.021934136748313904,
          0.06589734554290771,
          0.02173864096403122,
          0.014148172922432423,
          0.01638100855052471,
          0.026352716609835625,
          0.027297789230942726,
          0.030864721164107323,
          0.024383535608649254,
          0.019295066595077515,
          0.027923796325922012,
          0.06417427957057953,
          0.036453016102313995,
          0.031629838049411774,
          0.04894475266337395,
          0.027166098356246948,
          0.11030580848455429,
          0.020424004644155502,
          0.022978223860263824,
          0.02501312829554081,
          0.013450411148369312,
          0.015417197719216347,
          0.04273819923400879,
          0.005762466695159674,
          0.04520191624760628,
          0.016183137893676758,
          0.03099760413169861,
          0.012710804119706154,
          0.020188113674521446,
          0.027811754494905472,
          0.023448962718248367,
          0.03164077550172806,
          0.01088037621229887,
          0.04799697920680046,
          0.062414564192295074,
          0.027854949235916138,
          0.021652650088071823,
          0.01104243379086256,
          0.03516038507223129,
          0.055215198546648026,
          0.01884246990084648,
          0.02858552895486355,
          0.051150061190128326,
          0.012015770189464092,
          0.017767315730452538,
          0.02125539444386959,
          0.0357518307864666,
          0.16174845397472382,
          0.021046090871095657,
          0.029071945697069168,
          0.041940152645111084,
          0.1440897434949875,
          0.015607478097081184,
          0.023742428049445152,
          0.012219964526593685,
          0.016254384070634842,
          0.009896024130284786,
          0.0173777025192976,
          0.01465847808867693,
          0.03558893874287605,
          0.009837310761213303,
          0.05542401224374771,
          0.016421690583229065,
          0.007860735058784485,
          0.04539649933576584,
          0.047267038375139236,
          0.010949118994176388,
          0.020105760544538498,
          0.03458847478032112,
          0.02473318949341774,
          0.02373785339295864,
          0.01239791326224804,
          0.010324044153094292,
          0.036559101194143295,
          0.011652139015495777,
          0.018652740865945816,
          0.01216344814747572,
          0.027814039960503578,
          0.008200299926102161,
          0.063175730407238,
          0.025692259892821312,
          0.01541205681860447,
          0.01714196242392063,
          0.01311669684946537,
          0.02725457213819027,
          0.03987129032611847,
          0.007597041316330433,
          0.0605141706764698,
          0.005304579623043537,
          0.04125935584306717,
          0.005620973650366068,
          0.08294948935508728,
          0.008255237713456154,
          0.007838352583348751,
          0.018668852746486664,
          0.07514985650777817,
          0.012831549160182476,
          0.013021002523601055,
          0.043751005083322525,
          0.03217983990907669,
          0.03412626311182976,
          0.01195073127746582,
          0.020565373823046684,
          0.017648139968514442,
          0.008936436846852303,
          0.027794092893600464,
          0.04622389376163483,
          0.05734342336654663,
          0.010367589071393013,
          0.004651728551834822,
          0.011123276315629482,
          0.027108803391456604,
          0.05443448945879936,
          0.007274075876921415,
          0.007411479949951172,
          0.007044740952551365,
          0.0053474330343306065,
          0.012215467169880867,
          0.04050638526678085,
          0.1247481107711792,
          0.009593531489372253,
          0.015116865746676922,
          0.010676165111362934,
          0.0288490392267704,
          0.032928626984357834,
          0.024775108322501183,
          0.017918726429343224,
          0.06154174357652664,
          0.017122671008110046,
          0.004860545974224806,
          0.007478849496692419,
          0.0067658559419214725,
          0.02300127036869526,
          0.04409131035208702,
          0.008029364980757236,
          0.006898569408804178,
          0.018222568556666374,
          0.006954665761440992,
          0.01020540576428175,
          0.01860329508781433,
          0.006914164405316114,
          0.037886183708906174,
          0.017669962719082832,
          0.013046598993241787,
          0.009398248977959156,
          0.05304879695177078,
          0.010696092620491982,
          0.011317886412143707,
          0.023737216368317604,
          0.06612105667591095,
          0.007215273566544056,
          0.012223630212247372,
          0.046048980206251144,
          0.05157283693552017,
          0.016926530748605728,
          0.011676657013595104,
          0.01125272549688816,
          0.031137878075242043,
          0.02199610136449337,
          0.025823120027780533,
          0.004583339672535658,
          0.019667470827698708,
          0.003260154975578189,
          0.009160277433693409,
          0.02252272143959999,
          0.03324389085173607,
          0.011952029541134834,
          0.005880165845155716,
          0.008134057745337486,
          0.038740891963243484,
          0.006856933236122131,
          0.016779867932200432,
          0.009769001975655556,
          0.06150169298052788,
          0.029062701389193535,
          0.009131898172199726,
          0.014492041431367397,
          0.02190748043358326,
          0.03613312169909477,
          0.02318689040839672,
          0.006223391741514206,
          0.004105973988771439,
          0.008885263465344906,
          0.006118636578321457,
          0.00633082864806056,
          0.00743190199136734,
          0.004101094789803028,
          0.016798604279756546,
          0.07061116397380829,
          0.008010486140847206,
          0.026550594717264175,
          0.019108859822154045,
          0.008442605845630169,
          0.012416095472872257,
          0.008459598757326603,
          0.015520266257226467,
          0.006013351958245039,
          0.009296447038650513,
          0.09128870815038681,
          0.031133344396948814,
          0.0688331127166748,
          0.008767865598201752,
          0.010572484694421291,
          0.004121274687349796,
          0.0212104469537735,
          0.03915860876441002,
          0.011314806528389454,
          0.005411520600318909,
          0.006300413515418768,
          0.01216199155896902,
          0.010127496905624866,
          0.009950181469321251,
          0.003947789780795574,
          0.007469375617802143,
          0.016583139076828957,
          0.020273443311452866,
          0.016836199909448624,
          0.010734425857663155,
          0.059337176382541656,
          0.012317250482738018,
          0.013017763383686543,
          0.0037159116473048925,
          0.00846022553741932,
          0.009990167804062366,
          0.007870519533753395,
          0.004473169334232807,
          0.005536036565899849,
          0.004360762890428305,
          0.015475115738809109,
          0.010495423339307308
         ],
         "yaxis": "y"
        }
       ],
       "layout": {
        "legend": {
         "tracegroupgap": 0
        },
        "template": {
         "data": {
          "bar": [
           {
            "error_x": {
             "color": "#2a3f5f"
            },
            "error_y": {
             "color": "#2a3f5f"
            },
            "marker": {
             "line": {
              "color": "#E5ECF6",
              "width": 0.5
             },
             "pattern": {
              "fillmode": "overlay",
              "size": 10,
              "solidity": 0.2
             }
            },
            "type": "bar"
           }
          ],
          "barpolar": [
           {
            "marker": {
             "line": {
              "color": "#E5ECF6",
              "width": 0.5
             },
             "pattern": {
              "fillmode": "overlay",
              "size": 10,
              "solidity": 0.2
             }
            },
            "type": "barpolar"
           }
          ],
          "carpet": [
           {
            "aaxis": {
             "endlinecolor": "#2a3f5f",
             "gridcolor": "white",
             "linecolor": "white",
             "minorgridcolor": "white",
             "startlinecolor": "#2a3f5f"
            },
            "baxis": {
             "endlinecolor": "#2a3f5f",
             "gridcolor": "white",
             "linecolor": "white",
             "minorgridcolor": "white",
             "startlinecolor": "#2a3f5f"
            },
            "type": "carpet"
           }
          ],
          "choropleth": [
           {
            "colorbar": {
             "outlinewidth": 0,
             "ticks": ""
            },
            "type": "choropleth"
           }
          ],
          "contour": [
           {
            "colorbar": {
             "outlinewidth": 0,
             "ticks": ""
            },
            "colorscale": [
             [
              0,
              "#0d0887"
             ],
             [
              0.1111111111111111,
              "#46039f"
             ],
             [
              0.2222222222222222,
              "#7201a8"
             ],
             [
              0.3333333333333333,
              "#9c179e"
             ],
             [
              0.4444444444444444,
              "#bd3786"
             ],
             [
              0.5555555555555556,
              "#d8576b"
             ],
             [
              0.6666666666666666,
              "#ed7953"
             ],
             [
              0.7777777777777778,
              "#fb9f3a"
             ],
             [
              0.8888888888888888,
              "#fdca26"
             ],
             [
              1,
              "#f0f921"
             ]
            ],
            "type": "contour"
           }
          ],
          "contourcarpet": [
           {
            "colorbar": {
             "outlinewidth": 0,
             "ticks": ""
            },
            "type": "contourcarpet"
           }
          ],
          "heatmap": [
           {
            "colorbar": {
             "outlinewidth": 0,
             "ticks": ""
            },
            "colorscale": [
             [
              0,
              "#0d0887"
             ],
             [
              0.1111111111111111,
              "#46039f"
             ],
             [
              0.2222222222222222,
              "#7201a8"
             ],
             [
              0.3333333333333333,
              "#9c179e"
             ],
             [
              0.4444444444444444,
              "#bd3786"
             ],
             [
              0.5555555555555556,
              "#d8576b"
             ],
             [
              0.6666666666666666,
              "#ed7953"
             ],
             [
              0.7777777777777778,
              "#fb9f3a"
             ],
             [
              0.8888888888888888,
              "#fdca26"
             ],
             [
              1,
              "#f0f921"
             ]
            ],
            "type": "heatmap"
           }
          ],
          "heatmapgl": [
           {
            "colorbar": {
             "outlinewidth": 0,
             "ticks": ""
            },
            "colorscale": [
             [
              0,
              "#0d0887"
             ],
             [
              0.1111111111111111,
              "#46039f"
             ],
             [
              0.2222222222222222,
              "#7201a8"
             ],
             [
              0.3333333333333333,
              "#9c179e"
             ],
             [
              0.4444444444444444,
              "#bd3786"
             ],
             [
              0.5555555555555556,
              "#d8576b"
             ],
             [
              0.6666666666666666,
              "#ed7953"
             ],
             [
              0.7777777777777778,
              "#fb9f3a"
             ],
             [
              0.8888888888888888,
              "#fdca26"
             ],
             [
              1,
              "#f0f921"
             ]
            ],
            "type": "heatmapgl"
           }
          ],
          "histogram": [
           {
            "marker": {
             "pattern": {
              "fillmode": "overlay",
              "size": 10,
              "solidity": 0.2
             }
            },
            "type": "histogram"
           }
          ],
          "histogram2d": [
           {
            "colorbar": {
             "outlinewidth": 0,
             "ticks": ""
            },
            "colorscale": [
             [
              0,
              "#0d0887"
             ],
             [
              0.1111111111111111,
              "#46039f"
             ],
             [
              0.2222222222222222,
              "#7201a8"
             ],
             [
              0.3333333333333333,
              "#9c179e"
             ],
             [
              0.4444444444444444,
              "#bd3786"
             ],
             [
              0.5555555555555556,
              "#d8576b"
             ],
             [
              0.6666666666666666,
              "#ed7953"
             ],
             [
              0.7777777777777778,
              "#fb9f3a"
             ],
             [
              0.8888888888888888,
              "#fdca26"
             ],
             [
              1,
              "#f0f921"
             ]
            ],
            "type": "histogram2d"
           }
          ],
          "histogram2dcontour": [
           {
            "colorbar": {
             "outlinewidth": 0,
             "ticks": ""
            },
            "colorscale": [
             [
              0,
              "#0d0887"
             ],
             [
              0.1111111111111111,
              "#46039f"
             ],
             [
              0.2222222222222222,
              "#7201a8"
             ],
             [
              0.3333333333333333,
              "#9c179e"
             ],
             [
              0.4444444444444444,
              "#bd3786"
             ],
             [
              0.5555555555555556,
              "#d8576b"
             ],
             [
              0.6666666666666666,
              "#ed7953"
             ],
             [
              0.7777777777777778,
              "#fb9f3a"
             ],
             [
              0.8888888888888888,
              "#fdca26"
             ],
             [
              1,
              "#f0f921"
             ]
            ],
            "type": "histogram2dcontour"
           }
          ],
          "mesh3d": [
           {
            "colorbar": {
             "outlinewidth": 0,
             "ticks": ""
            },
            "type": "mesh3d"
           }
          ],
          "parcoords": [
           {
            "line": {
             "colorbar": {
              "outlinewidth": 0,
              "ticks": ""
             }
            },
            "type": "parcoords"
           }
          ],
          "pie": [
           {
            "automargin": true,
            "type": "pie"
           }
          ],
          "scatter": [
           {
            "fillpattern": {
             "fillmode": "overlay",
             "size": 10,
             "solidity": 0.2
            },
            "type": "scatter"
           }
          ],
          "scatter3d": [
           {
            "line": {
             "colorbar": {
              "outlinewidth": 0,
              "ticks": ""
             }
            },
            "marker": {
             "colorbar": {
              "outlinewidth": 0,
              "ticks": ""
             }
            },
            "type": "scatter3d"
           }
          ],
          "scattercarpet": [
           {
            "marker": {
             "colorbar": {
              "outlinewidth": 0,
              "ticks": ""
             }
            },
            "type": "scattercarpet"
           }
          ],
          "scattergeo": [
           {
            "marker": {
             "colorbar": {
              "outlinewidth": 0,
              "ticks": ""
             }
            },
            "type": "scattergeo"
           }
          ],
          "scattergl": [
           {
            "marker": {
             "colorbar": {
              "outlinewidth": 0,
              "ticks": ""
             }
            },
            "type": "scattergl"
           }
          ],
          "scattermapbox": [
           {
            "marker": {
             "colorbar": {
              "outlinewidth": 0,
              "ticks": ""
             }
            },
            "type": "scattermapbox"
           }
          ],
          "scatterpolar": [
           {
            "marker": {
             "colorbar": {
              "outlinewidth": 0,
              "ticks": ""
             }
            },
            "type": "scatterpolar"
           }
          ],
          "scatterpolargl": [
           {
            "marker": {
             "colorbar": {
              "outlinewidth": 0,
              "ticks": ""
             }
            },
            "type": "scatterpolargl"
           }
          ],
          "scatterternary": [
           {
            "marker": {
             "colorbar": {
              "outlinewidth": 0,
              "ticks": ""
             }
            },
            "type": "scatterternary"
           }
          ],
          "surface": [
           {
            "colorbar": {
             "outlinewidth": 0,
             "ticks": ""
            },
            "colorscale": [
             [
              0,
              "#0d0887"
             ],
             [
              0.1111111111111111,
              "#46039f"
             ],
             [
              0.2222222222222222,
              "#7201a8"
             ],
             [
              0.3333333333333333,
              "#9c179e"
             ],
             [
              0.4444444444444444,
              "#bd3786"
             ],
             [
              0.5555555555555556,
              "#d8576b"
             ],
             [
              0.6666666666666666,
              "#ed7953"
             ],
             [
              0.7777777777777778,
              "#fb9f3a"
             ],
             [
              0.8888888888888888,
              "#fdca26"
             ],
             [
              1,
              "#f0f921"
             ]
            ],
            "type": "surface"
           }
          ],
          "table": [
           {
            "cells": {
             "fill": {
              "color": "#EBF0F8"
             },
             "line": {
              "color": "white"
             }
            },
            "header": {
             "fill": {
              "color": "#C8D4E3"
             },
             "line": {
              "color": "white"
             }
            },
            "type": "table"
           }
          ]
         },
         "layout": {
          "annotationdefaults": {
           "arrowcolor": "#2a3f5f",
           "arrowhead": 0,
           "arrowwidth": 1
          },
          "autotypenumbers": "strict",
          "coloraxis": {
           "colorbar": {
            "outlinewidth": 0,
            "ticks": ""
           }
          },
          "colorscale": {
           "diverging": [
            [
             0,
             "#8e0152"
            ],
            [
             0.1,
             "#c51b7d"
            ],
            [
             0.2,
             "#de77ae"
            ],
            [
             0.3,
             "#f1b6da"
            ],
            [
             0.4,
             "#fde0ef"
            ],
            [
             0.5,
             "#f7f7f7"
            ],
            [
             0.6,
             "#e6f5d0"
            ],
            [
             0.7,
             "#b8e186"
            ],
            [
             0.8,
             "#7fbc41"
            ],
            [
             0.9,
             "#4d9221"
            ],
            [
             1,
             "#276419"
            ]
           ],
           "sequential": [
            [
             0,
             "#0d0887"
            ],
            [
             0.1111111111111111,
             "#46039f"
            ],
            [
             0.2222222222222222,
             "#7201a8"
            ],
            [
             0.3333333333333333,
             "#9c179e"
            ],
            [
             0.4444444444444444,
             "#bd3786"
            ],
            [
             0.5555555555555556,
             "#d8576b"
            ],
            [
             0.6666666666666666,
             "#ed7953"
            ],
            [
             0.7777777777777778,
             "#fb9f3a"
            ],
            [
             0.8888888888888888,
             "#fdca26"
            ],
            [
             1,
             "#f0f921"
            ]
           ],
           "sequentialminus": [
            [
             0,
             "#0d0887"
            ],
            [
             0.1111111111111111,
             "#46039f"
            ],
            [
             0.2222222222222222,
             "#7201a8"
            ],
            [
             0.3333333333333333,
             "#9c179e"
            ],
            [
             0.4444444444444444,
             "#bd3786"
            ],
            [
             0.5555555555555556,
             "#d8576b"
            ],
            [
             0.6666666666666666,
             "#ed7953"
            ],
            [
             0.7777777777777778,
             "#fb9f3a"
            ],
            [
             0.8888888888888888,
             "#fdca26"
            ],
            [
             1,
             "#f0f921"
            ]
           ]
          },
          "colorway": [
           "#636efa",
           "#EF553B",
           "#00cc96",
           "#ab63fa",
           "#FFA15A",
           "#19d3f3",
           "#FF6692",
           "#B6E880",
           "#FF97FF",
           "#FECB52"
          ],
          "font": {
           "color": "#2a3f5f"
          },
          "geo": {
           "bgcolor": "white",
           "lakecolor": "white",
           "landcolor": "#E5ECF6",
           "showlakes": true,
           "showland": true,
           "subunitcolor": "white"
          },
          "hoverlabel": {
           "align": "left"
          },
          "hovermode": "closest",
          "mapbox": {
           "style": "light"
          },
          "paper_bgcolor": "white",
          "plot_bgcolor": "#E5ECF6",
          "polar": {
           "angularaxis": {
            "gridcolor": "white",
            "linecolor": "white",
            "ticks": ""
           },
           "bgcolor": "#E5ECF6",
           "radialaxis": {
            "gridcolor": "white",
            "linecolor": "white",
            "ticks": ""
           }
          },
          "scene": {
           "xaxis": {
            "backgroundcolor": "#E5ECF6",
            "gridcolor": "white",
            "gridwidth": 2,
            "linecolor": "white",
            "showbackground": true,
            "ticks": "",
            "zerolinecolor": "white"
           },
           "yaxis": {
            "backgroundcolor": "#E5ECF6",
            "gridcolor": "white",
            "gridwidth": 2,
            "linecolor": "white",
            "showbackground": true,
            "ticks": "",
            "zerolinecolor": "white"
           },
           "zaxis": {
            "backgroundcolor": "#E5ECF6",
            "gridcolor": "white",
            "gridwidth": 2,
            "linecolor": "white",
            "showbackground": true,
            "ticks": "",
            "zerolinecolor": "white"
           }
          },
          "shapedefaults": {
           "line": {
            "color": "#2a3f5f"
           }
          },
          "ternary": {
           "aaxis": {
            "gridcolor": "white",
            "linecolor": "white",
            "ticks": ""
           },
           "baxis": {
            "gridcolor": "white",
            "linecolor": "white",
            "ticks": ""
           },
           "bgcolor": "#E5ECF6",
           "caxis": {
            "gridcolor": "white",
            "linecolor": "white",
            "ticks": ""
           }
          },
          "title": {
           "x": 0.05
          },
          "xaxis": {
           "automargin": true,
           "gridcolor": "white",
           "linecolor": "white",
           "ticks": "",
           "title": {
            "standoff": 15
           },
           "zerolinecolor": "white",
           "zerolinewidth": 2
          },
          "yaxis": {
           "automargin": true,
           "gridcolor": "white",
           "linecolor": "white",
           "ticks": "",
           "title": {
            "standoff": 15
           },
           "zerolinecolor": "white",
           "zerolinewidth": 2
          }
         }
        },
        "title": {
         "text": "Loss"
        },
        "xaxis": {
         "anchor": "y",
         "domain": [
          0,
          1
         ],
         "title": {
          "text": "Epoch"
         }
        },
        "yaxis": {
         "anchor": "x",
         "domain": [
          0,
          1
         ],
         "title": {
          "text": "Loss"
         }
        }
       }
      }
     },
     "metadata": {},
     "output_type": "display_data"
    },
    {
     "data": {
      "application/vnd.plotly.v1+json": {
       "config": {
        "plotlyServerURL": "https://plot.ly"
       },
       "data": [
        {
         "hovertemplate": "Epoch=%{x}<br>Accuracy=%{y}<extra></extra>",
         "legendgroup": "",
         "line": {
          "color": "#636efa",
          "dash": "solid"
         },
         "marker": {
          "symbol": "circle"
         },
         "mode": "lines",
         "name": "",
         "orientation": "h",
         "showlegend": false,
         "type": "scatter",
         "x": [
          0,
          100,
          200,
          300,
          400,
          500,
          600,
          700,
          800,
          900,
          1000,
          1100,
          1200,
          1300,
          1400,
          1500,
          1600,
          1700,
          1800,
          1900,
          2000,
          2100,
          2200,
          2300,
          2400,
          2500,
          2600,
          2700,
          2800,
          2900,
          3000,
          3100,
          3200,
          3300,
          3400,
          3500,
          3600,
          3700,
          3800,
          3900,
          4000,
          4100,
          4200,
          4300,
          4400,
          4500,
          4600,
          4700,
          4800,
          4900,
          5000,
          5100,
          5200,
          5300,
          5400,
          5500,
          5600,
          5700,
          5800,
          5900,
          6000,
          6100,
          6200,
          6300,
          6400,
          6500,
          6600,
          6700,
          6800,
          6900,
          7000,
          7100,
          7200,
          7300,
          7400,
          7500,
          7600,
          7700,
          7800,
          7900,
          8000,
          8100,
          8200,
          8300,
          8400,
          8500,
          8600,
          8700,
          8800,
          8900,
          9000,
          9100,
          9200,
          9300,
          9400,
          9500,
          9600,
          9700,
          9800,
          9900,
          10000,
          10100,
          10200,
          10300,
          10400,
          10500,
          10600,
          10700,
          10800,
          10900,
          11000,
          11100,
          11200,
          11300,
          11400,
          11500,
          11600,
          11700,
          11800,
          11900,
          12000,
          12100,
          12200,
          12300,
          12400,
          12500,
          12600,
          12700,
          12800,
          12900,
          13000,
          13100,
          13200,
          13300,
          13400,
          13500,
          13600,
          13700,
          13800,
          13900,
          14000,
          14100,
          14200,
          14300,
          14400,
          14500,
          14600,
          14700,
          14800,
          14900,
          15000,
          15100,
          15200,
          15300,
          15400,
          15500,
          15600,
          15700,
          15800,
          15900,
          16000,
          16100,
          16200,
          16300,
          16400,
          16500,
          16600,
          16700,
          16800,
          16900,
          17000,
          17100,
          17200,
          17300,
          17400,
          17500,
          17600,
          17700,
          17800,
          17900,
          18000,
          18100,
          18200,
          18300,
          18400,
          18500,
          18600,
          18700,
          18800,
          18900,
          19000,
          19100,
          19200,
          19300,
          19400,
          19500,
          19600,
          19700,
          19800,
          19900,
          20000,
          20100,
          20200,
          20300,
          20400,
          20500,
          20600,
          20700,
          20800,
          20900,
          21000,
          21100,
          21200,
          21300,
          21400,
          21500,
          21600,
          21700,
          21800,
          21900,
          22000,
          22100,
          22200,
          22300,
          22400,
          22500,
          22600,
          22700,
          22800,
          22900,
          23000,
          23100,
          23200,
          23300,
          23400,
          23500,
          23600,
          23700,
          23800,
          23900,
          24000,
          24100,
          24200,
          24300,
          24400,
          24500,
          24600,
          24700,
          24800,
          24900,
          25000,
          25100,
          25200,
          25300,
          25400,
          25500,
          25600,
          25700,
          25800,
          25900,
          26000,
          26100,
          26200,
          26300,
          26400,
          26500,
          26600,
          26700,
          26800,
          26900,
          27000,
          27100,
          27200,
          27300,
          27400,
          27500,
          27600,
          27700,
          27800,
          27900,
          28000,
          28100,
          28200,
          28300,
          28400,
          28500,
          28600,
          28700,
          28800,
          28900,
          29000,
          29100,
          29200,
          29300,
          29400,
          29500,
          29600,
          29700,
          29800,
          29900,
          30000,
          30100,
          30200,
          30300,
          30400,
          30500,
          30600,
          30700,
          30800,
          30900,
          31000,
          31100,
          31200,
          31300,
          31400,
          31500,
          31600,
          31700,
          31800,
          31900,
          32000,
          32100,
          32200,
          32300,
          32400,
          32500,
          32600,
          32700,
          32800,
          32900,
          33000,
          33100,
          33200,
          33300,
          33400,
          33500,
          33600,
          33700,
          33800,
          33900,
          34000,
          34100,
          34200,
          34300,
          34400,
          34500,
          34600,
          34700,
          34800,
          34900,
          35000,
          35100,
          35200,
          35300,
          35400,
          35500,
          35600,
          35700,
          35800,
          35900,
          36000,
          36100,
          36200,
          36300,
          36400,
          36500,
          36600,
          36700,
          36800,
          36900,
          37000,
          37100,
          37200,
          37300,
          37400,
          37500,
          37600,
          37700,
          37800,
          37900,
          38000,
          38100,
          38200,
          38300,
          38400,
          38500,
          38600,
          38700,
          38800,
          38900,
          39000,
          39100,
          39200,
          39300,
          39400,
          39500,
          39600,
          39700,
          39800,
          39900,
          40000,
          40100,
          40200,
          40300,
          40400,
          40500,
          40600,
          40700,
          40800,
          40900,
          41000,
          41100,
          41200,
          41300,
          41400,
          41500,
          41600,
          41700,
          41800,
          41900,
          42000,
          42100,
          42200,
          42300,
          42400,
          42500,
          42600,
          42700,
          42800,
          42900,
          43000,
          43100,
          43200,
          43300,
          43400,
          43500,
          43600,
          43700,
          43800,
          43900,
          44000,
          44100,
          44200,
          44300,
          44400,
          44500,
          44600,
          44700,
          44800,
          44900,
          45000,
          45100,
          45200,
          45300,
          45400,
          45500,
          45600,
          45700,
          45800,
          45900,
          46000,
          46100,
          46200,
          46300,
          46400,
          46500,
          46600,
          46700,
          46800,
          46900,
          47000,
          47100,
          47200,
          47300,
          47400,
          47500,
          47600,
          47700,
          47800,
          47900,
          48000,
          48100,
          48200,
          48300,
          48400,
          48500,
          48600,
          48700,
          48800,
          48900,
          49000,
          49100,
          49200,
          49300,
          49400,
          49500,
          49600,
          49700,
          49800,
          49900,
          50000
         ],
         "xaxis": "x",
         "y": [
          0.046875,
          0.24375000596046448,
          0.31562501192092896,
          0.3812499940395355,
          0.40937501192092896,
          0.37187501788139343,
          0.34375,
          0.38750001788139343,
          0.38750001788139343,
          0.453125,
          0.41875001788139343,
          0.4781250059604645,
          0.5375000238418579,
          0.4593749940395355,
          0.515625,
          0.5250000357627869,
          0.5843750238418579,
          0.543749988079071,
          0.574999988079071,
          0.5531250238418579,
          0.578125,
          0.590624988079071,
          0.643750011920929,
          0.5843750238418579,
          0.6187500357627869,
          0.6187500357627869,
          0.653124988079071,
          0.6468750238418579,
          0.65625,
          0.640625,
          0.668749988079071,
          0.653124988079071,
          0.675000011920929,
          0.65625,
          0.6312500238418579,
          0.6625000238418579,
          0.6812500357627869,
          0.6656250357627869,
          0.6500000357627869,
          0.659375011920929,
          0.671875,
          0.6500000357627869,
          0.675000011920929,
          0.71875,
          0.715624988079071,
          0.6812500357627869,
          0.7437500357627869,
          0.671875,
          0.765625,
          0.734375,
          0.734375,
          0.734375,
          0.746874988079071,
          0.7562500238418579,
          0.75,
          0.762499988079071,
          0.7250000238418579,
          0.737500011920929,
          0.7718750238418579,
          0.7593750357627869,
          0.762499988079071,
          0.778124988079071,
          0.7718750238418579,
          0.75,
          0.7875000238418579,
          0.7250000238418579,
          0.7750000357627869,
          0.75,
          0.778124988079071,
          0.778124988079071,
          0.7906250357627869,
          0.793749988079071,
          0.78125,
          0.7906250357627869,
          0.784375011920929,
          0.8031250238418579,
          0.765625,
          0.809374988079071,
          0.793749988079071,
          0.8125,
          0.809374988079071,
          0.7906250357627869,
          0.8125,
          0.800000011920929,
          0.78125,
          0.824999988079071,
          0.809374988079071,
          0.7906250357627869,
          0.809374988079071,
          0.840624988079071,
          0.800000011920929,
          0.8031250238418579,
          0.815625011920929,
          0.824999988079071,
          0.809374988079071,
          0.793749988079071,
          0.8375000357627869,
          0.8062500357627869,
          0.7906250357627869,
          0.8218750357627869,
          0.8375000357627869,
          0.815625011920929,
          0.8125,
          0.859375,
          0.824999988079071,
          0.8062500357627869,
          0.809374988079071,
          0.8375000357627869,
          0.8187500238418579,
          0.809374988079071,
          0.824999988079071,
          0.8375000357627869,
          0.846875011920929,
          0.846875011920929,
          0.8187500238418579,
          0.859375,
          0.831250011920929,
          0.862500011920929,
          0.840624988079071,
          0.8531250357627869,
          0.8656250238418579,
          0.8656250238418579,
          0.8656250238418579,
          0.871874988079071,
          0.859375,
          0.871874988079071,
          0.878125011920929,
          0.871874988079071,
          0.856249988079071,
          0.8843750357627869,
          0.862500011920929,
          0.875,
          0.8812500238418579,
          0.8843750357627869,
          0.90625,
          0.871874988079071,
          0.9000000357627869,
          0.909375011920929,
          0.9156250357627869,
          0.90625,
          0.934374988079071,
          0.934374988079071,
          0.909375011920929,
          0.9468750357627869,
          0.921875,
          0.9281250238418579,
          0.934374988079071,
          0.96875,
          0.956250011920929,
          0.9625000357627869,
          0.956250011920929,
          0.953125,
          0.96875,
          0.981249988079071,
          0.934374988079071,
          0.965624988079071,
          0.971875011920929,
          0.9781250357627869,
          0.953125,
          0.971875011920929,
          0.965624988079071,
          0.981249988079071,
          0.9468750357627869,
          0.971875011920929,
          0.9781250357627869,
          0.9750000238418579,
          0.984375,
          0.9593750238418579,
          0.971875011920929,
          0.971875011920929,
          0.9906250238418579,
          0.984375,
          0.9593750238418579,
          0.9750000238418579,
          0.9781250357627869,
          0.971875011920929,
          0.9781250357627869,
          0.9750000238418579,
          0.9906250238418579,
          0.987500011920929,
          0.971875011920929,
          0.987500011920929,
          0.984375,
          0.96875,
          0.981249988079071,
          0.9750000238418579,
          0.971875011920929,
          0.9781250357627869,
          0.987500011920929,
          0.9906250238418579,
          0.971875011920929,
          0.984375,
          0.987500011920929,
          0.996874988079071,
          0.9781250357627869,
          0.987500011920929,
          0.987500011920929,
          0.981249988079071,
          0.9906250238418579,
          0.9781250357627869,
          0.9750000238418579,
          0.987500011920929,
          0.971875011920929,
          0.984375,
          0.9937500357627869,
          0.987500011920929,
          0.984375,
          0.9781250357627869,
          0.984375,
          0.9906250238418579,
          0.9906250238418579,
          0.984375,
          0.9781250357627869,
          0.987500011920929,
          0.987500011920929,
          0.981249988079071,
          0.9781250357627869,
          0.981249988079071,
          0.9937500357627869,
          0.987500011920929,
          0.9937500357627869,
          0.9937500357627869,
          0.9906250238418579,
          0.984375,
          0.987500011920929,
          0.984375,
          0.984375,
          0.981249988079071,
          0.9906250238418579,
          1,
          0.984375,
          0.9906250238418579,
          0.996874988079071,
          0.996874988079071,
          0.9906250238418579,
          0.987500011920929,
          0.984375,
          0.9781250357627869,
          0.965624988079071,
          0.9937500357627869,
          1,
          0.9937500357627869,
          0.9781250357627869,
          0.987500011920929,
          1,
          0.9906250238418579,
          0.9906250238418579,
          0.984375,
          0.9937500357627869,
          0.9906250238418579,
          0.981249988079071,
          0.987500011920929,
          0.996874988079071,
          0.9906250238418579,
          0.9906250238418579,
          1,
          0.9906250238418579,
          0.984375,
          0.9906250238418579,
          0.9937500357627869,
          0.9906250238418579,
          0.9906250238418579,
          0.9906250238418579,
          0.9937500357627869,
          1,
          0.9937500357627869,
          0.9906250238418579,
          0.9937500357627869,
          0.9906250238418579,
          0.9937500357627869,
          0.987500011920929,
          1,
          0.9937500357627869,
          0.996874988079071,
          1,
          0.996874988079071,
          0.9906250238418579,
          0.996874988079071,
          0.9937500357627869,
          0.996874988079071,
          1,
          0.9937500357627869,
          0.981249988079071,
          0.9906250238418579,
          0.987500011920929,
          0.9937500357627869,
          0.9906250238418579,
          0.984375,
          1,
          0.9937500357627869,
          0.9937500357627869,
          1,
          1,
          0.9937500357627869,
          1,
          0.9906250238418579,
          1,
          0.9937500357627869,
          0.996874988079071,
          0.996874988079071,
          0.996874988079071,
          0.9937500357627869,
          0.987500011920929,
          1,
          0.9906250238418579,
          0.9937500357627869,
          0.996874988079071,
          0.9906250238418579,
          1,
          0.9906250238418579,
          0.9906250238418579,
          0.996874988079071,
          0.996874988079071,
          0.9906250238418579,
          0.996874988079071,
          0.996874988079071,
          0.987500011920929,
          0.9906250238418579,
          0.996874988079071,
          0.996874988079071,
          0.9906250238418579,
          0.987500011920929,
          0.996874988079071,
          1,
          0.9906250238418579,
          1,
          1,
          1,
          0.996874988079071,
          0.996874988079071,
          0.9906250238418579,
          1,
          0.984375,
          0.996874988079071,
          1,
          0.9906250238418579,
          0.987500011920929,
          1,
          0.9937500357627869,
          0.984375,
          0.9937500357627869,
          0.9937500357627869,
          0.996874988079071,
          1,
          0.996874988079071,
          1,
          0.996874988079071,
          0.996874988079071,
          0.9906250238418579,
          1,
          0.996874988079071,
          0.9937500357627869,
          0.996874988079071,
          0.996874988079071,
          0.996874988079071,
          0.996874988079071,
          0.9906250238418579,
          1,
          0.984375,
          1,
          0.9937500357627869,
          1,
          0.9906250238418579,
          1,
          1,
          0.996874988079071,
          0.9906250238418579,
          0.996874988079071,
          1,
          0.996874988079071,
          0.9937500357627869,
          0.984375,
          1,
          0.9937500357627869,
          0.996874988079071,
          0.996874988079071,
          0.984375,
          0.9906250238418579,
          0.987500011920929,
          1,
          1,
          0.996874988079071,
          0.9937500357627869,
          0.987500011920929,
          1,
          1,
          1,
          1,
          0.996874988079071,
          0.9906250238418579,
          0.9750000238418579,
          1,
          0.996874988079071,
          1,
          0.9937500357627869,
          0.987500011920929,
          0.9937500357627869,
          0.9937500357627869,
          0.9906250238418579,
          0.9937500357627869,
          1,
          1,
          1,
          0.9937500357627869,
          0.996874988079071,
          1,
          1,
          0.9937500357627869,
          1,
          0.996874988079071,
          0.996874988079071,
          0.996874988079071,
          0.984375,
          0.9937500357627869,
          0.996874988079071,
          0.996874988079071,
          0.981249988079071,
          1,
          0.996874988079071,
          0.9937500357627869,
          0.9906250238418579,
          1,
          0.996874988079071,
          0.9750000238418579,
          0.9906250238418579,
          0.996874988079071,
          0.9937500357627869,
          0.996874988079071,
          0.996874988079071,
          0.9906250238418579,
          0.987500011920929,
          1,
          0.9937500357627869,
          1,
          0.996874988079071,
          0.9937500357627869,
          0.984375,
          0.996874988079071,
          1,
          1,
          0.9937500357627869,
          0.996874988079071,
          0.9937500357627869,
          0.996874988079071,
          0.984375,
          0.9937500357627869,
          0.996874988079071,
          0.9937500357627869,
          0.996874988079071,
          0.9937500357627869,
          0.996874988079071,
          1,
          1,
          0.996874988079071,
          1,
          1,
          1,
          1,
          0.9937500357627869,
          0.9781250357627869,
          1,
          0.996874988079071,
          0.996874988079071,
          0.996874988079071,
          0.996874988079071,
          0.996874988079071,
          0.996874988079071,
          1,
          0.996874988079071,
          0.996874988079071,
          0.9906250238418579,
          0.984375,
          1,
          0.996874988079071,
          1,
          0.9937500357627869,
          0.9937500357627869,
          1,
          1,
          1,
          0.996874988079071,
          0.996874988079071,
          1,
          1,
          0.996874988079071,
          0.996874988079071,
          0.996874988079071,
          0.9937500357627869,
          0.996874988079071,
          0.9906250238418579,
          0.996874988079071,
          0.996874988079071,
          1,
          0.996874988079071,
          1,
          0.996874988079071,
          1,
          0.996874988079071,
          1,
          0.9906250238418579,
          0.9937500357627869
         ],
         "yaxis": "y"
        }
       ],
       "layout": {
        "legend": {
         "tracegroupgap": 0
        },
        "template": {
         "data": {
          "bar": [
           {
            "error_x": {
             "color": "#2a3f5f"
            },
            "error_y": {
             "color": "#2a3f5f"
            },
            "marker": {
             "line": {
              "color": "#E5ECF6",
              "width": 0.5
             },
             "pattern": {
              "fillmode": "overlay",
              "size": 10,
              "solidity": 0.2
             }
            },
            "type": "bar"
           }
          ],
          "barpolar": [
           {
            "marker": {
             "line": {
              "color": "#E5ECF6",
              "width": 0.5
             },
             "pattern": {
              "fillmode": "overlay",
              "size": 10,
              "solidity": 0.2
             }
            },
            "type": "barpolar"
           }
          ],
          "carpet": [
           {
            "aaxis": {
             "endlinecolor": "#2a3f5f",
             "gridcolor": "white",
             "linecolor": "white",
             "minorgridcolor": "white",
             "startlinecolor": "#2a3f5f"
            },
            "baxis": {
             "endlinecolor": "#2a3f5f",
             "gridcolor": "white",
             "linecolor": "white",
             "minorgridcolor": "white",
             "startlinecolor": "#2a3f5f"
            },
            "type": "carpet"
           }
          ],
          "choropleth": [
           {
            "colorbar": {
             "outlinewidth": 0,
             "ticks": ""
            },
            "type": "choropleth"
           }
          ],
          "contour": [
           {
            "colorbar": {
             "outlinewidth": 0,
             "ticks": ""
            },
            "colorscale": [
             [
              0,
              "#0d0887"
             ],
             [
              0.1111111111111111,
              "#46039f"
             ],
             [
              0.2222222222222222,
              "#7201a8"
             ],
             [
              0.3333333333333333,
              "#9c179e"
             ],
             [
              0.4444444444444444,
              "#bd3786"
             ],
             [
              0.5555555555555556,
              "#d8576b"
             ],
             [
              0.6666666666666666,
              "#ed7953"
             ],
             [
              0.7777777777777778,
              "#fb9f3a"
             ],
             [
              0.8888888888888888,
              "#fdca26"
             ],
             [
              1,
              "#f0f921"
             ]
            ],
            "type": "contour"
           }
          ],
          "contourcarpet": [
           {
            "colorbar": {
             "outlinewidth": 0,
             "ticks": ""
            },
            "type": "contourcarpet"
           }
          ],
          "heatmap": [
           {
            "colorbar": {
             "outlinewidth": 0,
             "ticks": ""
            },
            "colorscale": [
             [
              0,
              "#0d0887"
             ],
             [
              0.1111111111111111,
              "#46039f"
             ],
             [
              0.2222222222222222,
              "#7201a8"
             ],
             [
              0.3333333333333333,
              "#9c179e"
             ],
             [
              0.4444444444444444,
              "#bd3786"
             ],
             [
              0.5555555555555556,
              "#d8576b"
             ],
             [
              0.6666666666666666,
              "#ed7953"
             ],
             [
              0.7777777777777778,
              "#fb9f3a"
             ],
             [
              0.8888888888888888,
              "#fdca26"
             ],
             [
              1,
              "#f0f921"
             ]
            ],
            "type": "heatmap"
           }
          ],
          "heatmapgl": [
           {
            "colorbar": {
             "outlinewidth": 0,
             "ticks": ""
            },
            "colorscale": [
             [
              0,
              "#0d0887"
             ],
             [
              0.1111111111111111,
              "#46039f"
             ],
             [
              0.2222222222222222,
              "#7201a8"
             ],
             [
              0.3333333333333333,
              "#9c179e"
             ],
             [
              0.4444444444444444,
              "#bd3786"
             ],
             [
              0.5555555555555556,
              "#d8576b"
             ],
             [
              0.6666666666666666,
              "#ed7953"
             ],
             [
              0.7777777777777778,
              "#fb9f3a"
             ],
             [
              0.8888888888888888,
              "#fdca26"
             ],
             [
              1,
              "#f0f921"
             ]
            ],
            "type": "heatmapgl"
           }
          ],
          "histogram": [
           {
            "marker": {
             "pattern": {
              "fillmode": "overlay",
              "size": 10,
              "solidity": 0.2
             }
            },
            "type": "histogram"
           }
          ],
          "histogram2d": [
           {
            "colorbar": {
             "outlinewidth": 0,
             "ticks": ""
            },
            "colorscale": [
             [
              0,
              "#0d0887"
             ],
             [
              0.1111111111111111,
              "#46039f"
             ],
             [
              0.2222222222222222,
              "#7201a8"
             ],
             [
              0.3333333333333333,
              "#9c179e"
             ],
             [
              0.4444444444444444,
              "#bd3786"
             ],
             [
              0.5555555555555556,
              "#d8576b"
             ],
             [
              0.6666666666666666,
              "#ed7953"
             ],
             [
              0.7777777777777778,
              "#fb9f3a"
             ],
             [
              0.8888888888888888,
              "#fdca26"
             ],
             [
              1,
              "#f0f921"
             ]
            ],
            "type": "histogram2d"
           }
          ],
          "histogram2dcontour": [
           {
            "colorbar": {
             "outlinewidth": 0,
             "ticks": ""
            },
            "colorscale": [
             [
              0,
              "#0d0887"
             ],
             [
              0.1111111111111111,
              "#46039f"
             ],
             [
              0.2222222222222222,
              "#7201a8"
             ],
             [
              0.3333333333333333,
              "#9c179e"
             ],
             [
              0.4444444444444444,
              "#bd3786"
             ],
             [
              0.5555555555555556,
              "#d8576b"
             ],
             [
              0.6666666666666666,
              "#ed7953"
             ],
             [
              0.7777777777777778,
              "#fb9f3a"
             ],
             [
              0.8888888888888888,
              "#fdca26"
             ],
             [
              1,
              "#f0f921"
             ]
            ],
            "type": "histogram2dcontour"
           }
          ],
          "mesh3d": [
           {
            "colorbar": {
             "outlinewidth": 0,
             "ticks": ""
            },
            "type": "mesh3d"
           }
          ],
          "parcoords": [
           {
            "line": {
             "colorbar": {
              "outlinewidth": 0,
              "ticks": ""
             }
            },
            "type": "parcoords"
           }
          ],
          "pie": [
           {
            "automargin": true,
            "type": "pie"
           }
          ],
          "scatter": [
           {
            "fillpattern": {
             "fillmode": "overlay",
             "size": 10,
             "solidity": 0.2
            },
            "type": "scatter"
           }
          ],
          "scatter3d": [
           {
            "line": {
             "colorbar": {
              "outlinewidth": 0,
              "ticks": ""
             }
            },
            "marker": {
             "colorbar": {
              "outlinewidth": 0,
              "ticks": ""
             }
            },
            "type": "scatter3d"
           }
          ],
          "scattercarpet": [
           {
            "marker": {
             "colorbar": {
              "outlinewidth": 0,
              "ticks": ""
             }
            },
            "type": "scattercarpet"
           }
          ],
          "scattergeo": [
           {
            "marker": {
             "colorbar": {
              "outlinewidth": 0,
              "ticks": ""
             }
            },
            "type": "scattergeo"
           }
          ],
          "scattergl": [
           {
            "marker": {
             "colorbar": {
              "outlinewidth": 0,
              "ticks": ""
             }
            },
            "type": "scattergl"
           }
          ],
          "scattermapbox": [
           {
            "marker": {
             "colorbar": {
              "outlinewidth": 0,
              "ticks": ""
             }
            },
            "type": "scattermapbox"
           }
          ],
          "scatterpolar": [
           {
            "marker": {
             "colorbar": {
              "outlinewidth": 0,
              "ticks": ""
             }
            },
            "type": "scatterpolar"
           }
          ],
          "scatterpolargl": [
           {
            "marker": {
             "colorbar": {
              "outlinewidth": 0,
              "ticks": ""
             }
            },
            "type": "scatterpolargl"
           }
          ],
          "scatterternary": [
           {
            "marker": {
             "colorbar": {
              "outlinewidth": 0,
              "ticks": ""
             }
            },
            "type": "scatterternary"
           }
          ],
          "surface": [
           {
            "colorbar": {
             "outlinewidth": 0,
             "ticks": ""
            },
            "colorscale": [
             [
              0,
              "#0d0887"
             ],
             [
              0.1111111111111111,
              "#46039f"
             ],
             [
              0.2222222222222222,
              "#7201a8"
             ],
             [
              0.3333333333333333,
              "#9c179e"
             ],
             [
              0.4444444444444444,
              "#bd3786"
             ],
             [
              0.5555555555555556,
              "#d8576b"
             ],
             [
              0.6666666666666666,
              "#ed7953"
             ],
             [
              0.7777777777777778,
              "#fb9f3a"
             ],
             [
              0.8888888888888888,
              "#fdca26"
             ],
             [
              1,
              "#f0f921"
             ]
            ],
            "type": "surface"
           }
          ],
          "table": [
           {
            "cells": {
             "fill": {
              "color": "#EBF0F8"
             },
             "line": {
              "color": "white"
             }
            },
            "header": {
             "fill": {
              "color": "#C8D4E3"
             },
             "line": {
              "color": "white"
             }
            },
            "type": "table"
           }
          ]
         },
         "layout": {
          "annotationdefaults": {
           "arrowcolor": "#2a3f5f",
           "arrowhead": 0,
           "arrowwidth": 1
          },
          "autotypenumbers": "strict",
          "coloraxis": {
           "colorbar": {
            "outlinewidth": 0,
            "ticks": ""
           }
          },
          "colorscale": {
           "diverging": [
            [
             0,
             "#8e0152"
            ],
            [
             0.1,
             "#c51b7d"
            ],
            [
             0.2,
             "#de77ae"
            ],
            [
             0.3,
             "#f1b6da"
            ],
            [
             0.4,
             "#fde0ef"
            ],
            [
             0.5,
             "#f7f7f7"
            ],
            [
             0.6,
             "#e6f5d0"
            ],
            [
             0.7,
             "#b8e186"
            ],
            [
             0.8,
             "#7fbc41"
            ],
            [
             0.9,
             "#4d9221"
            ],
            [
             1,
             "#276419"
            ]
           ],
           "sequential": [
            [
             0,
             "#0d0887"
            ],
            [
             0.1111111111111111,
             "#46039f"
            ],
            [
             0.2222222222222222,
             "#7201a8"
            ],
            [
             0.3333333333333333,
             "#9c179e"
            ],
            [
             0.4444444444444444,
             "#bd3786"
            ],
            [
             0.5555555555555556,
             "#d8576b"
            ],
            [
             0.6666666666666666,
             "#ed7953"
            ],
            [
             0.7777777777777778,
             "#fb9f3a"
            ],
            [
             0.8888888888888888,
             "#fdca26"
            ],
            [
             1,
             "#f0f921"
            ]
           ],
           "sequentialminus": [
            [
             0,
             "#0d0887"
            ],
            [
             0.1111111111111111,
             "#46039f"
            ],
            [
             0.2222222222222222,
             "#7201a8"
            ],
            [
             0.3333333333333333,
             "#9c179e"
            ],
            [
             0.4444444444444444,
             "#bd3786"
            ],
            [
             0.5555555555555556,
             "#d8576b"
            ],
            [
             0.6666666666666666,
             "#ed7953"
            ],
            [
             0.7777777777777778,
             "#fb9f3a"
            ],
            [
             0.8888888888888888,
             "#fdca26"
            ],
            [
             1,
             "#f0f921"
            ]
           ]
          },
          "colorway": [
           "#636efa",
           "#EF553B",
           "#00cc96",
           "#ab63fa",
           "#FFA15A",
           "#19d3f3",
           "#FF6692",
           "#B6E880",
           "#FF97FF",
           "#FECB52"
          ],
          "font": {
           "color": "#2a3f5f"
          },
          "geo": {
           "bgcolor": "white",
           "lakecolor": "white",
           "landcolor": "#E5ECF6",
           "showlakes": true,
           "showland": true,
           "subunitcolor": "white"
          },
          "hoverlabel": {
           "align": "left"
          },
          "hovermode": "closest",
          "mapbox": {
           "style": "light"
          },
          "paper_bgcolor": "white",
          "plot_bgcolor": "#E5ECF6",
          "polar": {
           "angularaxis": {
            "gridcolor": "white",
            "linecolor": "white",
            "ticks": ""
           },
           "bgcolor": "#E5ECF6",
           "radialaxis": {
            "gridcolor": "white",
            "linecolor": "white",
            "ticks": ""
           }
          },
          "scene": {
           "xaxis": {
            "backgroundcolor": "#E5ECF6",
            "gridcolor": "white",
            "gridwidth": 2,
            "linecolor": "white",
            "showbackground": true,
            "ticks": "",
            "zerolinecolor": "white"
           },
           "yaxis": {
            "backgroundcolor": "#E5ECF6",
            "gridcolor": "white",
            "gridwidth": 2,
            "linecolor": "white",
            "showbackground": true,
            "ticks": "",
            "zerolinecolor": "white"
           },
           "zaxis": {
            "backgroundcolor": "#E5ECF6",
            "gridcolor": "white",
            "gridwidth": 2,
            "linecolor": "white",
            "showbackground": true,
            "ticks": "",
            "zerolinecolor": "white"
           }
          },
          "shapedefaults": {
           "line": {
            "color": "#2a3f5f"
           }
          },
          "ternary": {
           "aaxis": {
            "gridcolor": "white",
            "linecolor": "white",
            "ticks": ""
           },
           "baxis": {
            "gridcolor": "white",
            "linecolor": "white",
            "ticks": ""
           },
           "bgcolor": "#E5ECF6",
           "caxis": {
            "gridcolor": "white",
            "linecolor": "white",
            "ticks": ""
           }
          },
          "title": {
           "x": 0.05
          },
          "xaxis": {
           "automargin": true,
           "gridcolor": "white",
           "linecolor": "white",
           "ticks": "",
           "title": {
            "standoff": 15
           },
           "zerolinecolor": "white",
           "zerolinewidth": 2
          },
          "yaxis": {
           "automargin": true,
           "gridcolor": "white",
           "linecolor": "white",
           "ticks": "",
           "title": {
            "standoff": 15
           },
           "zerolinecolor": "white",
           "zerolinewidth": 2
          }
         }
        },
        "title": {
         "text": "Accuracy"
        },
        "xaxis": {
         "anchor": "y",
         "domain": [
          0,
          1
         ],
         "title": {
          "text": "Epoch"
         }
        },
        "yaxis": {
         "anchor": "x",
         "domain": [
          0,
          1
         ],
         "title": {
          "text": "Accuracy"
         }
        }
       }
      }
     },
     "metadata": {},
     "output_type": "display_data"
    }
   ],
   "source": [
    "losses = []\n",
    "accuracies = []\n",
    "epochs = []\n",
    "for epoch in tqdm.tqdm(range(num_epochs)):\n",
    "    tokens = next(data_gen).to(device)\n",
    "    logits = sorting_model(tokens, return_type='logits')\n",
    "    loss = sorting_loss(logits, tokens)\n",
    "    loss.backward()\n",
    "    sorting_optimizer.step()\n",
    "    sorting_optimizer.zero_grad()\n",
    "    if epoch%100 == 0:\n",
    "        accuracy = sorting_acc(logits, tokens)\n",
    "        print(f\"Epoch: {epoch}. Loss: {loss:.4f}. Accuracy: {accuracy:.2%}\")\n",
    "        losses.append(loss.detach().cpu().numpy())\n",
    "        accuracies.append(accuracy.detach().cpu().numpy())\n",
    "        epochs.append(epoch)\n",
    "px.line(x=epochs, y=losses, title=\"Loss\", labels={'x':'Epoch', 'y':'Loss'}).show()\n",
    "px.line(x=epochs, y=accuracies, title=\"Accuracy\", labels={'x':'Epoch', 'y':'Accuracy'}).show()"
   ]
  },
  {
   "cell_type": "markdown",
   "metadata": {},
   "source": [
    "Sample output:"
   ]
  },
  {
   "cell_type": "code",
   "execution_count": null,
   "metadata": {},
   "outputs": [
    {
     "data": {
      "application/vnd.jupyter.widget-view+json": {
       "model_id": "703f6614e7264cdb95725d1d3f7f1723",
       "version_major": 2,
       "version_minor": 0
      },
      "text/plain": [
       "VBox(children=(Dropdown(description='Number:', options=(0, 1, 2, 3, 4, 5, 6, 7, 8, 9, 10, 11, 12, 13, 14, 15),…"
      ]
     },
     "metadata": {},
     "output_type": "display_data"
    }
   ],
   "source": [
    "dropdown = wg.Dropdown(\n",
    "    options=list(range(batch_size)),\n",
    "    value=0,\n",
    "    description='Number:',\n",
    "    disabled=False,\n",
    ")\n",
    "\n",
    "seq_len = (sorting_model.cfg.n_ctx - 2)//2\n",
    "example_logits = sorting_model((example_tokens))\n",
    "\n",
    "index = 0\n",
    "predicted_token = example_logits.argmax(-1)[index, seq_len+1:-1].detach().cpu().numpy()\n",
    "actual_token = example_tokens[index, seq_len+2:].detach().cpu().numpy()\n",
    "\n",
    "fig = px.line(x=np.arange(seq_len), y=[predicted_token, actual_token], title=\"Predicted vs Actual Next Token\", labels={'x':'Token Position', 'wide_variable_0':'Predicted Token Index', 'wide_variable_1':\"True Next Token Index\", \"value\":\"Token Value\"})\n",
    "fig = go.FigureWidget(fig)\n",
    "\n",
    "# Choose one entry in the batch of 16 example sequences, and take the predicted and actual next tokens in the sorted sequence\n",
    "def update_fig(change):\n",
    "    if change['type'] == 'change' and change['name'] == 'value':\n",
    "        index = change['new']\n",
    "        predicted_token = example_logits.argmax(-1)[index, seq_len+1:-1].detach().cpu().numpy()\n",
    "        actual_token = example_tokens[index, seq_len+2:].detach().cpu().numpy()\n",
    "        # Plot them\n",
    "        fig.data[0].y = predicted_token\n",
    "        fig.data[1].y = actual_token\n",
    "dropdown.observe(update_fig)\n",
    "display(wg.VBox([dropdown,\n",
    "                 fig]))"
   ]
  },
  {
   "cell_type": "code",
   "execution_count": null,
   "metadata": {},
   "outputs": [],
   "source": [
    "W_E = sorting_model.embed.W_E\n",
    "W_pos = sorting_model.pos_embed.W_pos\n",
    "W_E_pos = torch.concat([W_E, W_pos], dim=1)\n",
    "W_U = sorting_model.unembed.W_U\n",
    "W_K = sorting_model.blocks[0].attn.W_K[0]\n",
    "W_Q = sorting_model.blocks[0].attn.W_Q[0]\n",
    "W_V = sorting_model.blocks[0].attn.W_V[0]\n",
    "W_O = sorting_model.blocks[0].attn.W_O[0]\n",
    "\n",
    "QK_circuit = W_E_pos.T @ W_Q.T @ W_K @ W_E_pos\n",
    "OV_circuit = W_U @ W_O @ W_V @ W_E_pos\n",
    "\n",
    "vocab_labels = [f\"tok {i}\" for i in range(sorting_cfg.d_vocab-2)]+[\"START\"]+[\"STOP\"]\n",
    "pos_labels = [\"pos START\"]+[f\"pos in {j}\" for j in range(seq_len)] + [\"pos STOP\"] + [f\"pos out {j}\" for j in range(seq_len)]\n"
   ]
  },
  {
   "cell_type": "code",
   "execution_count": null,
   "metadata": {},
   "outputs": [
    {
     "data": {
      "application/vnd.plotly.v1+json": {
       "config": {
        "plotlyServerURL": "https://plot.ly"
       },
       "data": [
        {
         "coloraxis": "coloraxis",
         "hovertemplate": "Key: %{x}<br>Query: %{y}<br>color: %{z}<extra></extra>",
         "name": "0",
         "type": "heatmap",
         "x": [
          "tok 0",
          "tok 1",
          "tok 2",
          "tok 3",
          "tok 4",
          "tok 5",
          "tok 6",
          "tok 7",
          "tok 8",
          "tok 9",
          "tok 10",
          "tok 11",
          "tok 12",
          "tok 13",
          "tok 14",
          "tok 15",
          "tok 16",
          "tok 17",
          "tok 18",
          "tok 19",
          "tok 20",
          "tok 21",
          "tok 22",
          "tok 23",
          "tok 24",
          "tok 25",
          "tok 26",
          "tok 27",
          "tok 28",
          "tok 29",
          "START",
          "STOP",
          "pos START",
          "pos in 0",
          "pos in 1",
          "pos in 2",
          "pos in 3",
          "pos in 4",
          "pos in 5",
          "pos in 6",
          "pos in 7",
          "pos in 8",
          "pos in 9",
          "pos in 10",
          "pos in 11",
          "pos in 12",
          "pos in 13",
          "pos in 14",
          "pos in 15",
          "pos in 16",
          "pos in 17",
          "pos in 18",
          "pos in 19",
          "pos STOP",
          "pos out 0",
          "pos out 1",
          "pos out 2",
          "pos out 3",
          "pos out 4",
          "pos out 5",
          "pos out 6",
          "pos out 7",
          "pos out 8",
          "pos out 9",
          "pos out 10",
          "pos out 11",
          "pos out 12",
          "pos out 13",
          "pos out 14",
          "pos out 15",
          "pos out 16",
          "pos out 17",
          "pos out 18",
          "pos out 19"
         ],
         "xaxis": "x",
         "y": [
          "tok 0",
          "tok 1",
          "tok 2",
          "tok 3",
          "tok 4",
          "tok 5",
          "tok 6",
          "tok 7",
          "tok 8",
          "tok 9",
          "tok 10",
          "tok 11",
          "tok 12",
          "tok 13",
          "tok 14",
          "tok 15",
          "tok 16",
          "tok 17",
          "tok 18",
          "tok 19",
          "tok 20",
          "tok 21",
          "tok 22",
          "tok 23",
          "tok 24",
          "tok 25",
          "tok 26",
          "tok 27",
          "tok 28",
          "tok 29",
          "START",
          "STOP",
          "pos START",
          "pos in 0",
          "pos in 1",
          "pos in 2",
          "pos in 3",
          "pos in 4",
          "pos in 5",
          "pos in 6",
          "pos in 7",
          "pos in 8",
          "pos in 9",
          "pos in 10",
          "pos in 11",
          "pos in 12",
          "pos in 13",
          "pos in 14",
          "pos in 15",
          "pos in 16",
          "pos in 17",
          "pos in 18",
          "pos in 19",
          "pos STOP",
          "pos out 0",
          "pos out 1",
          "pos out 2",
          "pos out 3",
          "pos out 4",
          "pos out 5",
          "pos out 6",
          "pos out 7",
          "pos out 8",
          "pos out 9",
          "pos out 10",
          "pos out 11",
          "pos out 12",
          "pos out 13",
          "pos out 14",
          "pos out 15",
          "pos out 16",
          "pos out 17",
          "pos out 18",
          "pos out 19"
         ],
         "yaxis": "y",
         "z": [
          [
           10.204852104187012,
           10.183616638183594,
           9.376935005187988,
           9.670339584350586,
           8.213399887084961,
           8.530082702636719,
           3.500486135482788,
           1.6236658096313477,
           -1.4747021198272705,
           -2.189182996749878,
           -6.244439125061035,
           -5.520720958709717,
           -10.527732849121094,
           -12.020764350891113,
           -15.311914443969727,
           -11.757085800170898,
           -12.424577713012695,
           -11.916479110717773,
           -9.183658599853516,
           -12.755526542663574,
           -8.381086349487305,
           -8.515101432800293,
           -2.0668139457702637,
           -5.298591613769531,
           -5.750626564025879,
           -8.106454849243164,
           -11.530435562133789,
           -8.020171165466309,
           -3.7773725986480713,
           -6.274873733520508,
           9.728839874267578,
           0.7384047508239746,
           7.751845359802246,
           4.946041107177734,
           5.1103692054748535,
           4.935563087463379,
           5.031149387359619,
           5.203974723815918,
           4.961949825286865,
           5.157480716705322,
           4.927995204925537,
           5.198965549468994,
           4.841305732727051,
           5.00186824798584,
           4.888959884643555,
           5.135639190673828,
           5.0651092529296875,
           4.987303256988525,
           5.097865104675293,
           4.980669021606445,
           5.073343276977539,
           4.969532012939453,
           4.944643497467041,
           -1.2463572025299072,
           -8.98577880859375,
           -6.206281661987305,
           -5.341080188751221,
           -5.280129432678223,
           -4.045040607452393,
           -3.577848434448242,
           -3.1746997833251953,
           -2.603161573410034,
           -1.5910303592681885,
           -0.681858479976654,
           0.29637575149536133,
           0.4565454125404358,
           0.5127221941947937,
           -0.5277896523475647,
           -0.9710204601287842,
           -1.2214627265930176,
           -1.2911759614944458,
           -1.445902705192566,
           -0.2440323829650879,
           0.056936413049697876
          ],
          [
           9.438098907470703,
           9.113600730895996,
           9.451793670654297,
           10.242615699768066,
           8.324009895324707,
           9.371466636657715,
           7.7073869705200195,
           4.989189147949219,
           1.6889381408691406,
           0.6680341362953186,
           -3.4563252925872803,
           -5.008249759674072,
           -10.712661743164062,
           -12.396135330200195,
           -16.195138931274414,
           -13.641246795654297,
           -12.78115463256836,
           -13.47024917602539,
           -12.429614067077637,
           -13.405275344848633,
           -8.437187194824219,
           -9.585816383361816,
           -5.162329196929932,
           -6.835821151733398,
           -8.491950035095215,
           -10.430912971496582,
           -12.693181991577148,
           -6.7347211837768555,
           -4.539228916168213,
           -5.839664936065674,
           9.147502899169922,
           -0.02891087532043457,
           7.620113372802734,
           4.849123954772949,
           5.0292205810546875,
           4.89133358001709,
           5.005580425262451,
           5.120912551879883,
           4.870152950286865,
           5.130648612976074,
           4.849353313446045,
           5.141002655029297,
           4.8228278160095215,
           4.951430320739746,
           4.810303688049316,
           5.0165534019470215,
           5.052785396575928,
           4.924557685852051,
           4.941622734069824,
           4.921311378479004,
           4.978231430053711,
           4.880001544952393,
           4.871457099914551,
           -1.7407479286193848,
           -8.119512557983398,
           -5.773726463317871,
           -4.609757900238037,
           -4.691983222961426,
           -3.4392356872558594,
           -2.9896764755249023,
           -2.634552478790283,
           -2.158240795135498,
           -1.3287659883499146,
           -0.5321677327156067,
           0.4158939719200134,
           0.5362348556518555,
           0.6166566014289856,
           -0.37067854404449463,
           -0.7642442584037781,
           -0.7328334450721741,
           -0.6457446217536926,
           -0.5506845712661743,
           0.9913458824157715,
           -0.20467418432235718
          ],
          [
           8.39426040649414,
           7.99784517288208,
           7.664984226226807,
           9.17984390258789,
           7.7412824630737305,
           8.735770225524902,
           8.38642692565918,
           5.938876152038574,
           5.0015082359313965,
           4.8581037521362305,
           1.2087215185165405,
           -2.700113296508789,
           -10.315423965454102,
           -12.849790573120117,
           -14.216659545898438,
           -11.86790943145752,
           -12.235265731811523,
           -12.839849472045898,
           -12.973512649536133,
           -13.249406814575195,
           -9.360159873962402,
           -10.031259536743164,
           -6.586740970611572,
           -7.0257720947265625,
           -9.301244735717773,
           -11.30219841003418,
           -14.827215194702148,
           -4.901549339294434,
           -7.639474868774414,
           -8.26307201385498,
           8.488245010375977,
           -2.737898111343384,
           6.81638765335083,
           4.464911937713623,
           4.562137603759766,
           4.524606704711914,
           4.590202808380127,
           4.667604446411133,
           4.525030136108398,
           4.69773006439209,
           4.429379940032959,
           4.751595973968506,
           4.439422130584717,
           4.495075702667236,
           4.432363033294678,
           4.580410003662109,
           4.618344783782959,
           4.534255027770996,
           4.518523693084717,
           4.597785949707031,
           4.547275543212891,
           4.3686933517456055,
           4.386003494262695,
           -3.2414417266845703,
           -7.000222206115723,
           -4.649425506591797,
           -3.5082039833068848,
           -3.5317158699035645,
           -2.63565731048584,
           -2.3434314727783203,
           -2.01080322265625,
           -1.5766682624816895,
           -0.9724384546279907,
           -0.24210643768310547,
           0.49065905809402466,
           0.8095026016235352,
           0.8828955888748169,
           0.11571496725082397,
           -0.011912792921066284,
           0.11780637502670288,
           0.4079969525337219,
           0.6011586785316467,
           2.460752010345459,
           -0.4741488993167877
          ],
          [
           8.295257568359375,
           7.909164905548096,
           7.432249069213867,
           7.946985244750977,
           8.080476760864258,
           8.968660354614258,
           9.564102172851562,
           7.475893020629883,
           6.1172895431518555,
           5.26847505569458,
           2.535184383392334,
           -0.45609498023986816,
           -8.279808044433594,
           -11.821887016296387,
           -13.304008483886719,
           -11.526904106140137,
           -13.573368072509766,
           -14.42813777923584,
           -14.957130432128906,
           -14.547880172729492,
           -11.138117790222168,
           -11.713743209838867,
           -9.171035766601562,
           -8.839486122131348,
           -9.660064697265625,
           -11.20788288116455,
           -14.761040687561035,
           -5.467683792114258,
           -7.465651035308838,
           -7.36309814453125,
           8.35382080078125,
           -1.919325351715088,
           6.768141269683838,
           4.375447750091553,
           4.508261680603027,
           4.484554290771484,
           4.518144607543945,
           4.588309288024902,
           4.4633355140686035,
           4.612433433532715,
           4.3259782791137695,
           4.672011375427246,
           4.3987836837768555,
           4.400576591491699,
           4.394506454467773,
           4.4681715965271,
           4.548692226409912,
           4.483942031860352,
           4.432490825653076,
           4.49595832824707,
           4.490649223327637,
           4.362315654754639,
           4.346090793609619,
           -2.094515800476074,
           -6.683645725250244,
           -4.21436882019043,
           -3.350088119506836,
           -3.242903709411621,
           -2.35752534866333,
           -2.058274030685425,
           -1.7533488273620605,
           -1.2917358875274658,
           -0.7395948171615601,
           -0.1427215337753296,
           0.5495521426200867,
           0.8132263422012329,
           0.8557420969009399,
           0.05534529685974121,
           -0.2118968367576599,
           -0.06278139352798462,
           -0.005620896816253662,
           0.1133127212524414,
           1.9793243408203125,
           -0.8245823383331299
          ],
          [
           7.749831676483154,
           7.268773555755615,
           6.656022071838379,
           7.134693145751953,
           6.310738563537598,
           9.161067962646484,
           9.699050903320312,
           8.324004173278809,
           8.097963333129883,
           7.956248760223389,
           5.300716400146484,
           0.39682531356811523,
           -6.815421104431152,
           -11.304821014404297,
           -12.391740798950195,
           -10.328315734863281,
           -12.128286361694336,
           -11.559823989868164,
           -13.810962677001953,
           -14.2828369140625,
           -10.395870208740234,
           -12.0234375,
           -10.606730461120605,
           -10.461149215698242,
           -12.060396194458008,
           -12.09805679321289,
           -16.18754005432129,
           -4.626767158508301,
           -9.260099411010742,
           -8.688715934753418,
           7.626122951507568,
           -4.27452278137207,
           6.4513444900512695,
           4.02951192855835,
           4.209601879119873,
           4.212922096252441,
           4.202980995178223,
           4.270794868469238,
           4.260403156280518,
           4.323446273803711,
           4.046013832092285,
           4.366220951080322,
           4.160334587097168,
           4.130091190338135,
           4.103659629821777,
           4.194313049316406,
           4.253840446472168,
           4.163152694702148,
           4.228636741638184,
           4.221480369567871,
           4.219607353210449,
           4.1198906898498535,
           4.093995571136475,
           -3.684781074523926,
           -5.863168716430664,
           -3.6925883293151855,
           -2.4139957427978516,
           -2.540961742401123,
           -1.866316556930542,
           -1.7297526597976685,
           -1.5551035404205322,
           -1.1251635551452637,
           -0.8847047090530396,
           -0.24155014753341675,
           0.5336101055145264,
           0.8978854417800903,
           0.9478111267089844,
           0.2243383526802063,
           0.029490113258361816,
           0.32250767946243286,
           0.5501840114593506,
           0.6388125419616699,
           3.0981836318969727,
           -0.5594900846481323
          ],
          [
           7.0937347412109375,
           6.632940769195557,
           5.925654411315918,
           6.489794731140137,
           5.5370893478393555,
           7.609584808349609,
           10.037858963012695,
           8.31629753112793,
           8.201587677001953,
           7.844358444213867,
           5.50268030166626,
           1.799241304397583,
           -5.086861610412598,
           -9.062707901000977,
           -10.631294250488281,
           -11.120847702026367,
           -14.204460144042969,
           -13.816943168640137,
           -15.069123268127441,
           -15.809127807617188,
           -12.026496887207031,
           -13.448753356933594,
           -11.901799201965332,
           -10.631772994995117,
           -11.43553352355957,
           -12.633056640625,
           -15.317523956298828,
           -5.055551528930664,
           -8.013954162597656,
           -7.518840789794922,
           7.3085527420043945,
           -4.469064235687256,
           6.107034683227539,
           3.929323673248291,
           4.066737651824951,
           4.146810531616211,
           4.104770183563232,
           4.178441047668457,
           4.1458659172058105,
           4.249449253082275,
           3.9261274337768555,
           4.268309593200684,
           4.102485179901123,
           4.002448558807373,
           4.015542507171631,
           4.061957836151123,
           4.164668083190918,
           4.075821876525879,
           4.140717029571533,
           4.131727695465088,
           4.042846202850342,
           3.9659407138824463,
           3.947422981262207,
           -3.8925833702087402,
           -5.7621235847473145,
           -3.6686744689941406,
           -3.0322394371032715,
           -2.8053669929504395,
           -2.331686019897461,
           -2.186159610748291,
           -2.020857095718384,
           -1.660340428352356,
           -1.419250249862671,
           -0.8277045488357544,
           -0.09283691644668579,
           0.26951271295547485,
           0.2658364474773407,
           -0.3104599118232727,
           -0.517159104347229,
           -0.29273831844329834,
           0.02105492353439331,
           0.15998923778533936,
           2.681142807006836,
           -0.7114881873130798
          ],
          [
           -2.789138078689575,
           -3.3783090114593506,
           -2.6975603103637695,
           -2.8644156455993652,
           -1.7086219787597656,
           0.34574800729751587,
           14.023977279663086,
           14.343362808227539,
           14.163740158081055,
           12.515644073486328,
           11.987287521362305,
           8.986289978027344,
           7.113162994384766,
           6.2418036460876465,
           5.490593910217285,
           -1.7509937286376953,
           -4.185770511627197,
           -7.735723495483398,
           -12.16980266571045,
           -9.00324821472168,
           -6.55898904800415,
           -10.98628044128418,
           -18.277172088623047,
           -11.825471878051758,
           -12.187416076660156,
           -16.585411071777344,
           -14.282054901123047,
           -2.3073935508728027,
           -8.158174514770508,
           -4.581216812133789,
           1.7240374088287354,
           -4.954463005065918,
           3.3136563301086426,
           1.6172064542770386,
           1.6878048181533813,
           2.0077240467071533,
           1.7072044610977173,
           1.6353498697280884,
           1.8261938095092773,
           1.785475254058838,
           1.5529510974884033,
           1.7914828062057495,
           1.9117661714553833,
           1.6419987678527832,
           1.7698190212249756,
           1.4895224571228027,
           1.769843339920044,
           1.686849594116211,
           1.7062897682189941,
           1.781630039215088,
           1.561275839805603,
           1.6173620223999023,
           1.6170734167099,
           -3.2177658081054688,
           1.5462473630905151,
           0.735668420791626,
           0.2559981048107147,
           0.48100191354751587,
           0.11851674318313599,
           -0.08708721399307251,
           -0.10925035923719406,
           -0.10639214515686035,
           -0.4595772922039032,
           -0.5204392671585083,
           -0.31616348028182983,
           -0.3578239679336548,
           -0.32209789752960205,
           -0.22460120916366577,
           -0.7701308727264404,
           -0.49614500999450684,
           -0.6389578580856323,
           -0.38000357151031494,
           0.738525390625,
           -1.7236149311065674
          ],
          [
           -1.2345563173294067,
           -2.504333972930908,
           -0.9870187640190125,
           -1.9485254287719727,
           -0.5469257831573486,
           0.5059068202972412,
           9.24908447265625,
           14.322844505310059,
           16.850019454956055,
           15.980234146118164,
           13.981654167175293,
           12.323638916015625,
           10.19796085357666,
           7.963367462158203,
           7.220336437225342,
           3.8584606647491455,
           0.07595205307006836,
           -6.287312984466553,
           -13.795406341552734,
           -10.550515174865723,
           -9.734757423400879,
           -13.186600685119629,
           -18.682634353637695,
           -16.77762222290039,
           -16.630046844482422,
           -19.568586349487305,
           -18.204492568969727,
           -4.135582447052002,
           -13.832958221435547,
           -10.710477828979492,
           3.414905548095703,
           -5.455524444580078,
           3.902712821960449,
           1.9789482355117798,
           2.1427996158599854,
           2.460921049118042,
           2.0961809158325195,
           1.9899914264678955,
           2.2298319339752197,
           2.0767862796783447,
           1.9102667570114136,
           2.221146583557129,
           2.331820487976074,
           2.0383949279785156,
           2.300354480743408,
           1.8486047983169556,
           2.1629719734191895,
           2.1269469261169434,
           2.1629526615142822,
           2.1818952560424805,
           2.071505546569824,
           2.1750965118408203,
           2.058229923248291,
           -2.211300849914551,
           2.034334182739258,
           1.5679335594177246,
           0.8133130073547363,
           1.1292197704315186,
           0.6700310707092285,
           0.4643842279911041,
           0.3741897940635681,
           0.41965198516845703,
           0.18704167008399963,
           -0.059297025203704834,
           0.1264568567276001,
           -2.0265579223632812e-06,
           0.2073749303817749,
           0.18732678890228271,
           -0.5159985423088074,
           -0.3243526220321655,
           -1.1590431928634644,
           -1.0356627702713013,
           -1.1513166427612305,
           -1.8010635375976562
          ],
          [
           -2.5597658157348633,
           -2.3259201049804688,
           -0.4406634569168091,
           -0.735521674156189,
           -4.448932647705078,
           -4.118354797363281,
           -2.4258015155792236,
           3.696671724319458,
           15.66370964050293,
           16.280771255493164,
           14.506708145141602,
           11.946989059448242,
           10.89992904663086,
           10.822216987609863,
           7.889453887939453,
           9.710959434509277,
           5.704790115356445,
           0.8052730560302734,
           -3.9426400661468506,
           -8.670126914978027,
           -7.689787864685059,
           -5.9500627517700195,
           -7.0352559089660645,
           -10.20281982421875,
           -13.296527862548828,
           -16.60574722290039,
           -18.736892700195312,
           -3.0724973678588867,
           -15.939494132995605,
           -13.9666748046875,
           3.864295482635498,
           -9.437877655029297,
           2.7214748859405518,
           1.0164306163787842,
           1.1083927154541016,
           1.3359441757202148,
           1.0041275024414062,
           0.8832634687423706,
           1.264401912689209,
           0.9269387125968933,
           0.8687779903411865,
           1.1130696535110474,
           1.0803948640823364,
           1.0196590423583984,
           1.2192624807357788,
           0.9386183023452759,
           0.9796650409698486,
           1.1053709983825684,
           1.2295160293579102,
           1.1771976947784424,
           1.0143616199493408,
           1.0965336561203003,
           0.9900379180908203,
           -5.939828395843506,
           1.4999691247940063,
           1.4096609354019165,
           0.8865846395492554,
           1.2217128276824951,
           0.7711586952209473,
           0.4252862334251404,
           0.41905832290649414,
           0.5653843879699707,
           0.4086688756942749,
           0.2247139811515808,
           0.0997387170791626,
           0.15247613191604614,
           0.38394612073898315,
           0.6281234622001648,
           0.33342230319976807,
           0.43377965688705444,
           0.017716050148010254,
           0.03916740417480469,
           0.22814172506332397,
           -1.2266418933868408
          ],
          [
           -4.765588283538818,
           -3.996234655380249,
           -2.674745559692383,
           -2.145656108856201,
           -4.730780601501465,
           -6.031439781188965,
           -4.073520183563232,
           -1.2473818063735962,
           7.5590949058532715,
           13.919931411743164,
           14.563531875610352,
           12.035879135131836,
           10.696571350097656,
           9.963529586791992,
           8.282258033752441,
           9.961935043334961,
           7.352541446685791,
           3.741771697998047,
           1.0058691501617432,
           -2.0525879859924316,
           -6.826844692230225,
           -9.211230278015137,
           -6.841818332672119,
           -5.752952575683594,
           -9.537416458129883,
           -10.629650115966797,
           -15.08529281616211,
           -2.2220993041992188,
           -11.626018524169922,
           -11.081031799316406,
           1.9974160194396973,
           -8.761054992675781,
           1.2584770917892456,
           0.14517539739608765,
           0.15525543689727783,
           0.34526580572128296,
           0.0788986086845398,
           -0.0030652284622192383,
           0.1743142008781433,
           0.05194282531738281,
           0.012703418731689453,
           0.16463804244995117,
           0.23919236660003662,
           0.1449826955795288,
           0.260844349861145,
           0.09224772453308105,
           -0.0011844635009765625,
           0.18299269676208496,
           0.34013813734054565,
           0.2811317443847656,
           0.050637125968933105,
           0.13348627090454102,
           0.026703238487243652,
           -5.478997230529785,
           1.3650858402252197,
           0.9491524696350098,
           0.8815851807594299,
           1.0141327381134033,
           0.2863166332244873,
           0.07271111011505127,
           0.05752861499786377,
           0.10197055339813232,
           -0.1525893211364746,
           -0.30040931701660156,
           -0.5011261701583862,
           -0.5220634937286377,
           -0.3136848211288452,
           0.11735618114471436,
           -0.05362051725387573,
           0.30902326107025146,
           0.26686203479766846,
           0.8449646234512329,
           0.8609334230422974,
           -0.5398580431938171
          ],
          [
           -5.574768543243408,
           -4.774326324462891,
           -4.820568084716797,
           -5.530439853668213,
           -4.017559051513672,
           -4.728631973266602,
           -4.064684867858887,
           -2.7995285987854004,
           1.457716941833496,
           7.658686637878418,
           14.00876235961914,
           13.79704475402832,
           12.041187286376953,
           11.075794219970703,
           9.803449630737305,
           9.799137115478516,
           7.344982147216797,
           7.244067192077637,
           4.384228706359863,
           0.22710156440734863,
           -5.612124443054199,
           -9.808500289916992,
           -9.565536499023438,
           -2.8390774726867676,
           -6.467384338378906,
           -6.439779281616211,
           -11.593082427978516,
           -3.4715070724487305,
           -11.681089401245117,
           -12.596420288085938,
           1.6649997234344482,
           -5.589101791381836,
           1.5567368268966675,
           0.21427282691001892,
           0.25432682037353516,
           0.40848755836486816,
           0.08280055224895477,
           0.14620935916900635,
           0.2371577024459839,
           0.03911101818084717,
           0.08910155296325684,
           0.11368131637573242,
           0.3415946662425995,
           0.280643105506897,
           0.3726637363433838,
           0.16683650016784668,
           0.06880640983581543,
           0.2299392819404602,
           0.45506542921066284,
           0.2474394142627716,
           0.18419769406318665,
           0.20919346809387207,
           0.1717178225517273,
           -2.584754705429077,
           1.5706713199615479,
           1.17159104347229,
           0.9001774787902832,
           0.9208393692970276,
           0.2621137797832489,
           0.02954232692718506,
           0.041946589946746826,
           0.14986348152160645,
           -0.048240065574645996,
           -0.1100279688835144,
           -0.29153764247894287,
           -0.3004707098007202,
           -0.1579732894897461,
           0.12139451503753662,
           -0.3506695032119751,
           -0.2781456708908081,
           -1.0758888721466064,
           -1.0989375114440918,
           -2.3036835193634033,
           -0.7097652554512024
          ],
          [
           -4.485391139984131,
           -4.023775100708008,
           -3.3873748779296875,
           -4.7137770652771,
           -3.373650550842285,
           -4.625096321105957,
           -9.002975463867188,
           -5.402767658233643,
           -3.270598888397217,
           0.1631309986114502,
           4.692411422729492,
           10.071126937866211,
           11.052669525146484,
           10.589250564575195,
           8.741378784179688,
           9.158973693847656,
           8.373594284057617,
           8.163946151733398,
           6.086503505706787,
           3.011340379714966,
           -1.9619407653808594,
           -3.671104669570923,
           -2.285421371459961,
           -0.9891955852508545,
           -1.895440936088562,
           -0.7663018703460693,
           -2.6799509525299072,
           -3.678138494491577,
           -7.149552345275879,
           -8.125602722167969,
           1.0108544826507568,
           -1.19978928565979,
           0.5786962509155273,
           -0.054423823952674866,
           -0.012276530265808105,
           0.09168589115142822,
           -0.1707172691822052,
           -0.14988857507705688,
           0.05346328765153885,
           -0.3298580050468445,
           -0.11955124139785767,
           -0.23753762245178223,
           0.015993475914001465,
           -0.01845821738243103,
           0.14222747087478638,
           -0.07823190093040466,
           -0.20562833547592163,
           -0.07655990123748779,
           0.215853750705719,
           -0.08409276604652405,
           0.0037910044193267822,
           -0.022482633590698242,
           -0.010719239711761475,
           0.5988969802856445,
           1.5035828351974487,
           1.3080819845199585,
           0.43363845348358154,
           0.5751303434371948,
           0.08096089959144592,
           -0.17064771056175232,
           -0.2301071286201477,
           -0.21239861845970154,
           -0.18140703439712524,
           -0.3512269854545593,
           -0.603078305721283,
           -0.6244584918022156,
           -0.5624284148216248,
           -0.27478790283203125,
           -0.7130255699157715,
           -1.2072045803070068,
           -2.4984569549560547,
           -3.0581040382385254,
           -5.495358467102051,
           -0.05615377426147461
          ],
          [
           -5.339740753173828,
           -5.5789594650268555,
           -3.944822311401367,
           -5.795064449310303,
           -5.517321586608887,
           -5.979583740234375,
           -11.458568572998047,
           -5.548892498016357,
           -3.549779176712036,
           -3.164698362350464,
           -3.29651141166687,
           4.816408157348633,
           12.199344635009766,
           13.625389099121094,
           12.221095085144043,
           12.328534126281738,
           11.670141220092773,
           10.587779998779297,
           10.753466606140137,
           9.20455551147461,
           6.17172384262085,
           4.424182415008545,
           3.1187262535095215,
           -1.9452016353607178,
           0.5426061153411865,
           0.4205751419067383,
           2.8890225887298584,
           -3.466397762298584,
           -3.9603095054626465,
           -4.0019426345825195,
           -1.4539449214935303,
           0.36268073320388794,
           -0.8623437881469727,
           -0.6895473003387451,
           -0.695183515548706,
           -0.5160999298095703,
           -0.828290581703186,
           -0.8746499419212341,
           -0.6740832924842834,
           -0.873026430606842,
           -0.6883482336997986,
           -0.8209733963012695,
           -0.6169809699058533,
           -0.6775810122489929,
           -0.5442556142807007,
           -0.7587688565254211,
           -0.8087353706359863,
           -0.6949032545089722,
           -0.4797007441520691,
           -0.7678934335708618,
           -0.620450496673584,
           -0.6568916440010071,
           -0.600034773349762,
           1.3336567878723145,
           2.871070384979248,
           1.8968310356140137,
           0.6748983860015869,
           1.0509884357452393,
           0.26865774393081665,
           0.02145478129386902,
           -0.0903545618057251,
           -0.20503485202789307,
           -0.2757573127746582,
           -0.46962249279022217,
           -0.5999102592468262,
           -0.6967004537582397,
           -0.8204423189163208,
           -0.4665626287460327,
           -0.8820580840110779,
           -1.8000869750976562,
           -3.0874128341674805,
           -3.9423954486846924,
           -7.035668849945068,
           0.6341248750686646
          ],
          [
           -4.755683422088623,
           -5.0956010818481445,
           -5.123312950134277,
           -5.175343990325928,
           -4.943580627441406,
           -4.978606700897217,
           -8.353534698486328,
           -3.5339999198913574,
           -0.04470258951187134,
           -2.0053510665893555,
           -5.412444114685059,
           -0.4964437484741211,
           6.1211981773376465,
           14.216590881347656,
           14.654264450073242,
           15.269476890563965,
           14.119939804077148,
           13.055683135986328,
           13.606158256530762,
           12.235901832580566,
           10.855354309082031,
           9.292987823486328,
           4.66156005859375,
           -0.5031378269195557,
           0.6680421829223633,
           -4.629453182220459,
           1.6667296886444092,
           -0.5388396382331848,
           -4.6378583908081055,
           -6.3278374671936035,
           -2.8709499835968018,
           0.8986047506332397,
           -1.5324126482009888,
           -0.7666093707084656,
           -0.7273261547088623,
           -0.6179190874099731,
           -0.8607100248336792,
           -0.8916676044464111,
           -0.823322594165802,
           -0.9415131211280823,
           -0.7152502536773682,
           -0.8744016885757446,
           -0.7435821294784546,
           -0.645227313041687,
           -0.6938787698745728,
           -0.8795443773269653,
           -0.8176583647727966,
           -0.7983930110931396,
           -0.716471791267395,
           -0.8486404418945312,
           -0.6656103730201721,
           -0.694814920425415,
           -0.6429100632667542,
           1.34273099899292,
           4.956191062927246,
           3.1756441593170166,
           1.8232378959655762,
           1.8899927139282227,
           1.0233659744262695,
           0.6873465180397034,
           0.5646321177482605,
           0.440781831741333,
           0.3347413241863251,
           0.05918198823928833,
           -0.11069567501544952,
           -0.3338449001312256,
           -0.2917352318763733,
           0.040869176387786865,
           -0.20577625930309296,
           -0.8317487835884094,
           -1.674556851387024,
           -2.0164120197296143,
           -5.178235054016113,
           0.37802183628082275
          ],
          [
           -3.464467763900757,
           -4.545520782470703,
           -6.315214157104492,
           -6.56376838684082,
           -4.358095169067383,
           -3.6860132217407227,
           -9.871039390563965,
           -3.1171321868896484,
           0.5908663272857666,
           0.3821694850921631,
           -4.170618057250977,
           -2.602412462234497,
           3.4974708557128906,
           6.92352819442749,
           14.334694862365723,
           17.75863265991211,
           14.881370544433594,
           15.491336822509766,
           14.40334415435791,
           13.624276161193848,
           11.921855926513672,
           11.281981468200684,
           7.486289978027344,
           0.07504081726074219,
           2.8777096271514893,
           0.3106093406677246,
           1.3435370922088623,
           1.527799129486084,
           -5.424880504608154,
           -6.708718299865723,
           -3.494692802429199,
           -0.6506321430206299,
           -2.3896803855895996,
           -1.1442346572875977,
           -1.1909327507019043,
           -1.1455590724945068,
           -1.3325706720352173,
           -1.3259645700454712,
           -1.1991193294525146,
           -1.454491138458252,
           -1.1235359907150269,
           -1.253406286239624,
           -1.176379919052124,
           -1.1472121477127075,
           -1.0595136880874634,
           -1.2528574466705322,
           -1.287043571472168,
           -1.2492916584014893,
           -1.1151021718978882,
           -1.2342374324798584,
           -1.051515817642212,
           -1.068145751953125,
           -1.114759922027588,
           0.771320104598999,
           5.1305742263793945,
           3.674194812774658,
           3.218057870864868,
           3.0146584510803223,
           1.8675698041915894,
           1.4692223072052002,
           1.2768676280975342,
           1.1126477718353271,
           0.7519864439964294,
           0.524622917175293,
           0.24315142631530762,
           0.19842186570167542,
           0.25739985704421997,
           0.5882551670074463,
           0.7414531707763672,
           0.1466216742992401,
           -0.3744426965713501,
           -0.7408765554428101,
           -3.0596141815185547,
           0.7033260464668274
          ],
          [
           -4.280139923095703,
           -3.6935813426971436,
           -3.9189462661743164,
           -2.8790335655212402,
           -5.088714599609375,
           -3.8468494415283203,
           -13.120711326599121,
           -8.37391185760498,
           0.0009355545043945312,
           2.3820912837982178,
           -2.602159023284912,
           -5.711639404296875,
           -1.052232027053833,
           2.8973000049591064,
           7.639575004577637,
           17.71959114074707,
           18.005931854248047,
           18.856536865234375,
           18.633224487304688,
           16.503986358642578,
           13.982833862304688,
           15.100764274597168,
           14.756694793701172,
           4.601808071136475,
           2.547804832458496,
           2.6919608116149902,
           -0.10199427604675293,
           4.197499752044678,
           -5.352302551269531,
           -7.032392501831055,
           -3.271392345428467,
           -3.694446086883545,
           -2.825847864151001,
           -1.4806735515594482,
           -1.4493504762649536,
           -1.4956125020980835,
           -1.590320110321045,
           -1.5675911903381348,
           -1.5537811517715454,
           -1.6806066036224365,
           -1.398508071899414,
           -1.495715618133545,
           -1.5853383541107178,
           -1.3514823913574219,
           -1.424540400505066,
           -1.456840991973877,
           -1.5952942371368408,
           -1.5156266689300537,
           -1.4391682147979736,
           -1.5389273166656494,
           -1.3010791540145874,
           -1.353187918663025,
           -1.4146676063537598,
           -2.4764785766601562,
           3.7229785919189453,
           2.5754292011260986,
           3.829245090484619,
           2.9646387100219727,
           2.1229991912841797,
           1.723854899406433,
           1.5227272510528564,
           1.3948465585708618,
           0.8998690843582153,
           0.6793413162231445,
           0.3197605013847351,
           0.33169305324554443,
           0.5043387413024902,
           0.8497196435928345,
           1.378916621208191,
           1.4028844833374023,
           1.6958370208740234,
           2.1364755630493164,
           1.2604501247406006,
           1.2446930408477783
          ],
          [
           -6.129308700561523,
           -4.4521589279174805,
           -2.466792345046997,
           -1.7256872653961182,
           -4.248510837554932,
           -2.4118881225585938,
           -7.5865020751953125,
           -7.5123162269592285,
           -6.725794315338135,
           -6.169381618499756,
           -4.566493034362793,
           -6.551891326904297,
           -1.8556753396987915,
           -0.8211966753005981,
           -0.639167070388794,
           5.5819926261901855,
           14.331232070922852,
           16.426128387451172,
           16.250999450683594,
           15.182920455932617,
           13.893038749694824,
           15.334362030029297,
           13.188867568969727,
           9.948453903198242,
           5.998776435852051,
           10.843280792236328,
           8.489386558532715,
           4.76091194152832,
           2.7844045162200928,
           3.6855788230895996,
           -4.576854228973389,
           -0.21055817604064941,
           -3.2692105770111084,
           -1.7775194644927979,
           -1.9484806060791016,
           -2.081921100616455,
           -1.9296391010284424,
           -2.054875373840332,
           -1.9332678318023682,
           -2.1130545139312744,
           -1.7852784395217896,
           -2.1062231063842773,
           -1.9952722787857056,
           -1.8757388591766357,
           -2.0086259841918945,
           -1.7943271398544312,
           -2.093129873275757,
           -1.999936819076538,
           -1.9884016513824463,
           -1.9790143966674805,
           -1.872183084487915,
           -1.9451112747192383,
           -1.8634912967681885,
           -1.2389605045318604,
           2.181706190109253,
           0.9374377727508545,
           2.697716236114502,
           1.5982458591461182,
           1.6481287479400635,
           1.3325300216674805,
           1.17671537399292,
           0.9534118175506592,
           0.5807288885116577,
           0.4815547466278076,
           0.10028761625289917,
           0.05424070358276367,
           0.06852495670318604,
           0.3426469564437866,
           0.8008666038513184,
           0.785441517829895,
           1.0474276542663574,
           0.9930505752563477,
           0.6194422245025635,
           1.2632012367248535
          ],
          [
           -3.564504384994507,
           -2.5833868980407715,
           -3.5529942512512207,
           -3.018087148666382,
           -2.241046905517578,
           0.23411130905151367,
           -7.288317680358887,
           -8.002284049987793,
           -8.641844749450684,
           -8.913366317749023,
           -8.62710952758789,
           -9.982061386108398,
           -5.795963287353516,
           -4.028834819793701,
           0.5161566734313965,
           6.829092979431152,
           11.179749488830566,
           16.794757843017578,
           18.37529945373535,
           17.394620895385742,
           16.093685150146484,
           16.707805633544922,
           14.054741859436035,
           10.262781143188477,
           9.459770202636719,
           13.091239929199219,
           10.891155242919922,
           5.297281265258789,
           4.459888458251953,
           3.5370445251464844,
           -5.087038993835449,
           2.008759021759033,
           -3.562742233276367,
           -1.7571645975112915,
           -1.8155603408813477,
           -2.00999116897583,
           -1.9004486799240112,
           -1.806226372718811,
           -1.8514609336853027,
           -2.0107600688934326,
           -1.6797231435775757,
           -1.977578043937683,
           -1.9567949771881104,
           -1.730171799659729,
           -1.8771692514419556,
           -1.7104458808898926,
           -1.900898814201355,
           -1.9594981670379639,
           -1.8601704835891724,
           -1.9644626379013062,
           -1.707953691482544,
           -1.7825157642364502,
           -1.7182809114456177,
           0.8073058128356934,
           2.307727336883545,
           1.415812611579895,
           3.0959742069244385,
           1.9694478511810303,
           1.7799087762832642,
           1.4979007244110107,
           1.3386240005493164,
           1.1261550188064575,
           0.6909569501876831,
           0.6095960140228271,
           0.21077579259872437,
           0.2351006269454956,
           0.15940654277801514,
           0.35913509130477905,
           0.9486585855484009,
           0.7949854135513306,
           1.1341805458068848,
           1.0642492771148682,
           0.8537144660949707,
           1.5442595481872559
          ],
          [
           -2.612028121948242,
           -1.482844591140747,
           -3.137036085128784,
           -1.8826665878295898,
           -0.32533788681030273,
           0.3134036064147949,
           -5.834432601928711,
           -9.579172134399414,
           -13.2471342086792,
           -15.412162780761719,
           -17.132644653320312,
           -16.70995330810547,
           -11.737491607666016,
           -7.4578046798706055,
           -1.5914702415466309,
           2.9809818267822266,
           6.788632869720459,
           12.398822784423828,
           19.969356536865234,
           20.936344146728516,
           20.421367645263672,
           21.897911071777344,
           19.557283401489258,
           15.201065063476562,
           16.78913688659668,
           17.476604461669922,
           17.326923370361328,
           6.296845436096191,
           11.846083641052246,
           10.004729270935059,
           -6.221431732177734,
           5.594790458679199,
           -4.425976276397705,
           -1.8049824237823486,
           -2.093618392944336,
           -2.2461671829223633,
           -2.0524556636810303,
           -1.9459283351898193,
           -2.1908960342407227,
           -2.086935520172119,
           -1.7956445217132568,
           -2.11014986038208,
           -2.1684494018554688,
           -1.9582233428955078,
           -2.1384963989257812,
           -1.9117001295089722,
           -2.0537142753601074,
           -2.132124185562134,
           -2.184333562850952,
           -2.186086893081665,
           -1.9257876873016357,
           -2.166184425354004,
           -1.976098656654358,
           2.3901164531707764,
           1.1395187377929688,
           0.47904908657073975,
           1.8090806007385254,
           1.029646396636963,
           0.9687720537185669,
           0.9177446365356445,
           0.9469854831695557,
           0.6965225338935852,
           0.48867714405059814,
           0.4851032793521881,
           0.06640499830245972,
           0.1246788501739502,
           -0.12983161211013794,
           0.06816506385803223,
           0.8766458630561829,
           0.43802303075790405,
           1.2610708475112915,
           1.3286534547805786,
           1.010387897491455,
           1.8031901121139526
          ],
          [
           -5.95276403427124,
           -5.995205402374268,
           -5.324815273284912,
           -4.960732460021973,
           -2.5734267234802246,
           -2.268585681915283,
           -3.1528875827789307,
           -6.099967956542969,
           -11.43891716003418,
           -13.55638599395752,
           -15.294930458068848,
           -15.342500686645508,
           -9.96966552734375,
           -6.698034286499023,
           -0.8379950523376465,
           0.4484272003173828,
           5.442510604858398,
           6.591658592224121,
           11.399364471435547,
           20.549358367919922,
           22.32746696472168,
           24.251205444335938,
           22.008075714111328,
           18.19350814819336,
           19.642749786376953,
           20.015380859375,
           21.05849838256836,
           8.371565818786621,
           13.57463264465332,
           13.549772262573242,
           -6.5946173667907715,
           7.857721328735352,
           -4.464334011077881,
           -2.169400215148926,
           -2.3167946338653564,
           -2.293923854827881,
           -2.2133677005767822,
           -2.150207757949829,
           -2.309567928314209,
           -2.1932668685913086,
           -2.018986701965332,
           -2.2637548446655273,
           -2.3384432792663574,
           -2.1368114948272705,
           -2.2259750366210938,
           -2.2281107902526855,
           -2.15573787689209,
           -2.180330991744995,
           -2.4850664138793945,
           -2.4117250442504883,
           -2.003864288330078,
           -2.371934652328491,
           -2.0894172191619873,
           4.670546531677246,
           2.30678391456604,
           0.8863268494606018,
           2.2414681911468506,
           1.3223137855529785,
           1.2099251747131348,
           1.1113166809082031,
           1.0542024374008179,
           0.6562800407409668,
           0.31584668159484863,
           -0.005884289741516113,
           -0.5414398908615112,
           -0.5334311127662659,
           -0.7294222116470337,
           -0.48848357796669006,
           0.0658414363861084,
           -0.035391032695770264,
           0.457436203956604,
           1.0247890949249268,
           0.007354736328125,
           0.8081991672515869
          ],
          [
           -2.065955638885498,
           -3.643239974975586,
           -3.301959991455078,
           -2.329129695892334,
           -0.6757100820541382,
           -0.18041682243347168,
           0.7907412052154541,
           -2.3248133659362793,
           -8.99592113494873,
           -13.907564163208008,
           -16.74881362915039,
           -18.52874183654785,
           -13.49055290222168,
           -10.512909889221191,
           -3.4024243354797363,
           -5.912508487701416,
           -0.6900215148925781,
           0.5038416385650635,
           4.328996181488037,
           12.311904907226562,
           19.91895294189453,
           23.72199058532715,
           20.80533790588379,
           17.513996124267578,
           19.329673767089844,
           17.923749923706055,
           20.792882919311523,
           8.304291725158691,
           14.573165893554688,
           13.734668731689453,
           -5.208098411560059,
           8.150148391723633,
           -3.5991499423980713,
           -1.5384583473205566,
           -1.7650470733642578,
           -1.7433868646621704,
           -1.577385425567627,
           -1.4428033828735352,
           -1.623792052268982,
           -1.523268699645996,
           -1.4444174766540527,
           -1.5747061967849731,
           -1.7366862297058105,
           -1.5727089643478394,
           -1.6319242715835571,
           -1.6002062559127808,
           -1.4286017417907715,
           -1.5510363578796387,
           -1.9213330745697021,
           -1.7134088277816772,
           -1.5174757242202759,
           -1.8348642587661743,
           -1.5531413555145264,
           4.339389801025391,
           1.400514006614685,
           0.01223456859588623,
           1.0460072755813599,
           0.400208055973053,
           0.5705349445343018,
           0.5868542194366455,
           0.6262667179107666,
           0.17729300260543823,
           0.029349446296691895,
           -0.09005218744277954,
           -0.4987337589263916,
           -0.47719788551330566,
           -0.6458747386932373,
           -0.5045529007911682,
           0.1683138906955719,
           -0.04177190363407135,
           0.6723711490631104,
           0.9674664735794067,
           0.3896963596343994,
           0.5279707908630371
          ],
          [
           -0.8946888446807861,
           -2.0725245475769043,
           -1.458770990371704,
           -2.0536649227142334,
           -1.1782160997390747,
           -2.4578099250793457,
           -2.9311888217926025,
           -3.265307664871216,
           -6.1250410079956055,
           -11.78425407409668,
           -10.268318176269531,
           -11.638212203979492,
           -9.203777313232422,
           -9.135217666625977,
           -4.971621990203857,
           -7.047149658203125,
           -3.6163811683654785,
           -3.9885783195495605,
           -2.577928066253662,
           1.9044344425201416,
           9.665910720825195,
           20.438594818115234,
           20.737314224243164,
           18.11517333984375,
           19.375043869018555,
           20.291629791259766,
           21.47532081604004,
           7.734114646911621,
           13.269502639770508,
           13.710704803466797,
           -4.034193515777588,
           7.8054094314575195,
           -4.331849098205566,
           -1.9205121994018555,
           -2.1662256717681885,
           -2.2402608394622803,
           -1.9132150411605835,
           -1.9481863975524902,
           -1.9610974788665771,
           -1.9947190284729004,
           -1.8980584144592285,
           -2.033951759338379,
           -2.169503927230835,
           -2.0951666831970215,
           -2.0186681747436523,
           -1.9820884466171265,
           -1.9222087860107422,
           -1.814414620399475,
           -2.3662302494049072,
           -2.0876619815826416,
           -1.931912899017334,
           -2.104313373565674,
           -1.954287052154541,
           5.078910827636719,
           0.8660276532173157,
           0.33215636014938354,
           0.20748132467269897,
           0.08446383476257324,
           0.4684392213821411,
           0.47192656993865967,
           0.3879936933517456,
           0.01157987117767334,
           0.11691033840179443,
           -0.21700209379196167,
           -0.7586960792541504,
           -0.7026333808898926,
           -0.7172626256942749,
           -0.7543172836303711,
           -0.19950729608535767,
           -0.1941562294960022,
           0.18489181995391846,
           0.16448938846588135,
           -0.24619746208190918,
           -0.5396949648857117
          ],
          [
           -0.29005908966064453,
           -0.6163277626037598,
           0.13756918907165527,
           -0.49039769172668457,
           -0.735276460647583,
           -5.781028747558594,
           -8.75582504272461,
           -9.648720741271973,
           -12.820112228393555,
           -13.836814880371094,
           -9.109562873840332,
           -6.2123918533325195,
           -5.394290447235107,
           -6.597954750061035,
           -6.202122688293457,
           -8.768982887268066,
           -5.561956882476807,
           -6.7638773918151855,
           -3.591811180114746,
           -1.1963739395141602,
           0.9521274566650391,
           11.977211952209473,
           20.002840042114258,
           19.590150833129883,
           20.706993103027344,
           23.4615421295166,
           23.690216064453125,
           4.780982971191406,
           15.819967269897461,
           15.189655303955078,
           -2.9432566165924072,
           8.491128921508789,
           -4.845023155212402,
           -2.153752088546753,
           -2.4611895084381104,
           -2.6154818534851074,
           -2.16019868850708,
           -2.2882742881774902,
           -2.347256660461426,
           -2.2655749320983887,
           -2.160191297531128,
           -2.3797149658203125,
           -2.416271924972534,
           -2.423487424850464,
           -2.341141939163208,
           -2.1644339561462402,
           -2.333094358444214,
           -2.0345072746276855,
           -2.5547642707824707,
           -2.2966771125793457,
           -2.2787468433380127,
           -2.3656299114227295,
           -2.289447069168091,
           5.826700210571289,
           -1.2992401123046875,
           -1.0074999332427979,
           -2.179727792739868,
           -1.6805036067962646,
           -1.2735130786895752,
           -1.0362417697906494,
           -1.105679988861084,
           -1.4060994386672974,
           -0.8676905632019043,
           -1.1295466423034668,
           -1.5897454023361206,
           -1.5591199398040771,
           -1.574341893196106,
           -1.6206035614013672,
           -1.225649118423462,
           -1.2104302644729614,
           -0.9827795028686523,
           -0.9757630825042725,
           -2.0265612602233887,
           -0.3184370994567871
          ],
          [
           -4.62045431137085,
           -4.6596198081970215,
           -6.508213043212891,
           -7.621983051300049,
           -2.220586061477661,
           -6.867711067199707,
           -0.3710193634033203,
           -6.036642551422119,
           -16.743986129760742,
           -17.57967758178711,
           -6.6680989265441895,
           -2.8875277042388916,
           -1.9647587537765503,
           -2.520191192626953,
           0.1856980323791504,
           -10.508570671081543,
           -8.201516151428223,
           -6.0275115966796875,
           -1.8864195346832275,
           1.6596460342407227,
           1.3902761936187744,
           7.39410400390625,
           10.020551681518555,
           21.920032501220703,
           24.73219108581543,
           25.933368682861328,
           27.579238891601562,
           5.417614459991455,
           21.506990432739258,
           21.328275680541992,
           -6.525822162628174,
           11.329458236694336,
           -5.917799472808838,
           -3.0213260650634766,
           -3.386356830596924,
           -3.5085346698760986,
           -3.1060056686401367,
           -3.1446785926818848,
           -3.2923192977905273,
           -3.120584487915039,
           -3.0483028888702393,
           -3.3895344734191895,
           -3.1697638034820557,
           -3.3239331245422363,
           -3.2899961471557617,
           -3.12017822265625,
           -3.255462646484375,
           -3.0120668411254883,
           -3.468076467514038,
           -3.2606594562530518,
           -3.319575786590576,
           -3.306988000869751,
           -3.190591335296631,
           8.0367431640625,
           0.972353994846344,
           0.07588130235671997,
           -1.7265245914459229,
           -1.2803783416748047,
           -1.1964725255966187,
           -1.0094799995422363,
           -1.1305668354034424,
           -1.5536062717437744,
           -1.2967960834503174,
           -1.6253349781036377,
           -2.195490837097168,
           -2.344285726547241,
           -2.5107386112213135,
           -2.395463466644287,
           -2.3318610191345215,
           -2.2257304191589355,
           -2.0315682888031006,
           -2.0017340183258057,
           -2.8635170459747314,
           -0.9129660129547119
          ],
          [
           -1.1055282354354858,
           -1.9631037712097168,
           -4.675894260406494,
           -8.116989135742188,
           -3.380272388458252,
           -8.016855239868164,
           -5.796426773071289,
           -5.2805585861206055,
           -11.124570846557617,
           -11.551483154296875,
           -4.752962112426758,
           2.2440900802612305,
           4.95454216003418,
           1.2165741920471191,
           3.733466625213623,
           -5.468466758728027,
           -11.294988632202148,
           -10.037968635559082,
           -6.207870960235596,
           -4.1498494148254395,
           -5.428541660308838,
           1.6374621391296387,
           7.2921142578125,
           11.319823265075684,
           19.6308650970459,
           23.00482940673828,
           25.32272720336914,
           2.839468002319336,
           18.846044540405273,
           19.081893920898438,
           -5.911543369293213,
           9.013151168823242,
           -6.3623857498168945,
           -3.083789110183716,
           -3.35499906539917,
           -3.3138790130615234,
           -3.079653024673462,
           -3.161281108856201,
           -3.1428310871124268,
           -2.950125217437744,
           -3.014847993850708,
           -3.1749215126037598,
           -2.9496984481811523,
           -3.355025053024292,
           -3.1341452598571777,
           -3.101349353790283,
           -3.1831884384155273,
           -2.825326442718506,
           -3.180921792984009,
           -3.1509172916412354,
           -3.1660282611846924,
           -3.0460777282714844,
           -3.059929370880127,
           8.135467529296875,
           1.1268584728240967,
           1.0195801258087158,
           -2.0864510536193848,
           -0.9301559925079346,
           -1.5887424945831299,
           -1.502810001373291,
           -1.913893222808838,
           -2.3094735145568848,
           -2.2767322063446045,
           -2.7572951316833496,
           -3.0881125926971436,
           -3.0974912643432617,
           -3.2576370239257812,
           -3.1245875358581543,
           -3.127756118774414,
           -3.055907726287842,
           -2.924516201019287,
           -3.0139427185058594,
           -3.511197090148926,
           -0.5735461115837097
          ],
          [
           0.7096995115280151,
           0.8248522281646729,
           0.7252833247184753,
           -2.506760835647583,
           0.729088544845581,
           -2.910653829574585,
           -4.030773639678955,
           -5.808617115020752,
           -14.770478248596191,
           -14.474729537963867,
           -6.239757061004639,
           2.644383192062378,
           5.531961917877197,
           0.6158210635185242,
           -3.175647735595703,
           -8.389168739318848,
           -8.221674919128418,
           -6.432339191436768,
           -3.160728931427002,
           -0.8037786483764648,
           -6.511228561401367,
           -4.264285087585449,
           0.6875228881835938,
           4.6826581954956055,
           11.373756408691406,
           22.50086784362793,
           26.44227409362793,
           1.7316784858703613,
           21.242725372314453,
           21.188961029052734,
           -6.519798278808594,
           10.250617027282715,
           -6.470357894897461,
           -3.2529759407043457,
           -3.4808688163757324,
           -3.530728816986084,
           -3.2455227375030518,
           -3.300258159637451,
           -3.41326904296875,
           -3.142219305038452,
           -3.206336498260498,
           -3.4208364486694336,
           -3.103684902191162,
           -3.513352632522583,
           -3.3992207050323486,
           -3.25040340423584,
           -3.3099372386932373,
           -3.168177604675293,
           -3.3559114933013916,
           -3.358293294906616,
           -3.429455518722534,
           -3.1978018283843994,
           -3.206035852432251,
           9.15017318725586,
           0.9170147776603699,
           0.8978068828582764,
           -1.1305134296417236,
           -0.5706290602684021,
           -0.6851415634155273,
           -0.44037413597106934,
           -0.8951237201690674,
           -1.4335134029388428,
           -1.4898293018341064,
           -2.1072235107421875,
           -2.4724795818328857,
           -2.809706687927246,
           -2.9421958923339844,
           -2.7963645458221436,
           -2.77573561668396,
           -2.516948938369751,
           -2.4996156692504883,
           -2.575047254562378,
           -3.0691046714782715,
           0.8386365175247192
          ],
          [
           2.974745988845825,
           2.8836138248443604,
           3.0807039737701416,
           1.5312540531158447,
           3.056241035461426,
           1.0009397268295288,
           2.66888165473938,
           0.20739507675170898,
           -8.633260726928711,
           -13.227426528930664,
           -10.830580711364746,
           -2.6894350051879883,
           0.6442610621452332,
           1.4367210865020752,
           -3.722259521484375,
           -9.21540355682373,
           -7.615103721618652,
           -7.043250560760498,
           -3.335714817047119,
           -0.03493952751159668,
           -2.4474103450775146,
           -1.8034448623657227,
           -2.33311128616333,
           -0.7904587388038635,
           5.585452556610107,
           11.634529113769531,
           22.048358917236328,
           1.8081068992614746,
           19.255191802978516,
           19.398361206054688,
           -6.240941524505615,
           10.295101165771484,
           -5.241009712219238,
           -2.301021099090576,
           -2.468050241470337,
           -2.531538486480713,
           -2.2325072288513184,
           -2.3447439670562744,
           -2.502692937850952,
           -2.148291826248169,
           -2.2297964096069336,
           -2.4254961013793945,
           -2.1957151889801025,
           -2.4887585639953613,
           -2.544020891189575,
           -2.372948408126831,
           -2.2554640769958496,
           -2.324073553085327,
           -2.5361099243164062,
           -2.4056644439697266,
           -2.4937636852264404,
           -2.2840962409973145,
           -2.2443442344665527,
           8.190593719482422,
           1.672192096710205,
           1.2249085903167725,
           -0.8684732913970947,
           -0.3918701112270355,
           -0.22171032428741455,
           0.01848316192626953,
           -0.3348124027252197,
           -0.8035178184509277,
           -0.7691656351089478,
           -1.296447515487671,
           -1.430605173110962,
           -1.876504898071289,
           -1.9945886135101318,
           -1.9365506172180176,
           -1.8871417045593262,
           -1.7506325244903564,
           -1.5515789985656738,
           -1.6408436298370361,
           -2.084693193435669,
           0.9147036075592041
          ],
          [
           0.31710362434387207,
           0.4095628261566162,
           1.1512738466262817,
           -0.981433093547821,
           2.4387593269348145,
           -0.31314605474472046,
           3.2037644386291504,
           1.2747833728790283,
           -7.104724884033203,
           -10.616022109985352,
           -8.103740692138672,
           -1.7895617485046387,
           0.9971487522125244,
           0.6820175051689148,
           -2.4555482864379883,
           -6.261326789855957,
           -5.3408894538879395,
           -7.233973503112793,
           -5.017378807067871,
           -1.1877286434173584,
           -2.287198781967163,
           -1.099809169769287,
           -0.4622929096221924,
           1.3454663753509521,
           6.589020252227783,
           10.572558403015137,
           15.26923942565918,
           0.689903736114502,
           17.444385528564453,
           17.41167449951172,
           -3.3042778968811035,
           10.281116485595703,
           -2.3923473358154297,
           -1.3064985275268555,
           -1.310996651649475,
           -1.400134563446045,
           -1.2591569423675537,
           -1.1810500621795654,
           -1.3793315887451172,
           -1.1943660974502563,
           -1.3298345804214478,
           -1.312065839767456,
           -1.2844867706298828,
           -1.4305064678192139,
           -1.3468308448791504,
           -1.359515905380249,
           -1.2166181802749634,
           -1.2828354835510254,
           -1.450920581817627,
           -1.4364551305770874,
           -1.429673671722412,
           -1.1406185626983643,
           -1.2093422412872314,
           7.9788498878479,
           0.9802967309951782,
           0.3817138671875,
           -0.5937353372573853,
           -0.6542742252349854,
           -0.1973581314086914,
           0.09463095664978027,
           -0.09181058406829834,
           -0.5029559135437012,
           -0.36240077018737793,
           -1.050412893295288,
           -1.4687657356262207,
           -2.212076187133789,
           -2.1836156845092773,
           -2.226114511489868,
           -2.5643157958984375,
           -2.270181894302368,
           -2.417241096496582,
           -1.9324029684066772,
           -2.0528039932250977,
           -0.00029449164867401123
          ],
          [
           5.9963884353637695,
           5.488708019256592,
           5.92870569229126,
           2.6508243083953857,
           6.54033899307251,
           3.779658794403076,
           6.887171745300293,
           8.09123420715332,
           -4.9230475425720215,
           -13.823884963989258,
           -16.5635929107666,
           -2.901677131652832,
           1.6929799318313599,
           -0.09811902046203613,
           -5.366146564483643,
           -11.598278045654297,
           -12.346785545349121,
           -16.080795288085938,
           -12.229621887207031,
           -7.761454105377197,
           -7.173357963562012,
           -5.920258522033691,
           -6.211830139160156,
           -9.60521125793457,
           1.9747109413146973,
           4.091959476470947,
           14.234940528869629,
           -5.630237579345703,
           18.372194290161133,
           20.752300262451172,
           -0.5393403768539429,
           13.182673454284668,
           0.31074416637420654,
           0.8700282573699951,
           0.7986893653869629,
           0.718174934387207,
           0.8773468732833862,
           0.7866816520690918,
           0.7539668679237366,
           1.0164284706115723,
           0.8167436122894287,
           0.8800140023231506,
           0.835241436958313,
           0.46740496158599854,
           0.6607742309570312,
           0.7452071905136108,
           0.8804426193237305,
           0.7721228003501892,
           0.6710245013237,
           0.7224768400192261,
           0.6612759828567505,
           0.9654523134231567,
           0.882312536239624,
           9.722173690795898,
           -1.8887174129486084,
           -1.224961757659912,
           -3.639655351638794,
           -2.7805237770080566,
           -1.9938452243804932,
           -1.479922890663147,
           -1.5740309953689575,
           -1.7997238636016846,
           -1.0617268085479736,
           -1.3869876861572266,
           -1.1615304946899414,
           -1.8541879653930664,
           -2.097297430038452,
           -2.6699705123901367,
           -3.492732286453247,
           -4.09508752822876,
           -4.862801551818848,
           -5.438711166381836,
           -5.772382736206055,
           0.15285354852676392
          ],
          [
           -9.473196029663086,
           -8.750442504882812,
           -7.799138069152832,
           -10.754647254943848,
           -9.978459358215332,
           -12.110023498535156,
           -4.888245582580566,
           1.1064019203186035,
           1.827836513519287,
           -0.7848302721977234,
           0.36647486686706543,
           10.66860580444336,
           20.554161071777344,
           20.918563842773438,
           18.22372817993164,
           9.8538818359375,
           6.1735992431640625,
           2.8319215774536133,
           4.3167405128479,
           5.574206352233887,
           -0.05392742156982422,
           0.51749587059021,
           -4.492607593536377,
           -5.69339656829834,
           2.4748048782348633,
           4.504021644592285,
           13.70230484008789,
           0.9430906176567078,
           9.075689315795898,
           14.009561538696289,
           -9.184606552124023,
           1.279566764831543,
           -6.753109931945801,
           -3.572410821914673,
           -3.9139909744262695,
           -3.4987409114837646,
           -3.7257628440856934,
           -4.08963680267334,
           -3.620978355407715,
           -3.663853883743286,
           -3.6370930671691895,
           -3.7986392974853516,
           -3.3379456996917725,
           -3.989901542663574,
           -3.6782915592193604,
           -3.8766486644744873,
           -3.883465051651001,
           -3.6189651489257812,
           -3.6076292991638184,
           -3.6288552284240723,
           -3.933889865875244,
           -3.7062344551086426,
           -3.685668468475342,
           2.7847516536712646,
           7.443408966064453,
           5.120675086975098,
           1.4840102195739746,
           2.5323076248168945,
           0.8937660455703735,
           0.38355720043182373,
           -0.2397136688232422,
           -0.8976858854293823,
           -1.5924394130706787,
           -2.539872646331787,
           -3.158874988555908,
           -3.4856245517730713,
           -3.664897918701172,
           -2.663302421569824,
           -2.871886730194092,
           -3.2003085613250732,
           -3.40293288230896,
           -3.6366543769836426,
           -4.739195823669434,
           0.1334826946258545
          ],
          [
           -1.6330907344818115,
           -2.060485363006592,
           -0.5675740242004395,
           0.5015941858291626,
           -0.6001332402229309,
           -0.7034143209457397,
           1.3424409627914429,
           0.954192042350769,
           2.5869572162628174,
           2.83455228805542,
           4.256438255310059,
           3.6580495834350586,
           2.3544559478759766,
           3.3589420318603516,
           1.8656301498413086,
           -0.13415110111236572,
           1.9468986988067627,
           0.3435955047607422,
           -1.3921343088150024,
           -2.0089383125305176,
           -1.089442491531372,
           -1.9699711799621582,
           -3.0809388160705566,
           -0.3651832938194275,
           -3.402398109436035,
           -6.11362361907959,
           -5.9812421798706055,
           -1.4400707483291626,
           -5.823297023773193,
           -5.3177385330200195,
           1.9933927059173584,
           -2.122734785079956,
           1.7052192687988281,
           0.5775994062423706,
           0.5777949094772339,
           0.6582404375076294,
           0.5351960062980652,
           0.5338567495346069,
           0.6542898416519165,
           0.5187593698501587,
           0.5033161640167236,
           0.5240236520767212,
           0.5304874777793884,
           0.5885391235351562,
           0.6038520932197571,
           0.5336402654647827,
           0.575227677822113,
           0.5322783589363098,
           0.5901346206665039,
           0.6131967902183533,
           0.5169956088066101,
           0.4393158257007599,
           0.5218231678009033,
           -1.7874457836151123,
           0.12236723303794861,
           -0.11260759830474854,
           -0.1083754301071167,
           -0.007850587368011475,
           0.16411623358726501,
           0.14769518375396729,
           0.34018778800964355,
           0.41414403915405273,
           0.563683032989502,
           0.6706361174583435,
           0.6175022125244141,
           0.680781364440918,
           0.6330323219299316,
           0.7118009328842163,
           0.5221441388130188,
           0.3181581497192383,
           -0.14443737268447876,
           -0.4223836660385132,
           -1.2130833864212036,
           -0.5339640378952026
          ],
          [
           17.418664932250977,
           15.197969436645508,
           13.405975341796875,
           11.980892181396484,
           11.27718734741211,
           10.611532211303711,
           10.339465141296387,
           10.66344165802002,
           10.408136367797852,
           8.836848258972168,
           7.329553604125977,
           7.485562324523926,
           -1.9376235008239746,
           -11.005924224853516,
           -15.169181823730469,
           -18.372835159301758,
           -28.221107482910156,
           -28.45512580871582,
           -28.89019012451172,
           -29.4538631439209,
           -27.614412307739258,
           -26.35861587524414,
           -20.7855224609375,
           -21.131858825683594,
           -15.143011093139648,
           -9.88742733001709,
           -7.643781661987305,
           -5.5904059410095215,
           -2.4575655460357666,
           -1.9332771301269531,
           5.973515033721924,
           -1.9898688793182373,
           2.5601704120635986,
           2.325943946838379,
           2.2499587535858154,
           2.3928682804107666,
           2.530696153640747,
           2.4488821029663086,
           2.4332990646362305,
           2.9469223022460938,
           2.3636419773101807,
           2.7883520126342773,
           2.7364914417266846,
           2.180152416229248,
           2.296302318572998,
           2.4103732109069824,
           2.633850574493408,
           2.661878824234009,
           2.4943902492523193,
           2.658757209777832,
           2.3891897201538086,
           2.388324737548828,
           2.3232195377349854,
           0.49898433685302734,
           -6.164092063903809,
           -2.4197404384613037,
           -4.400069236755371,
           -2.688687324523926,
           -2.3089818954467773,
           -1.818673849105835,
           -1.8989300727844238,
           -1.5650544166564941,
           -1.263471245765686,
           -0.8136551380157471,
           0.2100820541381836,
           0.8051290512084961,
           0.6637048721313477,
           -0.11020255088806152,
           -0.036847591400146484,
           0.3385498523712158,
           0.8403067588806152,
           0.2974303960800171,
           2.804915428161621,
           -0.3141200542449951
          ],
          [
           -0.7903491258621216,
           -1.4626598358154297,
           0.15368616580963135,
           0.799562394618988,
           0.008048415184020996,
           0.17734897136688232,
           2.568788528442383,
           2.418430805206299,
           3.5591917037963867,
           2.8750529289245605,
           3.310331344604492,
           2.9140467643737793,
           2.316741466522217,
           3.0870189666748047,
           1.7791547775268555,
           -0.37125468254089355,
           0.9006474018096924,
           -0.8973627090454102,
           -2.4472572803497314,
           -1.733988642692566,
           -0.3469991087913513,
           -1.5444612503051758,
           -3.721219539642334,
           -2.054288387298584,
           -3.7791707515716553,
           -5.954901218414307,
           -4.6067914962768555,
           -0.8957309722900391,
           -4.526366710662842,
           -3.833948850631714,
           1.2348424196243286,
           -1.5020618438720703,
           1.137076497077942,
           0.2138649821281433,
           0.22551923990249634,
           0.33302223682403564,
           0.19349992275238037,
           0.1983940601348877,
           0.2819656431674957,
           0.21646088361740112,
           0.17205259203910828,
           0.21125411987304688,
           0.22017133235931396,
           0.25279879570007324,
           0.27488812804222107,
           0.15341120958328247,
           0.28278663754463196,
           0.19518661499023438,
           0.22089031338691711,
           0.2525818347930908,
           0.1948452591896057,
           0.12028577923774719,
           0.2004016935825348,
           -1.0923928022384644,
           0.5645220279693604,
           0.31421661376953125,
           0.25939273834228516,
           0.4532742500305176,
           0.6009278297424316,
           0.6309700012207031,
           0.7975250482559204,
           0.8476979732513428,
           0.8946800827980042,
           0.9346434473991394,
           0.9218044281005859,
           0.9754320383071899,
           0.8842798471450806,
           0.9644157886505127,
           0.8238712549209595,
           0.6181488037109375,
           0.20316892862319946,
           -0.11361438035964966,
           -0.8613156080245972,
           -0.4231454133987427
          ],
          [
           2.067546844482422,
           1.8479621410369873,
           2.0053820610046387,
           2.87884259223938,
           1.5675452947616577,
           2.3290882110595703,
           3.0472846031188965,
           2.2704625129699707,
           4.414790630340576,
           4.819899559020996,
           4.329069137573242,
           0.8421423435211182,
           -1.9958027601242065,
           -2.8164494037628174,
           -2.69938325881958,
           -2.047665596008301,
           -2.1306838989257812,
           -2.1731626987457275,
           -3.5719797611236572,
           -3.7647337913513184,
           -2.5189151763916016,
           -2.565033197402954,
           -2.765634775161743,
           -1.9741272926330566,
           -3.901883602142334,
           -4.519097328186035,
           -5.664909362792969,
           0.41327470541000366,
           -4.132667064666748,
           -3.7068638801574707,
           1.5758196115493774,
           -2.922196865081787,
           0.8834218382835388,
           0.24327516555786133,
           0.28471171855926514,
           0.2630454897880554,
           0.29233044385910034,
           0.26310110092163086,
           0.2911403775215149,
           0.28058236837387085,
           0.24760746955871582,
           0.28989359736442566,
           0.23459701240062714,
           0.29761797189712524,
           0.26239073276519775,
           0.26847904920578003,
           0.30431628227233887,
           0.24590760469436646,
           0.24570560455322266,
           0.3179498314857483,
           0.27705496549606323,
           0.2394743263721466,
           0.2282671332359314,
           -2.27305006980896,
           -0.8131867051124573,
           -0.2929781675338745,
           0.21370407938957214,
           0.29898980259895325,
           0.52833092212677,
           0.6001212000846863,
           0.7245166301727295,
           0.8885416984558105,
           0.8793853521347046,
           1.0568592548370361,
           1.194758415222168,
           1.3939132690429688,
           1.3725478649139404,
           1.2944308519363403,
           1.4538151025772095,
           1.5789272785186768,
           1.774738073348999,
           1.6930818557739258,
           2.3828189373016357,
           -0.22824788093566895
          ],
          [
           2.5462217330932617,
           2.4929399490356445,
           2.935492753982544,
           3.6276962757110596,
           1.9142661094665527,
           2.3375566005706787,
           3.4368927478790283,
           2.124631881713867,
           3.2132797241210938,
           2.8017492294311523,
           2.279933214187622,
           -0.1366347074508667,
           -2.484165668487549,
           -3.442704200744629,
           -4.415117263793945,
           -4.39495849609375,
           -3.979924201965332,
           -4.190906524658203,
           -4.746230125427246,
           -4.977141380310059,
           -3.1543750762939453,
           -2.3710312843322754,
           -1.8086429834365845,
           -1.2824478149414062,
           -2.567701578140259,
           -3.0489394664764404,
           -3.5383334159851074,
           0.11112445592880249,
           -1.0725433826446533,
           -0.3473130464553833,
           1.635480284690857,
           -1.6385719776153564,
           0.8610728979110718,
           0.20499885082244873,
           0.2578941583633423,
           0.19158273935317993,
           0.274173378944397,
           0.24077904224395752,
           0.24847394227981567,
           0.28729599714279175,
           0.21585053205490112,
           0.2608291804790497,
           0.16786625981330872,
           0.24053311347961426,
           0.19478869438171387,
           0.25252288579940796,
           0.2747038006782532,
           0.212596595287323,
           0.1927158236503601,
           0.2667625844478607,
           0.2143247127532959,
           0.22362834215164185,
           0.19827008247375488,
           -1.713000774383545,
           -1.515272855758667,
           -0.8651345372200012,
           -0.4485880732536316,
           -0.28335344791412354,
           0.15323565900325775,
           0.3148095905780792,
           0.45454689860343933,
           0.6162397265434265,
           0.7195464372634888,
           0.8985259532928467,
           1.0645256042480469,
           1.1979939937591553,
           1.1311931610107422,
           0.9937157034873962,
           1.102403163909912,
           1.2055120468139648,
           1.4441192150115967,
           1.3443609476089478,
           2.3019187450408936,
           -0.19303913414478302
          ],
          [
           -0.20522865653038025,
           0.013086259365081787,
           0.5660526752471924,
           1.6298646926879883,
           -0.17466720938682556,
           0.481540322303772,
           1.1890583038330078,
           0.08318310976028442,
           1.511765718460083,
           1.5925710201263428,
           1.204348087310791,
           -1.6068902015686035,
           -2.2432315349578857,
           -1.5196781158447266,
           -1.5030114650726318,
           -0.7937977313995361,
           1.3025450706481934,
           1.4606523513793945,
           0.7600694298744202,
           0.5291292667388916,
           1.7446008920669556,
           2.2025179862976074,
           1.650040626525879,
           1.9950796365737915,
           -0.33757078647613525,
           -1.0093140602111816,
           -1.401426076889038,
           1.7252531051635742,
           -0.6893811821937561,
           -0.3599548041820526,
           -0.0841292068362236,
           -1.6441532373428345,
           -0.2224772721529007,
           -0.4226108491420746,
           -0.3920600712299347,
           -0.4621883034706116,
           -0.3893406391143799,
           -0.4201069474220276,
           -0.41196611523628235,
           -0.44959309697151184,
           -0.4091055989265442,
           -0.4495382308959961,
           -0.49398624897003174,
           -0.36895230412483215,
           -0.44269663095474243,
           -0.3953562378883362,
           -0.4103165864944458,
           -0.4681796729564667,
           -0.47199827432632446,
           -0.40294837951660156,
           -0.43671858310699463,
           -0.431383341550827,
           -0.43965286016464233,
           -1.8586225509643555,
           0.05271207541227341,
           -0.06554827094078064,
           0.5918685793876648,
           0.4415355920791626,
           0.6728799939155579,
           0.6969252824783325,
           0.782709002494812,
           0.8369100689888,
           0.7974705100059509,
           0.8742014169692993,
           0.8567916750907898,
           0.909998893737793,
           0.9063155055046082,
           0.9669418931007385,
           1.173931360244751,
           1.2758585214614868,
           1.5494635105133057,
           1.581374168395996,
           2.0738024711608887,
           0.02865883708000183
          ],
          [
           2.4950900077819824,
           2.4836227893829346,
           2.8580775260925293,
           3.4810359477996826,
           1.9114902019500732,
           2.2001256942749023,
           3.882215738296509,
           2.303234100341797,
           2.958043098449707,
           2.7452287673950195,
           2.6398820877075195,
           0.2993333339691162,
           -2.1116111278533936,
           -3.27754545211792,
           -4.476619720458984,
           -4.919118881225586,
           -4.558533668518066,
           -4.768949508666992,
           -5.247403621673584,
           -5.451046943664551,
           -3.943289041519165,
           -3.3712339401245117,
           -2.6652350425720215,
           -1.4695680141448975,
           -2.605109691619873,
           -2.741544246673584,
           -3.161189556121826,
           0.08102750778198242,
           -0.3150912821292877,
           0.42932355403900146,
           1.4492398500442505,
           -1.4770138263702393,
           0.7395892143249512,
           0.14931485056877136,
           0.18684452772140503,
           0.12683016061782837,
           0.22171378135681152,
           0.17853519320487976,
           0.18456584215164185,
           0.2399936020374298,
           0.15242314338684082,
           0.1991792619228363,
           0.1288529634475708,
           0.1645163893699646,
           0.1232050359249115,
           0.1927892565727234,
           0.2082737684249878,
           0.15769577026367188,
           0.13198545575141907,
           0.2111569046974182,
           0.13568830490112305,
           0.1654255986213684,
           0.13430827856063843,
           -1.5476362705230713,
           -1.4926506280899048,
           -0.8806554675102234,
           -0.5376927852630615,
           -0.36077359318733215,
           0.06147824972867966,
           0.2303837388753891,
           0.3505934476852417,
           0.4898107945919037,
           0.5768245458602905,
           0.7336525917053223,
           0.8924305438995361,
           0.9962688684463501,
           0.9372638463973999,
           0.8088679313659668,
           0.8986544609069824,
           1.0626144409179688,
           1.3466696739196777,
           1.3087334632873535,
           2.3728814125061035,
           -0.209130197763443
          ],
          [
           0.2285889983177185,
           0.4646871089935303,
           0.8076658248901367,
           1.9304516315460205,
           0.22302654385566711,
           0.9234393239021301,
           1.486289381980896,
           0.31425201892852783,
           1.9593143463134766,
           2.0140914916992188,
           1.5834362506866455,
           -1.4077672958374023,
           -2.5271575450897217,
           -1.888087272644043,
           -1.742942214012146,
           -0.8080182075500488,
           0.9430027008056641,
           1.272763729095459,
           0.5001881122589111,
           0.10975909233093262,
           1.1870756149291992,
           1.6624877452850342,
           1.1182901859283447,
           1.520817756652832,
           -0.7982226014137268,
           -1.5028287172317505,
           -2.0316097736358643,
           1.691673755645752,
           -1.086352825164795,
           -0.7715576887130737,
           0.08747811615467072,
           -1.8188281059265137,
           -0.13831743597984314,
           -0.38419854640960693,
           -0.3414328992366791,
           -0.4228726029396057,
           -0.35253429412841797,
           -0.3720289170742035,
           -0.36465057730674744,
           -0.4085226058959961,
           -0.36964890360832214,
           -0.40330272912979126,
           -0.46442410349845886,
           -0.3269695043563843,
           -0.4009227752685547,
           -0.3527285158634186,
           -0.36322182416915894,
           -0.43627822399139404,
           -0.4279206395149231,
           -0.35631781816482544,
           -0.3923306465148926,
           -0.38390788435935974,
           -0.40020495653152466,
           -1.9369337558746338,
           -0.03335820883512497,
           -0.02906215190887451,
           0.6446437835693359,
           0.5042089819908142,
           0.7521613836288452,
           0.7846168279647827,
           0.8808466196060181,
           0.9563202857971191,
           0.9249265193939209,
           1.0135579109191895,
           1.0011231899261475,
           1.0748564004898071,
           1.0653893947601318,
           1.1054050922393799,
           1.32575261592865,
           1.4346568584442139,
           1.7158536911010742,
           1.731964111328125,
           2.3203563690185547,
           0.014962978661060333
          ],
          [
           3.650289535522461,
           3.352856159210205,
           3.838651180267334,
           4.070504665374756,
           2.385850429534912,
           2.7206239700317383,
           2.9249346256256104,
           2.2989673614501953,
           3.57810640335083,
           3.493114471435547,
           3.5297698974609375,
           1.607181429862976,
           -1.1352901458740234,
           -3.39548659324646,
           -4.922586441040039,
           -5.063307285308838,
           -5.426612377166748,
           -5.563563823699951,
           -6.692859649658203,
           -7.357113361358643,
           -5.764224052429199,
           -4.964366912841797,
           -3.724855422973633,
           -3.3302483558654785,
           -4.106010437011719,
           -3.137986421585083,
           -3.7297379970550537,
           -0.5739951133728027,
           -1.8140974044799805,
           -1.2163435220718384,
           1.99077308177948,
           -1.9403367042541504,
           0.8628131151199341,
           0.2804476022720337,
           0.3120722770690918,
           0.27716904878616333,
           0.3531852960586548,
           0.31331050395965576,
           0.34965652227401733,
           0.3665045499801636,
           0.28011631965637207,
           0.3439566493034363,
           0.30434948205947876,
           0.29624539613723755,
           0.2916276454925537,
           0.3321441411972046,
           0.35880157351493835,
           0.31777581572532654,
           0.30931776762008667,
           0.37015047669410706,
           0.28991830348968506,
           0.3107258677482605,
           0.2783805727958679,
           -1.470489263534546,
           -1.7181921005249023,
           -0.8321790099143982,
           -0.6659792065620422,
           -0.3636672794818878,
           0.017131581902503967,
           0.1733282059431076,
           0.26394686102867126,
           0.41838538646698,
           0.49860942363739014,
           0.6680021286010742,
           0.8745140433311462,
           1.0449965000152588,
           0.9965223670005798,
           0.8556760549545288,
           0.9641649127006531,
           1.0768296718597412,
           1.2415776252746582,
           1.0291929244995117,
           1.9304053783416748,
           -0.1517437845468521
          ],
          [
           -1.4705519676208496,
           -1.2027783393859863,
           -0.3800475597381592,
           0.4747418165206909,
           -1.3172392845153809,
           -0.5161775946617126,
           -0.2713141143321991,
           -0.9096493124961853,
           1.570725440979004,
           1.7700443267822266,
           1.2864406108856201,
           -1.2755756378173828,
           -0.6572201251983643,
           1.300816297531128,
           1.129289150238037,
           2.5397109985351562,
           4.45761775970459,
           4.473460674285889,
           3.8389978408813477,
           3.735713243484497,
           4.22506046295166,
           4.027785301208496,
           2.4215004444122314,
           2.1055569648742676,
           -0.31990599632263184,
           -0.9730225801467896,
           -0.6339378952980042,
           2.42362904548645,
           -1.068081259727478,
           -1.011897087097168,
           -1.2555372714996338,
           -1.6412925720214844,
           -1.042366623878479,
           -1.0357322692871094,
           -0.9734864234924316,
           -1.0134400129318237,
           -1.010364294052124,
           -1.0171329975128174,
           -1.0380765199661255,
           -1.046558141708374,
           -0.9949444532394409,
           -1.04844331741333,
           -1.0749366283416748,
           -0.9145650863647461,
           -1.0138909816741943,
           -1.0221607685089111,
           -0.9904621839523315,
           -1.0561963319778442,
           -1.0663857460021973,
           -1.0240567922592163,
           -1.0054727792739868,
           -0.9987151622772217,
           -0.9970070123672485,
           -1.5522847175598145,
           1.3993139266967773,
           0.8394919633865356,
           1.467139482498169,
           1.2320090532302856,
           1.2986069917678833,
           1.2704098224639893,
           1.3163467645645142,
           1.3348363637924194,
           1.160910964012146,
           1.115210771560669,
           1.0152133703231812,
           1.0076863765716553,
           1.019075870513916,
           1.1919550895690918,
           1.4019752740859985,
           1.523969292640686,
           1.7179330587387085,
           1.79213285446167,
           1.8046828508377075,
           0.16178274154663086
          ],
          [
           2.1314549446105957,
           2.0606231689453125,
           2.646149158477783,
           3.3522000312805176,
           1.7510950565338135,
           2.300076723098755,
           3.127744197845459,
           1.933906078338623,
           3.321384906768799,
           3.176795482635498,
           2.8418984413146973,
           0.2800353765487671,
           -1.8975025415420532,
           -2.530245304107666,
           -3.466407060623169,
           -3.1038641929626465,
           -2.5135555267333984,
           -2.7061595916748047,
           -3.5694243907928467,
           -3.67063570022583,
           -2.2834815979003906,
           -2.1461851596832275,
           -2.2103798389434814,
           -1.5924570560455322,
           -3.20023775100708,
           -3.399284601211548,
           -3.769880771636963,
           0.39350077509880066,
           -1.8963158130645752,
           -1.4086265563964844,
           1.254848837852478,
           -1.8840348720550537,
           0.6125503778457642,
           0.009810388088226318,
           0.059233665466308594,
           0.01651054620742798,
           0.06339025497436523,
           0.043387413024902344,
           0.04758232831954956,
           0.06725507974624634,
           0.01850128173828125,
           0.051541924476623535,
           -0.010204285383224487,
           0.06523245573043823,
           0.017197370529174805,
           0.03989952802658081,
           0.08380067348480225,
           0.006369113922119141,
           0.0015232563018798828,
           0.06830546259880066,
           0.026910781860351562,
           0.0211336612701416,
           0.008890211582183838,
           -1.6890925168991089,
           -0.9194192290306091,
           -0.43635445833206177,
           0.03640252351760864,
           0.13975244760513306,
           0.5084729194641113,
           0.6386497020721436,
           0.7699869275093079,
           0.9142037630081177,
           0.9442228674888611,
           1.0829426050186157,
           1.207772970199585,
           1.333418369293213,
           1.2818483114242554,
           1.2056243419647217,
           1.3367276191711426,
           1.4413578510284424,
           1.6243412494659424,
           1.5182437896728516,
           2.2021806240081787,
           -0.1171160489320755
          ],
          [
           -1.426393747329712,
           -1.184999942779541,
           -0.5340492725372314,
           0.6574490070343018,
           -1.2403233051300049,
           -0.29290300607681274,
           0.060427725315093994,
           -0.6080334186553955,
           2.210691213607788,
           2.676497459411621,
           2.063720226287842,
           -1.3621269464492798,
           -1.2583125829696655,
           0.5175997018814087,
           0.9564460515975952,
           2.5947585105895996,
           4.709570407867432,
           4.867508888244629,
           3.8556580543518066,
           3.6749985218048096,
           4.072417736053467,
           3.8731565475463867,
           2.1564548015594482,
           2.0420632362365723,
           -0.8015056848526001,
           -1.447883129119873,
           -1.5324643850326538,
           2.7561585903167725,
           -1.89732825756073,
           -1.7359936237335205,
           -1.226943016052246,
           -2.3413150310516357,
           -1.0313215255737305,
           -0.9652175903320312,
           -0.923794150352478,
           -0.9695716500282288,
           -0.9483157396316528,
           -0.9692709445953369,
           -0.9733213186264038,
           -1.0041043758392334,
           -0.9360606670379639,
           -0.992577850818634,
           -1.019000768661499,
           -0.8656461238861084,
           -0.9645208716392517,
           -0.9574708938598633,
           -0.942969024181366,
           -1.0099849700927734,
           -1.0157804489135742,
           -0.9466748237609863,
           -0.9593638181686401,
           -0.9587011337280273,
           -0.9598941802978516,
           -2.0920090675354004,
           1.4533324241638184,
           0.896175742149353,
           1.6361585855484009,
           1.3489573001861572,
           1.3792810440063477,
           1.321364402770996,
           1.3628675937652588,
           1.3744502067565918,
           1.1738547086715698,
           1.151292085647583,
           1.035839319229126,
           1.0631862878799438,
           1.0930755138397217,
           1.282861590385437,
           1.5646981000900269,
           1.7242848873138428,
           2.010802984237671,
           2.120116949081421,
           2.2954049110412598,
           0.16106146574020386
          ],
          [
           1.394036054611206,
           1.3693997859954834,
           1.5320072174072266,
           2.518787384033203,
           1.1216148138046265,
           1.8110175132751465,
           2.4199209213256836,
           1.5903576612472534,
           4.037469863891602,
           4.877570152282715,
           4.721064567565918,
           1.169450283050537,
           -1.2007102966308594,
           -1.4952300786972046,
           -1.4986315965652466,
           -0.4337923526763916,
           -0.12119269371032715,
           0.021733522415161133,
           -1.5663055181503296,
           -1.901508092880249,
           -1.8445987701416016,
           -2.385791778564453,
           -2.96716046333313,
           -1.9896774291992188,
           -4.123563289642334,
           -3.8212337493896484,
           -4.501155376434326,
           1.321016550064087,
           -3.2459025382995605,
           -3.079888105392456,
           0.3699493110179901,
           -2.959282398223877,
           -0.08969783782958984,
           -0.3653070330619812,
           -0.3313771188259125,
           -0.356495201587677,
           -0.3304227292537689,
           -0.3498239517211914,
           -0.33599117398262024,
           -0.35285091400146484,
           -0.3604689836502075,
           -0.34248387813568115,
           -0.3611774742603302,
           -0.30762338638305664,
           -0.35297295451164246,
           -0.3504725694656372,
           -0.31459563970565796,
           -0.38804376125335693,
           -0.3715355098247528,
           -0.2913394570350647,
           -0.3615797460079193,
           -0.3525824546813965,
           -0.3806222081184387,
           -2.099526882171631,
           0.2271256446838379,
           0.4216146171092987,
           0.9385017156600952,
           0.9075052738189697,
           1.0310168266296387,
           1.0642552375793457,
           1.127941370010376,
           1.2177873849868774,
           1.0874100923538208,
           1.1449341773986816,
           1.1660151481628418,
           1.2852600812911987,
           1.2997757196426392,
           1.3509708642959595,
           1.586503267288208,
           1.8110049962997437,
           2.083388566970825,
           2.116072177886963,
           2.736311435699463,
           -0.017115265130996704
          ],
          [
           2.203941583633423,
           2.127089023590088,
           2.2747719287872314,
           3.041273832321167,
           1.8527041673660278,
           2.2062666416168213,
           3.3472485542297363,
           2.1269195079803467,
           3.4902684688568115,
           3.284579277038574,
           2.766796112060547,
           0.14815831184387207,
           -2.284687042236328,
           -2.7698397636413574,
           -3.0757663249969482,
           -2.8254222869873047,
           -2.8589274883270264,
           -2.992159843444824,
           -3.7795963287353516,
           -3.745652675628662,
           -2.599863290786743,
           -2.1987557411193848,
           -2.1354012489318848,
           -1.3910574913024902,
           -2.612170934677124,
           -3.172098398208618,
           -3.529571056365967,
           0.671042799949646,
           -1.3291902542114258,
           -0.8811482787132263,
           1.079452395439148,
           -1.6329057216644287,
           0.44417235255241394,
           -0.05823388695716858,
           0.00623244047164917,
           -0.052414774894714355,
           0.004248321056365967,
           -0.0056989192962646484,
           -0.013330459594726562,
           0.010674655437469482,
           -0.04237467050552368,
           -0.00015121698379516602,
           -0.08322787284851074,
           -0.002183854579925537,
           -0.04353278875350952,
           -0.022877097129821777,
           0.02513974905014038,
           -0.05566352605819702,
           -0.0673677921295166,
           0.006725817918777466,
           -0.03707242012023926,
           -0.019754469394683838,
           -0.05328512191772461,
           -1.4554555416107178,
           -0.7777605652809143,
           -0.29149770736694336,
           0.10194322466850281,
           0.2084946632385254,
           0.5359100103378296,
           0.6671948432922363,
           0.7852925062179565,
           0.9204207062721252,
           0.951961100101471,
           1.054728627204895,
           1.1425319910049438,
           1.2492212057113647,
           1.2051235437393188,
           1.12996244430542,
           1.271816372871399,
           1.417203664779663,
           1.6493420600891113,
           1.6278554201126099,
           2.442072629928589,
           -0.1861388385295868
          ],
          [
           1.467992901802063,
           1.4240202903747559,
           1.6109883785247803,
           2.635714530944824,
           1.288072943687439,
           1.8345259428024292,
           2.7360472679138184,
           1.6687321662902832,
           3.048112392425537,
           3.135796070098877,
           2.614208221435547,
           -0.4899675250053406,
           -2.6558969020843506,
           -3.069894313812256,
           -2.7724292278289795,
           -2.278714179992676,
           -1.4399833679199219,
           -1.4003832340240479,
           -2.495917797088623,
           -2.5391504764556885,
           -1.305823802947998,
           -0.8747581243515015,
           -0.9754701852798462,
           -0.2750745415687561,
           -2.0938239097595215,
           -2.6766395568847656,
           -3.489718198776245,
           0.9981731176376343,
           -1.8685719966888428,
           -1.4204049110412598,
           0.9394327998161316,
           -2.031075954437256,
           0.4200311303138733,
           -0.006813943386077881,
           0.030431807041168213,
           -0.0316639244556427,
           0.038969457149505615,
           0.013846635818481445,
           0.02774772047996521,
           0.0027428269386291504,
           -0.00273209810256958,
           0.01146543025970459,
           -0.05611073970794678,
           0.029779672622680664,
           -0.01044309139251709,
           0.02301114797592163,
           0.03400161862373352,
           -0.034748971462249756,
           -0.03704273700714111,
           0.046156615018844604,
           -0.008549153804779053,
           -0.008196711540222168,
           -0.03348273038864136,
           -1.8970396518707275,
           -0.6345345377922058,
           -0.30197134613990784,
           0.25854194164276123,
           0.2552972137928009,
           0.533439576625824,
           0.6108734607696533,
           0.7222499251365662,
           0.8308112621307373,
           0.8419924974441528,
           0.9698895215988159,
           1.0274511575698853,
           1.1483007669448853,
           1.1285675764083862,
           1.0921396017074585,
           1.2816014289855957,
           1.4018129110336304,
           1.6586768627166748,
           1.6452258825302124,
           2.3985893726348877,
           -0.13432249426841736
          ],
          [
           2.836247205734253,
           2.7035045623779297,
           3.2767672538757324,
           3.8427164554595947,
           2.045149803161621,
           2.5411813259124756,
           3.4129438400268555,
           2.3134872913360596,
           3.9988789558410645,
           3.9652750492095947,
           3.863736867904663,
           1.3896428346633911,
           -1.207094669342041,
           -2.533308267593384,
           -3.9941883087158203,
           -3.886813163757324,
           -3.85115647315979,
           -4.041109561920166,
           -5.009408950805664,
           -5.468681335449219,
           -4.279221534729004,
           -4.081976413726807,
           -3.7620182037353516,
           -2.9849703311920166,
           -4.314883232116699,
           -3.9436700344085693,
           -4.266737461090088,
           -0.0005904734134674072,
           -2.1224887371063232,
           -1.437030553817749,
           1.466230869293213,
           -2.271479368209839,
           0.6267150640487671,
           0.044567763805389404,
           0.08455568552017212,
           0.05026787519454956,
           0.10549736022949219,
           0.06862300634384155,
           0.08818620443344116,
           0.12938076257705688,
           0.048086464405059814,
           0.09928953647613525,
           0.0503385066986084,
           0.08133167028427124,
           0.04286998510360718,
           0.0790289044380188,
           0.12201839685440063,
           0.056806325912475586,
           0.04981529712677002,
           0.12334784865379333,
           0.047537386417388916,
           0.06091576814651489,
           0.038947343826293945,
           -1.8148740530014038,
           -1.1483417749404907,
           -0.4924824833869934,
           -0.17742449045181274,
           0.04003250598907471,
           0.39970284700393677,
           0.5451658964157104,
           0.6570645570755005,
           0.810325026512146,
           0.8363702297210693,
           0.9835003018379211,
           1.1476659774780273,
           1.298583745956421,
           1.2381231784820557,
           1.1471455097198486,
           1.278116226196289,
           1.4207727909088135,
           1.6338555812835693,
           1.4886445999145508,
           2.352348804473877,
           -0.1283561736345291
          ],
          [
           0.9490880370140076,
           1.1243841648101807,
           1.6054657697677612,
           2.4247965812683105,
           0.7616149187088013,
           1.2998968362808228,
           1.8772581815719604,
           0.7626049518585205,
           2.149810314178467,
           1.9764020442962646,
           1.622994065284729,
           -0.7522760629653931,
           -2.1683380603790283,
           -2.041743755340576,
           -2.5689446926116943,
           -1.992119550704956,
           -0.7824934124946594,
           -0.7290583848953247,
           -1.359838604927063,
           -1.7313151359558105,
           -0.3117527961730957,
           0.3056095242500305,
           0.2484910488128662,
           0.5957779288291931,
           -1.3072360754013062,
           -2.03328275680542,
           -2.5354466438293457,
           0.8326833248138428,
           -1.1454079151153564,
           -0.7692434191703796,
           0.8212055563926697,
           -1.5769155025482178,
           0.3636653423309326,
           -0.12166231870651245,
           -0.06372573971748352,
           -0.1333722472190857,
           -0.07550755143165588,
           -0.09114402532577515,
           -0.08248886466026306,
           -0.11147737503051758,
           -0.10760873556137085,
           -0.11396515369415283,
           -0.18419665098190308,
           -0.060951560735702515,
           -0.11741271615028381,
           -0.08229169249534607,
           -0.07717093825340271,
           -0.14562228322029114,
           -0.1384410262107849,
           -0.08454567193984985,
           -0.1084287166595459,
           -0.10488969087600708,
           -0.1216546893119812,
           -1.7220302820205688,
           -0.6694830656051636,
           -0.4022132456302643,
           0.1480029821395874,
           0.14077773690223694,
           0.4739234149456024,
           0.5578457117080688,
           0.6811754107475281,
           0.7996485233306885,
           0.8397456407546997,
           0.960727334022522,
           1.0198966264724731,
           1.110634446144104,
           1.075357437133789,
           1.0437307357788086,
           1.1812869310379028,
           1.248017430305481,
           1.4357815980911255,
           1.3772259950637817,
           1.9791045188903809,
           -0.08647352457046509
          ],
          [
           0.26450222730636597,
           0.29694509506225586,
           0.7031555771827698,
           1.603123426437378,
           -0.015612602233886719,
           0.6054184436798096,
           1.5913904905319214,
           0.8491590023040771,
           3.6111109256744385,
           4.1253557205200195,
           3.8975040912628174,
           0.7143915891647339,
           -0.5210601687431335,
           0.09440010786056519,
           -0.15575873851776123,
           0.6739360094070435,
           1.2352386713027954,
           1.140089988708496,
           -0.024409905076026917,
           -0.26887035369873047,
           -0.134073868393898,
           -0.3828731179237366,
           -1.3806374073028564,
           -0.7089820504188538,
           -2.7640109062194824,
           -2.940195083618164,
           -2.8936424255371094,
           1.8355286121368408,
           -2.20035457611084,
           -1.8680870532989502,
           -0.4636874794960022,
           -2.508216381072998,
           -0.665104329586029,
           -0.7361671924591064,
           -0.6918455362319946,
           -0.717534065246582,
           -0.6937005519866943,
           -0.7252922058105469,
           -0.7233062982559204,
           -0.7023788094520569,
           -0.7129138112068176,
           -0.7144339084625244,
           -0.7342860698699951,
           -0.6563809514045715,
           -0.7272565960884094,
           -0.724166214466095,
           -0.6797993779182434,
           -0.7380291819572449,
           -0.7566883563995361,
           -0.6780602931976318,
           -0.7282252907752991,
           -0.704015851020813,
           -0.7249842882156372,
           -1.8557114601135254,
           0.8513779044151306,
           0.7126181125640869,
           1.1192374229431152,
           1.0714707374572754,
           1.1358654499053955,
           1.14671790599823,
           1.1837408542633057,
           1.2372604608535767,
           1.0761547088623047,
           1.0655239820480347,
           1.0362582206726074,
           1.0991737842559814,
           1.1103006601333618,
           1.2174749374389648,
           1.4387632608413696,
           1.672750473022461,
           1.954224705696106,
           2.033003330230713,
           2.4884450435638428,
           -0.01580873504281044
          ],
          [
           2.718395233154297,
           2.4464714527130127,
           2.6885924339294434,
           3.124124050140381,
           2.070829391479492,
           2.3935751914978027,
           2.6984143257141113,
           1.984951138496399,
           3.108698844909668,
           2.9773898124694824,
           2.4537858963012695,
           0.394189715385437,
           -1.7790062427520752,
           -2.945201873779297,
           -3.326098680496216,
           -3.028444766998291,
           -3.3610756397247314,
           -3.479750633239746,
           -4.371284484863281,
           -4.332195281982422,
           -3.133296489715576,
           -2.765139102935791,
           -2.314913272857666,
           -2.1492114067077637,
           -2.8487253189086914,
           -2.6889431476593018,
           -3.114436626434326,
           0.20093515515327454,
           -1.4081299304962158,
           -1.0990400314331055,
           1.2752268314361572,
           -1.4346332550048828,
           0.5076626539230347,
           0.03261655569076538,
           0.08810806274414062,
           0.04601418972015381,
           0.0957147479057312,
           0.08929896354675293,
           0.08301562070846558,
           0.10477617383003235,
           0.04709094762802124,
           0.10092777013778687,
           0.037216901779174805,
           0.08225280046463013,
           0.06515160202980042,
           0.07196301221847534,
           0.12343385815620422,
           0.05492269992828369,
           0.04613077640533447,
           0.10107845067977905,
           0.0657358169555664,
           0.08052915334701538,
           0.04628884792327881,
           -1.1207165718078613,
           -0.9675761461257935,
           -0.37972697615623474,
           -0.07063333690166473,
           0.0926600992679596,
           0.3943499028682709,
           0.5328007340431213,
           0.631106972694397,
           0.7582789063453674,
           0.7915734052658081,
           0.8973455429077148,
           1.0173218250274658,
           1.132109522819519,
           1.0893539190292358,
           0.9988061189651489,
           1.1274458169937134,
           1.228215217590332,
           1.3851001262664795,
           1.2882473468780518,
           1.9688748121261597,
           -0.10780078172683716
          ],
          [
           1.4429231882095337,
           1.4379563331604004,
           2.1270995140075684,
           2.9214000701904297,
           0.894109308719635,
           1.6271578073501587,
           2.3512001037597656,
           1.4979842901229858,
           3.9128336906433105,
           4.2480788230896,
           4.250124454498291,
           1.3561179637908936,
           -0.5692644715309143,
           -1.1231424808502197,
           -2.23905086517334,
           -1.7096376419067383,
           -0.9573612213134766,
           -0.9920340776443481,
           -2.280806541442871,
           -2.9574387073516846,
           -2.2251429557800293,
           -2.3738770484924316,
           -2.8439784049987793,
           -2.0938758850097656,
           -4.141599655151367,
           -3.796576738357544,
           -4.083508014678955,
           0.7594907283782959,
           -2.8658432960510254,
           -2.247645616531372,
           0.6314404010772705,
           -2.863086700439453,
           0.09104171395301819,
           -0.2761567234992981,
           -0.25165513157844543,
           -0.2746152877807617,
           -0.2388971447944641,
           -0.2828827202320099,
           -0.24326080083847046,
           -0.25023823976516724,
           -0.27614641189575195,
           -0.26595938205718994,
           -0.2781819701194763,
           -0.23033452033996582,
           -0.28321319818496704,
           -0.25828754901885986,
           -0.230353444814682,
           -0.2944261431694031,
           -0.2820739150047302,
           -0.2087799608707428,
           -0.2903900742530823,
           -0.28258854150772095,
           -0.2919332683086395,
           -2.2256107330322266,
           -0.2108745574951172,
           0.057505980134010315,
           0.4707549810409546,
           0.5453000068664551,
           0.7641597986221313,
           0.8176120519638062,
           0.8959498405456543,
           1.001562476158142,
           0.9242976903915405,
           1.0216290950775146,
           1.0960125923156738,
           1.2305119037628174,
           1.2042322158813477,
           1.2354322671890259,
           1.429711103439331,
           1.5828437805175781,
           1.8156472444534302,
           1.7117218971252441,
           2.3500499725341797,
           -0.021774381399154663
          ],
          [
           2.3803908824920654,
           2.2255523204803467,
           2.622971534729004,
           3.3153281211853027,
           1.9261515140533447,
           2.3251616954803467,
           3.1843149662017822,
           2.071077585220337,
           3.2579503059387207,
           3.0999789237976074,
           2.608579635620117,
           0.0660175085067749,
           -2.3174848556518555,
           -3.002241611480713,
           -3.6496338844299316,
           -3.3915791511535645,
           -3.1039814949035645,
           -3.4024510383605957,
           -4.268779754638672,
           -4.237220764160156,
           -2.6852922439575195,
           -2.29472279548645,
           -1.9750862121582031,
           -1.4024677276611328,
           -2.8221771717071533,
           -3.2896885871887207,
           -3.782191753387451,
           0.2755489647388458,
           -1.738809585571289,
           -1.363682746887207,
           1.5115549564361572,
           -1.6365989446640015,
           0.7865533232688904,
           0.14945656061172485,
           0.20825624465942383,
           0.159941166639328,
           0.2157467007637024,
           0.20035505294799805,
           0.1954815685749054,
           0.2220056653022766,
           0.16293400526046753,
           0.2105969786643982,
           0.13263005018234253,
           0.20663464069366455,
           0.16622686386108398,
           0.18902623653411865,
           0.23298516869544983,
           0.16467022895812988,
           0.14613497257232666,
           0.21451672911643982,
           0.1801888346672058,
           0.17694443464279175,
           0.15534502267837524,
           -1.508035659790039,
           -1.1255452632904053,
           -0.5796257257461548,
           -0.15040570497512817,
           -0.033751457929611206,
           0.3410731256008148,
           0.48330429196357727,
           0.6150319576263428,
           0.7660304307937622,
           0.8334475755691528,
           0.978179395198822,
           1.1162558794021606,
           1.2372578382492065,
           1.1977577209472656,
           1.0850605964660645,
           1.1933097839355469,
           1.3094956874847412,
           1.4879224300384521,
           1.422664761543274,
           2.13633131980896,
           -0.19346490502357483
          ],
          [
           3.6063294410705566,
           3.5087647438049316,
           3.8210573196411133,
           4.534943580627441,
           2.6139333248138428,
           3.070791244506836,
           3.9409656524658203,
           2.780907154083252,
           4.429452896118164,
           4.349694728851318,
           3.882887363433838,
           1.1736446619033813,
           -2.0858631134033203,
           -3.757204532623291,
           -5.075798988342285,
           -4.885391712188721,
           -5.121917724609375,
           -5.287266731262207,
           -6.191844463348389,
           -6.941442489624023,
           -5.456485748291016,
           -4.923657417297363,
           -4.035333156585693,
           -3.3742835521698,
           -4.679654121398926,
           -4.653852462768555,
           -5.406699180603027,
           -0.4353608191013336,
           -2.426649808883667,
           -1.687938928604126,
           2.200406312942505,
           -2.5491485595703125,
           1.1486473083496094,
           0.3894190788269043,
           0.430108904838562,
           0.37934714555740356,
           0.45326370000839233,
           0.4133117198944092,
           0.4415154457092285,
           0.48248815536499023,
           0.3865050673484802,
           0.4597151279449463,
           0.3746180534362793,
           0.4048336148262024,
           0.3730262219905853,
           0.4361656904220581,
           0.4568822979927063,
           0.39620065689086914,
           0.39721399545669556,
           0.4800781011581421,
           0.38672399520874023,
           0.3985574245452881,
           0.36272376775741577,
           -2.180414915084839,
           -1.8405365943908691,
           -0.9196662306785583,
           -0.5695436000823975,
           -0.30815237760543823,
           0.12339219450950623,
           0.29715168476104736,
           0.43833404779434204,
           0.6354689598083496,
           0.7356787323951721,
           0.9576636552810669,
           1.1824166774749756,
           1.3708689212799072,
           1.3032838106155396,
           1.138504147529602,
           1.2600895166397095,
           1.3910069465637207,
           1.650609016418457,
           1.4987174272537231,
           2.632974624633789,
           -0.1880958080291748
          ],
          [
           3.4198355674743652,
           3.220268964767456,
           3.5052897930145264,
           3.929476737976074,
           2.452962636947632,
           2.7475686073303223,
           3.3279707431793213,
           2.417062759399414,
           3.8456099033355713,
           3.713210105895996,
           3.409212827682495,
           1.2463303804397583,
           -1.707628846168518,
           -3.2182905673980713,
           -4.440030097961426,
           -4.374148368835449,
           -4.995173931121826,
           -5.239453315734863,
           -6.096530914306641,
           -6.5231614112854,
           -5.038399696350098,
           -4.432704925537109,
           -3.4575490951538086,
           -2.9355576038360596,
           -3.8791584968566895,
           -3.8673126697540283,
           -4.4457502365112305,
           -0.435532808303833,
           -2.0737781524658203,
           -1.602459192276001,
           2.0583794116973877,
           -1.8980743885040283,
           1.0193747282028198,
           0.306246817111969,
           0.3649771213531494,
           0.32535892724990845,
           0.38060152530670166,
           0.3584643602371216,
           0.3721896708011627,
           0.4078414738178253,
           0.3165225386619568,
           0.3877723217010498,
           0.31287455558776855,
           0.34839755296707153,
           0.32770785689353943,
           0.3562331795692444,
           0.3988824188709259,
           0.3428930640220642,
           0.33345741033554077,
           0.3933704197406769,
           0.34067434072494507,
           0.34730568528175354,
           0.3151407241821289,
           -1.5279288291931152,
           -1.6425089836120605,
           -0.777641236782074,
           -0.5399348735809326,
           -0.2679651379585266,
           0.1241115927696228,
           0.29425129294395447,
           0.4209614098072052,
           0.6059392690658569,
           0.7047904133796692,
           0.8794745206832886,
           1.0823014974594116,
           1.2482407093048096,
           1.1910796165466309,
           1.0304405689239502,
           1.1134155988693237,
           1.2287328243255615,
           1.3916136026382446,
           1.2455804347991943,
           2.1238009929656982,
           -0.22819994390010834
          ],
          [
           17.28215980529785,
           15.340339660644531,
           13.790552139282227,
           12.543415069580078,
           11.447537422180176,
           10.690922737121582,
           8.630184173583984,
           9.098859786987305,
           9.747894287109375,
           9.814270973205566,
           8.558475494384766,
           8.519590377807617,
           -1.1667442321777344,
           -10.207611083984375,
           -15.001089096069336,
           -16.317129135131836,
           -25.7569580078125,
           -25.880050659179688,
           -26.73895263671875,
           -28.22213363647461,
           -28.078041076660156,
           -28.01363754272461,
           -21.50812530517578,
           -22.131210327148438,
           -17.194927215576172,
           -10.798171043395996,
           -9.65932846069336,
           -6.0647783279418945,
           -4.082642555236816,
           -4.4164137840271,
           6.359716415405273,
           -2.911043643951416,
           2.784005880355835,
           2.3736557960510254,
           2.329195022583008,
           2.4533891677856445,
           2.56801176071167,
           2.518158197402954,
           2.465939521789551,
           2.946148157119751,
           2.3963489532470703,
           2.8235979080200195,
           2.79396915435791,
           2.265800714492798,
           2.3711910247802734,
           2.476179361343384,
           2.669874668121338,
           2.6862785816192627,
           2.5975899696350098,
           2.7102625370025635,
           2.4430506229400635,
           2.4731035232543945,
           2.376002073287964,
           0.018290281295776367,
           -6.109148025512695,
           -2.364802360534668,
           -4.034119606018066,
           -2.501331329345703,
           -2.158318281173706,
           -1.6750205755233765,
           -1.7627642154693604,
           -1.4311013221740723,
           -1.1645183563232422,
           -0.7446832656860352,
           0.23674511909484863,
           0.7652103900909424,
           0.7017297744750977,
           -0.021097660064697266,
           0.05833005905151367,
           0.5165469646453857,
           0.9750962257385254,
           0.5695565938949585,
           2.9252982139587402,
           -0.03951609134674072
          ],
          [
           4.172664642333984,
           3.9463467597961426,
           4.126254081726074,
           3.8883132934570312,
           3.3467154502868652,
           3.3316867351531982,
           2.658430814743042,
           3.525956392288208,
           4.490346431732178,
           3.7967324256896973,
           3.4856903553009033,
           4.326330661773682,
           3.1351206302642822,
           1.3570410013198853,
           -1.3039326667785645,
           -0.8237278461456299,
           -2.5782673358917236,
           -2.832313060760498,
           -3.852029800415039,
           -5.122675895690918,
           -7.610736846923828,
           -9.375701904296875,
           -10.514303207397461,
           -11.203304290771484,
           -9.377294540405273,
           -5.138565540313721,
           -2.5069103240966797,
           -1.0421723127365112,
           -0.7811121940612793,
           -0.6488075256347656,
           -0.5250596404075623,
           -1.3174099922180176,
           -0.8277533054351807,
           -0.29098451137542725,
           -0.39006495475769043,
           -0.32770413160324097,
           -0.3352304697036743,
           -0.37969446182250977,
           -0.3370239734649658,
           -0.2763490676879883,
           -0.36786943674087524,
           -0.28738173842430115,
           -0.17279261350631714,
           -0.4285127520561218,
           -0.37320858240127563,
           -0.37594521045684814,
           -0.2916662096977234,
           -0.3696487545967102,
           -0.2926020622253418,
           -0.2423526644706726,
           -0.44014132022857666,
           -0.30803927779197693,
           -0.3630223870277405,
           0.2586773633956909,
           0.8950638771057129,
           1.2885558605194092,
           0.6543101668357849,
           0.9441061615943909,
           0.8580819368362427,
           0.8979181051254272,
           0.7534545660018921,
           0.6463278532028198,
           0.44295933842658997,
           0.2577364444732666,
           0.2607722878456116,
           0.18123239278793335,
           0.19404545426368713,
           0.2712453305721283,
           0.4038221836090088,
           0.5743557214736938,
           0.7004780173301697,
           0.560462236404419,
           1.0011849403381348,
           0.5480009317398071
          ],
          [
           2.1270129680633545,
           1.939509630203247,
           2.3773081302642822,
           2.067207098007202,
           2.2212443351745605,
           2.141300916671753,
           1.339264154434204,
           2.463021755218506,
           2.948092460632324,
           2.1571784019470215,
           1.9091719388961792,
           3.3453879356384277,
           2.561605453491211,
           1.9119656085968018,
           -0.10591673851013184,
           0.42871057987213135,
           -0.5856403112411499,
           -1.4066293239593506,
           -2.5058696269989014,
           -3.038484811782837,
           -4.4765214920043945,
           -5.761295318603516,
           -6.723872184753418,
           -7.494227409362793,
           -6.514499664306641,
           -4.555474758148193,
           -2.8935275077819824,
           -1.5950895547866821,
           -1.9946374893188477,
           -2.0865676403045654,
           0.538823127746582,
           -0.3420538306236267,
           0.3557397425174713,
           0.2976050078868866,
           0.2796521782875061,
           0.3405238389968872,
           0.2703826427459717,
           0.2714006304740906,
           0.3172900080680847,
           0.27564021944999695,
           0.23832213878631592,
           0.30330580472946167,
           0.37073075771331787,
           0.24011093378067017,
           0.30846497416496277,
           0.2359296977519989,
           0.3189602196216583,
           0.25179702043533325,
           0.3368249535560608,
           0.31567370891571045,
           0.2533921003341675,
           0.31112152338027954,
           0.28896963596343994,
           0.6240599155426025,
           0.5374233722686768,
           0.7796022891998291,
           0.3681686818599701,
           0.48445743322372437,
           0.47213560342788696,
           0.4717521667480469,
           0.4085721969604492,
           0.3528830111026764,
           0.30066433548927307,
           0.14407524466514587,
           0.1128787100315094,
           0.017115890979766846,
           0.05041177570819855,
           0.06220974773168564,
           -0.011869102716445923,
           -0.007085889577865601,
           -0.23916521668434143,
           -0.3504728376865387,
           -0.5347436666488647,
           0.1732930690050125
          ],
          [
           0.22528111934661865,
           0.06805619597434998,
           0.536147952079773,
           0.21285763382911682,
           0.791118323802948,
           0.8213809728622437,
           0.602313756942749,
           1.9506795406341553,
           2.298452377319336,
           1.8521676063537598,
           1.869001865386963,
           2.974449634552002,
           2.593385696411133,
           1.8460841178894043,
           0.8983654975891113,
           1.1236375570297241,
           0.48762863874435425,
           -0.47269898653030396,
           -1.8376432657241821,
           -1.623927354812622,
           -2.6486454010009766,
           -3.4618186950683594,
           -4.37468957901001,
           -4.886897087097168,
           -4.341472625732422,
           -3.196256399154663,
           -2.5915210247039795,
           -1.400205135345459,
           -2.4962143898010254,
           -2.255375862121582,
           0.6351494193077087,
           -0.424638032913208,
           0.6516281366348267,
           0.5106385946273804,
           0.5054657459259033,
           0.5859155654907227,
           0.4887717664241791,
           0.4958913028240204,
           0.5651564598083496,
           0.4724668860435486,
           0.4603798985481262,
           0.5190571546554565,
           0.5682396292686462,
           0.4650541841983795,
           0.5585205554962158,
           0.4638327360153198,
           0.5236510038375854,
           0.4948638379573822,
           0.5554776191711426,
           0.528680145740509,
           0.49758967757225037,
           0.5179510712623596,
           0.5112232565879822,
           0.3692260980606079,
           0.5091515183448792,
           0.5654242038726807,
           0.3281775116920471,
           0.3388341963291168,
           0.2205142378807068,
           0.1504727602005005,
           0.08846258372068405,
           0.01071670651435852,
           -0.04489446431398392,
           -0.1906140297651291,
           -0.2697923183441162,
           -0.3397664427757263,
           -0.3046291172504425,
           -0.2805536985397339,
           -0.4121752381324768,
           -0.43681907653808594,
           -0.7367010712623596,
           -0.7582467198371887,
           -1.0139775276184082,
           -0.07146565616130829
          ],
          [
           -0.7303197979927063,
           -0.8214879631996155,
           -0.3402688205242157,
           -0.6465939283370972,
           -0.037780970335006714,
           0.09174087643623352,
           0.3212137222290039,
           1.7717275619506836,
           2.1756749153137207,
           1.8754223585128784,
           1.9166779518127441,
           3.05389666557312,
           2.942667007446289,
           2.493008852005005,
           1.778334617614746,
           1.620872139930725,
           1.0631365776062012,
           0.02864980697631836,
           -1.2404659986495972,
           -1.1344760656356812,
           -1.805845022201538,
           -2.6820425987243652,
           -3.741591453552246,
           -3.980160713195801,
           -3.7601728439331055,
           -3.672466516494751,
           -3.457357406616211,
           -1.8361477851867676,
           -3.466691255569458,
           -3.1051900386810303,
           0.992382287979126,
           -0.7717515826225281,
           1.1212302446365356,
           0.7811890244483948,
           0.7768079042434692,
           0.8758560419082642,
           0.752886176109314,
           0.7526463270187378,
           0.8411056995391846,
           0.7230457663536072,
           0.7256449460983276,
           0.7773889899253845,
           0.8320314288139343,
           0.740626871585846,
           0.8368285894393921,
           0.7314980626106262,
           0.770424485206604,
           0.7677353620529175,
           0.8351147174835205,
           0.7895623445510864,
           0.7755112051963806,
           0.7679464817047119,
           0.7748137712478638,
           -0.08268234133720398,
           0.32883816957473755,
           0.3107704818248749,
           0.09010770916938782,
           0.10680869221687317,
           -0.05364885926246643,
           -0.15677812695503235,
           -0.1914360225200653,
           -0.23863370716571808,
           -0.26528671383857727,
           -0.35272371768951416,
           -0.39687639474868774,
           -0.4383348226547241,
           -0.4115087389945984,
           -0.39214181900024414,
           -0.5963279008865356,
           -0.6956439018249512,
           -1.0678033828735352,
           -1.1107532978057861,
           -1.4795424938201904,
           -0.21647244691848755
          ],
          [
           -1.5743870735168457,
           -1.6484315395355225,
           -1.1818804740905762,
           -1.3998161554336548,
           -0.8412216901779175,
           -0.551729679107666,
           0.312313437461853,
           1.8060194253921509,
           2.2059688568115234,
           1.890990972518921,
           2.1763219833374023,
           3.13747501373291,
           3.144418954849243,
           3.039029121398926,
           2.378298759460449,
           1.711248517036438,
           1.4888920783996582,
           0.40996670722961426,
           -1.0009781122207642,
           -1.1099923849105835,
           -1.3261165618896484,
           -2.1122512817382812,
           -3.42287278175354,
           -3.1479763984680176,
           -3.410398483276367,
           -4.041750907897949,
           -3.962134599685669,
           -1.9915977716445923,
           -4.176451683044434,
           -3.7036008834838867,
           1.1803593635559082,
           -1.0349746942520142,
           1.463528037071228,
           1.02260422706604,
           1.0121729373931885,
           1.1318600177764893,
           0.9933908581733704,
           0.9863890409469604,
           1.0993714332580566,
           0.9671407341957092,
           0.9655935764312744,
           1.0173472166061401,
           1.076188564300537,
           0.981184184551239,
           1.0729516744613647,
           0.9750081300735474,
           0.9969868659973145,
           1.0216118097305298,
           1.0824997425079346,
           1.0328786373138428,
           1.014428973197937,
           0.9841917753219604,
           1.0113214254379272,
           -0.43032336235046387,
           0.32374852895736694,
           0.1614983081817627,
           -0.084787517786026,
           -0.11456426978111267,
           -0.31634750962257385,
           -0.4746110141277313,
           -0.5135337710380554,
           -0.5615219473838806,
           -0.5747810006141663,
           -0.6265139579772949,
           -0.6589673161506653,
           -0.6858355402946472,
           -0.6426224708557129,
           -0.6256020069122314,
           -0.8876684904098511,
           -0.99917072057724,
           -1.3990027904510498,
           -1.4244378805160522,
           -1.8401775360107422,
           -0.36136767268180847
          ],
          [
           -2.436384916305542,
           -2.430795669555664,
           -1.9548084735870361,
           -2.0610384941101074,
           -1.4823732376098633,
           -1.1381772756576538,
           0.1388975977897644,
           1.6658464670181274,
           2.261333465576172,
           2.1369643211364746,
           2.4051029682159424,
           3.318350076675415,
           3.4769539833068848,
           3.7807884216308594,
           3.289090156555176,
           2.444916248321533,
           2.2844080924987793,
           1.0991801023483276,
           -0.21626561880111694,
           -0.3037329316139221,
           -0.5715583562850952,
           -1.5913037061691284,
           -3.1862401962280273,
           -2.6525931358337402,
           -3.255467653274536,
           -4.683344841003418,
           -4.762143135070801,
           -2.215963363647461,
           -5.1250200271606445,
           -4.578766345977783,
           1.2944990396499634,
           -1.4402358531951904,
           1.7193522453308105,
           1.1916528940200806,
           1.177949070930481,
           1.3213664293289185,
           1.1517250537872314,
           1.1429117918014526,
           1.2615090608596802,
           1.1270546913146973,
           1.1318562030792236,
           1.1817989349365234,
           1.242168664932251,
           1.1546885967254639,
           1.2438924312591553,
           1.1350477933883667,
           1.1498265266418457,
           1.190425157546997,
           1.252335548400879,
           1.197885274887085,
           1.1847888231277466,
           1.1273646354675293,
           1.1692332029342651,
           -0.8380328416824341,
           0.3530232608318329,
           0.0950542688369751,
           -0.1440637707710266,
           -0.17932403087615967,
           -0.4513641893863678,
           -0.6425298452377319,
           -0.6660576462745667,
           -0.7014573812484741,
           -0.7106596231460571,
           -0.7295604944229126,
           -0.7470963001251221,
           -0.7516945600509644,
           -0.7144690155982971,
           -0.6854397058486938,
           -0.9907891750335693,
           -1.1440120935440063,
           -1.5839322805404663,
           -1.5961400270462036,
           -2.1295993328094482,
           -0.45092886686325073
          ],
          [
           -3.3203299045562744,
           -3.3822875022888184,
           -2.9775707721710205,
           -3.0824646949768066,
           -2.3732123374938965,
           -1.9681912660598755,
           -0.46584248542785645,
           1.1991254091262817,
           1.8329218626022339,
           1.8907326459884644,
           2.3395533561706543,
           3.1808621883392334,
           3.669044017791748,
           4.080143451690674,
           4.128244400024414,
           2.8408117294311523,
           2.718111038208008,
           1.6408145427703857,
           0.4197460412979126,
           0.3619094491004944,
           0.38692498207092285,
           -0.491352379322052,
           -2.1597964763641357,
           -1.4171929359436035,
           -2.163478374481201,
           -4.101728439331055,
           -4.494288444519043,
           -2.174922466278076,
           -5.561106204986572,
           -4.971979141235352,
           1.221137523651123,
           -1.610414743423462,
           1.7685397863388062,
           1.2989447116851807,
           1.2633304595947266,
           1.4334044456481934,
           1.248996376991272,
           1.2360844612121582,
           1.3707435131072998,
           1.2211880683898926,
           1.2370654344558716,
           1.2775304317474365,
           1.3521530628204346,
           1.255845546722412,
           1.350898265838623,
           1.2377479076385498,
           1.2370624542236328,
           1.3091694116592407,
           1.3586609363555908,
           1.2985845804214478,
           1.2907309532165527,
           1.2003111839294434,
           1.2660208940505981,
           -1.034733772277832,
           0.4135688543319702,
           0.023115038871765137,
           -0.25193989276885986,
           -0.30014729499816895,
           -0.6762357354164124,
           -0.9214327335357666,
           -0.9545301198959351,
           -1.004706859588623,
           -1.0272960662841797,
           -1.021096110343933,
           -1.0444940328598022,
           -1.0131009817123413,
           -0.9733710289001465,
           -0.9175654649734497,
           -1.2318835258483887,
           -1.4210786819458008,
           -1.869408130645752,
           -1.8751909732818604,
           -2.5265469551086426,
           -0.5316290855407715
          ],
          [
           -4.3393025398254395,
           -4.284849643707275,
           -3.9001095294952393,
           -4.057273864746094,
           -3.3747777938842773,
           -3.0839459896087646,
           -1.4744524955749512,
           0.27367424964904785,
           1.0397322177886963,
           1.4803160429000854,
           2.202324390411377,
           3.07074236869812,
           3.981130838394165,
           4.933344841003418,
           5.013573169708252,
           3.730465888977051,
           3.7935914993286133,
           2.6354517936706543,
           1.5060945749282837,
           1.367815613746643,
           1.2927743196487427,
           0.62874436378479,
           -0.709829568862915,
           0.19458287954330444,
           -0.9093809723854065,
           -3.2305562496185303,
           -3.8265795707702637,
           -1.9516934156417847,
           -5.289482593536377,
           -4.84591007232666,
           0.9725003838539124,
           -1.4286595582962036,
           1.6335830688476562,
           1.213092565536499,
           1.1932851076126099,
           1.3589919805526733,
           1.173264741897583,
           1.1604344844818115,
           1.285339593887329,
           1.1420583724975586,
           1.1674139499664307,
           1.192645788192749,
           1.2721189260482788,
           1.195868968963623,
           1.2763276100158691,
           1.166020393371582,
           1.145538330078125,
           1.2507915496826172,
           1.2830182313919067,
           1.207619071006775,
           1.225955605506897,
           1.1380101442337036,
           1.2028777599334717,
           -0.9621031880378723,
           0.6222464442253113,
           0.030727624893188477,
           -0.2616875469684601,
           -0.3812330365180969,
           -0.8173375129699707,
           -1.096004843711853,
           -1.153905987739563,
           -1.2149271965026855,
           -1.238301396369934,
           -1.2550630569458008,
           -1.2991149425506592,
           -1.2964141368865967,
           -1.2228302955627441,
           -1.1503738164901733,
           -1.5063996315002441,
           -1.6539140939712524,
           -2.1108500957489014,
           -2.0171632766723633,
           -2.7978978157043457,
           -0.5986636877059937
          ],
          [
           -4.5998053550720215,
           -4.623675346374512,
           -4.262961387634277,
           -4.423980712890625,
           -3.7653069496154785,
           -3.4232594966888428,
           -2.1043143272399902,
           -0.36958616971969604,
           0.5207473039627075,
           1.029428243637085,
           1.9501829147338867,
           2.7328267097473145,
           3.659472942352295,
           4.623697757720947,
           5.025082588195801,
           3.601583480834961,
           3.724468231201172,
           2.7706246376037598,
           1.8873357772827148,
           1.6317623853683472,
           2.069226026535034,
           1.7245457172393799,
           0.5289574265480042,
           1.450547695159912,
           0.11826550960540771,
           -2.627978801727295,
           -3.6421172618865967,
           -1.9689841270446777,
           -5.831770896911621,
           -5.431036949157715,
           1.1676548719406128,
           -1.5224088430404663,
           1.7740418910980225,
           1.327160120010376,
           1.2896095514297485,
           1.470940351486206,
           1.2751572132110596,
           1.2656943798065186,
           1.4000976085662842,
           1.2529499530792236,
           1.2837135791778564,
           1.300235629081726,
           1.3757822513580322,
           1.3120630979537964,
           1.3881475925445557,
           1.2806953191757202,
           1.2477397918701172,
           1.3768751621246338,
           1.3966798782348633,
           1.3139744997024536,
           1.3528306484222412,
           1.212078332901001,
           1.3090189695358276,
           -1.128799319267273,
           0.37967538833618164,
           -0.17561089992523193,
           -0.4619354009628296,
           -0.5635133981704712,
           -1.0122628211975098,
           -1.3116562366485596,
           -1.348801851272583,
           -1.3858840465545654,
           -1.3839325904846191,
           -1.337448000907898,
           -1.3559409379959106,
           -1.2815545797348022,
           -1.2229676246643066,
           -1.1631524562835693,
           -1.5105668306350708,
           -1.722670078277588,
           -2.2029600143432617,
           -2.18074369430542,
           -3.101539373397827,
           -0.6449253559112549
          ],
          [
           -4.771309852600098,
           -4.949685573577881,
           -4.490187644958496,
           -4.864164352416992,
           -4.002643585205078,
           -3.553736925125122,
           -2.7883200645446777,
           -1.0537889003753662,
           -0.40936386585235596,
           0.16905689239501953,
           1.1023662090301514,
           1.9794902801513672,
           3.277174472808838,
           4.351612091064453,
           5.024661540985107,
           3.7277145385742188,
           3.892404556274414,
           3.0581908226013184,
           2.4407782554626465,
           2.4849038124084473,
           3.493697166442871,
           3.121762275695801,
           2.0248756408691406,
           2.669720411300659,
           1.2922320365905762,
           -1.740208387374878,
           -3.0749518871307373,
           -2.0340235233306885,
           -6.04488468170166,
           -5.905900955200195,
           1.320658564567566,
           -1.1080994606018066,
           1.9435131549835205,
           1.4034823179244995,
           1.381481409072876,
           1.5696450471878052,
           1.3545918464660645,
           1.3721460103988647,
           1.4733622074127197,
           1.3489630222320557,
           1.3796671628952026,
           1.3943719863891602,
           1.460510492324829,
           1.431607961654663,
           1.4924607276916504,
           1.368718147277832,
           1.350411295890808,
           1.4870706796646118,
           1.4850744009017944,
           1.3798067569732666,
           1.4775686264038086,
           1.2936022281646729,
           1.415592908859253,
           -0.8611599206924438,
           0.1848682165145874,
           -0.38630425930023193,
           -0.5865371227264404,
           -0.7114354372024536,
           -1.1476033926010132,
           -1.4378118515014648,
           -1.452674150466919,
           -1.4612782001495361,
           -1.4384046792984009,
           -1.3486120700836182,
           -1.3219678401947021,
           -1.218510389328003,
           -1.1669498682022095,
           -1.142510175704956,
           -1.5146397352218628,
           -1.7827728986740112,
           -2.3413949012756348,
           -2.368558406829834,
           -3.5603585243225098,
           -0.6545262336730957
          ],
          [
           -4.420719146728516,
           -4.652647972106934,
           -4.284970760345459,
           -4.719839572906494,
           -3.5786871910095215,
           -3.19834303855896,
           -3.112416982650757,
           -1.4653466939926147,
           -1.0045721530914307,
           -0.18681609630584717,
           0.5691919922828674,
           1.3286666870117188,
           2.2463340759277344,
           3.5642447471618652,
           4.506217002868652,
           3.8273870944976807,
           3.8666577339172363,
           2.9666342735290527,
           2.50496244430542,
           2.8419029712677,
           4.134151935577393,
           3.7105913162231445,
           3.0761001110076904,
           3.4991259574890137,
           1.8345057964324951,
           -1.7130463123321533,
           -3.6211836338043213,
           -2.2669320106506348,
           -6.745843887329102,
           -7.091504096984863,
           1.940981149673462,
           -0.7669451236724854,
           2.4267618656158447,
           1.6430776119232178,
           1.6538729667663574,
           1.8331212997436523,
           1.599331021308899,
           1.6550896167755127,
           1.7089698314666748,
           1.6060941219329834,
           1.6368390321731567,
           1.6640418767929077,
           1.693918228149414,
           1.7181055545806885,
           1.7641575336456299,
           1.6229546070098877,
           1.6187721490859985,
           1.7531026601791382,
           1.7359931468963623,
           1.6173006296157837,
           1.7767866849899292,
           1.5489510297775269,
           1.6802561283111572,
           -0.636177122592926,
           -0.2652473449707031,
           -0.6923620700836182,
           -0.7513629198074341,
           -0.9149391651153564,
           -1.2776343822479248,
           -1.5305538177490234,
           -1.4966914653778076,
           -1.4392787218093872,
           -1.342733383178711,
           -1.1930228471755981,
           -1.1037089824676514,
           -0.9721336364746094,
           -0.907609760761261,
           -0.967373788356781,
           -1.381239652633667,
           -1.6799967288970947,
           -2.3287336826324463,
           -2.3591485023498535,
           -3.7841856479644775,
           -0.7148122787475586
          ],
          [
           -4.510971546173096,
           -4.855837345123291,
           -4.455738067626953,
           -5.1189422607421875,
           -3.560030698776245,
           -3.356804609298706,
           -3.7111456394195557,
           -2.043091058731079,
           -2.1483874320983887,
           -1.2628426551818848,
           -0.4054313004016876,
           0.5895853042602539,
           1.6576942205429077,
           2.911048173904419,
           4.249354362487793,
           3.6095707416534424,
           3.6230812072753906,
           2.683598518371582,
           2.351558208465576,
           3.2283973693847656,
           4.949397087097168,
           4.8362860679626465,
           4.6755170822143555,
           4.935656547546387,
           3.3967084884643555,
           -0.28719305992126465,
           -2.5714497566223145,
           -2.2410905361175537,
           -6.251788139343262,
           -6.926681041717529,
           2.1257832050323486,
           0.010275483131408691,
           2.536238193511963,
           1.7075549364089966,
           1.7390949726104736,
           1.9115428924560547,
           1.680832028388977,
           1.7606163024902344,
           1.775434970855713,
           1.6765347719192505,
           1.7166311740875244,
           1.7435085773468018,
           1.7653778791427612,
           1.8177545070648193,
           1.868723750114441,
           1.7012171745300293,
           1.7085736989974976,
           1.852707862854004,
           1.8087527751922607,
           1.670308232307434,
           1.8868534564971924,
           1.637396216392517,
           1.773097276687622,
           -0.07149314880371094,
           -0.519521951675415,
           -0.9183053970336914,
           -0.9290982484817505,
           -1.110660195350647,
           -1.4414925575256348,
           -1.6718508005142212,
           -1.625520944595337,
           -1.5586079359054565,
           -1.421014666557312,
           -1.2715777158737183,
           -1.175553321838379,
           -1.0482738018035889,
           -0.9720410704612732,
           -1.065400242805481,
           -1.504071831703186,
           -1.8311725854873657,
           -2.557385206222534,
           -2.5741608142852783,
           -4.207790374755859,
           -0.7788643836975098
          ],
          [
           -4.091250419616699,
           -4.381361961364746,
           -4.300774097442627,
           -4.774044513702393,
           -2.9177327156066895,
           -2.96110200881958,
           -3.1748759746551514,
           -2.146479368209839,
           -3.3211634159088135,
           -2.5783681869506836,
           -1.8355357646942139,
           -0.9040324687957764,
           -0.04863142967224121,
           1.336742639541626,
           3.0925498008728027,
           2.4867045879364014,
           2.913851022720337,
           2.136899709701538,
           2.2758021354675293,
           3.3324685096740723,
           5.128973960876465,
           5.272972106933594,
           5.611837387084961,
           6.119154930114746,
           4.743515491485596,
           0.9675220251083374,
           -1.4664814472198486,
           -1.9542484283447266,
           -4.3966498374938965,
           -5.277584075927734,
           2.1000938415527344,
           0.9751949906349182,
           2.54476261138916,
           1.7582107782363892,
           1.785421371459961,
           1.9082067012786865,
           1.7326596975326538,
           1.8226677179336548,
           1.802927017211914,
           1.7250229120254517,
           1.764723539352417,
           1.7862529754638672,
           1.7720820903778076,
           1.8453974723815918,
           1.882140040397644,
           1.7600152492523193,
           1.7465434074401855,
           1.878759503364563,
           1.8243739604949951,
           1.7017769813537598,
           1.9159643650054932,
           1.6835664510726929,
           1.807579517364502,
           0.40058961510658264,
           -0.8634846210479736,
           -1.2213811874389648,
           -1.1264687776565552,
           -1.393125057220459,
           -1.6102055311203003,
           -1.7923718690872192,
           -1.7294143438339233,
           -1.6747758388519287,
           -1.4651557207107544,
           -1.305505633354187,
           -1.2281956672668457,
           -1.150562047958374,
           -1.0619193315505981,
           -1.2100396156311035,
           -1.6338310241699219,
           -1.9211337566375732,
           -2.5476768016815186,
           -2.4661173820495605,
           -3.9132132530212402,
           -0.7418177127838135
          ],
          [
           -3.791691303253174,
           -4.054939270019531,
           -4.1643829345703125,
           -4.6398773193359375,
           -2.5816338062286377,
           -2.804429054260254,
           -3.0559964179992676,
           -2.278773069381714,
           -4.405416011810303,
           -3.789057731628418,
           -2.9437308311462402,
           -1.754586100578308,
           -0.7642898559570312,
           0.10563147813081741,
           2.143627166748047,
           1.3664262294769287,
           2.1705379486083984,
           1.6739332675933838,
           2.000288486480713,
           3.2173614501953125,
           4.80684757232666,
           5.338640213012695,
           6.166075229644775,
           6.673335552215576,
           5.849742889404297,
           2.9592504501342773,
           0.5644890069961548,
           -1.5410621166229248,
           -2.1294326782226562,
           -2.925240993499756,
           1.6463358402252197,
           1.8050129413604736,
           2.1262731552124023,
           1.6086094379425049,
           1.610355019569397,
           1.6947863101959229,
           1.5825518369674683,
           1.6614584922790527,
           1.6433154344558716,
           1.5538808107376099,
           1.6052525043487549,
           1.6102808713912964,
           1.598303198814392,
           1.6453709602355957,
           1.6943490505218506,
           1.6155461072921753,
           1.5709868669509888,
           1.7012015581130981,
           1.6443240642547607,
           1.538946270942688,
           1.722011923789978,
           1.5317686796188354,
           1.6373602151870728,
           0.9471490383148193,
           -0.9225372076034546,
           -1.2805310487747192,
           -1.1804749965667725,
           -1.500773549079895,
           -1.682281732559204,
           -1.8501663208007812,
           -1.823773741722107,
           -1.8322924375534058,
           -1.6192644834518433,
           -1.5040297508239746,
           -1.4884648323059082,
           -1.4640226364135742,
           -1.3669428825378418,
           -1.504704236984253,
           -1.8720173835754395,
           -2.11281681060791,
           -2.6258111000061035,
           -2.480729103088379,
           -3.6733908653259277,
           -0.6177127361297607
          ],
          [
           -3.486602306365967,
           -3.5567128658294678,
           -3.735724449157715,
           -3.9922709465026855,
           -1.8879495859146118,
           -2.1951472759246826,
           -1.9289029836654663,
           -2.0854251384735107,
           -5.316860198974609,
           -5.091314792633057,
           -4.276004791259766,
           -3.141298532485962,
           -2.274671792984009,
           -1.5304473638534546,
           0.5381972789764404,
           -0.3461458683013916,
           1.2224105596542358,
           0.9817651510238647,
           1.8425912857055664,
           3.1906683444976807,
           4.916399002075195,
           5.630548000335693,
           6.602773189544678,
           7.458260536193848,
           6.794383525848389,
           4.145058631896973,
           1.6838417053222656,
           -1.2046326398849487,
           0.1419684886932373,
           -0.5063514709472656,
           1.5044180154800415,
           2.580288887023926,
           2.0816261768341064,
           1.5909662246704102,
           1.5783418416976929,
           1.6133668422698975,
           1.5598784685134888,
           1.6417434215545654,
           1.6073039770126343,
           1.518530011177063,
           1.5705193281173706,
           1.5653223991394043,
           1.5264861583709717,
           1.5874719619750977,
           1.626358985900879,
           1.5982999801635742,
           1.5318658351898193,
           1.6312050819396973,
           1.5834918022155762,
           1.4952969551086426,
           1.6520668268203735,
           1.4913933277130127,
           1.5884933471679688,
           1.1679428815841675,
           -1.2949461936950684,
           -1.6026993989944458,
           -1.3145616054534912,
           -1.7204170227050781,
           -1.740812063217163,
           -1.8586488962173462,
           -1.8081320524215698,
           -1.8408070802688599,
           -1.5865106582641602,
           -1.4726827144622803,
           -1.5009080171585083,
           -1.5310273170471191,
           -1.4500596523284912,
           -1.6051054000854492,
           -1.9305524826049805,
           -2.141464948654175,
           -2.511281967163086,
           -2.294027328491211,
           -3.1013388633728027,
           -0.5293757915496826
          ],
          [
           -2.3440940380096436,
           -2.1424813270568848,
           -2.257932186126709,
           -2.5652318000793457,
           -1.0360276699066162,
           -1.5545687675476074,
           -1.0198895931243896,
           -1.9130256175994873,
           -5.40986967086792,
           -5.3892364501953125,
           -4.499008655548096,
           -3.071162700653076,
           -2.4739480018615723,
           -1.8901925086975098,
           -1.2407879829406738,
           -2.080165386199951,
           -0.49452638626098633,
           -0.7210991382598877,
           0.775192141532898,
           1.4841796159744263,
           3.005181312561035,
           3.754920721054077,
           5.399356365203857,
           6.401943683624268,
           5.978410720825195,
           3.965099334716797,
           1.8971871137619019,
           -1.4907479286193848,
           2.0002923011779785,
           1.4023916721343994,
           1.6212432384490967,
           2.913546562194824,
           2.0479207038879395,
           1.4796257019042969,
           1.475327968597412,
           1.4696524143218994,
           1.4578675031661987,
           1.5373904705047607,
           1.4791594743728638,
           1.4573372602462769,
           1.4560801982879639,
           1.467496633529663,
           1.4004755020141602,
           1.458455204963684,
           1.4683353900909424,
           1.503272533416748,
           1.4255088567733765,
           1.5095465183258057,
           1.466830849647522,
           1.390511393547058,
           1.5046937465667725,
           1.4014365673065186,
           1.474017858505249,
           1.2546119689941406,
           -1.8261631727218628,
           -1.9251481294631958,
           -1.662545084953308,
           -2.0103163719177246,
           -1.8470858335494995,
           -1.8725390434265137,
           -1.8068335056304932,
           -1.8149408102035522,
           -1.5065492391586304,
           -1.3839600086212158,
           -1.3688887357711792,
           -1.4542419910430908,
           -1.3917644023895264,
           -1.599790334701538,
           -1.9375816583633423,
           -2.0627479553222656,
           -2.300537586212158,
           -2.054692268371582,
           -2.44087553024292,
           -0.4143780767917633
          ],
          [
           -1.697108268737793,
           -1.2887351512908936,
           -1.3087778091430664,
           -1.5911638736724854,
           -0.27619630098342896,
           -0.9542515277862549,
           0.29327285289764404,
           -1.6460942029953003,
           -6.196201801300049,
           -6.55284309387207,
           -5.952835559844971,
           -4.327893257141113,
           -3.444949150085449,
           -3.039339780807495,
           -2.898878335952759,
           -4.027956962585449,
           -2.1164512634277344,
           -2.2192983627319336,
           0.28745830059051514,
           1.1479606628417969,
           2.8293755054473877,
           3.4165408611297607,
           5.280848503112793,
           6.356623649597168,
           6.5027313232421875,
           4.912296295166016,
           3.170093059539795,
           -1.3356049060821533,
           4.899705410003662,
           4.3944091796875,
           1.3478703498840332,
           3.6603665351867676,
           1.8648383617401123,
           1.3194005489349365,
           1.2980448007583618,
           1.260974645614624,
           1.2932970523834229,
           1.381972312927246,
           1.2815430164337158,
           1.316497564315796,
           1.2827560901641846,
           1.3020521402359009,
           1.208620548248291,
           1.2659775018692017,
           1.259284257888794,
           1.3396756649017334,
           1.2620097398757935,
           1.3107324838638306,
           1.2719179391860962,
           1.2102580070495605,
           1.2880651950836182,
           1.225745677947998,
           1.286898136138916,
           1.4737141132354736,
           -2.269914150238037,
           -2.2953953742980957,
           -1.906611442565918,
           -2.244168281555176,
           -1.9214038848876953,
           -1.8519655466079712,
           -1.754771113395691,
           -1.781604528427124,
           -1.4535059928894043,
           -1.331445336341858,
           -1.3165123462677002,
           -1.4680538177490234,
           -1.4463239908218384,
           -1.6623783111572266,
           -1.9607911109924316,
           -2.0484087467193604,
           -2.088491439819336,
           -1.770534873008728,
           -1.7131149768829346,
           -0.24287813901901245
          ],
          [
           -1.5063230991363525,
           -0.6521884202957153,
           -0.5872002243995667,
           -0.4961390495300293,
           -0.07818591594696045,
           -0.9824349880218506,
           1.4448809623718262,
           -1.5319573879241943,
           -6.7193098068237305,
           -7.216927528381348,
           -7.014123916625977,
           -5.862540245056152,
           -4.634363174438477,
           -4.056199550628662,
           -4.596852779388428,
           -5.76786470413208,
           -2.792590379714966,
           -2.940488815307617,
           0.19331061840057373,
           1.0358397960662842,
           2.4530458450317383,
           3.404339551925659,
           5.773703575134277,
           6.993990898132324,
           7.152886867523193,
           6.148070335388184,
           4.986464023590088,
           -0.44338369369506836,
           8.581854820251465,
           8.429876327514648,
           0.5048097968101501,
           4.0577802658081055,
           1.148270606994629,
           0.8882644176483154,
           0.8548758029937744,
           0.7406443357467651,
           0.8863517045974731,
           0.9314424395561218,
           0.7959907054901123,
           0.9029484391212463,
           0.8517606258392334,
           0.8542994856834412,
           0.7350562214851379,
           0.7928966283798218,
           0.7429739832878113,
           0.9236241579055786,
           0.8003190159797668,
           0.8404158353805542,
           0.77333664894104,
           0.774006724357605,
           0.7747394442558289,
           0.8123691082000732,
           0.8213712573051453,
           1.2767844200134277,
           -2.4055707454681396,
           -2.5296993255615234,
           -1.9901928901672363,
           -2.382112741470337,
           -1.9161968231201172,
           -1.7715743780136108,
           -1.6944396495819092,
           -1.7701525688171387,
           -1.4430021047592163,
           -1.3594788312911987,
           -1.3699290752410889,
           -1.6376280784606934,
           -1.6136783361434937,
           -1.8106436729431152,
           -2.0191168785095215,
           -1.9298665523529053,
           -1.6132688522338867,
           -1.0786616802215576,
           -0.29651832580566406,
           -0.06136748194694519
          ],
          [
           -3.9408771991729736,
           -2.324324607849121,
           -1.3753708600997925,
           -1.5601351261138916,
           -2.2041633129119873,
           -3.6229758262634277,
           2.593046188354492,
           -0.6802111864089966,
           -5.940338134765625,
           -7.482941627502441,
           -7.090584754943848,
           -4.187159538269043,
           -0.5784136056900024,
           0.34892988204956055,
           -2.4811043739318848,
           -5.926665306091309,
           -2.4892046451568604,
           -3.7586817741394043,
           0.3298490047454834,
           0.7476167678833008,
           1.4625487327575684,
           2.784499406814575,
           4.308912754058838,
           6.162533760070801,
           7.437371730804443,
           6.207610130310059,
           7.076057434082031,
           -0.513667106628418,
           13.176119804382324,
           14.864202499389648,
           -1.1376638412475586,
           4.272607803344727,
           0.10581982135772705,
           0.08088001608848572,
           0.03275501728057861,
           -0.08892107009887695,
           0.0824924111366272,
           0.03796505928039551,
           -0.0439029335975647,
           0.10744011402130127,
           0.008148252964019775,
           -0.0029570460319519043,
           -0.09402018785476685,
           -0.1042320728302002,
           -0.13422554731369019,
           0.07933259010314941,
           -0.06859737634658813,
           -0.019605040550231934,
           -0.07529395818710327,
           -0.0606837272644043,
           -0.19510120153427124,
           0.030147910118103027,
           -0.024772047996520996,
           0.9663530588150024,
           -1.5575411319732666,
           -2.2190725803375244,
           -2.1174325942993164,
           -2.3091251850128174,
           -1.8623570203781128,
           -1.6917526721954346,
           -1.6698846817016602,
           -1.8679776191711426,
           -1.6031652688980103,
           -1.7246266603469849,
           -1.8762779235839844,
           -2.3794784545898438,
           -2.436785936355591,
           -2.4416279792785645,
           -2.764402389526367,
           -2.628307342529297,
           -2.143307685852051,
           -1.485975980758667,
           -0.0272100567817688,
           -0.11957380175590515
          ],
          [
           0.3086789548397064,
           0.2374158799648285,
           0.11780139803886414,
           0.08973971009254456,
           0.9053744077682495,
           1.064037799835205,
           -1.0406605005264282,
           -1.115946650505066,
           -2.824261426925659,
           -3.4720866680145264,
           -5.059004306793213,
           -4.018298149108887,
           -2.8241500854492188,
           -1.9989237785339355,
           -0.8695938587188721,
           0.6311075687408447,
           1.3540573120117188,
           1.7521061897277832,
           2.796753406524658,
           3.870562791824341,
           4.234908103942871,
           3.8499059677124023,
           3.834757089614868,
           1.6453256607055664,
           2.458545446395874,
           2.215820789337158,
           2.2549374103546143,
           0.06089705228805542,
           1.748721718788147,
           0.9771384000778198,
           -0.015034586191177368,
           2.0833964347839355,
           0.2686084508895874,
           0.24716690182685852,
           0.28544676303863525,
           0.2408432960510254,
           0.23951613903045654,
           0.3102009892463684,
           0.22714953124523163,
           0.22572116553783417,
           0.2734118103981018,
           0.26015156507492065,
           0.19169040024280548,
           0.285370409488678,
           0.26709312200546265,
           0.263594388961792,
           0.2774783968925476,
           0.21893610060214996,
           0.24051399528980255,
           0.1942143738269806,
           0.31169450283050537,
           0.2697220742702484,
           0.2871514558792114,
           1.2344306707382202,
           -0.3232491612434387,
           -0.3338048458099365,
           0.06931668519973755,
           -0.17074301838874817,
           -0.061981670558452606,
           -0.01874896138906479,
           0.026312343776226044,
           0.016324058175086975,
           0.09464127570390701,
           0.1106373518705368,
           0.10094062238931656,
           0.03147825598716736,
           0.019719958305358887,
           -0.054343342781066895,
           -0.049400120973587036,
           -0.21638725697994232,
           -0.3105998635292053,
           -0.287102073431015,
           -0.6530305743217468,
           0.3534258008003235
          ]
         ]
        }
       ],
       "layout": {
        "coloraxis": {
         "cmid": 0,
         "colorscale": [
          [
           0,
           "rgb(103,0,31)"
          ],
          [
           0.1,
           "rgb(178,24,43)"
          ],
          [
           0.2,
           "rgb(214,96,77)"
          ],
          [
           0.3,
           "rgb(244,165,130)"
          ],
          [
           0.4,
           "rgb(253,219,199)"
          ],
          [
           0.5,
           "rgb(247,247,247)"
          ],
          [
           0.6,
           "rgb(209,229,240)"
          ],
          [
           0.7,
           "rgb(146,197,222)"
          ],
          [
           0.8,
           "rgb(67,147,195)"
          ],
          [
           0.9,
           "rgb(33,102,172)"
          ],
          [
           1,
           "rgb(5,48,97)"
          ]
         ]
        },
        "margin": {
         "t": 60
        },
        "template": {
         "data": {
          "bar": [
           {
            "error_x": {
             "color": "#2a3f5f"
            },
            "error_y": {
             "color": "#2a3f5f"
            },
            "marker": {
             "line": {
              "color": "#E5ECF6",
              "width": 0.5
             },
             "pattern": {
              "fillmode": "overlay",
              "size": 10,
              "solidity": 0.2
             }
            },
            "type": "bar"
           }
          ],
          "barpolar": [
           {
            "marker": {
             "line": {
              "color": "#E5ECF6",
              "width": 0.5
             },
             "pattern": {
              "fillmode": "overlay",
              "size": 10,
              "solidity": 0.2
             }
            },
            "type": "barpolar"
           }
          ],
          "carpet": [
           {
            "aaxis": {
             "endlinecolor": "#2a3f5f",
             "gridcolor": "white",
             "linecolor": "white",
             "minorgridcolor": "white",
             "startlinecolor": "#2a3f5f"
            },
            "baxis": {
             "endlinecolor": "#2a3f5f",
             "gridcolor": "white",
             "linecolor": "white",
             "minorgridcolor": "white",
             "startlinecolor": "#2a3f5f"
            },
            "type": "carpet"
           }
          ],
          "choropleth": [
           {
            "colorbar": {
             "outlinewidth": 0,
             "ticks": ""
            },
            "type": "choropleth"
           }
          ],
          "contour": [
           {
            "colorbar": {
             "outlinewidth": 0,
             "ticks": ""
            },
            "colorscale": [
             [
              0,
              "#0d0887"
             ],
             [
              0.1111111111111111,
              "#46039f"
             ],
             [
              0.2222222222222222,
              "#7201a8"
             ],
             [
              0.3333333333333333,
              "#9c179e"
             ],
             [
              0.4444444444444444,
              "#bd3786"
             ],
             [
              0.5555555555555556,
              "#d8576b"
             ],
             [
              0.6666666666666666,
              "#ed7953"
             ],
             [
              0.7777777777777778,
              "#fb9f3a"
             ],
             [
              0.8888888888888888,
              "#fdca26"
             ],
             [
              1,
              "#f0f921"
             ]
            ],
            "type": "contour"
           }
          ],
          "contourcarpet": [
           {
            "colorbar": {
             "outlinewidth": 0,
             "ticks": ""
            },
            "type": "contourcarpet"
           }
          ],
          "heatmap": [
           {
            "colorbar": {
             "outlinewidth": 0,
             "ticks": ""
            },
            "colorscale": [
             [
              0,
              "#0d0887"
             ],
             [
              0.1111111111111111,
              "#46039f"
             ],
             [
              0.2222222222222222,
              "#7201a8"
             ],
             [
              0.3333333333333333,
              "#9c179e"
             ],
             [
              0.4444444444444444,
              "#bd3786"
             ],
             [
              0.5555555555555556,
              "#d8576b"
             ],
             [
              0.6666666666666666,
              "#ed7953"
             ],
             [
              0.7777777777777778,
              "#fb9f3a"
             ],
             [
              0.8888888888888888,
              "#fdca26"
             ],
             [
              1,
              "#f0f921"
             ]
            ],
            "type": "heatmap"
           }
          ],
          "heatmapgl": [
           {
            "colorbar": {
             "outlinewidth": 0,
             "ticks": ""
            },
            "colorscale": [
             [
              0,
              "#0d0887"
             ],
             [
              0.1111111111111111,
              "#46039f"
             ],
             [
              0.2222222222222222,
              "#7201a8"
             ],
             [
              0.3333333333333333,
              "#9c179e"
             ],
             [
              0.4444444444444444,
              "#bd3786"
             ],
             [
              0.5555555555555556,
              "#d8576b"
             ],
             [
              0.6666666666666666,
              "#ed7953"
             ],
             [
              0.7777777777777778,
              "#fb9f3a"
             ],
             [
              0.8888888888888888,
              "#fdca26"
             ],
             [
              1,
              "#f0f921"
             ]
            ],
            "type": "heatmapgl"
           }
          ],
          "histogram": [
           {
            "marker": {
             "pattern": {
              "fillmode": "overlay",
              "size": 10,
              "solidity": 0.2
             }
            },
            "type": "histogram"
           }
          ],
          "histogram2d": [
           {
            "colorbar": {
             "outlinewidth": 0,
             "ticks": ""
            },
            "colorscale": [
             [
              0,
              "#0d0887"
             ],
             [
              0.1111111111111111,
              "#46039f"
             ],
             [
              0.2222222222222222,
              "#7201a8"
             ],
             [
              0.3333333333333333,
              "#9c179e"
             ],
             [
              0.4444444444444444,
              "#bd3786"
             ],
             [
              0.5555555555555556,
              "#d8576b"
             ],
             [
              0.6666666666666666,
              "#ed7953"
             ],
             [
              0.7777777777777778,
              "#fb9f3a"
             ],
             [
              0.8888888888888888,
              "#fdca26"
             ],
             [
              1,
              "#f0f921"
             ]
            ],
            "type": "histogram2d"
           }
          ],
          "histogram2dcontour": [
           {
            "colorbar": {
             "outlinewidth": 0,
             "ticks": ""
            },
            "colorscale": [
             [
              0,
              "#0d0887"
             ],
             [
              0.1111111111111111,
              "#46039f"
             ],
             [
              0.2222222222222222,
              "#7201a8"
             ],
             [
              0.3333333333333333,
              "#9c179e"
             ],
             [
              0.4444444444444444,
              "#bd3786"
             ],
             [
              0.5555555555555556,
              "#d8576b"
             ],
             [
              0.6666666666666666,
              "#ed7953"
             ],
             [
              0.7777777777777778,
              "#fb9f3a"
             ],
             [
              0.8888888888888888,
              "#fdca26"
             ],
             [
              1,
              "#f0f921"
             ]
            ],
            "type": "histogram2dcontour"
           }
          ],
          "mesh3d": [
           {
            "colorbar": {
             "outlinewidth": 0,
             "ticks": ""
            },
            "type": "mesh3d"
           }
          ],
          "parcoords": [
           {
            "line": {
             "colorbar": {
              "outlinewidth": 0,
              "ticks": ""
             }
            },
            "type": "parcoords"
           }
          ],
          "pie": [
           {
            "automargin": true,
            "type": "pie"
           }
          ],
          "scatter": [
           {
            "fillpattern": {
             "fillmode": "overlay",
             "size": 10,
             "solidity": 0.2
            },
            "type": "scatter"
           }
          ],
          "scatter3d": [
           {
            "line": {
             "colorbar": {
              "outlinewidth": 0,
              "ticks": ""
             }
            },
            "marker": {
             "colorbar": {
              "outlinewidth": 0,
              "ticks": ""
             }
            },
            "type": "scatter3d"
           }
          ],
          "scattercarpet": [
           {
            "marker": {
             "colorbar": {
              "outlinewidth": 0,
              "ticks": ""
             }
            },
            "type": "scattercarpet"
           }
          ],
          "scattergeo": [
           {
            "marker": {
             "colorbar": {
              "outlinewidth": 0,
              "ticks": ""
             }
            },
            "type": "scattergeo"
           }
          ],
          "scattergl": [
           {
            "marker": {
             "colorbar": {
              "outlinewidth": 0,
              "ticks": ""
             }
            },
            "type": "scattergl"
           }
          ],
          "scattermapbox": [
           {
            "marker": {
             "colorbar": {
              "outlinewidth": 0,
              "ticks": ""
             }
            },
            "type": "scattermapbox"
           }
          ],
          "scatterpolar": [
           {
            "marker": {
             "colorbar": {
              "outlinewidth": 0,
              "ticks": ""
             }
            },
            "type": "scatterpolar"
           }
          ],
          "scatterpolargl": [
           {
            "marker": {
             "colorbar": {
              "outlinewidth": 0,
              "ticks": ""
             }
            },
            "type": "scatterpolargl"
           }
          ],
          "scatterternary": [
           {
            "marker": {
             "colorbar": {
              "outlinewidth": 0,
              "ticks": ""
             }
            },
            "type": "scatterternary"
           }
          ],
          "surface": [
           {
            "colorbar": {
             "outlinewidth": 0,
             "ticks": ""
            },
            "colorscale": [
             [
              0,
              "#0d0887"
             ],
             [
              0.1111111111111111,
              "#46039f"
             ],
             [
              0.2222222222222222,
              "#7201a8"
             ],
             [
              0.3333333333333333,
              "#9c179e"
             ],
             [
              0.4444444444444444,
              "#bd3786"
             ],
             [
              0.5555555555555556,
              "#d8576b"
             ],
             [
              0.6666666666666666,
              "#ed7953"
             ],
             [
              0.7777777777777778,
              "#fb9f3a"
             ],
             [
              0.8888888888888888,
              "#fdca26"
             ],
             [
              1,
              "#f0f921"
             ]
            ],
            "type": "surface"
           }
          ],
          "table": [
           {
            "cells": {
             "fill": {
              "color": "#EBF0F8"
             },
             "line": {
              "color": "white"
             }
            },
            "header": {
             "fill": {
              "color": "#C8D4E3"
             },
             "line": {
              "color": "white"
             }
            },
            "type": "table"
           }
          ]
         },
         "layout": {
          "annotationdefaults": {
           "arrowcolor": "#2a3f5f",
           "arrowhead": 0,
           "arrowwidth": 1
          },
          "autotypenumbers": "strict",
          "coloraxis": {
           "colorbar": {
            "outlinewidth": 0,
            "ticks": ""
           }
          },
          "colorscale": {
           "diverging": [
            [
             0,
             "#8e0152"
            ],
            [
             0.1,
             "#c51b7d"
            ],
            [
             0.2,
             "#de77ae"
            ],
            [
             0.3,
             "#f1b6da"
            ],
            [
             0.4,
             "#fde0ef"
            ],
            [
             0.5,
             "#f7f7f7"
            ],
            [
             0.6,
             "#e6f5d0"
            ],
            [
             0.7,
             "#b8e186"
            ],
            [
             0.8,
             "#7fbc41"
            ],
            [
             0.9,
             "#4d9221"
            ],
            [
             1,
             "#276419"
            ]
           ],
           "sequential": [
            [
             0,
             "#0d0887"
            ],
            [
             0.1111111111111111,
             "#46039f"
            ],
            [
             0.2222222222222222,
             "#7201a8"
            ],
            [
             0.3333333333333333,
             "#9c179e"
            ],
            [
             0.4444444444444444,
             "#bd3786"
            ],
            [
             0.5555555555555556,
             "#d8576b"
            ],
            [
             0.6666666666666666,
             "#ed7953"
            ],
            [
             0.7777777777777778,
             "#fb9f3a"
            ],
            [
             0.8888888888888888,
             "#fdca26"
            ],
            [
             1,
             "#f0f921"
            ]
           ],
           "sequentialminus": [
            [
             0,
             "#0d0887"
            ],
            [
             0.1111111111111111,
             "#46039f"
            ],
            [
             0.2222222222222222,
             "#7201a8"
            ],
            [
             0.3333333333333333,
             "#9c179e"
            ],
            [
             0.4444444444444444,
             "#bd3786"
            ],
            [
             0.5555555555555556,
             "#d8576b"
            ],
            [
             0.6666666666666666,
             "#ed7953"
            ],
            [
             0.7777777777777778,
             "#fb9f3a"
            ],
            [
             0.8888888888888888,
             "#fdca26"
            ],
            [
             1,
             "#f0f921"
            ]
           ]
          },
          "colorway": [
           "#636efa",
           "#EF553B",
           "#00cc96",
           "#ab63fa",
           "#FFA15A",
           "#19d3f3",
           "#FF6692",
           "#B6E880",
           "#FF97FF",
           "#FECB52"
          ],
          "font": {
           "color": "#2a3f5f"
          },
          "geo": {
           "bgcolor": "white",
           "lakecolor": "white",
           "landcolor": "#E5ECF6",
           "showlakes": true,
           "showland": true,
           "subunitcolor": "white"
          },
          "hoverlabel": {
           "align": "left"
          },
          "hovermode": "closest",
          "mapbox": {
           "style": "light"
          },
          "paper_bgcolor": "white",
          "plot_bgcolor": "#E5ECF6",
          "polar": {
           "angularaxis": {
            "gridcolor": "white",
            "linecolor": "white",
            "ticks": ""
           },
           "bgcolor": "#E5ECF6",
           "radialaxis": {
            "gridcolor": "white",
            "linecolor": "white",
            "ticks": ""
           }
          },
          "scene": {
           "xaxis": {
            "backgroundcolor": "#E5ECF6",
            "gridcolor": "white",
            "gridwidth": 2,
            "linecolor": "white",
            "showbackground": true,
            "ticks": "",
            "zerolinecolor": "white"
           },
           "yaxis": {
            "backgroundcolor": "#E5ECF6",
            "gridcolor": "white",
            "gridwidth": 2,
            "linecolor": "white",
            "showbackground": true,
            "ticks": "",
            "zerolinecolor": "white"
           },
           "zaxis": {
            "backgroundcolor": "#E5ECF6",
            "gridcolor": "white",
            "gridwidth": 2,
            "linecolor": "white",
            "showbackground": true,
            "ticks": "",
            "zerolinecolor": "white"
           }
          },
          "shapedefaults": {
           "line": {
            "color": "#2a3f5f"
           }
          },
          "ternary": {
           "aaxis": {
            "gridcolor": "white",
            "linecolor": "white",
            "ticks": ""
           },
           "baxis": {
            "gridcolor": "white",
            "linecolor": "white",
            "ticks": ""
           },
           "bgcolor": "#E5ECF6",
           "caxis": {
            "gridcolor": "white",
            "linecolor": "white",
            "ticks": ""
           }
          },
          "title": {
           "x": 0.05
          },
          "xaxis": {
           "automargin": true,
           "gridcolor": "white",
           "linecolor": "white",
           "ticks": "",
           "title": {
            "standoff": 15
           },
           "zerolinecolor": "white",
           "zerolinewidth": 2
          },
          "yaxis": {
           "automargin": true,
           "gridcolor": "white",
           "linecolor": "white",
           "ticks": "",
           "title": {
            "standoff": 15
           },
           "zerolinecolor": "white",
           "zerolinewidth": 2
          }
         }
        },
        "xaxis": {
         "anchor": "y",
         "constrain": "domain",
         "domain": [
          0,
          1
         ],
         "scaleanchor": "y",
         "title": {
          "text": "Key"
         }
        },
        "yaxis": {
         "anchor": "x",
         "autorange": "reversed",
         "constrain": "domain",
         "domain": [
          0,
          1
         ],
         "title": {
          "text": "Query"
         }
        }
       }
      }
     },
     "metadata": {},
     "output_type": "display_data"
    },
    {
     "data": {
      "application/vnd.plotly.v1+json": {
       "config": {
        "plotlyServerURL": "https://plot.ly"
       },
       "data": [
        {
         "coloraxis": "coloraxis",
         "hovertemplate": "Input: %{x}<br>Output: %{y}<br>color: %{z}<extra></extra>",
         "name": "0",
         "type": "heatmap",
         "x": [
          "tok 0",
          "tok 1",
          "tok 2",
          "tok 3",
          "tok 4",
          "tok 5",
          "tok 6",
          "tok 7",
          "tok 8",
          "tok 9",
          "tok 10",
          "tok 11",
          "tok 12",
          "tok 13",
          "tok 14",
          "tok 15",
          "tok 16",
          "tok 17",
          "tok 18",
          "tok 19",
          "tok 20",
          "tok 21",
          "tok 22",
          "tok 23",
          "tok 24",
          "tok 25",
          "tok 26",
          "tok 27",
          "tok 28",
          "tok 29",
          "START",
          "STOP",
          "pos START",
          "pos in 0",
          "pos in 1",
          "pos in 2",
          "pos in 3",
          "pos in 4",
          "pos in 5",
          "pos in 6",
          "pos in 7",
          "pos in 8",
          "pos in 9",
          "pos in 10",
          "pos in 11",
          "pos in 12",
          "pos in 13",
          "pos in 14",
          "pos in 15",
          "pos in 16",
          "pos in 17",
          "pos in 18",
          "pos in 19",
          "pos STOP",
          "pos out 0",
          "pos out 1",
          "pos out 2",
          "pos out 3",
          "pos out 4",
          "pos out 5",
          "pos out 6",
          "pos out 7",
          "pos out 8",
          "pos out 9",
          "pos out 10",
          "pos out 11",
          "pos out 12",
          "pos out 13",
          "pos out 14",
          "pos out 15",
          "pos out 16",
          "pos out 17",
          "pos out 18",
          "pos out 19"
         ],
         "xaxis": "x",
         "y": [
          "tok 0",
          "tok 1",
          "tok 2",
          "tok 3",
          "tok 4",
          "tok 5",
          "tok 6",
          "tok 7",
          "tok 8",
          "tok 9",
          "tok 10",
          "tok 11",
          "tok 12",
          "tok 13",
          "tok 14",
          "tok 15",
          "tok 16",
          "tok 17",
          "tok 18",
          "tok 19",
          "tok 20",
          "tok 21",
          "tok 22",
          "tok 23",
          "tok 24",
          "tok 25",
          "tok 26",
          "tok 27",
          "tok 28",
          "tok 29",
          "START",
          "STOP"
         ],
         "yaxis": "y",
         "z": [
          [
           681.460693359375,
           562.833740234375,
           539.9234008789062,
           414.8565368652344,
           284.7578430175781,
           -63.669189453125,
           -112.93673706054688,
           -196.6321563720703,
           -308.9582214355469,
           -399.610107421875,
           -624.4140625,
           -775.6588745117188,
           -1059.802001953125,
           -1273.238037109375,
           -1199.998779296875,
           -1113.600830078125,
           -995.610595703125,
           -1092.8853759765625,
           -1033.2965087890625,
           -1043.4434814453125,
           -986.2678833007812,
           -770.446533203125,
           -1049.10693359375,
           -1064.78076171875,
           -679.65234375,
           -827.867431640625,
           -414.9095153808594,
           -985.7816772460938,
           -992.1079711914062,
           -1130.3824462890625,
           -985.3660888671875,
           334.00567626953125,
           -650.52001953125,
           769.0313720703125,
           778.4104614257812,
           784.0130004882812,
           797.4683837890625,
           784.7138671875,
           789.4591064453125,
           765.9058837890625,
           769.971435546875,
           777.9691162109375,
           784.8064575195312,
           773.2778930664062,
           738.4495849609375,
           761.5677490234375,
           763.5361938476562,
           767.0339965820312,
           773.653564453125,
           773.2738037109375,
           748.705322265625,
           773.5589599609375,
           769.129638671875,
           268.3912048339844,
           -836.1578979492188,
           -1001.2011108398438,
           -1345.2110595703125,
           -1351.2161865234375,
           -1567.34716796875,
           -1726.548583984375,
           -1837.6317138671875,
           -1859.2034912109375,
           -1798.2427978515625,
           -1626.192138671875,
           -1362.3328857421875,
           -1237.147216796875,
           -1096.8536376953125,
           -1114.27392578125,
           -1071.984619140625,
           -833.0970458984375,
           -565.163330078125,
           -258.03436279296875,
           -356.9191589355469,
           -16.066574096679688
          ],
          [
           253.93492126464844,
           376.3567199707031,
           343.5440368652344,
           220.70297241210938,
           76.36904907226562,
           -272.1325378417969,
           -244.9456329345703,
           -294.58447265625,
           -395.930419921875,
           -403.8155822753906,
           -542.8675537109375,
           -663.6702270507812,
           -947.0100708007812,
           -1021.50732421875,
           -1267.7977294921875,
           -1084.7027587890625,
           -1099.255615234375,
           -1209.2529296875,
           -1127.0616455078125,
           -1139.23046875,
           -1211.27880859375,
           -938.7476806640625,
           -1046.1917724609375,
           -1103.0242919921875,
           -898.2579956054688,
           -887.1630859375,
           -492.67156982421875,
           -1152.831298828125,
           -1067.847412109375,
           -1372.7301025390625,
           -843.85986328125,
           227.842041015625,
           -454.32073974609375,
           1000.0211791992188,
           1005.9796142578125,
           1022.467529296875,
           1028.4833984375,
           1015.7047119140625,
           1020.1647338867188,
           988.1475830078125,
           997.15283203125,
           1004.4417724609375,
           1014.73193359375,
           997.7996826171875,
           973.2647705078125,
           992.342041015625,
           987.47216796875,
           1000.7804565429688,
           1012.0306396484375,
           998.3797607421875,
           982.3744506835938,
           997.95947265625,
           995.4956665039062,
           179.9287109375,
           -924.68701171875,
           -1080.386474609375,
           -1422.0418701171875,
           -1464.4254150390625,
           -1743.350341796875,
           -1933.884033203125,
           -2079.4287109375,
           -2143.5185546875,
           -2109.66064453125,
           -1970.0130615234375,
           -1740.873779296875,
           -1624.63134765625,
           -1473.9874267578125,
           -1495.8634033203125,
           -1478.5858154296875,
           -1205.2266845703125,
           -909.5657348632812,
           -477.0438232421875,
           -462.4710388183594,
           -50.31751251220703
          ],
          [
           30.02142333984375,
           139.24209594726562,
           279.17236328125,
           150.97299194335938,
           6.24945068359375,
           -341.43475341796875,
           -310.4944763183594,
           -366.43182373046875,
           -373.4848327636719,
           -440.8480224609375,
           -510.4720458984375,
           -630.9095458984375,
           -765.6341552734375,
           -940.990478515625,
           -1240.071044921875,
           -1056.9566650390625,
           -998.9425659179688,
           -1173.3756103515625,
           -1081.934814453125,
           -1061.3414306640625,
           -1071.256103515625,
           -854.036865234375,
           -1074.8759765625,
           -1206.8359375,
           -1056.40673828125,
           -913.3485107421875,
           -597.5713500976562,
           -1238.26025390625,
           -1088.724853515625,
           -1424.8448486328125,
           -738.6610107421875,
           179.11727905273438,
           -328.1715087890625,
           1072.0987548828125,
           1078.44873046875,
           1098.0858154296875,
           1098.464111328125,
           1087.1522216796875,
           1092.458984375,
           1058.55224609375,
           1067.5181884765625,
           1076.985107421875,
           1086.2122802734375,
           1070.1314697265625,
           1050.2034912109375,
           1066.049560546875,
           1058.862548828125,
           1074.5574951171875,
           1088.656005859375,
           1068.7265625,
           1055.9345703125,
           1071.5145263671875,
           1067.398193359375,
           128.04942321777344,
           -909.1389770507812,
           -1090.952392578125,
           -1397.6834716796875,
           -1460.48095703125,
           -1750.751708984375,
           -1950.916259765625,
           -2103.98876953125,
           -2199.83154296875,
           -2181.025390625,
           -2061.115966796875,
           -1860.451416015625,
           -1763.2840576171875,
           -1617.406982421875,
           -1633.564208984375,
           -1617.11669921875,
           -1332.7691650390625,
           -1039.942626953125,
           -583.5210571289062,
           -550.0408935546875,
           -47.053531646728516
          ],
          [
           -141.73468017578125,
           -39.308685302734375,
           80.76678466796875,
           125.8543701171875,
           -22.371337890625,
           -371.055419921875,
           -339.6733093261719,
           -395.0501708984375,
           -390.1264343261719,
           -463.38922119140625,
           -536.9191284179688,
           -586.1676025390625,
           -806.1796264648438,
           -829.5225830078125,
           -1062.6875,
           -949.783203125,
           -858.6109619140625,
           -1021.7359008789062,
           -905.1243286132812,
           -886.4888916015625,
           -1097.8507080078125,
           -845.1981201171875,
           -982.58837890625,
           -1099.50830078125,
           -1024.896240234375,
           -1012.1190795898438,
           -642.1148681640625,
           -1237.3472900390625,
           -1067.314453125,
           -1437.751953125,
           -630.31689453125,
           107.8431396484375,
           -239.8817138671875,
           1097.3851318359375,
           1103.9647216796875,
           1124.3477783203125,
           1122.7916259765625,
           1111.583984375,
           1116.883056640625,
           1082.1429443359375,
           1092.348388671875,
           1099.69677734375,
           1109.824951171875,
           1096.1888427734375,
           1078.815673828125,
           1092.466552734375,
           1083.5361328125,
           1099.898681640625,
           1115.4385986328125,
           1091.628173828125,
           1085.7738037109375,
           1095.32958984375,
           1092.5286865234375,
           40.06842041015625,
           -863.8067626953125,
           -1029.1009521484375,
           -1319.48583984375,
           -1384.3441162109375,
           -1681.59765625,
           -1878.8206787109375,
           -2034.376953125,
           -2136.83740234375,
           -2129.71044921875,
           -2030.8125,
           -1858.59521484375,
           -1765.853271484375,
           -1641.166259765625,
           -1655.8997802734375,
           -1645.01953125,
           -1381.65771484375,
           -1120.9937744140625,
           -655.1246948242188,
           -595.560546875,
           -50.623661041259766
          ],
          [
           -279.43798828125,
           -184.15457153320312,
           -78.53817749023438,
           -38.69097900390625,
           2.255584716796875,
           -352.65728759765625,
           -316.27679443359375,
           -372.2767333984375,
           -367.42669677734375,
           -442.44464111328125,
           -505.07025146484375,
           -544.7088623046875,
           -702.4364624023438,
           -761.2899169921875,
           -858.9320068359375,
           -728.6389770507812,
           -716.6856079101562,
           -881.801513671875,
           -825.0311279296875,
           -795.4019165039062,
           -967.5303955078125,
           -802.6859130859375,
           -979.1746215820312,
           -1076.92236328125,
           -923.393310546875,
           -955.6170654296875,
           -739.967529296875,
           -1222.2393798828125,
           -1103.638916015625,
           -1398.54150390625,
           -514.4973754882812,
           76.51499938964844,
           -141.33529663085938,
           1075.196044921875,
           1081.9794921875,
           1104.357177734375,
           1099.24951171875,
           1089.01708984375,
           1094.32568359375,
           1061.9150390625,
           1071.341796875,
           1076.964111328125,
           1087.6796875,
           1074.7314453125,
           1061.193115234375,
           1072.2864990234375,
           1064.243408203125,
           1078.4046630859375,
           1094.6656494140625,
           1069.81787109375,
           1068.3681640625,
           1073.925537109375,
           1071.3663330078125,
           20.36737823486328,
           -792.23095703125,
           -949.2967529296875,
           -1205.8658447265625,
           -1269.17138671875,
           -1549.937255859375,
           -1738.4473876953125,
           -1887.54638671875,
           -1989.359130859375,
           -1998.2684326171875,
           -1922.2088623046875,
           -1792.8875732421875,
           -1715.7288818359375,
           -1613.771484375,
           -1629.9677734375,
           -1621.1007080078125,
           -1378.96875,
           -1141.062744140625,
           -687.9239501953125,
           -607.8231201171875,
           -65.16768646240234
          ],
          [
           -424.0521545410156,
           -335.04052734375,
           -247.1343536376953,
           -198.35736083984375,
           -151.76718139648438,
           -312.15484619140625,
           -282.193115234375,
           -336.20367431640625,
           -329.8575744628906,
           -404.03179931640625,
           -462.14654541015625,
           -512.1895141601562,
           -593.5607299804688,
           -641.8023071289062,
           -733.5967407226562,
           -680.71533203125,
           -671.444580078125,
           -681.6976318359375,
           -668.0806884765625,
           -691.1635131835938,
           -783.5785522460938,
           -699.572265625,
           -867.5779418945312,
           -947.0775146484375,
           -839.6124267578125,
           -871.9598388671875,
           -664.4271850585938,
           -1168.8433837890625,
           -1113.984619140625,
           -1236.8927001953125,
           -386.1394958496094,
           -24.727436065673828,
           -23.659439086914062,
           1036.8656005859375,
           1042.4403076171875,
           1067.1416015625,
           1058.446044921875,
           1050.0521240234375,
           1053.95751953125,
           1023.9605712890625,
           1033.17578125,
           1036.92578125,
           1046.2425537109375,
           1036.6781005859375,
           1026.1629638671875,
           1035.475341796875,
           1027.3922119140625,
           1041.0916748046875,
           1056.0103759765625,
           1031.3828125,
           1033.3704833984375,
           1034.09521484375,
           1033.6103515625,
           -81.49122619628906,
           -721.6759643554688,
           -864.6958618164062,
           -1071.122314453125,
           -1142.8017578125,
           -1407.5035400390625,
           -1587.3387451171875,
           -1729.5986328125,
           -1833.356201171875,
           -1856.96875,
           -1797.6378173828125,
           -1701.252685546875,
           -1632.8804931640625,
           -1550.82470703125,
           -1572.2200927734375,
           -1567.530517578125,
           -1355.7969970703125,
           -1142.489013671875,
           -725.8822631835938,
           -582.6817626953125,
           -61.80780792236328
          ],
          [
           -567.5174560546875,
           -489.614990234375,
           -423.04364013671875,
           -363.0942687988281,
           -297.1336669921875,
           -413.17822265625,
           -212.40455627441406,
           -276.48876953125,
           -268.71356201171875,
           -344.80706787109375,
           -403.8465881347656,
           -454.05194091796875,
           -465.1457824707031,
           -471.6296691894531,
           -532.3675537109375,
           -673.5350341796875,
           -709.1812133789062,
           -694.1107177734375,
           -698.6547241210938,
           -667.0743408203125,
           -647.0402221679688,
           -607.8260498046875,
           -728.0853881835938,
           -768.244140625,
           -697.4694213867188,
           -788.573486328125,
           -595.368896484375,
           -1056.107177734375,
           -894.8284912109375,
           -1021.7686157226562,
           -224.953857421875,
           -110.20598602294922,
           108.64566040039062,
           982.5198974609375,
           984.4601440429688,
           1011.9805297851562,
           1001.0750732421875,
           994.823486328125,
           996.9562377929688,
           969.9052734375,
           978.108154296875,
           980.5560302734375,
           989.0204467773438,
           979.47705078125,
           974.519287109375,
           980.3731689453125,
           972.8235473632812,
           986.52490234375,
           999.3126831054688,
           976.1958618164062,
           980.7979125976562,
           977.09521484375,
           977.6959228515625,
           -181.73301696777344,
           -646.6895141601562,
           -777.682373046875,
           -952.1609497070312,
           -1027.09130859375,
           -1275.106689453125,
           -1445.6177978515625,
           -1581.0126953125,
           -1690.75,
           -1725.574951171875,
           -1687.68603515625,
           -1623.9461669921875,
           -1575.487060546875,
           -1503.6727294921875,
           -1519.596435546875,
           -1518.631103515625,
           -1322.8712158203125,
           -1125.424072265625,
           -729.9313354492188,
           -546.2882080078125,
           -67.63338470458984
          ],
          [
           -566.083251953125,
           -491.7590637207031,
           -434.71417236328125,
           -373.0841064453125,
           -300.1876220703125,
           -390.6492004394531,
           -202.92576599121094,
           -165.8765869140625,
           -161.4145965576172,
           -236.9409637451172,
           -295.216552734375,
           -347.4415283203125,
           -349.39581298828125,
           -375.8653564453125,
           -411.1962890625,
           -498.0372314453125,
           -506.95404052734375,
           -540.6670532226562,
           -640.652587890625,
           -659.2158203125,
           -625.4845581054688,
           -538.0804443359375,
           -602.2196044921875,
           -675.1846313476562,
           -622.4033813476562,
           -686.128173828125,
           -585.62158203125,
           -900.1043090820312,
           -793.5902709960938,
           -850.02685546875,
           -144.4241485595703,
           -153.2495574951172,
           137.74058532714844,
           859.7952880859375,
           861.0601806640625,
           885.8125,
           875.1710205078125,
           869.2967529296875,
           872.5582275390625,
           848.6337890625,
           855.9518432617188,
           857.39990234375,
           864.757568359375,
           857.64111328125,
           855.1233520507812,
           857.7742309570312,
           852.0440673828125,
           863.79345703125,
           876.2281494140625,
           853.7464599609375,
           860.38330078125,
           854.475830078125,
           855.4136962890625,
           -204.49343872070312,
           -534.6953125,
           -644.4615478515625,
           -783.519287109375,
           -857.3765258789062,
           -1066.8157958984375,
           -1216.8431396484375,
           -1340.2655029296875,
           -1436.1650390625,
           -1476.02294921875,
           -1456.648681640625,
           -1418.8900146484375,
           -1382.1326904296875,
           -1322.328857421875,
           -1340.5543212890625,
           -1342.159423828125,
           -1175.9835205078125,
           -1013.470703125,
           -666.0240478515625,
           -475.5084533691406,
           -68.14236450195312
          ],
          [
           -553.392333984375,
           -484.18231201171875,
           -423.2134704589844,
           -362.8330383300781,
           -295.47833251953125,
           -361.282958984375,
           -177.14617919921875,
           -150.18936157226562,
           -37.14086151123047,
           -119.15992736816406,
           -177.73052978515625,
           -233.15573120117188,
           -235.75758361816406,
           -266.2551574707031,
           -290.5196838378906,
           -357.1405334472656,
           -433.1823425292969,
           -446.63592529296875,
           -518.6406860351562,
           -569.84814453125,
           -543.0960083007812,
           -475.5194091796875,
           -534.1053466796875,
           -622.6332397460938,
           -571.3714599609375,
           -624.9482421875,
           -584.6453857421875,
           -749.5352783203125,
           -652.9523315429688,
           -664.8613891601562,
           -61.647613525390625,
           -204.21405029296875,
           166.6079559326172,
           731.2077026367188,
           732.3809814453125,
           755.136474609375,
           743.5498046875,
           739.7763061523438,
           742.4966430664062,
           722.115966796875,
           727.3157348632812,
           730.2181396484375,
           735.0765380859375,
           730.0891723632812,
           729.8240966796875,
           729.5433349609375,
           724.0697021484375,
           735.4434814453125,
           748.2131958007812,
           726.5836181640625,
           733.366455078125,
           728.312744140625,
           727.3494262695312,
           -237.95875549316406,
           -430.90789794921875,
           -515.0467529296875,
           -621.7362060546875,
           -690.3726196289062,
           -868.6642456054688,
           -999.34912109375,
           -1106.028564453125,
           -1195.593017578125,
           -1237.9522705078125,
           -1235.8780517578125,
           -1223.8958740234375,
           -1201.73876953125,
           -1153.56103515625,
           -1165.6236572265625,
           -1162.5235595703125,
           -1016.1911010742188,
           -872.5455322265625,
           -569.8955078125,
           -363.6920471191406,
           -58.204246520996094
          ],
          [
           -536.029052734375,
           -470.52880859375,
           -416.2143249511719,
           -356.5264587402344,
           -282.5932312011719,
           -324.8804016113281,
           -148.15965270996094,
           -122.69126892089844,
           -24.588111877441406,
           0.3424949645996094,
           -61.84233093261719,
           -119.09931945800781,
           -121.1501693725586,
           -148.21249389648438,
           -174.74215698242188,
           -241.0337677001953,
           -322.3980712890625,
           -350.8605041503906,
           -465.2882385253906,
           -497.5170593261719,
           -497.4312744140625,
           -524.323486328125,
           -480.3832092285156,
           -533.2332153320312,
           -518.1055908203125,
           -541.0380249023438,
           -543.091064453125,
           -621.2589721679688,
           -560.0901489257812,
           -534.5205688476562,
           15.247024536132812,
           -209.10354614257812,
           193.27053833007812,
           608.9276733398438,
           610.9586181640625,
           631.2302856445312,
           620.6224365234375,
           616.1445922851562,
           618.4222412109375,
           601.6316528320312,
           605.41015625,
           608.3231811523438,
           612.8873291015625,
           608.3267822265625,
           611.2999877929688,
           608.58544921875,
           602.893310546875,
           613.4127807617188,
           625.8441162109375,
           605.5869140625,
           612.59423828125,
           607.775390625,
           605.5294799804688,
           -217.85784912109375,
           -324.1073303222656,
           -399.2380676269531,
           -473.4910888671875,
           -539.2474975585938,
           -685.2970581054688,
           -792.5252075195312,
           -883.3587036132812,
           -962.3527221679688,
           -1007.13525390625,
           -1020.1331176757812,
           -1032.20556640625,
           -1022.3934936523438,
           -984.8199462890625,
           -992.0772705078125,
           -991.259521484375,
           -868.45654296875,
           -751.31884765625,
           -483.8299560546875,
           -285.5543212890625,
           -49.54821014404297
          ],
          [
           -521.2611083984375,
           -458.81597900390625,
           -403.46087646484375,
           -346.49041748046875,
           -251.6458740234375,
           -293.7772521972656,
           -126.1436767578125,
           -107.93412780761719,
           -15.903030395507812,
           0.7941017150878906,
           43.62911605834961,
           -20.683883666992188,
           -21.87177276611328,
           -51.7396354675293,
           -75.03231811523438,
           -143.98580932617188,
           -220.7691192626953,
           -258.0167236328125,
           -339.80615234375,
           -429.5675354003906,
           -433.0810241699219,
           -444.6729736328125,
           -420.4528503417969,
           -398.771240234375,
           -436.9680480957031,
           -428.01025390625,
           -491.89605712890625,
           -503.0417175292969,
           -445.5643310546875,
           -464.9296569824219,
           71.95388793945312,
           -196.2626953125,
           211.99595642089844,
           502.7869873046875,
           503.7430114746094,
           522.1480712890625,
           511.7281494140625,
           508.05517578125,
           509.6756896972656,
           495.4445495605469,
           499.07855224609375,
           501.0552978515625,
           505.5162353515625,
           501.380859375,
           507.4468994140625,
           502.6522521972656,
           496.88189697265625,
           506.7620849609375,
           518.3370361328125,
           498.458251953125,
           507.0303955078125,
           501.4041748046875,
           498.4985046386719,
           -193.15841674804688,
           -230.7688751220703,
           -293.8835144042969,
           -347.09722900390625,
           -404.5118713378906,
           -523.52294921875,
           -609.9693603515625,
           -684.8870239257812,
           -757.7783813476562,
           -801.5099487304688,
           -824.8033447265625,
           -853.6676025390625,
           -853.0845947265625,
           -826.0576782226562,
           -832.56201171875,
           -834.5546264648438,
           -735.00732421875,
           -646.6636352539062,
           -421.792236328125,
           -243.86302185058594,
           -52.37224197387695
          ],
          [
           -504.212158203125,
           -441.99456787109375,
           -401.58935546875,
           -330.6258544921875,
           -223.58627319335938,
           -264.2900390625,
           -111.05796813964844,
           -89.6164321899414,
           -10.822265625,
           7.183906555175781,
           36.965728759765625,
           71.10880279541016,
           68.97380065917969,
           38.96107482910156,
           17.04482078552246,
           -54.25582504272461,
           -133.81105041503906,
           -167.05413818359375,
           -208.94857788085938,
           -272.19952392578125,
           -379.4402770996094,
           -409.2770690917969,
           -350.20867919921875,
           -349.0480651855469,
           -358.451171875,
           -327.4708251953125,
           -402.3304138183594,
           -401.5130920410156,
           -278.74609375,
           -288.66790771484375,
           122.894775390625,
           -213.33425903320312,
           223.37503051757812,
           398.46990966796875,
           400.85302734375,
           417.0611877441406,
           406.33843994140625,
           404.45068359375,
           402.70367431640625,
           393.46337890625,
           396.070068359375,
           397.3887634277344,
           401.23724365234375,
           398.39007568359375,
           405.39862060546875,
           399.94085693359375,
           395.72064208984375,
           402.62164306640625,
           411.9361267089844,
           395.8725280761719,
           403.4761657714844,
           397.47467041015625,
           395.08489990234375,
           -206.40499877929688,
           -161.47598266601562,
           -194.4118194580078,
           -227.0621337890625,
           -272.9920959472656,
           -368.033447265625,
           -435.0928649902344,
           -496.9426574707031,
           -556.95263671875,
           -602.9541015625,
           -637.6471557617188,
           -680.2184448242188,
           -688.3612670898438,
           -675.87548828125,
           -675.046142578125,
           -675.4055786132812,
           -604.7572631835938,
           -547.0624389648438,
           -367.0896911621094,
           -194.66397094726562,
           -37.7818603515625
          ],
          [
           -488.58258056640625,
           -439.64154052734375,
           -374.6021423339844,
           -332.9830322265625,
           -213.64810180664062,
           -226.33656311035156,
           -92.28823852539062,
           -73.20703887939453,
           0.5935173034667969,
           11.694747924804688,
           43.876121520996094,
           69.11911010742188,
           164.9604034423828,
           133.15765380859375,
           109.55138397216797,
           37.796852111816406,
           -37.14527893066406,
           -75.81189727783203,
           -120.4880599975586,
           -167.6529541015625,
           -191.07191467285156,
           -275.3004455566406,
           -246.44964599609375,
           -270.03594970703125,
           -282.09228515625,
           -226.039306640625,
           -327.5140075683594,
           -308.3783874511719,
           -178.83355712890625,
           -193.42593383789062,
           171.5670623779297,
           -186.8411102294922,
           247.1926727294922,
           301.9552001953125,
           304.0078430175781,
           318.0697021484375,
           306.578125,
           306.6635437011719,
           304.89190673828125,
           298.8294372558594,
           299.74957275390625,
           301.56512451171875,
           303.1601867675781,
           302.1856689453125,
           310.23406982421875,
           304.7341003417969,
           300.95062255859375,
           306.8456726074219,
           313.5875549316406,
           300.4188232421875,
           307.5030517578125,
           301.96490478515625,
           299.79296875,
           -178.90982055664062,
           -79.79638671875,
           -113.74801635742188,
           -113.55615234375,
           -155.2032928466797,
           -222.96795654296875,
           -270.9421081542969,
           -316.9059143066406,
           -370.8644714355469,
           -417.8407287597656,
           -459.00140380859375,
           -515.4905395507812,
           -535.2523803710938,
           -534.4227905273438,
           -532.2299194335938,
           -535.814208984375,
           -487.411865234375,
           -452.7113037109375,
           -313.5689392089844,
           -164.1519317626953,
           -29.73310089111328
          ],
          [
           -445.5643615722656,
           -385.44415283203125,
           -349.15789794921875,
           -277.8643798828125,
           -176.89178466796875,
           -181.01629638671875,
           -68.30699920654297,
           -49.89936065673828,
           10.945070266723633,
           21.685562133789062,
           53.72011947631836,
           74.69369506835938,
           158.29489135742188,
           236.2987060546875,
           211.74794006347656,
           143.16293334960938,
           65.543701171875,
           33.17754364013672,
           -18.511104583740234,
           -65.29478454589844,
           -88.65570068359375,
           -157.79595947265625,
           -105.35167694091797,
           -117.9240951538086,
           -179.3052978515625,
           -180.11416625976562,
           -243.5883026123047,
           -180.29769897460938,
           -76.71720886230469,
           -135.9515838623047,
           202.27072143554688,
           -152.0009765625,
           239.7625274658203,
           195.9055633544922,
           198.0440673828125,
           209.54595947265625,
           197.89993286132812,
           200.65211486816406,
           199.45266723632812,
           194.31417846679688,
           194.5315704345703,
           196.57717895507812,
           196.9140625,
           197.51849365234375,
           206.4075164794922,
           199.55633544921875,
           195.9794921875,
           201.6307830810547,
           206.72264099121094,
           195.4998779296875,
           203.76797485351562,
           197.608642578125,
           195.3944854736328,
           -147.8865966796875,
           3.7458763122558594,
           -19.692947387695312,
           0.14486312866210938,
           -33.559303283691406,
           -75.04534149169922,
           -103.0179672241211,
           -132.8674774169922,
           -174.74522399902344,
           -217.27027893066406,
           -263.14459228515625,
           -327.43951416015625,
           -352.1376037597656,
           -362.27783203125,
           -360.07623291015625,
           -369.9647216796875,
           -346.72906494140625,
           -339.9833984375,
           -237.9052734375,
           -118.79078674316406,
           -28.181583404541016
          ],
          [
           -370.7308349609375,
           -360.4100036621094,
           -332.94195556640625,
           -247.24966430664062,
           -108.16922760009766,
           -121.54873657226562,
           -46.208961486816406,
           -31.72437286376953,
           26.25946807861328,
           29.649757385253906,
           63.81232833862305,
           88.26875305175781,
           162.31204223632812,
           230.09844970703125,
           305.9051513671875,
           230.86293029785156,
           155.30264282226562,
           122.62968444824219,
           71.71338653564453,
           27.410043716430664,
           10.153373718261719,
           -71.8536148071289,
           -37.58124542236328,
           -31.591567993164062,
           -60.35390853881836,
           -113.38429260253906,
           -218.6847686767578,
           -87.07743835449219,
           -25.0528564453125,
           -64.40960693359375,
           219.09971618652344,
           -122.16140747070312,
           221.62509155273438,
           100.15695190429688,
           101.75563049316406,
           109.73741149902344,
           99.8841781616211,
           103.02468872070312,
           102.71461486816406,
           100.05772399902344,
           99.4923324584961,
           100.27779388427734,
           101.21720886230469,
           102.83332061767578,
           111.01718139648438,
           103.85643005371094,
           101.58645629882812,
           104.72451782226562,
           109.51604461669922,
           99.52378845214844,
           108.99705505371094,
           102.56500244140625,
           100.98314666748047,
           -115.98782348632812,
           70.04523468017578,
           56.193115234375,
           90.32450103759766,
           68.17876434326172,
           52.48328399658203,
           41.82200241088867,
           27.04764175415039,
           -1.7399463653564453,
           -39.616477966308594,
           -86.51582336425781,
           -156.3793487548828,
           -183.6586456298828,
           -205.3159637451172,
           -202.08236694335938,
           -209.67816162109375,
           -209.8504638671875,
           -226.980224609375,
           -170.8641357421875,
           -88.19247436523438,
           -22.394916534423828
          ],
          [
           -264.827392578125,
           -233.4569091796875,
           -223.48660278320312,
           -173.96304321289062,
           -18.069252014160156,
           -19.261398315429688,
           -17.75155258178711,
           0.152862548828125,
           50.795616149902344,
           51.33709716796875,
           85.11420440673828,
           103.54740905761719,
           170.67196655273438,
           225.78558349609375,
           293.2789611816406,
           332.81561279296875,
           252.08251953125,
           222.21710205078125,
           169.5167236328125,
           131.49533081054688,
           108.5604019165039,
           36.78400421142578,
           44.13580322265625,
           36.61491394042969,
           24.650596618652344,
           -3.758575439453125,
           -147.1407470703125,
           25.69788360595703,
           -0.7067108154296875,
           11.9161376953125,
           198.5191650390625,
           -76.69776916503906,
           170.31381225585938,
           -13.692852020263672,
           -12.150993347167969,
           -8.19674301147461,
           -16.020233154296875,
           -12.812039375305176,
           -12.846626281738281,
           -12.161925315856934,
           -13.032896041870117,
           -13.063106536865234,
           -13.851266860961914,
           -11.364612579345703,
           -3.9579639434814453,
           -9.784826278686523,
           -10.774805068969727,
           -10.386798858642578,
           -8.069507598876953,
           -12.90927505493164,
           -5.481359481811523,
           -11.005596160888672,
           -12.29175090789795,
           -59.120330810546875,
           123.3757095336914,
           130.39413452148438,
           182.95468139648438,
           174.11874389648438,
           188.44509887695312,
           198.71255493164062,
           202.46878051757812,
           192.0872802734375,
           164.25784301757812,
           120.7605209350586,
           51.998046875,
           25.148452758789062,
           -4.904491424560547,
           -4.824462890625,
           -13.224662780761719,
           -37.3309326171875,
           -73.0416259765625,
           -66.76019287109375,
           -17.52450942993164,
           -18.27722930908203
          ],
          [
           -167.91351318359375,
           -188.03814697265625,
           -140.21595764160156,
           -67.99495697021484,
           7.037017822265625,
           51.58121109008789,
           5.351997375488281,
           25.936016082763672,
           66.39641571044922,
           66.87967681884766,
           101.39823913574219,
           116.77954864501953,
           179.61874389648438,
           227.06658935546875,
           294.2277526855469,
           319.046875,
           360.2142028808594,
           321.01019287109375,
           266.9866638183594,
           230.96365356445312,
           209.28781127929688,
           134.75271606445312,
           140.43255615234375,
           135.03558349609375,
           65.37728881835938,
           46.387046813964844,
           -55.29789733886719,
           126.8979263305664,
           55.30390930175781,
           111.35325622558594,
           195.6676025390625,
           -52.925350189208984,
           136.71437072753906,
           -117.31786346435547,
           -115.32353210449219,
           -115.36393737792969,
           -121.11713409423828,
           -118.23957061767578,
           -117.7980728149414,
           -114.80635070800781,
           -115.89275360107422,
           -116.5322494506836,
           -118.79170227050781,
           -114.25334167480469,
           -107.72222900390625,
           -113.06794738769531,
           -112.96343231201172,
           -115.50074005126953,
           -115.18202209472656,
           -115.49934387207031,
           -110.03881072998047,
           -114.00296783447266,
           -115.27184295654297,
           -38.670616149902344,
           188.19908142089844,
           195.7124786376953,
           267.09228515625,
           264.7064208984375,
           307.0093994140625,
           335.803955078125,
           355.0477294921875,
           355.9468688964844,
           338.0193786621094,
           298.7574157714844,
           234.90655517578125,
           208.29522705078125,
           171.91510009765625,
           173.03892517089844,
           166.50238037109375,
           119.7044448852539,
           58.94487762451172,
           13.605030059814453,
           22.69464874267578,
           -2.6867611408233643
          ],
          [
           -99.90153503417969,
           -121.75129699707031,
           -102.43937683105469,
           -39.58861541748047,
           -10.563003540039062,
           128.94589233398438,
           34.58362579345703,
           50.857234954833984,
           89.07596588134766,
           86.92626953125,
           115.23426818847656,
           133.62655639648438,
           183.90109252929688,
           228.59384155273438,
           288.180908203125,
           307.1690368652344,
           343.4363098144531,
           418.77423095703125,
           359.6302490234375,
           322.75201416015625,
           304.25897216796875,
           227.73683166503906,
           231.95330810546875,
           232.25735473632812,
           158.17132568359375,
           147.27090454101562,
           75.20873260498047,
           229.1041259765625,
           106.50863647460938,
           251.67384338378906,
           192.96615600585938,
           -63.45879364013672,
           109.80652618408203,
           -209.7410125732422,
           -208.9467315673828,
           -212.4150848388672,
           -215.80865478515625,
           -212.2357940673828,
           -212.05242919921875,
           -206.8290252685547,
           -208.41775512695312,
           -209.55926513671875,
           -212.330810546875,
           -206.4295196533203,
           -201.11917114257812,
           -206.3278045654297,
           -206.0463409423828,
           -208.54330444335938,
           -209.50177001953125,
           -208.5851593017578,
           -202.91099548339844,
           -206.96482849121094,
           -206.93020629882812,
           -49.862396240234375,
           219.6449737548828,
           252.53955078125,
           343.6530456542969,
           347.9407043457031,
           410.48211669921875,
           452.2184143066406,
           484.4487609863281,
           498.0873718261719,
           487.02587890625,
           453.0233459472656,
           394.2274169921875,
           371.2275085449219,
           329.17706298828125,
           329.4044189453125,
           323.3668212890625,
           253.83993530273438,
           177.4268035888672,
           79.896728515625,
           86.79664611816406,
           12.46560001373291
          ],
          [
           13.451000213623047,
           -35.974185943603516,
           -20.637786865234375,
           26.93279266357422,
           23.080413818359375,
           169.50982666015625,
           58.82023620605469,
           37.262123107910156,
           104.30873107910156,
           101.91889953613281,
           130.77841186523438,
           153.17282104492188,
           194.1794891357422,
           229.62237548828125,
           284.5193786621094,
           300.5563659667969,
           333.123046875,
           404.7767333984375,
           454.94598388671875,
           411.8645324707031,
           393.20257568359375,
           315.36822509765625,
           321.5867919921875,
           325.00244140625,
           247.73023986816406,
           236.20626831054688,
           158.4991455078125,
           326.8526916503906,
           207.7203369140625,
           349.26220703125,
           194.82122802734375,
           -36.98495864868164,
           83.1561508178711,
           -303.6939392089844,
           -305.25433349609375,
           -311.428466796875,
           -312.33966064453125,
           -309.43487548828125,
           -309.98455810546875,
           -300.71026611328125,
           -302.36962890625,
           -305.4022216796875,
           -309.00738525390625,
           -303.1968078613281,
           -298.8588562011719,
           -301.19122314453125,
           -299.71771240234375,
           -305.6824951171875,
           -309.5016784667969,
           -302.55322265625,
           -299.98443603515625,
           -303.5645446777344,
           -302.0325012207031,
           -20.55998420715332,
           263.0453186035156,
           309.5895690917969,
           406.0699462890625,
           423.8832702636719,
           506.3418273925781,
           566.2803955078125,
           614.8765869140625,
           639.1209716796875,
           638.1297607421875,
           608.517578125,
           554.5478515625,
           531.3718872070312,
           484.6698303222656,
           486.98834228515625,
           485.3683166503906,
           399.6216735839844,
           314.57269287109375,
           173.71449279785156,
           150.8298797607422,
           22.582042694091797
          ],
          [
           71.47737121582031,
           33.77556228637695,
           51.47430419921875,
           89.5079116821289,
           67.43492126464844,
           191.985107421875,
           98.21062469482422,
           57.86780548095703,
           112.022705078125,
           123.35116577148438,
           148.08982849121094,
           170.9211883544922,
           205.72288513183594,
           237.48776245117188,
           288.1873474121094,
           303.93756103515625,
           337.0074462890625,
           405.5106201171875,
           448.07965087890625,
           520.0248413085938,
           492.27532958984375,
           414.4284973144531,
           422.078857421875,
           429.52313232421875,
           346.9281921386719,
           339.19049072265625,
           264.20428466796875,
           448.0540771484375,
           333.94378662109375,
           460.8875427246094,
           198.17218017578125,
           -4.703306198120117,
           54.73995590209961,
           -401.1796875,
           -404.6960754394531,
           -415.6864318847656,
           -412.2419128417969,
           -410.3058776855469,
           -410.3015441894531,
           -398.0967102050781,
           -400.3197326660156,
           -403.73712158203125,
           -408.1253967285156,
           -402.94024658203125,
           -398.2811584472656,
           -400.3945007324219,
           -399.275146484375,
           -405.0272216796875,
           -410.8051452636719,
           -401.4619140625,
           -399.18359375,
           -402.05230712890625,
           -400.1925354003906,
           6.0127410888671875,
           293.9691162109375,
           360.3487243652344,
           473.80169677734375,
           501.9058837890625,
           605.8580322265625,
           682.1137084960938,
           746.161376953125,
           779.9627075195312,
           791.0807495117188,
           765.3792724609375,
           716.390380859375,
           690.2763671875,
           641.4281005859375,
           647.5888671875,
           644.2076416015625,
           543.5671997070312,
           445.189208984375,
           264.89947509765625,
           205.3621063232422,
           31.38462257385254
          ],
          [
           193.7740936279297,
           135.69703674316406,
           144.753173828125,
           128.42391967773438,
           83.11643981933594,
           231.5416717529297,
           126.18463134765625,
           89.89810180664062,
           131.92611694335938,
           150.4385986328125,
           176.13938903808594,
           173.43255615234375,
           227.236083984375,
           246.6754150390625,
           290.3807373046875,
           302.3624267578125,
           335.9150390625,
           405.97003173828125,
           449.2193603515625,
           513.7230224609375,
           593.7465209960938,
           510.6768493652344,
           519.1612548828125,
           531.4237060546875,
           443.8901062011719,
           444.9661560058594,
           358.64923095703125,
           559.2374267578125,
           412.3167419433594,
           545.1087646484375,
           192.39501953125,
           42.371795654296875,
           22.436616897583008,
           -502.17919921875,
           -507.1720275878906,
           -520.2109985351562,
           -515.568115234375,
           -512.0614624023438,
           -511.2515563964844,
           -497.9835510253906,
           -500.43048095703125,
           -504.67095947265625,
           -508.5429992675781,
           -503.8825378417969,
           -499.681640625,
           -501.9014892578125,
           -498.8726806640625,
           -507.064697265625,
           -513.9613647460938,
           -501.50640869140625,
           -500.7940673828125,
           -502.85101318359375,
           -499.9881896972656,
           58.50455856323242,
           344.043212890625,
           413.36309814453125,
           534.0482177734375,
           569.1896362304688,
           699.44482421875,
           790.8318481445312,
           869.1358642578125,
           916.0643920898438,
           936.486083984375,
           916.4685668945312,
           874.3944702148438,
           847.5523681640625,
           799.5174560546875,
           805.768798828125,
           802.7337646484375,
           687.9825439453125,
           580.0615234375,
           355.65740966796875,
           258.3136901855469,
           37.03929138183594
          ],
          [
           295.12701416015625,
           246.54348754882812,
           223.18641662597656,
           194.9312744140625,
           112.64031982421875,
           238.2904052734375,
           154.49444580078125,
           153.0543670654297,
           174.3406524658203,
           147.23838806152344,
           194.13726806640625,
           203.02346801757812,
           230.18763732910156,
           255.76632690429688,
           290.11883544921875,
           302.19439697265625,
           338.3078918457031,
           400.2523193359375,
           450.8308410644531,
           516.431640625,
           591.8619384765625,
           610.864990234375,
           613.8319091796875,
           628.2705078125,
           541.78857421875,
           545.8764038085938,
           465.8763122558594,
           685.2891845703125,
           578.0435791015625,
           669.3087158203125,
           169.01272583007812,
           58.409908294677734,
           -29.953781127929688,
           -597.8310546875,
           -604.9139404296875,
           -621.8617553710938,
           -613.8284912109375,
           -609.7657470703125,
           -609.21728515625,
           -593.4953002929688,
           -596.4783935546875,
           -600.9821166992188,
           -605.8226318359375,
           -600.9697265625,
           -597.5421142578125,
           -599.7120971679688,
           -595.5421142578125,
           -603.9613037109375,
           -613.263427734375,
           -598.228515625,
           -598.504638671875,
           -600.1248779296875,
           -596.5947875976562,
           69.41459655761719,
           371.413330078125,
           465.15386962890625,
           585.6508178710938,
           632.749755859375,
           783.3931274414062,
           887.6448974609375,
           976.6065063476562,
           1037.418212890625,
           1068.1138916015625,
           1053.103759765625,
           1022.2176513671875,
           996.09130859375,
           949.7642822265625,
           956.6871337890625,
           953.305908203125,
           824.9769897460938,
           703.887451171875,
           438.154541015625,
           317.2410583496094,
           40.467369079589844
          ],
          [
           438.2751770019531,
           371.71295166015625,
           305.49365234375,
           256.93341064453125,
           131.752197265625,
           271.89080810546875,
           161.0189666748047,
           184.86244201660156,
           159.5904541015625,
           200.2777557373047,
           211.15049743652344,
           226.67929077148438,
           228.9123077392578,
           270.474365234375,
           295.9217529296875,
           307.1217346191406,
           341.9137878417969,
           395.9386901855469,
           453.24212646484375,
           512.5753173828125,
           593.2988891601562,
           607.2032470703125,
           714.095947265625,
           725.4295043945312,
           637.1175537109375,
           641.540283203125,
           571.9871215820312,
           792.2681884765625,
           667.5492553710938,
           757.7803344726562,
           156.02154541015625,
           99.09812927246094,
           -75.37248229980469,
           -696.6072387695312,
           -705.116455078125,
           -725.5559692382812,
           -714.0518798828125,
           -710.576171875,
           -709.7020263671875,
           -691.6424560546875,
           -694.8878784179688,
           -701.0723876953125,
           -704.4339599609375,
           -700.1422119140625,
           -698.17041015625,
           -699.101318359375,
           -693.451904296875,
           -704.1364135742188,
           -714.7725830078125,
           -696.9427490234375,
           -698.6337280273438,
           -700.2967529296875,
           -694.6281127929688,
           122.44776153564453,
           416.3500061035156,
           519.5911254882812,
           640.974365234375,
           696.4070434570312,
           869.036865234375,
           990.345947265625,
           1090.808349609375,
           1169.7420654296875,
           1208.2996826171875,
           1198.2171630859375,
           1176.08251953125,
           1152.8463134765625,
           1107.000732421875,
           1114.493408203125,
           1110.4962158203125,
           965.228759765625,
           831.6786499023438,
           529.0286254882812,
           374.9580383300781,
           51.697914123535156
          ],
          [
           578.3104248046875,
           521.6018676757812,
           405.7087097167969,
           322.84942626953125,
           225.82638549804688,
           331.2508544921875,
           220.79830932617188,
           215.08041381835938,
           108.60905456542969,
           180.604736328125,
           251.2085418701172,
           249.57171630859375,
           218.70518493652344,
           275.28509521484375,
           304.96588134765625,
           319.9503173828125,
           348.49127197265625,
           398.00384521484375,
           458.5964660644531,
           519.1341552734375,
           602.6863403320312,
           615.4544067382812,
           715.2491455078125,
           832.7747802734375,
           738.4216918945312,
           740.47021484375,
           674.23291015625,
           888.9271240234375,
           749.3746948242188,
           783.694580078125,
           107.37578582763672,
           182.45376586914062,
           -148.23675537109375,
           -797.6956787109375,
           -805.7041015625,
           -829.4514770507812,
           -814.610107421875,
           -811.4713134765625,
           -811.885009765625,
           -791.1664428710938,
           -794.936279296875,
           -801.415771484375,
           -804.924560546875,
           -801.701416015625,
           -799.9111328125,
           -800.261474609375,
           -793.9501342773438,
           -805.6549072265625,
           -819.1878662109375,
           -796.8990478515625,
           -801.0616455078125,
           -800.4649047851562,
           -796.063232421875,
           211.96624755859375,
           455.1430358886719,
           564.09326171875,
           679.0807495117188,
           751.107177734375,
           946.4382934570312,
           1085.7901611328125,
           1201.72705078125,
           1298.114990234375,
           1349.2445068359375,
           1348.5843505859375,
           1337.62646484375,
           1316.5479736328125,
           1271.0194091796875,
           1278.2264404296875,
           1271.728759765625,
           1113.62548828125,
           967.569091796875,
           630.591796875,
           426.4248046875,
           48.335086822509766
          ],
          [
           758.204345703125,
           669.6600341796875,
           506.03790283203125,
           379.2543029785156,
           297.1134948730469,
           386.6585388183594,
           256.90289306640625,
           271.93316650390625,
           106.826171875,
           176.6185302734375,
           199.06460571289062,
           236.67587280273438,
           211.92776489257812,
           225.29226684570312,
           299.00750732421875,
           319.9638977050781,
           341.9205017089844,
           389.943603515625,
           453.95916748046875,
           515.7122802734375,
           603.695556640625,
           615.5892944335938,
           717.3615112304688,
           822.1407470703125,
           828.47216796875,
           828.765869140625,
           766.618896484375,
           956.678955078125,
           849.0164794921875,
           907.4447021484375,
           38.60630798339844,
           227.6154022216797,
           -234.90802001953125,
           -888.3189697265625,
           -895.1495971679688,
           -922.6743774414062,
           -904.734375,
           -901.3056640625,
           -903.77001953125,
           -878.4058227539062,
           -884.072998046875,
           -890.529541015625,
           -894.8168334960938,
           -890.8873291015625,
           -893.0020751953125,
           -890.7025146484375,
           -881.3994140625,
           -896.5125732421875,
           -913.5364990234375,
           -884.8809814453125,
           -893.9299926757812,
           -890.3839111328125,
           -885.4281005859375,
           259.89752197265625,
           470.02630615234375,
           590.5438842773438,
           695.6510009765625,
           784.00439453125,
           999.9066162109375,
           1151.8914794921875,
           1277.793701171875,
           1396.763427734375,
           1455.5589599609375,
           1466.3447265625,
           1472.4580078125,
           1455.280517578125,
           1409.817138671875,
           1419.0107421875,
           1418.238525390625,
           1247.06640625,
           1093.597900390625,
           715.5881958007812,
           480.29229736328125,
           61.3585205078125
          ],
          [
           883.320556640625,
           805.4141235351562,
           644.531005859375,
           462.7434997558594,
           334.68609619140625,
           434.12066650390625,
           276.78717041015625,
           296.05157470703125,
           118.68595886230469,
           210.1376953125,
           248.9313201904297,
           285.04425048828125,
           275.1262512207031,
           251.23199462890625,
           260.3573913574219,
           321.2966613769531,
           348.1822204589844,
           397.5722961425781,
           469.97845458984375,
           529.0018310546875,
           625.9945678710938,
           632.1046752929688,
           737.8243408203125,
           842.7064819335938,
           845.3946533203125,
           931.7806396484375,
           870.5015869140625,
           1056.3277587890625,
           960.436767578125,
           1011.1428833007812,
           5.2855224609375,
           263.2857971191406,
           -292.9573669433594,
           -993.0952758789062,
           -999.4066772460938,
           -1030.6102294921875,
           -1010.3348388671875,
           -1006.4857177734375,
           -1010.0567016601562,
           -981.66259765625,
           -988.8228149414062,
           -993.6475830078125,
           -999.464599609375,
           -995.4144287109375,
           -998.1251220703125,
           -995.58349609375,
           -985.9049072265625,
           -1000.9884033203125,
           -1020.0147094726562,
           -988.3387451171875,
           -1000.9339599609375,
           -993.7699584960938,
           -990.0178833007812,
           308.765625,
           508.7711181640625,
           638.6133422851562,
           751.3818359375,
           847.4605712890625,
           1085.7513427734375,
           1252.9764404296875,
           1391.4951171875,
           1522.80517578125,
           1590.0560302734375,
           1605.78955078125,
           1620.83642578125,
           1601.7904052734375,
           1559.64990234375,
           1572.094482421875,
           1572.3834228515625,
           1391.9066162109375,
           1230.4844970703125,
           814.9785766601562,
           553.7223510742188,
           75.15347290039062
          ],
          [
           1069.185791015625,
           956.6259765625,
           784.919189453125,
           600.8642578125,
           390.33795166015625,
           496.83917236328125,
           315.127197265625,
           333.24835205078125,
           144.30075073242188,
           233.9246368408203,
           224.357666015625,
           260.5472412109375,
           227.27911376953125,
           222.7584991455078,
           226.38583374023438,
           275.9266662597656,
           353.54730224609375,
           409.06072998046875,
           475.37451171875,
           530.5397338867188,
           626.6660766601562,
           638.5394287109375,
           745.12939453125,
           844.3042602539062,
           857.1204223632812,
           927.692138671875,
           960.171142578125,
           1136.13330078125,
           1047.5491943359375,
           1105.0263671875,
           -75.68804931640625,
           306.0579833984375,
           -394.47918701171875,
           -1086.185302734375,
           -1089.497802734375,
           -1124.8564453125,
           -1102.1910400390625,
           -1097.0865478515625,
           -1101.69140625,
           -1071.253173828125,
           -1080.4761962890625,
           -1082.7484130859375,
           -1091.3284912109375,
           -1085.071533203125,
           -1091.626220703125,
           -1088.0201416015625,
           -1076.759765625,
           -1093.1646728515625,
           -1114.531982421875,
           -1077.4129638671875,
           -1095.380126953125,
           -1082.74658203125,
           -1081.109619140625,
           347.0260009765625,
           532.4618530273438,
           661.2545166015625,
           766.093994140625,
           872.5198974609375,
           1130.028076171875,
           1308.1644287109375,
           1456.993896484375,
           1605.01416015625,
           1684.6400146484375,
           1714.06689453125,
           1751.2413330078125,
           1736.948974609375,
           1699.337890625,
           1715.4256591796875,
           1721.1380615234375,
           1534.80029296875,
           1368.5836181640625,
           919.1701049804688,
           622.7918090820312,
           93.21830749511719
          ],
          [
           1227.4853515625,
           1077.7381591796875,
           916.2658081054688,
           721.4888305664062,
           460.48614501953125,
           533.4876708984375,
           349.75579833984375,
           351.0380859375,
           230.01820373535156,
           330.0263366699219,
           300.69415283203125,
           306.689453125,
           231.34312438964844,
           209.3392791748047,
           237.38470458984375,
           295.57293701171875,
           363.09991455078125,
           390.2315673828125,
           472.04449462890625,
           532.7423706054688,
           639.7850952148438,
           654.0859985351562,
           762.9173583984375,
           865.479736328125,
           886.771484375,
           945.7180786132812,
           975.9667358398438,
           1264.2523193359375,
           1161.1954345703125,
           1216.3817138671875,
           -101.05276489257812,
           330.341064453125,
           -463.00909423828125,
           -1205.38232421875,
           -1208.2386474609375,
           -1248.000244140625,
           -1222.3447265625,
           -1216.9794921875,
           -1220.7374267578125,
           -1188.2879638671875,
           -1199.496337890625,
           -1199.6654052734375,
           -1209.8939208984375,
           -1203.0452880859375,
           -1210.8475341796875,
           -1208.18359375,
           -1196.1090087890625,
           -1213.276611328125,
           -1234.394775390625,
           -1194.825927734375,
           -1215.814453125,
           -1198.6258544921875,
           -1199.622314453125,
           381.31488037109375,
           587.1964721679688,
           723.1082153320312,
           829.4938354492188,
           945.951904296875,
           1229.6273193359375,
           1422.6690673828125,
           1586.4263916015625,
           1746.4853515625,
           1838.3358154296875,
           1871.62451171875,
           1915.76611328125,
           1898.584716796875,
           1864.5126953125,
           1887.3486328125,
           1900.9833984375,
           1710.5224609375,
           1541.087646484375,
           1054.2119140625,
           723.937255859375,
           106.66285705566406
          ],
          [
           1069.0029296875,
           932.4637451171875,
           764.9625854492188,
           598.8218994140625,
           344.5869140625,
           460.53857421875,
           363.53997802734375,
           380.861083984375,
           277.397705078125,
           332.93756103515625,
           307.867431640625,
           346.2626953125,
           312.0781555175781,
           287.93670654296875,
           319.1925048828125,
           285.39727783203125,
           329.526123046875,
           408.8241271972656,
           478.9614562988281,
           547.5595092773438,
           642.7904663085938,
           668.7674560546875,
           775.1454467773438,
           870.109130859375,
           892.0023803710938,
           950.834716796875,
           979.874267578125,
           1257.05126953125,
           1249.302001953125,
           1333.3743896484375,
           -19.051116943359375,
           224.44485473632812,
           -375.61639404296875,
           -1172.94677734375,
           -1176.8343505859375,
           -1214.28466796875,
           -1190.584716796875,
           -1184.4664306640625,
           -1190.5355224609375,
           -1156.390380859375,
           -1168.3018798828125,
           -1168.26025390625,
           -1180.11572265625,
           -1171.6610107421875,
           -1177.081298828125,
           -1176.10791015625,
           -1164.736083984375,
           -1179.7900390625,
           -1201.689453125,
           -1163.77392578125,
           -1182.558837890625,
           -1168.0958251953125,
           -1168.7872314453125,
           262.60357666015625,
           584.9147338867188,
           735.9404296875,
           858.2322387695312,
           967.7783813476562,
           1243.2279052734375,
           1429.4139404296875,
           1586.07177734375,
           1735.037109375,
           1813.3734130859375,
           1832.2449951171875,
           1856.9019775390625,
           1830.527587890625,
           1790.84033203125,
           1815.73583984375,
           1828.7677001953125,
           1636.7972412109375,
           1464.43310546875,
           984.5827026367188,
           718.6942749023438,
           105.10411071777344
          ],
          [
           1027.30615234375,
           875.7576904296875,
           706.0072631835938,
           549.7918701171875,
           268.63653564453125,
           451.61187744140625,
           382.46038818359375,
           406.80291748046875,
           330.5412902832031,
           376.9216003417969,
           324.28094482421875,
           351.65045166015625,
           304.5231628417969,
           234.42953491210938,
           285.4453125,
           209.21261596679688,
           265.58868408203125,
           408.04034423828125,
           449.0046081542969,
           523.0568237304688,
           627.0017700195312,
           654.2489013671875,
           763.2791748046875,
           853.8178100585938,
           883.022705078125,
           936.2554931640625,
           971.563232421875,
           1242.3853759765625,
           1210.10302734375,
           1412.45458984375,
           -6.885345458984375,
           151.21185302734375,
           -355.8436584472656,
           -1145.877197265625,
           -1150.990478515625,
           -1187.7637939453125,
           -1163.115234375,
           -1158.673828125,
           -1164.8861083984375,
           -1130.1259765625,
           -1141.923583984375,
           -1142.48583984375,
           -1154.902099609375,
           -1145.8443603515625,
           -1151.5958251953125,
           -1150.521484375,
           -1139.082275390625,
           -1153.94091796875,
           -1175.578125,
           -1137.77783203125,
           -1156.402099609375,
           -1142.915771484375,
           -1143.007080078125,
           184.88186645507812,
           555.4827880859375,
           715.8275146484375,
           842.5986328125,
           947.0204467773438,
           1216.7923583984375,
           1395.07861328125,
           1546.6383056640625,
           1691.9964599609375,
           1768.495361328125,
           1788.2464599609375,
           1812.875,
           1789.708984375,
           1751.7664794921875,
           1775.2041015625,
           1792.758056640625,
           1603.9677734375,
           1440.482177734375,
           959.6644897460938,
           734.8321533203125,
           108.34988403320312
          ],
          [
           131.1580810546875,
           103.28959655761719,
           115.23271942138672,
           101.02729034423828,
           45.854305267333984,
           20.388450622558594,
           11.726486206054688,
           7.857898712158203,
           11.633058547973633,
           -1.975275993347168,
           -26.066226959228516,
           -42.27259826660156,
           -66.7570571899414,
           -91.21454620361328,
           -90.10083770751953,
           -87.36319732666016,
           -48.882564544677734,
           -67.36041259765625,
           -61.44994354248047,
           -46.12671661376953,
           -29.829364776611328,
           -2.5007877349853516,
           -28.14397430419922,
           -38.125404357910156,
           -19.896827697753906,
           -22.488300323486328,
           24.343294143676758,
           8.976522445678711,
           10.494560241699219,
           0.8916091918945312,
           -84.20057678222656,
           40.765625,
           -82.36123657226562,
           -18.022193908691406,
           -17.36151123046875,
           -19.847152709960938,
           -17.07809066772461,
           -17.637210845947266,
           -17.09847640991211,
           -17.2002010345459,
           -17.776920318603516,
           -16.459745407104492,
           -17.153078079223633,
           -17.282344818115234,
           -20.577625274658203,
           -19.031009674072266,
           -18.237646102905273,
           -18.702953338623047,
           -19.238784790039062,
           -16.976558685302734,
           -20.490020751953125,
           -16.65810775756836,
           -17.634008407592773,
           35.21394348144531,
           -27.91948127746582,
           -34.76586151123047,
           -53.24925231933594,
           -48.10348892211914,
           -46.60610580444336,
           -47.79631042480469,
           -46.330413818359375,
           -40.23624038696289,
           -28.24764633178711,
           -12.338746070861816,
           12.891525268554688,
           20.656526565551758,
           31.29329490661621,
           32.89253234863281,
           38.3213005065918,
           47.576141357421875,
           58.6409912109375,
           51.138999938964844,
           20.141075134277344,
           8.709245681762695
          ],
          [
           87.00948333740234,
           64.04862976074219,
           83.10690307617188,
           79.905029296875,
           33.35982131958008,
           9.531057357788086,
           -3.770557403564453,
           -5.477472305297852,
           5.679062843322754,
           -3.571927070617676,
           -26.09401512145996,
           -39.42976760864258,
           -62.72175598144531,
           -85.08229064941406,
           -86.41331481933594,
           -79.14066314697266,
           -42.442665100097656,
           -58.72663116455078,
           -63.41550827026367,
           -62.689476013183594,
           -64.32600402832031,
           -47.89870071411133,
           -71.34393310546875,
           -83.51268005371094,
           -67.42804718017578,
           -64.82588195800781,
           -18.653606414794922,
           -35.416358947753906,
           -33.41485595703125,
           -39.65287780761719,
           -78.38043975830078,
           25.06678009033203,
           -66.466064453125,
           18.93485450744629,
           20.619606018066406,
           19.4473876953125,
           20.88483428955078,
           20.397708892822266,
           20.858715057373047,
           19.620250701904297,
           19.088476181030273,
           21.020917892456055,
           20.47010040283203,
           20.5699520111084,
           17.670244216918945,
           18.584095001220703,
           18.7864990234375,
           19.216751098632812,
           19.79819107055664,
           20.16370391845703,
           17.39661407470703,
           21.150253295898438,
           19.545358657836914,
           21.458145141601562,
           -39.57048416137695,
           -51.96553039550781,
           -72.1171875,
           -71.81585693359375,
           -78.99129486083984,
           -86.27104187011719,
           -90.53279113769531,
           -89.70793914794922,
           -82.60488891601562,
           -69.9067611694336,
           -49.009647369384766,
           -41.6924934387207,
           -30.866724014282227,
           -29.393573760986328,
           -24.212478637695312,
           -9.053590774536133,
           5.709901809692383,
           15.499361991882324,
           -0.6847171783447266,
           6.723776817321777
          ]
         ]
        }
       ],
       "layout": {
        "coloraxis": {
         "cmid": 0,
         "colorscale": [
          [
           0,
           "rgb(103,0,31)"
          ],
          [
           0.1,
           "rgb(178,24,43)"
          ],
          [
           0.2,
           "rgb(214,96,77)"
          ],
          [
           0.3,
           "rgb(244,165,130)"
          ],
          [
           0.4,
           "rgb(253,219,199)"
          ],
          [
           0.5,
           "rgb(247,247,247)"
          ],
          [
           0.6,
           "rgb(209,229,240)"
          ],
          [
           0.7,
           "rgb(146,197,222)"
          ],
          [
           0.8,
           "rgb(67,147,195)"
          ],
          [
           0.9,
           "rgb(33,102,172)"
          ],
          [
           1,
           "rgb(5,48,97)"
          ]
         ]
        },
        "margin": {
         "t": 60
        },
        "template": {
         "data": {
          "bar": [
           {
            "error_x": {
             "color": "#2a3f5f"
            },
            "error_y": {
             "color": "#2a3f5f"
            },
            "marker": {
             "line": {
              "color": "#E5ECF6",
              "width": 0.5
             },
             "pattern": {
              "fillmode": "overlay",
              "size": 10,
              "solidity": 0.2
             }
            },
            "type": "bar"
           }
          ],
          "barpolar": [
           {
            "marker": {
             "line": {
              "color": "#E5ECF6",
              "width": 0.5
             },
             "pattern": {
              "fillmode": "overlay",
              "size": 10,
              "solidity": 0.2
             }
            },
            "type": "barpolar"
           }
          ],
          "carpet": [
           {
            "aaxis": {
             "endlinecolor": "#2a3f5f",
             "gridcolor": "white",
             "linecolor": "white",
             "minorgridcolor": "white",
             "startlinecolor": "#2a3f5f"
            },
            "baxis": {
             "endlinecolor": "#2a3f5f",
             "gridcolor": "white",
             "linecolor": "white",
             "minorgridcolor": "white",
             "startlinecolor": "#2a3f5f"
            },
            "type": "carpet"
           }
          ],
          "choropleth": [
           {
            "colorbar": {
             "outlinewidth": 0,
             "ticks": ""
            },
            "type": "choropleth"
           }
          ],
          "contour": [
           {
            "colorbar": {
             "outlinewidth": 0,
             "ticks": ""
            },
            "colorscale": [
             [
              0,
              "#0d0887"
             ],
             [
              0.1111111111111111,
              "#46039f"
             ],
             [
              0.2222222222222222,
              "#7201a8"
             ],
             [
              0.3333333333333333,
              "#9c179e"
             ],
             [
              0.4444444444444444,
              "#bd3786"
             ],
             [
              0.5555555555555556,
              "#d8576b"
             ],
             [
              0.6666666666666666,
              "#ed7953"
             ],
             [
              0.7777777777777778,
              "#fb9f3a"
             ],
             [
              0.8888888888888888,
              "#fdca26"
             ],
             [
              1,
              "#f0f921"
             ]
            ],
            "type": "contour"
           }
          ],
          "contourcarpet": [
           {
            "colorbar": {
             "outlinewidth": 0,
             "ticks": ""
            },
            "type": "contourcarpet"
           }
          ],
          "heatmap": [
           {
            "colorbar": {
             "outlinewidth": 0,
             "ticks": ""
            },
            "colorscale": [
             [
              0,
              "#0d0887"
             ],
             [
              0.1111111111111111,
              "#46039f"
             ],
             [
              0.2222222222222222,
              "#7201a8"
             ],
             [
              0.3333333333333333,
              "#9c179e"
             ],
             [
              0.4444444444444444,
              "#bd3786"
             ],
             [
              0.5555555555555556,
              "#d8576b"
             ],
             [
              0.6666666666666666,
              "#ed7953"
             ],
             [
              0.7777777777777778,
              "#fb9f3a"
             ],
             [
              0.8888888888888888,
              "#fdca26"
             ],
             [
              1,
              "#f0f921"
             ]
            ],
            "type": "heatmap"
           }
          ],
          "heatmapgl": [
           {
            "colorbar": {
             "outlinewidth": 0,
             "ticks": ""
            },
            "colorscale": [
             [
              0,
              "#0d0887"
             ],
             [
              0.1111111111111111,
              "#46039f"
             ],
             [
              0.2222222222222222,
              "#7201a8"
             ],
             [
              0.3333333333333333,
              "#9c179e"
             ],
             [
              0.4444444444444444,
              "#bd3786"
             ],
             [
              0.5555555555555556,
              "#d8576b"
             ],
             [
              0.6666666666666666,
              "#ed7953"
             ],
             [
              0.7777777777777778,
              "#fb9f3a"
             ],
             [
              0.8888888888888888,
              "#fdca26"
             ],
             [
              1,
              "#f0f921"
             ]
            ],
            "type": "heatmapgl"
           }
          ],
          "histogram": [
           {
            "marker": {
             "pattern": {
              "fillmode": "overlay",
              "size": 10,
              "solidity": 0.2
             }
            },
            "type": "histogram"
           }
          ],
          "histogram2d": [
           {
            "colorbar": {
             "outlinewidth": 0,
             "ticks": ""
            },
            "colorscale": [
             [
              0,
              "#0d0887"
             ],
             [
              0.1111111111111111,
              "#46039f"
             ],
             [
              0.2222222222222222,
              "#7201a8"
             ],
             [
              0.3333333333333333,
              "#9c179e"
             ],
             [
              0.4444444444444444,
              "#bd3786"
             ],
             [
              0.5555555555555556,
              "#d8576b"
             ],
             [
              0.6666666666666666,
              "#ed7953"
             ],
             [
              0.7777777777777778,
              "#fb9f3a"
             ],
             [
              0.8888888888888888,
              "#fdca26"
             ],
             [
              1,
              "#f0f921"
             ]
            ],
            "type": "histogram2d"
           }
          ],
          "histogram2dcontour": [
           {
            "colorbar": {
             "outlinewidth": 0,
             "ticks": ""
            },
            "colorscale": [
             [
              0,
              "#0d0887"
             ],
             [
              0.1111111111111111,
              "#46039f"
             ],
             [
              0.2222222222222222,
              "#7201a8"
             ],
             [
              0.3333333333333333,
              "#9c179e"
             ],
             [
              0.4444444444444444,
              "#bd3786"
             ],
             [
              0.5555555555555556,
              "#d8576b"
             ],
             [
              0.6666666666666666,
              "#ed7953"
             ],
             [
              0.7777777777777778,
              "#fb9f3a"
             ],
             [
              0.8888888888888888,
              "#fdca26"
             ],
             [
              1,
              "#f0f921"
             ]
            ],
            "type": "histogram2dcontour"
           }
          ],
          "mesh3d": [
           {
            "colorbar": {
             "outlinewidth": 0,
             "ticks": ""
            },
            "type": "mesh3d"
           }
          ],
          "parcoords": [
           {
            "line": {
             "colorbar": {
              "outlinewidth": 0,
              "ticks": ""
             }
            },
            "type": "parcoords"
           }
          ],
          "pie": [
           {
            "automargin": true,
            "type": "pie"
           }
          ],
          "scatter": [
           {
            "fillpattern": {
             "fillmode": "overlay",
             "size": 10,
             "solidity": 0.2
            },
            "type": "scatter"
           }
          ],
          "scatter3d": [
           {
            "line": {
             "colorbar": {
              "outlinewidth": 0,
              "ticks": ""
             }
            },
            "marker": {
             "colorbar": {
              "outlinewidth": 0,
              "ticks": ""
             }
            },
            "type": "scatter3d"
           }
          ],
          "scattercarpet": [
           {
            "marker": {
             "colorbar": {
              "outlinewidth": 0,
              "ticks": ""
             }
            },
            "type": "scattercarpet"
           }
          ],
          "scattergeo": [
           {
            "marker": {
             "colorbar": {
              "outlinewidth": 0,
              "ticks": ""
             }
            },
            "type": "scattergeo"
           }
          ],
          "scattergl": [
           {
            "marker": {
             "colorbar": {
              "outlinewidth": 0,
              "ticks": ""
             }
            },
            "type": "scattergl"
           }
          ],
          "scattermapbox": [
           {
            "marker": {
             "colorbar": {
              "outlinewidth": 0,
              "ticks": ""
             }
            },
            "type": "scattermapbox"
           }
          ],
          "scatterpolar": [
           {
            "marker": {
             "colorbar": {
              "outlinewidth": 0,
              "ticks": ""
             }
            },
            "type": "scatterpolar"
           }
          ],
          "scatterpolargl": [
           {
            "marker": {
             "colorbar": {
              "outlinewidth": 0,
              "ticks": ""
             }
            },
            "type": "scatterpolargl"
           }
          ],
          "scatterternary": [
           {
            "marker": {
             "colorbar": {
              "outlinewidth": 0,
              "ticks": ""
             }
            },
            "type": "scatterternary"
           }
          ],
          "surface": [
           {
            "colorbar": {
             "outlinewidth": 0,
             "ticks": ""
            },
            "colorscale": [
             [
              0,
              "#0d0887"
             ],
             [
              0.1111111111111111,
              "#46039f"
             ],
             [
              0.2222222222222222,
              "#7201a8"
             ],
             [
              0.3333333333333333,
              "#9c179e"
             ],
             [
              0.4444444444444444,
              "#bd3786"
             ],
             [
              0.5555555555555556,
              "#d8576b"
             ],
             [
              0.6666666666666666,
              "#ed7953"
             ],
             [
              0.7777777777777778,
              "#fb9f3a"
             ],
             [
              0.8888888888888888,
              "#fdca26"
             ],
             [
              1,
              "#f0f921"
             ]
            ],
            "type": "surface"
           }
          ],
          "table": [
           {
            "cells": {
             "fill": {
              "color": "#EBF0F8"
             },
             "line": {
              "color": "white"
             }
            },
            "header": {
             "fill": {
              "color": "#C8D4E3"
             },
             "line": {
              "color": "white"
             }
            },
            "type": "table"
           }
          ]
         },
         "layout": {
          "annotationdefaults": {
           "arrowcolor": "#2a3f5f",
           "arrowhead": 0,
           "arrowwidth": 1
          },
          "autotypenumbers": "strict",
          "coloraxis": {
           "colorbar": {
            "outlinewidth": 0,
            "ticks": ""
           }
          },
          "colorscale": {
           "diverging": [
            [
             0,
             "#8e0152"
            ],
            [
             0.1,
             "#c51b7d"
            ],
            [
             0.2,
             "#de77ae"
            ],
            [
             0.3,
             "#f1b6da"
            ],
            [
             0.4,
             "#fde0ef"
            ],
            [
             0.5,
             "#f7f7f7"
            ],
            [
             0.6,
             "#e6f5d0"
            ],
            [
             0.7,
             "#b8e186"
            ],
            [
             0.8,
             "#7fbc41"
            ],
            [
             0.9,
             "#4d9221"
            ],
            [
             1,
             "#276419"
            ]
           ],
           "sequential": [
            [
             0,
             "#0d0887"
            ],
            [
             0.1111111111111111,
             "#46039f"
            ],
            [
             0.2222222222222222,
             "#7201a8"
            ],
            [
             0.3333333333333333,
             "#9c179e"
            ],
            [
             0.4444444444444444,
             "#bd3786"
            ],
            [
             0.5555555555555556,
             "#d8576b"
            ],
            [
             0.6666666666666666,
             "#ed7953"
            ],
            [
             0.7777777777777778,
             "#fb9f3a"
            ],
            [
             0.8888888888888888,
             "#fdca26"
            ],
            [
             1,
             "#f0f921"
            ]
           ],
           "sequentialminus": [
            [
             0,
             "#0d0887"
            ],
            [
             0.1111111111111111,
             "#46039f"
            ],
            [
             0.2222222222222222,
             "#7201a8"
            ],
            [
             0.3333333333333333,
             "#9c179e"
            ],
            [
             0.4444444444444444,
             "#bd3786"
            ],
            [
             0.5555555555555556,
             "#d8576b"
            ],
            [
             0.6666666666666666,
             "#ed7953"
            ],
            [
             0.7777777777777778,
             "#fb9f3a"
            ],
            [
             0.8888888888888888,
             "#fdca26"
            ],
            [
             1,
             "#f0f921"
            ]
           ]
          },
          "colorway": [
           "#636efa",
           "#EF553B",
           "#00cc96",
           "#ab63fa",
           "#FFA15A",
           "#19d3f3",
           "#FF6692",
           "#B6E880",
           "#FF97FF",
           "#FECB52"
          ],
          "font": {
           "color": "#2a3f5f"
          },
          "geo": {
           "bgcolor": "white",
           "lakecolor": "white",
           "landcolor": "#E5ECF6",
           "showlakes": true,
           "showland": true,
           "subunitcolor": "white"
          },
          "hoverlabel": {
           "align": "left"
          },
          "hovermode": "closest",
          "mapbox": {
           "style": "light"
          },
          "paper_bgcolor": "white",
          "plot_bgcolor": "#E5ECF6",
          "polar": {
           "angularaxis": {
            "gridcolor": "white",
            "linecolor": "white",
            "ticks": ""
           },
           "bgcolor": "#E5ECF6",
           "radialaxis": {
            "gridcolor": "white",
            "linecolor": "white",
            "ticks": ""
           }
          },
          "scene": {
           "xaxis": {
            "backgroundcolor": "#E5ECF6",
            "gridcolor": "white",
            "gridwidth": 2,
            "linecolor": "white",
            "showbackground": true,
            "ticks": "",
            "zerolinecolor": "white"
           },
           "yaxis": {
            "backgroundcolor": "#E5ECF6",
            "gridcolor": "white",
            "gridwidth": 2,
            "linecolor": "white",
            "showbackground": true,
            "ticks": "",
            "zerolinecolor": "white"
           },
           "zaxis": {
            "backgroundcolor": "#E5ECF6",
            "gridcolor": "white",
            "gridwidth": 2,
            "linecolor": "white",
            "showbackground": true,
            "ticks": "",
            "zerolinecolor": "white"
           }
          },
          "shapedefaults": {
           "line": {
            "color": "#2a3f5f"
           }
          },
          "ternary": {
           "aaxis": {
            "gridcolor": "white",
            "linecolor": "white",
            "ticks": ""
           },
           "baxis": {
            "gridcolor": "white",
            "linecolor": "white",
            "ticks": ""
           },
           "bgcolor": "#E5ECF6",
           "caxis": {
            "gridcolor": "white",
            "linecolor": "white",
            "ticks": ""
           }
          },
          "title": {
           "x": 0.05
          },
          "xaxis": {
           "automargin": true,
           "gridcolor": "white",
           "linecolor": "white",
           "ticks": "",
           "title": {
            "standoff": 15
           },
           "zerolinecolor": "white",
           "zerolinewidth": 2
          },
          "yaxis": {
           "automargin": true,
           "gridcolor": "white",
           "linecolor": "white",
           "ticks": "",
           "title": {
            "standoff": 15
           },
           "zerolinecolor": "white",
           "zerolinewidth": 2
          }
         }
        },
        "xaxis": {
         "anchor": "y",
         "constrain": "domain",
         "domain": [
          0,
          1
         ],
         "scaleanchor": "y",
         "title": {
          "text": "Input"
         }
        },
        "yaxis": {
         "anchor": "x",
         "autorange": "reversed",
         "constrain": "domain",
         "domain": [
          0,
          1
         ],
         "title": {
          "text": "Output"
         }
        }
       }
      }
     },
     "metadata": {},
     "output_type": "display_data"
    }
   ],
   "source": [
    "px.imshow(to_numpy(QK_circuit), labels={'x':'Key', 'y':'Query'}, x=vocab_labels+pos_labels, y=vocab_labels+pos_labels, color_continuous_scale='RdBu', color_continuous_midpoint=0.0).show()\n",
    "px.imshow(to_numpy(OV_circuit), labels={'x':'Input', 'y':'Output'}, x=vocab_labels+pos_labels, y=vocab_labels, color_continuous_scale='RdBu', color_continuous_midpoint=0.0).show()"
   ]
  },
  {
   "cell_type": "code",
   "execution_count": null,
   "metadata": {},
   "outputs": [
    {
     "name": "stdout",
     "output_type": "stream",
     "text": [
      "Setting use_attn_result to True\n"
     ]
    }
   ],
   "source": [
    "sorting_model.set_use_attn_result(True)"
   ]
  },
  {
   "cell_type": "code",
   "execution_count": null,
   "metadata": {},
   "outputs": [],
   "source": [
    "# sorting_model.set_\n",
    "example_logits, example_cache = sorting_model.run_with_hooks(example_tokens, return_type='logits', return_cache=True)\n"
   ]
  },
  {
   "cell_type": "code",
   "execution_count": null,
   "metadata": {},
   "outputs": [
    {
     "data": {
      "text/plain": [
       "dict_keys(['hook_embed', 'hook_pos_embed', 'blocks.0.hook_resid_pre', 'blocks.0.attn.hook_q', 'blocks.0.attn.hook_k', 'blocks.0.attn.hook_v', 'blocks.0.attn.hook_attn', 'blocks.0.attn.hook_z', 'blocks.0.attn.hook_result', 'blocks.0.hook_attn_out', 'blocks.0.hook_resid_post'])"
      ]
     },
     "execution_count": null,
     "metadata": {},
     "output_type": "execute_result"
    }
   ],
   "source": [
    "\n",
    "example_cache.keys()"
   ]
  },
  {
   "cell_type": "code",
   "execution_count": null,
   "metadata": {},
   "outputs": [
    {
     "name": "stdout",
     "output_type": "stream",
     "text": [
      "torch.Size([5, 16, 42, 32])\n"
     ]
    }
   ],
   "source": [
    "attn_bias = einops.repeat(sorting_model.blocks[0].attn.b_O, \"d_model -> batch pos d_model\", batch=example_tokens.size(0), pos=example_tokens.size(1))\n",
    "pos_embed = einops.repeat(example_cache['hook_pos_embed'], \"pos d_model -> batch pos d_model\", batch=example_tokens.size(0))\n",
    "components = torch.stack([example_cache['hook_embed'], pos_embed, example_cache['blocks.0.attn.hook_result'][:, :, 0], example_cache['blocks.0.attn.hook_result'][:, :, 1], attn_bias], dim=0)\n",
    "print(components.shape)\n",
    "component_labels = ['embed', 'pos_embed', 'result_0', 'result_1', 'attn_bias']"
   ]
  },
  {
   "cell_type": "code",
   "execution_count": null,
   "metadata": {},
   "outputs": [
    {
     "name": "stdout",
     "output_type": "stream",
     "text": [
      "torch.Size([16, 20, 32])\n",
      "torch.Size([16, 5, 20])\n"
     ]
    },
    {
     "data": {
      "application/vnd.plotly.v1+json": {
       "config": {
        "plotlyServerURL": "https://plot.ly"
       },
       "data": [
        {
         "coloraxis": "coloraxis",
         "hovertemplate": "x: %{x}<br>y: %{y}<br>color: %{z}<extra></extra>",
         "name": "0",
         "type": "heatmap",
         "xaxis": "x",
         "y": [
          "embed",
          "pos_embed",
          "result_0",
          "result_1",
          "attn_bias"
         ],
         "yaxis": "y",
         "z": [
          [
           0.18373076617717743,
           2.250321388244629,
           0.8256160616874695,
           2.1870064735412598,
           2.1870064735412598,
           0.9288819432258606,
           0.5924950242042542,
           1.5196149349212646,
           2.7259929180145264,
           1.2958741188049316,
           3.11409592628479,
           3.11409592628479,
           0.7731115818023682,
           2.6470718383789062,
           3.6340932846069336,
           1.3168277740478516,
           1.7534713745117188,
           0.4282962679862976,
           0.46582266688346863,
           0.9286660552024841
          ],
          [
           0.5863544344902039,
           0.2511943578720093,
           0.5773317813873291,
           0.4456403851509094,
           0.5938087701797485,
           0.44451478123664856,
           0.5787656903266907,
           0.3066915273666382,
           0.08651583641767502,
           -0.021625500172376633,
           -0.0023497771471738815,
           -0.17596237361431122,
           0.30589333176612854,
           0.920139491558075,
           0.8485703468322754,
           0.8414425849914551,
           0.4363322854042053,
           0.07332761585712433,
           0.47272181510925293,
           2.878628969192505
          ],
          [
           5.086038112640381,
           5.07852840423584,
           10.388699531555176,
           10.439776420593262,
           10.664351463317871,
           7.8867058753967285,
           41.56184005737305,
           13.66893196105957,
           15.398941993713379,
           18.523143768310547,
           17.338062286376953,
           15.67675495147705,
           12.177416801452637,
           16.50997543334961,
           21.33115005493164,
           33.94441223144531,
           11.453629493713379,
           2.1606438159942627,
           -1.3724455833435059,
           42.23655319213867
          ],
          [
           3.6217122077941895,
           7.743762969970703,
           0.9042555689811707,
           2.9748973846435547,
           3.045219898223877,
           6.6935038566589355,
           -7.1796183586120605,
           3.3954696655273438,
           3.72792649269104,
           3.8341879844665527,
           2.2009477615356445,
           2.1564788818359375,
           4.9412360191345215,
           5.182043075561523,
           5.970114231109619,
           15.369321823120117,
           5.992980003356934,
           21.692665100097656,
           30.594247817993164,
           22.94191551208496
          ],
          [
           -0.3782312870025635,
           -0.3782312870025635,
           -0.19064074754714966,
           -0.19064074754714966,
           -0.19064074754714966,
           -0.18340612947940826,
           -0.6576328277587891,
           -0.14656352996826172,
           -0.14656352996826172,
           -0.18110796809196472,
           -0.18110796809196472,
           -0.18110796809196472,
           0.3870062828063965,
           0.3920283019542694,
           0.3890509009361267,
           -0.041179534047842026,
           0.7746500372886658,
           0.5082781910896301,
           0.33129605650901794,
           -0.31678473949432373
          ]
         ]
        }
       ],
       "frames": [
        {
         "data": [
          {
           "coloraxis": "coloraxis",
           "name": "0",
           "type": "heatmap",
           "y": [
            "embed",
            "pos_embed",
            "result_0",
            "result_1",
            "attn_bias"
           ],
           "z": [
            [
             0.18373076617717743,
             2.250321388244629,
             0.8256160616874695,
             2.1870064735412598,
             2.1870064735412598,
             0.9288819432258606,
             0.5924950242042542,
             1.5196149349212646,
             2.7259929180145264,
             1.2958741188049316,
             3.11409592628479,
             3.11409592628479,
             0.7731115818023682,
             2.6470718383789062,
             3.6340932846069336,
             1.3168277740478516,
             1.7534713745117188,
             0.4282962679862976,
             0.46582266688346863,
             0.9286660552024841
            ],
            [
             0.5863544344902039,
             0.2511943578720093,
             0.5773317813873291,
             0.4456403851509094,
             0.5938087701797485,
             0.44451478123664856,
             0.5787656903266907,
             0.3066915273666382,
             0.08651583641767502,
             -0.021625500172376633,
             -0.0023497771471738815,
             -0.17596237361431122,
             0.30589333176612854,
             0.920139491558075,
             0.8485703468322754,
             0.8414425849914551,
             0.4363322854042053,
             0.07332761585712433,
             0.47272181510925293,
             2.878628969192505
            ],
            [
             5.086038112640381,
             5.07852840423584,
             10.388699531555176,
             10.439776420593262,
             10.664351463317871,
             7.8867058753967285,
             41.56184005737305,
             13.66893196105957,
             15.398941993713379,
             18.523143768310547,
             17.338062286376953,
             15.67675495147705,
             12.177416801452637,
             16.50997543334961,
             21.33115005493164,
             33.94441223144531,
             11.453629493713379,
             2.1606438159942627,
             -1.3724455833435059,
             42.23655319213867
            ],
            [
             3.6217122077941895,
             7.743762969970703,
             0.9042555689811707,
             2.9748973846435547,
             3.045219898223877,
             6.6935038566589355,
             -7.1796183586120605,
             3.3954696655273438,
             3.72792649269104,
             3.8341879844665527,
             2.2009477615356445,
             2.1564788818359375,
             4.9412360191345215,
             5.182043075561523,
             5.970114231109619,
             15.369321823120117,
             5.992980003356934,
             21.692665100097656,
             30.594247817993164,
             22.94191551208496
            ],
            [
             -0.3782312870025635,
             -0.3782312870025635,
             -0.19064074754714966,
             -0.19064074754714966,
             -0.19064074754714966,
             -0.18340612947940826,
             -0.6576328277587891,
             -0.14656352996826172,
             -0.14656352996826172,
             -0.18110796809196472,
             -0.18110796809196472,
             -0.18110796809196472,
             0.3870062828063965,
             0.3920283019542694,
             0.3890509009361267,
             -0.041179534047842026,
             0.7746500372886658,
             0.5082781910896301,
             0.33129605650901794,
             -0.31678473949432373
            ]
           ]
          }
         ],
         "layout": {
          "coloraxis": {
           "cmid": 0,
           "colorscale": [
            [
             0,
             "rgb(103,0,31)"
            ],
            [
             0.1,
             "rgb(178,24,43)"
            ],
            [
             0.2,
             "rgb(214,96,77)"
            ],
            [
             0.3,
             "rgb(244,165,130)"
            ],
            [
             0.4,
             "rgb(253,219,199)"
            ],
            [
             0.5,
             "rgb(247,247,247)"
            ],
            [
             0.6,
             "rgb(209,229,240)"
            ],
            [
             0.7,
             "rgb(146,197,222)"
            ],
            [
             0.8,
             "rgb(67,147,195)"
            ],
            [
             0.9,
             "rgb(33,102,172)"
            ],
            [
             1,
             "rgb(5,48,97)"
            ]
           ]
          },
          "title": {
           "text": "Direct Logit Attribution"
          },
          "xaxis": {
           "constrain": "domain",
           "scaleanchor": "y"
          },
          "yaxis": {
           "autorange": "reversed",
           "constrain": "domain"
          }
         },
         "name": "0"
        },
        {
         "data": [
          {
           "coloraxis": "coloraxis",
           "name": "1",
           "type": "heatmap",
           "y": [
            "embed",
            "pos_embed",
            "result_0",
            "result_1",
            "attn_bias"
           ],
           "z": [
            [
             1.6707899570465088,
             0.9276542067527771,
             2.3308141231536865,
             2.250321388244629,
             0.17400966584682465,
             0.328677773475647,
             0.6554062366485596,
             2.3274621963500977,
             2.3274621963500977,
             0.25403979420661926,
             2.502586603164673,
             3.357661724090576,
             3.3287458419799805,
             2.744859457015991,
             1.1003131866455078,
             1.1339433193206787,
             2.302891969680786,
             2.7118005752563477,
             2.7118005752563477,
             2.6082377433776855
            ],
            [
             1.4008328914642334,
             0.46293240785598755,
             0.49096691608428955,
             0.22403711080551147,
             0.598207950592041,
             0.6513505578041077,
             0.37799271941185,
             0.14000968635082245,
             0.0020700059831142426,
             0.9192098379135132,
             0.8885521292686462,
             0.8683778643608093,
             1.0003232955932617,
             0.9679559469223022,
             0.44743481278419495,
             0.5523533225059509,
             0.13586346805095673,
             0.2274652123451233,
             0.5690631866455078,
             1.6094424724578857
            ],
            [
             10.096112251281738,
             6.898702621459961,
             4.766028881072998,
             4.663760185241699,
             10.277210235595703,
             9.684867858886719,
             37.432159423828125,
             24.397764205932617,
             15.87657642364502,
             4.312595844268799,
             22.7851619720459,
             36.92280197143555,
             32.89692306518555,
             28.794212341308594,
             16.78434181213379,
             5.874711990356445,
             6.316131591796875,
             6.028283596038818,
             6.622063159942627,
             0.7078092098236084
            ],
            [
             -1.0276318788528442,
             2.9492084980010986,
             9.965508460998535,
             7.7566118240356445,
             1.5325900316238403,
             8.823262214660645,
             -7.535409450531006,
             -2.3182966709136963,
             -2.3760995864868164,
             4.209290504455566,
             14.935944557189941,
             5.7011213302612305,
             4.960284233093262,
             3.1061558723449707,
             15.875062942504883,
             18.347055435180664,
             30.27199363708496,
             37.90882110595703,
             42.4158821105957,
             47.162742614746094
            ],
            [
             -0.3364259898662567,
             -0.1221131831407547,
             -0.3782312870025635,
             -0.3782312870025635,
             -0.3849152624607086,
             -0.2560155391693115,
             -0.5207950472831726,
             -0.5207950472831726,
             -0.5207950472831726,
             0.3920283019542694,
             -0.10492610931396484,
             -0.041179534047842026,
             0.36537134647369385,
             0.36537134647369385,
             0.6215218901634216,
             0.5141380429267883,
             0.41974908113479614,
             0.41974908113479614,
             0.41974908113479614,
             0.33129605650901794
            ]
           ]
          }
         ],
         "layout": {
          "coloraxis": {
           "cmid": 0,
           "colorscale": [
            [
             0,
             "rgb(103,0,31)"
            ],
            [
             0.1,
             "rgb(178,24,43)"
            ],
            [
             0.2,
             "rgb(214,96,77)"
            ],
            [
             0.3,
             "rgb(244,165,130)"
            ],
            [
             0.4,
             "rgb(253,219,199)"
            ],
            [
             0.5,
             "rgb(247,247,247)"
            ],
            [
             0.6,
             "rgb(209,229,240)"
            ],
            [
             0.7,
             "rgb(146,197,222)"
            ],
            [
             0.8,
             "rgb(67,147,195)"
            ],
            [
             0.9,
             "rgb(33,102,172)"
            ],
            [
             1,
             "rgb(5,48,97)"
            ]
           ]
          },
          "title": {
           "text": "Direct Logit Attribution"
          },
          "xaxis": {
           "constrain": "domain",
           "scaleanchor": "y"
          },
          "yaxis": {
           "autorange": "reversed",
           "constrain": "domain"
          }
         },
         "name": "1"
        },
        {
         "data": [
          {
           "coloraxis": "coloraxis",
           "name": "2",
           "type": "heatmap",
           "y": [
            "embed",
            "pos_embed",
            "result_0",
            "result_1",
            "attn_bias"
           ],
           "z": [
            [
             1.6707899570465088,
             2.2187914848327637,
             2.2187914848327637,
             0.9276542067527771,
             2.6762022972106934,
             1.0626200437545776,
             1.539568305015564,
             2.1870064735412598,
             2.150174856185913,
             1.3063381910324097,
             0.5924950242042542,
             1.5196149349212646,
             0.4842621088027954,
             1.9658653736114502,
             1.3168277740478516,
             3.3287458419799805,
             0.26859790086746216,
             2.488830089569092,
             1.000209927558899,
             0.6406611204147339
            ],
            [
             1.4008328914642334,
             0.058661237359046936,
             -0.41634395718574524,
             0.10751238465309143,
             0.12608858942985535,
             0.4164268970489502,
             0.288893461227417,
             0.0907580554485321,
             0.11391708254814148,
             -0.4248657524585724,
             0.07641463726758957,
             -0.20332050323486328,
             0.30589333176612854,
             1.1360665559768677,
             0.8949539661407471,
             0.8372355699539185,
             0.40165671706199646,
             0.07332761585712433,
             0.5690631866455078,
             2.08249568939209
            ],
            [
             10.098821640014648,
             10.008681297302246,
             10.012550354003906,
             6.892663478851318,
             6.671936988830566,
             9.623869895935059,
             10.176074981689453,
             10.303875923156738,
             9.901606559753418,
             9.9990873336792,
             42.37645721435547,
             11.936356544494629,
             16.208044052124023,
             17.300430297851562,
             36.12744140625,
             22.3848819732666,
             8.817276000976562,
             6.881961822509766,
             1.722562313079834,
             15.18665599822998
            ],
            [
             -1.0205283164978027,
             -0.7634194493293762,
             -0.6593247056007385,
             1.9828094244003296,
             2.3467249870300293,
             0.6794622540473938,
             2.7191569805145264,
             3.1482932567596436,
             4.105844974517822,
             7.426652908325195,
             -6.914425849914551,
             3.2875750064849854,
             4.196407794952393,
             6.2167181968688965,
             15.385315895080566,
             3.5242769718170166,
             15.097402572631836,
             20.93030548095703,
             29.651613235473633,
             31.08219337463379
            ],
            [
             -0.3364259898662567,
             -0.3364259898662567,
             -0.3364259898662567,
             -0.1221131831407547,
             -0.1221131831407547,
             -0.1604265421628952,
             -0.19064074754714966,
             -0.19064074754714966,
             -0.3849152624607086,
             -0.18340612947940826,
             -0.6576328277587891,
             -0.14656352996826172,
             0.3870062828063965,
             0.3890509009361267,
             -0.041179534047842026,
             0.36537134647369385,
             0.5082781910896301,
             0.5082781910896301,
             0.41974908113479614,
             0.19678233563899994
            ]
           ]
          }
         ],
         "layout": {
          "coloraxis": {
           "cmid": 0,
           "colorscale": [
            [
             0,
             "rgb(103,0,31)"
            ],
            [
             0.1,
             "rgb(178,24,43)"
            ],
            [
             0.2,
             "rgb(214,96,77)"
            ],
            [
             0.3,
             "rgb(244,165,130)"
            ],
            [
             0.4,
             "rgb(253,219,199)"
            ],
            [
             0.5,
             "rgb(247,247,247)"
            ],
            [
             0.6,
             "rgb(209,229,240)"
            ],
            [
             0.7,
             "rgb(146,197,222)"
            ],
            [
             0.8,
             "rgb(67,147,195)"
            ],
            [
             0.9,
             "rgb(33,102,172)"
            ],
            [
             1,
             "rgb(5,48,97)"
            ]
           ]
          },
          "title": {
           "text": "Direct Logit Attribution"
          },
          "xaxis": {
           "constrain": "domain",
           "scaleanchor": "y"
          },
          "yaxis": {
           "autorange": "reversed",
           "constrain": "domain"
          }
         },
         "name": "2"
        },
        {
         "data": [
          {
           "coloraxis": "coloraxis",
           "name": "3",
           "type": "heatmap",
           "y": [
            "embed",
            "pos_embed",
            "result_0",
            "result_1",
            "attn_bias"
           ],
           "z": [
            [
             1.6707899570465088,
             0.7828741073608398,
             0.8256160616874695,
             2.150174856185913,
             2.1769652366638184,
             2.1769652366638184,
             1.3063381910324097,
             1.9698816537857056,
             3.2163000106811523,
             0.6554062366485596,
             1.4868221282958984,
             0.5649222135543823,
             2.9543261528015137,
             3.2629220485687256,
             1.2455183267593384,
             1.2182658910751343,
             1.1339433193206787,
             2.8728857040405273,
             2.302891969680786,
             0.6406611204147339
            ],
            [
             1.4008328914642334,
             0.2511943578720093,
             0.5773317813873291,
             0.5088109374046326,
             0.598207950592041,
             0.6335627436637878,
             0.37529027462005615,
             0.39348429441452026,
             0.04723784327507019,
             -0.062169212847948074,
             -0.1545795053243637,
             1.061601161956787,
             1.1769078969955444,
             0.8213623762130737,
             0.7686966061592102,
             0.6058037877082825,
             0.6585039496421814,
             0.4925205707550049,
             0.5690631866455078,
             2.08249568939209
            ],
            [
             10.095564842224121,
             5.069782733917236,
             10.459439277648926,
             9.8402738571167,
             11.843243598937988,
             11.207462310791016,
             10.332849502563477,
             18.1745548248291,
             19.769014358520508,
             36.447959899902344,
             11.984387397766113,
             8.103723526000977,
             36.176063537597656,
             38.448890686035156,
             37.48634338378906,
             10.958224296569824,
             5.856618404388428,
             3.655360698699951,
             0.5692225694656372,
             13.080245018005371
            ],
            [
             -1.1474775075912476,
             3.8022587299346924,
             1.4243874549865723,
             4.219313144683838,
             4.408243179321289,
             4.39880895614624,
             6.177469730377197,
             8.787127494812012,
             6.53727388381958,
             -9.077134132385254,
             2.406538486480713,
             6.015168190002441,
             5.925131320953369,
             14.490021705627441,
             1.8999533653259277,
             20.23217010498047,
             21.61193084716797,
             32.64529037475586,
             40.367034912109375,
             37.485809326171875
            ],
            [
             -0.3364259898662567,
             -0.3782312870025635,
             -0.19064074754714966,
             -0.3849152624607086,
             -0.3849152624607086,
             -0.3849152624607086,
             -0.18340612947940826,
             -0.2560155391693115,
             -0.2560155391693115,
             -0.5207950472831726,
             -0.14656352996826172,
             0.3890509009361267,
             0.3890509009361267,
             -0.10492610931396484,
             0.7746500372886658,
             0.6215218901634216,
             0.5141380429267883,
             0.5141380429267883,
             0.41974908113479614,
             0.19678233563899994
            ]
           ]
          }
         ],
         "layout": {
          "coloraxis": {
           "cmid": 0,
           "colorscale": [
            [
             0,
             "rgb(103,0,31)"
            ],
            [
             0.1,
             "rgb(178,24,43)"
            ],
            [
             0.2,
             "rgb(214,96,77)"
            ],
            [
             0.3,
             "rgb(244,165,130)"
            ],
            [
             0.4,
             "rgb(253,219,199)"
            ],
            [
             0.5,
             "rgb(247,247,247)"
            ],
            [
             0.6,
             "rgb(209,229,240)"
            ],
            [
             0.7,
             "rgb(146,197,222)"
            ],
            [
             0.8,
             "rgb(67,147,195)"
            ],
            [
             0.9,
             "rgb(33,102,172)"
            ],
            [
             1,
             "rgb(5,48,97)"
            ]
           ]
          },
          "title": {
           "text": "Direct Logit Attribution"
          },
          "xaxis": {
           "constrain": "domain",
           "scaleanchor": "y"
          },
          "yaxis": {
           "autorange": "reversed",
           "constrain": "domain"
          }
         },
         "name": "3"
        },
        {
         "data": [
          {
           "coloraxis": "coloraxis",
           "name": "4",
           "type": "heatmap",
           "y": [
            "embed",
            "pos_embed",
            "result_0",
            "result_1",
            "attn_bias"
           ],
           "z": [
            [
             1.6707899570465088,
             2.2187914848327637,
             0.39719682931900024,
             2.141554117202759,
             1.539568305015564,
             2.150174856185913,
             2.1769652366638184,
             1.0920791625976562,
             1.8583269119262695,
             1.4868221282958984,
             2.7259929180145264,
             2.7259929180145264,
             1.2958741188049316,
             2.400235652923584,
             2.4577250480651855,
             1.7264652252197266,
             -0.29206937551498413,
             2.7337305545806885,
             2.095872163772583,
             1.000209927558899
            ],
            [
             1.4008328914642334,
             0.058661237359046936,
             0.6730650663375854,
             0.4245152473449707,
             0.5938087701797485,
             0.6335627436637878,
             0.48255959153175354,
             0.4595847427845001,
             0.0020700059831142426,
             -0.15994779765605927,
             -0.1545795053243637,
             -0.20332050323486328,
             -0.27852219343185425,
             -0.0645563155412674,
             -0.07996045798063278,
             0.6039258241653442,
             0.26574745774269104,
             -0.0706155002117157,
             -0.19223447144031525,
             0.7702813744544983
            ],
            [
             10.080848693847656,
             9.996194839477539,
             9.408799171447754,
             9.76650619506836,
             10.038732528686523,
             9.526249885559082,
             12.20313549041748,
             17.516077041625977,
             22.993833541870117,
             16.78203773498535,
             15.99344253540039,
             15.421510696411133,
             14.699898719787598,
             17.594175338745117,
             20.932785034179688,
             11.478811264038086,
             16.335079193115234,
             13.38404369354248,
             14.360762596130371,
             9.22022819519043
            ],
            [
             -0.5614608526229858,
             -0.2326112687587738,
             -1.1063992977142334,
             -0.6066628694534302,
             -0.5371591448783875,
             -0.5258049368858337,
             -0.29377949237823486,
             -1.06398606300354,
             -1.0307345390319824,
             2.688369035720825,
             2.8534388542175293,
             2.801996946334839,
             3.207740068435669,
             4.18344259262085,
             5.015037536621094,
             14.80697250366211,
             9.669853210449219,
             17.540998458862305,
             24.597412109375,
             35.419342041015625
            ],
            [
             -0.3364259898662567,
             -0.3364259898662567,
             -0.1604265421628952,
             -0.1604265421628952,
             -0.19064074754714966,
             -0.3849152624607086,
             -0.3849152624607086,
             -0.6576328277587891,
             -0.5207950472831726,
             -0.14656352996826172,
             -0.14656352996826172,
             -0.14656352996826172,
             -0.18110796809196472,
             0.12391126155853271,
             0.3870062828063965,
             -0.10492610931396484,
             0.6215218901634216,
             0.6215218901634216,
             0.5082781910896301,
             0.41974908113479614
            ]
           ]
          }
         ],
         "layout": {
          "coloraxis": {
           "cmid": 0,
           "colorscale": [
            [
             0,
             "rgb(103,0,31)"
            ],
            [
             0.1,
             "rgb(178,24,43)"
            ],
            [
             0.2,
             "rgb(214,96,77)"
            ],
            [
             0.3,
             "rgb(244,165,130)"
            ],
            [
             0.4,
             "rgb(253,219,199)"
            ],
            [
             0.5,
             "rgb(247,247,247)"
            ],
            [
             0.6,
             "rgb(209,229,240)"
            ],
            [
             0.7,
             "rgb(146,197,222)"
            ],
            [
             0.8,
             "rgb(67,147,195)"
            ],
            [
             0.9,
             "rgb(33,102,172)"
            ],
            [
             1,
             "rgb(5,48,97)"
            ]
           ]
          },
          "title": {
           "text": "Direct Logit Attribution"
          },
          "xaxis": {
           "constrain": "domain",
           "scaleanchor": "y"
          },
          "yaxis": {
           "autorange": "reversed",
           "constrain": "domain"
          }
         },
         "name": "4"
        },
        {
         "data": [
          {
           "coloraxis": "coloraxis",
           "name": "5",
           "type": "heatmap",
           "y": [
            "embed",
            "pos_embed",
            "result_0",
            "result_1",
            "attn_bias"
           ],
           "z": [
            [
             1.6707899570465088,
             1.5256608724594116,
             1.9905567169189453,
             0.8388005495071411,
             0.17400966584682465,
             2.1769652366638184,
             0.328677773475647,
             0.8805691003799438,
             1.2958741188049316,
             3.11409592628479,
             0.6787543296813965,
             3.2441627979278564,
             3.6340932846069336,
             2.9543261528015137,
             3.2629220485687256,
             2.194903612136841,
             -0.5387078523635864,
             1.6409728527069092,
             3.677553415298462,
             3.677553415298462
            ],
            [
             1.4008328914642334,
             0.01609736680984497,
             -0.12983742356300354,
             0.22403711080551147,
             0.598207950592041,
             0.6335627436637878,
             0.6387754678726196,
             0.3066915273666382,
             0.1980319619178772,
             -0.021625500172376633,
             0.9902120232582092,
             0.9180639386177063,
             1.1769078969955444,
             1.1360665559768677,
             0.7578478455543518,
             0.8372355699539185,
             -0.7899610996246338,
             -1.0706430673599243,
             0.1108870729804039,
             2.878628969192505
            ],
            [
             10.110024452209473,
             8.739309310913086,
             8.912330627441406,
             5.103686809539795,
             9.201315879821777,
             10.087343215942383,
             7.98940372467041,
             15.668325424194336,
             18.22180938720703,
             14.410526275634766,
             13.272964477539062,
             20.51987648010254,
             23.112802505493164,
             32.51789855957031,
             35.67675018310547,
             40.813636779785156,
             1.165439248085022,
             21.88585090637207,
             37.340877532958984,
             47.20815658569336
            ],
            [
             -1.0548863410949707,
             1.3912513256072998,
             2.8438549041748047,
             6.815911293029785,
             2.592951536178589,
             3.867530345916748,
             8.7409086227417,
             0.8762149810791016,
             3.446866989135742,
             2.249882936477661,
             5.280510902404785,
             5.349897384643555,
             5.871433258056641,
             5.717864036560059,
             13.566353797912598,
             1.4915512800216675,
             12.099140167236328,
             12.432999610900879,
             9.508267402648926,
             13.760148048400879
            ],
            [
             -0.3364259898662567,
             -0.20905771851539612,
             -0.20905771851539612,
             -0.3782312870025635,
             -0.3849152624607086,
             -0.3849152624607086,
             -0.2560155391693115,
             -0.14656352996826172,
             -0.18110796809196472,
             -0.18110796809196472,
             0.3920283019542694,
             0.3920283019542694,
             0.3890509009361267,
             0.3890509009361267,
             -0.10492610931396484,
             0.36537134647369385,
             0.19678233563899994,
             -0.31678473949432373,
             -0.31678473949432373,
             -0.31678473949432373
            ]
           ]
          }
         ],
         "layout": {
          "coloraxis": {
           "cmid": 0,
           "colorscale": [
            [
             0,
             "rgb(103,0,31)"
            ],
            [
             0.1,
             "rgb(178,24,43)"
            ],
            [
             0.2,
             "rgb(214,96,77)"
            ],
            [
             0.3,
             "rgb(244,165,130)"
            ],
            [
             0.4,
             "rgb(253,219,199)"
            ],
            [
             0.5,
             "rgb(247,247,247)"
            ],
            [
             0.6,
             "rgb(209,229,240)"
            ],
            [
             0.7,
             "rgb(146,197,222)"
            ],
            [
             0.8,
             "rgb(67,147,195)"
            ],
            [
             0.9,
             "rgb(33,102,172)"
            ],
            [
             1,
             "rgb(5,48,97)"
            ]
           ]
          },
          "title": {
           "text": "Direct Logit Attribution"
          },
          "xaxis": {
           "constrain": "domain",
           "scaleanchor": "y"
          },
          "yaxis": {
           "autorange": "reversed",
           "constrain": "domain"
          }
         },
         "name": "5"
        },
        {
         "data": [
          {
           "coloraxis": "coloraxis",
           "name": "6",
           "type": "heatmap",
           "y": [
            "embed",
            "pos_embed",
            "result_0",
            "result_1",
            "attn_bias"
           ],
           "z": [
            [
             0.7758473753929138,
             2.3308141231536865,
             2.250321388244629,
             0.41042065620422363,
             0.5787563920021057,
             1.7954180240631104,
             1.956519365310669,
             1.8583269119262695,
             1.1833388805389404,
             0.7731115818023682,
             2.6470718383789062,
             3.2441627979278564,
             3.6340932846069336,
             3.2629220485687256,
             3.357661724090576,
             3.3287458419799805,
             0.26859790086746216,
             0.5107536315917969,
             3.076596975326538,
             1.6409728527069092
            ],
            [
             0.8461970686912537,
             0.2511943578720093,
             0.49096691608428955,
             0.37240198254585266,
             0.2815636396408081,
             0.6238882541656494,
             0.5787656903266907,
             0.14000968635082245,
             0.1980319619178772,
             0.13840389251708984,
             0.9902120232582092,
             0.9180639386177063,
             1.1769078969955444,
             0.8213623762130737,
             0.8949539661407471,
             0.8372355699539185,
             0.40165671706199646,
             -0.4006788730621338,
             0.24883057177066803,
             2.878628969192505
            ],
            [
             6.889280796051025,
             5.080944061279297,
             4.950509548187256,
             7.888266086578369,
             27.20155143737793,
             41.98046112060547,
             24.461015701293945,
             18.18764877319336,
             10.634821891784668,
             17.860721588134766,
             17.795398712158203,
             21.117610931396484,
             23.66769790649414,
             31.17355728149414,
             39.1353759765625,
             16.574281692504883,
             1.9813971519470215,
             6.739480972290039,
             9.459497451782227,
             32.05361557006836
            ],
            [
             1.872229814529419,
             9.857782363891602,
             7.753471851348877,
             1.8223038911819458,
             9.313867568969727,
             -3.1367597579956055,
             -0.623195469379425,
             -1.2258931398391724,
             3.046640396118164,
             5.334278106689453,
             5.715905666351318,
             5.700514793395996,
             6.354756832122803,
             14.562911987304688,
             6.824094772338867,
             3.5334110260009766,
             14.095006942749023,
             19.80074119567871,
             23.32695960998535,
             17.914731979370117
            ],
            [
             -0.1221131831407547,
             -0.3782312870025635,
             -0.3782312870025635,
             -0.18340612947940826,
             -0.8968901038169861,
             -0.6576328277587891,
             -0.6576328277587891,
             -0.5207950472831726,
             -0.18110796809196472,
             0.3870062828063965,
             0.3920283019542694,
             0.3920283019542694,
             0.3890509009361267,
             -0.10492610931396484,
             -0.041179534047842026,
             0.36537134647369385,
             0.5082781910896301,
             0.19678233563899994,
             0.19678233563899994,
             -0.31678473949432373
            ]
           ]
          }
         ],
         "layout": {
          "coloraxis": {
           "cmid": 0,
           "colorscale": [
            [
             0,
             "rgb(103,0,31)"
            ],
            [
             0.1,
             "rgb(178,24,43)"
            ],
            [
             0.2,
             "rgb(214,96,77)"
            ],
            [
             0.3,
             "rgb(244,165,130)"
            ],
            [
             0.4,
             "rgb(253,219,199)"
            ],
            [
             0.5,
             "rgb(247,247,247)"
            ],
            [
             0.6,
             "rgb(209,229,240)"
            ],
            [
             0.7,
             "rgb(146,197,222)"
            ],
            [
             0.8,
             "rgb(67,147,195)"
            ],
            [
             0.9,
             "rgb(33,102,172)"
            ],
            [
             1,
             "rgb(5,48,97)"
            ]
           ]
          },
          "title": {
           "text": "Direct Logit Attribution"
          },
          "xaxis": {
           "constrain": "domain",
           "scaleanchor": "y"
          },
          "yaxis": {
           "autorange": "reversed",
           "constrain": "domain"
          }
         },
         "name": "6"
        },
        {
         "data": [
          {
           "coloraxis": "coloraxis",
           "name": "7",
           "type": "heatmap",
           "y": [
            "embed",
            "pos_embed",
            "result_0",
            "result_1",
            "attn_bias"
           ],
           "z": [
            [
             1.6707899570465088,
             1.5256608724594116,
             -0.3504089117050171,
             1.9698816537857056,
             3.2163000106811523,
             0.6554062366485596,
             1.4868221282958984,
             0.6721683144569397,
             2.4577250480651855,
             1.0715928077697754,
             4.043008804321289,
             3.3287458419799805,
             2.744859457015991,
             2.744859457015991,
             -0.6643713712692261,
             2.7118005752563477,
             2.6082377433776855,
             3.323822259902954,
             3.323822259902954,
             1.8722436428070068
            ],
            [
             1.4008328914642334,
             0.01609736680984497,
             0.3666951358318329,
             0.40094709396362305,
             0.6284406185150146,
             0.2719760835170746,
             0.3765808939933777,
             0.4023275673389435,
             0.03379400074481964,
             0.5673903226852417,
             0.7071766257286072,
             0.8005578517913818,
             1.0003232955932617,
             0.9679559469223022,
             -0.36117416620254517,
             -0.038564905524253845,
             -0.5579790472984314,
             -0.2631620764732361,
             0.47272181510925293,
             2.08249568939209
            ],
            [
             10.09776782989502,
             8.72276782989502,
             6.646145343780518,
             17.128416061401367,
             19.74156951904297,
             37.0230827331543,
             11.99476432800293,
             13.529728889465332,
             20.50724220275879,
             11.07049560546875,
             23.595022201538086,
             30.375246047973633,
             27.05512046813965,
             26.08201026916504,
             10.066856384277344,
             4.747406959533691,
             2.135044574737549,
             2.380040168762207,
             -0.5652645230293274,
             12.794221878051758
            ],
            [
             -1.6285250186920166,
             0.8403987884521484,
             1.7595493793487549,
             8.255609512329102,
             6.481629371643066,
             -10.326845169067383,
             2.583021640777588,
             5.125290393829346,
             4.728107452392578,
             16.31899642944336,
             7.605888366699219,
             3.6865897178649902,
             4.1876349449157715,
             1.8014979362487793,
             18.389089584350586,
             36.07321548461914,
             37.550384521484375,
             46.92955780029297,
             49.12751007080078,
             37.49247360229492
            ],
            [
             -0.3364259898662567,
             -0.20905771851539612,
             -0.18340612947940826,
             -0.2560155391693115,
             -0.2560155391693115,
             -0.5207950472831726,
             -0.14656352996826172,
             0.12391126155853271,
             0.3870062828063965,
             -0.041179534047842026,
             -0.041179534047842026,
             0.36537134647369385,
             0.36537134647369385,
             0.36537134647369385,
             0.41974908113479614,
             0.41974908113479614,
             0.33129605650901794,
             0.33129605650901794,
             0.33129605650901794,
             0.19678233563899994
            ]
           ]
          }
         ],
         "layout": {
          "coloraxis": {
           "cmid": 0,
           "colorscale": [
            [
             0,
             "rgb(103,0,31)"
            ],
            [
             0.1,
             "rgb(178,24,43)"
            ],
            [
             0.2,
             "rgb(214,96,77)"
            ],
            [
             0.3,
             "rgb(244,165,130)"
            ],
            [
             0.4,
             "rgb(253,219,199)"
            ],
            [
             0.5,
             "rgb(247,247,247)"
            ],
            [
             0.6,
             "rgb(209,229,240)"
            ],
            [
             0.7,
             "rgb(146,197,222)"
            ],
            [
             0.8,
             "rgb(67,147,195)"
            ],
            [
             0.9,
             "rgb(33,102,172)"
            ],
            [
             1,
             "rgb(5,48,97)"
            ]
           ]
          },
          "title": {
           "text": "Direct Logit Attribution"
          },
          "xaxis": {
           "constrain": "domain",
           "scaleanchor": "y"
          },
          "yaxis": {
           "autorange": "reversed",
           "constrain": "domain"
          }
         },
         "name": "7"
        },
        {
         "data": [
          {
           "coloraxis": "coloraxis",
           "name": "8",
           "type": "heatmap",
           "y": [
            "embed",
            "pos_embed",
            "result_0",
            "result_1",
            "attn_bias"
           ],
           "z": [
            [
             1.6707899570465088,
             0.39719682931900024,
             1.539568305015564,
             2.1870064735412598,
             2.150174856185913,
             1.3063381910324097,
             2.9440388679504395,
             0.5924950242042542,
             1.5196149349212646,
             0.4842621088027954,
             1.9658653736114502,
             3.2629220485687256,
             1.2455183267593384,
             1.2182658910751343,
             2.095872163772583,
             2.331831216812134,
             1.5428907871246338,
             1.8722436428070068,
             3.076596975326538,
             1.6409728527069092
            ],
            [
             1.4008328914642334,
             0.2585124671459198,
             0.5773317813873291,
             0.4456403851509094,
             0.598207950592041,
             0.44451478123664856,
             0.37529027462005615,
             0.4595847427845001,
             0.08651583641767502,
             0.13840389251708984,
             0.9264073967933655,
             0.783376932144165,
             0.7834891080856323,
             0.593964159488678,
             0.37347519397735596,
             0.5523533225059509,
             -0.5579790472984314,
             -0.4006788730621338,
             0.24883057177066803,
             2.878628969192505
            ],
            [
             10.088644027709961,
             9.413158416748047,
             10.042128562927246,
             10.265079498291016,
             9.960491180419922,
             10.337780952453613,
             24.379779815673828,
             42.65498352050781,
             10.376128196716309,
             13.643719673156738,
             18.190093994140625,
             37.23212814331055,
             36.87990951538086,
             12.852020263671875,
             5.810801029205322,
             0.8775099515914917,
             -2.080714225769043,
             9.509849548339844,
             8.566688537597656,
             30.86387825012207
            ],
            [
             -1.6901493072509766,
             -0.404253751039505,
             3.3184566497802734,
             3.625732898712158,
             4.6255574226379395,
             8.204960823059082,
             7.248289585113525,
             -8.267807960510254,
             3.1028997898101807,
             5.244588375091553,
             6.105510234832764,
             14.791241645812988,
             0.3118317127227783,
             24.0911922454834,
             22.885496139526367,
             28.602802276611328,
             35.21461868286133,
             38.56842041015625,
             24.609342575073242,
             18.480823516845703
            ],
            [
             -0.3364259898662567,
             -0.1604265421628952,
             -0.19064074754714966,
             -0.19064074754714966,
             -0.3849152624607086,
             -0.18340612947940826,
             -0.18340612947940826,
             -0.6576328277587891,
             -0.14656352996826172,
             0.3870062828063965,
             0.3890509009361267,
             -0.10492610931396484,
             0.7746500372886658,
             0.6215218901634216,
             0.5082781910896301,
             0.5141380429267883,
             0.33129605650901794,
             0.19678233563899994,
             0.19678233563899994,
             -0.31678473949432373
            ]
           ]
          }
         ],
         "layout": {
          "coloraxis": {
           "cmid": 0,
           "colorscale": [
            [
             0,
             "rgb(103,0,31)"
            ],
            [
             0.1,
             "rgb(178,24,43)"
            ],
            [
             0.2,
             "rgb(214,96,77)"
            ],
            [
             0.3,
             "rgb(244,165,130)"
            ],
            [
             0.4,
             "rgb(253,219,199)"
            ],
            [
             0.5,
             "rgb(247,247,247)"
            ],
            [
             0.6,
             "rgb(209,229,240)"
            ],
            [
             0.7,
             "rgb(146,197,222)"
            ],
            [
             0.8,
             "rgb(67,147,195)"
            ],
            [
             0.9,
             "rgb(33,102,172)"
            ],
            [
             1,
             "rgb(5,48,97)"
            ]
           ]
          },
          "title": {
           "text": "Direct Logit Attribution"
          },
          "xaxis": {
           "constrain": "domain",
           "scaleanchor": "y"
          },
          "yaxis": {
           "autorange": "reversed",
           "constrain": "domain"
          }
         },
         "name": "8"
        },
        {
         "data": [
          {
           "coloraxis": "coloraxis",
           "name": "9",
           "type": "heatmap",
           "y": [
            "embed",
            "pos_embed",
            "result_0",
            "result_1",
            "attn_bias"
           ],
           "z": [
            [
             1.6707899570465088,
             0.9276542067527771,
             2.6762022972106934,
             -0.1416773945093155,
             1.3063381910324097,
             1.9698816537857056,
             1.7489535808563232,
             -0.05029287934303284,
             3.6340932846069336,
             2.9543261528015137,
             2.9543261528015137,
             3.2629220485687256,
             4.531318187713623,
             1.2455183267593384,
             1.2182658910751343,
             2.095872163772583,
             2.331831216812134,
             2.302891969680786,
             0.6406611204147339,
             1.6409728527069092
            ],
            [
             1.4008328914642334,
             0.46293240785598755,
             0.4687533974647522,
             0.5088109374046326,
             0.25037097930908203,
             0.6513505578041077,
             0.4434780776500702,
             0.5184054970741272,
             0.7489633560180664,
             0.7824259996414185,
             0.9264073967933655,
             0.783376932144165,
             0.7232766151428223,
             0.8977847099304199,
             0.44743481278419495,
             0.5718028545379639,
             0.6585039496421814,
             0.2274652123451233,
             0.24883057177066803,
             2.878628969192505
            ],
            [
             10.091402053833008,
             6.911624908447266,
             6.429277420043945,
             8.430950164794922,
             11.094400405883789,
             16.626361846923828,
             25.21241569519043,
             13.078401565551758,
             21.90644073486328,
             31.62164878845215,
             39.06498718261719,
             39.28246307373047,
             42.04082489013672,
             42.51615905761719,
             20.157129287719727,
             7.481142997741699,
             3.023733139038086,
             -1.563585638999939,
             8.836050033569336,
             35.408790588378906
            ],
            [
             -1.306126594543457,
             2.0510690212249756,
             1.7748774290084839,
             2.5194485187530518,
             7.104131698608398,
             7.606342315673828,
             10.550333976745605,
             5.999180316925049,
             6.112035274505615,
             6.035521507263184,
             5.921952724456787,
             14.586865425109863,
             -0.5820015668869019,
             -0.8075482845306396,
             22.98611068725586,
             21.057830810546875,
             26.904441833496094,
             35.1477165222168,
             36.75497817993164,
             20.048250198364258
            ],
            [
             -0.3364259898662567,
             -0.1221131831407547,
             -0.1221131831407547,
             -0.3849152624607086,
             -0.18340612947940826,
             -0.2560155391693115,
             -0.8968901038169861,
             0.3920283019542694,
             0.3890509009361267,
             0.3890509009361267,
             0.3890509009361267,
             -0.10492610931396484,
             -0.10492610931396484,
             0.7746500372886658,
             0.6215218901634216,
             0.5082781910896301,
             0.5141380429267883,
             0.41974908113479614,
             0.19678233563899994,
             -0.31678473949432373
            ]
           ]
          }
         ],
         "layout": {
          "coloraxis": {
           "cmid": 0,
           "colorscale": [
            [
             0,
             "rgb(103,0,31)"
            ],
            [
             0.1,
             "rgb(178,24,43)"
            ],
            [
             0.2,
             "rgb(214,96,77)"
            ],
            [
             0.3,
             "rgb(244,165,130)"
            ],
            [
             0.4,
             "rgb(253,219,199)"
            ],
            [
             0.5,
             "rgb(247,247,247)"
            ],
            [
             0.6,
             "rgb(209,229,240)"
            ],
            [
             0.7,
             "rgb(146,197,222)"
            ],
            [
             0.8,
             "rgb(67,147,195)"
            ],
            [
             0.9,
             "rgb(33,102,172)"
            ],
            [
             1,
             "rgb(5,48,97)"
            ]
           ]
          },
          "title": {
           "text": "Direct Logit Attribution"
          },
          "xaxis": {
           "constrain": "domain",
           "scaleanchor": "y"
          },
          "yaxis": {
           "autorange": "reversed",
           "constrain": "domain"
          }
         },
         "name": "9"
        },
        {
         "data": [
          {
           "coloraxis": "coloraxis",
           "name": "10",
           "type": "heatmap",
           "y": [
            "embed",
            "pos_embed",
            "result_0",
            "result_1",
            "attn_bias"
           ],
           "z": [
            [
             1.6707899570465088,
             2.2187914848327637,
             1.5256608724594116,
             1.620424747467041,
             2.3308141231536865,
             0.8256160616874695,
             2.1870064735412598,
             0.9288819432258606,
             0.5924950242042542,
             1.956519365310669,
             1.956519365310669,
             1.8583269119262695,
             0.25403979420661926,
             3.6340932846069336,
             2.9543261528015137,
             1.3168277740478516,
             1.7534713745117188,
             1.2182658910751343,
             0.24846549332141876,
             1.6409728527069092
            ],
            [
             1.4008328914642334,
             0.058661237359046936,
             -0.12983742356300354,
             0.10751238465309143,
             0.20129403471946716,
             0.5032869577407837,
             0.288893461227417,
             0.1999044120311737,
             0.2122572362422943,
             0.1699288785457611,
             0.07641463726758957,
             -0.296269029378891,
             0.9989686012268066,
             1.1360665559768677,
             0.8485703468322754,
             0.8414425849914551,
             0.4363322854042053,
             -0.0706155002117157,
             0.24883057177066803,
             2.878628969192505
            ],
            [
             10.09105110168457,
             10.007308006286621,
             8.67702579498291,
             6.831499099731445,
             4.870400428771973,
             10.188069343566895,
             10.978813171386719,
             9.418840408325195,
             42.53938293457031,
             27.681751251220703,
             20.910478591918945,
             16.273563385009766,
             5.04475212097168,
             20.902339935302734,
             33.121578216552734,
             36.887420654296875,
             14.00870132446289,
             3.72098445892334,
             6.003441333770752,
             34.72029495239258
            ],
            [
             -0.9244018197059631,
             -0.7905603051185608,
             1.5333877801895142,
             3.898743152618408,
             7.204892158508301,
             1.6487067937850952,
             3.1743202209472656,
             6.899317741394043,
             -7.375728130340576,
             -0.26312994956970215,
             -0.3176243305206299,
             -0.8462885618209839,
             3.5917108058929443,
             6.624461650848389,
             6.362673282623291,
             15.41082763671875,
             6.685909271240234,
             21.109590530395508,
             20.2429141998291,
             16.96196174621582
            ],
            [
             -0.3364259898662567,
             -0.3364259898662567,
             -0.20905771851539612,
             -0.1221131831407547,
             -0.3782312870025635,
             -0.19064074754714966,
             -0.19064074754714966,
             -0.18340612947940826,
             -0.6576328277587891,
             -0.6576328277587891,
             -0.6576328277587891,
             -0.5207950472831726,
             0.3920283019542694,
             0.3890509009361267,
             0.3890509009361267,
             -0.041179534047842026,
             0.7746500372886658,
             0.6215218901634216,
             0.19678233563899994,
             -0.31678473949432373
            ]
           ]
          }
         ],
         "layout": {
          "coloraxis": {
           "cmid": 0,
           "colorscale": [
            [
             0,
             "rgb(103,0,31)"
            ],
            [
             0.1,
             "rgb(178,24,43)"
            ],
            [
             0.2,
             "rgb(214,96,77)"
            ],
            [
             0.3,
             "rgb(244,165,130)"
            ],
            [
             0.4,
             "rgb(253,219,199)"
            ],
            [
             0.5,
             "rgb(247,247,247)"
            ],
            [
             0.6,
             "rgb(209,229,240)"
            ],
            [
             0.7,
             "rgb(146,197,222)"
            ],
            [
             0.8,
             "rgb(67,147,195)"
            ],
            [
             0.9,
             "rgb(33,102,172)"
            ],
            [
             1,
             "rgb(5,48,97)"
            ]
           ]
          },
          "title": {
           "text": "Direct Logit Attribution"
          },
          "xaxis": {
           "constrain": "domain",
           "scaleanchor": "y"
          },
          "yaxis": {
           "autorange": "reversed",
           "constrain": "domain"
          }
         },
         "name": "10"
        },
        {
         "data": [
          {
           "coloraxis": "coloraxis",
           "name": "11",
           "type": "heatmap",
           "y": [
            "embed",
            "pos_embed",
            "result_0",
            "result_1",
            "attn_bias"
           ],
           "z": [
            [
             1.6707899570465088,
             0.39719682931900024,
             1.539568305015564,
             0.9288819432258606,
             2.9440388679504395,
             0.8701757192611694,
             -0.24978524446487427,
             2.400235652923584,
             3.33862042427063,
             2.4577250480651855,
             2.6470718383789062,
             2.502586603164673,
             2.194903612136841,
             2.744859457015991,
             1.1003131866455078,
             2.7337305545806885,
             2.7337305545806885,
             0.05111021548509598,
             0.6406611204147339,
             1.6409728527069092
            ],
            [
             1.4008328914642334,
             0.2585124671459198,
             0.5773317813873291,
             0.37240198254585266,
             0.25037097930908203,
             0.37857943773269653,
             0.46528518199920654,
             0.4023275673389435,
             0.35282108187675476,
             0.13840389251708984,
             0.9902120232582092,
             0.783376932144165,
             1.0003232955932617,
             0.9679559469223022,
             0.44743481278419495,
             0.6058037877082825,
             0.26574745774269104,
             0.2274652123451233,
             0.24883057177066803,
             2.878628969192505
            ],
            [
             10.077436447143555,
             9.404570579528809,
             9.799973487854004,
             7.69126558303833,
             8.082520484924316,
             6.5015034675598145,
             18.021146774291992,
             17.475372314453125,
             17.462438583374023,
             15.6776704788208,
             15.745672225952148,
             23.24770736694336,
             40.65650939941406,
             25.21030616760254,
             15.094627380371094,
             7.122529983520508,
             4.6086249351501465,
             1.5724085569381714,
             7.952199935913086,
             33.76335906982422
            ],
            [
             -1.0661671161651611,
             -0.46734923124313354,
             3.4838783740997314,
             7.48187780380249,
             8.65461540222168,
             10.947834014892578,
             2.2423787117004395,
             4.237467288970947,
             4.259271144866943,
             5.295219421386719,
             5.5951762199401855,
             15.454588890075684,
             2.3375418186187744,
             5.256471157073975,
             15.5297212600708,
             16.134654998779297,
             16.308990478515625,
             21.047340393066406,
             31.992080688476562,
             17.743572235107422
            ],
            [
             -0.3364259898662567,
             -0.1604265421628952,
             -0.19064074754714966,
             -0.18340612947940826,
             -0.18340612947940826,
             -0.6925203800201416,
             -0.18110796809196472,
             0.12391126155853271,
             0.12391126155853271,
             0.3870062828063965,
             0.3920283019542694,
             -0.10492610931396484,
             0.36537134647369385,
             0.36537134647369385,
             0.6215218901634216,
             0.6215218901634216,
             0.6215218901634216,
             0.41974908113479614,
             0.19678233563899994,
             -0.31678473949432373
            ]
           ]
          }
         ],
         "layout": {
          "coloraxis": {
           "cmid": 0,
           "colorscale": [
            [
             0,
             "rgb(103,0,31)"
            ],
            [
             0.1,
             "rgb(178,24,43)"
            ],
            [
             0.2,
             "rgb(214,96,77)"
            ],
            [
             0.3,
             "rgb(244,165,130)"
            ],
            [
             0.4,
             "rgb(253,219,199)"
            ],
            [
             0.5,
             "rgb(247,247,247)"
            ],
            [
             0.6,
             "rgb(209,229,240)"
            ],
            [
             0.7,
             "rgb(146,197,222)"
            ],
            [
             0.8,
             "rgb(67,147,195)"
            ],
            [
             0.9,
             "rgb(33,102,172)"
            ],
            [
             1,
             "rgb(5,48,97)"
            ]
           ]
          },
          "title": {
           "text": "Direct Logit Attribution"
          },
          "xaxis": {
           "constrain": "domain",
           "scaleanchor": "y"
          },
          "yaxis": {
           "autorange": "reversed",
           "constrain": "domain"
          }
         },
         "name": "11"
        },
        {
         "data": [
          {
           "coloraxis": "coloraxis",
           "name": "12",
           "type": "heatmap",
           "y": [
            "embed",
            "pos_embed",
            "result_0",
            "result_1",
            "attn_bias"
           ],
           "z": [
            [
             1.6707899570465088,
             0.9276542067527771,
             0.7328029274940491,
             2.4803857803344727,
             1.2601796388626099,
             1.5196149349212646,
             0.4842621088027954,
             3.338987350463867,
             2.6470718383789062,
             3.6340932846069336,
             1.3168277740478516,
             1.7534713745117188,
             2.983438730239868,
             1.2182658910751343,
             2.7337305545806885,
             2.095872163772583,
             2.331831216812134,
             2.302891969680786,
             2.6082377433776855,
             3.323822259902954
            ],
            [
             1.4008328914642334,
             0.46293240785598755,
             0.22355931997299194,
             0.300065279006958,
             0.25408560037612915,
             0.5556977391242981,
             0.14718155562877655,
             0.11549683660268784,
             0.8177480697631836,
             0.7824259996414185,
             0.7071766257286072,
             0.45181018114089966,
             0.7834891080856323,
             0.593964159488678,
             0.44743481278419495,
             0.5718028545379639,
             0.6585039496421814,
             0.2274652123451233,
             0.47272181510925293,
             1.6094424724578857
            ],
            [
             10.077552795410156,
             6.897183418273926,
             5.383367538452148,
             23.700960159301758,
             43.20441436767578,
             9.123116493225098,
             15.108202934265137,
             16.964336395263672,
             15.23900032043457,
             22.238672256469727,
             38.43869400024414,
             24.367734909057617,
             26.2627010345459,
             19.916725158691406,
             15.005582809448242,
             6.547016143798828,
             6.739065647125244,
             6.1963114738464355,
             4.4669294357299805,
             0.8239103555679321
            ],
            [
             -1.2657661437988281,
             2.1289615631103516,
             4.016971588134766,
             14.618766784667969,
             -4.836245536804199,
             3.1564154624938965,
             4.692269325256348,
             5.021223545074463,
             5.366708755493164,
             6.434176921844482,
             15.647306442260742,
             5.87188196182251,
             12.956140518188477,
             24.304046630859375,
             19.48426055908203,
             20.862258911132812,
             27.49396514892578,
             34.82701873779297,
             48.39043426513672,
             54.79035568237305
            ],
            [
             -0.3364259898662567,
             -0.1221131831407547,
             -0.2560155391693115,
             -0.6925203800201416,
             -0.6576328277587891,
             -0.14656352996826172,
             0.3870062828063965,
             0.3870062828063965,
             0.3920283019542694,
             0.3890509009361267,
             -0.041179534047842026,
             0.7746500372886658,
             0.7746500372886658,
             0.6215218901634216,
             0.6215218901634216,
             0.5082781910896301,
             0.5141380429267883,
             0.41974908113479614,
             0.33129605650901794,
             0.33129605650901794
            ]
           ]
          }
         ],
         "layout": {
          "coloraxis": {
           "cmid": 0,
           "colorscale": [
            [
             0,
             "rgb(103,0,31)"
            ],
            [
             0.1,
             "rgb(178,24,43)"
            ],
            [
             0.2,
             "rgb(214,96,77)"
            ],
            [
             0.3,
             "rgb(244,165,130)"
            ],
            [
             0.4,
             "rgb(253,219,199)"
            ],
            [
             0.5,
             "rgb(247,247,247)"
            ],
            [
             0.6,
             "rgb(209,229,240)"
            ],
            [
             0.7,
             "rgb(146,197,222)"
            ],
            [
             0.8,
             "rgb(67,147,195)"
            ],
            [
             0.9,
             "rgb(33,102,172)"
            ],
            [
             1,
             "rgb(5,48,97)"
            ]
           ]
          },
          "title": {
           "text": "Direct Logit Attribution"
          },
          "xaxis": {
           "constrain": "domain",
           "scaleanchor": "y"
          },
          "yaxis": {
           "autorange": "reversed",
           "constrain": "domain"
          }
         },
         "name": "12"
        },
        {
         "data": [
          {
           "coloraxis": "coloraxis",
           "name": "13",
           "type": "heatmap",
           "y": [
            "embed",
            "pos_embed",
            "result_0",
            "result_1",
            "attn_bias"
           ],
           "z": [
            [
             0.9740338325500488,
             1.620424747467041,
             2.6762022972106934,
             2.3308141231536865,
             2.4330971240997314,
             0.9362766146659851,
             1.3063381910324097,
             2.9440388679504395,
             0.5787563920021057,
             1.7954180240631104,
             1.5196149349212646,
             0.4842621088027954,
             1.3695015907287598,
             2.744859457015991,
             2.744859457015991,
             0.26859790086746216,
             2.488830089569092,
             1.000209927558899,
             2.7118005752563477,
             0.6406611204147339
            ],
            [
             0.8608141541481018,
             0.46293240785598755,
             0.4687533974647522,
             0.22403711080551147,
             0.6634783744812012,
             0.6335627436637878,
             0.37529027462005615,
             0.1999044120311737,
             0.331939160823822,
             0.1699288785457611,
             -0.1545795053243637,
             0.11138555407524109,
             1.0003232955932617,
             0.9679559469223022,
             0.7472479343414307,
             0.5718028545379639,
             0.40165671706199646,
             0.2274652123451233,
             0.5690631866455078,
             2.08249568939209
            ],
            [
             8.758402824401855,
             6.899407863616943,
             6.588351249694824,
             4.909560203552246,
             10.050158500671387,
             9.326226234436035,
             12.225099563598633,
             24.611621856689453,
             27.603673934936523,
             43.11665725708008,
             11.414648056030273,
             15.604043006896973,
             14.592565536499023,
             17.655017852783203,
             18.079069137573242,
             6.533907890319824,
             5.697765350341797,
             3.461676836013794,
             -1.9859201908111572,
             14.099501609802246
            ],
            [
             0.4239620864391327,
             4.0631561279296875,
             5.388538360595703,
             7.141471862792969,
             1.4514168500900269,
             4.440591335296631,
             8.06214714050293,
             8.284139633178711,
             7.735159397125244,
             -2.255262851715088,
             3.1936802864074707,
             4.797704696655273,
             14.048938751220703,
             8.225769996643066,
             4.504993915557861,
             16.341541290283203,
             20.755569458007812,
             24.139116287231445,
             39.999671936035156,
             33.14341354370117
            ],
            [
             -0.20905771851539612,
             -0.1221131831407547,
             -0.1221131831407547,
             -0.3782312870025635,
             -0.1604265421628952,
             -0.3849152624607086,
             -0.18340612947940826,
             -0.18340612947940826,
             -0.8968901038169861,
             -0.6576328277587891,
             -0.14656352996826172,
             0.3870062828063965,
             0.36537134647369385,
             0.36537134647369385,
             0.36537134647369385,
             0.5082781910896301,
             0.5082781910896301,
             0.41974908113479614,
             0.41974908113479614,
             0.19678233563899994
            ]
           ]
          }
         ],
         "layout": {
          "coloraxis": {
           "cmid": 0,
           "colorscale": [
            [
             0,
             "rgb(103,0,31)"
            ],
            [
             0.1,
             "rgb(178,24,43)"
            ],
            [
             0.2,
             "rgb(214,96,77)"
            ],
            [
             0.3,
             "rgb(244,165,130)"
            ],
            [
             0.4,
             "rgb(253,219,199)"
            ],
            [
             0.5,
             "rgb(247,247,247)"
            ],
            [
             0.6,
             "rgb(209,229,240)"
            ],
            [
             0.7,
             "rgb(146,197,222)"
            ],
            [
             0.8,
             "rgb(67,147,195)"
            ],
            [
             0.9,
             "rgb(33,102,172)"
            ],
            [
             1,
             "rgb(5,48,97)"
            ]
           ]
          },
          "title": {
           "text": "Direct Logit Attribution"
          },
          "xaxis": {
           "constrain": "domain",
           "scaleanchor": "y"
          },
          "yaxis": {
           "autorange": "reversed",
           "constrain": "domain"
          }
         },
         "name": "13"
        },
        {
         "data": [
          {
           "coloraxis": "coloraxis",
           "name": "14",
           "type": "heatmap",
           "y": [
            "embed",
            "pos_embed",
            "result_0",
            "result_1",
            "attn_bias"
           ],
           "z": [
            [
             1.6707899570465088,
             2.2187914848327637,
             0.39719682931900024,
             0.9362766146659851,
             0.328677773475647,
             1.7489535808563232,
             0.8070197701454163,
             0.6721683144569397,
             2.4577250480651855,
             3.338987350463867,
             1.9658653736114502,
             2.9543261528015137,
             3.2629220485687256,
             -0.3607906699180603,
             2.331831216812134,
             2.302891969680786,
             2.6082377433776855,
             3.323822259902954,
             1.8722436428070068,
             3.076596975326538
            ],
            [
             1.4008328914642334,
             0.058661237359046936,
             0.6730650663375854,
             0.5088109374046326,
             0.6284406185150146,
             0.4219953417778015,
             0.3765808939933777,
             0.4023275673389435,
             0.03379400074481964,
             0.13840389251708984,
             0.9264073967933655,
             1.061601161956787,
             0.7232766151428223,
             0.39248836040496826,
             0.2414918839931488,
             -0.038564905524253845,
             -0.5579790472984314,
             -0.2631620764732361,
             0.24883057177066803,
             2.08249568939209
            ],
            [
             10.096596717834473,
             10.004213333129883,
             9.427093505859375,
             9.090163230895996,
             10.183676719665527,
             20.68954086303711,
             19.612560272216797,
             16.319225311279297,
             22.67483901977539,
             17.055910110473633,
             17.972400665283203,
             35.088871002197266,
             38.95018005371094,
             26.06192970275879,
             7.539743423461914,
             1.8113287687301636,
             -1.1836007833480835,
             -3.585808753967285,
             10.948966026306152,
             8.180356979370117
            ],
            [
             -1.7465612888336182,
             -0.9011054039001465,
             -0.8480652570724487,
             3.5555176734924316,
             9.447977066040039,
             10.411857604980469,
             3.687518358230591,
             4.8440093994140625,
             5.271688461303711,
             5.2715959548950195,
             6.195530891418457,
             6.006414413452148,
             14.683541297912598,
             12.503586769104004,
             26.073633193969727,
             31.280317306518555,
             38.65142822265625,
             48.47465515136719,
             36.0753059387207,
             29.12452507019043
            ],
            [
             -0.3364259898662567,
             -0.3364259898662567,
             -0.1604265421628952,
             -0.3849152624607086,
             -0.2560155391693115,
             -0.8968901038169861,
             -0.14656352996826172,
             0.12391126155853271,
             0.3870062828063965,
             0.3870062828063965,
             0.3890509009361267,
             0.3890509009361267,
             -0.10492610931396484,
             0.5082781910896301,
             0.5141380429267883,
             0.41974908113479614,
             0.33129605650901794,
             0.33129605650901794,
             0.19678233563899994,
             0.19678233563899994
            ]
           ]
          }
         ],
         "layout": {
          "coloraxis": {
           "cmid": 0,
           "colorscale": [
            [
             0,
             "rgb(103,0,31)"
            ],
            [
             0.1,
             "rgb(178,24,43)"
            ],
            [
             0.2,
             "rgb(214,96,77)"
            ],
            [
             0.3,
             "rgb(244,165,130)"
            ],
            [
             0.4,
             "rgb(253,219,199)"
            ],
            [
             0.5,
             "rgb(247,247,247)"
            ],
            [
             0.6,
             "rgb(209,229,240)"
            ],
            [
             0.7,
             "rgb(146,197,222)"
            ],
            [
             0.8,
             "rgb(67,147,195)"
            ],
            [
             0.9,
             "rgb(33,102,172)"
            ],
            [
             1,
             "rgb(5,48,97)"
            ]
           ]
          },
          "title": {
           "text": "Direct Logit Attribution"
          },
          "xaxis": {
           "constrain": "domain",
           "scaleanchor": "y"
          },
          "yaxis": {
           "autorange": "reversed",
           "constrain": "domain"
          }
         },
         "name": "14"
        },
        {
         "data": [
          {
           "coloraxis": "coloraxis",
           "name": "15",
           "type": "heatmap",
           "y": [
            "embed",
            "pos_embed",
            "result_0",
            "result_1",
            "attn_bias"
           ],
           "z": [
            [
             1.6707899570465088,
             2.2187914848327637,
             0.2527468800544739,
             0.9288819432258606,
             2.9440388679504395,
             1.9698816537857056,
             3.2163000106811523,
             1.7489535808563232,
             1.7954180240631104,
             0.5608599185943604,
             1.7264652252197266,
             4.531318187713623,
             3.357661724090576,
             3.3287458419799805,
             2.744859457015991,
             2.4957993030548096,
             2.983438730239868,
             0.4282962679862976,
             0.46582266688346863,
             3.323822259902954
            ],
            [
             1.4008328914642334,
             0.058661237359046936,
             0.5773317813873291,
             0.37240198254585266,
             0.25037097930908203,
             0.6513505578041077,
             0.6387754678726196,
             0.34408101439476013,
             0.2122572362422943,
             0.13840389251708984,
             0.8885521292686462,
             0.783376932144165,
             0.8278681039810181,
             0.9679559469223022,
             0.7472479343414307,
             0.661017656326294,
             0.4363322854042053,
             0.07332761585712433,
             0.47272181510925293,
             1.6094424724578857
            ],
            [
             10.095220565795898,
             10.006957054138184,
             8.831361770629883,
             8.001973152160645,
             24.23687744140625,
             25.660358428955078,
             25.92886734008789,
             27.862245559692383,
             43.1776123046875,
             3.9953813552856445,
             10.971404075622559,
             32.218116760253906,
             46.408935546875,
             35.8843994140625,
             32.46489334106445,
             20.11860466003418,
             13.356152534484863,
             7.3745269775390625,
             6.073150634765625,
             2.887580394744873
            ],
            [
             -1.3909202814102173,
             -1.3615257740020752,
             -0.24185150861740112,
             6.7580084800720215,
             5.783324241638184,
             7.934364318847656,
             8.431992530822754,
             6.318652153015137,
             -2.9121956825256348,
             3.874439001083374,
             14.925777435302734,
             6.698494911193848,
             2.1825428009033203,
             5.43505859375,
             4.846398830413818,
             9.568390846252441,
             11.386683464050293,
             22.22414779663086,
             35.204933166503906,
             50.07046890258789
            ],
            [
             -0.3364259898662567,
             -0.3364259898662567,
             -0.19064074754714966,
             -0.18340612947940826,
             -0.18340612947940826,
             -0.2560155391693115,
             -0.2560155391693115,
             -0.8968901038169861,
             -0.6576328277587891,
             0.3870062828063965,
             -0.10492610931396484,
             -0.10492610931396484,
             -0.041179534047842026,
             0.36537134647369385,
             0.36537134647369385,
             0.7746500372886658,
             0.7746500372886658,
             0.5082781910896301,
             0.33129605650901794,
             0.33129605650901794
            ]
           ]
          }
         ],
         "layout": {
          "coloraxis": {
           "cmid": 0,
           "colorscale": [
            [
             0,
             "rgb(103,0,31)"
            ],
            [
             0.1,
             "rgb(178,24,43)"
            ],
            [
             0.2,
             "rgb(214,96,77)"
            ],
            [
             0.3,
             "rgb(244,165,130)"
            ],
            [
             0.4,
             "rgb(253,219,199)"
            ],
            [
             0.5,
             "rgb(247,247,247)"
            ],
            [
             0.6,
             "rgb(209,229,240)"
            ],
            [
             0.7,
             "rgb(146,197,222)"
            ],
            [
             0.8,
             "rgb(67,147,195)"
            ],
            [
             0.9,
             "rgb(33,102,172)"
            ],
            [
             1,
             "rgb(5,48,97)"
            ]
           ]
          },
          "title": {
           "text": "Direct Logit Attribution"
          },
          "xaxis": {
           "constrain": "domain",
           "scaleanchor": "y"
          },
          "yaxis": {
           "autorange": "reversed",
           "constrain": "domain"
          }
         },
         "name": "15"
        }
       ],
       "layout": {
        "coloraxis": {
         "cmid": 0,
         "colorscale": [
          [
           0,
           "rgb(103,0,31)"
          ],
          [
           0.1,
           "rgb(178,24,43)"
          ],
          [
           0.2,
           "rgb(214,96,77)"
          ],
          [
           0.3,
           "rgb(244,165,130)"
          ],
          [
           0.4,
           "rgb(253,219,199)"
          ],
          [
           0.5,
           "rgb(247,247,247)"
          ],
          [
           0.6,
           "rgb(209,229,240)"
          ],
          [
           0.7,
           "rgb(146,197,222)"
          ],
          [
           0.8,
           "rgb(67,147,195)"
          ],
          [
           0.9,
           "rgb(33,102,172)"
          ],
          [
           1,
           "rgb(5,48,97)"
          ]
         ]
        },
        "sliders": [
         {
          "active": 0,
          "currentvalue": {
           "prefix": "animation_frame="
          },
          "len": 0.9,
          "pad": {
           "b": 10,
           "t": 60
          },
          "steps": [
           {
            "args": [
             [
              "0"
             ],
             {
              "frame": {
               "duration": 0,
               "redraw": true
              },
              "fromcurrent": true,
              "mode": "immediate",
              "transition": {
               "duration": 0,
               "easing": "linear"
              }
             }
            ],
            "label": "0",
            "method": "animate"
           },
           {
            "args": [
             [
              "1"
             ],
             {
              "frame": {
               "duration": 0,
               "redraw": true
              },
              "fromcurrent": true,
              "mode": "immediate",
              "transition": {
               "duration": 0,
               "easing": "linear"
              }
             }
            ],
            "label": "1",
            "method": "animate"
           },
           {
            "args": [
             [
              "2"
             ],
             {
              "frame": {
               "duration": 0,
               "redraw": true
              },
              "fromcurrent": true,
              "mode": "immediate",
              "transition": {
               "duration": 0,
               "easing": "linear"
              }
             }
            ],
            "label": "2",
            "method": "animate"
           },
           {
            "args": [
             [
              "3"
             ],
             {
              "frame": {
               "duration": 0,
               "redraw": true
              },
              "fromcurrent": true,
              "mode": "immediate",
              "transition": {
               "duration": 0,
               "easing": "linear"
              }
             }
            ],
            "label": "3",
            "method": "animate"
           },
           {
            "args": [
             [
              "4"
             ],
             {
              "frame": {
               "duration": 0,
               "redraw": true
              },
              "fromcurrent": true,
              "mode": "immediate",
              "transition": {
               "duration": 0,
               "easing": "linear"
              }
             }
            ],
            "label": "4",
            "method": "animate"
           },
           {
            "args": [
             [
              "5"
             ],
             {
              "frame": {
               "duration": 0,
               "redraw": true
              },
              "fromcurrent": true,
              "mode": "immediate",
              "transition": {
               "duration": 0,
               "easing": "linear"
              }
             }
            ],
            "label": "5",
            "method": "animate"
           },
           {
            "args": [
             [
              "6"
             ],
             {
              "frame": {
               "duration": 0,
               "redraw": true
              },
              "fromcurrent": true,
              "mode": "immediate",
              "transition": {
               "duration": 0,
               "easing": "linear"
              }
             }
            ],
            "label": "6",
            "method": "animate"
           },
           {
            "args": [
             [
              "7"
             ],
             {
              "frame": {
               "duration": 0,
               "redraw": true
              },
              "fromcurrent": true,
              "mode": "immediate",
              "transition": {
               "duration": 0,
               "easing": "linear"
              }
             }
            ],
            "label": "7",
            "method": "animate"
           },
           {
            "args": [
             [
              "8"
             ],
             {
              "frame": {
               "duration": 0,
               "redraw": true
              },
              "fromcurrent": true,
              "mode": "immediate",
              "transition": {
               "duration": 0,
               "easing": "linear"
              }
             }
            ],
            "label": "8",
            "method": "animate"
           },
           {
            "args": [
             [
              "9"
             ],
             {
              "frame": {
               "duration": 0,
               "redraw": true
              },
              "fromcurrent": true,
              "mode": "immediate",
              "transition": {
               "duration": 0,
               "easing": "linear"
              }
             }
            ],
            "label": "9",
            "method": "animate"
           },
           {
            "args": [
             [
              "10"
             ],
             {
              "frame": {
               "duration": 0,
               "redraw": true
              },
              "fromcurrent": true,
              "mode": "immediate",
              "transition": {
               "duration": 0,
               "easing": "linear"
              }
             }
            ],
            "label": "10",
            "method": "animate"
           },
           {
            "args": [
             [
              "11"
             ],
             {
              "frame": {
               "duration": 0,
               "redraw": true
              },
              "fromcurrent": true,
              "mode": "immediate",
              "transition": {
               "duration": 0,
               "easing": "linear"
              }
             }
            ],
            "label": "11",
            "method": "animate"
           },
           {
            "args": [
             [
              "12"
             ],
             {
              "frame": {
               "duration": 0,
               "redraw": true
              },
              "fromcurrent": true,
              "mode": "immediate",
              "transition": {
               "duration": 0,
               "easing": "linear"
              }
             }
            ],
            "label": "12",
            "method": "animate"
           },
           {
            "args": [
             [
              "13"
             ],
             {
              "frame": {
               "duration": 0,
               "redraw": true
              },
              "fromcurrent": true,
              "mode": "immediate",
              "transition": {
               "duration": 0,
               "easing": "linear"
              }
             }
            ],
            "label": "13",
            "method": "animate"
           },
           {
            "args": [
             [
              "14"
             ],
             {
              "frame": {
               "duration": 0,
               "redraw": true
              },
              "fromcurrent": true,
              "mode": "immediate",
              "transition": {
               "duration": 0,
               "easing": "linear"
              }
             }
            ],
            "label": "14",
            "method": "animate"
           },
           {
            "args": [
             [
              "15"
             ],
             {
              "frame": {
               "duration": 0,
               "redraw": true
              },
              "fromcurrent": true,
              "mode": "immediate",
              "transition": {
               "duration": 0,
               "easing": "linear"
              }
             }
            ],
            "label": "15",
            "method": "animate"
           }
          ],
          "x": 0.1,
          "xanchor": "left",
          "y": 0,
          "yanchor": "top"
         }
        ],
        "template": {
         "data": {
          "bar": [
           {
            "error_x": {
             "color": "#2a3f5f"
            },
            "error_y": {
             "color": "#2a3f5f"
            },
            "marker": {
             "line": {
              "color": "#E5ECF6",
              "width": 0.5
             },
             "pattern": {
              "fillmode": "overlay",
              "size": 10,
              "solidity": 0.2
             }
            },
            "type": "bar"
           }
          ],
          "barpolar": [
           {
            "marker": {
             "line": {
              "color": "#E5ECF6",
              "width": 0.5
             },
             "pattern": {
              "fillmode": "overlay",
              "size": 10,
              "solidity": 0.2
             }
            },
            "type": "barpolar"
           }
          ],
          "carpet": [
           {
            "aaxis": {
             "endlinecolor": "#2a3f5f",
             "gridcolor": "white",
             "linecolor": "white",
             "minorgridcolor": "white",
             "startlinecolor": "#2a3f5f"
            },
            "baxis": {
             "endlinecolor": "#2a3f5f",
             "gridcolor": "white",
             "linecolor": "white",
             "minorgridcolor": "white",
             "startlinecolor": "#2a3f5f"
            },
            "type": "carpet"
           }
          ],
          "choropleth": [
           {
            "colorbar": {
             "outlinewidth": 0,
             "ticks": ""
            },
            "type": "choropleth"
           }
          ],
          "contour": [
           {
            "colorbar": {
             "outlinewidth": 0,
             "ticks": ""
            },
            "colorscale": [
             [
              0,
              "#0d0887"
             ],
             [
              0.1111111111111111,
              "#46039f"
             ],
             [
              0.2222222222222222,
              "#7201a8"
             ],
             [
              0.3333333333333333,
              "#9c179e"
             ],
             [
              0.4444444444444444,
              "#bd3786"
             ],
             [
              0.5555555555555556,
              "#d8576b"
             ],
             [
              0.6666666666666666,
              "#ed7953"
             ],
             [
              0.7777777777777778,
              "#fb9f3a"
             ],
             [
              0.8888888888888888,
              "#fdca26"
             ],
             [
              1,
              "#f0f921"
             ]
            ],
            "type": "contour"
           }
          ],
          "contourcarpet": [
           {
            "colorbar": {
             "outlinewidth": 0,
             "ticks": ""
            },
            "type": "contourcarpet"
           }
          ],
          "heatmap": [
           {
            "colorbar": {
             "outlinewidth": 0,
             "ticks": ""
            },
            "colorscale": [
             [
              0,
              "#0d0887"
             ],
             [
              0.1111111111111111,
              "#46039f"
             ],
             [
              0.2222222222222222,
              "#7201a8"
             ],
             [
              0.3333333333333333,
              "#9c179e"
             ],
             [
              0.4444444444444444,
              "#bd3786"
             ],
             [
              0.5555555555555556,
              "#d8576b"
             ],
             [
              0.6666666666666666,
              "#ed7953"
             ],
             [
              0.7777777777777778,
              "#fb9f3a"
             ],
             [
              0.8888888888888888,
              "#fdca26"
             ],
             [
              1,
              "#f0f921"
             ]
            ],
            "type": "heatmap"
           }
          ],
          "heatmapgl": [
           {
            "colorbar": {
             "outlinewidth": 0,
             "ticks": ""
            },
            "colorscale": [
             [
              0,
              "#0d0887"
             ],
             [
              0.1111111111111111,
              "#46039f"
             ],
             [
              0.2222222222222222,
              "#7201a8"
             ],
             [
              0.3333333333333333,
              "#9c179e"
             ],
             [
              0.4444444444444444,
              "#bd3786"
             ],
             [
              0.5555555555555556,
              "#d8576b"
             ],
             [
              0.6666666666666666,
              "#ed7953"
             ],
             [
              0.7777777777777778,
              "#fb9f3a"
             ],
             [
              0.8888888888888888,
              "#fdca26"
             ],
             [
              1,
              "#f0f921"
             ]
            ],
            "type": "heatmapgl"
           }
          ],
          "histogram": [
           {
            "marker": {
             "pattern": {
              "fillmode": "overlay",
              "size": 10,
              "solidity": 0.2
             }
            },
            "type": "histogram"
           }
          ],
          "histogram2d": [
           {
            "colorbar": {
             "outlinewidth": 0,
             "ticks": ""
            },
            "colorscale": [
             [
              0,
              "#0d0887"
             ],
             [
              0.1111111111111111,
              "#46039f"
             ],
             [
              0.2222222222222222,
              "#7201a8"
             ],
             [
              0.3333333333333333,
              "#9c179e"
             ],
             [
              0.4444444444444444,
              "#bd3786"
             ],
             [
              0.5555555555555556,
              "#d8576b"
             ],
             [
              0.6666666666666666,
              "#ed7953"
             ],
             [
              0.7777777777777778,
              "#fb9f3a"
             ],
             [
              0.8888888888888888,
              "#fdca26"
             ],
             [
              1,
              "#f0f921"
             ]
            ],
            "type": "histogram2d"
           }
          ],
          "histogram2dcontour": [
           {
            "colorbar": {
             "outlinewidth": 0,
             "ticks": ""
            },
            "colorscale": [
             [
              0,
              "#0d0887"
             ],
             [
              0.1111111111111111,
              "#46039f"
             ],
             [
              0.2222222222222222,
              "#7201a8"
             ],
             [
              0.3333333333333333,
              "#9c179e"
             ],
             [
              0.4444444444444444,
              "#bd3786"
             ],
             [
              0.5555555555555556,
              "#d8576b"
             ],
             [
              0.6666666666666666,
              "#ed7953"
             ],
             [
              0.7777777777777778,
              "#fb9f3a"
             ],
             [
              0.8888888888888888,
              "#fdca26"
             ],
             [
              1,
              "#f0f921"
             ]
            ],
            "type": "histogram2dcontour"
           }
          ],
          "mesh3d": [
           {
            "colorbar": {
             "outlinewidth": 0,
             "ticks": ""
            },
            "type": "mesh3d"
           }
          ],
          "parcoords": [
           {
            "line": {
             "colorbar": {
              "outlinewidth": 0,
              "ticks": ""
             }
            },
            "type": "parcoords"
           }
          ],
          "pie": [
           {
            "automargin": true,
            "type": "pie"
           }
          ],
          "scatter": [
           {
            "fillpattern": {
             "fillmode": "overlay",
             "size": 10,
             "solidity": 0.2
            },
            "type": "scatter"
           }
          ],
          "scatter3d": [
           {
            "line": {
             "colorbar": {
              "outlinewidth": 0,
              "ticks": ""
             }
            },
            "marker": {
             "colorbar": {
              "outlinewidth": 0,
              "ticks": ""
             }
            },
            "type": "scatter3d"
           }
          ],
          "scattercarpet": [
           {
            "marker": {
             "colorbar": {
              "outlinewidth": 0,
              "ticks": ""
             }
            },
            "type": "scattercarpet"
           }
          ],
          "scattergeo": [
           {
            "marker": {
             "colorbar": {
              "outlinewidth": 0,
              "ticks": ""
             }
            },
            "type": "scattergeo"
           }
          ],
          "scattergl": [
           {
            "marker": {
             "colorbar": {
              "outlinewidth": 0,
              "ticks": ""
             }
            },
            "type": "scattergl"
           }
          ],
          "scattermapbox": [
           {
            "marker": {
             "colorbar": {
              "outlinewidth": 0,
              "ticks": ""
             }
            },
            "type": "scattermapbox"
           }
          ],
          "scatterpolar": [
           {
            "marker": {
             "colorbar": {
              "outlinewidth": 0,
              "ticks": ""
             }
            },
            "type": "scatterpolar"
           }
          ],
          "scatterpolargl": [
           {
            "marker": {
             "colorbar": {
              "outlinewidth": 0,
              "ticks": ""
             }
            },
            "type": "scatterpolargl"
           }
          ],
          "scatterternary": [
           {
            "marker": {
             "colorbar": {
              "outlinewidth": 0,
              "ticks": ""
             }
            },
            "type": "scatterternary"
           }
          ],
          "surface": [
           {
            "colorbar": {
             "outlinewidth": 0,
             "ticks": ""
            },
            "colorscale": [
             [
              0,
              "#0d0887"
             ],
             [
              0.1111111111111111,
              "#46039f"
             ],
             [
              0.2222222222222222,
              "#7201a8"
             ],
             [
              0.3333333333333333,
              "#9c179e"
             ],
             [
              0.4444444444444444,
              "#bd3786"
             ],
             [
              0.5555555555555556,
              "#d8576b"
             ],
             [
              0.6666666666666666,
              "#ed7953"
             ],
             [
              0.7777777777777778,
              "#fb9f3a"
             ],
             [
              0.8888888888888888,
              "#fdca26"
             ],
             [
              1,
              "#f0f921"
             ]
            ],
            "type": "surface"
           }
          ],
          "table": [
           {
            "cells": {
             "fill": {
              "color": "#EBF0F8"
             },
             "line": {
              "color": "white"
             }
            },
            "header": {
             "fill": {
              "color": "#C8D4E3"
             },
             "line": {
              "color": "white"
             }
            },
            "type": "table"
           }
          ]
         },
         "layout": {
          "annotationdefaults": {
           "arrowcolor": "#2a3f5f",
           "arrowhead": 0,
           "arrowwidth": 1
          },
          "autotypenumbers": "strict",
          "coloraxis": {
           "colorbar": {
            "outlinewidth": 0,
            "ticks": ""
           }
          },
          "colorscale": {
           "diverging": [
            [
             0,
             "#8e0152"
            ],
            [
             0.1,
             "#c51b7d"
            ],
            [
             0.2,
             "#de77ae"
            ],
            [
             0.3,
             "#f1b6da"
            ],
            [
             0.4,
             "#fde0ef"
            ],
            [
             0.5,
             "#f7f7f7"
            ],
            [
             0.6,
             "#e6f5d0"
            ],
            [
             0.7,
             "#b8e186"
            ],
            [
             0.8,
             "#7fbc41"
            ],
            [
             0.9,
             "#4d9221"
            ],
            [
             1,
             "#276419"
            ]
           ],
           "sequential": [
            [
             0,
             "#0d0887"
            ],
            [
             0.1111111111111111,
             "#46039f"
            ],
            [
             0.2222222222222222,
             "#7201a8"
            ],
            [
             0.3333333333333333,
             "#9c179e"
            ],
            [
             0.4444444444444444,
             "#bd3786"
            ],
            [
             0.5555555555555556,
             "#d8576b"
            ],
            [
             0.6666666666666666,
             "#ed7953"
            ],
            [
             0.7777777777777778,
             "#fb9f3a"
            ],
            [
             0.8888888888888888,
             "#fdca26"
            ],
            [
             1,
             "#f0f921"
            ]
           ],
           "sequentialminus": [
            [
             0,
             "#0d0887"
            ],
            [
             0.1111111111111111,
             "#46039f"
            ],
            [
             0.2222222222222222,
             "#7201a8"
            ],
            [
             0.3333333333333333,
             "#9c179e"
            ],
            [
             0.4444444444444444,
             "#bd3786"
            ],
            [
             0.5555555555555556,
             "#d8576b"
            ],
            [
             0.6666666666666666,
             "#ed7953"
            ],
            [
             0.7777777777777778,
             "#fb9f3a"
            ],
            [
             0.8888888888888888,
             "#fdca26"
            ],
            [
             1,
             "#f0f921"
            ]
           ]
          },
          "colorway": [
           "#636efa",
           "#EF553B",
           "#00cc96",
           "#ab63fa",
           "#FFA15A",
           "#19d3f3",
           "#FF6692",
           "#B6E880",
           "#FF97FF",
           "#FECB52"
          ],
          "font": {
           "color": "#2a3f5f"
          },
          "geo": {
           "bgcolor": "white",
           "lakecolor": "white",
           "landcolor": "#E5ECF6",
           "showlakes": true,
           "showland": true,
           "subunitcolor": "white"
          },
          "hoverlabel": {
           "align": "left"
          },
          "hovermode": "closest",
          "mapbox": {
           "style": "light"
          },
          "paper_bgcolor": "white",
          "plot_bgcolor": "#E5ECF6",
          "polar": {
           "angularaxis": {
            "gridcolor": "white",
            "linecolor": "white",
            "ticks": ""
           },
           "bgcolor": "#E5ECF6",
           "radialaxis": {
            "gridcolor": "white",
            "linecolor": "white",
            "ticks": ""
           }
          },
          "scene": {
           "xaxis": {
            "backgroundcolor": "#E5ECF6",
            "gridcolor": "white",
            "gridwidth": 2,
            "linecolor": "white",
            "showbackground": true,
            "ticks": "",
            "zerolinecolor": "white"
           },
           "yaxis": {
            "backgroundcolor": "#E5ECF6",
            "gridcolor": "white",
            "gridwidth": 2,
            "linecolor": "white",
            "showbackground": true,
            "ticks": "",
            "zerolinecolor": "white"
           },
           "zaxis": {
            "backgroundcolor": "#E5ECF6",
            "gridcolor": "white",
            "gridwidth": 2,
            "linecolor": "white",
            "showbackground": true,
            "ticks": "",
            "zerolinecolor": "white"
           }
          },
          "shapedefaults": {
           "line": {
            "color": "#2a3f5f"
           }
          },
          "ternary": {
           "aaxis": {
            "gridcolor": "white",
            "linecolor": "white",
            "ticks": ""
           },
           "baxis": {
            "gridcolor": "white",
            "linecolor": "white",
            "ticks": ""
           },
           "bgcolor": "#E5ECF6",
           "caxis": {
            "gridcolor": "white",
            "linecolor": "white",
            "ticks": ""
           }
          },
          "title": {
           "x": 0.05
          },
          "xaxis": {
           "automargin": true,
           "gridcolor": "white",
           "linecolor": "white",
           "ticks": "",
           "title": {
            "standoff": 15
           },
           "zerolinecolor": "white",
           "zerolinewidth": 2
          },
          "yaxis": {
           "automargin": true,
           "gridcolor": "white",
           "linecolor": "white",
           "ticks": "",
           "title": {
            "standoff": 15
           },
           "zerolinecolor": "white",
           "zerolinewidth": 2
          }
         }
        },
        "title": {
         "text": "Direct Logit Attribution"
        },
        "updatemenus": [
         {
          "buttons": [
           {
            "args": [
             null,
             {
              "frame": {
               "duration": 500,
               "redraw": true
              },
              "fromcurrent": true,
              "mode": "immediate",
              "transition": {
               "duration": 500,
               "easing": "linear"
              }
             }
            ],
            "label": "&#9654;",
            "method": "animate"
           },
           {
            "args": [
             [
              null
             ],
             {
              "frame": {
               "duration": 0,
               "redraw": true
              },
              "fromcurrent": true,
              "mode": "immediate",
              "transition": {
               "duration": 0,
               "easing": "linear"
              }
             }
            ],
            "label": "&#9724;",
            "method": "animate"
           }
          ],
          "direction": "left",
          "pad": {
           "r": 10,
           "t": 70
          },
          "showactive": false,
          "type": "buttons",
          "x": 0.1,
          "xanchor": "right",
          "y": 0,
          "yanchor": "top"
         }
        ],
        "xaxis": {
         "anchor": "y",
         "constrain": "domain",
         "domain": [
          0,
          1
         ],
         "scaleanchor": "y"
        },
        "yaxis": {
         "anchor": "x",
         "autorange": "reversed",
         "constrain": "domain",
         "domain": [
          0,
          1
         ]
        }
       }
      }
     },
     "metadata": {},
     "output_type": "display_data"
    }
   ],
   "source": [
    "example_token_answers = example_tokens[:, seq_len+2:]\n",
    "W_U_per_token = sorting_model.unembed.W_U[example_token_answers]\n",
    "print(W_U_per_token.shape)\n",
    "direct_logit_attr = torch.einsum('cbpm,bpm->bcp', components[:, :, 1+seq_len:-1], W_U_per_token)\n",
    "print(direct_logit_attr.shape)\n",
    "px.imshow(to_numpy(direct_logit_attr), y=component_labels, animation_frame=0, color_continuous_midpoint=0.0, color_continuous_scale='RdBu', title=\"Direct Logit Attribution\").show()"
   ]
  },
  {
   "cell_type": "code",
   "execution_count": null,
   "metadata": {},
   "outputs": [
    {
     "data": {
      "application/vnd.plotly.v1+json": {
       "config": {
        "plotlyServerURL": "https://plot.ly"
       },
       "data": [
        {
         "coloraxis": "coloraxis",
         "hovertemplate": "x: %{x}<br>y: %{y}<br>color: %{z}<extra></extra>",
         "name": "0",
         "type": "heatmap",
         "xaxis": "x",
         "yaxis": "y",
         "z": [
          [
           -2.074054479598999,
           6.017828464508057,
           16.64383888244629,
           22.68655014038086,
           9.190719604492188,
           11.897135734558105,
           -2.1730005741119385,
           -17.917139053344727,
           2.3335587978363037,
           26.47604751586914,
           16.539127349853516,
           3.8213272094726562,
           -16.48236083984375,
           -1.6097991466522217,
           3.979597806930542,
           -19.356225967407227,
           13.729971885681152,
           15.265761375427246,
           -25.465660095214844,
           12.874540328979492,
           -10.575783729553223,
           8.928893089294434,
           14.774863243103027,
           12.42748737335205,
           15.778905868530273,
           16.22197151184082,
           16.0655517578125,
           34.691890716552734,
           18.86563491821289,
           21.914306640625,
           23.62110710144043,
           22.640283584594727,
           20.76089859008789,
           18.793058395385742,
           25.852680206298828,
           32.17609786987305,
           51.03131103515625,
           20.58609390258789,
           24.93612289428711,
           30.572973251342773,
           68.51005554199219
          ],
          [
           -8.859766960144043,
           2.557948589324951,
           7.9241533279418945,
           15.988779067993164,
           -19.675765991210938,
           -30.840726852416992,
           -31.016786575317383,
           20.631778717041016,
           5.902553558349609,
           -27.538822174072266,
           -22.05324935913086,
           -18.439882278442383,
           -23.353294372558594,
           -0.7937216758728027,
           12.135028839111328,
           -8.591774940490723,
           2.0147876739501953,
           11.136852264404297,
           6.554114818572998,
           36.819854736328125,
           -11.899043083190918,
           11.89503288269043,
           11.004209518432617,
           17.004375457763672,
           14.345787048339844,
           12.357977867126465,
           19.16959571838379,
           30.311485290527344,
           23.92827606201172,
           15.211342811584473,
           10.288583755493164,
           41.082122802734375,
           46.409271240234375,
           42.888763427734375,
           36.31566619873047,
           34.91461181640625,
           26.336299896240234,
           39.50989532470703,
           47.3593864440918,
           52.80183029174805,
           52.500858306884766
          ],
          [
           5.322803497314453,
           9.919800758361816,
           -0.5329177379608154,
           -31.813709259033203,
           -7.288424968719482,
           6.425023555755615,
           10.08022403717041,
           -12.092220306396484,
           -4.408172130584717,
           3.3500397205352783,
           -16.108585357666016,
           -2.140573740005493,
           7.824494361877441,
           1.3749107122421265,
           11.179688453674316,
           -8.62061595916748,
           2.5586183071136475,
           10.588314056396484,
           4.815712928771973,
           -11.901646614074707,
           -15.673620223999023,
           11.904845237731934,
           11.277643203735352,
           10.910602569580078,
           9.676351547241211,
           11.586664199829102,
           11.602935791015625,
           14.455279350280762,
           15.461517333984375,
           16.047502517700195,
           18.419158935546875,
           35.26934814453125,
           16.515153884887695,
           21.790010452270508,
           27.01125144958496,
           53.283836364746094,
           30.777624130249023,
           25.166118621826172,
           30.955608367919922,
           33.42646789550781,
           49.47314453125
          ],
          [
           5.322803497314453,
           21.362613677978516,
           -19.195375442504883,
           -6.308289051055908,
           -7.899561405181885,
           -1.36751127243042,
           7.289464950561523,
           -11.306924819946289,
           -11.783605575561523,
           -8.412592887878418,
           -22.963661193847656,
           -12.048784255981445,
           12.873353004455566,
           19.27565574645996,
           7.660140514373779,
           16.44423484802246,
           11.765481948852539,
           4.417211055755615,
           7.392857551574707,
           -3.682098388671875,
           -13.819592475891113,
           11.774637222290039,
           9.357166290283203,
           13.018359184265137,
           16.49453353881836,
           18.8026180267334,
           18.192758560180664,
           18.30389404296875,
           29.006486892700195,
           29.251264572143555,
           27.34539794921875,
           15.69809627532959,
           16.137584686279297,
           46.62460708618164,
           56.99307632446289,
           42.35019302368164,
           33.721923828125,
           29.689233779907227,
           40.09429931640625,
           44.29123306274414,
           53.770347595214844
          ],
          [
           3.7582454681396484,
           8.06432819366455,
           8.575878143310547,
           8.73703670501709,
           27.00796127319336,
           -18.970468521118164,
           13.16780948638916,
           11.233001708984375,
           11.854463577270508,
           0.8576018810272217,
           -32.08335876464844,
           14.277236938476562,
           9.179811477661133,
           -14.145923614501953,
           -1.8600740432739258,
           -16.142553329467773,
           16.890317916870117,
           23.158931732177734,
           -8.495296478271484,
           -12.90009593963623,
           -13.105242729187012,
           12.345937728881836,
           11.795965194702148,
           9.193218231201172,
           11.546467781066895,
           11.366535186767578,
           11.56014347076416,
           14.344837188720703,
           17.14215660095215,
           23.204830169677734,
           20.772207260131836,
           21.39322280883789,
           20.721107482910156,
           18.91451644897461,
           24.322330474853516,
           28.920991897583008,
           28.5860595703125,
           26.68606948852539,
           34.295616149902344,
           41.4430046081543,
           46.89308166503906
          ],
          [
           -7.479669570922852,
           61.78274917602539,
           3.0854263305664062,
           -63.73756408691406,
           -3.674908399581909,
           6.541464328765869,
           -6.580438137054443,
           5.773467063903809,
           16.43960189819336,
           10.199246406555176,
           -4.730891227722168,
           -11.271998405456543,
           1.4206781387329102,
           -16.748502731323242,
           4.112758636474609,
           19.29900360107422,
           -8.326224327087402,
           -10.383267402648926,
           19.047454833984375,
           10.07360553741455,
           -14.29412841796875,
           11.881689071655273,
           11.406503677368164,
           13.351088523864746,
           12.433492660522461,
           12.342445373535156,
           16.54136085510254,
           17.379201889038086,
           17.706727981567383,
           23.152111053466797,
           19.742406845092773,
           20.815889358520508,
           30.625446319580078,
           34.18740463256836,
           42.718318939208984,
           53.23375701904297,
           46.03981018066406,
           12.417045593261719,
           34.41345977783203,
           50.161865234375,
           67.04875946044922
          ],
          [
           -7.583296775817871,
           20.772167205810547,
           -16.726451873779297,
           -6.195572853088379,
           7.670023441314697,
           0.23658591508865356,
           -8.202390670776367,
           7.957082748413086,
           -2.676823616027832,
           -1.7115161418914795,
           2.557392120361328,
           27.333642959594727,
           17.42449951171875,
           -36.260826110839844,
           16.905065536499023,
           17.515932083129883,
           34.07884979248047,
           6.63136625289917,
           11.82558822631836,
           -38.13908386230469,
           -14.47757339477539,
           10.14926528930664,
           16.971792221069336,
           14.896326065063477,
           10.605339050292969,
           36.296051025390625,
           40.40141296386719,
           25.511503219604492,
           18.341426849365234,
           15.052362442016602,
           24.701913833618164,
           27.742034912109375,
           31.573801040649414,
           35.22562026977539,
           49.79063415527344,
           49.771392822265625,
           24.976158142089844,
           17.327848434448242,
           27.131431579589844,
           36.593017578125,
           54.01222610473633
          ],
          [
           -0.23629096150398254,
           -13.513609886169434,
           23.74095344543457,
           7.758993625640869,
           -17.845497131347656,
           13.55477523803711,
           7.011103630065918,
           1.8858894109725952,
           -27.035594940185547,
           -25.92116928100586,
           -11.513907432556152,
           -2.8135361671447754,
           6.752985000610352,
           -8.644153594970703,
           1.4284770488739014,
           -25.582666397094727,
           -15.842169761657715,
           -13.502690315246582,
           15.34714412689209,
           -21.063800811767578,
           -10.720792770385742,
           11.295792579650879,
           10.83910846710205,
           8.533926010131836,
           27.43629264831543,
           29.74937629699707,
           27.004955291748047,
           16.41611671447754,
           19.93854522705078,
           28.322267532348633,
           28.587785720825195,
           35.51040267944336,
           38.89362335205078,
           35.69042205810547,
           32.29880905151367,
           27.913419723510742,
           43.97687530517578,
           42.148319244384766,
           52.78288269042969,
           52.77142333984375,
           54.722572326660156
          ],
          [
           5.154424667358398,
           7.540002346038818,
           -4.7096123695373535,
           43.36552047729492,
           -18.315153121948242,
           0.1477898359298706,
           17.851369857788086,
           9.213249206542969,
           -2.6529624462127686,
           -11.161544799804688,
           22.757997512817383,
           1.186233401298523,
           24.078670501708984,
           -22.538076400756836,
           -5.451226234436035,
           3.7750473022460938,
           -24.008981704711914,
           -29.60555648803711,
           12.697702407836914,
           6.128143310546875,
           -13.383429527282715,
           11.225044250488281,
           9.48516845703125,
           15.209071159362793,
           16.255043029785156,
           17.11039161682129,
           20.405542373657227,
           35.059349060058594,
           34.577667236328125,
           15.06008529663086,
           20.106374740600586,
           27.580045700073242,
           56.03955078125,
           40.17042922973633,
           39.46289825439453,
           31.74683380126953,
           32.79273223876953,
           34.53144454956055,
           50.03097152709961,
           36.98259735107422,
           53.38858413696289
          ],
          [
           10.645831108093262,
           -11.908317565917969,
           -26.022052764892578,
           -2.337963342666626,
           5.106992721557617,
           -0.6511010527610779,
           -11.539443969726562,
           16.33409881591797,
           -3.269548177719116,
           24.17997932434082,
           6.572822093963623,
           -8.38460636138916,
           16.372848510742188,
           -1.7967627048492432,
           -2.6049604415893555,
           22.56623077392578,
           -0.4670124053955078,
           7.147425174713135,
           7.322343349456787,
           -13.234285354614258,
           -14.950155258178711,
           11.611825942993164,
           10.11899185180664,
           11.114824295043945,
           11.093494415283203,
           19.867189407348633,
           26.535375595092773,
           36.875492095947266,
           20.139142990112305,
           32.793701171875,
           41.78609085083008,
           49.25984573364258,
           57.88550567626953,
           46.68329620361328,
           44.80158996582031,
           45.51639938354492,
           31.7878360748291,
           33.346744537353516,
           36.597511291503906,
           46.9616584777832,
           59.50092315673828
          ],
          [
           1.2492622137069702,
           -4.371575355529785,
           -8.431496620178223,
           0.9315671920776367,
           -10.652921676635742,
           -4.705031871795654,
           13.31522274017334,
           10.251754760742188,
           1.4802024364471436,
           11.480719566345215,
           2.121782064437866,
           4.582679748535156,
           26.506277084350586,
           21.929134368896484,
           -4.685391902923584,
           1.0716159343719482,
           5.477322101593018,
           6.051293849945068,
           -33.5430793762207,
           14.112857818603516,
           -12.275403022766113,
           11.993202209472656,
           11.249128341674805,
           11.340422630310059,
           12.22389030456543,
           14.058457374572754,
           12.897263526916504,
           16.360618591308594,
           17.558889389038086,
           35.106815338134766,
           28.6834659576416,
           21.76418685913086,
           16.37066650390625,
           10.482919692993164,
           32.689125061035156,
           43.679317474365234,
           54.01582717895508,
           23.834095001220703,
           26.685686111450195,
           27.224788665771484,
           55.72613525390625
          ],
          [
           -7.479669570922852,
           5.99542236328125,
           -18.21278953552246,
           -22.117244720458984,
           15.700479507446289,
           -20.926218032836914,
           0.7353954911231995,
           -15.429988861083984,
           5.458689212799072,
           7.924978733062744,
           11.561849594116211,
           21.005517959594727,
           -23.491161346435547,
           -0.26839667558670044,
           -1.100738286972046,
           13.29649829864502,
           7.78972864151001,
           -16.659767150878906,
           14.429248809814453,
           7.291150093078613,
           -9.495551109313965,
           11.837820053100586,
           9.413485527038574,
           15.132335662841797,
           16.586374282836914,
           20.04349136352539,
           17.867679595947266,
           20.468551635742188,
           24.724435806274414,
           25.62218475341797,
           24.164419174194336,
           25.571578979492188,
           41.95813751220703,
           46.891761779785156,
           34.882076263427734,
           32.879554748535156,
           27.30417823791504,
           24.62455177307129,
           23.3813419342041,
           41.314910888671875,
           55.550819396972656
          ],
          [
           -8.859766960144043,
           -30.6302547454834,
           -12.978487014770508,
           -6.467789649963379,
           0.5255973935127258,
           -5.528761863708496,
           -17.263038635253906,
           5.921023368835449,
           21.982786178588867,
           27.272632598876953,
           -13.581669807434082,
           -18.500682830810547,
           -6.994479656219482,
           20.422962188720703,
           -17.403512954711914,
           9.673800468444824,
           24.73399543762207,
           21.203235626220703,
           -16.519184112548828,
           -18.292255401611328,
           -15.93148136138916,
           11.638336181640625,
           10.182443618774414,
           10.038137435913086,
           40.269771575927734,
           39.020835876464844,
           14.329771995544434,
           21.02731704711914,
           26.03544807434082,
           24.663982391357422,
           33.48153305053711,
           55.669315338134766,
           33.39457702636719,
           43.935447692871094,
           46.740455627441406,
           38.37846374511719,
           30.65814208984375,
           37.65160369873047,
           44.03670883178711,
           56.350955963134766,
           60.96016311645508
          ],
          [
           3.3206095695495605,
           5.8461527824401855,
           -3.167018413543701,
           4.613246440887451,
           -6.247043609619141,
           25.215606689453125,
           -17.501829147338867,
           -2.217726230621338,
           21.243993759155273,
           -41.52436065673828,
           -17.38749122619629,
           4.57001256942749,
           -3.8930742740631104,
           5.2617292404174805,
           5.945977687835693,
           10.628168106079102,
           10.180415153503418,
           -22.6724796295166,
           12.353654861450195,
           16.13181495666504,
           -21.01066780090332,
           10.751399040222168,
           12.81163215637207,
           14.887557983398438,
           14.056940078735352,
           14.418704986572266,
           15.112616539001465,
           22.080821990966797,
           36.15165328979492,
           35.169837951660156,
           41.96514129638672,
           15.948291778564453,
           21.592798233032227,
           31.713815689086914,
           30.29608917236328,
           26.778657913208008,
           24.29703712463379,
           29.925010681152344,
           29.31148338317871,
           41.77763366699219,
           50.447208404541016
          ],
          [
           6.712069988250732,
           0.01679924875497818,
           8.344934463500977,
           6.524224758148193,
           -16.89582061767578,
           13.359580993652344,
           -31.230485916137695,
           21.429725646972656,
           11.178004264831543,
           -1.7626608610153198,
           -28.391849517822266,
           28.70772361755371,
           -34.89812088012695,
           -1.0211817026138306,
           -28.44256019592285,
           -8.188887596130371,
           -4.544058322906494,
           6.281519889831543,
           17.892812728881836,
           17.443382263183594,
           -17.962350845336914,
           11.176586151123047,
           11.135490417480469,
           9.469843864440918,
           13.866729736328125,
           20.27020835876465,
           32.19265365600586,
           24.458608627319336,
           22.446762084960938,
           31.033447265625,
           26.40029525756836,
           27.45237159729004,
           45.50337600708008,
           57.58980178833008,
           39.178401947021484,
           36.61494064331055,
           35.838993072509766,
           39.930721282958984,
           48.36214065551758,
           49.62648391723633,
           42.94511795043945
          ],
          [
           -5.460162162780762,
           -3.1376192569732666,
           4.746438980102539,
           -17.338459014892578,
           2.5162248611450195,
           1.5101760625839233,
           -6.619980812072754,
           0.5734606981277466,
           -1.825340747833252,
           -10.304784774780273,
           -9.93628978729248,
           -8.796908378601074,
           -6.378880023956299,
           -9.225203514099121,
           -25.18782615661621,
           -9.222136497497559,
           0.8298985958099365,
           20.14944839477539,
           9.439092636108398,
           5.434832572937012,
           -8.6870756149292,
           11.530851364135742,
           10.677811622619629,
           9.15117359161377,
           16.17321014404297,
           33.32655715942383,
           35.89739227294922,
           37.89736557006836,
           35.194244384765625,
           41.41149139404297,
           9.164485931396484,
           28.48208236694336,
           44.2011833190918,
           52.3363151550293,
           46.318641662597656,
           41.505889892578125,
           33.79349136352539,
           29.112287521362305,
           30.681488037109375,
           42.6292610168457,
           58.3039436340332
          ]
         ]
        }
       ],
       "layout": {
        "coloraxis": {
         "cmid": 0,
         "colorscale": [
          [
           0,
           "rgb(103,0,31)"
          ],
          [
           0.1,
           "rgb(178,24,43)"
          ],
          [
           0.2,
           "rgb(214,96,77)"
          ],
          [
           0.3,
           "rgb(244,165,130)"
          ],
          [
           0.4,
           "rgb(253,219,199)"
          ],
          [
           0.5,
           "rgb(247,247,247)"
          ],
          [
           0.6,
           "rgb(209,229,240)"
          ],
          [
           0.7,
           "rgb(146,197,222)"
          ],
          [
           0.8,
           "rgb(67,147,195)"
          ],
          [
           0.9,
           "rgb(33,102,172)"
          ],
          [
           1,
           "rgb(5,48,97)"
          ]
         ]
        },
        "margin": {
         "t": 60
        },
        "template": {
         "data": {
          "bar": [
           {
            "error_x": {
             "color": "#2a3f5f"
            },
            "error_y": {
             "color": "#2a3f5f"
            },
            "marker": {
             "line": {
              "color": "#E5ECF6",
              "width": 0.5
             },
             "pattern": {
              "fillmode": "overlay",
              "size": 10,
              "solidity": 0.2
             }
            },
            "type": "bar"
           }
          ],
          "barpolar": [
           {
            "marker": {
             "line": {
              "color": "#E5ECF6",
              "width": 0.5
             },
             "pattern": {
              "fillmode": "overlay",
              "size": 10,
              "solidity": 0.2
             }
            },
            "type": "barpolar"
           }
          ],
          "carpet": [
           {
            "aaxis": {
             "endlinecolor": "#2a3f5f",
             "gridcolor": "white",
             "linecolor": "white",
             "minorgridcolor": "white",
             "startlinecolor": "#2a3f5f"
            },
            "baxis": {
             "endlinecolor": "#2a3f5f",
             "gridcolor": "white",
             "linecolor": "white",
             "minorgridcolor": "white",
             "startlinecolor": "#2a3f5f"
            },
            "type": "carpet"
           }
          ],
          "choropleth": [
           {
            "colorbar": {
             "outlinewidth": 0,
             "ticks": ""
            },
            "type": "choropleth"
           }
          ],
          "contour": [
           {
            "colorbar": {
             "outlinewidth": 0,
             "ticks": ""
            },
            "colorscale": [
             [
              0,
              "#0d0887"
             ],
             [
              0.1111111111111111,
              "#46039f"
             ],
             [
              0.2222222222222222,
              "#7201a8"
             ],
             [
              0.3333333333333333,
              "#9c179e"
             ],
             [
              0.4444444444444444,
              "#bd3786"
             ],
             [
              0.5555555555555556,
              "#d8576b"
             ],
             [
              0.6666666666666666,
              "#ed7953"
             ],
             [
              0.7777777777777778,
              "#fb9f3a"
             ],
             [
              0.8888888888888888,
              "#fdca26"
             ],
             [
              1,
              "#f0f921"
             ]
            ],
            "type": "contour"
           }
          ],
          "contourcarpet": [
           {
            "colorbar": {
             "outlinewidth": 0,
             "ticks": ""
            },
            "type": "contourcarpet"
           }
          ],
          "heatmap": [
           {
            "colorbar": {
             "outlinewidth": 0,
             "ticks": ""
            },
            "colorscale": [
             [
              0,
              "#0d0887"
             ],
             [
              0.1111111111111111,
              "#46039f"
             ],
             [
              0.2222222222222222,
              "#7201a8"
             ],
             [
              0.3333333333333333,
              "#9c179e"
             ],
             [
              0.4444444444444444,
              "#bd3786"
             ],
             [
              0.5555555555555556,
              "#d8576b"
             ],
             [
              0.6666666666666666,
              "#ed7953"
             ],
             [
              0.7777777777777778,
              "#fb9f3a"
             ],
             [
              0.8888888888888888,
              "#fdca26"
             ],
             [
              1,
              "#f0f921"
             ]
            ],
            "type": "heatmap"
           }
          ],
          "heatmapgl": [
           {
            "colorbar": {
             "outlinewidth": 0,
             "ticks": ""
            },
            "colorscale": [
             [
              0,
              "#0d0887"
             ],
             [
              0.1111111111111111,
              "#46039f"
             ],
             [
              0.2222222222222222,
              "#7201a8"
             ],
             [
              0.3333333333333333,
              "#9c179e"
             ],
             [
              0.4444444444444444,
              "#bd3786"
             ],
             [
              0.5555555555555556,
              "#d8576b"
             ],
             [
              0.6666666666666666,
              "#ed7953"
             ],
             [
              0.7777777777777778,
              "#fb9f3a"
             ],
             [
              0.8888888888888888,
              "#fdca26"
             ],
             [
              1,
              "#f0f921"
             ]
            ],
            "type": "heatmapgl"
           }
          ],
          "histogram": [
           {
            "marker": {
             "pattern": {
              "fillmode": "overlay",
              "size": 10,
              "solidity": 0.2
             }
            },
            "type": "histogram"
           }
          ],
          "histogram2d": [
           {
            "colorbar": {
             "outlinewidth": 0,
             "ticks": ""
            },
            "colorscale": [
             [
              0,
              "#0d0887"
             ],
             [
              0.1111111111111111,
              "#46039f"
             ],
             [
              0.2222222222222222,
              "#7201a8"
             ],
             [
              0.3333333333333333,
              "#9c179e"
             ],
             [
              0.4444444444444444,
              "#bd3786"
             ],
             [
              0.5555555555555556,
              "#d8576b"
             ],
             [
              0.6666666666666666,
              "#ed7953"
             ],
             [
              0.7777777777777778,
              "#fb9f3a"
             ],
             [
              0.8888888888888888,
              "#fdca26"
             ],
             [
              1,
              "#f0f921"
             ]
            ],
            "type": "histogram2d"
           }
          ],
          "histogram2dcontour": [
           {
            "colorbar": {
             "outlinewidth": 0,
             "ticks": ""
            },
            "colorscale": [
             [
              0,
              "#0d0887"
             ],
             [
              0.1111111111111111,
              "#46039f"
             ],
             [
              0.2222222222222222,
              "#7201a8"
             ],
             [
              0.3333333333333333,
              "#9c179e"
             ],
             [
              0.4444444444444444,
              "#bd3786"
             ],
             [
              0.5555555555555556,
              "#d8576b"
             ],
             [
              0.6666666666666666,
              "#ed7953"
             ],
             [
              0.7777777777777778,
              "#fb9f3a"
             ],
             [
              0.8888888888888888,
              "#fdca26"
             ],
             [
              1,
              "#f0f921"
             ]
            ],
            "type": "histogram2dcontour"
           }
          ],
          "mesh3d": [
           {
            "colorbar": {
             "outlinewidth": 0,
             "ticks": ""
            },
            "type": "mesh3d"
           }
          ],
          "parcoords": [
           {
            "line": {
             "colorbar": {
              "outlinewidth": 0,
              "ticks": ""
             }
            },
            "type": "parcoords"
           }
          ],
          "pie": [
           {
            "automargin": true,
            "type": "pie"
           }
          ],
          "scatter": [
           {
            "fillpattern": {
             "fillmode": "overlay",
             "size": 10,
             "solidity": 0.2
            },
            "type": "scatter"
           }
          ],
          "scatter3d": [
           {
            "line": {
             "colorbar": {
              "outlinewidth": 0,
              "ticks": ""
             }
            },
            "marker": {
             "colorbar": {
              "outlinewidth": 0,
              "ticks": ""
             }
            },
            "type": "scatter3d"
           }
          ],
          "scattercarpet": [
           {
            "marker": {
             "colorbar": {
              "outlinewidth": 0,
              "ticks": ""
             }
            },
            "type": "scattercarpet"
           }
          ],
          "scattergeo": [
           {
            "marker": {
             "colorbar": {
              "outlinewidth": 0,
              "ticks": ""
             }
            },
            "type": "scattergeo"
           }
          ],
          "scattergl": [
           {
            "marker": {
             "colorbar": {
              "outlinewidth": 0,
              "ticks": ""
             }
            },
            "type": "scattergl"
           }
          ],
          "scattermapbox": [
           {
            "marker": {
             "colorbar": {
              "outlinewidth": 0,
              "ticks": ""
             }
            },
            "type": "scattermapbox"
           }
          ],
          "scatterpolar": [
           {
            "marker": {
             "colorbar": {
              "outlinewidth": 0,
              "ticks": ""
             }
            },
            "type": "scatterpolar"
           }
          ],
          "scatterpolargl": [
           {
            "marker": {
             "colorbar": {
              "outlinewidth": 0,
              "ticks": ""
             }
            },
            "type": "scatterpolargl"
           }
          ],
          "scatterternary": [
           {
            "marker": {
             "colorbar": {
              "outlinewidth": 0,
              "ticks": ""
             }
            },
            "type": "scatterternary"
           }
          ],
          "surface": [
           {
            "colorbar": {
             "outlinewidth": 0,
             "ticks": ""
            },
            "colorscale": [
             [
              0,
              "#0d0887"
             ],
             [
              0.1111111111111111,
              "#46039f"
             ],
             [
              0.2222222222222222,
              "#7201a8"
             ],
             [
              0.3333333333333333,
              "#9c179e"
             ],
             [
              0.4444444444444444,
              "#bd3786"
             ],
             [
              0.5555555555555556,
              "#d8576b"
             ],
             [
              0.6666666666666666,
              "#ed7953"
             ],
             [
              0.7777777777777778,
              "#fb9f3a"
             ],
             [
              0.8888888888888888,
              "#fdca26"
             ],
             [
              1,
              "#f0f921"
             ]
            ],
            "type": "surface"
           }
          ],
          "table": [
           {
            "cells": {
             "fill": {
              "color": "#EBF0F8"
             },
             "line": {
              "color": "white"
             }
            },
            "header": {
             "fill": {
              "color": "#C8D4E3"
             },
             "line": {
              "color": "white"
             }
            },
            "type": "table"
           }
          ]
         },
         "layout": {
          "annotationdefaults": {
           "arrowcolor": "#2a3f5f",
           "arrowhead": 0,
           "arrowwidth": 1
          },
          "autotypenumbers": "strict",
          "coloraxis": {
           "colorbar": {
            "outlinewidth": 0,
            "ticks": ""
           }
          },
          "colorscale": {
           "diverging": [
            [
             0,
             "#8e0152"
            ],
            [
             0.1,
             "#c51b7d"
            ],
            [
             0.2,
             "#de77ae"
            ],
            [
             0.3,
             "#f1b6da"
            ],
            [
             0.4,
             "#fde0ef"
            ],
            [
             0.5,
             "#f7f7f7"
            ],
            [
             0.6,
             "#e6f5d0"
            ],
            [
             0.7,
             "#b8e186"
            ],
            [
             0.8,
             "#7fbc41"
            ],
            [
             0.9,
             "#4d9221"
            ],
            [
             1,
             "#276419"
            ]
           ],
           "sequential": [
            [
             0,
             "#0d0887"
            ],
            [
             0.1111111111111111,
             "#46039f"
            ],
            [
             0.2222222222222222,
             "#7201a8"
            ],
            [
             0.3333333333333333,
             "#9c179e"
            ],
            [
             0.4444444444444444,
             "#bd3786"
            ],
            [
             0.5555555555555556,
             "#d8576b"
            ],
            [
             0.6666666666666666,
             "#ed7953"
            ],
            [
             0.7777777777777778,
             "#fb9f3a"
            ],
            [
             0.8888888888888888,
             "#fdca26"
            ],
            [
             1,
             "#f0f921"
            ]
           ],
           "sequentialminus": [
            [
             0,
             "#0d0887"
            ],
            [
             0.1111111111111111,
             "#46039f"
            ],
            [
             0.2222222222222222,
             "#7201a8"
            ],
            [
             0.3333333333333333,
             "#9c179e"
            ],
            [
             0.4444444444444444,
             "#bd3786"
            ],
            [
             0.5555555555555556,
             "#d8576b"
            ],
            [
             0.6666666666666666,
             "#ed7953"
            ],
            [
             0.7777777777777778,
             "#fb9f3a"
            ],
            [
             0.8888888888888888,
             "#fdca26"
            ],
            [
             1,
             "#f0f921"
            ]
           ]
          },
          "colorway": [
           "#636efa",
           "#EF553B",
           "#00cc96",
           "#ab63fa",
           "#FFA15A",
           "#19d3f3",
           "#FF6692",
           "#B6E880",
           "#FF97FF",
           "#FECB52"
          ],
          "font": {
           "color": "#2a3f5f"
          },
          "geo": {
           "bgcolor": "white",
           "lakecolor": "white",
           "landcolor": "#E5ECF6",
           "showlakes": true,
           "showland": true,
           "subunitcolor": "white"
          },
          "hoverlabel": {
           "align": "left"
          },
          "hovermode": "closest",
          "mapbox": {
           "style": "light"
          },
          "paper_bgcolor": "white",
          "plot_bgcolor": "#E5ECF6",
          "polar": {
           "angularaxis": {
            "gridcolor": "white",
            "linecolor": "white",
            "ticks": ""
           },
           "bgcolor": "#E5ECF6",
           "radialaxis": {
            "gridcolor": "white",
            "linecolor": "white",
            "ticks": ""
           }
          },
          "scene": {
           "xaxis": {
            "backgroundcolor": "#E5ECF6",
            "gridcolor": "white",
            "gridwidth": 2,
            "linecolor": "white",
            "showbackground": true,
            "ticks": "",
            "zerolinecolor": "white"
           },
           "yaxis": {
            "backgroundcolor": "#E5ECF6",
            "gridcolor": "white",
            "gridwidth": 2,
            "linecolor": "white",
            "showbackground": true,
            "ticks": "",
            "zerolinecolor": "white"
           },
           "zaxis": {
            "backgroundcolor": "#E5ECF6",
            "gridcolor": "white",
            "gridwidth": 2,
            "linecolor": "white",
            "showbackground": true,
            "ticks": "",
            "zerolinecolor": "white"
           }
          },
          "shapedefaults": {
           "line": {
            "color": "#2a3f5f"
           }
          },
          "ternary": {
           "aaxis": {
            "gridcolor": "white",
            "linecolor": "white",
            "ticks": ""
           },
           "baxis": {
            "gridcolor": "white",
            "linecolor": "white",
            "ticks": ""
           },
           "bgcolor": "#E5ECF6",
           "caxis": {
            "gridcolor": "white",
            "linecolor": "white",
            "ticks": ""
           }
          },
          "title": {
           "x": 0.05
          },
          "xaxis": {
           "automargin": true,
           "gridcolor": "white",
           "linecolor": "white",
           "ticks": "",
           "title": {
            "standoff": 15
           },
           "zerolinecolor": "white",
           "zerolinewidth": 2
          },
          "yaxis": {
           "automargin": true,
           "gridcolor": "white",
           "linecolor": "white",
           "ticks": "",
           "title": {
            "standoff": 15
           },
           "zerolinecolor": "white",
           "zerolinewidth": 2
          }
         }
        },
        "xaxis": {
         "anchor": "y",
         "constrain": "domain",
         "domain": [
          0,
          1
         ],
         "scaleanchor": "y"
        },
        "yaxis": {
         "anchor": "x",
         "autorange": "reversed",
         "constrain": "domain",
         "domain": [
          0,
          1
         ]
        }
       }
      }
     },
     "metadata": {},
     "output_type": "display_data"
    },
    {
     "data": {
      "application/vnd.plotly.v1+json": {
       "config": {
        "plotlyServerURL": "https://plot.ly"
       },
       "data": [
        {
         "coloraxis": "coloraxis",
         "hovertemplate": "x: %{x}<br>y: %{y}<br>color: %{z}<extra></extra>",
         "name": "0",
         "type": "heatmap",
         "xaxis": "x",
         "yaxis": "y",
         "z": [
          [
           -2.7532405853271484,
           5.135961532592773,
           17.469106674194336,
           22.32259750366211,
           9.096305847167969,
           11.611249923706055,
           -2.3774728775024414,
           -16.406600952148438,
           1.846009373664856,
           25.364952087402344,
           17.12095832824707,
           4.788347244262695,
           -17.623790740966797,
           -1.7678016424179077,
           3.239128351211548,
           -19.33890151977539,
           13.793874740600586,
           14.237045288085938,
           -26.136991500854492,
           13.049713134765625,
           -11.019083976745605,
           8.583809852600098,
           14.26982307434082,
           11.845595359802246,
           15.582860946655273,
           16.052858352661133,
           15.902299880981445,
           34.22089385986328,
           17.920860290527344,
           21.11553192138672,
           22.803998947143555,
           23.037569046020508,
           21.197154998779297,
           19.261030197143555,
           26.823911666870117,
           33.558921813964844,
           52.783363342285156,
           21.273136138916016,
           25.399330139160156,
           31.46504020690918,
           69.14742279052734
          ],
          [
           -9.538952827453613,
           2.3131120204925537,
           7.128398895263672,
           15.111167907714844,
           -20.490772247314453,
           -31.103025436401367,
           -31.223705291748047,
           20.45887565612793,
           5.054661750793457,
           -26.817018508911133,
           -21.809532165527344,
           -17.8741397857666,
           -23.90024185180664,
           -0.7790701985359192,
           11.659547805786133,
           -9.198704719543457,
           1.3384450674057007,
           10.477569580078125,
           6.88648796081543,
           35.9817008972168,
           -12.669886589050293,
           11.550048828125,
           10.498114585876465,
           16.346773147583008,
           13.82178783416748,
           11.85662841796875,
           19.359216690063477,
           30.091230392456055,
           23.40361976623535,
           14.881369590759277,
           10.035707473754883,
           42.574623107910156,
           47.47098922729492,
           43.422950744628906,
           36.60954284667969,
           35.24075698852539,
           27.124114990234375,
           40.44122314453125,
           48.31694793701172,
           53.69590759277344,
           53.466487884521484
          ],
          [
           4.643617153167725,
           8.129220962524414,
           -1.2533810138702393,
           -31.73089027404785,
           -7.395971298217773,
           5.608179569244385,
           9.414621353149414,
           -12.813187599182129,
           -4.252689361572266,
           2.8210482597351074,
           -17.595718383789062,
           -2.0328433513641357,
           7.332454204559326,
           0.4466719627380371,
           10.843709945678711,
           -9.222755432128906,
           1.9255672693252563,
           11.600992202758789,
           4.178487777709961,
           -12.651588439941406,
           -15.650595664978027,
           11.613100051879883,
           10.863035202026367,
           10.426797866821289,
           9.210578918457031,
           11.288732528686523,
           11.311841011047363,
           14.334091186523438,
           15.347376823425293,
           15.987709999084473,
           18.24951171875,
           34.82948303222656,
           15.607352256774902,
           21.230674743652344,
           27.799619674682617,
           54.87263107299805,
           31.17817497253418,
           25.427921295166016,
           31.988004684448242,
           34.47068786621094,
           50.374935150146484
          ],
          [
           4.643617153167725,
           19.572032928466797,
           -20.672204971313477,
           -6.687153339385986,
           -8.488889694213867,
           -0.7940539121627808,
           6.347026824951172,
           -12.052648544311523,
           -10.596590042114258,
           -7.913829803466797,
           -23.501956939697266,
           -11.592310905456543,
           13.216012954711914,
           19.078248977661133,
           7.081058979034424,
           16.447904586791992,
           11.627123832702637,
           4.292444229125977,
           6.71177864074707,
           -3.8378121852874756,
           -12.665390968322754,
           11.47429370880127,
           8.92879867553711,
           12.806184768676758,
           16.638050079345703,
           18.868043899536133,
           18.263463973999023,
           18.401840209960938,
           29.24571418762207,
           29.25847625732422,
           27.252609252929688,
           14.937828063964844,
           15.889826774597168,
           48.26200866699219,
           58.81218338012695,
           44.046844482421875,
           34.517330169677734,
           30.777788162231445,
           41.448211669921875,
           45.53354263305664,
           54.9492301940918
          ],
          [
           3.079059362411499,
           7.227263450622559,
           6.797585487365723,
           7.990621089935303,
           25.524778366088867,
           -20.67445182800293,
           12.521678924560547,
           10.580202102661133,
           10.503372192382812,
           0.03937029838562012,
           -32.22542190551758,
           14.293478012084961,
           7.811053276062012,
           -15.132960319519043,
           -1.447874903678894,
           -16.835769653320312,
           17.04416847229004,
           23.05020523071289,
           -8.449289321899414,
           -13.721282005310059,
           -12.936257362365723,
           12.011129379272461,
           11.337281227111816,
           8.665786743164062,
           11.081038475036621,
           10.916275024414062,
           11.055377960205078,
           13.739640235900879,
           16.522811889648438,
           22.265140533447266,
           19.83460807800293,
           20.60122299194336,
           19.949798583984375,
           18.177583694458008,
           24.514265060424805,
           28.97857093811035,
           29.119306564331055,
           27.981204986572266,
           35.80454635620117,
           42.99470138549805,
           48.45072937011719
          ],
          [
           -8.158855438232422,
           60.58878707885742,
           2.0033552646636963,
           -64.35183715820312,
           -4.6027631759643555,
           7.087815284729004,
           -6.618539333343506,
           5.093837738037109,
           16.340885162353516,
           10.238903999328613,
           -4.494535446166992,
           -10.908763885498047,
           1.1105461120605469,
           -15.57732105255127,
           3.5583362579345703,
           20.363866806030273,
           -7.805149078369141,
           -11.004597663879395,
           19.033771514892578,
           9.150505065917969,
           -13.292264938354492,
           11.549240112304688,
           10.918924331665039,
           12.772655487060547,
           11.90170669555664,
           12.052982330322266,
           16.81730842590332,
           17.649866104125977,
           17.31340217590332,
           22.490726470947266,
           20.408353805541992,
           21.576589584350586,
           31.855283737182617,
           35.51719665527344,
           44.231197357177734,
           54.932498931884766,
           47.00300216674805,
           12.479094505310059,
           35.10325622558594,
           50.69412612915039,
           67.75328063964844
          ],
          [
           -8.262482643127441,
           22.439422607421875,
           -16.968334197998047,
           -5.407290458679199,
           8.139569282531738,
           1.3897426128387451,
           -7.129303932189941,
           7.693500995635986,
           -2.9260330200195312,
           -1.5068895816802979,
           2.1609232425689697,
           26.378931045532227,
           16.34724235534668,
           -36.931427001953125,
           17.31932258605957,
           18.145639419555664,
           33.08390808105469,
           5.849643707275391,
           12.744836807250977,
           -38.47089385986328,
           -14.699627876281738,
           9.843917846679688,
           16.35368537902832,
           14.349874496459961,
           10.083416938781738,
           36.01748275756836,
           39.57126998901367,
           24.87521743774414,
           17.76378631591797,
           14.680545806884766,
           25.042051315307617,
           28.598682403564453,
           32.797203063964844,
           36.58306121826172,
           51.4193115234375,
           51.11040496826172,
           25.414539337158203,
           17.4514102935791,
           28.062559127807617,
           37.533111572265625,
           55.08758544921875
          ],
          [
           -0.9154771566390991,
           -14.060572624206543,
           24.284624099731445,
           7.501416206359863,
           -18.029155731201172,
           13.596689224243164,
           7.2661519050598145,
           1.1370065212249756,
           -26.945188522338867,
           -25.901552200317383,
           -12.421736717224121,
           -3.250980854034424,
           6.401394367218018,
           -8.740827560424805,
           0.7643340826034546,
           -25.578699111938477,
           -15.943425178527832,
           -14.008927345275879,
           14.682781219482422,
           -21.909053802490234,
           -11.24683666229248,
           11.018135070800781,
           10.449746131896973,
           8.297100067138672,
           27.713266372680664,
           29.785932540893555,
           27.024934768676758,
           15.73134994506836,
           19.262985229492188,
           28.259523391723633,
           29.04619598388672,
           35.67786407470703,
           39.243736267089844,
           35.86536407470703,
           32.535804748535156,
           28.184730529785156,
           44.954627990722656,
           43.063106536865234,
           53.85213851928711,
           53.76374816894531,
           55.71499252319336
          ],
          [
           4.47523832321167,
           6.785341262817383,
           -5.508570671081543,
           42.588802337646484,
           -18.716093063354492,
           -0.3678755760192871,
           17.612682342529297,
           7.819272518157959,
           -2.931406259536743,
           -9.606739044189453,
           23.28998565673828,
           2.0286262035369873,
           24.12759780883789,
           -23.417314529418945,
           -5.1043620109558105,
           3.1944620609283447,
           -25.38526725769043,
           -29.399015426635742,
           12.568266868591309,
           5.9639363288879395,
           -12.795671463012695,
           10.97087574005127,
           9.111017227172852,
           15.126322746276855,
           16.204345703125,
           17.0802059173584,
           20.266891479492188,
           34.71376419067383,
           34.1983757019043,
           14.260882377624512,
           19.506332397460938,
           28.40735626220703,
           57.80495834350586,
           41.953025817871094,
           40.529296875,
           33.19339370727539,
           34.201171875,
           35.86638641357422,
           51.53339385986328,
           38.056610107421875,
           54.56456756591797
          ],
          [
           9.966645240783691,
           -12.768752098083496,
           -26.311094284057617,
           -2.7673845291137695,
           6.787782669067383,
           -1.3406078815460205,
           -10.460365295410156,
           17.199913024902344,
           -3.535627603530884,
           25.357540130615234,
           7.6393327713012695,
           -7.36061954498291,
           16.652252197265625,
           -1.7718071937561035,
           -2.847050666809082,
           22.79327392578125,
           -0.5773043632507324,
           6.777885913848877,
           7.623676776885986,
           -12.12048053741455,
           -14.29091739654541,
           11.330387115478516,
           9.717799186706543,
           10.998083114624023,
           10.952936172485352,
           19.900033950805664,
           26.897586822509766,
           36.89237976074219,
           20.180585861206055,
           34.07869338989258,
           43.326744079589844,
           51.02337646484375,
           59.76192092895508,
           48.61195755004883,
           46.861087799072266,
           46.82081604003906,
           33.223297119140625,
           34.76707458496094,
           38.10612869262695,
           48.236244201660156,
           60.80816650390625
          ],
          [
           0.570076048374176,
           -4.516404151916504,
           -6.754639625549316,
           -0.24649977684020996,
           -9.181867599487305,
           -4.3851094245910645,
           12.534964561462402,
           9.76101016998291,
           1.0995452404022217,
           11.921165466308594,
           1.4618903398513794,
           4.192523002624512,
           25.714570999145508,
           20.855154037475586,
           -5.098621368408203,
           2.252410888671875,
           5.139596939086914,
           5.261066436767578,
           -34.645721435546875,
           14.538824081420898,
           -12.65894889831543,
           11.663680076599121,
           10.790633201599121,
           10.806952476501465,
           11.715426445007324,
           13.522141456604004,
           12.516737937927246,
           16.22513198852539,
           17.367748260498047,
           34.70877456665039,
           27.96211051940918,
           21.1574649810791,
           15.824729919433594,
           10.302594184875488,
           34.00184631347656,
           45.32858657836914,
           55.810150146484375,
           24.641923904418945,
           27.34922981262207,
           28.237831115722656,
           56.69078063964844
          ],
          [
           -8.158855438232422,
           4.801461219787598,
           -18.42619514465332,
           -23.253080368041992,
           14.886499404907227,
           -21.956113815307617,
           -0.08188104629516602,
           -15.875746726989746,
           4.606932163238525,
           7.723065376281738,
           11.518630027770996,
           21.018779754638672,
           -23.55134391784668,
           -0.4852057099342346,
           -1.8076837062835693,
           13.21858024597168,
           8.46136474609375,
           -16.91020393371582,
           14.271376609802246,
           7.087146759033203,
           -10.160103797912598,
           11.536811828613281,
           9.01565170288086,
           15.072668075561523,
           16.535268783569336,
           20.54171371459961,
           18.362186431884766,
           20.277324676513672,
           24.814376831054688,
           25.820392608642578,
           24.37737464904785,
           26.288780212402344,
           43.29745101928711,
           47.61653518676758,
           34.97832107543945,
           33.12845993041992,
           27.867206573486328,
           25.117521286010742,
           23.925703048706055,
           42.01439666748047,
           56.570404052734375
          ],
          [
           -9.538952827453613,
           -30.875091552734375,
           -13.323019981384277,
           -6.599046230316162,
           0.5392426252365112,
           -5.678601264953613,
           -17.629608154296875,
           5.7330403327941895,
           21.00420570373535,
           26.368160247802734,
           -14.55887222290039,
           -17.18436050415039,
           -7.658695697784424,
           20.41921043395996,
           -16.672805786132812,
           9.914365768432617,
           23.8730411529541,
           21.99151611328125,
           -15.430511474609375,
           -18.1297550201416,
           -16.002145767211914,
           11.343515396118164,
           9.756119728088379,
           9.926531791687012,
           40.51849365234375,
           38.55929183959961,
           13.559606552124023,
           20.389802932739258,
           26.767044067382812,
           25.51741600036621,
           34.78466796875,
           57.483097076416016,
           34.4258918762207,
           44.98505783081055,
           47.89544677734375,
           39.888267517089844,
           31.927968978881836,
           38.97756576538086,
           45.478851318359375,
           57.79425048828125,
           62.35759353637695
          ],
          [
           2.641423463821411,
           5.23520040512085,
           -3.901136875152588,
           4.083228588104248,
           -6.4286723136901855,
           24.016971588134766,
           -19.0068359375,
           -3.1986327171325684,
           20.322078704833984,
           -42.44243240356445,
           -18.405216217041016,
           3.579461097717285,
           -4.186771869659424,
           4.353199481964111,
           5.529376029968262,
           10.187762260437012,
           9.697135925292969,
           -22.95357322692871,
           11.428309440612793,
           15.002147674560547,
           -21.367292404174805,
           10.455523490905762,
           12.423982620239258,
           14.294272422790527,
           13.545061111450195,
           14.049551010131836,
           14.992810249328613,
           21.88218879699707,
           35.849464416503906,
           34.92784118652344,
           41.110443115234375,
           15.086061477661133,
           20.762561798095703,
           30.988706588745117,
           29.977184295654297,
           26.650510787963867,
           24.176937103271484,
           29.934005737304688,
           29.354318618774414,
           42.256160736083984,
           50.85098648071289
          ],
          [
           6.032883644104004,
           -0.755477249622345,
           7.755931854248047,
           5.678880214691162,
           -18.63030433654785,
           12.919845581054688,
           -31.20671844482422,
           21.64389991760254,
           9.871613502502441,
           -1.8418245315551758,
           -28.571996688842773,
           28.946884155273438,
           -34.90570068359375,
           -0.880166232585907,
           -28.568241119384766,
           -8.018922805786133,
           -5.132349967956543,
           7.649548530578613,
           18.5941162109375,
           18.552974700927734,
           -17.940399169921875,
           10.927105903625488,
           10.730929374694824,
           8.995072364807129,
           14.084735870361328,
           20.612638473510742,
           31.937652587890625,
           23.33978843688965,
           21.81852912902832,
           31.197450637817383,
           27.153676986694336,
           28.28921127319336,
           47.104549407958984,
           59.421531677246094,
           41.225868225097656,
           38.2531623840332,
           37.54566192626953,
           41.71273422241211,
           50.27967071533203,
           51.59893035888672,
           44.64973831176758
          ],
          [
           -6.13934850692749,
           -3.367706775665283,
           4.702108383178711,
           -16.963655471801758,
           1.7770116329193115,
           1.2350311279296875,
           -6.878737449645996,
           -0.09755343198776245,
           -2.0062880516052246,
           -9.865948677062988,
           -9.613009452819824,
           -8.963199615478516,
           -6.791370391845703,
           -8.771398544311523,
           -26.209644317626953,
           -9.487285614013672,
           0.8667783737182617,
           19.084564208984375,
           9.413164138793945,
           5.358630180358887,
           -8.445841789245605,
           11.240426063537598,
           10.301115036010742,
           8.712143898010254,
           16.277971267700195,
           33.434410095214844,
           35.994136810302734,
           37.76173782348633,
           35.01720428466797,
           40.618465423583984,
           8.78458023071289,
           29.056163787841797,
           45.11457061767578,
           53.48542785644531,
           46.726158142089844,
           41.840087890625,
           34.00927734375,
           29.575590133666992,
           31.243608474731445,
           43.75680160522461,
           59.592323303222656
          ]
         ]
        }
       ],
       "layout": {
        "coloraxis": {
         "cmid": 0,
         "colorscale": [
          [
           0,
           "rgb(103,0,31)"
          ],
          [
           0.1,
           "rgb(178,24,43)"
          ],
          [
           0.2,
           "rgb(214,96,77)"
          ],
          [
           0.3,
           "rgb(244,165,130)"
          ],
          [
           0.4,
           "rgb(253,219,199)"
          ],
          [
           0.5,
           "rgb(247,247,247)"
          ],
          [
           0.6,
           "rgb(209,229,240)"
          ],
          [
           0.7,
           "rgb(146,197,222)"
          ],
          [
           0.8,
           "rgb(67,147,195)"
          ],
          [
           0.9,
           "rgb(33,102,172)"
          ],
          [
           1,
           "rgb(5,48,97)"
          ]
         ]
        },
        "margin": {
         "t": 60
        },
        "template": {
         "data": {
          "bar": [
           {
            "error_x": {
             "color": "#2a3f5f"
            },
            "error_y": {
             "color": "#2a3f5f"
            },
            "marker": {
             "line": {
              "color": "#E5ECF6",
              "width": 0.5
             },
             "pattern": {
              "fillmode": "overlay",
              "size": 10,
              "solidity": 0.2
             }
            },
            "type": "bar"
           }
          ],
          "barpolar": [
           {
            "marker": {
             "line": {
              "color": "#E5ECF6",
              "width": 0.5
             },
             "pattern": {
              "fillmode": "overlay",
              "size": 10,
              "solidity": 0.2
             }
            },
            "type": "barpolar"
           }
          ],
          "carpet": [
           {
            "aaxis": {
             "endlinecolor": "#2a3f5f",
             "gridcolor": "white",
             "linecolor": "white",
             "minorgridcolor": "white",
             "startlinecolor": "#2a3f5f"
            },
            "baxis": {
             "endlinecolor": "#2a3f5f",
             "gridcolor": "white",
             "linecolor": "white",
             "minorgridcolor": "white",
             "startlinecolor": "#2a3f5f"
            },
            "type": "carpet"
           }
          ],
          "choropleth": [
           {
            "colorbar": {
             "outlinewidth": 0,
             "ticks": ""
            },
            "type": "choropleth"
           }
          ],
          "contour": [
           {
            "colorbar": {
             "outlinewidth": 0,
             "ticks": ""
            },
            "colorscale": [
             [
              0,
              "#0d0887"
             ],
             [
              0.1111111111111111,
              "#46039f"
             ],
             [
              0.2222222222222222,
              "#7201a8"
             ],
             [
              0.3333333333333333,
              "#9c179e"
             ],
             [
              0.4444444444444444,
              "#bd3786"
             ],
             [
              0.5555555555555556,
              "#d8576b"
             ],
             [
              0.6666666666666666,
              "#ed7953"
             ],
             [
              0.7777777777777778,
              "#fb9f3a"
             ],
             [
              0.8888888888888888,
              "#fdca26"
             ],
             [
              1,
              "#f0f921"
             ]
            ],
            "type": "contour"
           }
          ],
          "contourcarpet": [
           {
            "colorbar": {
             "outlinewidth": 0,
             "ticks": ""
            },
            "type": "contourcarpet"
           }
          ],
          "heatmap": [
           {
            "colorbar": {
             "outlinewidth": 0,
             "ticks": ""
            },
            "colorscale": [
             [
              0,
              "#0d0887"
             ],
             [
              0.1111111111111111,
              "#46039f"
             ],
             [
              0.2222222222222222,
              "#7201a8"
             ],
             [
              0.3333333333333333,
              "#9c179e"
             ],
             [
              0.4444444444444444,
              "#bd3786"
             ],
             [
              0.5555555555555556,
              "#d8576b"
             ],
             [
              0.6666666666666666,
              "#ed7953"
             ],
             [
              0.7777777777777778,
              "#fb9f3a"
             ],
             [
              0.8888888888888888,
              "#fdca26"
             ],
             [
              1,
              "#f0f921"
             ]
            ],
            "type": "heatmap"
           }
          ],
          "heatmapgl": [
           {
            "colorbar": {
             "outlinewidth": 0,
             "ticks": ""
            },
            "colorscale": [
             [
              0,
              "#0d0887"
             ],
             [
              0.1111111111111111,
              "#46039f"
             ],
             [
              0.2222222222222222,
              "#7201a8"
             ],
             [
              0.3333333333333333,
              "#9c179e"
             ],
             [
              0.4444444444444444,
              "#bd3786"
             ],
             [
              0.5555555555555556,
              "#d8576b"
             ],
             [
              0.6666666666666666,
              "#ed7953"
             ],
             [
              0.7777777777777778,
              "#fb9f3a"
             ],
             [
              0.8888888888888888,
              "#fdca26"
             ],
             [
              1,
              "#f0f921"
             ]
            ],
            "type": "heatmapgl"
           }
          ],
          "histogram": [
           {
            "marker": {
             "pattern": {
              "fillmode": "overlay",
              "size": 10,
              "solidity": 0.2
             }
            },
            "type": "histogram"
           }
          ],
          "histogram2d": [
           {
            "colorbar": {
             "outlinewidth": 0,
             "ticks": ""
            },
            "colorscale": [
             [
              0,
              "#0d0887"
             ],
             [
              0.1111111111111111,
              "#46039f"
             ],
             [
              0.2222222222222222,
              "#7201a8"
             ],
             [
              0.3333333333333333,
              "#9c179e"
             ],
             [
              0.4444444444444444,
              "#bd3786"
             ],
             [
              0.5555555555555556,
              "#d8576b"
             ],
             [
              0.6666666666666666,
              "#ed7953"
             ],
             [
              0.7777777777777778,
              "#fb9f3a"
             ],
             [
              0.8888888888888888,
              "#fdca26"
             ],
             [
              1,
              "#f0f921"
             ]
            ],
            "type": "histogram2d"
           }
          ],
          "histogram2dcontour": [
           {
            "colorbar": {
             "outlinewidth": 0,
             "ticks": ""
            },
            "colorscale": [
             [
              0,
              "#0d0887"
             ],
             [
              0.1111111111111111,
              "#46039f"
             ],
             [
              0.2222222222222222,
              "#7201a8"
             ],
             [
              0.3333333333333333,
              "#9c179e"
             ],
             [
              0.4444444444444444,
              "#bd3786"
             ],
             [
              0.5555555555555556,
              "#d8576b"
             ],
             [
              0.6666666666666666,
              "#ed7953"
             ],
             [
              0.7777777777777778,
              "#fb9f3a"
             ],
             [
              0.8888888888888888,
              "#fdca26"
             ],
             [
              1,
              "#f0f921"
             ]
            ],
            "type": "histogram2dcontour"
           }
          ],
          "mesh3d": [
           {
            "colorbar": {
             "outlinewidth": 0,
             "ticks": ""
            },
            "type": "mesh3d"
           }
          ],
          "parcoords": [
           {
            "line": {
             "colorbar": {
              "outlinewidth": 0,
              "ticks": ""
             }
            },
            "type": "parcoords"
           }
          ],
          "pie": [
           {
            "automargin": true,
            "type": "pie"
           }
          ],
          "scatter": [
           {
            "fillpattern": {
             "fillmode": "overlay",
             "size": 10,
             "solidity": 0.2
            },
            "type": "scatter"
           }
          ],
          "scatter3d": [
           {
            "line": {
             "colorbar": {
              "outlinewidth": 0,
              "ticks": ""
             }
            },
            "marker": {
             "colorbar": {
              "outlinewidth": 0,
              "ticks": ""
             }
            },
            "type": "scatter3d"
           }
          ],
          "scattercarpet": [
           {
            "marker": {
             "colorbar": {
              "outlinewidth": 0,
              "ticks": ""
             }
            },
            "type": "scattercarpet"
           }
          ],
          "scattergeo": [
           {
            "marker": {
             "colorbar": {
              "outlinewidth": 0,
              "ticks": ""
             }
            },
            "type": "scattergeo"
           }
          ],
          "scattergl": [
           {
            "marker": {
             "colorbar": {
              "outlinewidth": 0,
              "ticks": ""
             }
            },
            "type": "scattergl"
           }
          ],
          "scattermapbox": [
           {
            "marker": {
             "colorbar": {
              "outlinewidth": 0,
              "ticks": ""
             }
            },
            "type": "scattermapbox"
           }
          ],
          "scatterpolar": [
           {
            "marker": {
             "colorbar": {
              "outlinewidth": 0,
              "ticks": ""
             }
            },
            "type": "scatterpolar"
           }
          ],
          "scatterpolargl": [
           {
            "marker": {
             "colorbar": {
              "outlinewidth": 0,
              "ticks": ""
             }
            },
            "type": "scatterpolargl"
           }
          ],
          "scatterternary": [
           {
            "marker": {
             "colorbar": {
              "outlinewidth": 0,
              "ticks": ""
             }
            },
            "type": "scatterternary"
           }
          ],
          "surface": [
           {
            "colorbar": {
             "outlinewidth": 0,
             "ticks": ""
            },
            "colorscale": [
             [
              0,
              "#0d0887"
             ],
             [
              0.1111111111111111,
              "#46039f"
             ],
             [
              0.2222222222222222,
              "#7201a8"
             ],
             [
              0.3333333333333333,
              "#9c179e"
             ],
             [
              0.4444444444444444,
              "#bd3786"
             ],
             [
              0.5555555555555556,
              "#d8576b"
             ],
             [
              0.6666666666666666,
              "#ed7953"
             ],
             [
              0.7777777777777778,
              "#fb9f3a"
             ],
             [
              0.8888888888888888,
              "#fdca26"
             ],
             [
              1,
              "#f0f921"
             ]
            ],
            "type": "surface"
           }
          ],
          "table": [
           {
            "cells": {
             "fill": {
              "color": "#EBF0F8"
             },
             "line": {
              "color": "white"
             }
            },
            "header": {
             "fill": {
              "color": "#C8D4E3"
             },
             "line": {
              "color": "white"
             }
            },
            "type": "table"
           }
          ]
         },
         "layout": {
          "annotationdefaults": {
           "arrowcolor": "#2a3f5f",
           "arrowhead": 0,
           "arrowwidth": 1
          },
          "autotypenumbers": "strict",
          "coloraxis": {
           "colorbar": {
            "outlinewidth": 0,
            "ticks": ""
           }
          },
          "colorscale": {
           "diverging": [
            [
             0,
             "#8e0152"
            ],
            [
             0.1,
             "#c51b7d"
            ],
            [
             0.2,
             "#de77ae"
            ],
            [
             0.3,
             "#f1b6da"
            ],
            [
             0.4,
             "#fde0ef"
            ],
            [
             0.5,
             "#f7f7f7"
            ],
            [
             0.6,
             "#e6f5d0"
            ],
            [
             0.7,
             "#b8e186"
            ],
            [
             0.8,
             "#7fbc41"
            ],
            [
             0.9,
             "#4d9221"
            ],
            [
             1,
             "#276419"
            ]
           ],
           "sequential": [
            [
             0,
             "#0d0887"
            ],
            [
             0.1111111111111111,
             "#46039f"
            ],
            [
             0.2222222222222222,
             "#7201a8"
            ],
            [
             0.3333333333333333,
             "#9c179e"
            ],
            [
             0.4444444444444444,
             "#bd3786"
            ],
            [
             0.5555555555555556,
             "#d8576b"
            ],
            [
             0.6666666666666666,
             "#ed7953"
            ],
            [
             0.7777777777777778,
             "#fb9f3a"
            ],
            [
             0.8888888888888888,
             "#fdca26"
            ],
            [
             1,
             "#f0f921"
            ]
           ],
           "sequentialminus": [
            [
             0,
             "#0d0887"
            ],
            [
             0.1111111111111111,
             "#46039f"
            ],
            [
             0.2222222222222222,
             "#7201a8"
            ],
            [
             0.3333333333333333,
             "#9c179e"
            ],
            [
             0.4444444444444444,
             "#bd3786"
            ],
            [
             0.5555555555555556,
             "#d8576b"
            ],
            [
             0.6666666666666666,
             "#ed7953"
            ],
            [
             0.7777777777777778,
             "#fb9f3a"
            ],
            [
             0.8888888888888888,
             "#fdca26"
            ],
            [
             1,
             "#f0f921"
            ]
           ]
          },
          "colorway": [
           "#636efa",
           "#EF553B",
           "#00cc96",
           "#ab63fa",
           "#FFA15A",
           "#19d3f3",
           "#FF6692",
           "#B6E880",
           "#FF97FF",
           "#FECB52"
          ],
          "font": {
           "color": "#2a3f5f"
          },
          "geo": {
           "bgcolor": "white",
           "lakecolor": "white",
           "landcolor": "#E5ECF6",
           "showlakes": true,
           "showland": true,
           "subunitcolor": "white"
          },
          "hoverlabel": {
           "align": "left"
          },
          "hovermode": "closest",
          "mapbox": {
           "style": "light"
          },
          "paper_bgcolor": "white",
          "plot_bgcolor": "#E5ECF6",
          "polar": {
           "angularaxis": {
            "gridcolor": "white",
            "linecolor": "white",
            "ticks": ""
           },
           "bgcolor": "#E5ECF6",
           "radialaxis": {
            "gridcolor": "white",
            "linecolor": "white",
            "ticks": ""
           }
          },
          "scene": {
           "xaxis": {
            "backgroundcolor": "#E5ECF6",
            "gridcolor": "white",
            "gridwidth": 2,
            "linecolor": "white",
            "showbackground": true,
            "ticks": "",
            "zerolinecolor": "white"
           },
           "yaxis": {
            "backgroundcolor": "#E5ECF6",
            "gridcolor": "white",
            "gridwidth": 2,
            "linecolor": "white",
            "showbackground": true,
            "ticks": "",
            "zerolinecolor": "white"
           },
           "zaxis": {
            "backgroundcolor": "#E5ECF6",
            "gridcolor": "white",
            "gridwidth": 2,
            "linecolor": "white",
            "showbackground": true,
            "ticks": "",
            "zerolinecolor": "white"
           }
          },
          "shapedefaults": {
           "line": {
            "color": "#2a3f5f"
           }
          },
          "ternary": {
           "aaxis": {
            "gridcolor": "white",
            "linecolor": "white",
            "ticks": ""
           },
           "baxis": {
            "gridcolor": "white",
            "linecolor": "white",
            "ticks": ""
           },
           "bgcolor": "#E5ECF6",
           "caxis": {
            "gridcolor": "white",
            "linecolor": "white",
            "ticks": ""
           }
          },
          "title": {
           "x": 0.05
          },
          "xaxis": {
           "automargin": true,
           "gridcolor": "white",
           "linecolor": "white",
           "ticks": "",
           "title": {
            "standoff": 15
           },
           "zerolinecolor": "white",
           "zerolinewidth": 2
          },
          "yaxis": {
           "automargin": true,
           "gridcolor": "white",
           "linecolor": "white",
           "ticks": "",
           "title": {
            "standoff": 15
           },
           "zerolinecolor": "white",
           "zerolinewidth": 2
          }
         }
        },
        "xaxis": {
         "anchor": "y",
         "constrain": "domain",
         "domain": [
          0,
          1
         ],
         "scaleanchor": "y"
        },
        "yaxis": {
         "anchor": "x",
         "autorange": "reversed",
         "constrain": "domain",
         "domain": [
          0,
          1
         ]
        }
       }
      }
     },
     "metadata": {},
     "output_type": "display_data"
    },
    {
     "data": {
      "application/vnd.plotly.v1+json": {
       "config": {
        "plotlyServerURL": "https://plot.ly"
       },
       "data": [
        {
         "coloraxis": "coloraxis",
         "hovertemplate": "x: %{x}<br>y: %{y}<br>color: %{z}<extra></extra>",
         "name": "0",
         "type": "heatmap",
         "xaxis": "x",
         "yaxis": "y",
         "z": [
          [
           -14.526585578918457,
           -23.26546287536621,
           -15.443977355957031,
           -0.027891116216778755,
           -18.31187629699707,
           -0.6717991232872009,
           -15.246549606323242,
           -43.58515930175781,
           -10.921910285949707,
           -5.499722003936768,
           -11.030116081237793,
           -25.601116180419922,
           -42.46873474121094,
           -27.628925323486328,
           -12.157400131225586,
           -40.80459976196289,
           -9.239794731140137,
           -10.349101066589355,
           -47.70258331298828,
           -10.925219535827637,
           -30.673988342285156,
           -3.5472586154937744,
           -0.5835891962051392,
           -2.7064716815948486,
           -1.2414687871932983,
           -1.2550747394561768,
           -1.1106722354888916,
           -0.13519689440727234,
           -0.1353939026594162,
           -2.1921534538269043,
           -0.10123778134584427,
           -0.19880789518356323,
           -0.29938679933547974,
           -1.267296314239502,
           -0.07943778485059738,
           -0.14164738357067108,
           -0.02250850200653076,
           -0.015656881034374237,
           -1.3532487154006958,
           -0.6488364934921265,
           -2.9802276912960224e-06
          ],
          [
           -21.312297821044922,
           -24.773086547851562,
           -6.3600311279296875,
           -22.30951499938965,
           -41.44681930541992,
           -59.45390319824219,
           -59.857933044433594,
           -8.539767265319824,
           -31.69794273376465,
           -61.170379638671875,
           -47.13364791870117,
           -37.477046966552734,
           -43.6007080078125,
           -17.730939865112305,
           -5.594311237335205,
           -25.11270523071289,
           -16.20221519470215,
           -4.189597129821777,
           -11.288252830505371,
           -0.007813958451151848,
           -46.475364685058594,
           -0.5899032950401306,
           -1.5612868070602417,
           -0.28366243839263916,
           -0.7309920787811279,
           -2.36611270904541,
           -0.26435962319374084,
           -0.21480216085910797,
           -0.00040904260822571814,
           -0.019302505999803543,
           -0.40573322772979736,
           -0.054551731795072556,
           -0.17931728065013885,
           -0.039516936987638474,
           -0.013063442893326283,
           -0.2963936924934387,
           -1.8488719463348389,
           -0.9681404829025269,
           -0.5443665981292725,
           -0.7434390783309937,
           -0.09131435304880142
          ],
          [
           -7.129727363586426,
           -18.93198585510254,
           -13.253030776977539,
           -71.5434341430664,
           -34.9234619140625,
           -7.667151927947998,
           -1.8338220119476318,
           -25.97336196899414,
           -32.754337310791016,
           -9.273512840270996,
           -43.633514404296875,
           -25.431598663330078,
           -5.307779312133789,
           -24.76727294921875,
           -12.310080528259277,
           -22.120351791381836,
           -18.701265335083008,
           -18.266277313232422,
           -31.606040954589844,
           -25.474529266357422,
           -36.31676483154297,
           -0.40602585673332214,
           -0.8484777212142944,
           -1.1632025241851807,
           -1.9375,
           -1.4507837295532227,
           -0.8753987550735474,
           -1.3241568803787231,
           -1.8208398818969727,
           -1.051831841468811,
           -0.21378152072429657,
           -0.0878002792596817,
           -0.08813292533159256,
           -0.04766971990466118,
           -0.09673882275819778,
           -0.06794910132884979,
           -0.113768070936203,
           -1.3143504858016968,
           -1.0496525764465332,
           -1.4060612916946411,
           -1.9073468138230965e-06
          ],
          [
           -7.129727363586426,
           -7.489173889160156,
           -48.880924224853516,
           -24.816911697387695,
           -23.622453689575195,
           -27.041357040405273,
           -12.543234825134277,
           -47.733184814453125,
           -41.91999816894531,
           -26.4241943359375,
           -36.577274322509766,
           -29.496007919311523,
           -6.521409034729004,
           -0.43123993277549744,
           -25.28614044189453,
           -5.376666069030762,
           -3.0145578384399414,
           -21.21270179748535,
           -5.612358570098877,
           -22.383821487426758,
           -43.33222961425781,
           -0.5084198117256165,
           -2.8096611499786377,
           -1.6366722583770752,
           -0.6449059247970581,
           -0.5771576762199402,
           -0.6371868848800659,
           -0.7282113432884216,
           -0.037510164082050323,
           -0.06864497065544128,
           -1.7121165990829468,
           -0.10456974804401398,
           -0.14096935093402863,
           -0.025671254843473434,
           -0.029575208202004433,
           -0.047158002853393555,
           -0.6608611941337585,
           -1.7359981536865234,
           -1.1369836330413818,
           -0.9562345147132874,
           -0.00012110930401831865
          ],
          [
           -8.69428539276123,
           -4.384859085083008,
           -20.922988891601562,
           -3.1762311458587646,
           -2.7313790321350098,
           -47.732269287109375,
           -7.596306800842285,
           -2.432708501815796,
           -19.340192794799805,
           -12.87161636352539,
           -71.85762786865234,
           -10.142983436584473,
           -17.86138916015625,
           -40.144004821777344,
           -21.344499588012695,
           -30.94803810119629,
           -5.123709201812744,
           -8.826409339904785,
           -34.85676193237305,
           -26.940706253051758,
           -33.931663513183594,
           -0.329490065574646,
           -0.6245744824409485,
           -3.089437246322632,
           -0.8461108207702637,
           -1.268946647644043,
           -1.416637897491455,
           -3.822357177734375,
           -0.20690767467021942,
           -0.37379878759384155,
           -0.11722762882709503,
           -0.28219762444496155,
           -0.29478105902671814,
           -1.2107419967651367,
           -0.11826124042272568,
           -0.09477773308753967,
           -0.0052160839550197124,
           -0.6912698745727539,
           -0.9453652501106262,
           -0.9602047204971313,
           -1.476222276687622
          ],
          [
           -19.932201385498047,
           -12.758796691894531,
           -67.99578094482422,
           -117.7828369140625,
           -39.035648345947266,
           -22.935928344726562,
           -22.659719467163086,
           -7.73579740524292,
           -1.1030724048614502,
           -6.675099849700928,
           -32.77135467529297,
           -32.15052795410156,
           -14.594727516174316,
           -46.61408996582031,
           -9.032790184020996,
           -8.024598121643066,
           -33.64756774902344,
           -24.385465621948242,
           -13.40969467163086,
           -15.3849458694458,
           -41.7226676940918,
           -0.5344231128692627,
           -1.065870761871338,
           -1.4324753284454346,
           -1.3275898694992065,
           -2.7395169734954834,
           -0.885969877243042,
           -0.4857572317123413,
           -0.7488822937011719,
           -0.03393792733550072,
           -0.9741873741149902,
           -0.032172635197639465,
           -0.5679429769515991,
           -0.10688846558332443,
           -0.10871317237615585,
           -0.020204683765769005,
           -0.07279743254184723,
           -5.892701625823975,
           -0.46457377076148987,
           -0.00012599628826137632,
           -5.125986263010418e-06
          ],
          [
           -20.03582763671875,
           -10.233247756958008,
           -44.88128662109375,
           -27.376127243041992,
           -8.960740089416504,
           -27.92531394958496,
           -32.42744827270508,
           -2.309135675430298,
           -14.704812049865723,
           -22.342954635620117,
           -10.241811752319336,
           -0.45329034328460693,
           -21.361080169677734,
           -74.5490493774414,
           -5.775147914886475,
           -11.289153099060059,
           -8.005579948425293,
           -21.396961212158203,
           -16.015710830688477,
           -71.74658203125,
           -37.63860321044922,
           -2.023322105407715,
           -0.4269552528858185,
           -0.7947341799736023,
           -4.300910472869873,
           -0.5796487331390381,
           -0.03706846758723259,
           -0.8003911375999451,
           -0.4873057007789612,
           -0.3606795370578766,
           -0.2505645155906677,
           -0.033832598477602005,
           -0.2566588521003723,
           -0.14622505009174347,
           -0.03259492293000221,
           -0.10861296951770782,
           -0.09196501970291138,
           -1.2387419939041138,
           -0.01773499697446823,
           -0.012569139711558819,
           -0.002538674511015415
          ],
          [
           -12.688821792602539,
           -25.533708572387695,
           -1.5498974323272705,
           -7.012440204620361,
           -45.557865142822266,
           -10.038145065307617,
           -11.90269947052002,
           -25.775564193725586,
           -50.300262451171875,
           -50.013099670410156,
           -33.8063850402832,
           -20.920190811157227,
           -5.943907737731934,
           -25.61904525756836,
           -11.35867977142334,
           -58.89949417114258,
           -36.80733871459961,
           -34.0526123046875,
           -3.4237136840820312,
           -44.33989715576172,
           -30.55181121826172,
           -0.7342581748962402,
           -1.12229323387146,
           -3.9674441814422607,
           -0.09969721734523773,
           -0.030368607491254807,
           -2.870023488998413,
           -0.1543889045715332,
           -0.27964213490486145,
           -0.3178998529911041,
           -0.03543642535805702,
           -1.3659495115280151,
           -0.06934192031621933,
           -0.0035930618178099394,
           -0.20179404318332672,
           -4.057456016540527,
           -0.6480783224105835,
           -0.5956026315689087,
           -0.033887915313243866,
           -0.008674322627484798,
           -0.00016592556494288146
          ],
          [
           -7.2981061935424805,
           -5.111448764801025,
           -17.585634231567383,
           -11.137886047363281,
           -32.38446044921875,
           -39.730525970458984,
           -12.761542320251465,
           -18.217233657836914,
           -14.672560691833496,
           -42.194000244140625,
           -4.217745780944824,
           -31.341739654541016,
           -0.09615698456764221,
           -45.24501419067383,
           -33.48789596557617,
           -8.836004257202148,
           -51.554325103759766,
           -57.24946212768555,
           -14.980010986328125,
           -10.208524703979492,
           -35.16022872924805,
           -0.6533313393592834,
           -2.409012794494629,
           -1.3434019088745117,
           -1.6754310131072998,
           -1.1690394878387451,
           -0.23028968274593353,
           -0.403155654668808,
           -0.6780741810798645,
           -0.13710375130176544,
           -0.10182312875986099,
           -0.05160267651081085,
           -0.022930577397346497,
           -0.13233524560928345,
           -0.32612696290016174,
           -0.7766127586364746,
           -1.0046027898788452,
           -0.8920770883560181,
           -0.04850170388817787,
           -0.00032217081752605736,
           -0.019208256155252457
          ],
          [
           -1.8066997528076172,
           -26.452932357788086,
           -46.74163055419922,
           -23.601154327392578,
           -24.647605895996094,
           -12.333348274230957,
           -37.968196868896484,
           -2.767592430114746,
           -48.570884704589844,
           -6.020401477813721,
           -21.188934326171875,
           -32.88285446166992,
           -8.182382583618164,
           -19.323991775512695,
           -13.218608856201172,
           -5.919689655303955,
           -21.933387756347656,
           -5.215404987335205,
           -19.67938995361328,
           -41.092342376708984,
           -37.215057373046875,
           -0.5435880422592163,
           -1.916906714439392,
           -2.0387234687805176,
           -1.8573827743530273,
           -0.5783994197845459,
           -0.45451003313064575,
           -0.3745548725128174,
           -0.31913700699806213,
           -0.055645622313022614,
           -0.005120377987623215,
           -1.0006396770477295,
           -0.015844516456127167,
           -0.12129823863506317,
           -0.2315375655889511,
           -0.36382442712783813,
           -0.8266198635101318,
           -0.8350063562393188,
           -0.7739847302436829,
           -0.08955918997526169,
           -0.0005224770284257829
          ],
          [
           -11.203269004821777,
           -16.81256675720215,
           -38.16427993774414,
           -43.15988540649414,
           -38.84757995605469,
           -27.589431762695312,
           -0.35215455293655396,
           -2.3156278133392334,
           -9.884122848510742,
           -8.425483703613281,
           -35.58555603027344,
           -9.453741073608398,
           -6.942285537719727,
           -17.27572250366211,
           -35.804691314697266,
           -24.87285041809082,
           -12.231938362121582,
           -7.760097503662109,
           -72.67254638671875,
           -9.59242057800293,
           -35.34390640258789,
           -0.45172834396362305,
           -1.0667166709899902,
           -0.9662797451019287,
           -0.993841826915741,
           -0.7915903925895691,
           -1.6177335977554321,
           -2.3756399154663086,
           -0.721302330493927,
           -0.18670493364334106,
           -0.3155768811702728,
           -0.5320025682449341,
           -0.4509205222129822,
           -0.7488048672676086,
           -0.07806327193975449,
           -0.030964918434619904,
           -0.028506401926279068,
           -0.015316133387386799,
           -0.9345331192016602,
           -0.016280675306916237,
           -0.0003159739135298878
          ],
          [
           -19.932201385498047,
           -68.5461196899414,
           -38.89146423339844,
           -59.28753662109375,
           -1.9024323225021362,
           -47.73838424682617,
           -22.069042205810547,
           -25.93609046936035,
           -18.189664840698242,
           -7.480888843536377,
           -9.168539047241211,
           -11.48990535736084,
           -49.72931671142578,
           -24.584949493408203,
           -14.043280601501465,
           -15.393601417541504,
           -18.58026123046875,
           -30.374126434326172,
           -7.323400497436523,
           -9.183699607849121,
           -32.00618362426758,
           -0.464508056640625,
           -2.6154677867889404,
           -1.2368886470794678,
           -0.846726655960083,
           -0.3854478597640991,
           -1.7326414585113525,
           -0.31316158175468445,
           -0.07369682192802429,
           -0.5419487357139587,
           -1.079282283782959,
           -0.020431999117136,
           -0.003914314787834883,
           -0.03108464553952217,
           -0.004946020431816578,
           -0.34112611413002014,
           -0.8480764627456665,
           -1.2005512714385986,
           -1.872187614440918,
           -0.18911534547805786,
           -0.0005082983989268541
          ],
          [
           -21.312297821044922,
           -57.9612922668457,
           -27.61684226989746,
           -21.399024963378906,
           -18.25397300720215,
           -21.113073348999023,
           -29.490755081176758,
           -11.507180213928223,
           -16.59867286682129,
           -15.276062965393066,
           -56.499935150146484,
           -48.99164581298828,
           -20.458362579345703,
           -1.4823652505874634,
           -49.422279357910156,
           -12.232141494750977,
           -0.11924532800912857,
           -10.144402503967285,
           -43.49318313598633,
           -40.361473083496094,
           -41.45738983154297,
           -0.5633598566055298,
           -1.9749162197113037,
           -3.1392202377319336,
           -0.2619021534919739,
           -0.04304684326052666,
           -0.36008819937705994,
           -0.20045657455921173,
           -0.13011127710342407,
           -0.3960791528224945,
           -0.07074190676212311,
           -0.013616066426038742,
           -0.03444412350654602,
           -0.004628065042197704,
           -0.4436842203140259,
           -0.451515257358551,
           -0.9471739530563354,
           -0.722970724105835,
           -0.8650325536727905,
           -0.6054744124412537,
           -0.00715574249625206
          ],
          [
           -9.13192081451416,
           -35.822418212890625,
           -17.69462013244629,
           -6.041129112243652,
           -18.58714485168457,
           -20.347192764282227,
           -43.627891540527344,
           -18.28820037841797,
           -1.8708605766296387,
           -82.55313110351562,
           -47.662628173828125,
           -21.99020004272461,
           -16.125226974487305,
           -13.467780113220215,
           -11.039560317993164,
           -1.6394319534301758,
           -3.255467414855957,
           -41.88579559326172,
           -7.703694820404053,
           -19.404186248779297,
           -59.438011169433594,
           -1.4525294303894043,
           -0.9210743308067322,
           -0.9801416993141174,
           -0.8120405077934265,
           -0.6183554530143738,
           -1.5541883707046509,
           -0.2164120376110077,
           -0.6508452892303467,
           -1.1481448411941528,
           -0.0032266718335449696,
           -0.13594326376914978,
           -0.12766771018505096,
           -0.0009220162755809724,
           -0.0008837846689857543,
           -0.27020734548568726,
           -1.241868257522583,
           -0.8864717483520508,
           -1.9491074085235596,
           -1.9178498983383179,
           -7.748573807475623e-06
          ],
          [
           -5.7404608726501465,
           -12.43610668182373,
           -2.45182466506958,
           -7.579545974731445,
           -46.41944122314453,
           -4.747028350830078,
           -71.34727478027344,
           -7.693750858306885,
           -15.021568298339844,
           -23.120586395263672,
           -53.48806381225586,
           -0.1887899935245514,
           -74.83314514160156,
           -28.706581115722656,
           -54.65452575683594,
           -37.55183792114258,
           -17.25676155090332,
           -24.040782928466797,
           -4.427022457122803,
           -11.457931518554688,
           -51.1794319152832,
           -0.6869389414787292,
           -0.8848134875297546,
           -2.5215673446655273,
           -1.4319701194763184,
           -0.3429112136363983,
           -0.5656803250312805,
           -0.07162738591432571,
           -0.18888503313064575,
           -0.053543880581855774,
           -0.08799079805612564,
           -0.054312851279973984,
           -0.08111780136823654,
           -0.01878518983721733,
           -1.9736393690109253,
           -1.0205316543579102,
           -0.7668435573577881,
           -0.40185242891311646,
           -0.04451660066843033,
           -0.02132592350244522,
           -0.000966915744356811
          ],
          [
           -17.91269302368164,
           -25.981332778930664,
           -12.583701133728027,
           -41.21807861328125,
           -11.73383903503418,
           -7.028020858764648,
           -21.03464126586914,
           -13.041126251220703,
           -16.871749877929688,
           -23.29604721069336,
           -25.89779281616211,
           -27.351612091064453,
           -23.17562484741211,
           -28.78871726989746,
           -60.29328155517578,
           -24.433452606201172,
           -13.63835620880127,
           -22.69670295715332,
           -25.044361114501953,
           -11.092970848083496,
           -28.481578826904297,
           -0.6606049537658691,
           -1.2800793647766113,
           -2.8109192848205566,
           -1.229236125946045,
           -2.5488998889923096,
           -0.10634241253137589,
           -0.09294793754816055,
           -2.554779291152954,
           -0.0053903949446976185,
           -0.7980299592018127,
           -0.041562002152204514,
           -0.47791969776153564,
           -0.3997310996055603,
           -0.03469563275575638,
           -0.5602858662605286,
           -0.11990144103765488,
           -0.13268806040287018,
           -1.2961270809173584,
           -2.073882818222046,
           -0.010290777310729027
          ]
         ]
        }
       ],
       "layout": {
        "coloraxis": {
         "cmid": 0,
         "colorscale": [
          [
           0,
           "rgb(103,0,31)"
          ],
          [
           0.1,
           "rgb(178,24,43)"
          ],
          [
           0.2,
           "rgb(214,96,77)"
          ],
          [
           0.3,
           "rgb(244,165,130)"
          ],
          [
           0.4,
           "rgb(253,219,199)"
          ],
          [
           0.5,
           "rgb(247,247,247)"
          ],
          [
           0.6,
           "rgb(209,229,240)"
          ],
          [
           0.7,
           "rgb(146,197,222)"
          ],
          [
           0.8,
           "rgb(67,147,195)"
          ],
          [
           0.9,
           "rgb(33,102,172)"
          ],
          [
           1,
           "rgb(5,48,97)"
          ]
         ]
        },
        "margin": {
         "t": 60
        },
        "template": {
         "data": {
          "bar": [
           {
            "error_x": {
             "color": "#2a3f5f"
            },
            "error_y": {
             "color": "#2a3f5f"
            },
            "marker": {
             "line": {
              "color": "#E5ECF6",
              "width": 0.5
             },
             "pattern": {
              "fillmode": "overlay",
              "size": 10,
              "solidity": 0.2
             }
            },
            "type": "bar"
           }
          ],
          "barpolar": [
           {
            "marker": {
             "line": {
              "color": "#E5ECF6",
              "width": 0.5
             },
             "pattern": {
              "fillmode": "overlay",
              "size": 10,
              "solidity": 0.2
             }
            },
            "type": "barpolar"
           }
          ],
          "carpet": [
           {
            "aaxis": {
             "endlinecolor": "#2a3f5f",
             "gridcolor": "white",
             "linecolor": "white",
             "minorgridcolor": "white",
             "startlinecolor": "#2a3f5f"
            },
            "baxis": {
             "endlinecolor": "#2a3f5f",
             "gridcolor": "white",
             "linecolor": "white",
             "minorgridcolor": "white",
             "startlinecolor": "#2a3f5f"
            },
            "type": "carpet"
           }
          ],
          "choropleth": [
           {
            "colorbar": {
             "outlinewidth": 0,
             "ticks": ""
            },
            "type": "choropleth"
           }
          ],
          "contour": [
           {
            "colorbar": {
             "outlinewidth": 0,
             "ticks": ""
            },
            "colorscale": [
             [
              0,
              "#0d0887"
             ],
             [
              0.1111111111111111,
              "#46039f"
             ],
             [
              0.2222222222222222,
              "#7201a8"
             ],
             [
              0.3333333333333333,
              "#9c179e"
             ],
             [
              0.4444444444444444,
              "#bd3786"
             ],
             [
              0.5555555555555556,
              "#d8576b"
             ],
             [
              0.6666666666666666,
              "#ed7953"
             ],
             [
              0.7777777777777778,
              "#fb9f3a"
             ],
             [
              0.8888888888888888,
              "#fdca26"
             ],
             [
              1,
              "#f0f921"
             ]
            ],
            "type": "contour"
           }
          ],
          "contourcarpet": [
           {
            "colorbar": {
             "outlinewidth": 0,
             "ticks": ""
            },
            "type": "contourcarpet"
           }
          ],
          "heatmap": [
           {
            "colorbar": {
             "outlinewidth": 0,
             "ticks": ""
            },
            "colorscale": [
             [
              0,
              "#0d0887"
             ],
             [
              0.1111111111111111,
              "#46039f"
             ],
             [
              0.2222222222222222,
              "#7201a8"
             ],
             [
              0.3333333333333333,
              "#9c179e"
             ],
             [
              0.4444444444444444,
              "#bd3786"
             ],
             [
              0.5555555555555556,
              "#d8576b"
             ],
             [
              0.6666666666666666,
              "#ed7953"
             ],
             [
              0.7777777777777778,
              "#fb9f3a"
             ],
             [
              0.8888888888888888,
              "#fdca26"
             ],
             [
              1,
              "#f0f921"
             ]
            ],
            "type": "heatmap"
           }
          ],
          "heatmapgl": [
           {
            "colorbar": {
             "outlinewidth": 0,
             "ticks": ""
            },
            "colorscale": [
             [
              0,
              "#0d0887"
             ],
             [
              0.1111111111111111,
              "#46039f"
             ],
             [
              0.2222222222222222,
              "#7201a8"
             ],
             [
              0.3333333333333333,
              "#9c179e"
             ],
             [
              0.4444444444444444,
              "#bd3786"
             ],
             [
              0.5555555555555556,
              "#d8576b"
             ],
             [
              0.6666666666666666,
              "#ed7953"
             ],
             [
              0.7777777777777778,
              "#fb9f3a"
             ],
             [
              0.8888888888888888,
              "#fdca26"
             ],
             [
              1,
              "#f0f921"
             ]
            ],
            "type": "heatmapgl"
           }
          ],
          "histogram": [
           {
            "marker": {
             "pattern": {
              "fillmode": "overlay",
              "size": 10,
              "solidity": 0.2
             }
            },
            "type": "histogram"
           }
          ],
          "histogram2d": [
           {
            "colorbar": {
             "outlinewidth": 0,
             "ticks": ""
            },
            "colorscale": [
             [
              0,
              "#0d0887"
             ],
             [
              0.1111111111111111,
              "#46039f"
             ],
             [
              0.2222222222222222,
              "#7201a8"
             ],
             [
              0.3333333333333333,
              "#9c179e"
             ],
             [
              0.4444444444444444,
              "#bd3786"
             ],
             [
              0.5555555555555556,
              "#d8576b"
             ],
             [
              0.6666666666666666,
              "#ed7953"
             ],
             [
              0.7777777777777778,
              "#fb9f3a"
             ],
             [
              0.8888888888888888,
              "#fdca26"
             ],
             [
              1,
              "#f0f921"
             ]
            ],
            "type": "histogram2d"
           }
          ],
          "histogram2dcontour": [
           {
            "colorbar": {
             "outlinewidth": 0,
             "ticks": ""
            },
            "colorscale": [
             [
              0,
              "#0d0887"
             ],
             [
              0.1111111111111111,
              "#46039f"
             ],
             [
              0.2222222222222222,
              "#7201a8"
             ],
             [
              0.3333333333333333,
              "#9c179e"
             ],
             [
              0.4444444444444444,
              "#bd3786"
             ],
             [
              0.5555555555555556,
              "#d8576b"
             ],
             [
              0.6666666666666666,
              "#ed7953"
             ],
             [
              0.7777777777777778,
              "#fb9f3a"
             ],
             [
              0.8888888888888888,
              "#fdca26"
             ],
             [
              1,
              "#f0f921"
             ]
            ],
            "type": "histogram2dcontour"
           }
          ],
          "mesh3d": [
           {
            "colorbar": {
             "outlinewidth": 0,
             "ticks": ""
            },
            "type": "mesh3d"
           }
          ],
          "parcoords": [
           {
            "line": {
             "colorbar": {
              "outlinewidth": 0,
              "ticks": ""
             }
            },
            "type": "parcoords"
           }
          ],
          "pie": [
           {
            "automargin": true,
            "type": "pie"
           }
          ],
          "scatter": [
           {
            "fillpattern": {
             "fillmode": "overlay",
             "size": 10,
             "solidity": 0.2
            },
            "type": "scatter"
           }
          ],
          "scatter3d": [
           {
            "line": {
             "colorbar": {
              "outlinewidth": 0,
              "ticks": ""
             }
            },
            "marker": {
             "colorbar": {
              "outlinewidth": 0,
              "ticks": ""
             }
            },
            "type": "scatter3d"
           }
          ],
          "scattercarpet": [
           {
            "marker": {
             "colorbar": {
              "outlinewidth": 0,
              "ticks": ""
             }
            },
            "type": "scattercarpet"
           }
          ],
          "scattergeo": [
           {
            "marker": {
             "colorbar": {
              "outlinewidth": 0,
              "ticks": ""
             }
            },
            "type": "scattergeo"
           }
          ],
          "scattergl": [
           {
            "marker": {
             "colorbar": {
              "outlinewidth": 0,
              "ticks": ""
             }
            },
            "type": "scattergl"
           }
          ],
          "scattermapbox": [
           {
            "marker": {
             "colorbar": {
              "outlinewidth": 0,
              "ticks": ""
             }
            },
            "type": "scattermapbox"
           }
          ],
          "scatterpolar": [
           {
            "marker": {
             "colorbar": {
              "outlinewidth": 0,
              "ticks": ""
             }
            },
            "type": "scatterpolar"
           }
          ],
          "scatterpolargl": [
           {
            "marker": {
             "colorbar": {
              "outlinewidth": 0,
              "ticks": ""
             }
            },
            "type": "scatterpolargl"
           }
          ],
          "scatterternary": [
           {
            "marker": {
             "colorbar": {
              "outlinewidth": 0,
              "ticks": ""
             }
            },
            "type": "scatterternary"
           }
          ],
          "surface": [
           {
            "colorbar": {
             "outlinewidth": 0,
             "ticks": ""
            },
            "colorscale": [
             [
              0,
              "#0d0887"
             ],
             [
              0.1111111111111111,
              "#46039f"
             ],
             [
              0.2222222222222222,
              "#7201a8"
             ],
             [
              0.3333333333333333,
              "#9c179e"
             ],
             [
              0.4444444444444444,
              "#bd3786"
             ],
             [
              0.5555555555555556,
              "#d8576b"
             ],
             [
              0.6666666666666666,
              "#ed7953"
             ],
             [
              0.7777777777777778,
              "#fb9f3a"
             ],
             [
              0.8888888888888888,
              "#fdca26"
             ],
             [
              1,
              "#f0f921"
             ]
            ],
            "type": "surface"
           }
          ],
          "table": [
           {
            "cells": {
             "fill": {
              "color": "#EBF0F8"
             },
             "line": {
              "color": "white"
             }
            },
            "header": {
             "fill": {
              "color": "#C8D4E3"
             },
             "line": {
              "color": "white"
             }
            },
            "type": "table"
           }
          ]
         },
         "layout": {
          "annotationdefaults": {
           "arrowcolor": "#2a3f5f",
           "arrowhead": 0,
           "arrowwidth": 1
          },
          "autotypenumbers": "strict",
          "coloraxis": {
           "colorbar": {
            "outlinewidth": 0,
            "ticks": ""
           }
          },
          "colorscale": {
           "diverging": [
            [
             0,
             "#8e0152"
            ],
            [
             0.1,
             "#c51b7d"
            ],
            [
             0.2,
             "#de77ae"
            ],
            [
             0.3,
             "#f1b6da"
            ],
            [
             0.4,
             "#fde0ef"
            ],
            [
             0.5,
             "#f7f7f7"
            ],
            [
             0.6,
             "#e6f5d0"
            ],
            [
             0.7,
             "#b8e186"
            ],
            [
             0.8,
             "#7fbc41"
            ],
            [
             0.9,
             "#4d9221"
            ],
            [
             1,
             "#276419"
            ]
           ],
           "sequential": [
            [
             0,
             "#0d0887"
            ],
            [
             0.1111111111111111,
             "#46039f"
            ],
            [
             0.2222222222222222,
             "#7201a8"
            ],
            [
             0.3333333333333333,
             "#9c179e"
            ],
            [
             0.4444444444444444,
             "#bd3786"
            ],
            [
             0.5555555555555556,
             "#d8576b"
            ],
            [
             0.6666666666666666,
             "#ed7953"
            ],
            [
             0.7777777777777778,
             "#fb9f3a"
            ],
            [
             0.8888888888888888,
             "#fdca26"
            ],
            [
             1,
             "#f0f921"
            ]
           ],
           "sequentialminus": [
            [
             0,
             "#0d0887"
            ],
            [
             0.1111111111111111,
             "#46039f"
            ],
            [
             0.2222222222222222,
             "#7201a8"
            ],
            [
             0.3333333333333333,
             "#9c179e"
            ],
            [
             0.4444444444444444,
             "#bd3786"
            ],
            [
             0.5555555555555556,
             "#d8576b"
            ],
            [
             0.6666666666666666,
             "#ed7953"
            ],
            [
             0.7777777777777778,
             "#fb9f3a"
            ],
            [
             0.8888888888888888,
             "#fdca26"
            ],
            [
             1,
             "#f0f921"
            ]
           ]
          },
          "colorway": [
           "#636efa",
           "#EF553B",
           "#00cc96",
           "#ab63fa",
           "#FFA15A",
           "#19d3f3",
           "#FF6692",
           "#B6E880",
           "#FF97FF",
           "#FECB52"
          ],
          "font": {
           "color": "#2a3f5f"
          },
          "geo": {
           "bgcolor": "white",
           "lakecolor": "white",
           "landcolor": "#E5ECF6",
           "showlakes": true,
           "showland": true,
           "subunitcolor": "white"
          },
          "hoverlabel": {
           "align": "left"
          },
          "hovermode": "closest",
          "mapbox": {
           "style": "light"
          },
          "paper_bgcolor": "white",
          "plot_bgcolor": "#E5ECF6",
          "polar": {
           "angularaxis": {
            "gridcolor": "white",
            "linecolor": "white",
            "ticks": ""
           },
           "bgcolor": "#E5ECF6",
           "radialaxis": {
            "gridcolor": "white",
            "linecolor": "white",
            "ticks": ""
           }
          },
          "scene": {
           "xaxis": {
            "backgroundcolor": "#E5ECF6",
            "gridcolor": "white",
            "gridwidth": 2,
            "linecolor": "white",
            "showbackground": true,
            "ticks": "",
            "zerolinecolor": "white"
           },
           "yaxis": {
            "backgroundcolor": "#E5ECF6",
            "gridcolor": "white",
            "gridwidth": 2,
            "linecolor": "white",
            "showbackground": true,
            "ticks": "",
            "zerolinecolor": "white"
           },
           "zaxis": {
            "backgroundcolor": "#E5ECF6",
            "gridcolor": "white",
            "gridwidth": 2,
            "linecolor": "white",
            "showbackground": true,
            "ticks": "",
            "zerolinecolor": "white"
           }
          },
          "shapedefaults": {
           "line": {
            "color": "#2a3f5f"
           }
          },
          "ternary": {
           "aaxis": {
            "gridcolor": "white",
            "linecolor": "white",
            "ticks": ""
           },
           "baxis": {
            "gridcolor": "white",
            "linecolor": "white",
            "ticks": ""
           },
           "bgcolor": "#E5ECF6",
           "caxis": {
            "gridcolor": "white",
            "linecolor": "white",
            "ticks": ""
           }
          },
          "title": {
           "x": 0.05
          },
          "xaxis": {
           "automargin": true,
           "gridcolor": "white",
           "linecolor": "white",
           "ticks": "",
           "title": {
            "standoff": 15
           },
           "zerolinecolor": "white",
           "zerolinewidth": 2
          },
          "yaxis": {
           "automargin": true,
           "gridcolor": "white",
           "linecolor": "white",
           "ticks": "",
           "title": {
            "standoff": 15
           },
           "zerolinecolor": "white",
           "zerolinewidth": 2
          }
         }
        },
        "xaxis": {
         "anchor": "y",
         "constrain": "domain",
         "domain": [
          0,
          1
         ],
         "scaleanchor": "y"
        },
        "yaxis": {
         "anchor": "x",
         "autorange": "reversed",
         "constrain": "domain",
         "domain": [
          0,
          1
         ]
        }
       }
      }
     },
     "metadata": {},
     "output_type": "display_data"
    }
   ],
   "source": [
    "px.imshow(to_numpy(example_logits[:, :-1].gather(-1, example_tokens[:, 1:, None])[..., 0]), color_continuous_midpoint=0.0, color_continuous_scale='RdBu', ).show()\n",
    "px.imshow(to_numpy((example_logits - example_logits.mean(-1, keepdim=True))[:, :-1].gather(-1, example_tokens[:, 1:, None])[..., 0]), color_continuous_midpoint=0.0, color_continuous_scale='RdBu', ).show()\n",
    "px.imshow(to_numpy(F.log_softmax(example_logits, dim=-1)[:, :-1].gather(-1, example_tokens[:, 1:, None])[..., 0]), color_continuous_midpoint=0.0, color_continuous_scale='RdBu', )"
   ]
  },
  {
   "cell_type": "code",
   "execution_count": null,
   "metadata": {},
   "outputs": [
    {
     "data": {
      "text/plain": [
       "tensor(3.4714, device='cuda:0', grad_fn=<NegBackward0>)"
      ]
     },
     "execution_count": null,
     "metadata": {},
     "output_type": "execute_result"
    }
   ],
   "source": [
    "from easy_transformer.utils import lm_cross_entropy_loss\n",
    "\n",
    "\n",
    "lm_cross_entropy_loss(example_logits[:, seq_len+2:-1], example_tokens[:, seq_len+3:])"
   ]
  },
  {
   "cell_type": "code",
   "execution_count": null,
   "metadata": {},
   "outputs": [],
   "source": []
  }
 ],
 "metadata": {
  "kernelspec": {
   "display_name": "Python 3 (ipykernel)",
   "language": "python",
   "name": "python3"
  }
 },
 "nbformat": 4,
 "nbformat_minor": 2
}
